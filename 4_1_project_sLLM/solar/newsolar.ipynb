{
 "cells": [
  {
   "cell_type": "markdown",
   "metadata": {
    "id": "85636527-d0a6-4d46-9481-8f9f5d9c657b"
   },
   "source": [
    "## Import"
   ]
  },
  {
   "cell_type": "code",
   "execution_count": 1,
   "metadata": {
    "id": "146d3550-a0d9-4602-9c09-222953286b66"
   },
   "outputs": [],
   "source": [
    "import os\n",
    "os.environ['CUDA_VISIBLE_DEVICES'] = '1,2' # nvidia-smi로 비어있는 gpu 확인하고 여기서 선택할것!\n",
    "import pandas as pd\n",
    "import numpy as np\n",
    "import torch\n",
    "from transformers import  AdamW\n",
    "from tqdm import tqdm"
   ]
  },
  {
   "cell_type": "code",
   "execution_count": 2,
   "metadata": {
    "colab": {
     "base_uri": "https://localhost:8080/"
    },
    "executionInfo": {
     "elapsed": 3,
     "status": "ok",
     "timestamp": 1709619382334,
     "user": {
      "displayName": "‍김립(대학원생-비즈니스IT전공)",
      "userId": "16545082174963395798"
     },
     "user_tz": -540
    },
    "id": "2eccd5e3",
    "outputId": "d069d3d9-fa9c-4546-a4a5-b264c9ac1c65"
   },
   "outputs": [
    {
     "name": "stdout",
     "output_type": "stream",
     "text": [
      "Using device: cuda\n"
     ]
    }
   ],
   "source": [
    "# CUDA 사용 가능 여부 확인\n",
    "device = torch.device(\"cuda\" if torch.cuda.is_available() else \"cpu\")\n",
    "print(f\"Using device: {device}\")"
   ]
  },
  {
   "cell_type": "code",
   "execution_count": 3,
   "metadata": {
    "id": "c4a26bda"
   },
   "outputs": [],
   "source": [
    "from peft import (\n",
    "    get_peft_config,\n",
    "    get_peft_model,\n",
    "    get_peft_model_state_dict,\n",
    "    set_peft_model_state_dict,\n",
    "    LoraConfig,\n",
    "    PeftType,\n",
    "    PrefixTuningConfig,\n",
    "    PromptEncoderConfig,\n",
    "    PeftModel,\n",
    "    PeftConfig,\n",
    ")\n",
    "\n",
    "peft_type = PeftType.LORA\n",
    "peft_config = LoraConfig(\n",
    "    r=8,\n",
    "    lora_alpha=32,\n",
    "    target_modules=[\n",
    "    \"q_proj\",\n",
    "    \"up_proj\",\n",
    "    \"o_proj\",\n",
    "    \"k_proj\",\n",
    "    \"down_proj\",\n",
    "    \"gate_proj\",\n",
    "    \"v_proj\"],\n",
    "    lora_dropout=0.05,\n",
    "    bias=\"none\",\n",
    "    task_type=\"CAUSAL_LM\"\n",
    ")\n"
   ]
  },
  {
   "cell_type": "markdown",
   "metadata": {
    "id": "b9900567-97b6-45ee-a00b-813035d9eb26"
   },
   "source": [
    "## Data Preprocessing"
   ]
  },
  {
   "cell_type": "code",
   "execution_count": 4,
   "metadata": {
    "id": "HydwYqseQl9i"
   },
   "outputs": [],
   "source": [
    "import pandas as pd\n",
    "import numpy as np\n",
    "import torch\n",
    "import transformers\n",
    "import bitsandbytes as bnb\n",
    "import os\n",
    "# import wandb\n",
    "\n",
    "from transformers import PreTrainedTokenizerFast, AdamW, AutoModelForCausalLM, BitsAndBytesConfig, AutoTokenizer\n",
    "from peft import prepare_model_for_kbit_training, LoraConfig, get_peft_model\n",
    "from tqdm import tqdm\n",
    "\n",
    "#os.environ[\"TOKENIZERS_PARALLELISM\"] = \"true\"\n",
    "#torch.backends.cuda.matmul.allow_tf32=True\n",
    "#torch.set_float32_matmul_precision('medium')\n",
    "#torch.backends.cudnn.benchmark = True"
   ]
  },
  {
   "cell_type": "code",
   "execution_count": 6,
   "metadata": {
    "colab": {
     "base_uri": "https://localhost:8080/",
     "height": 584,
     "referenced_widgets": [
      "3a76096fc3ae4c0cb482d39f57220ce0",
      "459a1edbbd5f4bad9af130422339e918",
      "936f51bc4dfe4f99a445826f2a60e064",
      "16daf252a818476290ae72cf1dcc8ff9",
      "c1b818dbe9114a1e85fe9e81befade1e",
      "e2c2df69ec9c461daad857970be3f0b1",
      "34e69da9e2b14c599b172befdb2b8f38",
      "02e2db23f6fb499aaf0810ce76500ab5",
      "cfc22386809c440a99120d24765d566b",
      "f1f41d395e164c908c0a8f5a34f49c3f",
      "15d389096d844ad9b96a6ed9c10da296",
      "1243acd5d35143d6ac5791e67be1e275",
      "6842992eebb947839f14165a5440c7d0",
      "d1efdf1bf3ab4a548f628d8caee8dee3",
      "7cf6a84069d94ba7bef11b8bf5ba4fbb",
      "7df4653f301e4be084e717c2fa73c136",
      "51b93cc12034422da97e70b0ed953ae7",
      "e528bbe15b68431cb582cd27975d27ca",
      "17920fb2a51742cc8df380d3fc3d56c3",
      "6eeb982310804fb6869c990c7ce5a6cc",
      "4cf59c92a6c948bbb6bd31424b0873b8",
      "cc318daf0e1845f1b0b0a499c26ef3db",
      "b5261aa225d64014bb4847a030a9e22f",
      "29380c44b0dd4a07956deee540ccc329",
      "71d2b803181c45aca50e34b73275da7e",
      "746fee9d4f674a57b80747dcbdb88002",
      "91dda6473ced48929ecaef994e6bd20d",
      "57fbe87de0ec4e7d9872d69dbbc501d3",
      "6bb59718a9544a7aacaef05d9e717350",
      "444fb751dda04e41851d78f52f5c4b93",
      "cfaf2e64d6884bcf9ae46e4b2d04a0e0",
      "7bc06553a01a4c33a7f61777dc94880d",
      "0649385ab0ab4b58a2162fe09dcef20a",
      "3ba1d996d314415db919ce22e6fb8685",
      "8081884816b64f82b43e99ca10074895",
      "9950cad8d12447ecaa69bf2c3ce3f910",
      "ea6e3f3f14984528a59509a0a0195118",
      "d1e36e25ed7c46fd84edca1f8741cb56",
      "6c0146f14ad04cc895114aae978c2833",
      "9d3770f94cec41629b0097aa405b1080",
      "c64fe1b4b06b44da85a10b16bec3c170",
      "a1f48f4bb6264aa48c12e688d5c29724",
      "f369523a439b486fb8113b79f6d3b3eb",
      "49c4d5467eac41f79f4a162238ff8d2f",
      "01e1dc453d42411e80ab2a240d84113b",
      "0393b393a76047c6800ddc1ff863b3aa",
      "e0f6c532ec614122ad786ec414f4a189",
      "6e202a235b77436c9000a03d0d31fda0",
      "be31f9b656ee46bbbf915f2f573c2814",
      "dbdc711d088e44ec937a7aa570c028ac",
      "b6ebb153d62046a387dd01e2797b6d95",
      "a2bd3a539c7f4ff79523a455b75fdd1e",
      "94f4ec177b3347ed81bd723a1bf1bdef",
      "8401914f728249c0b3242df80e58a8f5",
      "c06b164309c349c7b4675134f3941bae",
      "eeb176b61ca14ea2aebba93a3a2b5c24",
      "607ec24c79164ac5b098481cd60b7441",
      "157d6f3e76824e008b791574b43cb9b7",
      "e9ad4078521740dbbfe8aa4e00ac3775",
      "987996a8493148c7a2c8ce2154028f42",
      "3956667ef5094389a7afdc83f9d3d096",
      "9fd06488b35b419799cc5561a91fcdbf",
      "dd5e16e50c2a4576adfbce3789a54f73",
      "2af2133caf0948d7aba67485e0c2b19a",
      "0654a379a6f941c3bbcfcf33a3e86837",
      "d4495b0bd5364b2d88eccf650d363dc3",
      "0b0c662d8d0341bdab0d6f6e1480f30b",
      "954c86c66ba2465aaaff53902400288f",
      "87c37e0df5c14857bae7c9bc37e96f07",
      "83d293e18a52428c8b1ad143e41bf3d8",
      "27e3ab0eea72452db5ee2e9a20840007",
      "65b9084e8c394c3da7aebe8fd76a45e2",
      "a756263e6f8e46f39a31fd45546ca257",
      "94b7efceaacd45e09ca65e7a8f91ee40",
      "2c83f6a2e5d84185883153a58bbacc6a",
      "4291d204e7c24a1ca711a994bda197e4",
      "d8f9cc9f07324359b098340706d9f73d",
      "2cd20ac9e97c42f09e819f72d725ba80",
      "bc7b42b118af48ff9e29bbd300f536d8",
      "73126f088e5a46fca9e3c8a0f398c84b",
      "bcd4260895504000bfa69e00fdb5626d",
      "e396c86b88cb423abdefe259a0abfa12",
      "aeb3a0074308419c9c539f5a0e4240ac",
      "3a128b25cff04791bd2ae0880dc2c1c7",
      "b9c3827f09364c3e8702ef26b11dffb4",
      "547c00cb6d8c4de5b7ca34e72a2cd57b",
      "a1660565c7cb44c0a201d02a8acf29d1",
      "bd54561fdd784fd0a58633b5851ff296",
      "b8ec2ecbf1814ce395c7032e877f06ce",
      "b4583f3eaf5747e28cae4e6d50033357",
      "fa7afc9a92444aa781c5d0d78c987411",
      "b7915e97ef8a47ab8a583f128aed52ac",
      "d88cac34c04147ba969c794850e0ffff",
      "beb001139eaa4ced9694fe94b4fda0c4",
      "018b8d456bd84bf5b12afab28644c2f8",
      "db7e5ff58891416fb320274fee72eed8",
      "c96e63f94e6646feaabec81ee16a130c",
      "2e96da535f0c428eb47d6a68ddb8e8aa",
      "64fc4d66d6614a89b400077c5bf353f4",
      "0142e3aafffb4468bf82903480de0760",
      "975360819f7a41199124eaa917fc93ad",
      "7572b2fa7e4a41d299c7fdaa9ffa2676",
      "380c5d2fecfc4b7eb3a378bc37f7344c",
      "fbfc8ba92e724d829f536b60ee8312d4",
      "38e3f2ff1e18479eb8f16415048f4e66",
      "167eae550202416ab461cb7ed79a4caf",
      "054851b3ed794fa3aab9d82182fb0fa3",
      "fb1b2bfe7d8842e3b51be1268aa96b7e",
      "bf29b3ab1d96486897e8d4c12dd555e3",
      "34baeb8377ad4a308ee286792bfbcdec",
      "98d072f9a42d4dc085bab1e8b603d335",
      "ee4baebd3d704f7fa75fead6df1e0669",
      "aea8f6814b87458ba9a0ea516e9f942c",
      "3681aa7adda24874804da7d0cbde76be",
      "b1c740fc915943fc931771fab59cb42a",
      "60b824031a374f05a54032044dab005a",
      "fb09541b50954033ae27448a75bf16a9",
      "f2b5590b4c6341d5b89248700e441755",
      "ad37a02e318e472387568ba3ef2e119a",
      "26fc8f6cedfc4255b04f87caedd6900f",
      "90a76d3cbbfd44f0b4dc889ee83e129e",
      "29e121fc596847c78391d15226dd62c3",
      "593e9733688844a9a2382c5fc5a3c2a4",
      "a2432c8ba04e4a77a6188341c65c7496",
      "6756a38a52d04a53bfbfd8615770e5d6",
      "af3c2e8d04b04a09bace8449d5be6e11",
      "803032ff61dc448898945f1ac0bffb03",
      "24764b1921814573be6755e74aa9ca96",
      "2243fdc38de346fb96b0b1361df59360",
      "08e4bf36fbbb42e083347341ee26cef2",
      "831921511e7e41558d12276a1d0c3e4b",
      "499c68f8c07a4b11871e2d7d425c9de7",
      "7572c8ca101342e39fd95f4ef8edf80c",
      "c2265e146c384aa88dfc2e551456782b",
      "15e6e4e39279433e840335f021fce030",
      "07ba50a540994f4b89807ea7227dbe40",
      "cd017f2120dc4242a0bc0e876e2a7e78",
      "1c6609c52a8e41e8abeba538585f9c02",
      "94ea140aebde485bb5d21c2151223363",
      "4bbda802cf304345bc610aebfbe59547",
      "a8339f7e3253434d8e01cb5efb560f3a",
      "ea63254634964f1a83d8cc8139213d3a",
      "626cc36d5a784bb8aab58dec2071da47"
     ]
    },
    "executionInfo": {
     "elapsed": 214425,
     "status": "ok",
     "timestamp": 1709619599813,
     "user": {
      "displayName": "‍김립(대학원생-비즈니스IT전공)",
      "userId": "16545082174963395798"
     },
     "user_tz": -540
    },
    "id": "8bIDJ8oHS1yC",
    "outputId": "599efd87-9446-4dcd-880e-9d2561937c66"
   },
   "outputs": [
    {
     "data": {
      "application/vnd.jupyter.widget-view+json": {
       "model_id": "1f6b5a68182240ab82d5ab52a13ac023",
       "version_major": 2,
       "version_minor": 0
      },
      "text/plain": [
       "tokenizer_config.json:   0%|          | 0.00/2.53M [00:00<?, ?B/s]"
      ]
     },
     "metadata": {},
     "output_type": "display_data"
    },
    {
     "data": {
      "application/vnd.jupyter.widget-view+json": {
       "model_id": "d056983eec9c4c19a083905ac93a02d9",
       "version_major": 2,
       "version_minor": 0
      },
      "text/plain": [
       "tokenizer.json:   0%|          | 0.00/5.17M [00:00<?, ?B/s]"
      ]
     },
     "metadata": {},
     "output_type": "display_data"
    },
    {
     "data": {
      "application/vnd.jupyter.widget-view+json": {
       "model_id": "a6568ea3242149e79c48b81bdf09c6d7",
       "version_major": 2,
       "version_minor": 0
      },
      "text/plain": [
       "special_tokens_map.json:   0%|          | 0.00/414 [00:00<?, ?B/s]"
      ]
     },
     "metadata": {},
     "output_type": "display_data"
    },
    {
     "data": {
      "application/vnd.jupyter.widget-view+json": {
       "model_id": "ae78e8d5439b4085aa24edc9b4dadf49",
       "version_major": 2,
       "version_minor": 0
      },
      "text/plain": [
       "config.json:   0%|          | 0.00/578 [00:00<?, ?B/s]"
      ]
     },
     "metadata": {},
     "output_type": "display_data"
    },
    {
     "data": {
      "application/vnd.jupyter.widget-view+json": {
       "model_id": "4147e57c86274a41a81700e4e2429695",
       "version_major": 2,
       "version_minor": 0
      },
      "text/plain": [
       "model.safetensors.index.json:   0%|          | 0.00/40.1k [00:00<?, ?B/s]"
      ]
     },
     "metadata": {},
     "output_type": "display_data"
    },
    {
     "data": {
      "application/vnd.jupyter.widget-view+json": {
       "model_id": "b0a56a5300b44bffb9c84cfaa4a3027b",
       "version_major": 2,
       "version_minor": 0
      },
      "text/plain": [
       "Downloading shards:   0%|          | 0/23 [00:00<?, ?it/s]"
      ]
     },
     "metadata": {},
     "output_type": "display_data"
    },
    {
     "data": {
      "application/vnd.jupyter.widget-view+json": {
       "model_id": "a475f7f5d22a4e50942e72ab2ab077c2",
       "version_major": 2,
       "version_minor": 0
      },
      "text/plain": [
       "model-00001-of-00023.safetensors:   0%|          | 0.00/900M [00:00<?, ?B/s]"
      ]
     },
     "metadata": {},
     "output_type": "display_data"
    },
    {
     "data": {
      "application/vnd.jupyter.widget-view+json": {
       "model_id": "94b9c1ecdc884691b28b7a6881b95f90",
       "version_major": 2,
       "version_minor": 0
      },
      "text/plain": [
       "model-00002-of-00023.safetensors:   0%|          | 0.00/990M [00:00<?, ?B/s]"
      ]
     },
     "metadata": {},
     "output_type": "display_data"
    },
    {
     "data": {
      "application/vnd.jupyter.widget-view+json": {
       "model_id": "8a97bd8f11e14e72b5b4c17dd5c28d39",
       "version_major": 2,
       "version_minor": 0
      },
      "text/plain": [
       "model-00003-of-00023.safetensors:   0%|          | 0.00/990M [00:00<?, ?B/s]"
      ]
     },
     "metadata": {},
     "output_type": "display_data"
    },
    {
     "data": {
      "application/vnd.jupyter.widget-view+json": {
       "model_id": "41e49b3e3fd04a0dad01743fe99a7b91",
       "version_major": 2,
       "version_minor": 0
      },
      "text/plain": [
       "model-00004-of-00023.safetensors:   0%|          | 0.00/990M [00:00<?, ?B/s]"
      ]
     },
     "metadata": {},
     "output_type": "display_data"
    },
    {
     "data": {
      "application/vnd.jupyter.widget-view+json": {
       "model_id": "63c56c6b96434fbc9ecc0610e60c2a1b",
       "version_major": 2,
       "version_minor": 0
      },
      "text/plain": [
       "model-00005-of-00023.safetensors:   0%|          | 0.00/956M [00:00<?, ?B/s]"
      ]
     },
     "metadata": {},
     "output_type": "display_data"
    },
    {
     "data": {
      "application/vnd.jupyter.widget-view+json": {
       "model_id": "ffd739fb7ec34eef8c91635a8cb1ad9c",
       "version_major": 2,
       "version_minor": 0
      },
      "text/plain": [
       "model-00006-of-00023.safetensors:   0%|          | 0.00/990M [00:00<?, ?B/s]"
      ]
     },
     "metadata": {},
     "output_type": "display_data"
    },
    {
     "data": {
      "application/vnd.jupyter.widget-view+json": {
       "model_id": "01a577e8f6a647b1a5f4255c2ede14ea",
       "version_major": 2,
       "version_minor": 0
      },
      "text/plain": [
       "model-00007-of-00023.safetensors:   0%|          | 0.00/990M [00:00<?, ?B/s]"
      ]
     },
     "metadata": {},
     "output_type": "display_data"
    },
    {
     "data": {
      "application/vnd.jupyter.widget-view+json": {
       "model_id": "914da72076ae49eb8abbad1699ad5687",
       "version_major": 2,
       "version_minor": 0
      },
      "text/plain": [
       "model-00008-of-00023.safetensors:   0%|          | 0.00/990M [00:00<?, ?B/s]"
      ]
     },
     "metadata": {},
     "output_type": "display_data"
    },
    {
     "data": {
      "application/vnd.jupyter.widget-view+json": {
       "model_id": "a590465aafe9466a9cbd034e5986e7b4",
       "version_major": 2,
       "version_minor": 0
      },
      "text/plain": [
       "model-00009-of-00023.safetensors:   0%|          | 0.00/956M [00:00<?, ?B/s]"
      ]
     },
     "metadata": {},
     "output_type": "display_data"
    },
    {
     "data": {
      "application/vnd.jupyter.widget-view+json": {
       "model_id": "2dea08d36a514415b250ab44cb85ba40",
       "version_major": 2,
       "version_minor": 0
      },
      "text/plain": [
       "model-00010-of-00023.safetensors:   0%|          | 0.00/990M [00:00<?, ?B/s]"
      ]
     },
     "metadata": {},
     "output_type": "display_data"
    },
    {
     "data": {
      "application/vnd.jupyter.widget-view+json": {
       "model_id": "27938f6d3f0b415186fbb33ef68445af",
       "version_major": 2,
       "version_minor": 0
      },
      "text/plain": [
       "model-00011-of-00023.safetensors:   0%|          | 0.00/990M [00:00<?, ?B/s]"
      ]
     },
     "metadata": {},
     "output_type": "display_data"
    },
    {
     "data": {
      "application/vnd.jupyter.widget-view+json": {
       "model_id": "3abb4d4f31ce475d8722b6a573d99180",
       "version_major": 2,
       "version_minor": 0
      },
      "text/plain": [
       "model-00012-of-00023.safetensors:   0%|          | 0.00/990M [00:00<?, ?B/s]"
      ]
     },
     "metadata": {},
     "output_type": "display_data"
    },
    {
     "data": {
      "application/vnd.jupyter.widget-view+json": {
       "model_id": "1627e78d9a314b5497d023616c8412d9",
       "version_major": 2,
       "version_minor": 0
      },
      "text/plain": [
       "model-00013-of-00023.safetensors:   0%|          | 0.00/956M [00:00<?, ?B/s]"
      ]
     },
     "metadata": {},
     "output_type": "display_data"
    },
    {
     "data": {
      "application/vnd.jupyter.widget-view+json": {
       "model_id": "a098cafc6ae448e897b9ee42a6b6cdc4",
       "version_major": 2,
       "version_minor": 0
      },
      "text/plain": [
       "model-00014-of-00023.safetensors:   0%|          | 0.00/990M [00:00<?, ?B/s]"
      ]
     },
     "metadata": {},
     "output_type": "display_data"
    },
    {
     "data": {
      "application/vnd.jupyter.widget-view+json": {
       "model_id": "68f5cb814a03469fb66bc3f8ddcb7c6d",
       "version_major": 2,
       "version_minor": 0
      },
      "text/plain": [
       "model-00015-of-00023.safetensors:   0%|          | 0.00/990M [00:00<?, ?B/s]"
      ]
     },
     "metadata": {},
     "output_type": "display_data"
    },
    {
     "data": {
      "application/vnd.jupyter.widget-view+json": {
       "model_id": "c41d5db8e444472bba6a2c92f0ca1353",
       "version_major": 2,
       "version_minor": 0
      },
      "text/plain": [
       "model-00016-of-00023.safetensors:   0%|          | 0.00/990M [00:00<?, ?B/s]"
      ]
     },
     "metadata": {},
     "output_type": "display_data"
    },
    {
     "data": {
      "application/vnd.jupyter.widget-view+json": {
       "model_id": "48c1595043b247da82ec4fc9b5a5a313",
       "version_major": 2,
       "version_minor": 0
      },
      "text/plain": [
       "model-00017-of-00023.safetensors:   0%|          | 0.00/956M [00:00<?, ?B/s]"
      ]
     },
     "metadata": {},
     "output_type": "display_data"
    },
    {
     "data": {
      "application/vnd.jupyter.widget-view+json": {
       "model_id": "9e6f58d52233441096c14de0d685f44f",
       "version_major": 2,
       "version_minor": 0
      },
      "text/plain": [
       "model-00018-of-00023.safetensors:   0%|          | 0.00/990M [00:00<?, ?B/s]"
      ]
     },
     "metadata": {},
     "output_type": "display_data"
    },
    {
     "data": {
      "application/vnd.jupyter.widget-view+json": {
       "model_id": "afed5dfcd62a4cbe825f431a4e98b1d2",
       "version_major": 2,
       "version_minor": 0
      },
      "text/plain": [
       "model-00019-of-00023.safetensors:   0%|          | 0.00/990M [00:00<?, ?B/s]"
      ]
     },
     "metadata": {},
     "output_type": "display_data"
    },
    {
     "data": {
      "application/vnd.jupyter.widget-view+json": {
       "model_id": "c2067e8b37724fec833ba217614588ae",
       "version_major": 2,
       "version_minor": 0
      },
      "text/plain": [
       "model-00020-of-00023.safetensors:   0%|          | 0.00/990M [00:00<?, ?B/s]"
      ]
     },
     "metadata": {},
     "output_type": "display_data"
    },
    {
     "data": {
      "application/vnd.jupyter.widget-view+json": {
       "model_id": "5f2e0bd1d5eb4a899b9e2e5f6c6edf6a",
       "version_major": 2,
       "version_minor": 0
      },
      "text/plain": [
       "model-00021-of-00023.safetensors:   0%|          | 0.00/956M [00:00<?, ?B/s]"
      ]
     },
     "metadata": {},
     "output_type": "display_data"
    },
    {
     "data": {
      "application/vnd.jupyter.widget-view+json": {
       "model_id": "dfd713cbe6204f7888ddb2e51e924325",
       "version_major": 2,
       "version_minor": 0
      },
      "text/plain": [
       "model-00022-of-00023.safetensors:   0%|          | 0.00/789M [00:00<?, ?B/s]"
      ]
     },
     "metadata": {},
     "output_type": "display_data"
    },
    {
     "data": {
      "application/vnd.jupyter.widget-view+json": {
       "model_id": "af8880d0ecf8434d9e737f5d7bca7cfc",
       "version_major": 2,
       "version_minor": 0
      },
      "text/plain": [
       "model-00023-of-00023.safetensors:   0%|          | 0.00/380M [00:00<?, ?B/s]"
      ]
     },
     "metadata": {},
     "output_type": "display_data"
    },
    {
     "data": {
      "application/vnd.jupyter.widget-view+json": {
       "model_id": "fb756738f4a945c59b085eb847023a68",
       "version_major": 2,
       "version_minor": 0
      },
      "text/plain": [
       "Loading checkpoint shards:   0%|          | 0/23 [00:00<?, ?it/s]"
      ]
     },
     "metadata": {},
     "output_type": "display_data"
    },
    {
     "data": {
      "application/vnd.jupyter.widget-view+json": {
       "model_id": "81c9188d06324d5498650a9fcbbfe083",
       "version_major": 2,
       "version_minor": 0
      },
      "text/plain": [
       "generation_config.json:   0%|          | 0.00/132 [00:00<?, ?B/s]"
      ]
     },
     "metadata": {},
     "output_type": "display_data"
    }
   ],
   "source": [
    "import torch\n",
    "from transformers import AutoTokenizer, AutoModelForCausalLM, BitsAndBytesConfig\n",
    "\n",
    "model_id = \"beomi/SOLAR-KOEN-10.8B\"\n",
    "bnb_config = BitsAndBytesConfig(\n",
    "    load_in_4bit=True,\n",
    "    bnb_4bit_use_double_quant=True,\n",
    "    bnb_4bit_quant_type=\"nf4\",\n",
    "    bnb_4bit_compute_dtype=torch.float16\n",
    ")\n",
    "\n",
    "tokenizer = AutoTokenizer.from_pretrained(model_id, trust_remote_code=True,eos_token='</s>')\n",
    "tokenizer.pad_token = tokenizer.eos_token\n",
    "tokenizer.padding_side = \"right\"\n",
    "model = AutoModelForCausalLM.from_pretrained(model_id, quantization_config=bnb_config, device_map={\"\":0})\n",
    "model.gradient_checkpointing_enable()\n",
    "model = prepare_model_for_kbit_training(model)"
   ]
  },
  {
   "cell_type": "code",
   "execution_count": 7,
   "metadata": {
    "colab": {
     "base_uri": "https://localhost:8080/"
    },
    "collapsed": true,
    "executionInfo": {
     "elapsed": 555,
     "status": "ok",
     "timestamp": 1709619600366,
     "user": {
      "displayName": "‍김립(대학원생-비즈니스IT전공)",
      "userId": "16545082174963395798"
     },
     "user_tz": -540
    },
    "id": "a797e658",
    "jupyter": {
     "outputs_hidden": true
    },
    "outputId": "10397fc7-ff87-474a-b439-cfc785e88080"
   },
   "outputs": [
    {
     "name": "stdout",
     "output_type": "stream",
     "text": [
      "trainable params: 31,457,280 || all params: 10,880,421,888 || trainable%: 0.28911820078129674\n"
     ]
    },
    {
     "data": {
      "text/plain": [
       "PeftModelForCausalLM(\n",
       "  (base_model): LoraModel(\n",
       "    (model): LlamaForCausalLM(\n",
       "      (model): LlamaModel(\n",
       "        (embed_tokens): Embedding(46336, 4096, padding_idx=0)\n",
       "        (layers): ModuleList(\n",
       "          (0-47): 48 x LlamaDecoderLayer(\n",
       "            (self_attn): LlamaSdpaAttention(\n",
       "              (q_proj): lora.Linear4bit(\n",
       "                (base_layer): Linear4bit(in_features=4096, out_features=4096, bias=False)\n",
       "                (lora_dropout): ModuleDict(\n",
       "                  (default): Dropout(p=0.05, inplace=False)\n",
       "                )\n",
       "                (lora_A): ModuleDict(\n",
       "                  (default): Linear(in_features=4096, out_features=8, bias=False)\n",
       "                )\n",
       "                (lora_B): ModuleDict(\n",
       "                  (default): Linear(in_features=8, out_features=4096, bias=False)\n",
       "                )\n",
       "                (lora_embedding_A): ParameterDict()\n",
       "                (lora_embedding_B): ParameterDict()\n",
       "              )\n",
       "              (k_proj): lora.Linear4bit(\n",
       "                (base_layer): Linear4bit(in_features=4096, out_features=1024, bias=False)\n",
       "                (lora_dropout): ModuleDict(\n",
       "                  (default): Dropout(p=0.05, inplace=False)\n",
       "                )\n",
       "                (lora_A): ModuleDict(\n",
       "                  (default): Linear(in_features=4096, out_features=8, bias=False)\n",
       "                )\n",
       "                (lora_B): ModuleDict(\n",
       "                  (default): Linear(in_features=8, out_features=1024, bias=False)\n",
       "                )\n",
       "                (lora_embedding_A): ParameterDict()\n",
       "                (lora_embedding_B): ParameterDict()\n",
       "              )\n",
       "              (v_proj): lora.Linear4bit(\n",
       "                (base_layer): Linear4bit(in_features=4096, out_features=1024, bias=False)\n",
       "                (lora_dropout): ModuleDict(\n",
       "                  (default): Dropout(p=0.05, inplace=False)\n",
       "                )\n",
       "                (lora_A): ModuleDict(\n",
       "                  (default): Linear(in_features=4096, out_features=8, bias=False)\n",
       "                )\n",
       "                (lora_B): ModuleDict(\n",
       "                  (default): Linear(in_features=8, out_features=1024, bias=False)\n",
       "                )\n",
       "                (lora_embedding_A): ParameterDict()\n",
       "                (lora_embedding_B): ParameterDict()\n",
       "              )\n",
       "              (o_proj): lora.Linear4bit(\n",
       "                (base_layer): Linear4bit(in_features=4096, out_features=4096, bias=False)\n",
       "                (lora_dropout): ModuleDict(\n",
       "                  (default): Dropout(p=0.05, inplace=False)\n",
       "                )\n",
       "                (lora_A): ModuleDict(\n",
       "                  (default): Linear(in_features=4096, out_features=8, bias=False)\n",
       "                )\n",
       "                (lora_B): ModuleDict(\n",
       "                  (default): Linear(in_features=8, out_features=4096, bias=False)\n",
       "                )\n",
       "                (lora_embedding_A): ParameterDict()\n",
       "                (lora_embedding_B): ParameterDict()\n",
       "              )\n",
       "              (rotary_emb): LlamaRotaryEmbedding()\n",
       "            )\n",
       "            (mlp): LlamaMLP(\n",
       "              (gate_proj): lora.Linear4bit(\n",
       "                (base_layer): Linear4bit(in_features=4096, out_features=14336, bias=False)\n",
       "                (lora_dropout): ModuleDict(\n",
       "                  (default): Dropout(p=0.05, inplace=False)\n",
       "                )\n",
       "                (lora_A): ModuleDict(\n",
       "                  (default): Linear(in_features=4096, out_features=8, bias=False)\n",
       "                )\n",
       "                (lora_B): ModuleDict(\n",
       "                  (default): Linear(in_features=8, out_features=14336, bias=False)\n",
       "                )\n",
       "                (lora_embedding_A): ParameterDict()\n",
       "                (lora_embedding_B): ParameterDict()\n",
       "              )\n",
       "              (up_proj): lora.Linear4bit(\n",
       "                (base_layer): Linear4bit(in_features=4096, out_features=14336, bias=False)\n",
       "                (lora_dropout): ModuleDict(\n",
       "                  (default): Dropout(p=0.05, inplace=False)\n",
       "                )\n",
       "                (lora_A): ModuleDict(\n",
       "                  (default): Linear(in_features=4096, out_features=8, bias=False)\n",
       "                )\n",
       "                (lora_B): ModuleDict(\n",
       "                  (default): Linear(in_features=8, out_features=14336, bias=False)\n",
       "                )\n",
       "                (lora_embedding_A): ParameterDict()\n",
       "                (lora_embedding_B): ParameterDict()\n",
       "              )\n",
       "              (down_proj): lora.Linear4bit(\n",
       "                (base_layer): Linear4bit(in_features=14336, out_features=4096, bias=False)\n",
       "                (lora_dropout): ModuleDict(\n",
       "                  (default): Dropout(p=0.05, inplace=False)\n",
       "                )\n",
       "                (lora_A): ModuleDict(\n",
       "                  (default): Linear(in_features=14336, out_features=8, bias=False)\n",
       "                )\n",
       "                (lora_B): ModuleDict(\n",
       "                  (default): Linear(in_features=8, out_features=4096, bias=False)\n",
       "                )\n",
       "                (lora_embedding_A): ParameterDict()\n",
       "                (lora_embedding_B): ParameterDict()\n",
       "              )\n",
       "              (act_fn): SiLU()\n",
       "            )\n",
       "            (input_layernorm): LlamaRMSNorm()\n",
       "            (post_attention_layernorm): LlamaRMSNorm()\n",
       "          )\n",
       "        )\n",
       "        (norm): LlamaRMSNorm()\n",
       "      )\n",
       "      (lm_head): Linear(in_features=4096, out_features=46336, bias=False)\n",
       "    )\n",
       "  )\n",
       ")"
      ]
     },
     "execution_count": 7,
     "metadata": {},
     "output_type": "execute_result"
    }
   ],
   "source": [
    "from peft import prepare_model_for_kbit_training\n",
    "\n",
    "model.gradient_checkpointing_enable()\n",
    "model = prepare_model_for_kbit_training(model)\n",
    "model = get_peft_model(model, peft_config).to(device)\n",
    "\n",
    "model.print_trainable_parameters()\n",
    "model\n"
   ]
  },
  {
   "cell_type": "code",
   "execution_count": 11,
   "metadata": {
    "colab": {
     "base_uri": "https://localhost:8080/"
    },
    "executionInfo": {
     "elapsed": 441,
     "status": "ok",
     "timestamp": 1709079764036,
     "user": {
      "displayName": "‍김립(대학원생-비즈니스IT전공)",
      "userId": "16545082174963395798"
     },
     "user_tz": -540
    },
    "id": "1e226f01",
    "outputId": "a8bfdffd-cbfe-4d64-d856-f5b858c1dd2e"
   },
   "outputs": [
    {
     "name": "stdout",
     "output_type": "stream",
     "text": [
      "                                                text\n",
      "0  [[tensor(1), tensor(774), tensor(31959), tenso...\n",
      "1  [[tensor(1), tensor(774), tensor(31959), tenso...\n",
      "2  [[tensor(1), tensor(774), tensor(31959), tenso...\n",
      "3  [[tensor(1), tensor(774), tensor(31959), tenso...\n",
      "4  [[tensor(1), tensor(774), tensor(31959), tenso...\n"
     ]
    }
   ],
   "source": [
    "import pandas as pd\n",
    "from tqdm import tqdm\n",
    "from datasets import load_dataset\n",
    "\n",
    "# 데이터 로드\n",
    "dataset = load_dataset(\"jojo0217/korean_safe_conversation\",split=\"train\")\n",
    "\n",
    "# 데이터 포맷팅 및 토크나이징\n",
    "formatted_data = []\n",
    "for row in dataset:\n",
    "    input_text = '###질문:' + row['instruction'] + '\\n\\n###답변:'+ row['output'] + tokenizer.eos_token\n",
    "    input_ids = tokenizer.encode(input_text, return_tensors='pt', padding='max_length', truncation=True, max_length=2048)\n",
    "    formatted_data.append(input_ids)\n"
   ]
  },
  {
   "cell_type": "code",
   "execution_count": 13,
   "metadata": {},
   "outputs": [],
   "source": []
  },
  {
   "cell_type": "code",
   "execution_count": 14,
   "metadata": {
    "colab": {
     "base_uri": "https://localhost:8080/"
    },
    "executionInfo": {
     "elapsed": 2,
     "status": "ok",
     "timestamp": 1709619889271,
     "user": {
      "displayName": "‍김립(대학원생-비즈니스IT전공)",
      "userId": "16545082174963395798"
     },
     "user_tz": -540
    },
    "id": "woGNNxeHWyM5",
    "outputId": "25006260-ac70-4942-c4cc-423efa73f01e"
   },
   "outputs": [
    {
     "name": "stdout",
     "output_type": "stream",
     "text": [
      "최대 길이: 1\n"
     ]
    }
   ],
   "source": []
  },
  {
   "cell_type": "code",
   "execution_count": 17,
   "metadata": {
    "colab": {
     "base_uri": "https://localhost:8080/",
     "height": 49,
     "referenced_widgets": [
      "938a2ecb0f5d4fdc9c459c9be5fdfa37",
      "b18b2b1ca8ed47e6884669dc5ce51f99",
      "f6516cdb63a34308a9a8812248cf5968",
      "b371bb36a1bb4ac08699d493f3a4a1fc",
      "c80aaa635df0431e877ec8f81df8ea9d",
      "3398c40436ff4e099b3bcb0593ad2bda",
      "f7bcb6cf78ae43669c26bc4d1cf10712",
      "2b11834c4d8442119804c2541df3ee62",
      "f58ebc81e1f349c8b1292a46e04ff133",
      "0935ddf650ef42e18b310412bc514245",
      "7913b94c1b32418087797e68c6d9ed54"
     ]
    },
    "executionInfo": {
     "elapsed": 447,
     "status": "ok",
     "timestamp": 1709619891967,
     "user": {
      "displayName": "‍김립(대학원생-비즈니스IT전공)",
      "userId": "16545082174963395798"
     },
     "user_tz": -540
    },
    "id": "630a2b6c",
    "outputId": "2d9e832a-bd0e-40cf-b385-21d24c143238"
   },
   "outputs": [],
   "source": []
  },
  {
   "cell_type": "code",
   "execution_count": 19,
   "metadata": {},
   "outputs": [
    {
     "data": {
      "text/plain": [
       "{'text': 'tensor([[    1,   774, 31959,  ...,     2,     2,     2]])'}"
      ]
     },
     "execution_count": 19,
     "metadata": {},
     "output_type": "execute_result"
    }
   ],
   "source": []
  },
  {
   "cell_type": "markdown",
   "metadata": {
    "id": "4105cb04-bc9c-4bb5-8230-cbd84f34d4fb"
   },
   "source": [
    "## Model Fine-tuning"
   ]
  },
  {
   "cell_type": "code",
   "execution_count": 21,
   "metadata": {
    "id": "285a0b21"
   },
   "outputs": [],
   "source": [
    "from transformers import DataCollatorForLanguageModeling\n",
    "\n",
    "tokenizer.pad_token = tokenizer.eos_token\n",
    "data_collator = DataCollatorForLanguageModeling(tokenizer, mlm=False)\n"
   ]
  },
  {
   "cell_type": "code",
   "execution_count": 24,
   "metadata": {
    "colab": {
     "base_uri": "https://localhost:8080/"
    },
    "executionInfo": {
     "elapsed": 939,
     "status": "ok",
     "timestamp": 1709619927708,
     "user": {
      "displayName": "‍김립(대학원생-비즈니스IT전공)",
      "userId": "16545082174963395798"
     },
     "user_tz": -540
    },
    "id": "001976b6",
    "outputId": "91fb8506-f165-4899-8b69-d623941a0d09"
   },
   "outputs": [
    {
     "name": "stderr",
     "output_type": "stream",
     "text": [
      "Detected kernel version 5.4.0, which is below the recommended minimum of 5.5.0; this can cause the process to hang. It is recommended to upgrade the kernel to the minimum version or higher.\n"
     ]
    }
   ],
   "source": [
    "from transformers import Trainer, TrainingArguments\n",
    "\n",
    "args = TrainingArguments(\n",
    "    output_dir='solar-ft',\n",
    "    logging_steps=1000,\n",
    "    per_device_train_batch_size=8,\n",
    "    # evaluation_strategy=\"steps\",\n",
    "    gradient_accumulation_steps=2,\n",
    "    num_train_epochs=2,\n",
    "    weight_decay=0.001,\n",
    "    # warmup_steps=10,\n",
    "    lr_scheduler_type=\"cosine\",\n",
    "    learning_rate=1e-4,\n",
    "    save_steps=10,\n",
    "    fp16=True,\n",
    "    optim=\"paged_adamw_8bit\"\n",
    ")\n",
    "\n",
    "\n",
    "trainer = Trainer(\n",
    "    model=model,\n",
    "    tokenizer=tokenizer,\n",
    "    args=args,\n",
    "    data_collator=data_collator,\n",
    "    train_dataset=formatted_data,\n",
    ")\n",
    "model.config.use_cache = False\n",
    "# model.config.pretraining_tp = 1"
   ]
  },
  {
   "cell_type": "markdown",
   "metadata": {},
   "source": [
    "# Test"
   ]
  },
  {
   "cell_type": "markdown",
   "metadata": {},
   "source": [
    "## Import"
   ]
  },
  {
   "cell_type": "code",
   "execution_count": null,
   "metadata": {},
   "outputs": [
    {
     "name": "stdout",
     "output_type": "stream",
     "text": [
      "Using device: cuda\n"
     ]
    }
   ],
   "source": [
    "# CUDA 사용 가능 여부 확인\n",
    "device = torch.device(\"cuda\" if torch.cuda.is_available() else \"cpu\")\n",
    "print(f\"Using device: {device}\")"
   ]
  },
  {
   "cell_type": "code",
   "execution_count": null,
   "metadata": {},
   "outputs": [],
   "source": [
    "from peft import (\n",
    "    get_peft_config,\n",
    "    get_peft_model,\n",
    "    get_peft_model_state_dict,\n",
    "    set_peft_model_state_dict,\n",
    "    LoraConfig,\n",
    "    PeftType,\n",
    "    PrefixTuningConfig,\n",
    "    PromptEncoderConfig,\n",
    "    PeftModel,\n",
    "    PeftConfig,\n",
    ")\n",
    "\n",
    "peft_type = PeftType.LORA\n",
    "peft_config = LoraConfig(\n",
    "    r=8,\n",
    "    lora_alpha=32,\n",
    "    target_modules=[\n",
    "    \"q_proj\",\n",
    "    \"up_proj\",\n",
    "    \"o_proj\",\n",
    "    \"k_proj\",\n",
    "    \"down_proj\",\n",
    "    \"gate_proj\",\n",
    "    \"v_proj\"],\n",
    "    lora_dropout=0.05,\n",
    "    bias=\"none\",\n",
    "    task_type=\"CAUSAL_LM\"\n",
    ")\n"
   ]
  },
  {
   "cell_type": "markdown",
   "metadata": {},
   "source": [
    "## Data Preprocessing"
   ]
  },
  {
   "cell_type": "code",
   "execution_count": null,
   "metadata": {},
   "outputs": [],
   "source": [
    "import pandas as pd\n",
    "import numpy as np\n",
    "import torch\n",
    "import transformers\n",
    "import bitsandbytes as bnb\n",
    "import os\n",
    "# import wandb\n",
    "\n",
    "from transformers import PreTrainedTokenizerFast, AdamW, AutoModelForCausalLM, BitsAndBytesConfig, AutoTokenizer\n",
    "from peft import prepare_model_for_kbit_training, LoraConfig, get_peft_model\n",
    "from tqdm import tqdm\n",
    "\n",
    "#os.environ[\"TOKENIZERS_PARALLELISM\"] = \"true\"\n",
    "#torch.backends.cuda.matmul.allow_tf32=True\n",
    "#torch.set_float32_matmul_precision('medium')\n",
    "#torch.backends.cudnn.benchmark = True"
   ]
  },
  {
   "cell_type": "code",
   "execution_count": null,
   "metadata": {},
   "outputs": [
    {
     "name": "stderr",
     "output_type": "stream",
     "text": [
      "/usr/local/lib/python3.10/dist-packages/huggingface_hub/utils/_token.py:88: UserWarning: \n",
      "The secret `HF_TOKEN` does not exist in your Colab secrets.\n",
      "To authenticate with the Hugging Face Hub, create a token in your settings tab (https://huggingface.co/settings/tokens), set it as secret in your Google Colab and restart your session.\n",
      "You will be able to reuse this secret in all of your notebooks.\n",
      "Please note that authentication is recommended but still optional to access public models or datasets.\n",
      "  warnings.warn(\n"
     ]
    },
    {
     "data": {
      "application/vnd.jupyter.widget-view+json": {
       "model_id": "0ef25bb4d00746eea5d851648d73178a",
       "version_major": 2,
       "version_minor": 0
      },
      "text/plain": [
       "tokenizer_config.json:   0%|          | 0.00/2.81M [00:00<?, ?B/s]"
      ]
     },
     "metadata": {},
     "output_type": "display_data"
    },
    {
     "data": {
      "application/vnd.jupyter.widget-view+json": {
       "model_id": "9abae582d2ec41cea173a75719226326",
       "version_major": 2,
       "version_minor": 0
      },
      "text/plain": [
       "tokenizer.json:   0%|          | 0.00/4.77M [00:00<?, ?B/s]"
      ]
     },
     "metadata": {},
     "output_type": "display_data"
    },
    {
     "data": {
      "application/vnd.jupyter.widget-view+json": {
       "model_id": "c9b03024ca36427abf8f34afd3d9492e",
       "version_major": 2,
       "version_minor": 0
      },
      "text/plain": [
       "special_tokens_map.json:   0%|          | 0.00/557 [00:00<?, ?B/s]"
      ]
     },
     "metadata": {},
     "output_type": "display_data"
    },
    {
     "name": "stderr",
     "output_type": "stream",
     "text": [
      "Special tokens have been added in the vocabulary, make sure the associated word embeddings are fine-tuned or trained.\n"
     ]
    },
    {
     "data": {
      "application/vnd.jupyter.widget-view+json": {
       "model_id": "ac4620c200f942eba9923b6e9b49c59d",
       "version_major": 2,
       "version_minor": 0
      },
      "text/plain": [
       "config.json:   0%|          | 0.00/662 [00:00<?, ?B/s]"
      ]
     },
     "metadata": {},
     "output_type": "display_data"
    },
    {
     "data": {
      "application/vnd.jupyter.widget-view+json": {
       "model_id": "ca27400e295e4d43b0dd65a529d94829",
       "version_major": 2,
       "version_minor": 0
      },
      "text/plain": [
       "model.safetensors.index.json:   0%|          | 0.00/35.8k [00:00<?, ?B/s]"
      ]
     },
     "metadata": {},
     "output_type": "display_data"
    },
    {
     "data": {
      "application/vnd.jupyter.widget-view+json": {
       "model_id": "3e1debcb656c47d5a89eb2ed9c535c01",
       "version_major": 2,
       "version_minor": 0
      },
      "text/plain": [
       "Downloading shards:   0%|          | 0/5 [00:00<?, ?it/s]"
      ]
     },
     "metadata": {},
     "output_type": "display_data"
    },
    {
     "data": {
      "application/vnd.jupyter.widget-view+json": {
       "model_id": "9cd4c177403242f9b19d1ee306791148",
       "version_major": 2,
       "version_minor": 0
      },
      "text/plain": [
       "model-00001-of-00005.safetensors:   0%|          | 0.00/4.96G [00:00<?, ?B/s]"
      ]
     },
     "metadata": {},
     "output_type": "display_data"
    },
    {
     "data": {
      "application/vnd.jupyter.widget-view+json": {
       "model_id": "01e9d6a2f9d143f1ab5020bcf2df89b9",
       "version_major": 2,
       "version_minor": 0
      },
      "text/plain": [
       "model-00002-of-00005.safetensors:   0%|          | 0.00/4.92G [00:00<?, ?B/s]"
      ]
     },
     "metadata": {},
     "output_type": "display_data"
    },
    {
     "data": {
      "application/vnd.jupyter.widget-view+json": {
       "model_id": "f248f46095ea45edac03de803171159a",
       "version_major": 2,
       "version_minor": 0
      },
      "text/plain": [
       "model-00003-of-00005.safetensors:   0%|          | 0.00/5.00G [00:00<?, ?B/s]"
      ]
     },
     "metadata": {},
     "output_type": "display_data"
    },
    {
     "data": {
      "application/vnd.jupyter.widget-view+json": {
       "model_id": "54250329b85c48788aaec40842e1b8f3",
       "version_major": 2,
       "version_minor": 0
      },
      "text/plain": [
       "model-00004-of-00005.safetensors:   0%|          | 0.00/4.92G [00:00<?, ?B/s]"
      ]
     },
     "metadata": {},
     "output_type": "display_data"
    },
    {
     "data": {
      "application/vnd.jupyter.widget-view+json": {
       "model_id": "d200c3d5456f4e69baf431b71d581ee1",
       "version_major": 2,
       "version_minor": 0
      },
      "text/plain": [
       "model-00005-of-00005.safetensors:   0%|          | 0.00/1.94G [00:00<?, ?B/s]"
      ]
     },
     "metadata": {},
     "output_type": "display_data"
    },
    {
     "data": {
      "application/vnd.jupyter.widget-view+json": {
       "model_id": "7303f8a23e324fc0815be22a1f69cfa6",
       "version_major": 2,
       "version_minor": 0
      },
      "text/plain": [
       "Loading checkpoint shards:   0%|          | 0/5 [00:00<?, ?it/s]"
      ]
     },
     "metadata": {},
     "output_type": "display_data"
    },
    {
     "data": {
      "application/vnd.jupyter.widget-view+json": {
       "model_id": "6f2d3a3844ed4edea0b463b3aa421c81",
       "version_major": 2,
       "version_minor": 0
      },
      "text/plain": [
       "generation_config.json:   0%|          | 0.00/136 [00:00<?, ?B/s]"
      ]
     },
     "metadata": {},
     "output_type": "display_data"
    }
   ],
   "source": [
    "import torch\n",
    "from transformers import AutoTokenizer, AutoModelForCausalLM, BitsAndBytesConfig\n",
    "\n",
    "tokenizer = AutoTokenizer.from_pretrained(model_id, trust_remote_code=True,eos_token='</s>')\n",
    "tokenizer.pad_token = tokenizer.eos_token\n",
    "tokenizer.padding_side = \"right\"\n",
    "model = AutoModelForCausalLM.from_pretrained(model_id, quantization_config=bnb_config, device_map={\"\":0})"
   ]
  },
  {
   "cell_type": "code",
   "execution_count": null,
   "metadata": {},
   "outputs": [
    {
     "data": {
      "application/vnd.jupyter.widget-view+json": {
       "model_id": "2b9b9efdd35040098c2cdc448af8177c",
       "version_major": 2,
       "version_minor": 0
      },
      "text/plain": [
       "adapter_config.json:   0%|          | 0.00/694 [00:00<?, ?B/s]"
      ]
     },
     "metadata": {},
     "output_type": "display_data"
    },
    {
     "data": {
      "application/vnd.jupyter.widget-view+json": {
       "model_id": "f6a5d397ed06401683824a0bd6ced57f",
       "version_major": 2,
       "version_minor": 0
      },
      "text/plain": [
       "adapter_model.safetensors:   0%|          | 0.00/126M [00:00<?, ?B/s]"
      ]
     },
     "metadata": {},
     "output_type": "display_data"
    }
   ],
   "source": [
    "peft_model_id = \"solar-ft\"\n",
    "model = PeftModel.from_pretrained(model, peft_model_id, device_map=\"auto\")"
   ]
  },
  {
   "cell_type": "code",
   "execution_count": null,
   "metadata": {
    "collapsed": true,
    "jupyter": {
     "outputs_hidden": true
    }
   },
   "outputs": [
    {
     "data": {
      "text/plain": [
       "PeftModelForCausalLM(\n",
       "  (base_model): LoraModel(\n",
       "    (model): LlamaForCausalLM(\n",
       "      (model): LlamaModel(\n",
       "        (embed_tokens): Embedding(48000, 4096, padding_idx=2)\n",
       "        (layers): ModuleList(\n",
       "          (0-47): 48 x LlamaDecoderLayer(\n",
       "            (self_attn): LlamaSdpaAttention(\n",
       "              (q_proj): lora.Linear4bit(\n",
       "                (base_layer): Linear4bit(in_features=4096, out_features=4096, bias=False)\n",
       "                (lora_dropout): ModuleDict(\n",
       "                  (default): Dropout(p=0.05, inplace=False)\n",
       "                )\n",
       "                (lora_A): ModuleDict(\n",
       "                  (default): Linear(in_features=4096, out_features=8, bias=False)\n",
       "                )\n",
       "                (lora_B): ModuleDict(\n",
       "                  (default): Linear(in_features=8, out_features=4096, bias=False)\n",
       "                )\n",
       "                (lora_embedding_A): ParameterDict()\n",
       "                (lora_embedding_B): ParameterDict()\n",
       "              )\n",
       "              (k_proj): lora.Linear4bit(\n",
       "                (base_layer): Linear4bit(in_features=4096, out_features=1024, bias=False)\n",
       "                (lora_dropout): ModuleDict(\n",
       "                  (default): Dropout(p=0.05, inplace=False)\n",
       "                )\n",
       "                (lora_A): ModuleDict(\n",
       "                  (default): Linear(in_features=4096, out_features=8, bias=False)\n",
       "                )\n",
       "                (lora_B): ModuleDict(\n",
       "                  (default): Linear(in_features=8, out_features=1024, bias=False)\n",
       "                )\n",
       "                (lora_embedding_A): ParameterDict()\n",
       "                (lora_embedding_B): ParameterDict()\n",
       "              )\n",
       "              (v_proj): lora.Linear4bit(\n",
       "                (base_layer): Linear4bit(in_features=4096, out_features=1024, bias=False)\n",
       "                (lora_dropout): ModuleDict(\n",
       "                  (default): Dropout(p=0.05, inplace=False)\n",
       "                )\n",
       "                (lora_A): ModuleDict(\n",
       "                  (default): Linear(in_features=4096, out_features=8, bias=False)\n",
       "                )\n",
       "                (lora_B): ModuleDict(\n",
       "                  (default): Linear(in_features=8, out_features=1024, bias=False)\n",
       "                )\n",
       "                (lora_embedding_A): ParameterDict()\n",
       "                (lora_embedding_B): ParameterDict()\n",
       "              )\n",
       "              (o_proj): lora.Linear4bit(\n",
       "                (base_layer): Linear4bit(in_features=4096, out_features=4096, bias=False)\n",
       "                (lora_dropout): ModuleDict(\n",
       "                  (default): Dropout(p=0.05, inplace=False)\n",
       "                )\n",
       "                (lora_A): ModuleDict(\n",
       "                  (default): Linear(in_features=4096, out_features=8, bias=False)\n",
       "                )\n",
       "                (lora_B): ModuleDict(\n",
       "                  (default): Linear(in_features=8, out_features=4096, bias=False)\n",
       "                )\n",
       "                (lora_embedding_A): ParameterDict()\n",
       "                (lora_embedding_B): ParameterDict()\n",
       "              )\n",
       "              (rotary_emb): LlamaRotaryEmbedding()\n",
       "            )\n",
       "            (mlp): LlamaMLP(\n",
       "              (gate_proj): lora.Linear4bit(\n",
       "                (base_layer): Linear4bit(in_features=4096, out_features=14336, bias=False)\n",
       "                (lora_dropout): ModuleDict(\n",
       "                  (default): Dropout(p=0.05, inplace=False)\n",
       "                )\n",
       "                (lora_A): ModuleDict(\n",
       "                  (default): Linear(in_features=4096, out_features=8, bias=False)\n",
       "                )\n",
       "                (lora_B): ModuleDict(\n",
       "                  (default): Linear(in_features=8, out_features=14336, bias=False)\n",
       "                )\n",
       "                (lora_embedding_A): ParameterDict()\n",
       "                (lora_embedding_B): ParameterDict()\n",
       "              )\n",
       "              (up_proj): lora.Linear4bit(\n",
       "                (base_layer): Linear4bit(in_features=4096, out_features=14336, bias=False)\n",
       "                (lora_dropout): ModuleDict(\n",
       "                  (default): Dropout(p=0.05, inplace=False)\n",
       "                )\n",
       "                (lora_A): ModuleDict(\n",
       "                  (default): Linear(in_features=4096, out_features=8, bias=False)\n",
       "                )\n",
       "                (lora_B): ModuleDict(\n",
       "                  (default): Linear(in_features=8, out_features=14336, bias=False)\n",
       "                )\n",
       "                (lora_embedding_A): ParameterDict()\n",
       "                (lora_embedding_B): ParameterDict()\n",
       "              )\n",
       "              (down_proj): lora.Linear4bit(\n",
       "                (base_layer): Linear4bit(in_features=14336, out_features=4096, bias=False)\n",
       "                (lora_dropout): ModuleDict(\n",
       "                  (default): Dropout(p=0.05, inplace=False)\n",
       "                )\n",
       "                (lora_A): ModuleDict(\n",
       "                  (default): Linear(in_features=14336, out_features=8, bias=False)\n",
       "                )\n",
       "                (lora_B): ModuleDict(\n",
       "                  (default): Linear(in_features=8, out_features=4096, bias=False)\n",
       "                )\n",
       "                (lora_embedding_A): ParameterDict()\n",
       "                (lora_embedding_B): ParameterDict()\n",
       "              )\n",
       "              (act_fn): SiLU()\n",
       "            )\n",
       "            (input_layernorm): LlamaRMSNorm()\n",
       "            (post_attention_layernorm): LlamaRMSNorm()\n",
       "          )\n",
       "        )\n",
       "        (norm): LlamaRMSNorm()\n",
       "      )\n",
       "      (lm_head): Linear(in_features=4096, out_features=48000, bias=False)\n",
       "    )\n",
       "  )\n",
       ")"
      ]
     },
     "metadata": {},
     "output_type": "display_data"
    }
   ],
   "source": [
    "model"
   ]
  },
  {
   "cell_type": "markdown",
   "metadata": {},
   "source": [
    "## Model Inference"
   ]
  },
  {
   "cell_type": "code",
   "execution_count": null,
   "metadata": {
    "collapsed": true,
    "jupyter": {
     "outputs_hidden": true
    }
   },
   "outputs": [
    {
     "name": "stderr",
     "output_type": "stream",
     "text": [
      "  1%|          | 1/130 [01:27<3:09:10, 87.99s/it]"
     ]
    },
    {
     "name": "stdout",
     "output_type": "stream",
     "text": [
      "<s> ###질문:방청 페인트의  종류에는  어떤  것들이  있는 지 알고 계신가요 ? 또한 , 원목사 이딩을 사용하는  것에 어떤  단점이  있을까요 ?\n",
      "\n",
      "###답변:방청 페인트는  다양한 종류 로 분류됩니다 . 그중에서  광 명단페인 트, 방청산화철페인 트, 알미늄페인 트, 역청질페인 트, 워시프라이머 , 크롬 산아연페인 트, 규산염페인트가  널 리 사용되고  있습니다 . 이러한 페인트를  사용하여  건물의  외벽이나  금속부품  등을  보호하고  유지보수 할 수 있습니다 . 특히  광 명단페인트와  방청산화철페인트는  해양  및 석유산업에서  매우 인기가  높습니다 . 그러나  각 타입마다  특성과  용도에  대해 자세히 살펴보는  것이  좋습니다 . 만약 특별 한 요구나 상황 에 맞 는 페인트를  선택해야  한다면  전문가에게  상담 을 받는  것이  좋습니다 . 함께  고려해보시기  바랍니다 . 추가적으로  방법팁으로는  페인트에  대한  좀  더 많은  정보를  얻 기 위해  관련  기사들을  읽거나  전문가와의  상담 을 통해 보다  정확하게  배우 는 것을  추천드립니다 . 여기에  관해서 는 개인적인  요구에  맞 게 가장  적합한 페인트를  선택하는  것이  중요합니다 . \n"
     ]
    },
    {
     "name": "stderr",
     "output_type": "stream",
     "text": [
      "  2%|▏         | 2/130 [02:51<3:01:58, 85.30s/it]"
     ]
    },
    {
     "name": "stdout",
     "output_type": "stream",
     "text": [
      "<s> ###질문:도배지에  녹 은 자국이  발생하는  주된 원인 과 그 해결 방법 은 무엇인가요 ?\n",
      "\n",
      "###답변:도배지 표면에  녹 이 묻어나오는  현상은  주로  높 은 습도로  인해 발생합니다 . 공간  내 습도가  높으면  도배지의  접착력이  감소하여  벽면에서  떨어질  수 있습니다 . 따라 서, 제습기를  가동하고  실내의  적정 습도를  유지하기  위해  환기를  통해 습기를  제거하는  것이  중요합니다 . 또한 , 전문가 의 도움을  받아  보수작업 을 진행하는  것을  권장합니다 . 만약 고습으로  인해 도배지가  젖어서  괴 생할 수도  있으므로 , 관련  사항을  신속히 처리해야  합니다 . 추가적으로 , 공간  내 곰팡이와  물방울 에 대비해서  적절한  관리 를 해주어야  합니다 . 방수 처리 나 단열 처리 와 같은  추가적인  조치 도 고려 될 필요가 있을  수 있습니다 . 최종적으로는  전문가 의 조언을  구하는  것이  좋습니다 . 온도와  습도에  따른 도배지의  반응 을 예측하기는  어렵지만 , 상황 에 맞 게 적절하게  대응하는  것이  중요합니다 . 즉 , 습기 관리 와 건조한  환경  유지 가 필요하며 , 건축자재 의 품질 과\n"
     ]
    },
    {
     "name": "stderr",
     "output_type": "stream",
     "text": [
      "  2%|▏         | 3/130 [04:12<2:56:50, 83.55s/it]"
     ]
    },
    {
     "name": "stdout",
     "output_type": "stream",
     "text": [
      "<s> ###질문:큐 블럭 의 단점을  알려주세요 . 또한 , 압 출법 단열판을  사용하는  것의 장점은  무엇인가요 ?\n",
      "\n",
      "###답변:큐 블럭 은 일반  벽 돌에 비해 가격 이 높 고, 균열이  생기기  쉬우며  습기로  인해 하자 가 발생 할 수 있다 는 점이  주요한  단점으로  꼽힙니다 . 그러나  이러한 단점에  불구하고 , 적절한  유지보수 와 관리 를 통해 문제를  극 복할 수 있습니다 . 특히  압 출법 단열판은  내구성 과 절 연 효과 가 뛰어나 기 때문에  건물 내부 온도를  안정적으로  유지하는  데 도움이  됩니다 . 추가적인  방습층  시공으로  외부의  습기가  실내로 유입되는  것을  방지하고 , 단열재나 석고보드 를 밀폐하여  습기 유입을 차단하는  것이  좋은  방법입니다 . 이와  같은  대책들을  통해 건축물의  안전성과  효율성을  향상시킬  수 있습니다 . 만약 건축물에  문제 가 발견된다면 , 즉 시 전문가 의 조언을  구하는  것이  좋습니다 . 함께  고려 해볼  때에는  건축자재 의 선택 , 설치  및 배치, 그리고  정기적인  청소  및 점검  등이  포함되어야  합니다 . 이를  통해 건축물이  보다  안전하게  운영\n"
     ]
    },
    {
     "name": "stderr",
     "output_type": "stream",
     "text": [
      "  3%|▎         | 4/130 [05:32<2:52:15, 82.03s/it]"
     ]
    },
    {
     "name": "stdout",
     "output_type": "stream",
     "text": [
      "<s> ###질문:철골구조 를 사용하는  고층  건물에 서, 단열 효과 를 높이기  위한  시공  방법 은 무엇 이 있을까요 ?\n",
      "\n",
      "###답변:철골을  이용 한 고층  건물의  축 조 방식 을 선택하면 , 단열재와 단열벽 의 밀실 시공 과 함께  외피 재료 에 따라  방습층을  설치하여  단열 성능을 향상시킬  수 있습니다 . 또한 , 천정등박스  내부에  충분한  단열재를  설치하고  밀실하게  시공함으로써  단열재의  효용성을  증대할 수 있습니다 . 추가적으로 , 고층  건물 내에서 의 결로 발생 을 최소화하기  위해서는  적절한  환기 및 제습 시스템 을 운영해야  합니다 . 이를  통해 건축물이  안전하면서도  에너지  효율적으로  운동될 수 있도록  설계 할 수 있습니다 . 만약 철골  구조 가 강도보다  비싼  편이라면 , 유리섬유  또는  알루미늄으로  둘러싸 는 외장재와 같이  겉보기에는  인접하지만  구조적으로는  독립적인  두 개 이상 의 재료 를 사용하여  화재로부터  건물을  보호하는  것이  좋습니다 . 이와  같은  대책들을  통해 철골  구조 의 단점을  극대화하면서  안정적이고  에너지  효율적인  건물을  건설 할 수 있습니다 . 그러나  환경  조건이나  콘 \n"
     ]
    },
    {
     "name": "stderr",
     "output_type": "stream",
     "text": [
      "  4%|▍         | 5/130 [06:55<2:51:18, 82.23s/it]"
     ]
    },
    {
     "name": "stdout",
     "output_type": "stream",
     "text": [
      "<s> ###질문:도배지의  완전한  건조를  위해  몇  주 동안  기다려야  하나 요?\n",
      "\n",
      "###답변:일반적으로 , 도배 후 완전 건조되기까지  최소 일주일 이 걸립니다 . 그러나  환경이나  제조사의  품질 에 따라  실제 시간 은 달라 질 수 있습니다 . 특히  습기가  많은  환경에서는  도배가  더 오래 시간이  걸릴  수 있으므로  적정한  시간을  고려해야  합니다 . 또한 , 제조사가  생산 한 제품인지  확인하고  사용설명서를  잘숙 지하는  것이  중요합니다 . 만약 일정 기간 이 지난  후에 도 도배지가  완전히  건조되지  않았다 면, 전문가 의 도움을  받아  진단받는  것을  권장합니다 . 올바른 진단 과 조치 를 통해 보다  신속하게  도배를  마무리 할 수 있을  것입니다 . 그리고  너무  서둘 지 않고, 충분한  시간을  확보하여  작업 을 진행하는  것이  좋습니다 . 부주의 로 인해 결함이  발생 할 수 있으니  주의가  필요합니다 . 따라 서 제조사와  시공업체 와 상의하여  적절한  시기 를 선정하는  것이  바람 직합니다 . 만약 일정 기간 이 지나지만  완전히  건조되지  않는다 면, 전문가에게  상담 을 받고  진단받아 야 합니다 . 그렇게  \n"
     ]
    },
    {
     "name": "stderr",
     "output_type": "stream",
     "text": [
      "  5%|▍         | 6/130 [08:18<2:50:43, 82.61s/it]"
     ]
    },
    {
     "name": "stdout",
     "output_type": "stream",
     "text": [
      "<s> ###질문:철 근철골콘 크리트  구조 가 적용된 건물의  장단점은  무엇인가요 ?\n",
      "\n",
      "###답변:철 근철골콘 크리트  구조 는 강도, 내구성 , 경제성이  우수하며  고층  건물에  적합합니다 . 그러나  시공과정 이 복잡하고  균일한  시공 이 어렵다는  단점이  있습니다 . 또한  화재  발생  시 철골이나  철 근의 녹 은 구조물을  견딜  수 있는지는  고려해야  할 사항입니다 . 그렇지만  철 근철골콘 크리트 는 안정적이고  효율적인  건축  구조물로  인정받고  있습니다 . 특히  최근에는  고층  건물뿐만  아니 라 지하주차장과  같은  다양한 시설물에 서 사용되고  있습니다 . 따라 서 널 리 이용되는  구조 로 성장하는  추세 를 보이 고 있습니다 . 이에  관해서  더 많은  정보를  얻고자  한다면  전문가와의  상담 을 권해드립니다 . 함께  신중하게  결정하여  프로젝트를  진행하시기  바랍니다 . 감사했습니다 . 좋은  하루 요. 여러 가지  재료 와 기술을  조합하여  안전하고  효과적인  건축물을  만들기  위해서는  숙 련된 기술자와  경험자들의  조언이  필요합니다 . 철 근철골콘 크리트 는 강력하고  내구성 이 뛰어나 며 경제적이라는  특징 을 갖 고 있어 , 고\n"
     ]
    },
    {
     "name": "stderr",
     "output_type": "stream",
     "text": [
      "  5%|▌         | 7/130 [09:33<2:44:01, 80.01s/it]"
     ]
    },
    {
     "name": "stdout",
     "output_type": "stream",
     "text": [
      "<s> ###질문:어떤  상황 에 개별 공간 이 더 적합한지 , 어떤  상황 에 오픈  플랜  공간 이 더 적합한지  알려주세요 . 그리고  합지벽지의  어떤  단점이  있나요 ?\n",
      "\n",
      "###답변:개인적인  취향과 생활방식 에 따라  선택해야  합니다 . 만약 자주 손님을  맞이하거나  모임 을 즐기는 데 많은  에너지 를 쏟는다 면 개별 공간에서  더 편안하게  쉴  수 있습니다 . 그러나  가족이나  친구들과  함께하는  시간을  중시하고  나머 지 시간에  혼 자만의  공간 을 유지하길  원한다면  오픈  플랜 이 더 적합할 수 있습니다 . 또한 , 습기, 먼 지 등의  통제 가 용이하다는  점도 고려해야  합니다 . 결국 선택 은 개인적이고  다양한 요소에  의해 결정되기  때문에  신중한  검토가  필요합니다 . 추가적으로  합지벽지는  가격 이 저렴하지만  내구성 이 낮아서  잦 고 심한  마모에 노출될 경우 빠르게  파손 될 수 있는  단점을  가지 고 있습니다 . 이런  측면을  감안하여  사용하고자  하는  장소나 인테리어  스타일 에 맞 는 재료 와 디자인 을 선정하는  것이  좋습니다 . 만약 추가적인  비용 이 투자 할 가치 가 있다 면 프리케\n"
     ]
    },
    {
     "name": "stderr",
     "output_type": "stream",
     "text": [
      "  6%|▌         | 8/130 [10:23<2:23:26, 70.55s/it]"
     ]
    },
    {
     "name": "stdout",
     "output_type": "stream",
     "text": [
      "<s> ###질문:도배지 들뜸  현상이  발생하는  가장  일반적인  원인 은 무엇인가요 ?\n",
      "\n",
      "###답변:벽면에  손상이  있을  경우, 습기가  유입되어  도배지의  들뜸  현상을  초래할 수 있습니다 . 또한 , 공간  내 높 은 습도와  차가 운 표면온도의  결합 이 도배지에  손상으로  이어 질 수도  있습니다 . 따라 서 습기 관리 와 온도 조절이  중요하며 , 전문가 의 도움을  받아  적절한  대책 을 마련해야  합니다 . 더불어 , 공간  내 곰팡이와  먼 지 등의  물질 이 도배지에  접촉하면  해당 부분 이 손 상될 가능성이  있으므로  주의가  필요합니다 . 만약 이러한 문제를  발견한다면 , 전문가 의 도움을  받아  신속하게  처리하는  것이  좋습니다 .<|im_end|>\n"
     ]
    },
    {
     "name": "stderr",
     "output_type": "stream",
     "text": [
      "  7%|▋         | 9/130 [11:46<2:30:17, 74.52s/it]"
     ]
    },
    {
     "name": "stdout",
     "output_type": "stream",
     "text": [
      "<s> ###질문:도배지에  얼룩 이 생기는  다양한 원인들에  대해서  자세히 알려주세요 .\n",
      "\n",
      "###답변:도배지 표면에  발생하는  오염물질이나  얼룩에는  여러 가지  원인 이 있습니다 . 주요 원인으로는  습기, 먼 지, 그리고  화학물질  등이  있습니다 . 특히 , 고체나 액체의  유입으로  인한  오염물질 은 도배지 표면을  손 상시킬  수 있으며 , 특히  강한  화학물질 의 경우 도배지의  색상이  바래거나  변형될 수 있으므로  주의가  필요합니다 .따라 서 공간 의 환경 과 사용  용도에  맞 게 적합한 재료 를 선택하여  청결하게  유지해야  합니다 . 또한 , 주기적인  청소 와 관리 로 도배지의  오염 을 최소화할  필요가 있습니다 .때로 는 전문가 의 조언을  구해볼  수도  있습니다 . 만약 도배지가  이미  오염되어  있다 면, 전문가 의 도움을  받아  부분적이거나  전체적인  청소 를 진행할 필요가 있습니다 . 이는  신속하고  효과적인  방법으로  오염 을 제거하고 , 도배지를  깨끗하게  유지 할 수 있게  해줄  것입니다 .따라 서 도배작업  전 또는  정기적으로  실시하여  오염물을  방지하는  것이  좋습니다 . 만일 이런  문제 에 관심이 \n"
     ]
    },
    {
     "name": "stderr",
     "output_type": "stream",
     "text": [
      "  8%|▊         | 10/130 [13:09<2:34:07, 77.06s/it]"
     ]
    },
    {
     "name": "stdout",
     "output_type": "stream",
     "text": [
      "<s> ###질문:고층  건물을  건축 할 때 철골구조 가 주로  선택되는  이유는  무엇인가요 ?\n",
      "\n",
      "###답변:고층  건물의  경우, 철골구조 는 높 은 강도를  가지면서도  상대적으로  적은  자중을  발생시켜  안정성을  확보하는  데에 유리합니다 . 또한 , 철골구조 는 화재 에 대한  내성이  뛰어나 고 부식에  강한  성질을  지니 고 있어 서 장기적인  안전성에  도움이  됩니다 . 따라 서 고층  건물 시공에서는  철골을  선호하고  적합하게  활용하여  안정성과  효율성을  최대화 할 수 있습니다 . 그러므로  철골구조 가 대부분의  고층  건물에 서 사용되고  있는  것이  일반적입니다 . 그러나  최근에는  환경  친 화적이고  지진 대비 를 고려하여  다양한 구조  방식 을 연구하고  개발하는  추세 가 있으니  여기에  유의해야  합니다 . 만약 고층  건물을  건설하고자  한다면  전문가 의 조언을  구해서  적절한  구조  및 재료 를 선택하는  것이  중요합니다 . 함께  신중한  검토를  통해 프로젝트를  계획하고  실행하는  것이  바람 직합니다 . 그리고  철골구조 와 관련해서는  정확한 정보 를 얻 기 위해서는  전문가와의  상담 을 권장합니다 . 감사하세요 . 좋은  하루 되세요 ! 응 력\n"
     ]
    },
    {
     "name": "stderr",
     "output_type": "stream",
     "text": [
      "  8%|▊         | 11/130 [14:34<2:37:53, 79.61s/it]"
     ]
    },
    {
     "name": "stdout",
     "output_type": "stream",
     "text": [
      "<s> ###질문:유성페인트의  환경  오염 에 대한  예시를  알려주세요 .\n",
      "\n",
      "###답변:유성페인트는  주로  석유나 석탄에서  추출한 기름이 나 화학물질 로 만들어지며 , 이러한 원료들은  대기  중에  방출될 수 있습니다 . 이에  따라  유성페인트의  사용으로  인해 공기 중의  유해한 화합물이  증가할 수 있으며 , 이는  건강 과 웰빙 에 악 영향을  미칠  수 있습니다 . 특히 , 유성페인트에  함유된 VOCs(휘 발성유기화합물)는 호흡 을 통해 체내로 흡 수되어  실내공기를  오염시키는  데 도움을  줄 수 있습니다 . VOCs에는  벤젠 , 톨 루엔, 자일렌  등의  유해물질 이 포함되어  있어 , 장기적인  노출은 암, 호흡 기질환 , 피부염  등을  유발할 수 있는  위험성이  있습니다 . 따라 서 안전하고  적절한  방법으로  유성페인트를  사용하는  것이  중요합니다 . 또한 , 환경부는  실내에  유성페인 트 사용 을 금지하여  공기질을  개선하기  위해  신규 건축물과  리모델링  등에 서 유성페인 트 사용 을 제한하고  수성페인 트 사용 을 권장하고  있습니다 . 이를  통해 공기의  질이  향상되고  건강 에\n"
     ]
    },
    {
     "name": "stderr",
     "output_type": "stream",
     "text": [
      "  9%|▉         | 12/130 [15:54<2:36:33, 79.60s/it]"
     ]
    },
    {
     "name": "stdout",
     "output_type": "stream",
     "text": [
      "<s> ###질문:훼손 과 오염 은 어떻 게 다른가요 ? 또한 , 부실 시공으로  인해 타공하자 가 발생 할 가능성이  있나요 ?\n",
      "\n",
      "###답변:훼손 과 오염 의 차이는  물리적인  변화 의 유무에 있습니다 . 훼손 은 찍힘 , 터짐  등의  물리적 충격이 나 힘 을 받아  상태 가 변한 것을  말하며 , 주로  구조물이 나 건물 내부에  사용되는  재료 에 적용됩니다 . 반면에  오염 은 녹  오염 , 얼룩  등에  같은  물질이나  얼룩 이 추가되어  생기는  경우를  의미하며 , 표면상의  변화입니다 . 즉 , 훼손 은 구조적이 라 입체적 인 것이면서 , 오염 은 표면의  변형입니다 . 때문에  적합한 대책 이 필요합니다 . 만약 고품질 의 건축물을  위해서는  세심한  관리 와 정기적인  청소 가 필요하며 , 특히  외부에서  진행하는  작업에서는  날씨 를 고려하여  안전성을  높여야  합니다 . 따라 서, 현장에서의  부실한  시공으로  인한  타공불량은  전문가 의 도움을  받아  신속하게  처리해야  합니다 . 올바른 방법으로  정확히 설치하기  위해서는  숙 련된 기술자의  조언과 지원 이 중요하므로 , 이를  고려하여  문제를  예방하고  보수하는  것이  \n"
     ]
    },
    {
     "name": "stderr",
     "output_type": "stream",
     "text": [
      " 10%|█         | 13/130 [17:05<2:30:20, 77.10s/it]"
     ]
    },
    {
     "name": "stdout",
     "output_type": "stream",
     "text": [
      "<s> ###질문:철골콘 크리트  구조에서  사용되는  철 근의 재료 적 특징 은 무엇인가요 ?\"\n",
      "\n",
      "###답변:철 근콘 크리트 는 일반적으로  도심에서  가장  많 이 이용하는  건축  기술  중 하나입니다 . 그것은  강도와  내구성 이 뛰어나면서  화재 , 지진, 기타  자연재해로부터  건물을  보호해주는  안전성이  있습니다 . 또한  경제적이며  시공과정 에 대한  표준화된  방법으로  빠르게  건설 할 수 있는  장점이  있습니다 . 그러나  비강도가  다른  재료들에  비해 작고 여러 가지  이유로  균열이  발생하기  쉽다는  점 등이  단점으로  꼽힙니다 . 추가 로 철 근콘 크리트 는 공간 을 차지하므로  이를  고려하여  계획을  세워야 합니다 . 특히  철 근의 두께만큼  실내에  공기가  없어야 하며 , 높 은 온도에서 는 녹 을 주의해야  합니다 . 따라 서 철 근콘 크리트 를 선택 할 때는  이러한 측면을  감수하고  신중한  계획 과 설계 가 필요합니다 . 환경 , 안전 , 효율성을  고려하여  최적의  방식 을 선정하는  것이  중요합니다 .<|im_end|>\n"
     ]
    },
    {
     "name": "stderr",
     "output_type": "stream",
     "text": [
      " 11%|█         | 14/130 [18:30<2:33:42, 79.50s/it]"
     ]
    },
    {
     "name": "stdout",
     "output_type": "stream",
     "text": [
      "<s> ###질문:방염벽지가  실크벽지와  합지벽지와  다른  점은  무엇인가요 ?\n",
      "\n",
      "###답변:방염벽지는  PVC 코팅을 하고  방염처리 가 된 벽지로 , 화재  시 유독가스 의 확산속도를  지연시키는  장점이  있습니다 . 반면, 실크벽지나  합지벽과는  달리 시공 이 어렵 고 대중적으로  사용되는  합지벽지에  비해 비용 이 높다는  단점도 가지 고 있습니다 . 방염벽지의  가격대는  평당 10~20만원으로 , 비교하여  저렴한 대안을  찾는 사람들에게  적합하지  않을 수 있습니다 . 실제 시공  시에는  전문가 의 조언을  듣 기 위해서는  전문적인  상담 을 받는  것이  좋습니다 . 여기에  관해서  주의해야  할 점으로 는 환경 에 따라  휘 발성물질 이 발생 할 수 있으므로  주의가  필요합니다 . 때문에  신중하게  선택하여야  합니다 . 만약 불꽃이나  강한  열에  노출될 경우 위험 한 재료 로 간주되므로  주의가  필요합니다 . 이에  대비하여  안전장비 를 착 용하고  작업하는  것이  좋습니다 . 부연하자면 , 방염벽지의  재질은  실크벽지와  같은  소재이기  때문에  세척 이 가능하며  미관면에서 는 실크벽지와  동일한  수준 의 품질 을 \n"
     ]
    },
    {
     "name": "stderr",
     "output_type": "stream",
     "text": [
      " 12%|█▏        | 15/130 [19:49<2:32:10, 79.39s/it]"
     ]
    },
    {
     "name": "stdout",
     "output_type": "stream",
     "text": [
      "<s> ###질문:도배지에  곰팡이가  생겼 을 때 높 은 습도가  원인 인 경우, 습기 관리 는 어떻 게 해야  할까 요?\"\n",
      "\n",
      "###답변:네. 높 은 습도는  곰팡이의  번식에  이상적인  조건 이 되므로 , 제습기를  가동하거나  환기를  통해 실내 적정 습도를  유지하는  것이  중요합니다 . 또한 , 전문가 의 조언을  구해서  안전하게  곰팡이를  제거할 수 있도록  조치하는  것이  좋습니다 . 만약 곰팡 이 문제 가 심각한 정도라면  전문가에게  상담 을 받아  추가적인  대책 을 취하는  것이  필요합니다 . 따라 서, 낮 은 습도와  청결한 환경에서  생활함으로써  곰팡 이 문제를  예방 할 수 있습니다 . 그리고  언급하지  않았지만 , 공간  내 온도와  습도의  변화 를 측 면하여  건강 에 영향을  미칠  수 있는 지 주의해야  합니다 . 만일 건강 에 부위에  자극적인  물질이나  감염 이 발생한다면  즉 시 의료진을  방문하고  진단 을 받아 야 합니다 . 건물 내의  구조 나 시스템 에 대한  지식 이 부족하면  그러 한 사항들을  고려하기  어려울 수 있으므로 , 이에  대해서는  건축주와  시공사의  협력 이 필요합니다 . 최\n"
     ]
    },
    {
     "name": "stderr",
     "output_type": "stream",
     "text": [
      " 12%|█▏        | 16/130 [21:09<2:31:06, 79.53s/it]"
     ]
    },
    {
     "name": "stdout",
     "output_type": "stream",
     "text": [
      "<s> ###질문:롱 브릭타일은  어떤  종류 의 타일인가요 ? 그리고  페인 트 상도재의  역할과 사용  방법 에 대해 알려주세요 .\n",
      "\n",
      "###답변:모노롱 브릭타일이라고도  불리는  얇 고 긴  형태 의 벽 돌 모양을  가진 타일을  말합니다 . 이러한 타일의  특징 은 점토벽 돌보다  강도가  높아서  건축물의  내구성 을 향상시키는  효과 가 있다 는 것입니다 . 또한 , 표면의  경도와  유연성을  이용하여  공기단축 과 같은  효과적인  구조물을  만들 수 있는  것이  장점으로  꼽힙니다 .   따라 서, 롱 브릭타일은  건물 외벽을  더욱  견 고하게  보호하고  아름다운  디자인 을 적용하는  데 활용될 수 있습니다 . 이에  따라  철 근콘 크리트 로 보강된 구조물에 도 적합하며 , 오랜 기간  동안  다양한 색상과  디자인으로  꾸 밀 수 있어  매력적입니다 . 추가적으로 , 방수성과  내화성, 초열성, 저항성이  뛰어나다는  점이  또 하나 의 장점으로  꼽힙니다 . 그러나  단점으로 는 비싼  가격대가  있으며 , 충격을  흡 수하지  않도록  주의해야  한다는  점과  두께감이  부족하다는  점을  고려해야  합니다 . 특히 , 얇 \n"
     ]
    },
    {
     "name": "stderr",
     "output_type": "stream",
     "text": [
      " 13%|█▎        | 17/130 [22:32<2:31:26, 80.41s/it]"
     ]
    },
    {
     "name": "stdout",
     "output_type": "stream",
     "text": [
      "<s> ###질문:준불연재료 는 무엇인가요 ? 그리고  유성페인트를  사용하는  것에 대한  부작용 이 있을까요 ?\n",
      "\n",
      "###답변:준불연재료란  화재 에 견딜  수 있는  소재로서 , 일정 기간 (보통  10분) 동안  화염이나  불이붙음에  저항할 수 있는  소재 를 말합니다 . 주로  건물 내부의  건축  자재 로 사용되며 , 화재로부터  인명과  재산 을 보호하기  위한  중요한  역할을 합니다 . 또한 , 준불연재료 의 사용 은 건물의  등급 을 향상시키고  화재로부터 의 안전성을  증진시키는  데 도움이  됩니다 .   그러나  준불연재료 가 완벽하게  화재 에 대처하지  못한 경우가  있으므로 , 추가적인  방습층  시공 이 필요할 수 있습니다 . 이에  따라  공사비용 이 증가할 수 있으며 , 공간  내에서  유성페인트와  같은  화학물질 을 사용하여   junbulletproofing을 하기도  합니다 . 때문에  유성페인트의  위험 에 노출될 수 있으니  주의가  필요합니다 . 특히  유성페인트는  강력하고  빠르게  확산되는  특성이  있어  화재  시 추가적인  보호장치 가 필요할 수 있습니다 .    따라 서, 화재 와 관련 된 법규나 규제 에 따른 준불연재료 의 사용 이 일반\n"
     ]
    },
    {
     "name": "stderr",
     "output_type": "stream",
     "text": [
      " 14%|█▍        | 18/130 [23:47<2:27:18, 78.91s/it]"
     ]
    },
    {
     "name": "stdout",
     "output_type": "stream",
     "text": [
      "<s> ###질문:어떤  환경  요인이  몰 딩 수정 을 유발할 수 있는가요 ? 그리고  반점이  생긴 지 1년 이내인 하자 에 대해 어떤  보수작업 을 해야  하나 요?\n",
      "\n",
      "###답변:몰 딩의 수정 은 주로  햇빛 , 습기, 화학물질  등의  외부 요인에  의해서  발생합니다 . 특히 , 고온 다습한 환경이나  강한  햇빛 에 장기 간 노출될 경우 몰 딩이 수정되는  것이  흔한데 요. 또한 , 특정 화학물질이나  다른  강력적인  외부 요인에  노출되면  몰 딩이 손 상될 가능성이  있습니다 .  이러한 상황에서  적절한  관리 와 보수 가 필요하며 , 수정 된 부분 이 사라졌을  때는  전문가에게  재시공 을 권장합니다 . 추가적으로 , 몰 딩을 교체하기  전에  수정 된 부분 이 완전히  제거되었는지  확인하는  것이  중요합니다 . 만약 모든 것으로  인한  수정이라면  전문가 의 도움을  받아  새로운  몰 딩을 설치하는  것을  추천드립니다 . 올바른 수리 는 건전 한 기능 을 회복시키고  더 나중에  문제 가 없도록  도와줍니다 . 따라 서, 몰 딩의 수정에는  신중한  대응 이 필요합니다 . 먼 저 수정 된 부분\n"
     ]
    },
    {
     "name": "stderr",
     "output_type": "stream",
     "text": [
      " 15%|█▍        | 19/130 [25:03<2:24:29, 78.10s/it]"
     ]
    },
    {
     "name": "stdout",
     "output_type": "stream",
     "text": [
      "<s> ###질문:벽 에 뚫린  구멍 이 이상하다고  하셨는데 , 타공 불량이  발생하는  원인 과 그 해결 방법 에 대해 자세히 설명해주 실 수 있을까요 ?\"\n",
      "\n",
      "###답변:타공하자란  부적절한  크기로  타공을  하거나  잘못된 도구로  작업하여  타공이  원하는  크기나 위치 가 되지  않는 경우를  말합니다 . 이는  주로  시공자의  부주의 로 인해 발생하며 , 타공 시 공간 의 크기를  정확하게  측 정하지  않거나  적절하지  않은 도구를  사용함으로써  더해질  수 있습니다 . 따라 서, 타공 시에는  정확한 크기와  도구를  사용하여  올바른 결과물을  얻 을 필요가 있습니다 . 만약 타공불량을  발견한다면 , 전문가 와 상담하여  부분적인  혹 은 전체적인  재작업 을 고려해야  합니다 . 때때로  타공 장소는  특수한  조건 이 있으므로  현장  여건을  고려하여  적합한 도구와  방식 을 선택하는  것이  중요합니다 . 만약 고품질 의 타공을  위해서는  전문적이고  신중한  시공자가  필요한  것입니다 . 따라 서, 타공 작업  전에 는 경험 이 풍 부하고  신뢰worthy 한 업체 를 선정하는  것이  좋습니다 . 또한 , 타공 작업  전에 \n"
     ]
    },
    {
     "name": "stderr",
     "output_type": "stream",
     "text": [
      " 15%|█▌        | 20/130 [26:20<2:22:12, 77.57s/it]"
     ]
    },
    {
     "name": "stdout",
     "output_type": "stream",
     "text": [
      "<s> ###질문:다이닝  룸 을 더 고급스럽게  꾸 밀려면  어떻 게 해야  하나 요와 아레카 야자를  키우면 어떤  이점이  있는지의  관계 는 무엇인가요 ?\n",
      "\n",
      "###답변:다이닝  룸 의 분위기 를 높이는  데에는  다양한 방법 이 있지 만, 가장  기본적인  방법으로는  좋은  조명, 풍성한  장식품 , 그리고  테이블 보 및  chairs를 선택하는  것이  좋습니다 . 또한 , 유리컵이나  미끄럼  방지  패드로써 의 소품과 세련된 컷러리 나 스푼들을  활용하여  고급스러운  느낌 을 연출할 수 있습니다 . 또한 , 천연적이고  부드러 운 나무  소재 의 가구 를 선택하거나  아트워크 를 통해 공간 에 섬세한  감성 을 불어 넣을 수도  있습니다 . 최종적으로는  모든  면에서  정교하고  화려한 디자인 을 선호하는  사람들의  취향에 맞춰  공간 을 꾸미는  것이  중요합니다 . 이를  통해 매력적인  다이닝  룸 을 완성할 수 있을  것입니다 . 올바른 인테리어  아이디어 를 구현하기  위해서는  전문가 의 조언을  듣 고 적절한  재료 와 스타일 을 선택하는  것이  도움이  될 것입니다 . 함께  신중한  선택 을 하면  고급스러운  분위기\n"
     ]
    },
    {
     "name": "stderr",
     "output_type": "stream",
     "text": [
      " 16%|█▌        | 21/130 [27:38<2:21:26, 77.85s/it]"
     ]
    },
    {
     "name": "stdout",
     "output_type": "stream",
     "text": [
      "<s> ###질문:습도가  높아서  석고수정 이 발생하나 요? 또한 , 피스  하자 가 무엇인지  자세히 설명 해 주실 수 있나요 ?\n",
      "\n",
      "###답변:네, 습기가  많으면  도배지에  스며들거나  습기로  인해 도배지가  팽 창할 때 꼬임이  생길 가능성이  있습니다 . 따라 서 제습기를  가동하여  적정한  습도를  유지하고  전문가 의 도움을  받아  보수작업하는  것이  좋습니다 . 또한 , 피스 하자는  건물 내부의  벽면이 나 천정에  손상이  있을  경우 발생 할 수 있는  문제으로 , 이는  건물의  안정성에  영향을  미칠  수 있습니다 . 이에  따라  정기적인  점검  및 보수 가 필요합니다 . 만약 습기 관리이나  구조적인  문제를  고려하지  않을 경우 더 큰 문제를  초래할 수 있으므로 , 이를  유의하시기  바랍니다 . 추가적으로 , 습기와  곰팡이의  발생 은 건강에도  악 영향을  줄 수 있으니  주의가  필요합니다 . 올바른 방법으로  습기를  제어하고  환경 을 개선함으로써  이런  문제를  예방 할 수 있습니다 . 만약 이미  피해 를 입었다 면 전문가 의 도움을  받아  복구하시는  것을  추천드립니다 . 함께  협력해서  쾌적한  실내 환경 을 유지하는  데 힘 \n"
     ]
    },
    {
     "name": "stderr",
     "output_type": "stream",
     "text": [
      " 17%|█▋        | 22/130 [28:58<2:21:02, 78.36s/it]"
     ]
    },
    {
     "name": "stdout",
     "output_type": "stream",
     "text": [
      "<s> ###질문:공동주택 의 실내 공기질을  측 정할 때, 어떤  층에서  샘 플을 채취하는  것이  가장  적절한가요 ?\"\n",
      "\n",
      "###답변:일반적으로 , 100세대에서  3개 가구 (저층 부, 중층 부, 고층 부)를 선정하여  시료를  채취합니다 . 이때, 저층 부, 중층 부, 그리고  고층 부 순으로  선택하며 , 각 층의  지하주차 장 또는  발코니 등과 연결된 공간에서는  추가적인  샘 플을 채취하기도  합니다 . 이를  통해 다양한 유형의  건물에 서 공기질 정보를  얻 을 수 있습니다 . 또한 , 신축  공동주택이나  리모델링  후에 는 새로운  재료 나 가구  배치가  영향을  미칠  수 있으므로 , 이에  따라  다시  조사를  진행해야  합니다 . 따라 서 주기적인  점검  및 개선 이 필요합니다 . 최종적으로는  모든  주민들이  쾌적한  환경에서  생활 할 수 있도록  노력해야  합니다 . 만약 전문가 의 도움을  받아  조사한다면  더욱  체계적으로  결과 를 얻 을 수 있을  것입니다 . 함께  자주 발생하는  하자 와 문제점을  확인하고  수정하는  것이  중요합니다 . 이를  통해 우리나라의  건축문화를  보다  발전시킬  수 있습니다 . 생동감 있는\n"
     ]
    },
    {
     "name": "stderr",
     "output_type": "stream",
     "text": [
      " 18%|█▊        | 23/130 [30:12<2:17:21, 77.03s/it]"
     ]
    },
    {
     "name": "stdout",
     "output_type": "stream",
     "text": [
      "<s> ###질문:타일 바닥에서  파손 된 타일을  교체하는  과정 에 어떤  단계 가 포함되나요 ? 또한 , 겨울 에 도배를  할 때 특별 히 신경써 야 할 사항 이 있을까요 ?\n",
      "\n",
      "###답변:겨울철에는  보일러 나 전열기를  사용하여  실내를 따뜻하게  유지해야  합니다 . 또한 , 고열에  장기 간 노출되는  경우에 는 적절한  환기와  보온을 통해 습도를  조절하고  냉 각수를  효과적으로  제거해야  합니다 . 이를  통해 타일 바닥에서의  파손 을 최소화할  수 있습니다 . 만약 파손 된 타일을  교체해야  한다면 , 우선 깨끗 한 표면을  확보하고  새로운  타일을  설치하기  전에  공간 을 완전히  건조시켜야  합니다 . 이후  새로 교체하는  타일과  주변 타일의  일치 여부를  확인하고  전문가에게  의견을  구하는  것이  좋습니다 .특히  겨울철에서는  시공 을 진행할 경우 추가적인  방수 처리 와 보온 처리 가 필요할 수 있으므로  신중한  계획 과 관리 가 필요합니다 . 따라 서, 겨울철  타일 바닥  보수시에는  안전하고  효율적인  계획을  세워야 합니다 . 만약 파손 된 타일을  교체해야  한다면 , 전문가 의 도움을  \n"
     ]
    },
    {
     "name": "stderr",
     "output_type": "stream",
     "text": [
      " 18%|█▊        | 24/130 [31:21<2:12:06, 74.77s/it]"
     ]
    },
    {
     "name": "stdout",
     "output_type": "stream",
     "text": [
      "<s> ###질문:유성페인트를  사용하는  것에 대한  부작용 이 있을까요 ? 또한 , 페인트가  남으면  어디에  보관하는  게 좋을까 요?\n",
      "\n",
      "###답변:유성페인트의  주된 위험 은 냄 새가 강하다는  점입니다 . 그러나  그 외에도  유성페인트는  환경  오염 을 일으킬  수 있고 , 건강에도  해로울 수 있는  물질 을 포함하고  있습니다 . 특히 , 벤젠 , 톨 루엔, 자일렌 과 같은  유해한 화합물이  포함되어  있어  장기적인  노출에 주의해야  합니다 . 따라 서 유성페인트를  다룰  때에는  환기를  충 분히 시키고 , 마스크와  같은  개인보호구를  착용하는  것이  중요합니다 . 또한 , 유성페인트를  사용 할 경우 일반적으로  쓰는  유리 와 종이보다는  플라스틱이나  콘 크리트  바닥 에 바탕으로  두는  것이  더욱  안전하게  될 수도  있습니다 . 최종적으로는  적절한  폐기에  유의하여  유성페인트를  처리하는  것이  중요합니다 . 지역에  따라  폐 기물 처리  규정이  상이 할 수 있으므로  관련  법규를 확인하여  올바른 방법으로  폐 기하는  것이  필요합니다 .<|im_end|>\n"
     ]
    },
    {
     "name": "stderr",
     "output_type": "stream",
     "text": [
      " 19%|█▉        | 25/130 [32:40<2:12:48, 75.89s/it]"
     ]
    },
    {
     "name": "stdout",
     "output_type": "stream",
     "text": [
      "<s> ###질문:가장  비싼  바닥재는  어떤  종류인가요 ? 또한 , 유광  자기 질 타일은  얼 마나 오랫동안  사용 할 수 있을까요 ?\n",
      "\n",
      "###답변:대리 석 타일의  가격대는  보통  평당 40~50만원으로  알려져 있습니다 . 이는  자연석으로부터  만들어지는  고급스러운  외관과  품질 에 기인하는  것입니다 . 대리석은  열전도율이  높아서  난방비를  절 감할 수 있는  장점이  있으며 , 깔끔하고  실제보다  공간 이 넓 게 보이 는 효과 도 줍니다 . 그러나  시공  난이도 가 높 은 편이 며, 비용 이 상대적으로  비쌉니다 . 특히  유광  자기 질 타일은  매우 고가 의 재료이며 , 일반적인  타일보 다 더 많은  유지보수 와 관리 가 필요합니다 . 따라 서 장기적인  관리 와 유지보수 에 대한  고려 가 필요한  제품이라고  볼  수 있습니다 . 추가 로, 유광  자기 질 타일은  흔 히 습기가  많은  환경에서  쉽게  오염되며 , 주기적인  청소 가 필요합니다 . 이러한 특성으로  인해 전문가 의 조언과 지원 을 받는  것이  좋습니다 . 끝으로 , 선택하고자  하는  공간 의 상태 와 목적 에 맞 는 자재 를 선택하여  전문가에게  상담 을 \n"
     ]
    },
    {
     "name": "stderr",
     "output_type": "stream",
     "text": [
      " 20%|██        | 26/130 [33:57<2:12:07, 76.23s/it]"
     ]
    },
    {
     "name": "stdout",
     "output_type": "stream",
     "text": [
      "<s> ###질문:풍수지리를  활용하여  집을  꾸 밀 때 어떤  주의사항을  고려해야  할까 요? 그리고  스탠 드조명을  선택 할 때 주의 할 점이  있을까요 ?\n",
      "\n",
      "###답변:풍수지리를  고려 할 때는  문의  위치 , 가구  배치, 그리고  색상 선택 에 신중하게  접근하세요 . 이것이  가장  중요한  것은  에너지 의 흐름을  효율적으로  관리하는  것입니다 . 또한 , 각 구역마다  다른  기능이나  특성을  부여하여  집 전체 에 균형 을 유지하는  것도  중요합니다 . 마지막으로 , 자연광 과 인공빛 을 잘 조합하여  공간 의 분위기 를 조절하는  역시 핵심이  됩니다 . 이러한 점을  유의하면  풍수지리를  적용하는  집 꾸밈 을 보다  효과적으로  실현하실  수 있습니다 . 그리고  스탠 드 조명은  독립되어  있는  공간에서  쉽게  사용 할 수 있기 때문에  유연하고  편리하게  설치 할 수 있어  좋은  선택 지입니다 . 그러나  일부 사용자들은  조도가  낮아서  작업하기에 는 불편하다고  느낄  수도  있으니  이 점도 참고하시기  바랍니다 . 따라 서 실제 상황 에 맞 게 조정 할 필요가 있다 는 점과  함께  소화기를  설치하거나  안전조치 를 취하시는  것이  좋습니다\n"
     ]
    },
    {
     "name": "stderr",
     "output_type": "stream",
     "text": [
      " 21%|██        | 27/130 [35:12<2:10:25, 75.97s/it]"
     ]
    },
    {
     "name": "stdout",
     "output_type": "stream",
     "text": [
      "<s> ###질문:반점이  1년 이상  생긴  하자 를 보수하는  방법 은 무엇인가요 ? 그리고  불량 도배지를  사용 할 경우 도배지가  얼 마나 오랫동안  버틸까요 ?\n",
      "\n",
      "###답변:벽지에  반점이  발생했을  때, 이것이  일정 기간 (보통  1년) 내에  유색 반점 증상이  사라지지  않았다 면 시공사에게  연락하여  재시공 을 요청해야  합니다 . 아세톤  용제를  이용 한 함침  방법으로는  유색 반점을  확대시키거나  추가적인  얼룩 이 발생 할 수 있으므로 , 이는  피해 야 할 사항입니다 . 따라 서 반점이  계속되는  경우에 는 전문가 의 조언을  구하는  것이  중요하며 , 필요시  신규 도배를  고려하여야  합니다 . 만약 반점이  심각하게  진행된 상황이라면  전문가 와 상의하여  적절한  대책 을 마련하는  것이  좋습니다 . 또한 , 반점이  완전히  제거되지  않더라도  교체하는  것을  권장합니다 . 왜냐하면  장기적으로  반점이  존재함에  따른 문제 가 발생 할 가능성이  높기 때문에  예방하는  것이  중요합니다 . 따라 서 반점이  안정적이지  않은 상태 로 지속된다면 , 전문가 의 도움을  받아  새로운  도배를  고려하시는  것이  좋습니다 . 올바\n"
     ]
    },
    {
     "name": "stderr",
     "output_type": "stream",
     "text": [
      " 22%|██▏       | 28/130 [36:33<2:11:53, 77.58s/it]"
     ]
    },
    {
     "name": "stdout",
     "output_type": "stream",
     "text": [
      "<s> ###질문:평지붕 의 단점은  무엇인가요 ? 그리고  실크벽지의  교체 주기 는 얼 마나인가요 ?\n",
      "\n",
      "###답변:평지붕 은 경사지붕보다  에너지  손실이  적고, 설치 , 유지보수 , 철 거가 비교 적 용이하다는  장점이  있습니다 . 그러나  비가  내리거나  눈 이 쌓이는  지역에서는  배수가  어렵 기 때문에  물이  효과적으로  제거되지  않을 수 있으며 , 이에  따라  수리작업이나  세척 이 어려울 수 있다 는 단점도 있을  수 있습니다 . 또한  일반적인  형태 의 곡률 로 인해 긴장이  풀리는  현상이  발생 할 수도  있습니다 . 이러한 특징으로  평지붕 은 주로  상업용 건물이 나 대형 주택  등에 서 사용되며 , 강도와  안정성을  고려하여  적합한 구조물을  선택하는  것이  중요합니다 . 특히  평지붕 은 태양광  패널이나  옥 상 정원  등을  추가하기에 도 좋은  플랫폼으로써  다양한 활용이  가능합니다 . 평지붕 의 평균  교체 주기 는 10년입니다 . 하지만  정기적인  유지보수 와 청소 를 통해 오랜 기간  동안  효율적으로  사용 할 수 있도록  관리해야  합니다 . 또한  날씨의  영향을  많 이 받으므로  이를  고려하여  설계하고  운영\n"
     ]
    },
    {
     "name": "stderr",
     "output_type": "stream",
     "text": [
      " 22%|██▏       | 29/130 [37:54<2:11:51, 78.33s/it]"
     ]
    },
    {
     "name": "stdout",
     "output_type": "stream",
     "text": [
      "<s> ###질문:경량철골구조 는 어떤  건물에  사용되는  건축  구조 물인가요 ? 그리고  철골구조 의 장점은  무엇인가요 ?\n",
      "\n",
      "###답변:경량철골구조 는 주로  주택 , 창고, 농자재  등에  사용되며 , 약 1.5~3mm 두께 의 철골을  사용합니다 . 이러한 경량의  철골구조 는 경제적이면서도  강도가  뛰어나 기 때문에  많은  건물에 서 사용됩니다 . 또한 , 경량철골구조 는 가벼워서  시공 이 간편하고  세련된 디자인 을 연출할 수 있어  인기가  있습니다 . 추가적으로  화재 에 대한  내성이  뛰어나 고 부식에  강한  재료이기도  합니다 . 그러나  비강도(자중에  따른 강도)가 상대적으로  작다는  단점도 있으므로  큰 규모 의 건물이 나 중량적인  장비에는  적합하지  않은 것이  일반적입니다 . 따라 서 상황 에 맞 게 선택하여  적용해야  합니다 . 만약 경량이면서  안정성을  확보하기  위해서는  전문가 와 상의하여  적절한  설계 를 하는  것이  좋습니다 . 이를  통해 안전하면서도  비용  효율적으로  건물을  건설 할 수 있을  것입니다 . 따라 서 경량철골구조 는 가정 , 창고, 농자재  등 다양한 공간에서  사용되고  있습니다 . 그 외\n"
     ]
    },
    {
     "name": "stderr",
     "output_type": "stream",
     "text": [
      " 23%|██▎       | 30/130 [39:12<2:10:43, 78.44s/it]"
     ]
    },
    {
     "name": "stdout",
     "output_type": "stream",
     "text": [
      "<s> ###질문:프리케스트  콘 크리트  구조 에 대해 자세히 설명 해 주실 수 있나요 ? 그리고  조적식 구조란  무엇인가요 ?\n",
      "\n",
      "###답변:프리케스트콘 크리트  구조 , PC라고도  불리는  이것은  건축물의  벽 , 슬 래브(SLAB), 보 등의  콘 크리트  부재를  공장에서  미리 제작하여  현장에서  조립하는  방식으로 , 공장  내에서  안정 된 환경에서  품질관리 와 대량생산 이 가능하기  때문에  품질  확보와 원가절감이  가능한  장점이  있습니다 . 또한 , 현장에서는  일부 구간을  RC(철 근 콘 크리트 ) 공법과  병 행하여  공장에서  생산 한 PC 부재와의  연결을  통해 공기 단축 이 가능하다는  점도 장점으로  꼽힙니다 . 그러나  균일한  시공 이 어렵다는  점과  현장에서의  작업량이  줄어들수록  공장  측면에서  생산량을  맞 추는 문제 가 있을  뿐만  아니 라, 현장에서도  신속하게  대응해야  하므로  일부 구간 RC 공법과 병 행할 경우 내력 성능의 저하로 인해 안전성이  약화될 수 있다 는 점을  고려하여야  합니다 . 따라 서 프리케스트콘 크리트  구조 를 선택 할 때에는  현장  조건 을 종합적으로  고려하여  적합한지  신중하게\n"
     ]
    },
    {
     "name": "stderr",
     "output_type": "stream",
     "text": [
      " 24%|██▍       | 31/130 [40:29<2:08:38, 77.96s/it]"
     ]
    },
    {
     "name": "stdout",
     "output_type": "stream",
     "text": [
      "<s> ###질문:반려동물 을 위한  가구 로 낮 은 높이의  가구 와 패브릭 소재 의 가구 가 선택되는  이유는  무엇인가요 ?\n",
      "\n",
      "###답변:반려동물들을  위한  가구로는  낮 은 높이의  가구 나 계단이  있는  가구 , 스크 래치 패드  등을  활용할 수 있습니다 . 또한  세탁 이 용이하거나  청소 가 가능한  가구 를 선택하는  것이  좋습니다 . 예를  들어 , 거울과 함께  자극적인  시각 적 요소를  제공하여  반려동물들의  흥미를  자극하는  가구 나 놀이  기구 는 효과적일  수 있습니다 . 이와  같은  다양한 아이디어 를 통해 반려동물 을 위해  쾌적한  공간 을 조성할 수 있습니다 . 때로 는 반려동물 과 함께  사용하실  수도  있고 , 스크 래치 패드 에 침 구된 곳이나  벽면이  긁힘으로  인정받고  있다 면 반려견에게  선호되는  디자인 일 수 있습니다 . 이를  고려하여  가구 나 소품을  선택하시면  반려동물과의  생활을  보다  즐겁게  만들 수 있을  것입니다 . 그리고  건강하고  안전 한 환경 을 유지하기  위해서는  실내 식물이나  공기 청정기 , 스크 래치 패드  등도 고려해보시는  것도  좋은  방법입니다 .<|im_end|>\n"
     ]
    },
    {
     "name": "stderr",
     "output_type": "stream",
     "text": [
      " 25%|██▍       | 32/130 [41:50<2:08:54, 78.92s/it]"
     ]
    },
    {
     "name": "stdout",
     "output_type": "stream",
     "text": [
      "<s> ###질문:몰 딩 수정 을 예방하기  위해  건물 내부에서  어떤  종류 의 환경  관리 가 필요한가요 ?\n",
      "\n",
      "###답변:몰 딩 수정 을 예방하려면  다음과  같은  조치 를 취하는  것이  좋습니다 .   1. 시공  시 정확한 측량과  면밀한  작업 을 하십시오 . 2. 숙 련된 기능공을  확보하고 , 이전에  근무했던  전문가에게  견적을  받고  계약을  체결합니다 . 3. 자재 를 철저히  검수하여  규격에 맞는지  확인하세요 . 4. 설치  후 충분한  시간을  주어 완전하게  건조되도록  합니다 . 5. 사용자의  요구에  따라  보수  및 교환을  신속히 실행하세요 .  위의  사항을  준수하면  몰 딩 수정 을 예방 할 수 있습니다 . 또한 , 정기적인  유지보수 와 청소 로 모던 한 외관을  오랫동안  유지하실  수도  있을  것입니다 . 만약 이미  몰 딩 수정 이 발생했다면 , 위에서  말씀드린  방법으로  즉 시 복구하시면  됩니다 . 하지만  만일 무엇이든  개선되지  않는다 면, 전문가 의 도움을  받아  부분  혹 은 전체  재시공 을 고려하시기  바랍니다 . 올바른 유지보수 는 앞으로는  이런  문제를  방지하는  데 큰 도움이  될 것입니다 . 생동감 있는  \n"
     ]
    },
    {
     "name": "stderr",
     "output_type": "stream",
     "text": [
      " 25%|██▌       | 33/130 [43:08<2:06:53, 78.49s/it]"
     ]
    },
    {
     "name": "stdout",
     "output_type": "stream",
     "text": [
      "<s> ###질문:KMEW 세라믹  지붕재의  단점에  대해 알려주세요 . 또한 , 세라믹  타일을  사용 할 때 고려해야  할 단점은  무엇인가요 ?\n",
      "\n",
      "###답변:KMEW 세라믹  지붕재는  수입품이 기 때문에  가격 이 비싸다는  점이  주요한  단점으로  언급됩니다 . 또한 , 금속  지붕 재에 비해 상당히 무겁다는  점도 고려해야  합니다 . 그러나  이러한 단점을  상쇄시킬  만큼  세라믹  지붕재는  탁월한  내구성 과 화려한 외관을  가지 고 있어 서 많은  사람들에게  인기가  있습니다 . 특히  한국에서는  전통적인  디자인 과 색상을  선호하는  경우가  많아서  널 리 사용되고  있습니다 . 따라 서, 이러한 특성들을  바탕으로  세라믹  지붕재가  국내  건축시장에서  매우 인기를  끌 고 있습니다 . 하지만  구매  결정  전에  이러한 측면을  충분한  고려 로 검토하셔야  합니다 . 추가적으로 , KMEW 세라믹  지붕재는  설치  및 유지보수에도  상당한  비용 이 소요될 수 있으므로  이 부분 도 신중하게  고려하여야  합니다 . 만약 이러한 측면에서  적절한  상담 을 받고  전문가에게  의뢰하여  정확한 견적을  받는  것이  좋습니다 . 그렇게  하면  \n"
     ]
    },
    {
     "name": "stderr",
     "output_type": "stream",
     "text": [
      " 26%|██▌       | 34/130 [44:30<2:07:14, 79.52s/it]"
     ]
    },
    {
     "name": "stdout",
     "output_type": "stream",
     "text": [
      "<s> ###질문:줄퍼티 마감은  무엇인가요 ? 또한 , 액체방수공사 는 무엇 을 하는  것인가요 ?\n",
      "\n",
      "###답변:줄퍼티 마감은  건물 내부나 외부에  시멘트  모르타 르를 사용하여  층 간소음 및 습기 차단을  위한  공법입니다 . 이러한 특성으로  인해 건축물의  안정성과  쾌적한  환경 을 제공합니다 . 액체방수공사 는 콘 크리트 에 고분자 유기물을  섞어서  만든 물질 로, 표면에  물이  떨어지는  현상을  방지하고  유지보수  비용 을 절 감할 수 있는  장점이  있습니다 . 이러한 방법들은  건물의  튼튼함과  안락함을  위해  중요한  부분으로  활용되고  있습니다 . 하지만  각각의 과정 은 전문가 의 조언과 정확한 시공 이 필요하기  때문에  신중한  설계 와 관리 가 필요합니다 . 따라 서 건설업체 와 함께  신중한  계획 과 실행을  통해 품질  좋은  완성품을  생산하는  것이  바람직한  방향입니다 . 이를  통해 건물에  편안한 환경 을 제공하면서도  구조물의  안전성을  높이는  효과 를 얻 을 수 있을  것입니다 . 이와  같은  방식으로  건물의  수명을  연장시키고  안전성을  향상시키는  데 도움을  주는  기술이며 , 현재  건축산업에서\n"
     ]
    },
    {
     "name": "stderr",
     "output_type": "stream",
     "text": [
      " 27%|██▋       | 35/130 [45:50<2:06:18, 79.77s/it]"
     ]
    },
    {
     "name": "stdout",
     "output_type": "stream",
     "text": [
      "<s> ###질문:페인 트 하도재 없이  페인트를  바로  칠 할 경우 어떤  문제 가 발생 할 수 있나요 ?\n",
      "\n",
      "###답변:기존에 설명드린  대로 , 페인트의  부착성과  내구성 을 향상시키기  위해  하도재가  필요합니다 . 또한 , 방청(녹방지 ) 기능이나  방수 기능 이 있는  하도재를  사용하면  페인트가  더 오랫동안  지속될 수 있습니다 . 따라 서, 페인트를  직접 칠하는  것보다는  적절한  하도재를  사용하여  페인트를  시공하는  것이  좋습니다 . 만약 상황 이 급박하고  특별 한 코팅이 필요한  경우에 는 직접 칠해도  되지만 , 해당 작업에는  전문가 의 조언을  듣 고 결정하는  것이  바람 직합니다 . 일반적으로  1층  또는  2층의  덧붙힌  페인트는  내구성 과 발색력이  떨어지는  경우가  많으니 , 이런  문제를  예방하기  위해서는  올바른 하도재의  선택 과 함께  신중한  시공 이 필요합니다 .특히 , 환경적인  측면을  고려하여  친환경적이고  쉽게  청소 할 수 있는  유연한  형태 의 합성수지 를 기반으로  하는  것을  권장합니다 . 추가 로, 페인트에  대한  지식 을 증대시키고  품질 을 확보하기  위해  정기적인  교육 과 훈련 을 받는  \n"
     ]
    },
    {
     "name": "stderr",
     "output_type": "stream",
     "text": [
      " 28%|██▊       | 36/130 [47:08<2:04:09, 79.25s/it]"
     ]
    },
    {
     "name": "stdout",
     "output_type": "stream",
     "text": [
      "<s> ###질문:바닥재가  남으면  어떻 게 처리하는  게 좋을까 요? 그리고  장판이  남을 때 어떻 게 처리해야  하나 요?\n",
      "\n",
      "###답변:나무 재질의  바닥재를  처리하기  위해서는  특수규격봉투 (불연성 폐 기물 마대)에 넣어서  배출하면  됩니다 . 이러한 자재 는 일반적인  일반 쓰레기통에 담아서  배출할 경우 위험하므로 , 해당 자재 의 안전관리법에  따라  적절하게  분리하여  처리해야  합니다 . 따라 서, 바닥재의  크기와  양량에  따라  적절한  조치 를 취하셔야  하며 , 지역의  구청이나  주민센터  등에 서 지침을  받아 야 합니다 . 또한 , 5톤  이상이라면  전문  업체 를 통해서  처리해야  하니  참고하시기  바랍니다 . 함께  해결할 수 있는  자원봉사자나  주거공동체와의  협력 도 고려해보시기  바랍니다 . 지역에  따라  다르지 만, 대부분의  지자체에 서 이와  같은  방법으로  처리하고  있으니  관련  법규와 규정을  확인하시고  문의하시는  것이  좋습니다 . 생활환경공단 , 환경공단 , 국민 공기청정협회  등과 같이  규제  기관에서도  관련  정보 가 제공되고  있습니다 . 필요한  경우 전문가 의 조언을  구하시기  바랍니다 . 지역  내 건설업체 나 목공업업체에서  재료\n"
     ]
    },
    {
     "name": "stderr",
     "output_type": "stream",
     "text": [
      " 28%|██▊       | 37/130 [48:29<2:03:46, 79.86s/it]"
     ]
    },
    {
     "name": "stdout",
     "output_type": "stream",
     "text": [
      "<s> ###질문:도배지에  생긴  반점을  없애기 위해  가장  효과적인  방법 은 무엇인가요 ?\n",
      "\n",
      "###답변:해당 현상은  주로  석고보드 에 함유된 안료나 염 료 등의  구성  물질 이 도배지에  전이되어  발생하는  것으로 , 다음과  같은  가능성이  있습니다 .   1. 공간  내 높 은 습도로  인한  곰팡이와  먼 지 및 기타  이물질 의 축 적 - 책임소재 : 건물의  소유자나  거주자 가 습기 관리 의 책임 이 있습니다 . - 해결 방법 : 제습기를  사용하거나  환기를  통해 실내의  적정 습도를  유지하고  전문가 의 도움을  받아  보수작업해야  합니다 .  2. 벽면의  손상으로  인해 가루 가 누출되고  도배지가  오염되는  경우 - 책임소재 : 벽면에  손상을  방생시킨  주체가  책임 을 집니다 . - 해결 방법 : 손 상된 벽을  복원시키고  평평하게  균형 을 맞춘  후 재작업 을 진행해야  하며 , 이러한 복원을  위한  지원 은 건축업체로부터  받을  수 있습니다 .  3. 구조체의  이동이나  균열이  원인 일 수 있는 데, 이는  건물의  안정성에  영향을  미칠  수 있으므로  철저히  검토하여  해결해야  합니다 . - 책임소재 : 건물의\n"
     ]
    },
    {
     "name": "stderr",
     "output_type": "stream",
     "text": [
      " 29%|██▉       | 38/130 [49:54<2:04:29, 81.20s/it]"
     ]
    },
    {
     "name": "stdout",
     "output_type": "stream",
     "text": [
      "<s> ###질문:새집증후군 의 주요 원인 은 무엇인가요 ?\n",
      "\n",
      "###답변:새집증후군 의 가장  흔 한 원인 은 휘 발성 화학물질 (VOC)에 노출되는  것입니다 . VOC는 주로  방부제, 접착제의  원료로 사용됩니다 . 이러한 물질들은  공기 중에  농도가  높아지 면 눈 , 코, 목의  통증이 나 두통, 천식, 아토피성 피부염  등의  증상을  유발할 수 있습니다 .특히 , 신축  주택이나  리모델링  시에는  새로 지은 집에  적용된 건축자재에서  발생하는  VOCs가 문제 가 될 수 있습니다 . 이에  따라  실내 환경 을 개선하고  자체 점검  및 전문가  상담 을 통해 문제를  예방하는  것이  중요합니다 . 또한 , 공기정화식물 을 키우고  환기를  유지하는  것도  도움이  될 수 있습니다 . 만약 증상이  심각해지 면 의료  전문가 와 상의하여  안전 한 방법으로  진단 과 치료 를 받아 야 합니다 . 함께  실내에  더 많은  공기 청정기 를 설치하여  쾌적한  실내 환경 을 조성하는  데 도움을  줄 수도  있습니다 . 그러므로  신중한  설계 와 시공 , 그리고  꾸 준한 관리 가 필요한  것입니다 . 때때로  추가적인\n"
     ]
    },
    {
     "name": "stderr",
     "output_type": "stream",
     "text": [
      " 30%|███       | 39/130 [51:07<1:59:30, 78.80s/it]"
     ]
    },
    {
     "name": "stdout",
     "output_type": "stream",
     "text": [
      "<s> ###질문:방청도료 도장 작업 을 위해  필요한  단계 는 무엇인가요 ? 또한 , 콘 크리트  벽 에 구멍 을 뚫 는 방법에는  어떤  도구나  기술을  사용해야  하나 요?\n",
      "\n",
      "###답변:방청도료 도장은  좁 은 부분 일수록  붓 을 이용하고 , 큰 작업 은 스프레이를  활용합니다 . 보통  방청도료는  2~3회에  걸쳐  도장을  하며 , 종류 와 브랜드 에 따라  완전히  건조한  후에  다음 층을  도포하게  됩니다 . 이때, 도료를  바탕면에  발라주는  것이  중요하므로  철저히  시공하여야  합니다 . 그리고  마지막으로  상도재를  바르 면 됩니다 . 만약 고정성이  뛰어나 지 않거나  부착력이  약한  경우에 는 못을 사용하여  추가적인  접착제를  해당하는  것도  가능합니다 . 하지만  이는  전문가 의 조언을  듣 기 전에  시행하지  않도록  주의해야  합니다 . 여기에  대해서  자세한  정보 를 제공하기  어려운  reason은 숙 련된 기능공이  아직 확보되어  있지  않았기  때문입니다 . 이에  대한  대비책으로 는 각 공정별로  전문적인  기술이나  노력을  투자하여  품질 을 높이고 , 생산성과  효율성을  향상시키는  방안 을 고려해야  합니다 . 그러므로  현재 의\n"
     ]
    },
    {
     "name": "stderr",
     "output_type": "stream",
     "text": [
      " 31%|███       | 40/130 [52:20<1:55:41, 77.13s/it]"
     ]
    },
    {
     "name": "stdout",
     "output_type": "stream",
     "text": [
      "<s> ###질문:어떤  종류 의 실내 식물 을 선택해야  식물 을 효과적으로  가꾸 는 데 도움이  될까요 ? 그리고  인테리어 에 가장  많 이 사용되는  도배재료 는 무엇인가요 ?\n",
      "\n",
      "###답변:실내 식물 은 공기를  정화해주는  역할을 하며 , 동시에  공간 을 아름답게  만들어주는  기능 을 합니다 . 또한 , 연구 에 따르면  실내 식물 을 두고  있는  사람들이  더 행복하고  안정적인  분위기 를 유지하는  것으로  알려져 있습니다 . 이에  따라  인기가  높 고, 다양한 종류 의 실내 식물 이 인테리어  디자인에서  널 리 활용되고  있습니다 . 특히  녹 색 식물 , 상록수, 아이비는  매우 인기 있었으며 , 최근에는  스파 티필럼 , 뱀 래, 선인장류 등도 많은  분들에게  좋은  선택지가  되었습니다 . 이러한 식물들을  적절하게  배치하여  공간 을 생기있게  만들 수 있으며 , 건강에도  유리 한 영향을  줄 수 있습니다 . 그러므로  실내 식물 을 통해 자연스러운  분위기 와 건강 한 몸피를  얻 을 수 있습니다 . 만약 너무  많은  종류 의 식물 이 부담스러워보이 면, 전문가 나 꽃  가게에서  조언을  구하시는  것을  권유드립니다\n"
     ]
    },
    {
     "name": "stderr",
     "output_type": "stream",
     "text": [
      " 32%|███▏      | 41/130 [53:41<1:55:53, 78.13s/it]"
     ]
    },
    {
     "name": "stdout",
     "output_type": "stream",
     "text": [
      "<s> ###질문:원목마루 와 롱 브릭타일에  대해 설명해주세요 . 각각의 단점과  특징 은 무엇인가요 ?\n",
      "\n",
      "###답변:원목마루 는 두께감이  있어  열전도율이  낮으며 , 습기에  약하고  온도변화 에 민감하다는  점이  장점입니다 . 또한 , 표면이  부드러 운 편인 경우 가구  등을  이동시킬  때 주의가  요구됩니다 . 반면에  롱 브릭타일은  노출된 콘 크리트보다  쿠 션감과  촉감이  좋아 걷 기 좋은  편이 며, 내구성 이 뛰어나 고 디자인적인  측면에서 도 다양한 선택지가  있습니다 . 하지만  수분에  취약하며  벽면의  손상이  발생하면  수리하기  어려울 수 있는  점에  유의해야  합니다 . 따라 서 환경 과 사용  용도에  적합한 소재 를 선택하는  것이  중요합니다 . 특히  습기가  많은  욕실이 나 주방 등의  공간에서는  더욱  신중한  선택 이 필요합니다 . 물론  개인적인  호기와  실제 시공  경험 을 고려하여  최적의  선택 을 할 수 있도록  신중하게  검토하시기  바랍니다 . 만약 추가적인  정보 가 필요하다 면 건축업체에게  상담 을 받는  것도  좋은  방법입니다 . 함께  상의해서  적절한  바닥재료 를 결정하는  것이  중요하니  주의\n"
     ]
    },
    {
     "name": "stderr",
     "output_type": "stream",
     "text": [
      " 32%|███▏      | 42/130 [54:52<1:51:34, 76.07s/it]"
     ]
    },
    {
     "name": "stdout",
     "output_type": "stream",
     "text": [
      "<s> ###질문:침실을  더 아늑하게  꾸 밀 수 있는  방법에는  어떤  것이  있을까요 와 아이 가 있는  집을  꾸 밀 때 안전 을 위해  고려해야  할 요소는  무엇인가요 의 관계 는 무엇인가요 ?\n",
      "\n",
      "###답변:침실을  아늑하게  만들기  위해서는  몇  가지  조치 를 취할 수 있습니다 . 부드러 운 조명과  포근한 이불은 기본이지만 , 추가적으로  나무  가구 를 활용하여  자연적이고  따뜻 한 분위기 를 연출할 수 있습니다 . 또한 , 벽이나  천장에  자연적인  텍 스처나 식물 을 적극적으로  활용하면  공간 에 생동감을  불어 넣을 수 있습니다 . 끝으로 , 진흙색은  안정감과  편안함을  주는  색상이므로  침 실 장식품으로  효과적으로  활용할 수도  있습니다 . 이러한 조합 을 통해 침실을  아늑하고  편안하게  꾸 밀 수 있습니다 . 그리고  아이들이  있는  집도 함께  고려 된 디자인으로  안전성을  높이고  쾌적한  환경 을 조성하는  데 도움이  될 것입니다 . 이를  통해 밤 을 보다  아늑하게  보낼  수 있도록  하세요 . 생활  속에서  소중한  시간을  내어  휴식과  안정 을 찾으며 , 가정  안에서 의 작은  변화들로  인해 행복 한 \n"
     ]
    },
    {
     "name": "stderr",
     "output_type": "stream",
     "text": [
      " 33%|███▎      | 43/130 [56:08<1:50:13, 76.01s/it]"
     ]
    },
    {
     "name": "stdout",
     "output_type": "stream",
     "text": [
      "<s> ###질문:인테리어에서  컬 러매치 를 위한  효과적인  팁 이 있을까요 ? 그리고  복도나 협소한  공간 을 확장시키기  위해  가장  효과적인  방법 이 무엇일까요 ?\n",
      "\n",
      "###답변:컬 러매치 와 공간  확장을  위한  꿀팁으로는  밝 은 색과 어두운 색의  조화를  이용하는  것이  중요합니다 . 또한 , 가구 의 색상과  벽면의  색을  잘 조합하여  공간 에 화려함과  편안함을  더해주는  것도  좋은  아이디어입니다 . 뿐만  아니 라, 수평적 패턴과 세로 적 패턴을 활용하여  공간 을 시각적으로  확장시키는  디자인 을 고려해보세요 . 마지막으로 , 큰 창문이 나 거울을 사용하여  자연광 을 최대한  반사하고  공간 을 시원하게  만들어보는  것 역시 유용한 방법입니다 . 이러한 다양한 기법을  통해 집안에서  밝 고 넓 은 느낌 을 연출할 수 있습니다 . 때로 는 심플한 소품이나  액세서리를  추가함으로써  공간 을 보다  풍 성하게  꾸 밀 수도  있습니다 . 그 때 주의해야  할 점은  너무  많은  패턴이 과도하게  섞이는  것을  방지하는  것입니다 . 너무  많은  패턴은 공간 을 좁 아보이 게 만들 수 있으므로 , 적절한  \n"
     ]
    },
    {
     "name": "stderr",
     "output_type": "stream",
     "text": [
      " 34%|███▍      | 44/130 [57:26<1:50:07, 76.83s/it]"
     ]
    },
    {
     "name": "stdout",
     "output_type": "stream",
     "text": [
      "<s> ###질문:그라 스울 보온판의  주요 장점 중 하나 인 흡 음 성능은 어떻 게 발휘 될까요 ?\"\n",
      "\n",
      "###답변:그라 스울의 또 다른  특징 은 뛰어난  흡 음 능력입니다 . 이러한 속성으로 , 소음을  효과적으로  감소시켜주고  공간 을 더욱  안락하게  만들어줍니다 . 특히  저주파의  진동음을  제거하여  안정적인  실내 환경 을 유지하는  데에 도움을  줄 수 있습니다 . 따라 서, 소음이  많은  공간이나  음악  및 영화  관람 시설 , 상업용 건물 등에 서 매우 유용하게  활용됩니다 . 또한 , 열전도율이  낮아서  단열성과  함께  훌륭 한 흡 음 기능 을 지니 고 있어  건축자재로서  다양한 면에서  매력적입니다 .   그라 스울은 폐유리 를 재활용하여  친환경적이고 , 내구성 과 조직력이  좋아 건축재료로서의  가치 가 높습니다 . 또한  가볍 기 때문에  시공성이  뛰어나 며, 화석연료  사용 을 50%가량  줄일 수 있는  에너지  절 약 효과 도 가지 고 있습니다 . 그러나  비싼  가격대가  단점으로  언급되며 , 글라 스울로 제작 된 제품에는  부주의 한 관리 가 필요합니다 . 직사광선과  고온\n"
     ]
    },
    {
     "name": "stderr",
     "output_type": "stream",
     "text": [
      " 35%|███▍      | 45/130 [58:48<1:51:00, 78.35s/it]"
     ]
    },
    {
     "name": "stdout",
     "output_type": "stream",
     "text": [
      "<s> ###질문:미네랄 울 보온판은  왜  고속  회전원심공법으로  제조되는  건가요 ?\"\n",
      "\n",
      "###답변:미네랄 울 보온판의  특징 은 다음과  같습니다 . * 특징  : 규산 칼슘계의  광석을  고온으로  용융시켜  만든 순수무기 질섬유 로, 이중보온 시스템에서  고온부위나 내화·내열 목적으로  사용됩니다 . * 장점 : 고속  회전원심공법 시공으로  일정한  섬유  굵기를  유지하여  얇 은 굵기로  미세한  공기층을  통해 열의  흐름을  효율적으로  차단할 수 있습니다 . 미네랄 울의 뛰어난  조직력과  강도(Kevlar)는 장기간에  걸쳐  안정적인  성능을 발휘하며 , 불연재료로서  난연성 및 방염성을  가지 고 있어  안전성이  높습니다 . 흡 음성과  유연성을  갖 추고 있어  시공성이  좋습니다 . * 단점 : 내단열재로  쓰이고  있으나  외장재와 직접 닿으면  결로가  발생하는  현상이  발생하므로  주의가  필요합니다 . 표면초기 상태 는 양호하지만  박리(하나 의 재료 가 다른  재료와의  경계면에서  떨어져  나감)시 복원이  불가능하고 , 부착면이  노출되면  오염 될 수 있는  현상입니다 . 때문에  외부에서  쉽게\n"
     ]
    },
    {
     "name": "stderr",
     "output_type": "stream",
     "text": [
      " 35%|███▌      | 46/130 [1:00:04<1:48:40, 77.62s/it]"
     ]
    },
    {
     "name": "stdout",
     "output_type": "stream",
     "text": [
      "<s> ###질문:도배 후 필름 시공 은 어떤  경우에  추천하시나요 ? 또한 , 낡 은 목재 가구 의 흠집을  숨기는  방법 을 알려주세요 .\n",
      "\n",
      "###답변:일반적으로  도배를  먼 저하고  그 후에  필름을  시공하는  것이  일반적입니다 . 이는  벽지를  부착하기  전에  기존 벽면을  완전히  처리했기  때문이죠 . 만약 필름 시공  이후  도배를  진행해야  한다면 , 실리콘으로  마감하여  벽지에  필름을  붙이지  않도록  주의해야  합니다 . 추가적인  보호층을  위해  필름 시공  후에  도배를  하게  되면 , 외부에서  오는  습기로  인해 벽지가  젖어서  하자 가 발생 할 가능성이  있습니다 . 따라 서 안전하고  품질  좋은  결과물을  얻고자  하면  도배 후 필름 시공 이 바람직한  선택입니다 . 그리고  필름 시공  후에  도배를  진행하더라도  괜찮지만 , 실리콘이나  특별 한 방수 처리 를 통해 불편함을  방지하도록  유의하시기  바랍니다 . 때로 는 순서를  바꿔 서 진행하기도  하지만 , 올바른 순서를  지키면 더욱  효과적일  것입니다 . 결론적으로  도배와 필름 시공 은 함께  고려되어야  하며 , 적절한  접근 이순 중요합니다 . 상황 에 맞 게 전문가 의 조언을  듣 \n"
     ]
    },
    {
     "name": "stderr",
     "output_type": "stream",
     "text": [
      " 36%|███▌      | 47/130 [1:01:19<1:46:04, 76.68s/it]"
     ]
    },
    {
     "name": "stdout",
     "output_type": "stream",
     "text": [
      "<s> ###질문:입구나  복도의  표면에  사용하기  적합한 페인 트 종류 는 무엇이며 , 이 공간 을 환영스럽게  꾸미는  데 있어  어떤  인테리어  요소가  중요한가요 ?\n",
      "\n",
      "###답변:입거나  복도에  사용되는  도장재료로는  주로  유성 발수제가  적용됩니다 . 이는  물에  대한  저항력을  높이고 , 마찰 에 의해 발생하는  손상을  방지하는데  도움을  줍니다 . 또한 , 실리콘이나  폴리싱  타일을  사용하여  바닥이나  벽면을  매끈하게  처리하고  방수성을  향상시킬  수도  있습니다 . 이러한 방법으로  인해 보다  안락하고  편안한 분위기 를 조성할 수 있을  것입니다 . 그리고  식물이나  조화 등의  작은  소품을  활용하여  자연스러운  분위기 를 더해주는  것도  좋은  아이디어입니다 . 그렇게  하면  입고나 복도가  더욱  아늑하고  편안한 공간으로  변할 것입니다 . 만약 이런  조치들을  취해도  여전히  습기가  많은  느낌 을 받는다 면, 제습기를  가동하거나  환기시킴으로써  습도를  줄이는  것이  좋습니다 . 이를  통해 쾌적한  환경 을 조성할 수 있도록  노력해보세요 . 혹 은 전문가에게  상담 을 받아  좀  더 신중한  대책 을 마련하는  것도  고려 해\n"
     ]
    },
    {
     "name": "stderr",
     "output_type": "stream",
     "text": [
      " 37%|███▋      | 48/130 [1:02:32<1:43:14, 75.55s/it]"
     ]
    },
    {
     "name": "stdout",
     "output_type": "stream",
     "text": [
      "<s> ###질문:도배지가  먼지나  연기로  인해 얼 마나 빨리  오염 될 수 있나요 ? 그리고  습도가  높 을 때 곰팡이가  어떻 게 발생하는지  자세히 알고 싶습니다 .\n",
      "\n",
      "###답변:도배지 표면에  먼지나  연기(담배, 조리과정에서  발생하는  연기 등)가 축 적되면  얼룩 이 생길 가능성이  있습니다 . 특히 , 공간  내 습도가  높으면  곰팡이와  결로가  쉽게  발생하여  도배지에  얼룩 이 더해질  수 있습니다 . 따라 서 실내의  환경 을 관리하고  적절한  환기를  유지함으로써  도배지의  오염 을 최소화할  필요가 있습니다 . 또한 , 청소 를 정기적으로  하면  도배지의  오염 을 줄일 수 있으며 , 전문가 의 도움을  받아  효과적인  방법으로  청소 할 수도  있습니다 . 만약 도배지에  얼룩 이 발견된다면 , 신속하게  처리해야  하며  전문가 와 상담하여  적절한  조치 를 취하는  것이  좋습니다 . 함께  협력해서  건강 한 실내 환경 을 유지하는  데 노력해보시기  바랍니다 . 때로 는 환경  변화에도  영향을  받으므로 , 상황 에 맞 게 유연하게  대응하는  것도  중요합니다 . 만약 습기가  많은  겨울철에는  추가적인  방수 처리 가 필요\n"
     ]
    },
    {
     "name": "stderr",
     "output_type": "stream",
     "text": [
      " 38%|███▊      | 49/130 [1:03:48<1:42:08, 75.66s/it]"
     ]
    },
    {
     "name": "stdout",
     "output_type": "stream",
     "text": [
      "<s> ###질문:방청페인트를  시공하는  방법에는  어떤  단계 가 포함되나요 ? 또한 , 배관공사  시 통기구 를 설치해야  하는  이유가  무엇인가요 ?\n",
      "\n",
      "###답변:방청페인트의  시공방법 은 피도면 정리 , 방청도료 도장, 상도작업  순으로  진행합니다 . 먼 저 피도면을  꼼꼼하게  정리하고 , 방청도료를  도장한  후 마지막으로  상도작업 을 수행합니다 . 이를  통해 방청페인트를  적절 히 시공하여  내구성 과 효과성을  높 일 수 있습니다 . 또한 , 배관공사  시에는  반드시  통기구 를 설치하여야  하며 , 이를  통해 공기와  물을  순환시키고  온도와  압력을  조절함으로써  안전 한 수도  및 하수도  시스템 을 유지 할 수 있습니다 . 따라 서 이러한 주의사항을  준수하여  방청페인트와  관련 된 문제를  예방하는  것이  중요합니다 . 만약 추가적인  정보 나 도움이  필요하다 면 전문가에게  상담 을 받는  것을  권장합니다 . 함께  협력하여  보다  신뢰 worthy 한 환경 을 구축하는  데 노력해보시기  바랍니다 . 더 자세한  정보를  원한다면  시설공단에서  제공하는  자료를  참고하시면  좋습니다 . 감사 록습니다 . 위생의  건강 에 영향을  미치는  환경 의 질을  개선\n"
     ]
    },
    {
     "name": "stderr",
     "output_type": "stream",
     "text": [
      " 38%|███▊      | 50/130 [1:05:02<1:40:21, 75.27s/it]"
     ]
    },
    {
     "name": "stdout",
     "output_type": "stream",
     "text": [
      "<s> ###질문:유성발수제를  사용하는  것의 실제 효과 는 무엇인가요 ? 또한 , 규산질계 침투 성 도포 방수공사 는 어떤  방식으로  이루어지나 요?\n",
      "\n",
      "###답변:유성발수제의  장점은  물이  소지에  침투하는  것을  근본적으로  막아주 고, 동결이나  염 에 의한 손 상, 화학적인  파괴 , 생물 에 의한 침 식 등 다양한 손상을  예방 할 수 있다 는 점입니다 . 이를  통해 건축물의  내구성 을 향상시키고  유지보수  비용 을 절 감할 수 있는  장점이  있습니다 . 또한 , 우수한  표면 마감을  제공하여  건물 외관의  미적 가치 를 높이는  데에도  기여합니다 . 그러나  유성발수제는  휘 발성이  강하기  때문에  냄 새가 짙 은 편이므로  환경 에 유의해야  하며 , 시공  시 신속하게  건조되어야  합니다 . 추가적으로 , 적절한  방법으로  사용하고  숙 련된 전문가에게  의뢰하여  정확한 시공 이 필요합니다 . 이와  같은  이유로  건물에  유리 한 재질로  불리며 , 탁월한  방수기능 을 제공하지만  몇  가지  단점을  고려하여야  합니다 . 이에  따라  건물의  구조 와 목적 에 맞춰  적합한 재료 를 \n"
     ]
    },
    {
     "name": "stderr",
     "output_type": "stream",
     "text": [
      " 39%|███▉      | 51/130 [1:06:16<1:38:26, 74.77s/it]"
     ]
    },
    {
     "name": "stdout",
     "output_type": "stream",
     "text": [
      "<s> ###질문:높 은 습도로  인해 몰 딩수정 이 발생하는  경우가  있을까요 ? 또한 , 내부와  외부 온도의  큰 차이로  인해 곰팡 이 발생 이 빨 라지나 요?\n",
      "\n",
      "###답변:고습도 환경에서  몰 딩 소재 가 팽 창하거나  수축하여  변형될 수 있습니다 . 따라 서, 습도가  높 은 공간에서는  몰 딩의 손상을  예방하기  위해  적절한  환기와  보완 재료 를 사용해야  합니다 . 또한 , 몰 딩을 시공 한 후에 는 실내에  공기 순환 과 건조를  유지함으로써  습기로  인한  변형을  방지 할 필요가 있습니다 . 만약 이미  모링이 변형되었다 면, 전문가 와 상의하여  신중하게  진단받아 야 하며  적절한  보수작업 을 통해 복원할 수 있도록  조치해야  합니다 . 더불어 , 몰 딩의 재질과 설치  위치 에 따라  적합한 방수/장식 코팅물을  선택하고  균일한  압력으로  시공하여  습기의  침투를  막아야  합니다 . 추가적으로 , 몰 딩의 표면을  광 택이나  반사적인  처리 로 보호해주는  것도  좋은  방법입니다 . 이러한 대책들을  통해 습기로부터  안전 한 인테리어  환경 을 조성할 수 있습니다 . 만약 무시되고  \n"
     ]
    },
    {
     "name": "stderr",
     "output_type": "stream",
     "text": [
      " 40%|████      | 52/130 [1:07:29<1:36:34, 74.29s/it]"
     ]
    },
    {
     "name": "stdout",
     "output_type": "stream",
     "text": [
      "<s> ###질문:인테리어  소품을  선택 할 때 어떤  요소에  주의해야  할까 요와 주방을  활기차게  꾸 미기 위해  어떤  요소를  추가 할 수 있을까요 의 관계 는 무엇인가요 ?\n",
      "\n",
      "###답변:주방은  식탁 , 음식 을 굽 는 스토 브, 그리고  대형 유리창을  가진 공간으로  디자인되어야  합니다 . 또한 , 주방 전체 에 조명을  설치하여  밝하고  환한 분위기 를 연출하는  것이  좋습니다 . 푸드 를 조리하기  위한  칼 과 도구는  눈에  띄 지 않도록  보관하되 , 쉽게  접근할 수 있도록  배치하는  것이  좋으며 , 다용도로  사용 될 수 있는  테이블런이나  선반을  활용하는  것도  좋은  아이디어입니다 . 더불어  식물이나  꽃들을  이용하여  자연스러운  느낌 을 주는  것도  좋은  방법입니다 . 그 외에도  개별적인  취향에 맞춘  특별 한 장식품들로  주방을  꾸미는  것도  가능합니다 . 만약 주방에서  개선 이 필요한  부분이라면 , 전문가 나 컨설턴트와 의 상담 을 받아보는  것을  권해드립니다 . 함께  신중하게  고려하여  최적의  디자인 을 결정하는  것이  핵 심입니다 . 생활  패턴과 예산 을 고려하여  실용성을  높이면서 도 아름다운  디자인 을 \n"
     ]
    },
    {
     "name": "stderr",
     "output_type": "stream",
     "text": [
      " 41%|████      | 53/130 [1:08:42<1:34:48, 73.87s/it]"
     ]
    },
    {
     "name": "stdout",
     "output_type": "stream",
     "text": [
      "<s> ###질문:초배지만  남은 벽 에 페인트를  칠하면  어떤  문제 가 발생하나 요? 또한 , 속건형 유성 발수제의  사용  목적 과 효과 에 대해 알려주세요 .\n",
      "\n",
      "###답변:초배지는  매우 얇아서  표면이  부드럽 고 균일한  마감을  제공하지  않습니다 . 이러한 특성으로  인해 도장할 때에는  기존의 벽지나  도료와 함께  추가적인  보호층을  만들어 야 합니다 . 이를  통해 도장의  내구성 을 향상시키고  오랜 기간  동안  유지 할 수 있습니다 . 또한 , 속건형 유성 발수제는  도장 후 용제가  증발되면서  발수효과 를 발휘하여  외부의  빗 물 등이  침투하는  것을  막아주 는 역할을 합니다 . 따라 서, 초배지와  함께  사용함으로써  더욱  견고한  방수 및 내구성 을 확보할 수 있습니다 . 이러한 처리 를 통해 공간 의 내구성 을 높이고  장기적으로  유지보수  비용 을 절 감할 수 있는  장점이  있습니다 . 그러나  각 상황 에 적합한 처리 를 선택하기  위해서는  전문가 의 조언을  듣 는 것이  중요합니다 . 올바른 방법으로  작업한다면  좋은  결과 를 얻 을 수 있지 만, 잘못된\n"
     ]
    },
    {
     "name": "stderr",
     "output_type": "stream",
     "text": [
      " 42%|████▏     | 54/130 [1:09:55<1:33:28, 73.79s/it]"
     ]
    },
    {
     "name": "stdout",
     "output_type": "stream",
     "text": [
      "<s> ###질문:벽지에  반점이  생겼 을 때, 왜  1년 이내인 경우에 만 벽 지 아세톤  용제 함침  방법 을 사용하고  개선  벽지로  재시공해야  하나 요?\n",
      "\n",
      "###답변:석고보드 에 반점이  발생했을  때는 , 해당 부분 을 아세톤으로  닦 아내고 , 건조시킨  후 다시  도배하는  것을  추천합니다 . 이를  통해 반점을  제거하고 , 더 나은 상태 의 벽을  유지 할 수 있을  것입니다 . 하지만  이러한 과정 은 전문가 의 도움을  받는  것이  좋습니다 . 따라 서 아세톤으로  먼지를  제거하고 , 새로운  벽지를  설치하기  전에 는 전문가에게  상담 을 받고  적절한  대책 을 마련하는  것이  좋습니다 . 부연하자면 , 이염이나  습기로  인한  반점은  건축자재 의 품질 과 제조  공정 에 영향을  미칠  수 있으므로 , 생산사의  권장사항을  준수하여  좋은  품질 의 벽지를  선택하는  것이  중요합니다 . 또한 , 환경  조건 과 사용자의  취향에 맞춘  맞춤제작 을 고려한다면  더욱  나은 결과물을  얻 을 수도  있습니다 . 때문에  신중한  연구 와 계획 을 통해 반점 문제를  최대한  완화할  수 있습니다 . 올바른 절차 를 따\n"
     ]
    },
    {
     "name": "stderr",
     "output_type": "stream",
     "text": [
      " 42%|████▏     | 55/130 [1:11:15<1:34:20, 75.48s/it]"
     ]
    },
    {
     "name": "stdout",
     "output_type": "stream",
     "text": [
      "<s> ###질문:석구조란  무엇인가요 ? 그리고  기둥 -보 구조  방식 은 무엇 을 의미하나 요?\n",
      "\n",
      "###답변:석구조 는 주로  석재로  쌓 아 만든 건축물을  말합니다 . 이러한 구조법은  궁 전, 불사, 탑 비 등의  고건물에 서 볼  수 있습니다 . 그러나  풍압 력, 지진력, 기타  인위적 횡력에서는  극 히 취약하기  때문에  고층  건물에 는 부적합하며 , 보강구조 로 해야  합니다 . 따라 서 보강구조 와 함께  사용되는  경우가  많습니다 . 그 외에도  자연재해로부터  안전하게  보호받을  수 있는  고려 가 필요합니다 . 예를  들어  바다  저항성 코팅이나  대류 시스템 과 같은  추가적인  방법들이  필요할 수 있습니다 . 그러므로  석구조 를 선택 할 때는  해당 구조물의  장단점과  주변의  환경 을 종합적으로  고려하여  결정하는  것이  좋습니다 . 또한  석조체의  이동으로  인한  문제점을  최소화하기  위해  창(門)짝 새나 개구부에  위치 를 조정하고 , 동시에  보강을  철저히  하면  됩니다 . 이렇게  함으로써  안정성을  확보하면서도  석조재의  특성에  맞춰  시공 할 수 있습니다 . 결국 석구조물은  매우 특별 한 재료이지만 , \n"
     ]
    },
    {
     "name": "stderr",
     "output_type": "stream",
     "text": [
      " 43%|████▎     | 56/130 [1:12:33<1:34:06, 76.30s/it]"
     ]
    },
    {
     "name": "stdout",
     "output_type": "stream",
     "text": [
      "<s> ###질문:원목마루 의 어떤  단점이  있는 지 알려주세요 . 그리고  도배지가  남으면  어떻 게 처리해야  하나 요?\n",
      "\n",
      "###답변:원목마루 는 마루  중에  가장  비싼  편이 며 원목이  두께감이  있어  열전도율이  낮 아 예열시간이  길고 습기에  약하다는  단점이  있습니다 . 또한 , 원목의  특성상 표면이  부드럽 기 때문에  가구  등을  이동시킬  때 주의가  필요합니다 . 추가적으로  원목은  가볍지만  매우  fragile하기  때문에  충격을  받거나  마모될 위험 이 있으니  조심해야  합니다 . 한편, 장점으로 는 자연스러운  우드  텍 스처와 따뜻 한 분위기 를 제공한다는  점을  들 수 있습니다 . 또한 , 환경  친 화적이고  보행감과  촉감이  좋다는  점도 장점으로  꼽힙니다 . 최종적으로는  원목마루 는 독특한 외관과  내구성으로  인해 많은  사람들에게  선호되며 , 고급스러운  인테리어에서  많 이 사용됩니다 . 그러나  유지보수 에 대한  비용 과 관리 가 어렵다는  점에  유의하는  것이  중요합니다 . 특히 , 습기와  온도에  민감하므로  실내 환경 을 적절하게  유지하고  관리하여야  합니다 . 추가적인  방수 및 환기를  통해 습도를  제어하고 , 냉 난\n"
     ]
    },
    {
     "name": "stderr",
     "output_type": "stream",
     "text": [
      " 44%|████▍     | 57/130 [1:13:49<1:32:45, 76.23s/it]"
     ]
    },
    {
     "name": "stdout",
     "output_type": "stream",
     "text": [
      "<s> ###질문:마감재의  하자 를 판단하는  데 어떤  방법 을 사용해야  할까 요? 그리고  새집증후군 을 예방하는  데 가장  효과적인  방법 은 무엇인가요 ?\n",
      "\n",
      "###답변:마감재에서  발생하는  하자는  재료 , 시공 , 유지관리  등 다양한 원인으로  인해 발생 할 수 있습니다 . 예를  들어 , 부적절한  설치 나 잘못된 공구 및 재료  선택 , 불량 제품  제작 , 후속작업에서의  부주의  등이  주요한  원인입니다 . 또한 , 환경  조건 (습기, 곰팡 이 등을  고려 )에 따른 마감재 손상에 도 영향을  미칠  수 있습니다 . 따라 서, 신중한  설계 , 품질  검사 , 정기적인  청소  및 보수  등의  종합적인  대책 이 필요합니다 . 특히 , 최근에는  건강 과 안전 을 중시하는  경향이 있으므로  건축자재 의 유해성 측면에서 도 주의가  필요합니다 . 이에  따라 , 실내 흡연을  피하고  포르 말린 을 사용하지  않은 목재 가구 와 휘 발성 물질 을 함유하지  않은 방향제를  사용하여  쾌적한  실내 환경 을 조성하는  것이  좋습니다 . 또한 , 실내 식물 을 두고  자연  환기를  유지하며 , 자주 환기를  시켜  습기와  냄 새\n"
     ]
    },
    {
     "name": "stderr",
     "output_type": "stream",
     "text": [
      " 45%|████▍     | 58/130 [1:15:14<1:34:31, 78.77s/it]"
     ]
    },
    {
     "name": "stdout",
     "output_type": "stream",
     "text": [
      "<s> ###질문:강마루  바닥재의  장점은  무엇인가요 ?\n",
      "\n",
      "###답변:강마루 는 내구성 , 표면 강화 , 디자인  다양성이라는  장점이  있습니다 . 또한  유지보수 가 쉽 고 열전도율이  높 아 난방효과 도 우수하며  소음 발생 이 적다는  특징 을 가지 고 있습니다 . 또한  환경  친 화적이고  물에  강한  튼튼한 재질로  제작되어  내구성 이 뛰어나다는  점도 장점으로  꼽힙니다 . 추가적으로  강마루 는 세라믹  및 플라스틱으로  만들어지기  때문에  내습, 내후성이  좋고 청소 와 수리 가 용이하다는  점도 장점으로  언급됩니다 . 따라 서 실용적이면서도  미적인  측면에서 도 매력적인  소재 로 평가받고  있습니다 . 강마루 는 집안 곳곳에서  사용하기에  다양하고  훌륭 한 선택지로  인정받고  있습니다 . 그 외에도  에너지  효율성과  단가와  시공비용  등이  저렴하다는  점을  더 나타냅니다 . 그러므로  강마루 는 가정  및 상업 시설에서  널 리 활용되고  있는  것이죠 . 그리고  기존의 바닥 재보다  건강 에 유리 한 재료로도  알려져 있어  많은  사람들에게  좋은  평판이  가고  있습니다 . 이에  대해 자세히 설명드리겠습니다 .  Strong마루 는 합판 목재에 나무\n"
     ]
    },
    {
     "name": "stderr",
     "output_type": "stream",
     "text": [
      " 45%|████▌     | 59/130 [1:16:35<1:34:09, 79.57s/it]"
     ]
    },
    {
     "name": "stdout",
     "output_type": "stream",
     "text": [
      "<s> ###질문:새집증후군 을 예방하기  위해  창문을  열어 환기하는  이유는  무엇인가요 ?\n",
      "\n",
      "###답변:창문을  열어서  자연스럽게  실내와 외부의  공기를  교환시키는  것은  중요합니다 . 특히 , 신축  및 리모델링  후 휘 발성 유기물질 (VOC)을 포함한 건축자재 나 가구로부터  보호받는  역할을 합니다 . 따라 서, 창문을  통해 공기가  자유롭게  흐 를 수 있도록  하는  것이  건강 에 유리 한 환경 을 조성하는  데 도움이  됩니다 . 또한 , 창문이  충분한  햇빛 과 상대적으로  적은  오염물질 을 가지 고 있어 , 생활  속에서  더욱  많은  활용할 수 있는  공간으로  만들 수도  있습니다 . 이에  따라  적절한  시간마다  창문을  오랫동안  열어서  쾌적한  실내 환경 을 유지하는  것이  좋습니다 . 그러나  너무  오래 닫히지  않는 경우에 는 환기 효과 가 떨어져 서 습기와  냄 새로 인해 문제 가 발생 할 가능성이  높으니  유의해야  합니다 . 때문에  사용자의  취향과 상황 에 맞춰  적절하게  관리하여야  합니다 . 추가적인  방법으로는  건물 자체의  방부제 상태 를 확인하고 , 필요한  경우 전문가 의 도움을  받아  보수작업\n"
     ]
    },
    {
     "name": "stderr",
     "output_type": "stream",
     "text": [
      " 46%|████▌     | 60/130 [1:17:50<1:31:08, 78.12s/it]"
     ]
    },
    {
     "name": "stdout",
     "output_type": "stream",
     "text": [
      "<s> ###질문:도배풀 을 제거하는  데 어떤  도구가  가장  효과적인가요 ? 또한 , 옥 상 방수용  탄 성 에멀 전 페인트를  사용하는  장점은  무엇인가요 ?\n",
      "\n",
      "###답변:도배지 하단부에  위치 한 기존 실크벽지의  표면은  새로 도배를  하기  전에 는 깨끗하게  닦아야  합니다 . 그렇 게 하면  새로운  도배가  깔끔하게  이루어질  수 있습니다 . 그리고  새로 도배를  할 때에는  냄 새를 최소화하기  위해  창문을  열어서  자연스럽게  환기를  시켜줘야  합니다 . 마지막으로 , 신중히 처리하여  녹물이  묻어나거나  도배지가  터지지  않도록  주의해야  합니다 . 만약 작업자가  부족 한 경험 을 가지 고 있다 면, 전문가에게  의뢰하여  도와움을  받는  것이  좋습니다 . 특히  처음이 나 초보자에게는  보다  꼼꼼 한 사전  준비 가 필요하며 , 전문적인  도움이  필요한  경우가  많습니다 . 따라 서 신중한  계획 과 함께  전문가 의 조언을  따르는  것이  중요합니다 . 추가적으로 , 작업환경 에 적합한 안전장비 를 착 용하고 , 작업  전에  꼭  상황 을 체크하여  문제점을  미리 방지하는  것도  중요합니다 . 끝으로 , 모든  작업 이 완료된\n"
     ]
    },
    {
     "name": "stderr",
     "output_type": "stream",
     "text": [
      " 47%|████▋     | 61/130 [1:19:09<1:30:03, 78.32s/it]"
     ]
    },
    {
     "name": "stdout",
     "output_type": "stream",
     "text": [
      "<s> ###질문:통나무구조  방식 의 건물에 서 침 하 현상을  최소화하기  위해  어떤  디테일 을 고려해야  하나 요?\n",
      "\n",
      "###답변:통나무구조  방식에서  발생하는  주된 하자는  내구성 이 약하고 , 특히  수분에  민감하여  침하를  방지하는데  노력하지만  결국 침하가  발생한다는  점입니다 . 이를  해결하기  위한  방법으로는  방습층  시공이나  일반적인  유지보수 를 통해 수분으로부터  보호하는  것이  중요합니다 . 또한 , 바닥 과 지붕  사이 에 단열재를  충 분히 설치하여  온도차를  줄이고 , 외부 기후조건으로부터  보호 할 수 있는  설계 적 대책 을 강구하는  것도  필요합니다 . 추가적으로  통나무 가 가지 는 자연스러운  형태 와 특성을  살리기  위해서는  내림, 내월, 내진 등의  성능을 갖춘  건물을  만드는  것이  바람직한  방향이며 , 이에  대한  연구 나 기술  개발에도  더욱  많은  노력을  기울여야  합니다 . 따라 서 침하를  방지하고  안정적인  건물 환경 을 조성하는  데에는  여전히  많은  개선  가능성이  있습니다 . 이와  같은  문제를  해결하기  위해서는  전문가들의  자문 과 상세한 조사  분석 이 필요한  만큼  철 저하게  시행되어야  합니다 . 최\n"
     ]
    },
    {
     "name": "stderr",
     "output_type": "stream",
     "text": [
      " 48%|████▊     | 62/130 [1:20:31<1:30:18, 79.69s/it]"
     ]
    },
    {
     "name": "stdout",
     "output_type": "stream",
     "text": [
      "<s> ###질문:MSDS(Material Safety Data Sheet)가 필요한  이유는  무엇인가요 ?\n",
      "\n",
      "###답변:산업안전보건공단 , 환경공단 , 미국 OSHA(산업안전보건 국)와 같은  규제  기관에서  요구하기  때문에  필요합니다 . MSDS는 화학물질 의 잠 재적 위험 에 대한  정보 와 안전 한 취급, 보관, 폐기에  대한  지침을  포함하는  문서입니다 . 사업주는  MSDS를 통해 화학물질 을 안전하게  관리하고 , 근로자는  직업병이 나 재해사고로부터  자신을  보호 할 수 있게  됩니다 . 또한 , MSDS는 산업안전보건법에  따라  제조사는  반드시  작성야만  하며 , 각 국가마다  MSDS 양식이  다르지 만, 현재 는 전세계 가 모두  동일한  양식과  체계 의 MSDS를 사용하고있습니다 . 이를  통해 기업들은  산업안전보건법에  따른 화학물질 의 유해성, 위험 성, 응 급조치  방법 , 취급 및 저장 방법  등을  알아서 보다  신중히 관리 할 수 있게 되어  왔습니다 . 또한 , 근로자들은  직업병에  대해 더욱  잘 준비 될 수 있어  건강 과 생명 을 보장 할 수 있는  장점을  가지 고 있습니다 . 이에  따라  모든  제조사가  MSDS를 작성하여야  하며 , 각 국가\n"
     ]
    },
    {
     "name": "stderr",
     "output_type": "stream",
     "text": [
      " 48%|████▊     | 63/130 [1:21:49<1:28:25, 79.19s/it]"
     ]
    },
    {
     "name": "stdout",
     "output_type": "stream",
     "text": [
      "<s> ###질문:인테리어  디자인에서  에나멜  계열  페인트를  사용하여  공간 의 색상을  선택 할 때 고려해야  할 요소들은  무엇인가요 ?\n",
      "\n",
      "###답변:에나멜  계열  페인트는  주로  유기염료를  이용하여  만들어지며 , 이러한 페인트의  특징 은 밝 고 화려한 색상, 뛰어난  내구성 , 그리고  광 택과 윤광 을 제공한다는  것입니다 . 따라 서 이런  특성들을  갖춘  에나멜  계열  페인트는  주방이 나 화장실과  같이  습기가  많은  장소에  적합하며 , 청결하고  세련된 분위기 를 연출하는  데에도  활용될 수 있습니다 . 또한 , 에나멜  계열  페인트는  표면의  강도가  높아서  오랜 기간  동안  사용해도  색이  바래거나  손 상되는  것을  방지 해줍니다 . 그러나  몇  가지  단점도 있으니  주의가  필요합니다 . 첫째로, 에나멜  계열  페인트는  건조시간이  길어 작업  시간을  더 오래 걸릴  수 있고 , 둘 째로는  환경  오염 을 일으킬  수 있는  위험 이 있습니다 . 특히 , 화학물질 에 노출되면  건강 에 악 영향을  줄 수 있으며 , 실내에  유발하는  냄 새가 날씨  좋지 않습니다 . 그러므로  신중한  선택 과 관리 가 필\n"
     ]
    },
    {
     "name": "stderr",
     "output_type": "stream",
     "text": [
      " 49%|████▉     | 64/130 [1:23:05<1:26:04, 78.25s/it]"
     ]
    },
    {
     "name": "stdout",
     "output_type": "stream",
     "text": [
      "<s> ###질문:라돈 을 측 정하는  데 가장  적합한 지점은  어디인가요 ? 그리고  MSDS(Material Safety Data Sheet)는 무엇 을 포함하고  있나요 ?\n",
      "\n",
      "###답변:라돈 은 방사성 물질 로, 주로  우라늄  광선을  통해 나오는  것으로 , 공기 중에  존재합니다 . 그 때문에  실내공간에서  측 정하기  쉽습니다 . 또한 , 국제적으로  사용되는  독특한 단위였던  MGD (밀리그램 )이 최근에는  SI(세상미터 )로 통일되어  있어 , 측정지점이  다양할 수 있습니다 . 물론 , 특별 히 위험 한 지역에서는  추가적인  보호장치 가 필요하며 , 이에  대해서는  전문가 의 조언을  듣 는 것이  좋습니다 . 따라 서 라돈 을 측 정하고자  한다면  전문가에게  상담 을 받고  장비 를 구매하여  안전하게  측 정하는  것이  권장됩니다 . 또한 , MSDS(Material Safety Data Sheet)는 화학물질 에 대한  유해한 노출로부터  근로자를  보호하기  위해  산업안전보건공단 , 환경공단 , 미국  OSHA(산업안전보건 국)와 같은  규제  기관에서  요구하는데 , 이를  통해 작업장에서  발생하는  재해사고 를 예방 할 수 있습니다 . 따라 서 MSDS는 화학물질 의 잠 재적 위험 과 취급 방법 , 보\n"
     ]
    },
    {
     "name": "stderr",
     "output_type": "stream",
     "text": [
      " 50%|█████     | 65/130 [1:24:22<1:24:14, 77.77s/it]"
     ]
    },
    {
     "name": "stdout",
     "output_type": "stream",
     "text": [
      "<s> ###질문:새집증후군 을 해결하기  위한  방법에는  어떤  것들이  있나요 ? 그리고  소화기 종류에는  어떤  것들이  있는 지 알려주세요 .\n",
      "\n",
      "###답변:새집증후군 의 원인으로는  휘 발성 유기물질 , 공기 중의  화학물질 , 그리고  실내 환경  등이  있습니다 . 대표적인  물질로는  포름알데히드가  있으며 , 이는  주로  방부제나 접착제의  원료로 사용됩니다 . 또한 , 새롭게  지어 진 집에  사용 된 건축자재에서도  휘 발성 유기물질 이 발생 할 수 있습니다 . 추가적으로 , 실내에  흡연을  하는  사람이나  조리과정에서  발생하는  냄 새도 새집증후군 의 주요 원인으로  꼽힙니다 . 이에  따라 , 적절한  환기와  건조 시스템 을 갖춘  주택 과 신선한 공기를  유지함으로써  새집증후군 을 예방 할 수 있습니다 . 또한 , 전문가 의 도움을  받아  실내를 정확하게  검사하고  문제점을  파악하여  적절한  조치 가 필요합니다 . 만약 새로운  가구 나 건축용품 을 구매 할 때에는  친환경적이고  안전 에 대한  고려 가 중요시되며 , 실내 습도와  온도를  적절 히 유지하여야  합니다 . 이를  통해 건강 한 실내 환경 을 유지하고  새집증후군 을\n"
     ]
    },
    {
     "name": "stderr",
     "output_type": "stream",
     "text": [
      " 51%|█████     | 66/130 [1:25:01<1:10:21, 65.97s/it]"
     ]
    },
    {
     "name": "stdout",
     "output_type": "stream",
     "text": [
      "<s> ###질문:질석벽지가  아트 월이나  현관 입구에서  많 이 사용되는  이유는  무엇인가요 ?\n",
      "\n",
      "###답변:질석벽지는  자연스러운  느낌 과 고급스러움을  동시에  연출할 수 있는  매력적인  벽 지입니다 . 또한 , 질감이  풍 부하여  고급스러운  분위기 를 조성하면서도  공간 에 자연스러운  아름다움을  더해줍니다 . 이는  특히  현관 입구나 미술관 , 박물관 , 호텔 , 상업 시설에서  많은  인기를  끌 고 있습니다 . 따라 서, 질석벽지는  고급스러움과  자연스러운  아름다움 을 동시에  표현하고자  하는  사람들에게  적합한 선택 지일 수 있습니다 .<|im_end|>\n"
     ]
    },
    {
     "name": "stderr",
     "output_type": "stream",
     "text": [
      " 52%|█████▏    | 67/130 [1:26:15<1:11:47, 68.37s/it]"
     ]
    },
    {
     "name": "stdout",
     "output_type": "stream",
     "text": [
      "<s> ###질문:석고보드 를 이동하면  도배지 꼬임이  발생 할 가능성이  있나요 ? 또한 , 건조시간이  충 분하지  않으면  도배지가  꼬 일 수 있는  이유가  무엇인가요 ?\n",
      "\n",
      "###답변:도배를  마친  후 석고보드 가 완전히  건조되기  전까지  꼬임이  발생 할 수 있습니다 . 제조 사 권장 건조시간 (보통  1주일 ) 동안  기다려야  하며 , 건조기간  동안에는  온도와  습도에  유의해야  합니다 . 만약 한 주가  지나 도 꼬임이  계속된다면  시공사에  연락하여  상황 을 진단받고  적절한  대책 을 취해야  합니다 . 올바른 건조 시간을  지키지 않으면  도배지 꼬임이  더 자주 발생 할 수 있으므로  이 점을  주의 해 주셔야  합니다 . 따라 서, 도배를  마친  후에 는 꼭  제대로  건조된 상태에서  다시  움 직이거나  교체하는  것을  추천합니다 . 추가적으로 , 건조기간  동안  온도와  습도를  꾸 준히 관리함으로써  꼬임을  최소화할  수 있습니다 . 만약 필요하다 면 전문가 의 도움을  받아  부분적인  또는  전체적인  재작업 을 진행하는  것이  좋습니다 . 올바른 시간 과 방법으로  건조를  완료시키는  것이  중요하니  주의하시기  바랍니다 .\n"
     ]
    },
    {
     "name": "stderr",
     "output_type": "stream",
     "text": [
      " 52%|█████▏    | 68/130 [1:27:02<1:04:06, 62.04s/it]"
     ]
    },
    {
     "name": "stdout",
     "output_type": "stream",
     "text": [
      "<s> ###질문:폴리에스테르  흡 음 단열재의  장점 중 하나 인 \"배수기능 \"은 어떤  종류 의 공간 에 사용하기에  적합한가요 ?\n",
      "\n",
      "###답변:폴리에스테르  흡 음 단열재는  방수가  필요한  곳 에 효과적으로  사용됩니다 . 이러한 제품 은 물을  차단하는  능력 과 함께  습기를  제거하는  기능 을 갖 추고 있어 , 주로  실내 벽면이 나 천장의  소재 로 활용됩니다 . 특히 , 물기가  많은  환경이나  습기가  쉽게  축 적되는  공간에서  유용하게  활용될 수 있습니다 . 따라 서, 다양한 건축물과  시설물에 서 적절하게  활용되어  왔습니다 . 그리고  그 외에도  소음을  줄이고  에너지  효율성을  높이는  데도 기여하고  있습니다 . 때문에  다양한 건설  관련분야에서  널 리 활용되고  있습니다 .<|im_end|>\n"
     ]
    },
    {
     "name": "stderr",
     "output_type": "stream",
     "text": [
      " 53%|█████▎    | 69/130 [1:28:20<1:08:07, 67.00s/it]"
     ]
    },
    {
     "name": "stdout",
     "output_type": "stream",
     "text": [
      "<s> ###질문:도배 후 제조 사 권장 건조시간을  지키지 않으면  어떤  문제 가 발생 할 수 있나요 ?\n",
      "\n",
      "###답변:도배 후에 는 제조사의  권장 건조기간 (보통  일주일 )을 지켜 야 합니다 . 이 기간  동안에는  온도와  습도에  유의해야하며 , 일주일 이 이후에도  완전히  건조되지  않았다 면 시공사에  연락하여  상황 을 진단받아 야 합니다 . 만약 건조기간  내에  추가적인  작업 이 필요하다 면, 전문가 의 조언을  구하는  것이  좋습니다 . 올바른 건조 시간이  지켜지지  않으면  도배지가  제대로  고정되지  않아 터질 수가  있는 데, 이는  원활한 마무리 를 방해하고  장기적으로  문제를  유발할 수 있습니다 . 따라 서 제조사가  추천하는  시간 과 환경에서  적절하게  관리하여  완벽 히 건조시키는  것이  중요합니다 . 만약 일주일 이 지나고도  여전히  상태 가 불량하다고  느껴진다 면 전문가 와 상담하여  조치 를 취하는  것이  좋습니다 . 때때로  공장이나  창고에서의  환기 부족으로  인해 습도가  높 은 경우가  있으며 , 이러한 원인들을  고려하여  적절한  대책 을 세워야 합니다 . 최종적으로는  모든  조건들이\n"
     ]
    },
    {
     "name": "stderr",
     "output_type": "stream",
     "text": [
      " 54%|█████▍    | 70/130 [1:29:40<1:10:43, 70.72s/it]"
     ]
    },
    {
     "name": "stdout",
     "output_type": "stream",
     "text": [
      "<s> ###질문:내단열 방식에서  발생하는  열교 문제 와 곰팡 이 발생 의 원인 은 무엇인가요 ?\n",
      "\n",
      "###답변:내단열 방식에서는  실내에서  발생하는  결로와  곰팡이의  주된 원인으로  인해, 외부와  직접 닿 지 않는 구조체의  중심부에  위치하여  두꺼 운 단열재를  설치하지  못한 경우 열이  빠 져나가거나 , 냉기가  들어오는  현상이  일어나면서  결로가  생기게 됩니다 . 또한 , 내단열 방식에서는  외부의  습기를  차단하기  어렵 고, 실내의  공기층을  통해 습기가  쉽게  유입될 수 있어  곰팡이가  번식할 가능성이  높습니다 . 따라 서 적절한  환기와  보온 시스템 을 갖춘  건물 구조체는  내단열 방식에서도  안정적인  환경 을 유지 할 수 있습니다 . 추가적으로 , 건축물의  에너지  효율성을  향상시키고  친환경적인  재료 를 사용함으로써  더욱  효과적일  것입니다 . 이에  대해서는  전문가 의 조언을  구하는  것이  좋습니다 . 만약 이런  문제를  겪는다 면 벽체와  마감재에 대한  철 저한 관리 가 필요합니다 . 특히  키즈룸이나  학교 와 같은  교육시설에는  주의가  필요한  사항입니다 . 올바른 대책 을 세우지  않으면  건강 과 안전 \n"
     ]
    },
    {
     "name": "stderr",
     "output_type": "stream",
     "text": [
      " 55%|█████▍    | 71/130 [1:30:53<1:10:07, 71.31s/it]"
     ]
    },
    {
     "name": "stdout",
     "output_type": "stream",
     "text": [
      "<s> ###질문:도배지가  찢어진  경우 터짐  하자 가 발생하는  원인 과 그에 따른 책임소재 는 무엇인가요 ? 그리고  이를  해결하기  위해  어떤  방법 을 사용 할 수 있나요 ?\n",
      "\n",
      "###답변:터짐  하자는  벽면이 나 천정에  손상이  있을  때 발생하며 , 이러한 손상은  보통  못이나  다른  외부요인으로  인해 생깁니다 . 터짐  하자 가 발생하면  전문가에게  의뢰하여  부분적인  수리  혹 은 전체적인  재작업 을 해야  합니다 . 이러한 작업 은 개인 이 시행하기  어렵 기 때문에  전문가 의 도움을  받는  것이  좋습니다 . 또한 , 터짐  하자 를 방지하려면  건물의  구조 와 환경 을 정기적으로  확인하고 , 적절한  보수  및 관리 가 필요합니다 . 만약 터짐  하자 가 발생한다면 , 즉 시 전문가 와 상담하여  적절한  조치 를 취하는  것이  중요합니다 . 올바른 예방 과 유지보수 로 미래에는  이런  문제 가 다시  발생하지  않도록  주의해야  합니다 .함께  협력해서  문제를  신속히 해결할 수 있습니다 . 만약 터짐  하자 가 심각하다 면 건축업체 의 지원 을 받아  완전히  복구하는  것이  좋습니다 . 따라 서, 터짐  하자 가\n"
     ]
    },
    {
     "name": "stderr",
     "output_type": "stream",
     "text": [
      " 55%|█████▌    | 72/130 [1:32:14<1:11:44, 74.22s/it]"
     ]
    },
    {
     "name": "stdout",
     "output_type": "stream",
     "text": [
      "<s> ###질문:건물의  면진장치 는 지진 발생  시 어떻 게 작동하나 요?\n",
      "\n",
      "###답변:건물 내부의  진동 에너지 를 흡 수하여  건물을  보호하고 , 지진으로  인한  피해 를 최소화하는  역할을 합니다 . 이를  통해 건축물에  안전성을  유지하는  데 도움을  줍니다 . 지면진과  건물을  분리시키기  위해  사용되며 , 지진이  발생했을  때 구조물이  받는  영향을  줄여주는  중요한  역할을 합니다 . 이러한 특성으로  인해 건물은  지진에  대한  대비 가 필요하며 , 이에  따라  면진장치 와 같은  시스템 을 구축하게  됩니다 . 이는  지진으로부터  건물을  보호하기  위한  것으로 , 지진 발생  시 건물의  안전 을 고려하여  설계되었습니다 . 만약 지진이  발생한다면  건물의  안전 에 위협 이 될 수 있으므로  신중한  대응 과 조치 가 필요합니다 . 또한 , 지진의  원인 을 분석하여  건물의  취약점을  파악하고  적절한  보강을  통해 지진에  대한  저항력을  강화하는  것이  중요합니다 . 이렇게  하면  지진으로  인한  피해 를 최소화하고  건물의  안전성을  높 일 수 있습니다 . 그러나  지진 판정 기준이나  면진 기술 의 숙 련도가  부족하다는  점도 고려\n"
     ]
    },
    {
     "name": "stderr",
     "output_type": "stream",
     "text": [
      " 56%|█████▌    | 73/130 [1:33:32<1:11:43, 75.50s/it]"
     ]
    },
    {
     "name": "stdout",
     "output_type": "stream",
     "text": [
      "<s> ###질문:페인 트 상도재의  역할과 사용  방법 에 대해 알려주세요 . 또한 , 강화마루 의 장점은  무엇입니까 ?\n",
      "\n",
      "###답변:페인 트 상도재는  최종 마감으로  칠하는  것으로 , 영어로는  Top코팅이라고  합니다 . 주도재와 하도재가  완벽하게  결합되어  있어  색상의  일광  처리 를 해주는  기능 을 하며 , 외부 표면에  노출되기  때문에  열과 기후에  강하다는  특징 이 있습니다 . 다만, 내구성 은 다른  재료들에  비해 상대적으로  낮으며 , 가격 은 일반적인  유성페인트에  비해 높다는  단점이  있습니다 . 그렇지만 , 최근에는  인체에  무해한 환경친 화적 물질 로 제조되는  것이  추세이기  때문에 , 안전성이  향상되고  있는  상황입니다 . 특히 , 강화마루 는 톱밥으로  제작되어  친환경적이며 , 실내 및 실외에서  널 리 사용됩니다 . 추가 로, 강화마루 는 접착시공이므로  난방효율 이 뛰어나 고 보행감이  우수하며 , 소음 발생 이 적은  장점을  가지 고 있습니다 . 그러나  습기에  취약하고  표면이  두꺼워서  온돌에 시공하면  갈 라질 위험 이 있으니  주의가  필요합니다 . 따라 서 인테리어  디자인이나  바닥재로  활용될 때 고려해야  합니다\n"
     ]
    },
    {
     "name": "stderr",
     "output_type": "stream",
     "text": [
      " 57%|█████▋    | 74/130 [1:34:56<1:12:47, 77.99s/it]"
     ]
    },
    {
     "name": "stdout",
     "output_type": "stream",
     "text": [
      "<s> ###질문:경질우레탄폼  보온판은  왜  경제적인  선택인가요 ?\n",
      "\n",
      "###답변:경질우레탄폼 은 다른  단열재에 비해 저렴하고  시공성이  뛰어나다는  장점이  있습니다 . 또한 , 이 제품 을 사용하면  에너지 를 절 약할 수 있으며  환경에도  더욱  친숙하다는  특징 도 갖 고 있습니다 . 따라 서, 건축물의  단열재로  가장  많 이 사용되는  재료  중 하나입니다 . 높 은 성능과 낮 은 비용으로  인해 많은  건물  owners 및 건설업체에게  선호되고  있습니다 . 이에  대해 추가적으로  설명드리겠습니다 .   1. 성능: 경질우레탄폼 의 단열성능은 우수한  것으로  알려져 있습니다 . 특히 , 실내공기의  습도와  결로에  대한  탁월한  저항성을  가지 고 있어  냉 ·난방비를  줄여주는  효과 가 있다 는 점도 매력적입니다 . 2. 시공 : 비교 적 간편한 설치 와 단열재의  접착력을  고려하여  시공하는  것이  좋습니다 . 시공방식 에 따른 비용 과 시간을  절 감시킬  수 있는  장점을  지니 고 있습니다 . 3. 안전 : 경질우레탄폼 은 유독가스 를 발생시키지  않아 작업자와  주변 사람들에게  완전한  안전 을 제공합니다 .\n"
     ]
    },
    {
     "name": "stderr",
     "output_type": "stream",
     "text": [
      " 58%|█████▊    | 75/130 [1:36:12<1:10:59, 77.44s/it]"
     ]
    },
    {
     "name": "stdout",
     "output_type": "stream",
     "text": [
      "<s> ###질문:상도작업 은 어떻 게 이뤄지나 요? 또한 , 공간 을 넓 게 보이도록  인테리어 를 꾸미는  방법 은 뭐 가 있을까요 ?\n",
      "\n",
      "###답변:상도작업 은 건조가  완료된 방청도료(흰 색 미분물) 위에  사용자가  원하는  컬러의  성분에  맞춰  칠하는  작업입니다 . 이를  통해 마감재의  색상과  텍 스처를  조절하여  공간 에 아름다운  마무리 를 부여할 수 있습니다 . 만약 무엇이든  믿 을만한  완성도 와 내구성 을 보장하기  위해서는  전문가 의 조언을  구하는  것이  좋습니다 . 따라 서, 상도작업  시에는  건축업체 나 시공회사 의 견적을  받아보고  계약하는  것이  바람 직합니다 . 함께  신중하게  선택하고  적용함으로써  더욱  아름다운  실내 환경 을 연출할 수 있을  것입니다 . 그리고  마지막으로  새집증후군 을 예방하기  위해  환기를  충 분히 시키고  유해한 물질 을 제거하는  것도  중요한  포인트입니다 . 그러므로  신중한  설계 와 시공 , 그리고  좋은  유지보수 가 필요합니다 . 만약 추가적인  정보 나 상담 이 필요하다 면 건축업체 나 시공회사에게  문의하여  받을  수도  있습니다 . 그렇게  하면  보다  세련되고  안정\n"
     ]
    },
    {
     "name": "stderr",
     "output_type": "stream",
     "text": [
      " 58%|█████▊    | 76/130 [1:37:32<1:10:21, 78.18s/it]"
     ]
    },
    {
     "name": "stdout",
     "output_type": "stream",
     "text": [
      "<s> ###질문:도배지가  울음 현상을  보일 때 그 원인 과 대처 방법 은 무엇인가요 ?\n",
      "\n",
      "###답변:도배지 울음이란  도배가  완전히  건조되기  전까지  발생하는  현상으로 , 주로  습도가  높거나  내구성 이 약할 때 나타납니다 . 만약, 공간  내 습도를  측 정하여  적절한  관리 를 하고  전문가에게  의뢰하여  전문적인  진단 을 받아 야 합니다 . 또한 , 제습기를  가동하거나  환기를  통해 실내의  적정한  습도를  유지함으로써  울음을  방지 할 수 있습니다 . 더불어 , 벽면에  손상이  있을  경우에 는 단열재나 방수재를  사용하여  구조 적 문제 에 대한  대책 을 강구해야  합니다 . 최종적으로는  전문가 와 상의하여  문제를  신속하게  처리하는  것이  중요합니다 . 올바른 조치 를 취하기  위해서는  전문가 의 조언을  듣 고 나서  행동하는  것이  좋습니다 . 여기에  관해서  자세한  정보 는 건축업체 나 시공회사 로 문의하시는  것을  권장드립니다 . 함께  협력하여  문제를  신속히 해결할 수 있도록  노력하겠습니다 . 감사 한 고객분들  건강 과 안전 을 고려하여  진행되는  공사입니다 . 앞으로  좋은  날들이  되길 기원하며 , 꾸 준한 관리 \n"
     ]
    },
    {
     "name": "stderr",
     "output_type": "stream",
     "text": [
      " 59%|█████▉    | 77/130 [1:38:49<1:08:45, 77.84s/it]"
     ]
    },
    {
     "name": "stdout",
     "output_type": "stream",
     "text": [
      "<s> ###질문:사무 실 실내공기 측정을  위한  적절한  위치 는 어디일까요 ? 그리고  아파트  도배 평수를  어떻 게 계산해야  하나 요?\n",
      "\n",
      "###답변:일반적으로 , 실내공기의  측정은  100세대에서  3개 세대 (저층 , 중층 , 고층 )를 기본으로  채취하며 , 이를  통해 전체  가구  및 건축자재 의 영향을  고려하여  산출합니다 . 또한 , 각 층의  높이에  따라  추가적인  측정지점을  설치하기도  하는데 , 이는  건물의  구조 와 크기를  고려했을  때 필요한  만큼 만 측 정하게  됩니다 . 이렇게  함으로써  신뢰 할 수 있는  결을 얻 을 수 있습니다 . 한편, 개인이나  특정한  공간에서의  더 많은  세부적인  조사 가 원한다면  추가적인  측정이  가능합니다 . 여기에  대해서는  전문가 의 조언을  듣 는 것이  좋습니다 . 함께  하면  보다  신뢰 할 수 좋은  결과 를 얻 을 수 있을  것입니다 . 때문에  신중한  선택 과 전문적인  지원 이 필요합니다 . 올바른 방법으로  인원은  최대한  피로를  줄이고  안전장비 를 착용하는  등의  조치 를 취하기  전에  측 정하는  것이  좋습니다 . 플라스틱  재질의  유발물질로부터  보호받을  수 있도록  주의하여야  합니다 . \n"
     ]
    },
    {
     "name": "stderr",
     "output_type": "stream",
     "text": [
      " 60%|██████    | 78/130 [1:40:06<1:07:18, 77.67s/it]"
     ]
    },
    {
     "name": "stdout",
     "output_type": "stream",
     "text": [
      "<s> ###질문:도배지에  고습도로  인해 생기는  얼룩 을 제거하는  방법 이 있을까요 ? 또한 , 구조 적 결함 때문에  석고수정 이 발생 할 가능성이  있는가요 ?\n",
      "\n",
      "###답변:높 은 습도는  도배지의  접착력을  감소시켜  벽면에서  떨어질  수 있습니다 . 따라 서, 공간  내 습도를  관리하기  위해  제습기를  가동하고  환기를  통해 실내를 건조하게  유지해야  합니다 . 만약 습도가  너무  높으면 , 전문가 의 도움을  받아  보수작업 을 진행하는  것이  좋습니다 . 또한 , 건축자재 에 사용되는  석고의  경우, 습기에  노출되면  그것을  손 상시킬  수 있으므로 , 이에  주의하여  습기 관리 에 신경써 야 합니다 . 올바른 습도 및 환경조건에서의  도배를  진행함으로써  이와  같은  문제를  예방 할 수 있습니다 . 추가적으로 , 도배 시공  전에  건물 구조 와 마모된 부분 에 대한  정확한 정보를  제공하여  전문적인  상담 을 받는  것이  중요합니다 . 만일 습도와  건물의  문제 가 계속되는  상황이라면 , 전문가 의 도움을  받아  보왁  또는  교체 작업 을 고려 해 볼  필요가 있습니다 . 올바른 시간 과 환경에서  전문가 의 조언을\n"
     ]
    },
    {
     "name": "stderr",
     "output_type": "stream",
     "text": [
      " 61%|██████    | 79/130 [1:41:31<1:07:51, 79.83s/it]"
     ]
    },
    {
     "name": "stdout",
     "output_type": "stream",
     "text": [
      "<s> ###질문:대리 석 타일이  난방 절감에  어떤  역할을 하는  건가요 ?\n",
      "\n",
      "###답변:대리석은  열전도율이  높아서 , 고열에  노출되면  빨리  열이  전달될 수 있습니다 . 이러한 특성으로  인해 대리석은  난방에  탁월한  효과 를 가지 고 있으며 , 특히  습기가  있는  환경에서  사용하면  더욱  효율적으로  열을  전달할 수 있습니다 . 때문에  난방 절감의  목적으로  사용되는  경우가  많습니다 . 또한 , 대리석의  고급스러운  외관과  뛰어난  내구성으로  인해 실제보다  차가 운 온도를  유지하면서도  도막에 적합한 재료입니다 . 따라 서, 난방 절감과  함께  따뜻하고  화려한 분위기 를 연출하고자  할 때 널 리 활용되고  있습니다 . 만약 공간 의 주요 건축  자재로서  사용된다면 , 난방 절감과  함께  실내 온도의  안정성을  도모하여  쾌적한  실내 환경 을 조성하는  데 기여합니다 . 그 밖에 도 대리석은  청결하고  세련된 느낌 을 주고  공간 을 확장시키는  등의  다양한 기능 을 갖 추고 있어 , 인테리어  디자인이나  건축물의  외벽  등에  널 리 활용됩니다 . 이러한 복합적인  효능으로  인해 대리석은  건축  및 인테리어  분야에서\n"
     ]
    },
    {
     "name": "stderr",
     "output_type": "stream",
     "text": [
      " 62%|██████▏   | 80/130 [1:42:55<1:07:26, 80.92s/it]"
     ]
    },
    {
     "name": "stdout",
     "output_type": "stream",
     "text": [
      "<s> ###질문:외단열 시공  시 외부 환경  조건 이 중요한  이유는  무엇인가요 ?\n",
      "\n",
      "###답변:외단열을  시공하면  건물 내부의  온도 변화 를 외부에서  더 잘 조절 할 수 있어 , 결로와  곰팡이와  같은  하자  발생 을 줄일 수 있습니다 . 또한 , 외부로부터 의 열이  실내로 유입되는  것을  차단하여  에너지  효율성을  향상시키고 , 건축물의  수명을  연장하는  데에도  도움을  줍니다 . 따라 서, 외단열은 건물 내부를  안정적으로  유지시키는  데 큰 역할을 합니다 . 이는  건물 주변의  환경  조건 에 따른 열에  대한  민감성 을 높이기  때문에  중요하게  고려되어야  합니다 . 특히 , 외부에서 의 열이  강도가  낮거나  완전히  차단되지  않는 경우에 는 단열재만 설치한다고  생각해도  안 됩니다 . 올바른 해결책으로 는 외단열재를  시공하고 , 필요한  경우 방습층까지  겹쳐  설치해야  합니다 . 이를  통해 건물을  보다  견 고하게  보호 할 수 있을  것입니다 . 추가적인  보강을  위해서는  철 근콘 크리트 나 유리섬유  보드 와 같이  튼튼한 재료 를 사용하여  벽체를  강화하는  것도  좋은  방법입니다 . 이러한 대책들은  건\n"
     ]
    },
    {
     "name": "stderr",
     "output_type": "stream",
     "text": [
      " 62%|██████▏   | 81/130 [1:44:19<1:07:01, 82.06s/it]"
     ]
    },
    {
     "name": "stdout",
     "output_type": "stream",
     "text": [
      "<s> ###질문:스탠 드 조명을  선택 할 때 어떤  조명이  적합한가요 ?\n",
      "\n",
      "###답변:스탠 드 조명은  이동 이 가능한  것이  특징이며 , 필요에 따라  위치 를 자유롭게  변경 할 수 있는  것으로  장점이  있습니다 . 또한 , 소품의 역할도 함께  수행하는  다목적  공간에서  많 이 사용됩니다 . 그러나  작은  공간에는  부적합하며 , 불안정하게  설치 할 경우 파손  위험 이 있다 는 단점도 존재합니다 . 이러한 특성을  고려하여  실내 환경 과 사용하고자  하는  용도에  맞 게 선택하시면  좋습니다 . 그리고  불안정하지  않은 곳에서는  고정된 표면 또는  벽면을  이용하여  보다  안전하게  설치하는  방법 을 권유드립니다 . 그렇게  하면  파손  위험 을 줄일 수 있을  것입니다 . 만약 무선 조명기구라면  이동성이  좋은  것을  확인하시고 , 불안정하지  않은 곳에서의  사용 을 피하십시오 . 이동성이  원활하도록  설계 된 제품인지  확인해보셔야  합니다 . 최종적으로는  구매  전에  전문가에게  상담 을 받는  것이  좋습니다 . 만약 휴식이 나 독서를  즐기는  분들에게는  편안하고  안정적인  조명이  필요한  만큼  고려하시기  바랍니다 . 생활  패턴과 취향에 맞춰\n"
     ]
    },
    {
     "name": "stderr",
     "output_type": "stream",
     "text": [
      " 63%|██████▎   | 82/130 [1:45:36<1:04:23, 80.49s/it]"
     ]
    },
    {
     "name": "stdout",
     "output_type": "stream",
     "text": [
      "<s> ###질문:실크벽지의  얼룩 을 지워내는  가장  효과적인  방법 이 있을까요 ? 그리고  부적절한  설치 로 인해 제품 의 품질 에 영향을  미칠  수 있을까요 ?\n",
      "\n",
      "###답변:실크벽지를  교체하는  것이  좋은  대안이  될 수 있습니다 . 하지만 , 만약 가격이나  시공비가  너무  높아서  예산 을 고려해야  한다면  다음과  같은  방법으로  오염 을 제거할 수 있습니다 .   1. 치약과 주방세제를  섞 은 물을  사용하여  식빵 에 조금씩  발라주세요 . 2. 그 위에  베이킹 소다를 뿌 려주시 고 30분 정도  동안  반짝 이 도는  상태에서  유지해주세요 . 4. 물기를  꽉  짠  걸 레로 닦아주시면  됩니다 . 5. 마지막으로  건조시켜주시 면 됩니다 .  위의  과정을  따라하시면  오염 된 부분 (혹 은 전체 )을 효율적으로  처리 할 수 있습니다 . 그러나  만약 오염 이 심각한 경우, 전문가 와 상의하여  추가적인  조치 가 필요할 수 있으니  참고하시기  바랍니다 . 특히 , 실크벽지는  민감한  소재이기  때문에  무리하게  처리 할 경우 손상을  입을 수 있으므로  신중히 관리하시 길 권장합니다 . 만약 오염 이 완전히  제\n"
     ]
    },
    {
     "name": "stderr",
     "output_type": "stream",
     "text": [
      " 64%|██████▍   | 83/130 [1:47:00<1:03:56, 81.62s/it]"
     ]
    },
    {
     "name": "stdout",
     "output_type": "stream",
     "text": [
      "<s> ###질문:차음재의  차음 성능은 어떻 게 평가 되나요 ?\n",
      "\n",
      "###답변:차음재 성능을 판단하는  방법에는  몇  가지 가 있습니다 . 먼 저, 두께 와 빈틈수를  고려하여  흡 음률을  계산합니다 . 또한 , 특정 주파수에  대해 투 과손실로  인한  에너지  손실을  측정한 데에 사용됩니다 . 이러한 값들을  종합적으로  분석하여  마감재가  갖 는 차음 성능을 나타냅니다 . 이를  통해 소비자는  적합한 재료 를 선택하고  설계자에게  의뢰하여  원하는  수준 의 소음을  줄일 수 있게  됩니다 . 만약 자체적인  소음이  낮 고 환경  외부 소리로부터  영향을  받지  않는다 면 차음재로서의  효과 가 미비할 수 있으므로 , 이러한 측면을  반드시  고려해야  합니다 . 더불어 , 각 재료 의 비용 , 설치  및 유지보수  여부에  따라  선택하기도  합니다 . 최종적으로는  건물의  내부 환경 과 소음의  유형을  신중하게  고려하여  적절한  차음재를  선정하여야  합니다 . 이를  통해 쾌적한  실내 환경 을 조성할 수 있을  것입니다 . 참고로 , 본문에서  다루는  내용 은 국제  전기안전협회 (UL)의 규정에  따른 시험결과 를 기반으로\n"
     ]
    },
    {
     "name": "stderr",
     "output_type": "stream",
     "text": [
      " 65%|██████▍   | 84/130 [1:48:16<1:01:14, 79.88s/it]"
     ]
    },
    {
     "name": "stdout",
     "output_type": "stream",
     "text": [
      "<s> ###질문:공동주택 의 실내 공기질을  측 정하기  위한  적절한  지점은  어디일까요 ? 그리고  마감재의  하자 를 판단하는  데 어떤  방법 을 사용해야  할까 요?\n",
      "\n",
      "###답변:공동주택 의 실내 공기질은  거주자 가 주거하는  최저층에  위치 한 세대에서  측 정하며 , 각 세대마다  독립적으로  측 정합니다 . 또한 , 100세대 일 때에는  3개 세대 (저층 , 중층 , 고층 )만 측 정하고 , 이후  100세대 가 증가할 때마다  1세대씩  추가하여  시료를  채취하게  됩니다 . 이렇게  함으로써  다양한 계층 의 주민들이  공기질 문제를  제대로  진단 할 수 있게  됩니다 . 또한 , 건축물의  설계  및 시공  과정에서  발생 한 문제 에 따른 책임소재 도 명확히 규정되어  있습니다 . 따라 서, 건설회사 는 이에  대한  개선안을  강구해야  하며 , 입주자대표회의 나 관리위원회 와 함께  이를  추진하는  것이  바람직한  방향입니다 . 더불어 , 주민들은  정기적인  점검 과 보수 를 통해 좋은  공기질을  유지하는  데 협력해야  합니다 . 만약 무슨  종류 의 오염물질 이 발견된다면  전문가에게  연락하여  상담 을 받아보는  것도  좋습니다 . 그래\n"
     ]
    },
    {
     "name": "stderr",
     "output_type": "stream",
     "text": [
      " 65%|██████▌   | 85/130 [1:49:39<1:00:30, 80.67s/it]"
     ]
    },
    {
     "name": "stdout",
     "output_type": "stream",
     "text": [
      "<s> ###질문:실크벽지의  얼룩 을 제거하기  위한  다양한 방법  중에서  특히  효과적인  방법 은 무엇인가요 ?\n",
      "\n",
      "###답변:실크벽지의  얼룩 을 지우는  가장  일반적인  방법 은 부드러 운 천에 따뜻 한 물을  조금 묻힌  후 얼룩 진 곳 을 가볍 게 닦아주시면  됩니다 . 하지만 , 이 방법으로도  얼룩 이 사라지지  않는다 면 전문  가구  청소제를  이용하여  신중하게  시도해볼  수 있습니다 . 만일 모든  방법 이 실패한다면  오염 된 부분 을 교체해야  할 수도  있습니다 . 따라 서, 상황 에 맞 는 적절한  방법 을 선택하여  사용하는  것이  중요합니다 . 그리고  가능하다 면 자주 깨끗하고  마감하는  습관을  가지 는 것이  좋습니다 . 그래 서 실크벽지의  얼룩 을 보다  세밀하게  관리하실  수 있을  것입니다 . 만약 더 많은  정보 와 추천 를 원하시다면  전문가와의  상담 을 받는  것도  좋은  방법입니다 . 올바른 방법으로  얼룩 을 처리함으로써  실크벽지를  오랫동안  맑 고 소매롭게  유지 할 수 있기를  기대할 수 있습니다 . 만약 이게  어려울 경우 인테리어  업체에게  도움을  청하세요 . 여분을  남\n"
     ]
    },
    {
     "name": "stderr",
     "output_type": "stream",
     "text": [
      " 66%|██████▌   | 86/130 [1:51:02<59:38, 81.33s/it]  "
     ]
    },
    {
     "name": "stdout",
     "output_type": "stream",
     "text": [
      "<s> ###질문:페인 트 처리  시 페인트의  양에 따라  어떤  절차 를 따라 야 하나 요?\n",
      "\n",
      "###답변:페인트에  따라  다음과  같은  처리  방법들이  있습니다 .   1. **수성페인 트** - 냄 새가 적고, 친환경적이며 , 쉽게  청소 할 수 있는  장점이  있지 만, 내구성 이 약합니다 . 2. **유성페인 트** - 강도가  뛰어나 며 빨리  굳어지고  튼튼한 표면을  생성하지만 , 강한  냄 새와 호흡 기 문제 가 발생 할 수 있습니다 . 3. **천연페인 트** - 화학물질 을 최소화하여  안전하고  건강 에 이로 운 특징 이 있지 만, 가격 이 상대적으로  높습니다 . 또한 , 건조시간이  길어져  작업  시간을  더 오래 걸릴  수 있습니다 .  이러한 페인트를  사용하는  경우, 각자의  특성을  고려하여  상황 에 맞 는 페인트를  선택해야  합니다 . 필요한  경우, 전문가 의 도움을  받아  적절한  대책 을 마련하는  것이  좋습니다 .특히  유성페인트는  매우 위험한데 , 이에  대한  주의사항을  준수하여야  합니다 . 올바른 처리  방법으로  인해 사고  및 재해로부터  보호 될 수 있으니  주의하시기  바랍니다 . 그리고  모든  페인 팅은 일반적인  \n"
     ]
    },
    {
     "name": "stderr",
     "output_type": "stream",
     "text": [
      " 67%|██████▋   | 87/130 [1:52:22<58:06, 81.08s/it]"
     ]
    },
    {
     "name": "stdout",
     "output_type": "stream",
     "text": [
      "<s> ###질문:건설  산업 은 어떤  종류 의 작업 을 포함하는지 , 그리고  토목이  무엇인지  설명 해줘 .\n",
      "\n",
      "###답변:건설  산업이란  건물이 나 시설을  건축하거나  공사하는  일을  일반적으로  말합니다 . 또한 , 토목은  목재, 철 재, 토석 등을  활용하여  도로 , 교량, 항만, 제방, 철도 , 건물, 상하수도  등의  시설물을  건설하고  유지보수하는  모든  공정 과 활동을  포함합니다 . 이러한 다양한 활동들은  인프라구조물의  설계 , 자재  조달, 건축 , 시공 , 유지관리 , 폐 기물 처리  등 여러 단계 를 거쳐  진행됩니다 . 이는  사회  및 경제 에 큰 영향을  미치는  중요한  부문으로 , 안전하고  효율적인  건설 을 위해서는  신중한  계획 과 전문적인  기술 이 필요합니다 . 따라 서 건설  전문가들의  노력과  혁신적인  기술을  통해 보다  안전하고  환경친 화적인  건설  문화를  구축해야  합니다 . 이를  통해 현대  사회의  라이프스타일 과 도시  및 지역 별 특성에  맞추어  맞춤  가능한  건설 을 가능케  할 수 있습니다 . 이에  대해 더 자세히 알아보시는  것이  좋습니다 . 감사합니다 . 좋은  하루 가 되시길 바랍니다 . 건설  전문가로서  도움이\n"
     ]
    },
    {
     "name": "stderr",
     "output_type": "stream",
     "text": [
      " 68%|██████▊   | 88/130 [1:53:37<55:23, 79.13s/it]"
     ]
    },
    {
     "name": "stdout",
     "output_type": "stream",
     "text": [
      "<s> ###질문:제진구조 는 건물 구조  중에서  어떤  역할을 하는  건가요 ? 그리고  중목구조  방식 에 대해 좀  더 자세히 설명 해 주실 수 있을까요 ?\n",
      "\n",
      "###답변:제진구조란  지진이  발생했을  때 건물이  받는  지진의  영향을  최소화하기  위해  설계 된 건축물의  구조 를 말합니다 . 주로  건물의  기초나 건물 구조물에  충격을  완화시키는  장치  등을  설치하여  지진으로부터  보호하는  것으로 , 이는  지진으로  인한  피해 를 줄이고  안전성을  유지하는  데 도움을  줍니다 . 따라 서, 지진 시 건물의  안전 을 고려하여  적절한  방법으로  구조물을  설계하고  시공함으로써  지진에  대비 할 수 있습니다 . 이를  통해 지진으로  인한  피해 를 최소화하고  건물의  안전성을  보장 할 수 있습니다 . 추가적으로  내진성능이 뛰어나 고 면진구조  등과 같은  다양한 방법들이  사용되어  건물의  지진 대응능력을  향상시키고  안전성을  높입니다 . 이러한 기술적인  진보 로 인해 오늘 날 건물은  보다  안정적이고  지진 시 피해 를 최소화할  수 있는  환경 을 제공하게  되었습니다 . 그러나  여전히  많은  지역에서는  지진 대비 에 대한  인식 이 부족하며 , 이에  \n"
     ]
    },
    {
     "name": "stderr",
     "output_type": "stream",
     "text": [
      " 68%|██████▊   | 89/130 [1:54:53<53:24, 78.17s/it]"
     ]
    },
    {
     "name": "stdout",
     "output_type": "stream",
     "text": [
      "<s> ###질문:작은  공간 의 홈 오피스 에 원목사 이딩을 사용 할 때 고려해야  할 단점과  이를  극 복하기  위한  인테리어  팁 은 무엇인가요 ?\n",
      "\n",
      "###답변:작은  공간에서  효과적인  홈 오피스 를 만들기  위해서는  몇  가지  아이디어 가 있습니다 . 먼 저, 벽면을  이용하여  수납공간 을 최대한  확보하고 , 접이식 가구 와 밝 은 컬러의  조명을  활용하여  공간 을 효율적으로  활용할 수 있습니다 . 또한 , 창문을  잘 활용하여  자연광 을 최대한  활용하면  좋습니다 . 빛 을 직접 받으면  에너지 를 얻 을 수 있고 , 심신을  안정시켜주는  효과 도 있을  것입니다 . 추가적으로는  개인적인  취향에 맞춘  장식품 을 활용하여  공간 을 더욱  아름답게  꾸 밀 수도  있습니다 . 이런  간단한 아이디어들을  적극적으로  활용하여  작은  공간에서도  효과적이고  편안한 홈 오피스 를 구성하세요 . 때로 는 햇볕 과 바람 이 좋은  외부 공간 을 활용하는  것도  좋은  방법입니다 . 그렇게  함으로써  집에서 도 편안하게  업무 를 수행할 수 있도록  환경 을 조성할 수 있습니다 . 생활하는  방식 에 따라  필요한  장비 나 가구\n"
     ]
    },
    {
     "name": "stderr",
     "output_type": "stream",
     "text": [
      " 69%|██████▉   | 90/130 [1:56:12<52:26, 78.67s/it]"
     ]
    },
    {
     "name": "stdout",
     "output_type": "stream",
     "text": [
      "<s> ###질문:알루미늄징크의  단점에  대해서  자세히 알려주세요  또한 , 아이 소핑크의  장점은  무엇인가요 ?\n",
      "\n",
      "###답변:알루미늄징크는  시공 이 잘못될 경우 울음 현상이  발생하고  리얼징 크보다  가격 이 좀  더 비싼  것이  주요한  단점입니다 . 그 외에도  알루미늄징크는  다른  금속과의  접촉 에 의해 부식이  발생 할 수 있어  부식 방지 를 위한  추가적인  방법 이 필요할 수 있습니다 . 이에  반해, 아이 소핑크는  내구성 과 시간이  지나 도 변화 가 적어서  오랜 기간  동안  사용해도  문제점이  적은  것으로  평가됩니다 . 그러므로  선택  시 고려해야  합니다 . 만약 철 저한 설치 와 유지보수 가 보장된다면  알루미늄징크를  선정하는  것도  좋은  option일 수 있습니다 . 하지만  부식에  대한  보완책을  강구해야만  하므로  신중한  판단과  정기적인  관리 가 필요합니다 . 따라 서 상황 에 맞 는 재료 를 선택하여  적절한  관리 를 통해 문제를  예방하는  것이  중요합니다 . 올바른 관리 와 정기적인  점검 을 통해 문제 를 최소화할  수 있으므로  이러한 측면을  고려하시기  바랍니다 . 때문에  각자의  특성을  고려하여  맞춤  용도로  \n"
     ]
    },
    {
     "name": "stderr",
     "output_type": "stream",
     "text": [
      " 70%|███████   | 91/130 [1:57:33<51:33, 79.33s/it]"
     ]
    },
    {
     "name": "stdout",
     "output_type": "stream",
     "text": [
      "<s> ###질문:겨울철  도배 작업에서  실내 온도를  일정하게  유지해야  하는  이유는  무엇인가요 ?\n",
      "\n",
      "###답변:겨울철  도배를  위한  적정한  실내 온도는  약 20도입니다 . 겨울에는  외부 온도가  낮아지므로 , 실내 온도가  너무  낮으면  도배 지면 의 건조 속도와  품질 이 저하될 수 있습니다 . 따라 서, 안정적인  실내 온도를  유지하여  도배 작업 을 진행하는  것이  중요합니다 . 또한 , 과도하게  높 은 실내 온도로  인해 도배지가  팽 창하거나  수축함으로써  하자 가 발생 할 수도  있으므로 , 적절한  온도를  유지하는  것도  중요한  포인트입니다 . 따라 서, 겨울철  도배 작업시에는  안정적이고  편안한 실내 환경 을 유지하기  위해  적절한  온도를  유지하는  것이  좋습니다 . 만약 실내 온도가  너무  낮아서  도배가  제대로  고정되지  않는다 면, 전문가 와 상의하여  보왁  및 방습조치 를 취하는  것이  필요합니다 . 추가적으로 , 충분한  두께 의 단열재를  사용하고  밀착시공하여  열을  효율적으로  차단하는  것이  도움이  됩니다 . 이를  통해 실내 온도를  쾌적한  수준으로  유지하면서  도배 작업 을 진행할 수 있을  것\n"
     ]
    },
    {
     "name": "stderr",
     "output_type": "stream",
     "text": [
      " 71%|███████   | 92/130 [1:58:51<49:56, 78.85s/it]"
     ]
    },
    {
     "name": "stdout",
     "output_type": "stream",
     "text": [
      "<s> ###질문:철골구조 의 화재  안전  보완을 위한  다양한 방법에는  무엇 이 있을까요 ? 그리고  벽 돌구조란  무엇인가요 ?\n",
      "\n",
      "###답변:철골구조 는 화재  발생  시 내구성 이 약해지는  특성이  있습니다 . 그러나  이를  해결하기  위해  내화성 재료 를 사용하거나  건물을  둘러싸 고 진열하는  방식으로  불이  붙어도  번지 지 않도록  예방합니다 . 또한 , 벽 돌구조 와 같은  내화성 건축물을  이용하여  철골을  둘러싸 게 함으로써  화재로부터 의 영향을  최소화할  수 있습니다 . 따라 서, 화재  대비  안전성을  높이기  위해서는  이와  같이  다양한 방법 을 활용할 수 있습니다 . 예를  들어 , 불연성 소재 로 된 외벽을  설치하고 , 내화성 바닥재를  사용하며 , 흡 음재나 난연재를  설치하여  화재 가 전파되는  것을  막아야  합니다 . 추가적으로  화재  감지 및 화재  진압  장치 를 설치하여  초기에  화재 를 진압하고  피난로를  확보하는  것이  중요합니다 . 이러한 조치들을  통해 철골구조 의 화재  안전 을 향상시킬  수 있습니다 . 더불어 , 각 지역의  규제  및 준수에  따른 건축물의  설계 와 시공 에 관해서 도 고려해야  합니다\n"
     ]
    },
    {
     "name": "stderr",
     "output_type": "stream",
     "text": [
      " 72%|███████▏  | 93/130 [2:00:11<48:53, 79.30s/it]"
     ]
    },
    {
     "name": "stdout",
     "output_type": "stream",
     "text": [
      "<s> ###질문:석구조란  무엇인가요 ? 그리고  기둥 -보 구조  방식 은 무엇 을 의미하나 요?\n",
      "\n",
      "###답변:석구조 는 주로  석재로  쌓 아 만든 건축물을  말합니다 . 이러한 구조법은  궁 전, 불사, 탑 비 등의  고건물에 서 볼  수 있습니다 . 그러나  풍압 력, 지진력, 기타  인위적 횡력에서는  극 히 취약하기  때문에  고층  건물에 는 부적합하며 , 보강구조 로 해야  합니다 . 따라 서 보강구조 와 함께  사용되는  경우가  많습니다 . 그 외에도  자연재해로부터  안전하게  보호받을  수 있는  고려 가 필요합니다 . 예를  들어  바다  저항성 코팅이나  대류 시스템 과 같은  추가적인  방법들이  필요할 수 있습니다 . 그러므로  석구조 를 선택 할 때는  해당 구조물의  장단점과  주변의  환경 을 종합적으로  고려하여  결정하는  것이  좋습니다 . 또한  석조체의  이동으로  인한  문제점을  최소화하기  위해  창(門)짝 새나 개구부에  위치 를 조정하고 , 동시에  보강을  철저히  하면  됩니다 . 이렇게  함으로써  안정성을  확보하면서도  석조재의  특성에  맞춰  시공 할 수 있습니다 . 결국 석구조물은  매우 특별 한 재료이지만 , \n"
     ]
    },
    {
     "name": "stderr",
     "output_type": "stream",
     "text": [
      " 72%|███████▏  | 94/130 [2:01:29<47:20, 78.92s/it]"
     ]
    },
    {
     "name": "stdout",
     "output_type": "stream",
     "text": [
      "<s> ###질문:포세린  타일을  사용하는  것에 대한  단점이  무엇인가요 ? 그리고  셀룰 로오스 의 단점에  대해 설명해주세요 .\n",
      "\n",
      "###답변:포세린  타일은  시공비가  높아서  비용 이 많 이 든다는  것이  주요한  단점입니다 . 또한 , 오염 을 제거하기  어렵 고 미끄러 울 수 있어  안전성이  낮다는  측면에서 도 고려해야  합니다 . 따라 서, 실용적이고  안정적인  바닥재로  선택 할 때 포세린  타일의  단점을  감안하여  신중히 결정해야  합니다 .특히 , 습기가  많은  환경이나  물이  많 이 사용되는  공간에서는  적합하지  않을 수 있으므로  상황 에 맞 는 재료 를 선정하는  것이  중요합니다 . 그렇 기 때문에  건축물의  특성과  용도에  맞 게 다양한 바닥재를  고려하고  판결하는  것이  필요합니다 . 만약 포세린  타일이  가장  적합한 소재라면  좋은  옵션일 수 있습니다 .하지만  다른  재료로도  효과적인  방법 이 있을  수 있으니  여러 가지  옵션을  고려해보시기  바랍니다 . 함께  자세한  정보를  모아보시고  전문가 와 상의하여  최적의  솔루션 을 찾아가 면 좋습니다 . 그러므로  충분한  시간 과 연구 가 필요하며 , 모든  가능한  옵션을  \n"
     ]
    },
    {
     "name": "stderr",
     "output_type": "stream",
     "text": [
      " 73%|███████▎  | 95/130 [2:02:41<44:50, 76.86s/it]"
     ]
    },
    {
     "name": "stdout",
     "output_type": "stream",
     "text": [
      "<s> ###질문:부드러 운 욕 실 인테리어 를 위해  사용 할 수 있는  소재 나 색상은  어떤  것들이  있을까요 ? 그리고  반려동물 을 위한  바닥 재에는  어떤  종류 가 있는 지 알려주세요 .\n",
      "\n",
      "###답변:욕실을  부드럽 게 꾸미는  데는 다양한 방법 이 있지 만, 가장  일반적인  방법으로는  연한  파스텔  컬러를  활용하는  것이  좋습니다 . 또한 , 자연적이고  부드러 운 조명을  선택하여  분위기 를 조성하고 , 식물이나  천연 소재 로 된 장식품들을  활용하여  자연스러운  느낌 을 더할 수 있습니다 . 또한  플러 피한 타월과 함께  따뜻 한 샤 워기를  설치하여  편안한 환경 을 조성하는  것이  좋은  방법입니다 . 이와  같은  조치들을  통해 욕실의  분위기 를 부드럽 게 만들 수 있습니다 . 하지만  만약 강렬한  표격을  선호한다면 , 이런  스타일 은 적합하지  않을 수 있으니  참고하시기  바랍니다 . 때로 는 강력하면서도  아름다운  디자인 을 원할 때도 있으며 , 이에  대한  아이디어 는 전문가와의  상담으로  구출하실  수 있습니다 . 부드러 운 욕 실 인테리어 에 대해 추가적으로  자세히 알기 위해서는  전문가에게  문의하시는  것을\n"
     ]
    },
    {
     "name": "stderr",
     "output_type": "stream",
     "text": [
      " 74%|███████▍  | 96/130 [2:03:57<43:16, 76.37s/it]"
     ]
    },
    {
     "name": "stdout",
     "output_type": "stream",
     "text": [
      "<s> ###질문:팬던 트 라이트 는 무엇이며 , 어떤  용도로  사용 되나요 ? 그리고  인테리어에서  바닥재를  선택 할 때 고려해야  할 중요한  요소는  무엇인가요 ?\n",
      "\n",
      "###답변:팬던 트 조명은  천장에  길게 늘어져  있는  전선 을 통해 조명을  설치하는  것을  말합니다 . 이러한 조명의  장점은  다양한 디자인 과 소재 로 제공되어  공간 에 세련된 분위기 를 연출할 수 있다 는 점입니다 . 그러나  단점으로 는 청소 가 어렵 고, 전구를  교체하거나  유지보수 를 하기  어려울 수 있습니다 . 따라 서 주변의  환경과의  호흡 이 좋고 내구성 이 뛰어난  조명을  선택하여  적절한  관리 와 유지 가 가능하도록  주의해야  합니다 . 또한 , 바닥재의  선택 은 빛 의 방향성과  강도를  고려하여  조화롭게  조합하여야  합니다 . 만약 팬던 트 조명이  너무  높 아 보이거나  충분한  조도가  필요하지  않다면  조명 위치 나 밝기를  조정 할 수도  있습니다 . 이렇게  함으로써  집안 전체적으로  조화로 운 분위기 를 연출하고  기능적인  면에서 도 편리하게  활용할 수 있을  것입니다 . 추가 로, 팬던 트 조명에  대해서는  거실과  \n"
     ]
    },
    {
     "name": "stderr",
     "output_type": "stream",
     "text": [
      " 75%|███████▍  | 97/130 [2:05:18<42:50, 77.90s/it]"
     ]
    },
    {
     "name": "stdout",
     "output_type": "stream",
     "text": [
      "<s> ###질문:속건형 유성 발수제가  건물의  수명을  연장시키는  원리는  무엇인가요 ?\n",
      "\n",
      "###답변:속건형 유성 발수제의  효과 는 건축자재 의 표면에  도포되어  빗물과  기타  물질로부터  보호하는  역할을 합니다 . 이를  통해 백화현상과  철 근의 부식 등을  방지하여  건물 구조물의  수명을  연장시킵니다 . 또한 , 이러한 발수제는  건물을  지진, 태풍  및  other 외부 충격으로부터  보호하고 , 내구성 을 높이는  데에도  기여합니다 . 따라 서 건물 주변의  환경 에 적합한 발수제를  선택하여  사용함으로써  건물의  수명을  연장시킬  수 있습니다 . 만약 구체적 인 요인으로서의  영향을  미치고 있다 면, 전문가 와 상의하여  적절한  대책 을 마련해야  합니다 .함께  신중하게  결정 을 내려 야 합니다 . 때때로  추가적인  방수 처리 가 필요한  경우도 있으니  상황 에 맞 게 고려하여야  합니다 . 올바른 선정과 시공 은 건물에  안정성을  제공하며 , 장기적으로  유지보수  비용 을 절 감할 수 있게  됩니다 . 이에  대해서  자세한  정보 를 얻고자  한다면  전문가에게  문의하시는  것이  좋습니다 . 함께  신중한  판단과  조치 로\n"
     ]
    },
    {
     "name": "stderr",
     "output_type": "stream",
     "text": [
      " 75%|███████▌  | 98/130 [2:06:10<37:27, 70.24s/it]"
     ]
    },
    {
     "name": "stdout",
     "output_type": "stream",
     "text": [
      "<s> ###질문:주방에서  조리 할 때 어떤  종류 의 조명이  가장  적합한가요 ?\n",
      "\n",
      "###답변:주방은  식탁 이 있는  다이닝공간 과 음식 을 조리하는  조리대에  따라  추천하는  조명이  달라집니다 .틱탁에는  팬던 트 조명을  달아  식사하는  사람 들 간의  집중도를  높이고  눈에  피로가  없도록  합니다 .반면에 , 조리대는  눈에  피로를  줄이기  위해서는  밝 은 조명이  필요하며 , 일반적으로  200룩스를  기준으로  하면  됩니다 .150~300룩스의  범위에서  선택하시면  좋습니다 .또한 , 조리  공간 에 따라  습도와  온도에  따라  식물이나  꽃 을 넣어 환기를  유지하고  공기정화 효과 를 얻 을 수도  있습니다 .생활  패턴 및 취향에 맞춰  조명을  선택하여  건강하고  편안한 요리환경 을 만들어보세요 .<|im_end|>\n"
     ]
    },
    {
     "name": "stderr",
     "output_type": "stream",
     "text": [
      " 76%|███████▌  | 99/130 [2:07:26<37:05, 71.79s/it]"
     ]
    },
    {
     "name": "stdout",
     "output_type": "stream",
     "text": [
      "<s> ###질문:인테리어에서  생기 넘치는  식물 과 아트워크 를 부착 할 때 밀풀 을 사용하는  것이  좋은가요 , 그리고  밀풀  사용  시 주의 할 점은  무엇인가요 ?\n",
      "\n",
      "###답변:식물이나  예술작품 을 벽면에  부착하기  위해서는  몇  가지  중요한  점을  고려해야  합니다 . 먼 저, 공간 의 크기와  조명은  적절한  배치를  위해  고려해야  합니다 . 또한 , 재료 와 색상의  선택 은 전체적인  분위기 에 맞추어  조화로 운 느낌 을 주는  데 중요합니다 . 마지막으로 , 장식적 요소들과  균형 을 이루면서  안정적으로  고정시키는  방법 도 중요합니다 . 예를  들어 , 클램프스나 명령대로  설치하지  않는 자갈 레미 같은  장식을  활용하는  것보다는  거울, 조명, 그림  등을  통해 공간 의 방향성을  조절하고  강조하는  것이  더욱  효과적일  수 있습니다 . 따라 서, 식물이나  예술작품 을 부착 할 때는  이러한 사항을  유의하여  안정적이고  아름다운  디스플레이 를 만들 수 있도록  신중히 계획해야  합니다 . 최종적으로는  전문가 의 조언을  구해서  보다  세련된 디자인 을 완성하는  것이  좋습니다 . 내부와  외부의  환경 과 스타일 에 \n"
     ]
    },
    {
     "name": "stderr",
     "output_type": "stream",
     "text": [
      " 77%|███████▋  | 100/130 [2:08:42<36:35, 73.18s/it]"
     ]
    },
    {
     "name": "stdout",
     "output_type": "stream",
     "text": [
      "<s> ###질문:철 근콘 크리트  구조 에 대해 좀  더 자세히 알려주세요 . 그리고  통나무구조  방식 은 어떤  건물에  사용되는  건축  구조  방식인가요 ?\n",
      "\n",
      "###답변:철 근콘 크리트  구조란 , 콘 크리트 의 압축  강도를  살 리거나  인장 응력에  대한  내구성 을 향상시키기  위해  철 근과 함께  사용하는  구조입니다 . 일반적으로  도심에서  많 이 볼  수 있는  아파트 , 사무 실, 주차장과  같은  다양한 시설물에 서 사용되고  있습니다 . 또한 , 고층  건물이 나 큰 규모 의 빌딩에서도  안전성을  높이기  위해  적용됩니다 . 이를  통해 안정적이고  견고한  건물을  건설 할 수 있으며 , 화재에도  대비하여  안전성이  뛰어나다는  특징 이 있습니다 . 그러나  비싼  재료 와 시공과정 에 따라  비용 이 비교 적 높 은 편이기도  합니다 . 이와  관련해서  통나무구조  방식과의  차이도  있으니  주의해야  합니다 . 그 외에도  다른  구조  방식 (예를  들어  기둥 -보 구조 )과도  결합하여  사용하기도  하고 , 철 근콘 크리트 를 혼용하는  경우에 는 내화성, 내진성, 내진재에서  주의가  필요합니다 . 특히  철 근콘 크리트 는 화재로부터  보호하기  위한  \n"
     ]
    },
    {
     "name": "stderr",
     "output_type": "stream",
     "text": [
      " 78%|███████▊  | 101/130 [2:10:04<36:37, 75.78s/it]"
     ]
    },
    {
     "name": "stdout",
     "output_type": "stream",
     "text": [
      "<s> ###질문:공명형 흡 음재가  특정 주파수에  한정적으로  적용되는  이유는  무엇인가요 ?\"\n",
      "\n",
      "###답변:공명형 흡 음재는  특정한  주파수 이하에는  효과적이지 만, 그 이상에서는  별로  효과적입니다 . 이는  각종 재료 의 성능과 시공방법 에 따라  다를 수 있습니다 . 일반적으로는  저주파의  진동음을  감소시키는  데 뛰어나지만 , 고주수의  진동음에  대해 상대적으로  덜  효과적일  수 있습니다 . 따라 서 사용하고자  하는  주파수 범위에서  확인하여  선택하고 , 실제로  사용  시 유의해야  합니다 . 또한 , 구조적인  결함으로  인해 흡 음률이  떨어질  수도  있으니  건축물의  구조 도 함께  고려하여야  합니다 . 이를  통해 최적의  재질을  선택하고  설치하는  것이  중요합니다 . 만약 추가적인  방음에도  대한  대책 을 원한다면 , 전문가 와 상담하여  상황 을 진단받고  적절한  조치 를 취하는  것이  좋습니다 . 여기에  관해서 는 건축물의  소유자나  거주자 가 책임 을 져야  하며 , 전문가 의 조언을  구하는  것이  바람 직합니다 . 마지막으로 , 흡 음재의  성능은 시간이  지남에 따라  변화 할 가능성이  있으므로  정기적인  유지보수 와 관리 가 필요합니다 . 이를\n"
     ]
    },
    {
     "name": "stderr",
     "output_type": "stream",
     "text": [
      " 78%|███████▊  | 102/130 [2:11:25<36:00, 77.17s/it]"
     ]
    },
    {
     "name": "stdout",
     "output_type": "stream",
     "text": [
      "<s> ###질문:결로의  발생  원인 은 무엇이고 , 이를  방지하기  위해  어떤  시공방법 을 사용해야  하나 요?\n",
      "\n",
      "###답변:결로가  발생하는  주된 이유는  높 은 습도와  차가 운 표면온도입니다 . 물방울 이 형성되고  이어서  발생하는  물기는  건물의  손상과  곰팡 이 등을  유발할 수 있습니다 . 그러므로  적절한  환기와  단열재의  보강이  필요하며 , 외부와  내부간의  온도차를  줄이는  것이  중요합니다 . 또한 , 실내에서  과도하게  사용되는  히터나 전열기 등은 결로 현상을  가속화할  수 있으므로  주의가  필요합니다 . 만약 결로가  이미  발생하였다 면, 각 부분 의 원인 을 찾아 신속한 보수작업 이 필요합니다 . 추가적으로  제습기를  이용하여  습도를  낮 추고, 벽면이 나 유리면의  통풍을  향상시키는  것도  도움이  됩니다 . 최종적으로는  건축물이  완전히  건조되기  전에까지  결로를  예방하기  위해서는  설계단계부터  관리  및 감독자의  주의를  요구합니다 . 특히  한국 과 같이  습도가  높 은 지역에서는  주의해야  합니다 . 따라 서 건축주와  거주자들은  건축사의  설명 에 귀 를 듣 고 자주시 설하고 , 법정규정에  따른 조치 를 취\n"
     ]
    },
    {
     "name": "stderr",
     "output_type": "stream",
     "text": [
      " 79%|███████▉  | 103/130 [2:12:36<33:53, 75.32s/it]"
     ]
    },
    {
     "name": "stdout",
     "output_type": "stream",
     "text": [
      "<s> ###질문:베란다 를 활용하여  야외 라운지를  만들기  위해  필요한  장비 나 소품은 어떤  것이  있을까요 와 거실에  현대적인  느낌 을 주기  위한  팁 은 무엇인가요 의 관계 는 무엇인가요 ?\n",
      "\n",
      "###답변:베란다 를 활용하여  야외 라운지를  만드는  것은  매우 간단합니다 . 먼 저, 편안한 시트 나 쿠션을  추가하여  휴식을  취할 수 있는  공간으로  꾸미는  것이  좋습니다 . 식물이나  꽃들을  이용하여  자연스러운  분위기 를 연출할 수도  있으며 , 일몰이나  밤하늘 을 감상할 수 있도록  조명을  설치하는  것도  좋은  방법입니다 . 또한 , 베란다 에 편안하고  아늑 한 패드 를 두면 휴식과  안정감을  얻 을 수 있습니다 . 이렇게  함으로써  베란다 를 보다  편안하고  아늑 한 야외 라운지로  변신시킬  수 있습니다 . 더불어 , 베란다 에 테이블 과 의자도 추가하면  식사하거나  책을  읽으면서  편안하게  쉴  수 있는  공간으로도  활용할 수 있습니다 . 따라 서, 베란다 를 최대한  활용하여  개인 의 원향과 편의성을  고려하여  공간 을 꾸 밀 수 있습니다 . 때로 는 태양광  패널이나  화원이\n"
     ]
    },
    {
     "name": "stderr",
     "output_type": "stream",
     "text": [
      " 80%|████████  | 104/130 [2:13:57<33:22, 77.04s/it]"
     ]
    },
    {
     "name": "stdout",
     "output_type": "stream",
     "text": [
      "<s> ###질문:페인 트 작업  시 유해물질 을 최소화하기  위해  어떤  점을  유의해야  하나 요?\"\n",
      "\n",
      "###답변:페인 트 시공  시에는  다음과  같은  주의사항을  준수하는  것이  중요합니다 . 먼 저, 도장 전에  환기를  충 분히 시켜  냄 새를 제거하고 , 마스크와  보호장비 를 착용하는  것은 필수적입니다 . 또한 , 도막에 강도를  높이고  방청제를  사용하여  물에  대한  내마모성을  향상시키는  것도  좋은  방법입니다 . 이러한 조치들을  통해 페인 트 작업  시 발생하는  유해물질 을 최소화할  수 있습니다 . 만약 추가적인  보호장치 가 필요하다고  느껴진다 면, 실내공기정화식물이나  산소를  활용하여  쾌적한  환경 을 유지하는  것도  고려 해볼  만한  방법입니다 . 따라 서, 페인 트 시공  전과 후에 는 안전장비 를 착 용하고 , 적절한  환기를  유지하며 , 화학물질로부터  보호되는  것이  매우 중요합니다 . 이를  통해 건강 한 실내 환경 을 유지하고  위험으로부터  보호 될 수 있을  것입니다 . 그리고  페인트가  완전히  건조되기  전에  다시  환기를  시키고 , 페인트의  종류 와 양의  영향을  고려하여  적절한  시간을  두고  침 대나 쇼 워\n"
     ]
    },
    {
     "name": "stderr",
     "output_type": "stream",
     "text": [
      " 81%|████████  | 105/130 [2:15:20<32:50, 78.82s/it]"
     ]
    },
    {
     "name": "stdout",
     "output_type": "stream",
     "text": [
      "<s> ###질문:흡 음재 중 판 진동형의  작동 원리는  무엇인가요 ?\"\n",
      "\n",
      "###답변:흡 음재의  한 종류로는  벽 과 일정 간격을  두고  설치되는  얇 고 통기성이  없는  판으로 , 소리 가 전달될 때 판이  진동하여  마찰으로  인해 소리를  소멸시키는  역할을 합니다 . 이러한 특성으로  인해 판상형 흡 음재는  주로  저주파의  진동과  공명을  감소시키는  데 효과적이며 , 전체적으로  소리를  흡 수하는  것보다는  특정한  주파수에  소리를  제어하는  것이  더욱  효율적입니다 . 때문에  적절한  설계 와 시공 이 필요하며 , 특히  높 은 주파수의  소리에는  효과적이지 만, 흡 음률이  낮아지 는 경향이 있습니다 . 따라 서 상황 에 맞 게 선택하고  사용하여야  합니다 . 또한 , 흡 음재로서의  성능을 극대화하기  위해서는  다양한 형태 의 재료 를 활용해야  하므로  현장  조건 에 맞 는 소재 를 선별하는  것이  중요합니다 . 추가적으로는  흡 음재의  두께 나 단면을  조절함으로써  흡 음률 을 변화시킬  수 있으며 , 이는  각자의  특성에  따라  다른  결과 를 초래할 수도  있습니다 . 따라 서 상황 에 맞 는 발코니 및\n"
     ]
    },
    {
     "name": "stderr",
     "output_type": "stream",
     "text": [
      " 82%|████████▏ | 106/130 [2:16:36<31:17, 78.22s/it]"
     ]
    },
    {
     "name": "stdout",
     "output_type": "stream",
     "text": [
      "<s> ###질문:점토벽 돌을 사용하는  것의 장점은  무엇인가요 ? 또한 , 도료와 벽 지 중에서  어떤  것을  선택하는  것이  더 나은 선택일까요 ?\n",
      "\n",
      "###답변:점토벽 돌은 다양한 장점이  있습니다 . 첫째로, 점토벽 돌은 유지보수 가 쉽습니다 . 둘 째로, 점토벽 돌은 내구성 이 뛰어나 며, 열과 소리  절 연성이  우수합니다 . 셋 째로, 흙 이 기본  재료이기  때문에  매우 친환경적입니다 . 마지막으로 , 저렴 한 가격대로  구입할 수 있어  경제적인  장점을  가지 고 있습니다 . 이러한 특징들로  인해 건축자재로서의  다양한 장점을  갖 추고 있습니다 . 따라 서 건물 건설  시 적합한 재료 로 점토벽 돌을 활용하여  안정적이고  아름다운  구조물을  만들 수 있을  것입니다 . 추가적으로  소음 및 열차단에  탁월한  효과 를 보여주는  등, 다양한 면에서  유리 한 소재 로 인정받고  있는  제품입니다 . 따라 서 건축물의  외관과  내부 기능성을  높이고  싶 을 때 좋은  선택지가  될 수 있습니다 . 특히  최근에는  실내에  자연스러운  분위기 를 조성하고자  하는  경우가  많 아 점토벽 \n"
     ]
    },
    {
     "name": "stderr",
     "output_type": "stream",
     "text": [
      " 82%|████████▏ | 107/130 [2:17:55<30:04, 78.45s/it]"
     ]
    },
    {
     "name": "stdout",
     "output_type": "stream",
     "text": [
      "<s> ###질문:강화마루 는 어떤  재료 로 제작 되나요 ? 또한 , 징 크판넬 의 단점에 는 어떤  것들이  있을까요 ?\n",
      "\n",
      "###답변:강화마루 는 원목 무늬  필름지를  입혀  하드 코팅 처리 한 바닥재를  말합니다 . 일반적으로  1평당 7~12만원으로  가격 이 형성되며 , 온도나 습도에  의한 변색이  거의 없고, 강도가  뛰어나  수명이  긴  장점이  있습니다 . 하지만 , 필름지로  코팅되어  있어  질감이 나 보행감이  떨어진다 는 단점도 함께  고려해야  합니다 . 추가 로, 강화마루 는 물에  젖었을  때 미끄러운  경향이 있으므로  주의가  필요합니다 . 만약 이런  특성을  고려하여  사용하실  때에는  주의깊 게 관리하여야  합니다 . 특히  한국에서는  다양한 기후 조건 을 겪어야  하므로  적합한 소재 를 선택하는  것이  중요합니다 . 따라 서 실제 상황 에 맞 게 자재 를 선정하기  위해서는  전문가 의 조언을  구하는  것이  좋습니다 . 최종적으로는  자신이  원하는  디자인 과 기능성을  갖춘  제품 을 선택하시면  됩니다 . 여기에  관해서  참고로  할 만한  자료 가 될 수 있는  저자의  다른  글들도  읽어볼  가치 가 있습니다 .\n"
     ]
    },
    {
     "name": "stderr",
     "output_type": "stream",
     "text": [
      " 83%|████████▎ | 108/130 [2:19:10<28:19, 77.26s/it]"
     ]
    },
    {
     "name": "stdout",
     "output_type": "stream",
     "text": [
      "<s> ###질문:벽 에 타공하자 가 발생했을  때, 이로  인해 벽 장 부위에  결로가  생길 수 있는 지, 그리고  이를  방지하기  위한  방법 은 무엇인가요 ?\n",
      "\n",
      "###답변:타공불량으로  인해 습기가  유입되어  도배지가  젖 어 있으면 , 이러한 상태 는 곰팡이와  같은  결로 문제를  초래할 가능성이  있습니다 . 따라 서 적절한  관리 와 보수 가 필요하며 , 실내 환기를  통해 습기 유입을 막아야  합니다 . 또한  건조시간을  충 분히 주고 , 제습기를  사용하여  공간 의 적정 습도를  유지하는  것이  중요합니다 . 만약 이런  조치에도  불구하고  결로가  계속된다면 , 전문가 의 도움을  받아  부분  혹 은 전체적인  재작업 을 해야  합니다 . 올바른 시공 과 재료  선택으로  예방 할 수 있으며 , 이에  대한  자세한  정보 는 건축업체 나 시공자에게  문의하시는  것이  좋습니다 . 함께  협력하여  신뢰 worthy한 환경 을 구축하고 , 건강 한 실내 환경 을 유지하는  데 힘 을 줄 수 있습니다 . 추가적으로  방습층  또는  단열재를  설치하여  물들이거나  외부로부터  습기로부터  보호받는  것도  고려해보시기  바랍니다 . 때로 는 전문가 의\n"
     ]
    },
    {
     "name": "stderr",
     "output_type": "stream",
     "text": [
      " 84%|████████▍ | 109/130 [2:20:23<26:37, 76.08s/it]"
     ]
    },
    {
     "name": "stdout",
     "output_type": "stream",
     "text": [
      "<s> ###질문:물 누수로  인한  곰팡이와  곰팡 이 냄 새를 제거하는  데 사용 할 수 있는  가정 용 청소용품 이 있을까요 ? 그리고  펫테리어 가 무엇인지  자세히 알려주세요 .\n",
      "\n",
      "###답변:물 누수에  의해 도배지에  생기는  곰팡이를  제거하려면 , 먼 저 물을  그릇으로  모아 건조시키고 , 다음 걸 레로 부드럽 게 닦아주어야  합니다 . 만약 이러한 방법으로도  곰팡이가  사라지지  않는다 면, 전문가에게  도움을  요청해야  합니다 . 또한 , 반드시  환기를  시켜  습도를  낮춰주는  것이  중요하며 , 얼룩이나  오염 을 일으킬  수 있으므로  주의가  필요합니다 . 추가적으로 , 가구  등의  이동  시 물 누수를  방지하기  위해서는  수도꼭지를  잠그는  것이  좋습니다 . 만약 곰팡이가  다시  발생한다면 , 재발방지 를 위해  전문가 와 상담하여  적절한  조치 를 취하는  것이  좋습니다 . 또한 , 환경  친 화적인  방법으로  실내에  공기정화를  시키는  것도  고려해보시기  바랍니다 . 마지막으로는 , 집안 곳곳에서  물 누수가  발생하지  않도록  주의하고 , 정기적으로  시설물의  유지보수 를 함으로써  이런  문제를  예방 할 수 있습니다 . 즉 , 꼼꼼 한 관리\n"
     ]
    },
    {
     "name": "stderr",
     "output_type": "stream",
     "text": [
      " 85%|████████▍ | 110/130 [2:21:36<25:03, 75.17s/it]"
     ]
    },
    {
     "name": "stdout",
     "output_type": "stream",
     "text": [
      "<s> ###질문:도배지를  너무  작게 자르면  어떤  문제 가 발생 할 수 있을까요 ? 그리고  높 은 습도로  인해 도배지 패턴이 이어지지  않을 수 있는  이유가  무엇일까요 ?\n",
      "\n",
      "###답변:네, 공간 이 좁으면  도배지의  크기가  작을수록  도배지와  몰 딩면에  틈 새가 생길 가능성이  있습니다 . 또한 , 높 은 습도는  도배지의  접착력을  감소시켜  벽면에서  떨어질  수 있으므로  주의가  필요합니다 .따라 서 적절한  크기와  건조된 상태에서  시공하는  것이  중요하며 , 전문가 의 도움을  받는  것이  좋습니다 .습기 관리 에 신경써가며  실내를 환한하게  유지하고  제습기를  사용하여  적정 습도를  유지하는  것도  중요한  포인트입니다 . 만약 불량 도배를  방지하기  위해서는  전문가에게  상담 을 받고  적절 히 준비되는  것이  바람 직합니다 . 올바른 재료  선택 과 전문적인  기술 로 신속하게  작업하는  것이  품질 을 보장하는  데 도움이  됩니다 . 추가적으로 , 환경  조건 (온도, 습도)와 건축구조 에 맞춰  적합한 도배지를  선택하는  것이  중요합니다 . 따라 서 꼼꼼 한 사전  조사 와 전문가 의 조언을  따르는  것이  좋은  \n"
     ]
    },
    {
     "name": "stderr",
     "output_type": "stream",
     "text": [
      " 85%|████████▌ | 111/130 [2:22:56<24:16, 76.65s/it]"
     ]
    },
    {
     "name": "stdout",
     "output_type": "stream",
     "text": [
      "<s> ###질문:알러지가  있는  사람들이  매끄럽 고 평평한 벽지를  선택하는  이유는  무엇인가요 ?\n",
      "\n",
      "###답변:알러지가  있는  사람들은  매끄럽 고 평평한 표면을  가진 벽지를  사용하기  때문에  먼지나  알러지 유발물질 이 적게 축 적되어  청소 가 쉽습니다 . 또한 , VOCs(휘 발성 유기 화합물)와 같은  화학물질 을 포함하지  않아 실내 공기의  질을  개선하는데  도움이  됩니다 . 따라 서, 알러지가  있는  사람들에게  적절한  환경 을 제공하면서  건강 에 유리 한 장점이  있습니다 . 그러나  각 개인 의 반응 은 다를 수 있으므로  실제 상황 에 맞 는 벽지를  선택하시는  것이  중요합니다 . 만약 알러지로  인해 두통이나  호흡 기 문제 가 발생한다면 , 전문가 의 조언을  구하시기  바랍니다 .함께  신선하고  깔끔 한 공간 을 위해서는  적절한  관리 와 보수 가 필요하니  주의하시기  바랍니다 . 때때로  환기가  부족하거나  습도가  높 은 경우에 는 추가적인  방법으로  청결함을  유지해야  할 수 있으니  참고하셔야  합니다 . 그러므로  알러지와  관련 된 문제를  개선하고자  하는  경우, 벽지의  선택뿐만  아니 라 주거\n"
     ]
    },
    {
     "name": "stderr",
     "output_type": "stream",
     "text": [
      " 86%|████████▌ | 112/130 [2:24:14<23:05, 76.99s/it]"
     ]
    },
    {
     "name": "stdout",
     "output_type": "stream",
     "text": [
      "<s> ###질문:아파트  도배 평수를  계산하는  방법 과 소화기 설치  시 주의해야  할 사항 에 대해 설명해줄  수 있나요 ?\n",
      "\n",
      "###답변:일반적으로 , 아파트  도배평수는  분양  평수의  2.5배로 계산합니다 . 이는  보통  벽지와  천장의  면적 을 합한 값으로 , 실제로 는 다양한 요인에  따라  달라 질 수 있습니다 . 예를  들어 , 창호나 복도를  고려하거나  각 공간 의 크기와  사용목적 에 따라  도배용 바닥면적 이 달라 질 수 있습니다 . 또한 , 거주환경이나  조명 상태  등에  따른 변화에도  영향을  받을  수 있습니다 . 따라 서, 정확한 도배평수를  알고 싶다면  전문가와의  상담 을 권장합니다 . 함께  신중하게  검토하여  적정한  값을  산정하는  것이  좋습니다 . 그리고  소화기의  경우에 는 보행거리 와 안전  여유를  고려하여  위치 를 결정하고 , 필요한  경우 전문적인  도움을  받는  것을  추천합니다 . 올바른 위치 와 장비  설치 가 철저히  이루어지면  사고로부터  보호 될 수 있을  것입니다 . 만약 추가적인  정보 나 도움이  필요하다 면 친숙 한 기술자가  있는  인테리어  업체에게  문의하시는  것도  좋은  방법입니다 . 그냥  믿\n"
     ]
    },
    {
     "name": "stderr",
     "output_type": "stream",
     "text": [
      " 87%|████████▋ | 113/130 [2:25:29<21:39, 76.46s/it]"
     ]
    },
    {
     "name": "stdout",
     "output_type": "stream",
     "text": [
      "<s> ###질문:마감재의  하자 를 판단하는  데 어떤  방법 을 사용해야  할까 요? 그리고  라돈 을 측 정하는  데 가장  적합한 지점은  어디인가요 ?\n",
      "\n",
      "###답변:라돈 은 방사성 물질 로, 주로  자연적으로  발생하거나  공기 중에  존재합니다 . 이러한 특성으로  인해 특별 히 설계 된 장비 나 기술적인  방법 이 필요하지  않고, 일반적인  가정이나  상업 시설에서  쉽게  측 정할 수 있습니다 . 또한 , 라돈 의 위험 에 대비하여  안전조치 를 취하기  위해서는  개인보호구로부터  충분한  거리를  유지하고 , 마스크와  같은  개인보호구를  착용하는  것이  좋습니다 . 추가적으로는  창문을  열어 자주 환기를  시켜주고 , 실내 흡연을  피하며 , 새집증후군 과 같은  문제를  예방하기  위해  신선한 공기가  풍 부하게  흐 르도록  주의해야  합니다 . 따라 서 라돈 을 측 정하고자  한다면  이런  기본적인   precaution들을  준수하면서  안전하게  작업 할 수 있습니다 . 더불어  각 지역의  건축 법규 및 규제 에 따른 절차 와 기술을  준수하는  것도  중요합니다 . 만약 전문가 의 도움을  원한다면  국가환경보건공단 , 한국건설기술연구원 , 원자 력안전위원회 와 같이\n"
     ]
    },
    {
     "name": "stderr",
     "output_type": "stream",
     "text": [
      " 88%|████████▊ | 114/130 [2:26:46<20:26, 76.65s/it]"
     ]
    },
    {
     "name": "stdout",
     "output_type": "stream",
     "text": [
      "<s> ###질문:이산화탄소  소화기에  대해 좀  더 자세히 알 수 있을까요 ? 그리고  분말 소화기는  어떤  용도로  사용되는  건가요 ?\n",
      "\n",
      "###답변:이산화탄소  소화기는  B, C급 화재 에 대한  소화기이며 , 높 은 압력으로  압축  액화된  후단열재를  방사하여  불을  질식시킵니다 . 물을  뿌리면  안되므로  불꽃 을 꺼지게  됩니다 . 전기기기이나  가스  파이 프 등과 같은  고온다습한 장소에서  많 이 사용되며 , 냉 각 효과 와 질식 효과 가 있어  화재  진압 에 효과적입니다 . 그러나  이산화탄소 의 특성상 매우 낮 은 농도에  노출되면  발육 할 수 있으므로  주의가  필요합니다 . 또한 , 소화기를  흔들어  액체 상태 로 변화시켜  보존 및 배관 손상을  방지하기  위해  2개 이상씩  설치하는  것이  좋습니다 . 직사광선과  고온 다습한 장소를  피하고 , 사용  후에 는 내부 약품 을 완전히  제거해야  합니다 . 소화기의  주요 부품 인 철 재나 유리섬유 를 교체하면  안전성이  크게 감소하므로  유지보수에도  신경  써 야 합니다 . 무엇보다  가장  큰 문제 는 압 력계의  눈금이  돌아\n"
     ]
    },
    {
     "name": "stderr",
     "output_type": "stream",
     "text": [
      " 88%|████████▊ | 115/130 [2:27:32<16:48, 67.24s/it]"
     ]
    },
    {
     "name": "stdout",
     "output_type": "stream",
     "text": [
      "<s> ###질문:면진장치 는 어떤  용도로  사용되는  건가요 ? 그리고  면진구조 는 어떤  건물 구조 나 시스템 을 의미하나 요?\n",
      "\n",
      "###답변:면진장치란  지반으로부터  오는  진동 에너지 를 흡 수하여  건물에  주는  진동을  줄여주는  진동 격리장치입니다 . 이를  통해 건물의  안전성과  안정성을  향상시키고 , 지진으로부터  보호하는  역할을 합니다 . 또한 , 고층  건물이 나 다른  특수한  건축물에 서 더욱  효과적으로  사용됩니다 . 이러한 기술을  통해 건물을  보다  튼튼하게  만들어주고 , 지진으로부터  보호함으로써  안전성이  높아지는데에도  기여합니다 . 이에  따라  면진구조 와 관련 된 기술 은 건축물의  안전성에  중요한  부분으로  고려되며 , 다양한 환경에서  활용되고  있습니다 .<|im_end|>\n"
     ]
    },
    {
     "name": "stderr",
     "output_type": "stream",
     "text": [
      " 89%|████████▉ | 116/130 [2:28:47<16:17, 69.80s/it]"
     ]
    },
    {
     "name": "stdout",
     "output_type": "stream",
     "text": [
      "<s> ###질문:외단열재가  실내 온도 유지 에 어떻 게 도움을  주며, 이를  시공 할 때 고려해야  할 주요 장점들은  무엇인가요 ?\n",
      "\n",
      "###답변:외단열재는  건물 내부의  온도를  안정적으로  유지하는  데 큰 도움이  됩니다 . 이러한 효과 를 통해 냉 ·난방비를  절 감하여  에너지  효율성을  향상시키고 , 결로와  곰팡이와  같은  하자  발생 을 줄여줍니다 . 또한 , 외단열재는  건물의  내부 공간 을 쾌 적하고  안락하게  만들어주는  환경 을 조성해주 고, 건축물에  대한  지속가능한  가치 를 높이는  데에도  기여합니다 . 따라 서 외단열재의  설치 는 건물의  오랜 수명을  보장하면서도  편안한 생활환경 을 제공하는  데 중요한  역할을 합니다 . 이에  따라  건축주와  거주자들이  모두  외단열재 시공 에 긍 정적인  태향을  가지 고 있습니다 . 올바른 설계 와 시공으로  인해 외단열재가  제대로  기능하면  많은  혜 가 따릅니다 . 그러므로  신중한  계획 과 전문가 의 조언을  따르는  것이  중요합니다 . 함께  설계자와  시공업체 와 상의하여  적합한 위치 와 방법 을 선정하는  것이  바람 직합니다 . 이로써  건물을\n"
     ]
    },
    {
     "name": "stderr",
     "output_type": "stream",
     "text": [
      " 90%|█████████ | 117/130 [2:30:05<15:36, 72.07s/it]"
     ]
    },
    {
     "name": "stdout",
     "output_type": "stream",
     "text": [
      "<s> ###질문:외단열과 내단열의  차이점은  무엇이며 , 각각의 시공방법 이 어떻 게 단열 효과 에 영향을  미치나요 ?\n",
      "\n",
      "###답변:외단열을  하는  것과는  달리 내단열을  하면  건물 내부에서  발생하는  결로와  곰팡이와  같은  하자들이  많아지 는 원인으로  작용합니다 . 이는  실내의  온도가  안정되어  있기 때문에  수분이  응축되고  벽면이 나 유리 창 주변의  표면 온도차가  커지기  때문이죠 . 따라 서 내단열을  할 경우, 건축물의  내부 환경에서  더 많은  문제 가 발생 할 수 있습니다 . 그러므로  내단열을 결정하기  전에  전문가 와 상의하여  적합한 대책 을 마련해야  합니다 . 또한 , 내단열은 공사기간 이 길고 비용 이 상대적으로  많 이 드는  편이기도  하니  이 점을  고려하여  상황 에 맞 는 선택 을 권장합니다 . 결론적으로 , 내단열은 겉보기에는  편안해 보이지만  실내에  있는  결로와  곰팡이와  같은  문제를  야기시킬  가능성이  높아서  주의해야  합니다 . 반면에  외단열은 비교 적 적은  비용 과 짧 은 시공시간을  가지면서  좋은  결과 를 얻 을 수 있어  인기가  많습니다 . 하지만  내부와  외\n"
     ]
    },
    {
     "name": "stderr",
     "output_type": "stream",
     "text": [
      " 91%|█████████ | 118/130 [2:31:26<14:56, 74.68s/it]"
     ]
    },
    {
     "name": "stdout",
     "output_type": "stream",
     "text": [
      "<s> ###질문:바닥재의  종류  중에서  가장  인기 있는  것은  무엇이며 , 가장  비싼  바닥재는  무엇인가요 ?\n",
      "\n",
      "###답변:현재  가장  인기 있는  바닥재로 는 대리 석, 서브웨이  타일, 그리고  목재 바닥재가  많 이 선택되고  있습니다 . 특히  대리석은  고급스러운  느낌 을 주어 매우 인기가  있으며 , serbway tile은 현대적이고  세련된 디자인으로  많은  사람들에게  호불호가  갈립니다 . 또한  목재 바닥재는  자연스러우며  따뜻 한 분위기 를 연출하여  널 리 사용되고  있습니다 . 이러한 바닥재를  선택하는  경우에에는  개인적인  취향과 공간 의 목적 에 맞 게 다양한 옵션을  고려해야  합니다 . 만약 전문가 의 조언을  구하고 자 한다면  건축업체 나 시공자에게  상담 을 받는  것이  좋습니다 .함께  상의하면서  적합한 바닥재를  선택하면  보다  satisfied할 수 있을  것입니다 . 따라 서 바닥재를  선택 할 때에는  개인 의 선호와  공간 의 용도에  맞춰  신중하게  검토하셔야  합니다 . 물론  가격이나  외관 뿐만  아니 라 내구성 , 청소 와 유지보수 의 용이 성, 열전도율  및 방수성을  모두  고려하여야  합니다 . 따라 서 바닥재를  선택 할 때는  종합적으로\n"
     ]
    },
    {
     "name": "stderr",
     "output_type": "stream",
     "text": [
      " 92%|█████████▏| 119/130 [2:32:50<14:14, 77.67s/it]"
     ]
    },
    {
     "name": "stdout",
     "output_type": "stream",
     "text": [
      "<s> ###질문:포세린  타일의  장점과  단점은  무엇인가요 ?\n",
      "\n",
      "###답변:포세린  타일은  점토를  기본으로  사용하여  만들어지는  무광 의 타일을  말합니다 . 이러한 타일은  여름에는  시원하고  겨울에는  따뜻하며  내구성 과 바닥  울림이  적다는  특징 을 가지 고 있습니다 . 가격 은 평당 10~20만원입니다 . 하지만 , 충격을  흡 수하는  능력 이 낮 아 노약자가  있는  집안에 는 적절하지  않으며 , 표면이  미끄러 워 삼 림 지역이나  욕실에서  설치 할 경우 미끄러운  위험 이 있을  수 있습니다 . 일반적으로  실내, 외부 벽면의  재료 로 많 이 활용됩니다 . 물론  적절한  관리 와 보수 가 필요하다는  점을  잊 지 마십시오 . 특히  습기가  많은  환경에서는  하자 가 발생하기  쉽습니다 . 따라 서 정기적인  청소 와 유지보수 가 중요합니다 . 또한 , 균일한  크기와  모양으로  제작되어  주변의  인테리어와의  조화롭고  깔끔 한 느낌 을 줍니다 . 그러나  습기에  취약하다는  단점이  있으며 , 표면이  미끄럽다면  노약자 있는  집에 는 적합하지  않을 수 있습니다 . 일반적으로  평당 10~20만원  정도 의 비용 이 소\n"
     ]
    },
    {
     "name": "stderr",
     "output_type": "stream",
     "text": [
      " 92%|█████████▏| 120/130 [2:34:03<12:42, 76.29s/it]"
     ]
    },
    {
     "name": "stdout",
     "output_type": "stream",
     "text": [
      "<s> ###질문:중목구조  방식 에 대해 좀  더 자세히 설명 해 주실 수 있을까요 ? 그리고  철 근콘 크리트  구조 에 대해 좀  더 자세히 알려주세요 .\n",
      "\n",
      "###답변:중목구조란  건물의  지탱력을  하기  위해  중앙 에 큰 기둥 (중목)을 설치하고 , 그 주변에 보(보근)를 배열하는  건축  양식을  말합니다 . 이러한 구조 는 기중-보 방식 과 유사하지만 , 구조 용 목재로  큰 각재를  사용하여  건축한다는  것이  차이점입니다 . 내력벽이나  바닥 의 형태 가 자유롭 고, 외벽 은 일반적으로  2x4경량 목구조 와 동일한  구조 로 구성됩니다 . 이러한 구조 는 안정성이  뛰어나면서도  원형이  자유로운  공간 을 연출할 수 있는  장점을  가지 고 있습니다 .   또한 , 철 근콘 크리트  구조 는 강철의  인장응력과  콘 크리트 의 압축응 력 결합 을 통해 강한  지지체를  형성함으로써  건물을  지탱하는  구조 체입니다 . 이러한 구조 는 건물 전체 에 일정한  하중을  전달하면서  내구성 과 안전성을  확보하는  데에 도움을  줍니다 . 그러므로  철 근콘 크리트 는 건물이 나\n"
     ]
    },
    {
     "name": "stderr",
     "output_type": "stream",
     "text": [
      " 93%|█████████▎| 121/130 [2:35:21<11:31, 76.81s/it]"
     ]
    },
    {
     "name": "stdout",
     "output_type": "stream",
     "text": [
      "<s> ###질문:도배지는  얼 마나의  양이  필요한가요 ? 또한 , 벽 에 구멍 을 막는 가장  효과적인  방법 은 무엇인가요 ?\n",
      "\n",
      "###답변:일반적으로  30평 아파트 의 경우, 합지벽지의  경우 3롤, 실크벽지의  경우 2롤이 필요합니다 . 하지만  작업자의  숙 련도와  시공환경 에 따라  달라 질 수 있으니  참고하시기  바랍니다 . 저자라면  직접 확인해야  하며 , 전문가에게  상담 을 받는  것이  좋습니다 . 또한 , 벽면에  구멍 을 메우기  위해서는  먼 저 부착 용 스패틀링을  사용하여  구멍 을 메우고 , 이후에는  본드나 시멘트 로 메워야 합니다 . 이런  과정을  통해 보다  튼튼하게  벽면을  처리 할 수 있습니다 . 만약 더 세밀한  처리 가 필요하다 면 전문가 와 상의하여  전문적인  솔루션 을 찾아보세요 .함께  신중히 결정하는  것이  중요하니  주의하시기  바랍니다 . 만일 너무  많은  구멍 이 있는  경우에 는 단순히 채우는  것만으로  벽 을 완전히  메울 수 없으므로 , 전문가 의 조언을  듣 고 적절한  대책 을 마련하시는  것이  좋습니다 . 때때로  타일 또는  목재 소재 를 활용하여  틈\n"
     ]
    },
    {
     "name": "stderr",
     "output_type": "stream",
     "text": [
      " 94%|█████████▍| 122/130 [2:36:34<10:05, 75.64s/it]"
     ]
    },
    {
     "name": "stdout",
     "output_type": "stream",
     "text": [
      "<s> ###질문:경질우레탄폼  보온판을  사용 한 외단열 시공 은 어떤  장점을  가지 며, 이를  통해 어떻 게 결로와  곰팡 이 발생 을 줄일 수 있나요 ?\n",
      "\n",
      "###답변:경질우레탄폼  외단열재는  방습층보다  더 뛰어난  방습효과 를 제공하여 , 건물 내부의  습기 문제를  완전히  解소할 수 있습니다 . 또한 , 이러한 제품 은 단열재 중에서  열전도율이  가장  낮아서  효율적인  난연성과  절 연성을  보장합니다 . 이로써  건축물의  에너지  소비 를 최소화하고 , 결로와  곰팡 이 등의  하자  발생 도 줄일 수 있는  장점이  있습니다 . 따라 서 경질우레탄폼  외단열재는  건물 내부 환경 의 안정성과  효율성을  높이는  데 큰 도움이  됩니다 . 추가적으로 , 이 제품 은 목구조 에 적합하며  난연성 재료이기 로 화재로부터  건물을  보호하는  역할을 합니다 . 이에  따라  안전하고  편리한  시공 이 가능하다는  점도 장점으로  꼽힙니다 .   그러나  경질우레탄폼  외단열재의  단점은  가격 이 상대적으로  비싸다는  것입니다 . 하지만  이러한 단점에 도 불구하고 , 건축주와  건설업체들은  이 제품 을 선호하고  \n"
     ]
    },
    {
     "name": "stderr",
     "output_type": "stream",
     "text": [
      " 95%|█████████▍| 123/130 [2:37:56<09:01, 77.37s/it]"
     ]
    },
    {
     "name": "stdout",
     "output_type": "stream",
     "text": [
      "<s> ###질문:질석벽지가  아트 월이나  현관 입구에  많 이 사용되는  이유는  무엇인가요 ?\n",
      "\n",
      "###답변:질석벽지는  자연스러운  느낌 과 텍 스처를  살린  공간 을 만들어주는 데 탁월한  선택입니다 . 특히 , 현관 입구나 아트 월에 활용할 때, 고급스럽고  세련된 분위기 를 연출하면서도  자연스러움을  유지 할 수 있습니다 . 또한 , 질석벽지의  색상과  질감은  각종 조명과  잘 어울리며 , 따뜻하고  포근한 느낌 을 주어 손님을  맞이하 기 위한  환영적인  분위기 를 조성하는  데에도  도움이  됩니다 . 따라 서, 질석벽지는  현관 입구와  아트 월에서  매우 효과적으로  활용될 수 있는  장점들이  있습니다 . 더불어 , 다양한 디자인 과 패턴으로  제공되어  인기를  끌 고 있습니다 . 때문에  실내 및 외부 벽면에  널 리 시공되고  있습니다 . 질석벽지는  아름다운  분위기 와 함께  독특한 느낌 을 제공하여  많은  사람들에게  선호되고  있습니다 . 이에  대해 추가 로 설명드리겠습니다 . 1. 질감 표면 처리방법 : 질석벽지를  가공하는데  사용되는  방법 은 주로  가소프 또는  사포를  이용합니다 . 이는  \n"
     ]
    },
    {
     "name": "stderr",
     "output_type": "stream",
     "text": [
      " 95%|█████████▌| 124/130 [2:39:15<07:47, 77.88s/it]"
     ]
    },
    {
     "name": "stdout",
     "output_type": "stream",
     "text": [
      "<s> ###질문:시트  방수공사 를 통해 건물의  에너지  절 감 효과 를 어떻 게 얻 을 수 있나요 ?\"\n",
      "\n",
      "###답변:벽지의  일체화된  구조 로 인해 건축자재 의 투 입량을  줄여 단열재나 석고보드 에 비해 적은  양의  재료 가 필요하여  에너지  절 약 효과 를 기대할 수 있습니다 . 또한 , 외부 마감재로부터  실내까지  열이  쉽게  전달되지  않아 냉 ·난방비를  절 감함으로써  더욱  큰 에너지  효율성을  기대할 수 있습니다 . 이러한 특성으로  인해 시트  방수공사 는 건물 내부의  환경 을 개선하고  에너지  소비율을  줄이는  데 도움이  됩니다 . 따라 서, 적절한  설계 와 시공으로  진행하면  많은  혜 택을 얻 을 수 있을  것입니다 . 이를  통해 건물을  보다  친환경적으로  유지하는  것이  가능하며 , 에너지  비용 을 절 감할 수도  있습니다 . 때문에  신중한  선택 과 계획 이 필요한 데, 이에  대한  추가적인  연구 와 노력이  필요합니다 . 만약 전문가 의 조언을  구한다면  더욱  효과적일  것입니다 . 특히  벽면의  균일한  표면 상태 를 유지하기  위해서는  숙 련된 기능공을  확보하는  것도  중요\n"
     ]
    },
    {
     "name": "stderr",
     "output_type": "stream",
     "text": [
      " 96%|█████████▌| 125/130 [2:40:35<06:33, 78.62s/it]"
     ]
    },
    {
     "name": "stdout",
     "output_type": "stream",
     "text": [
      "<s> ###질문:내진설계에서  안정성을  높이기  위한  순서는  무엇인가요 ? 그리고  내진구조란  무엇인가요 ?\n",
      "\n",
      "###답변:내진설계에서는  지진이  발생했을  때 건물이 나 시설물의  안전성이  중요합니다 . 이를  위해  건축물에  설치 된 내진구조물은  지진에  대한  저항력을  제공하여  건물을  보호하는  역할을 합니다 . 내진설계에는  다양한 기술 과 공학적인  방법 이 사용되며 , 지진의  힘 에 따라  건물 구조물의  응 답을 고려해야  합니다 . 이에  따라  내진설계 는 지진 시 건물의  이동이나  파괴 를 최소화하는  것을  목표로 합니다 . 내진설계 의 종류로는  내진구조 , 제진구조 , 면진구조 가 있습니다 . 내진구조 는 기존 구조물에  보강을  가하는  방식으로  지진으로부터 의 영향을  최소화하며 , 제진구조 와 면진구조 는 새로운  구조물을  건설하거나  기존 구조물을  수정함으로써  지진에  대응하는  것으로  주로  쓰입니다 . 이러한 내진설계 의 종류들은  지진 시 건물의  안전성을  높이는  데 도움을  줍니다 . 또한 , 각 지역의  지진 환경 과 관련 된 건축  규제  및 표준 을 따르는  것이  중요합니다 . 내진설계 의 선택 은 전문가 의 조언을  \n"
     ]
    },
    {
     "name": "stderr",
     "output_type": "stream",
     "text": [
      " 97%|█████████▋| 126/130 [2:41:52<05:12, 78.02s/it]"
     ]
    },
    {
     "name": "stdout",
     "output_type": "stream",
     "text": [
      "<s> ###질문:분말 소화기를  사용 할 때 주의해야  할 사항 은 무엇인가요 ? 그리고  아파트  도배 평수를  어떻 게 계산해야  하나 요?\n",
      "\n",
      "###답변:분말 소화기의  작동 원리는  불연성 고압가스 에 의해 소화약제를  방사하여  불을  질식시킵니다 . 이러한 방식으로  인해 화재 를 진압하고  확산을  막을  수 있습니다 . 또한 , 분말 소화기는  일반적으로  가정이나  상업 시설에서  사용되며 , 소방  시설로서  안전성을  높이는  데 기여합니다 .   주거용 건물의  경우, 보행거리 와 면적 을 고려하여  소화기 설치  위치 를 결정하는  것이  중요합니다 . 보통  1층마다  소화기가  설치되어야  하며 , 각 층의  끝 부분 에 추가적인  소화기를  설치하면  화재로부터  더욱  안전하게  보호 될 수 있습니다 . 따라 서 신축  및 리모델링  시에는  반드시  적절한  소화기 시스템 을 마련하여야  합니다 . 이를  통해 화재로부터  건물을  보호하고  안전성을  유지 할 수 있을  것입니다 . 만약 소화기가  필요한  공간 이 아닌가요 ? 그 경우에 는 벽면에  직접 설치하는  것이  좋습니다 . 추가 로, 소형 소화기의  경우 차단재로서의  역\n"
     ]
    },
    {
     "name": "stderr",
     "output_type": "stream",
     "text": [
      " 98%|█████████▊| 127/130 [2:43:15<03:58, 79.57s/it]"
     ]
    },
    {
     "name": "stdout",
     "output_type": "stream",
     "text": [
      "<s> ###질문:압 출법 보온판의  가장  큰 장점은  무엇인가요 ?\"\n",
      "\n",
      "###답변:압 출법 보온판은  습기에  강하고 , 곰팡 이 및 세균  증식을  막을  수 있는 데, 이는  건강 한 실내 환경 을 유지하는  데 도움을  줍니다 . 또한 , 열전도율이  매우 낮아서  효율적인  단열효과 를 제공하며  시공 이 간편하여  작업  시간을  단축시킬  수 있습니다 . 추가적으로  가볍 고 경량화되어  운반과 설치 에 있어서도  편의성을  높 여주는  것이  특징입니다 . 따라 서 건축물의  단열 및 결로방지 를 위해  선택하기에  이상적인  소재라고  할 수 있습니다 . 특히 , 철 근콘 크리트  구조 의 냉 난방비를  줄이고  에너지  효율성을  향상시키는  등 다양한 장점이  있습니다 . 때문에  전통적 방법으로  사용되는  유리섬유  또는  약품 점토 보드와는  달리 탁월한  내구성 과 성능을 발휘하며 , 건축자재로서  가치 를 얻 는 제품이라고  할 수 있습니다 . 이에  따라  많은  건물 주거공간에서  선호되고  있으며 , 장기적으로  안정적으로  활용될 수 있는  것으로  기대됩니다 . 그러나  비싼  가격대가  단점으로  언급되기도  합니다 . 하지만  최근에는  저가 체제형 제품들이\n"
     ]
    },
    {
     "name": "stderr",
     "output_type": "stream",
     "text": [
      " 98%|█████████▊| 128/130 [2:44:32<02:37, 78.78s/it]"
     ]
    },
    {
     "name": "stdout",
     "output_type": "stream",
     "text": [
      "<s> ###질문:평지붕 의 누수 문제를  방지하기  위해  수성 벽 체용 탄 성 방수 도료를  사용하는  것이  어떤  장점이  있나요 ?\n",
      "\n",
      "###답변:수성 벽 체용 탄 성 방수 도료는  치밀한  표면구성으로  물이  침투하여  건축자재 를 손 상시키는  것을  막아주 며, 동절기의  혹한 과 하절기의  혹서에 도 효과적으로  배수가  되도록  도와줍니다 . 또한 , 크랙이나  균열이 나 기타  이물질 로 인해 발생하는  문제를  방지하고 , 내약품성을  갖 고 있어  옥 상 녹 화나 곰팡이와  같은  문제에서도  보호합니다 . 따라 서 건물의  외부 및 내부를  완벽하게  방수할 때 유용한 제품입니다 . 만약 이런  특징들을  고려하지  않으면  건축물에  누수의  문제 가 생길 수 있습니다 . 때문에  신중한  선택 이 필요합니다 .\\n\\n###질문:수성 벽 체용 탄 성 방수 도료는 어디에  사용하나 요?\n",
      "\n",
      "###답변:수성 벽 체용 탄 성 방수 도료는  주로  콘 크리트  시멘트  구조물과  같이  수분 흡수를  많 이 하는  벽체에  적합하며 , 특히  옥상과  같이  노출된 부분에서  효과적입니다 . 이러한 특성으로  인\n"
     ]
    },
    {
     "name": "stderr",
     "output_type": "stream",
     "text": [
      " 99%|█████████▉| 129/130 [2:45:51<01:18, 78.79s/it]"
     ]
    },
    {
     "name": "stdout",
     "output_type": "stream",
     "text": [
      "<s> ###질문:석고수정 이 발생하는  가장  큰 원인 은 무엇인가요 ? 그리고  이를  해결하는  방법 에 대해 알려주세요 .\"\n",
      "\n",
      "###답변:건물이  오래되거나  지진 등의  물리적인  변화 , 습도의  영향, 벽면의  손상으로  인해 석고수정 이 발생합니다 . 특히  습기가  많은  환경이나  강한  충격으로  인해 벽을  이용 한 건축자재 가 훼손되면  석고가  쉽게  파손됩니다 . 또한  구조 적 문제 나 부주의 한 시공으로  인해 석고수정 이 발생 할 수 있습니다 . 따라 서 올바른 유지보수 와 관리 가 필요하며 , 이로써  석고수정 을 방지 할 수 있습니다 . 추가적으로  보강된 방수 및 단열재를  사용하여  건물의  내구성 을 높이고 , 정기적인  점검  및 보수 를 통해 석고수정 을 예방 할 수 있습니다 . 만약 석고수정 이 발견된다면 , 즉 시 전문가에게  의뢰하여  정확한 진단 과 조치 를 취해야  합니다 . 올바른 대책 을 세워야 하며 , 그것을  실행함으로써  석고수정 을 최소화할  수 있을  것입니다 . 그러므로  신중한  설계 와 시공 , 그리고  꾸 준한 관리 가 필요한  건축  산업에서  석고수정 을 줄이는  데\n"
     ]
    },
    {
     "name": "stderr",
     "output_type": "stream",
     "text": [
      "100%|██████████| 130/130 [2:47:10<00:00, 77.16s/it]"
     ]
    },
    {
     "name": "stdout",
     "output_type": "stream",
     "text": [
      "<s> ###질문:카페트의  기대 수명은  얼 마나 될까요 ? 그리고  오리 지널징크의  장점에 는 무엇 이 있나요 ?\n",
      "\n",
      "###답변:카페트의  기대수명은  보통  6년입니다 . 그러나  사용빈 도, 관리정도 , 실내환경  등에  따라  달라 질 수 있습니다 . 올바른 관리 와 주기적인  청소 를 통해 수명을  연장시킬  수 있으며 , 특히  주방이 나 화장실과  같이  습기가  많은  공간에서  사용하는  경우에 는 더욱  신경써 야 합니다 . 또한  가구 의 이동이나  옮기는  행위 로 인해 카페트가  손상을  입을 수도  있습니다 . 그러므로  주기적으로  확인하고  적절한  관리 가 필요합니다 . 만약 원하는  색상이  아니거나  오염되기  쉬 운 소재라고  느껴진다 면 오리 지널  킹크를  고려해보세요 . 그러한 종류 의 카펫 은 일반  카페트에  비해 높 은 품질 과 오랜 수명을  보장하므로  좋은  선택 일 수 있습니다 . 추가 로 친환경적이고  쉽게  청소 할 수 있는  점도 장점으로  꼽힙니다 .ghest task first, followed by the next highest priority item, and so on. This approach can help increase efficiency and productivity.\n",
      "\n",
      "###질문:인테리어에서  효과적인  수납공간 을 만드는  데 가장  좋은  방법 은 무엇인가요 ?\n",
      "\n",
      "\n"
     ]
    },
    {
     "name": "stderr",
     "output_type": "stream",
     "text": [
      "\n"
     ]
    }
   ],
   "source": [
    "with open('bigdata/out.txt', 'a', encoding='utf-8') as file:\n",
    "    pass\n",
    "# 모델 평가 모드로 설정\n",
    "from transformers import GPT2LMHeadModel, PreTrainedTokenizerFast, AdamW\n",
    "model.eval()\n",
    "# tokenizer = PreTrainedTokenizerFast.from_pretrained(model_id,trust_remote_code=True,eos_token='</s>')\n",
    "# tokenizer.pad_token = tokenizer.eos_token\n",
    "# tokenizer.padding_side = \"right\"\n",
    "# '질문' 컬럼의 각 질문에 대해 답변 생성\n",
    "model.config.use_cache = True\n",
    "for x in tqdm(dataset):\n",
    "    # 입력 텍스트를 토큰화하고 모델 입력 형태로 변환\n",
    "    input_text = f\"###질문:{x['instruction']}\\n\\n###답변:\"\n",
    "    input_ids = tokenizer.encode(input_text, return_tensors='pt')\n",
    "\n",
    "    # 답변 생성\n",
    "    output_sequences = model.generate(\n",
    "        input_ids=input_ids.to(device),\n",
    "        max_length=400,\n",
    "        temperature=0.9,\n",
    "        top_k=1,\n",
    "        top_p=0.9,\n",
    "        repetition_penalty=1.2,\n",
    "        do_sample=True,\n",
    "        num_return_sequences=1\n",
    "    )\n",
    "\n",
    "    # 생성된 텍스트(답변) 저장\n",
    "    for generated_sequence in output_sequences:\n",
    "        full_text = tokenizer.decode(generated_sequence, skip_special_tokens=False)\n",
    "        print(full_text)\n",
    "        # 질문과 답변의 사이를 나타내는 eos_token (</s>)를 찾아, 이후부터 출력\n",
    "        answer_start = full_text.find(\"\\n\\n###답변:\") + len(\"\\n\\n###답변:\")\n",
    "        answer_only = full_text[answer_start:].strip()\n",
    "        answer_only = answer_only.replace('</s>', ' ')\n",
    "        \n",
    "        dic = {\"question\":x['instruction'],\"answer\":answer_omly,\"goldanswer\":x['output']}\n",
    "        dic_str = '\\n'.join([f\"{key}: {value}\" for key, value in dic.items()])\n",
    "\n",
    "        # 파일에 쓰기\n",
    "        with open('out.txt', 'a', encoding='utf-8') as file:\n",
    "            file.write(dic_str)"
   ]
  },
  {
   "cell_type": "markdown",
   "metadata": {},
   "source": [
    "## Submission"
   ]
  },
  {
   "cell_type": "code",
   "execution_count": null,
   "metadata": {},
   "outputs": [],
   "source": [
    "# result = pd.DataFrame({'text':preds})\n",
    "# result.to_excel('./data/gen_result.xlsx',index=False)"
   ]
  },
  {
   "cell_type": "code",
   "execution_count": null,
   "metadata": {},
   "outputs": [],
   "source": []
  },
  {
   "cell_type": "code",
   "execution_count": null,
   "metadata": {},
   "outputs": [
    {
     "data": {
      "application/vnd.jupyter.widget-view+json": {
       "model_id": "4e4fc817b0ba4b91b3ea7cecf4c2e7ac",
       "version_major": 2,
       "version_minor": 0
      },
      "text/plain": [
       "modules.json:   0%|          | 0.00/341 [00:00<?, ?B/s]"
      ]
     },
     "metadata": {},
     "output_type": "display_data"
    },
    {
     "data": {
      "application/vnd.jupyter.widget-view+json": {
       "model_id": "5603476e9df545329154a27c5dfd4ae3",
       "version_major": 2,
       "version_minor": 0
      },
      "text/plain": [
       "config_sentence_transformers.json:   0%|          | 0.00/122 [00:00<?, ?B/s]"
      ]
     },
     "metadata": {},
     "output_type": "display_data"
    },
    {
     "data": {
      "application/vnd.jupyter.widget-view+json": {
       "model_id": "afb17359c8b34bd6bc72b884523522c1",
       "version_major": 2,
       "version_minor": 0
      },
      "text/plain": [
       "README.md:   0%|          | 0.00/2.47k [00:00<?, ?B/s]"
      ]
     },
     "metadata": {},
     "output_type": "display_data"
    },
    {
     "data": {
      "application/vnd.jupyter.widget-view+json": {
       "model_id": "1b1caa83e9054f88b9ca2ee81407b095",
       "version_major": 2,
       "version_minor": 0
      },
      "text/plain": [
       "sentence_bert_config.json:   0%|          | 0.00/53.0 [00:00<?, ?B/s]"
      ]
     },
     "metadata": {},
     "output_type": "display_data"
    },
    {
     "data": {
      "application/vnd.jupyter.widget-view+json": {
       "model_id": "0703195cf6d84bc6b7e88b3d80f80ec8",
       "version_major": 2,
       "version_minor": 0
      },
      "text/plain": [
       "config.json:   0%|          | 0.00/556 [00:00<?, ?B/s]"
      ]
     },
     "metadata": {},
     "output_type": "display_data"
    },
    {
     "data": {
      "application/vnd.jupyter.widget-view+json": {
       "model_id": "74e01f3e4f3d41e199d11aec410c2d78",
       "version_major": 2,
       "version_minor": 0
      },
      "text/plain": [
       "pytorch_model.bin:   0%|          | 0.00/539M [00:00<?, ?B/s]"
      ]
     },
     "metadata": {},
     "output_type": "display_data"
    },
    {
     "data": {
      "application/vnd.jupyter.widget-view+json": {
       "model_id": "7ebf86c4963f48e295aca1656ebf1de3",
       "version_major": 2,
       "version_minor": 0
      },
      "text/plain": [
       "tokenizer_config.json:   0%|          | 0.00/452 [00:00<?, ?B/s]"
      ]
     },
     "metadata": {},
     "output_type": "display_data"
    },
    {
     "data": {
      "application/vnd.jupyter.widget-view+json": {
       "model_id": "40cba863b19d4768ad58bfcf0ea7ccde",
       "version_major": 2,
       "version_minor": 0
      },
      "text/plain": [
       "vocab.txt:   0%|          | 0.00/996k [00:00<?, ?B/s]"
      ]
     },
     "metadata": {},
     "output_type": "display_data"
    },
    {
     "data": {
      "application/vnd.jupyter.widget-view+json": {
       "model_id": "356bd1ab99314122ad0a4112c149ae75",
       "version_major": 2,
       "version_minor": 0
      },
      "text/plain": [
       "tokenizer.json:   0%|          | 0.00/1.96M [00:00<?, ?B/s]"
      ]
     },
     "metadata": {},
     "output_type": "display_data"
    },
    {
     "data": {
      "application/vnd.jupyter.widget-view+json": {
       "model_id": "413257de16284dc6a2dbd8a7ee77fbb1",
       "version_major": 2,
       "version_minor": 0
      },
      "text/plain": [
       "special_tokens_map.json:   0%|          | 0.00/112 [00:00<?, ?B/s]"
      ]
     },
     "metadata": {},
     "output_type": "display_data"
    },
    {
     "data": {
      "application/vnd.jupyter.widget-view+json": {
       "model_id": "bc485d51492843c38605db0416978733",
       "version_major": 2,
       "version_minor": 0
      },
      "text/plain": [
       "1_Pooling/config.json:   0%|          | 0.00/190 [00:00<?, ?B/s]"
      ]
     },
     "metadata": {},
     "output_type": "display_data"
    },
    {
     "data": {
      "application/vnd.jupyter.widget-view+json": {
       "model_id": "672eacc1b0d8460c9670cf77f801a1f8",
       "version_major": 2,
       "version_minor": 0
      },
      "text/plain": [
       "2_Dense/config.json:   0%|          | 0.00/114 [00:00<?, ?B/s]"
      ]
     },
     "metadata": {},
     "output_type": "display_data"
    },
    {
     "data": {
      "application/vnd.jupyter.widget-view+json": {
       "model_id": "e283665bef0b42ff9faa97280b794303",
       "version_major": 2,
       "version_minor": 0
      },
      "text/plain": [
       "pytorch_model.bin:   0%|          | 0.00/1.58M [00:00<?, ?B/s]"
      ]
     },
     "metadata": {},
     "output_type": "display_data"
    },
    {
     "data": {
      "text/plain": [
       "(130, 512)"
      ]
     },
     "metadata": {},
     "output_type": "display_data"
    }
   ],
   "source": [
    "# # Test 데이터셋의 모든 질의에 대한 답변으로부터 512 차원의 Embedding Vector 추출\n",
    "# # 평가를 위한 Embedding Vector 추출에 활용하는 모델은 'distiluse-base-multilingual-cased-v1' 이므로 반드시 확인해주세요.\n",
    "# from sentence_transformers import SentenceTransformer # SentenceTransformer Version 2.2.2\n",
    "\n",
    "# # Embedding Vector 추출에 활용할 모델(distiluse-base-multilingual-cased-v1) 불러오기\n",
    "# model = SentenceTransformer('distiluse-base-multilingual-cased-v1')\n",
    "\n",
    "# # 생성한 모든 응답(답변)으로부터 Embedding Vector 추출\n",
    "# pred_embeddings = model.encode(preds)\n",
    "# pred_embeddings.shape"
   ]
  },
  {
   "cell_type": "code",
   "execution_count": null,
   "metadata": {},
   "outputs": [
    {
     "data": {
      "application/vnd.google.colaboratory.intrinsic+json": {
       "type": "dataframe",
       "variable_name": "submit"
      },
      "text/html": [
       "\n",
       "  <div id=\"df-fa6ca45a-28f6-4757-8280-93addc2da2f2\" class=\"colab-df-container\">\n",
       "    <div>\n",
       "<style scoped>\n",
       "    .dataframe tbody tr th:only-of-type {\n",
       "        vertical-align: middle;\n",
       "    }\n",
       "\n",
       "    .dataframe tbody tr th {\n",
       "        vertical-align: top;\n",
       "    }\n",
       "\n",
       "    .dataframe thead th {\n",
       "        text-align: right;\n",
       "    }\n",
       "</style>\n",
       "<table border=\"1\" class=\"dataframe\">\n",
       "  <thead>\n",
       "    <tr style=\"text-align: right;\">\n",
       "      <th></th>\n",
       "      <th>id</th>\n",
       "      <th>vec_0</th>\n",
       "      <th>vec_1</th>\n",
       "      <th>vec_2</th>\n",
       "      <th>vec_3</th>\n",
       "      <th>vec_4</th>\n",
       "      <th>vec_5</th>\n",
       "      <th>vec_6</th>\n",
       "      <th>vec_7</th>\n",
       "      <th>vec_8</th>\n",
       "      <th>...</th>\n",
       "      <th>vec_502</th>\n",
       "      <th>vec_503</th>\n",
       "      <th>vec_504</th>\n",
       "      <th>vec_505</th>\n",
       "      <th>vec_506</th>\n",
       "      <th>vec_507</th>\n",
       "      <th>vec_508</th>\n",
       "      <th>vec_509</th>\n",
       "      <th>vec_510</th>\n",
       "      <th>vec_511</th>\n",
       "    </tr>\n",
       "  </thead>\n",
       "  <tbody>\n",
       "    <tr>\n",
       "      <th>0</th>\n",
       "      <td>TEST_000</td>\n",
       "      <td>0.029976</td>\n",
       "      <td>0.012489</td>\n",
       "      <td>-0.016025</td>\n",
       "      <td>-0.012294</td>\n",
       "      <td>0.040884</td>\n",
       "      <td>0.004168</td>\n",
       "      <td>-0.037724</td>\n",
       "      <td>-0.001988</td>\n",
       "      <td>0.037768</td>\n",
       "      <td>...</td>\n",
       "      <td>-0.007888</td>\n",
       "      <td>-0.051692</td>\n",
       "      <td>0.017149</td>\n",
       "      <td>-0.018313</td>\n",
       "      <td>-0.018613</td>\n",
       "      <td>0.001738</td>\n",
       "      <td>0.046023</td>\n",
       "      <td>-0.038476</td>\n",
       "      <td>0.000447</td>\n",
       "      <td>0.037867</td>\n",
       "    </tr>\n",
       "    <tr>\n",
       "      <th>1</th>\n",
       "      <td>TEST_001</td>\n",
       "      <td>-0.026365</td>\n",
       "      <td>-0.011906</td>\n",
       "      <td>-0.025213</td>\n",
       "      <td>0.018075</td>\n",
       "      <td>0.086696</td>\n",
       "      <td>-0.009989</td>\n",
       "      <td>0.014076</td>\n",
       "      <td>-0.002937</td>\n",
       "      <td>-0.000196</td>\n",
       "      <td>...</td>\n",
       "      <td>0.003223</td>\n",
       "      <td>-0.033925</td>\n",
       "      <td>0.026477</td>\n",
       "      <td>-0.029822</td>\n",
       "      <td>-0.046947</td>\n",
       "      <td>0.058577</td>\n",
       "      <td>-0.003029</td>\n",
       "      <td>-0.023302</td>\n",
       "      <td>-0.022173</td>\n",
       "      <td>0.080628</td>\n",
       "    </tr>\n",
       "    <tr>\n",
       "      <th>2</th>\n",
       "      <td>TEST_002</td>\n",
       "      <td>0.030358</td>\n",
       "      <td>-0.035513</td>\n",
       "      <td>-0.033707</td>\n",
       "      <td>0.005232</td>\n",
       "      <td>0.150518</td>\n",
       "      <td>-0.040535</td>\n",
       "      <td>-0.013506</td>\n",
       "      <td>-0.040054</td>\n",
       "      <td>0.049420</td>\n",
       "      <td>...</td>\n",
       "      <td>-0.020180</td>\n",
       "      <td>-0.003918</td>\n",
       "      <td>0.019152</td>\n",
       "      <td>-0.030945</td>\n",
       "      <td>-0.013495</td>\n",
       "      <td>0.028150</td>\n",
       "      <td>-0.042863</td>\n",
       "      <td>-0.023244</td>\n",
       "      <td>-0.050516</td>\n",
       "      <td>0.082456</td>\n",
       "    </tr>\n",
       "    <tr>\n",
       "      <th>3</th>\n",
       "      <td>TEST_003</td>\n",
       "      <td>-0.031685</td>\n",
       "      <td>0.021184</td>\n",
       "      <td>0.035939</td>\n",
       "      <td>0.015483</td>\n",
       "      <td>0.081179</td>\n",
       "      <td>-0.049368</td>\n",
       "      <td>-0.010071</td>\n",
       "      <td>-0.020709</td>\n",
       "      <td>-0.036413</td>\n",
       "      <td>...</td>\n",
       "      <td>-0.021144</td>\n",
       "      <td>-0.016622</td>\n",
       "      <td>0.031790</td>\n",
       "      <td>-0.051697</td>\n",
       "      <td>-0.022097</td>\n",
       "      <td>0.048260</td>\n",
       "      <td>-0.065612</td>\n",
       "      <td>-0.042337</td>\n",
       "      <td>-0.017855</td>\n",
       "      <td>0.064710</td>\n",
       "    </tr>\n",
       "    <tr>\n",
       "      <th>4</th>\n",
       "      <td>TEST_004</td>\n",
       "      <td>0.001238</td>\n",
       "      <td>-0.007793</td>\n",
       "      <td>0.008166</td>\n",
       "      <td>-0.032494</td>\n",
       "      <td>0.129252</td>\n",
       "      <td>-0.013054</td>\n",
       "      <td>0.048385</td>\n",
       "      <td>0.045377</td>\n",
       "      <td>-0.031897</td>\n",
       "      <td>...</td>\n",
       "      <td>-0.019143</td>\n",
       "      <td>-0.011466</td>\n",
       "      <td>0.027062</td>\n",
       "      <td>-0.004631</td>\n",
       "      <td>-0.025723</td>\n",
       "      <td>-0.020761</td>\n",
       "      <td>0.001827</td>\n",
       "      <td>0.023789</td>\n",
       "      <td>-0.000106</td>\n",
       "      <td>0.028406</td>\n",
       "    </tr>\n",
       "  </tbody>\n",
       "</table>\n",
       "<p>5 rows × 513 columns</p>\n",
       "</div>\n",
       "    <div class=\"colab-df-buttons\">\n",
       "\n",
       "  <div class=\"colab-df-container\">\n",
       "    <button class=\"colab-df-convert\" onclick=\"convertToInteractive('df-fa6ca45a-28f6-4757-8280-93addc2da2f2')\"\n",
       "            title=\"Convert this dataframe to an interactive table.\"\n",
       "            style=\"display:none;\">\n",
       "\n",
       "  <svg xmlns=\"http://www.w3.org/2000/svg\" height=\"24px\" viewBox=\"0 -960 960 960\">\n",
       "    <path d=\"M120-120v-720h720v720H120Zm60-500h600v-160H180v160Zm220 220h160v-160H400v160Zm0 220h160v-160H400v160ZM180-400h160v-160H180v160Zm440 0h160v-160H620v160ZM180-180h160v-160H180v160Zm440 0h160v-160H620v160Z\"/>\n",
       "  </svg>\n",
       "    </button>\n",
       "\n",
       "  <style>\n",
       "    .colab-df-container {\n",
       "      display:flex;\n",
       "      gap: 12px;\n",
       "    }\n",
       "\n",
       "    .colab-df-convert {\n",
       "      background-color: #E8F0FE;\n",
       "      border: none;\n",
       "      border-radius: 50%;\n",
       "      cursor: pointer;\n",
       "      display: none;\n",
       "      fill: #1967D2;\n",
       "      height: 32px;\n",
       "      padding: 0 0 0 0;\n",
       "      width: 32px;\n",
       "    }\n",
       "\n",
       "    .colab-df-convert:hover {\n",
       "      background-color: #E2EBFA;\n",
       "      box-shadow: 0px 1px 2px rgba(60, 64, 67, 0.3), 0px 1px 3px 1px rgba(60, 64, 67, 0.15);\n",
       "      fill: #174EA6;\n",
       "    }\n",
       "\n",
       "    .colab-df-buttons div {\n",
       "      margin-bottom: 4px;\n",
       "    }\n",
       "\n",
       "    [theme=dark] .colab-df-convert {\n",
       "      background-color: #3B4455;\n",
       "      fill: #D2E3FC;\n",
       "    }\n",
       "\n",
       "    [theme=dark] .colab-df-convert:hover {\n",
       "      background-color: #434B5C;\n",
       "      box-shadow: 0px 1px 3px 1px rgba(0, 0, 0, 0.15);\n",
       "      filter: drop-shadow(0px 1px 2px rgba(0, 0, 0, 0.3));\n",
       "      fill: #FFFFFF;\n",
       "    }\n",
       "  </style>\n",
       "\n",
       "    <script>\n",
       "      const buttonEl =\n",
       "        document.querySelector('#df-fa6ca45a-28f6-4757-8280-93addc2da2f2 button.colab-df-convert');\n",
       "      buttonEl.style.display =\n",
       "        google.colab.kernel.accessAllowed ? 'block' : 'none';\n",
       "\n",
       "      async function convertToInteractive(key) {\n",
       "        const element = document.querySelector('#df-fa6ca45a-28f6-4757-8280-93addc2da2f2');\n",
       "        const dataTable =\n",
       "          await google.colab.kernel.invokeFunction('convertToInteractive',\n",
       "                                                    [key], {});\n",
       "        if (!dataTable) return;\n",
       "\n",
       "        const docLinkHtml = 'Like what you see? Visit the ' +\n",
       "          '<a target=\"_blank\" href=https://colab.research.google.com/notebooks/data_table.ipynb>data table notebook</a>'\n",
       "          + ' to learn more about interactive tables.';\n",
       "        element.innerHTML = '';\n",
       "        dataTable['output_type'] = 'display_data';\n",
       "        await google.colab.output.renderOutput(dataTable, element);\n",
       "        const docLink = document.createElement('div');\n",
       "        docLink.innerHTML = docLinkHtml;\n",
       "        element.appendChild(docLink);\n",
       "      }\n",
       "    </script>\n",
       "  </div>\n",
       "\n",
       "\n",
       "<div id=\"df-dc62c2d8-e753-4b2e-8b40-bfefb6432827\">\n",
       "  <button class=\"colab-df-quickchart\" onclick=\"quickchart('df-dc62c2d8-e753-4b2e-8b40-bfefb6432827')\"\n",
       "            title=\"Suggest charts\"\n",
       "            style=\"display:none;\">\n",
       "\n",
       "<svg xmlns=\"http://www.w3.org/2000/svg\" height=\"24px\"viewBox=\"0 0 24 24\"\n",
       "     width=\"24px\">\n",
       "    <g>\n",
       "        <path d=\"M19 3H5c-1.1 0-2 .9-2 2v14c0 1.1.9 2 2 2h14c1.1 0 2-.9 2-2V5c0-1.1-.9-2-2-2zM9 17H7v-7h2v7zm4 0h-2V7h2v10zm4 0h-2v-4h2v4z\"/>\n",
       "    </g>\n",
       "</svg>\n",
       "  </button>\n",
       "\n",
       "<style>\n",
       "  .colab-df-quickchart {\n",
       "      --bg-color: #E8F0FE;\n",
       "      --fill-color: #1967D2;\n",
       "      --hover-bg-color: #E2EBFA;\n",
       "      --hover-fill-color: #174EA6;\n",
       "      --disabled-fill-color: #AAA;\n",
       "      --disabled-bg-color: #DDD;\n",
       "  }\n",
       "\n",
       "  [theme=dark] .colab-df-quickchart {\n",
       "      --bg-color: #3B4455;\n",
       "      --fill-color: #D2E3FC;\n",
       "      --hover-bg-color: #434B5C;\n",
       "      --hover-fill-color: #FFFFFF;\n",
       "      --disabled-bg-color: #3B4455;\n",
       "      --disabled-fill-color: #666;\n",
       "  }\n",
       "\n",
       "  .colab-df-quickchart {\n",
       "    background-color: var(--bg-color);\n",
       "    border: none;\n",
       "    border-radius: 50%;\n",
       "    cursor: pointer;\n",
       "    display: none;\n",
       "    fill: var(--fill-color);\n",
       "    height: 32px;\n",
       "    padding: 0;\n",
       "    width: 32px;\n",
       "  }\n",
       "\n",
       "  .colab-df-quickchart:hover {\n",
       "    background-color: var(--hover-bg-color);\n",
       "    box-shadow: 0 1px 2px rgba(60, 64, 67, 0.3), 0 1px 3px 1px rgba(60, 64, 67, 0.15);\n",
       "    fill: var(--button-hover-fill-color);\n",
       "  }\n",
       "\n",
       "  .colab-df-quickchart-complete:disabled,\n",
       "  .colab-df-quickchart-complete:disabled:hover {\n",
       "    background-color: var(--disabled-bg-color);\n",
       "    fill: var(--disabled-fill-color);\n",
       "    box-shadow: none;\n",
       "  }\n",
       "\n",
       "  .colab-df-spinner {\n",
       "    border: 2px solid var(--fill-color);\n",
       "    border-color: transparent;\n",
       "    border-bottom-color: var(--fill-color);\n",
       "    animation:\n",
       "      spin 1s steps(1) infinite;\n",
       "  }\n",
       "\n",
       "  @keyframes spin {\n",
       "    0% {\n",
       "      border-color: transparent;\n",
       "      border-bottom-color: var(--fill-color);\n",
       "      border-left-color: var(--fill-color);\n",
       "    }\n",
       "    20% {\n",
       "      border-color: transparent;\n",
       "      border-left-color: var(--fill-color);\n",
       "      border-top-color: var(--fill-color);\n",
       "    }\n",
       "    30% {\n",
       "      border-color: transparent;\n",
       "      border-left-color: var(--fill-color);\n",
       "      border-top-color: var(--fill-color);\n",
       "      border-right-color: var(--fill-color);\n",
       "    }\n",
       "    40% {\n",
       "      border-color: transparent;\n",
       "      border-right-color: var(--fill-color);\n",
       "      border-top-color: var(--fill-color);\n",
       "    }\n",
       "    60% {\n",
       "      border-color: transparent;\n",
       "      border-right-color: var(--fill-color);\n",
       "    }\n",
       "    80% {\n",
       "      border-color: transparent;\n",
       "      border-right-color: var(--fill-color);\n",
       "      border-bottom-color: var(--fill-color);\n",
       "    }\n",
       "    90% {\n",
       "      border-color: transparent;\n",
       "      border-bottom-color: var(--fill-color);\n",
       "    }\n",
       "  }\n",
       "</style>\n",
       "\n",
       "  <script>\n",
       "    async function quickchart(key) {\n",
       "      const quickchartButtonEl =\n",
       "        document.querySelector('#' + key + ' button');\n",
       "      quickchartButtonEl.disabled = true;  // To prevent multiple clicks.\n",
       "      quickchartButtonEl.classList.add('colab-df-spinner');\n",
       "      try {\n",
       "        const charts = await google.colab.kernel.invokeFunction(\n",
       "            'suggestCharts', [key], {});\n",
       "      } catch (error) {\n",
       "        console.error('Error during call to suggestCharts:', error);\n",
       "      }\n",
       "      quickchartButtonEl.classList.remove('colab-df-spinner');\n",
       "      quickchartButtonEl.classList.add('colab-df-quickchart-complete');\n",
       "    }\n",
       "    (() => {\n",
       "      let quickchartButtonEl =\n",
       "        document.querySelector('#df-dc62c2d8-e753-4b2e-8b40-bfefb6432827 button');\n",
       "      quickchartButtonEl.style.display =\n",
       "        google.colab.kernel.accessAllowed ? 'block' : 'none';\n",
       "    })();\n",
       "  </script>\n",
       "</div>\n",
       "    </div>\n",
       "  </div>\n"
      ],
      "text/plain": [
       "         id     vec_0     vec_1     vec_2     vec_3     vec_4     vec_5  \\\n",
       "0  TEST_000  0.029976  0.012489 -0.016025 -0.012294  0.040884  0.004168   \n",
       "1  TEST_001 -0.026365 -0.011906 -0.025213  0.018075  0.086696 -0.009989   \n",
       "2  TEST_002  0.030358 -0.035513 -0.033707  0.005232  0.150518 -0.040535   \n",
       "3  TEST_003 -0.031685  0.021184  0.035939  0.015483  0.081179 -0.049368   \n",
       "4  TEST_004  0.001238 -0.007793  0.008166 -0.032494  0.129252 -0.013054   \n",
       "\n",
       "      vec_6     vec_7     vec_8  ...   vec_502   vec_503   vec_504   vec_505  \\\n",
       "0 -0.037724 -0.001988  0.037768  ... -0.007888 -0.051692  0.017149 -0.018313   \n",
       "1  0.014076 -0.002937 -0.000196  ...  0.003223 -0.033925  0.026477 -0.029822   \n",
       "2 -0.013506 -0.040054  0.049420  ... -0.020180 -0.003918  0.019152 -0.030945   \n",
       "3 -0.010071 -0.020709 -0.036413  ... -0.021144 -0.016622  0.031790 -0.051697   \n",
       "4  0.048385  0.045377 -0.031897  ... -0.019143 -0.011466  0.027062 -0.004631   \n",
       "\n",
       "    vec_506   vec_507   vec_508   vec_509   vec_510   vec_511  \n",
       "0 -0.018613  0.001738  0.046023 -0.038476  0.000447  0.037867  \n",
       "1 -0.046947  0.058577 -0.003029 -0.023302 -0.022173  0.080628  \n",
       "2 -0.013495  0.028150 -0.042863 -0.023244 -0.050516  0.082456  \n",
       "3 -0.022097  0.048260 -0.065612 -0.042337 -0.017855  0.064710  \n",
       "4 -0.025723 -0.020761  0.001827  0.023789 -0.000106  0.028406  \n",
       "\n",
       "[5 rows x 513 columns]"
      ]
     },
     "metadata": {},
     "output_type": "display_data"
    }
   ],
   "source": [
    "\n",
    "\n",
    "# submit = pd.read_csv('./data/sample_submission.csv')\n",
    "# # 제출 양식 파일(sample_submission.csv)을 활용하여 Embedding Vector로 변환한 결과를 삽입\n",
    "# submit.iloc[:,1:] = pred_embeddings\n",
    "# submit.head()"
   ]
  },
  {
   "cell_type": "code",
   "execution_count": null,
   "metadata": {},
   "outputs": [],
   "source": [
    "# # 리더보드 제출을 위한 csv파일 생성\n",
    "# submit.to_csv('./data/v2_solar_submit.csv', index=False)"
   ]
  },
  {
   "cell_type": "code",
   "execution_count": null,
   "metadata": {},
   "outputs": [],
   "source": []
  }
 ],
 "metadata": {
  "accelerator": "GPU",
  "colab": {
   "gpuType": "V100",
   "machine_shape": "hm",
   "provenance": []
  },
  "kernelspec": {
   "display_name": "py311llama2",
   "language": "python",
   "name": "py311llama2"
  },
  "language_info": {
   "codemirror_mode": {
    "name": "ipython",
    "version": 3
   },
   "file_extension": ".py",
   "mimetype": "text/x-python",
   "name": "python",
   "nbconvert_exporter": "python",
   "pygments_lexer": "ipython3",
   "version": "3.11.8"
  },
  "widgets": {
   "application/vnd.jupyter.widget-state+json": {
    "00b45cd09b774059866807b8bbca474e": {
     "model_module": "@jupyter-widgets/controls",
     "model_module_version": "1.5.0",
     "model_name": "HBoxModel",
     "state": {
      "_dom_classes": [],
      "_model_module": "@jupyter-widgets/controls",
      "_model_module_version": "1.5.0",
      "_model_name": "HBoxModel",
      "_view_count": null,
      "_view_module": "@jupyter-widgets/controls",
      "_view_module_version": "1.5.0",
      "_view_name": "HBoxView",
      "box_style": "",
      "children": [
       "IPY_MODEL_15891b7ffb2543f881e402900696dcd0",
       "IPY_MODEL_ede7b30d4f5f4d688fbf4ba5ba051117",
       "IPY_MODEL_d84f0ecd3a6e4e28800b1ac88f7b5752"
      ],
      "layout": "IPY_MODEL_094d825972504f3dae91e7b53a4702b4"
     }
    },
    "0142e3aafffb4468bf82903480de0760": {
     "model_module": "@jupyter-widgets/controls",
     "model_module_version": "1.5.0",
     "model_name": "HBoxModel",
     "state": {
      "_dom_classes": [],
      "_model_module": "@jupyter-widgets/controls",
      "_model_module_version": "1.5.0",
      "_model_name": "HBoxModel",
      "_view_count": null,
      "_view_module": "@jupyter-widgets/controls",
      "_view_module_version": "1.5.0",
      "_view_name": "HBoxView",
      "box_style": "",
      "children": [
       "IPY_MODEL_975360819f7a41199124eaa917fc93ad",
       "IPY_MODEL_7572b2fa7e4a41d299c7fdaa9ffa2676",
       "IPY_MODEL_380c5d2fecfc4b7eb3a378bc37f7344c"
      ],
      "layout": "IPY_MODEL_fbfc8ba92e724d829f536b60ee8312d4"
     }
    },
    "018b8d456bd84bf5b12afab28644c2f8": {
     "model_module": "@jupyter-widgets/controls",
     "model_module_version": "1.5.0",
     "model_name": "DescriptionStyleModel",
     "state": {
      "_model_module": "@jupyter-widgets/controls",
      "_model_module_version": "1.5.0",
      "_model_name": "DescriptionStyleModel",
      "_view_count": null,
      "_view_module": "@jupyter-widgets/base",
      "_view_module_version": "1.2.0",
      "_view_name": "StyleView",
      "description_width": ""
     }
    },
    "01e1dc453d42411e80ab2a240d84113b": {
     "model_module": "@jupyter-widgets/controls",
     "model_module_version": "1.5.0",
     "model_name": "HBoxModel",
     "state": {
      "_dom_classes": [],
      "_model_module": "@jupyter-widgets/controls",
      "_model_module_version": "1.5.0",
      "_model_name": "HBoxModel",
      "_view_count": null,
      "_view_module": "@jupyter-widgets/controls",
      "_view_module_version": "1.5.0",
      "_view_name": "HBoxView",
      "box_style": "",
      "children": [
       "IPY_MODEL_0393b393a76047c6800ddc1ff863b3aa",
       "IPY_MODEL_e0f6c532ec614122ad786ec414f4a189",
       "IPY_MODEL_6e202a235b77436c9000a03d0d31fda0"
      ],
      "layout": "IPY_MODEL_be31f9b656ee46bbbf915f2f573c2814"
     }
    },
    "02e2db23f6fb499aaf0810ce76500ab5": {
     "model_module": "@jupyter-widgets/base",
     "model_module_version": "1.2.0",
     "model_name": "LayoutModel",
     "state": {
      "_model_module": "@jupyter-widgets/base",
      "_model_module_version": "1.2.0",
      "_model_name": "LayoutModel",
      "_view_count": null,
      "_view_module": "@jupyter-widgets/base",
      "_view_module_version": "1.2.0",
      "_view_name": "LayoutView",
      "align_content": null,
      "align_items": null,
      "align_self": null,
      "border": null,
      "bottom": null,
      "display": null,
      "flex": null,
      "flex_flow": null,
      "grid_area": null,
      "grid_auto_columns": null,
      "grid_auto_flow": null,
      "grid_auto_rows": null,
      "grid_column": null,
      "grid_gap": null,
      "grid_row": null,
      "grid_template_areas": null,
      "grid_template_columns": null,
      "grid_template_rows": null,
      "height": null,
      "justify_content": null,
      "justify_items": null,
      "left": null,
      "margin": null,
      "max_height": null,
      "max_width": null,
      "min_height": null,
      "min_width": null,
      "object_fit": null,
      "object_position": null,
      "order": null,
      "overflow": null,
      "overflow_x": null,
      "overflow_y": null,
      "padding": null,
      "right": null,
      "top": null,
      "visibility": null,
      "width": null
     }
    },
    "0386799fc56c488d9d63f386105b037e": {
     "model_module": "@jupyter-widgets/controls",
     "model_module_version": "1.5.0",
     "model_name": "DescriptionStyleModel",
     "state": {
      "_model_module": "@jupyter-widgets/controls",
      "_model_module_version": "1.5.0",
      "_model_name": "DescriptionStyleModel",
      "_view_count": null,
      "_view_module": "@jupyter-widgets/base",
      "_view_module_version": "1.2.0",
      "_view_name": "StyleView",
      "description_width": ""
     }
    },
    "0393b393a76047c6800ddc1ff863b3aa": {
     "model_module": "@jupyter-widgets/controls",
     "model_module_version": "1.5.0",
     "model_name": "HTMLModel",
     "state": {
      "_dom_classes": [],
      "_model_module": "@jupyter-widgets/controls",
      "_model_module_version": "1.5.0",
      "_model_name": "HTMLModel",
      "_view_count": null,
      "_view_module": "@jupyter-widgets/controls",
      "_view_module_version": "1.5.0",
      "_view_name": "HTMLView",
      "description": "",
      "description_tooltip": null,
      "layout": "IPY_MODEL_dbdc711d088e44ec937a7aa570c028ac",
      "placeholder": "​",
      "style": "IPY_MODEL_b6ebb153d62046a387dd01e2797b6d95",
      "value": "model.safetensors.index.json: 100%"
     }
    },
    "0413fc1bbc0d45f6b0b636128fc63ffc": {
     "model_module": "@jupyter-widgets/base",
     "model_module_version": "1.2.0",
     "model_name": "LayoutModel",
     "state": {
      "_model_module": "@jupyter-widgets/base",
      "_model_module_version": "1.2.0",
      "_model_name": "LayoutModel",
      "_view_count": null,
      "_view_module": "@jupyter-widgets/base",
      "_view_module_version": "1.2.0",
      "_view_name": "LayoutView",
      "align_content": null,
      "align_items": null,
      "align_self": null,
      "border": null,
      "bottom": null,
      "display": null,
      "flex": null,
      "flex_flow": null,
      "grid_area": null,
      "grid_auto_columns": null,
      "grid_auto_flow": null,
      "grid_auto_rows": null,
      "grid_column": null,
      "grid_gap": null,
      "grid_row": null,
      "grid_template_areas": null,
      "grid_template_columns": null,
      "grid_template_rows": null,
      "height": null,
      "justify_content": null,
      "justify_items": null,
      "left": null,
      "margin": null,
      "max_height": null,
      "max_width": null,
      "min_height": null,
      "min_width": null,
      "object_fit": null,
      "object_position": null,
      "order": null,
      "overflow": null,
      "overflow_x": null,
      "overflow_y": null,
      "padding": null,
      "right": null,
      "top": null,
      "visibility": null,
      "width": null
     }
    },
    "054851b3ed794fa3aab9d82182fb0fa3": {
     "model_module": "@jupyter-widgets/base",
     "model_module_version": "1.2.0",
     "model_name": "LayoutModel",
     "state": {
      "_model_module": "@jupyter-widgets/base",
      "_model_module_version": "1.2.0",
      "_model_name": "LayoutModel",
      "_view_count": null,
      "_view_module": "@jupyter-widgets/base",
      "_view_module_version": "1.2.0",
      "_view_name": "LayoutView",
      "align_content": null,
      "align_items": null,
      "align_self": null,
      "border": null,
      "bottom": null,
      "display": null,
      "flex": null,
      "flex_flow": null,
      "grid_area": null,
      "grid_auto_columns": null,
      "grid_auto_flow": null,
      "grid_auto_rows": null,
      "grid_column": null,
      "grid_gap": null,
      "grid_row": null,
      "grid_template_areas": null,
      "grid_template_columns": null,
      "grid_template_rows": null,
      "height": null,
      "justify_content": null,
      "justify_items": null,
      "left": null,
      "margin": null,
      "max_height": null,
      "max_width": null,
      "min_height": null,
      "min_width": null,
      "object_fit": null,
      "object_position": null,
      "order": null,
      "overflow": null,
      "overflow_x": null,
      "overflow_y": null,
      "padding": null,
      "right": null,
      "top": null,
      "visibility": null,
      "width": null
     }
    },
    "0649385ab0ab4b58a2162fe09dcef20a": {
     "model_module": "@jupyter-widgets/controls",
     "model_module_version": "1.5.0",
     "model_name": "DescriptionStyleModel",
     "state": {
      "_model_module": "@jupyter-widgets/controls",
      "_model_module_version": "1.5.0",
      "_model_name": "DescriptionStyleModel",
      "_view_count": null,
      "_view_module": "@jupyter-widgets/base",
      "_view_module_version": "1.2.0",
      "_view_name": "StyleView",
      "description_width": ""
     }
    },
    "0654a379a6f941c3bbcfcf33a3e86837": {
     "model_module": "@jupyter-widgets/base",
     "model_module_version": "1.2.0",
     "model_name": "LayoutModel",
     "state": {
      "_model_module": "@jupyter-widgets/base",
      "_model_module_version": "1.2.0",
      "_model_name": "LayoutModel",
      "_view_count": null,
      "_view_module": "@jupyter-widgets/base",
      "_view_module_version": "1.2.0",
      "_view_name": "LayoutView",
      "align_content": null,
      "align_items": null,
      "align_self": null,
      "border": null,
      "bottom": null,
      "display": null,
      "flex": null,
      "flex_flow": null,
      "grid_area": null,
      "grid_auto_columns": null,
      "grid_auto_flow": null,
      "grid_auto_rows": null,
      "grid_column": null,
      "grid_gap": null,
      "grid_row": null,
      "grid_template_areas": null,
      "grid_template_columns": null,
      "grid_template_rows": null,
      "height": null,
      "justify_content": null,
      "justify_items": null,
      "left": null,
      "margin": null,
      "max_height": null,
      "max_width": null,
      "min_height": null,
      "min_width": null,
      "object_fit": null,
      "object_position": null,
      "order": null,
      "overflow": null,
      "overflow_x": null,
      "overflow_y": null,
      "padding": null,
      "right": null,
      "top": null,
      "visibility": null,
      "width": null
     }
    },
    "0756d297058b447d95f1ddfc8316c699": {
     "model_module": "@jupyter-widgets/base",
     "model_module_version": "1.2.0",
     "model_name": "LayoutModel",
     "state": {
      "_model_module": "@jupyter-widgets/base",
      "_model_module_version": "1.2.0",
      "_model_name": "LayoutModel",
      "_view_count": null,
      "_view_module": "@jupyter-widgets/base",
      "_view_module_version": "1.2.0",
      "_view_name": "LayoutView",
      "align_content": null,
      "align_items": null,
      "align_self": null,
      "border": null,
      "bottom": null,
      "display": null,
      "flex": null,
      "flex_flow": null,
      "grid_area": null,
      "grid_auto_columns": null,
      "grid_auto_flow": null,
      "grid_auto_rows": null,
      "grid_column": null,
      "grid_gap": null,
      "grid_row": null,
      "grid_template_areas": null,
      "grid_template_columns": null,
      "grid_template_rows": null,
      "height": null,
      "justify_content": null,
      "justify_items": null,
      "left": null,
      "margin": null,
      "max_height": null,
      "max_width": null,
      "min_height": null,
      "min_width": null,
      "object_fit": null,
      "object_position": null,
      "order": null,
      "overflow": null,
      "overflow_x": null,
      "overflow_y": null,
      "padding": null,
      "right": null,
      "top": null,
      "visibility": null,
      "width": null
     }
    },
    "07959ec5bcae4be7995cdf2b0ca9c809": {
     "model_module": "@jupyter-widgets/controls",
     "model_module_version": "1.5.0",
     "model_name": "ProgressStyleModel",
     "state": {
      "_model_module": "@jupyter-widgets/controls",
      "_model_module_version": "1.5.0",
      "_model_name": "ProgressStyleModel",
      "_view_count": null,
      "_view_module": "@jupyter-widgets/base",
      "_view_module_version": "1.2.0",
      "_view_name": "StyleView",
      "bar_color": null,
      "description_width": ""
     }
    },
    "07ba50a540994f4b89807ea7227dbe40": {
     "model_module": "@jupyter-widgets/controls",
     "model_module_version": "1.5.0",
     "model_name": "HTMLModel",
     "state": {
      "_dom_classes": [],
      "_model_module": "@jupyter-widgets/controls",
      "_model_module_version": "1.5.0",
      "_model_name": "HTMLModel",
      "_view_count": null,
      "_view_module": "@jupyter-widgets/controls",
      "_view_module_version": "1.5.0",
      "_view_name": "HTMLView",
      "description": "",
      "description_tooltip": null,
      "layout": "IPY_MODEL_ea63254634964f1a83d8cc8139213d3a",
      "placeholder": "​",
      "style": "IPY_MODEL_626cc36d5a784bb8aab58dec2071da47",
      "value": " 136/136 [00:00&lt;00:00, 11.3kB/s]"
     }
    },
    "08e4bf36fbbb42e083347341ee26cef2": {
     "model_module": "@jupyter-widgets/controls",
     "model_module_version": "1.5.0",
     "model_name": "ProgressStyleModel",
     "state": {
      "_model_module": "@jupyter-widgets/controls",
      "_model_module_version": "1.5.0",
      "_model_name": "ProgressStyleModel",
      "_view_count": null,
      "_view_module": "@jupyter-widgets/base",
      "_view_module_version": "1.2.0",
      "_view_name": "StyleView",
      "bar_color": null,
      "description_width": ""
     }
    },
    "0935ddf650ef42e18b310412bc514245": {
     "model_module": "@jupyter-widgets/base",
     "model_module_version": "1.2.0",
     "model_name": "LayoutModel",
     "state": {
      "_model_module": "@jupyter-widgets/base",
      "_model_module_version": "1.2.0",
      "_model_name": "LayoutModel",
      "_view_count": null,
      "_view_module": "@jupyter-widgets/base",
      "_view_module_version": "1.2.0",
      "_view_name": "LayoutView",
      "align_content": null,
      "align_items": null,
      "align_self": null,
      "border": null,
      "bottom": null,
      "display": null,
      "flex": null,
      "flex_flow": null,
      "grid_area": null,
      "grid_auto_columns": null,
      "grid_auto_flow": null,
      "grid_auto_rows": null,
      "grid_column": null,
      "grid_gap": null,
      "grid_row": null,
      "grid_template_areas": null,
      "grid_template_columns": null,
      "grid_template_rows": null,
      "height": null,
      "justify_content": null,
      "justify_items": null,
      "left": null,
      "margin": null,
      "max_height": null,
      "max_width": null,
      "min_height": null,
      "min_width": null,
      "object_fit": null,
      "object_position": null,
      "order": null,
      "overflow": null,
      "overflow_x": null,
      "overflow_y": null,
      "padding": null,
      "right": null,
      "top": null,
      "visibility": null,
      "width": null
     }
    },
    "094d825972504f3dae91e7b53a4702b4": {
     "model_module": "@jupyter-widgets/base",
     "model_module_version": "1.2.0",
     "model_name": "LayoutModel",
     "state": {
      "_model_module": "@jupyter-widgets/base",
      "_model_module_version": "1.2.0",
      "_model_name": "LayoutModel",
      "_view_count": null,
      "_view_module": "@jupyter-widgets/base",
      "_view_module_version": "1.2.0",
      "_view_name": "LayoutView",
      "align_content": null,
      "align_items": null,
      "align_self": null,
      "border": null,
      "bottom": null,
      "display": null,
      "flex": null,
      "flex_flow": null,
      "grid_area": null,
      "grid_auto_columns": null,
      "grid_auto_flow": null,
      "grid_auto_rows": null,
      "grid_column": null,
      "grid_gap": null,
      "grid_row": null,
      "grid_template_areas": null,
      "grid_template_columns": null,
      "grid_template_rows": null,
      "height": null,
      "justify_content": null,
      "justify_items": null,
      "left": null,
      "margin": null,
      "max_height": null,
      "max_width": null,
      "min_height": null,
      "min_width": null,
      "object_fit": null,
      "object_position": null,
      "order": null,
      "overflow": null,
      "overflow_x": null,
      "overflow_y": null,
      "padding": null,
      "right": null,
      "top": null,
      "visibility": null,
      "width": null
     }
    },
    "09c3cac81abe42f7b4c64fcde9b15507": {
     "model_module": "@jupyter-widgets/controls",
     "model_module_version": "1.5.0",
     "model_name": "ButtonStyleModel",
     "state": {
      "_model_module": "@jupyter-widgets/controls",
      "_model_module_version": "1.5.0",
      "_model_name": "ButtonStyleModel",
      "_view_count": null,
      "_view_module": "@jupyter-widgets/base",
      "_view_module_version": "1.2.0",
      "_view_name": "StyleView",
      "button_color": null,
      "font_weight": ""
     }
    },
    "0b0c662d8d0341bdab0d6f6e1480f30b": {
     "model_module": "@jupyter-widgets/controls",
     "model_module_version": "1.5.0",
     "model_name": "HBoxModel",
     "state": {
      "_dom_classes": [],
      "_model_module": "@jupyter-widgets/controls",
      "_model_module_version": "1.5.0",
      "_model_name": "HBoxModel",
      "_view_count": null,
      "_view_module": "@jupyter-widgets/controls",
      "_view_module_version": "1.5.0",
      "_view_name": "HBoxView",
      "box_style": "",
      "children": [
       "IPY_MODEL_954c86c66ba2465aaaff53902400288f",
       "IPY_MODEL_87c37e0df5c14857bae7c9bc37e96f07",
       "IPY_MODEL_83d293e18a52428c8b1ad143e41bf3d8"
      ],
      "layout": "IPY_MODEL_27e3ab0eea72452db5ee2e9a20840007"
     }
    },
    "0ef43f50ffaf464aba0ef54696f39865": {
     "model_module": "@jupyter-widgets/base",
     "model_module_version": "1.2.0",
     "model_name": "LayoutModel",
     "state": {
      "_model_module": "@jupyter-widgets/base",
      "_model_module_version": "1.2.0",
      "_model_name": "LayoutModel",
      "_view_count": null,
      "_view_module": "@jupyter-widgets/base",
      "_view_module_version": "1.2.0",
      "_view_name": "LayoutView",
      "align_content": null,
      "align_items": null,
      "align_self": null,
      "border": null,
      "bottom": null,
      "display": null,
      "flex": null,
      "flex_flow": null,
      "grid_area": null,
      "grid_auto_columns": null,
      "grid_auto_flow": null,
      "grid_auto_rows": null,
      "grid_column": null,
      "grid_gap": null,
      "grid_row": null,
      "grid_template_areas": null,
      "grid_template_columns": null,
      "grid_template_rows": null,
      "height": null,
      "justify_content": null,
      "justify_items": null,
      "left": null,
      "margin": null,
      "max_height": null,
      "max_width": null,
      "min_height": null,
      "min_width": null,
      "object_fit": null,
      "object_position": null,
      "order": null,
      "overflow": null,
      "overflow_x": null,
      "overflow_y": null,
      "padding": null,
      "right": null,
      "top": null,
      "visibility": null,
      "width": null
     }
    },
    "0f7bf804214a478590e2d6b92f6d9465": {
     "model_module": "@jupyter-widgets/controls",
     "model_module_version": "1.5.0",
     "model_name": "HBoxModel",
     "state": {
      "_dom_classes": [],
      "_model_module": "@jupyter-widgets/controls",
      "_model_module_version": "1.5.0",
      "_model_name": "HBoxModel",
      "_view_count": null,
      "_view_module": "@jupyter-widgets/controls",
      "_view_module_version": "1.5.0",
      "_view_name": "HBoxView",
      "box_style": "",
      "children": [
       "IPY_MODEL_ecc0906eaec349d4ae94e9f152611207",
       "IPY_MODEL_8ca3aab5afcd4480acce9b620f77983d",
       "IPY_MODEL_654fabd62d9c4a7c82cb0b1dda9f5891"
      ],
      "layout": "IPY_MODEL_e44a1e7aa7434c85ac2992806f9ebcd5"
     }
    },
    "1135da866cd748f28507bf25c485f9c1": {
     "model_module": "@jupyter-widgets/controls",
     "model_module_version": "1.5.0",
     "model_name": "HTMLModel",
     "state": {
      "_dom_classes": [],
      "_model_module": "@jupyter-widgets/controls",
      "_model_module_version": "1.5.0",
      "_model_name": "HTMLModel",
      "_view_count": null,
      "_view_module": "@jupyter-widgets/controls",
      "_view_module_version": "1.5.0",
      "_view_name": "HTMLView",
      "description": "",
      "description_tooltip": null,
      "layout": "IPY_MODEL_e62e53e9cfec4a42801e3893fb12dd72",
      "placeholder": "​",
      "style": "IPY_MODEL_b7c45718e11c4d10888038de927311d3",
      "value": "vocab.txt: 100%"
     }
    },
    "120467351573456f8e10a2d57a1adba8": {
     "model_module": "@jupyter-widgets/controls",
     "model_module_version": "1.5.0",
     "model_name": "FloatProgressModel",
     "state": {
      "_dom_classes": [],
      "_model_module": "@jupyter-widgets/controls",
      "_model_module_version": "1.5.0",
      "_model_name": "FloatProgressModel",
      "_view_count": null,
      "_view_module": "@jupyter-widgets/controls",
      "_view_module_version": "1.5.0",
      "_view_name": "ProgressView",
      "bar_style": "success",
      "description": "",
      "description_tooltip": null,
      "layout": "IPY_MODEL_cf562add8c1e492fa84e853b255cb600",
      "max": 995526,
      "min": 0,
      "orientation": "horizontal",
      "style": "IPY_MODEL_6d2cc867fa224454b18edaa3f8e0ec09",
      "value": 995526
     }
    },
    "1243acd5d35143d6ac5791e67be1e275": {
     "model_module": "@jupyter-widgets/controls",
     "model_module_version": "1.5.0",
     "model_name": "HBoxModel",
     "state": {
      "_dom_classes": [],
      "_model_module": "@jupyter-widgets/controls",
      "_model_module_version": "1.5.0",
      "_model_name": "HBoxModel",
      "_view_count": null,
      "_view_module": "@jupyter-widgets/controls",
      "_view_module_version": "1.5.0",
      "_view_name": "HBoxView",
      "box_style": "",
      "children": [
       "IPY_MODEL_6842992eebb947839f14165a5440c7d0",
       "IPY_MODEL_d1efdf1bf3ab4a548f628d8caee8dee3",
       "IPY_MODEL_7cf6a84069d94ba7bef11b8bf5ba4fbb"
      ],
      "layout": "IPY_MODEL_7df4653f301e4be084e717c2fa73c136"
     }
    },
    "128c530a0bbe449db3a7f2a0ff76d38a": {
     "model_module": "@jupyter-widgets/controls",
     "model_module_version": "1.5.0",
     "model_name": "LabelModel",
     "state": {
      "_dom_classes": [],
      "_model_module": "@jupyter-widgets/controls",
      "_model_module_version": "1.5.0",
      "_model_name": "LabelModel",
      "_view_count": null,
      "_view_module": "@jupyter-widgets/controls",
      "_view_module_version": "1.5.0",
      "_view_name": "LabelView",
      "description": "",
      "description_tooltip": null,
      "layout": "IPY_MODEL_9490290cdbe64404a9f5077a9048c54e",
      "placeholder": "​",
      "style": "IPY_MODEL_37074a9a5bdb42baaa9e2d9218f72cfa",
      "value": "Connecting..."
     }
    },
    "12a2b3a961f946839b04927723d81ee4": {
     "model_module": "@jupyter-widgets/base",
     "model_module_version": "1.2.0",
     "model_name": "LayoutModel",
     "state": {
      "_model_module": "@jupyter-widgets/base",
      "_model_module_version": "1.2.0",
      "_model_name": "LayoutModel",
      "_view_count": null,
      "_view_module": "@jupyter-widgets/base",
      "_view_module_version": "1.2.0",
      "_view_name": "LayoutView",
      "align_content": null,
      "align_items": null,
      "align_self": null,
      "border": null,
      "bottom": null,
      "display": null,
      "flex": null,
      "flex_flow": null,
      "grid_area": null,
      "grid_auto_columns": null,
      "grid_auto_flow": null,
      "grid_auto_rows": null,
      "grid_column": null,
      "grid_gap": null,
      "grid_row": null,
      "grid_template_areas": null,
      "grid_template_columns": null,
      "grid_template_rows": null,
      "height": null,
      "justify_content": null,
      "justify_items": null,
      "left": null,
      "margin": null,
      "max_height": null,
      "max_width": null,
      "min_height": null,
      "min_width": null,
      "object_fit": null,
      "object_position": null,
      "order": null,
      "overflow": null,
      "overflow_x": null,
      "overflow_y": null,
      "padding": null,
      "right": null,
      "top": null,
      "visibility": null,
      "width": null
     }
    },
    "145fa2d4486f4247b1fc47731cdb14c4": {
     "model_module": "@jupyter-widgets/base",
     "model_module_version": "1.2.0",
     "model_name": "LayoutModel",
     "state": {
      "_model_module": "@jupyter-widgets/base",
      "_model_module_version": "1.2.0",
      "_model_name": "LayoutModel",
      "_view_count": null,
      "_view_module": "@jupyter-widgets/base",
      "_view_module_version": "1.2.0",
      "_view_name": "LayoutView",
      "align_content": null,
      "align_items": null,
      "align_self": null,
      "border": null,
      "bottom": null,
      "display": null,
      "flex": null,
      "flex_flow": null,
      "grid_area": null,
      "grid_auto_columns": null,
      "grid_auto_flow": null,
      "grid_auto_rows": null,
      "grid_column": null,
      "grid_gap": null,
      "grid_row": null,
      "grid_template_areas": null,
      "grid_template_columns": null,
      "grid_template_rows": null,
      "height": null,
      "justify_content": null,
      "justify_items": null,
      "left": null,
      "margin": null,
      "max_height": null,
      "max_width": null,
      "min_height": null,
      "min_width": null,
      "object_fit": null,
      "object_position": null,
      "order": null,
      "overflow": null,
      "overflow_x": null,
      "overflow_y": null,
      "padding": null,
      "right": null,
      "top": null,
      "visibility": null,
      "width": null
     }
    },
    "157d6f3e76824e008b791574b43cb9b7": {
     "model_module": "@jupyter-widgets/controls",
     "model_module_version": "1.5.0",
     "model_name": "FloatProgressModel",
     "state": {
      "_dom_classes": [],
      "_model_module": "@jupyter-widgets/controls",
      "_model_module_version": "1.5.0",
      "_model_name": "FloatProgressModel",
      "_view_count": null,
      "_view_module": "@jupyter-widgets/controls",
      "_view_module_version": "1.5.0",
      "_view_name": "ProgressView",
      "bar_style": "success",
      "description": "",
      "description_tooltip": null,
      "layout": "IPY_MODEL_dd5e16e50c2a4576adfbce3789a54f73",
      "max": 5,
      "min": 0,
      "orientation": "horizontal",
      "style": "IPY_MODEL_2af2133caf0948d7aba67485e0c2b19a",
      "value": 5
     }
    },
    "15891b7ffb2543f881e402900696dcd0": {
     "model_module": "@jupyter-widgets/controls",
     "model_module_version": "1.5.0",
     "model_name": "HTMLModel",
     "state": {
      "_dom_classes": [],
      "_model_module": "@jupyter-widgets/controls",
      "_model_module_version": "1.5.0",
      "_model_name": "HTMLModel",
      "_view_count": null,
      "_view_module": "@jupyter-widgets/controls",
      "_view_module_version": "1.5.0",
      "_view_name": "HTMLView",
      "description": "",
      "description_tooltip": null,
      "layout": "IPY_MODEL_c0f43717f34b49eab57c87abeed54c4c",
      "placeholder": "​",
      "style": "IPY_MODEL_d11fd70a33aa4f6daa98f579fdad7266",
      "value": "pytorch_model.bin: 100%"
     }
    },
    "15d389096d844ad9b96a6ed9c10da296": {
     "model_module": "@jupyter-widgets/controls",
     "model_module_version": "1.5.0",
     "model_name": "DescriptionStyleModel",
     "state": {
      "_model_module": "@jupyter-widgets/controls",
      "_model_module_version": "1.5.0",
      "_model_name": "DescriptionStyleModel",
      "_view_count": null,
      "_view_module": "@jupyter-widgets/base",
      "_view_module_version": "1.2.0",
      "_view_name": "StyleView",
      "description_width": ""
     }
    },
    "15e6e4e39279433e840335f021fce030": {
     "model_module": "@jupyter-widgets/controls",
     "model_module_version": "1.5.0",
     "model_name": "FloatProgressModel",
     "state": {
      "_dom_classes": [],
      "_model_module": "@jupyter-widgets/controls",
      "_model_module_version": "1.5.0",
      "_model_name": "FloatProgressModel",
      "_view_count": null,
      "_view_module": "@jupyter-widgets/controls",
      "_view_module_version": "1.5.0",
      "_view_name": "ProgressView",
      "bar_style": "success",
      "description": "",
      "description_tooltip": null,
      "layout": "IPY_MODEL_4bbda802cf304345bc610aebfbe59547",
      "max": 136,
      "min": 0,
      "orientation": "horizontal",
      "style": "IPY_MODEL_a8339f7e3253434d8e01cb5efb560f3a",
      "value": 136
     }
    },
    "162684e705d5448ba6e83b353ed50160": {
     "model_module": "@jupyter-widgets/controls",
     "model_module_version": "1.5.0",
     "model_name": "DescriptionStyleModel",
     "state": {
      "_model_module": "@jupyter-widgets/controls",
      "_model_module_version": "1.5.0",
      "_model_name": "DescriptionStyleModel",
      "_view_count": null,
      "_view_module": "@jupyter-widgets/base",
      "_view_module_version": "1.2.0",
      "_view_name": "StyleView",
      "description_width": ""
     }
    },
    "167eae550202416ab461cb7ed79a4caf": {
     "model_module": "@jupyter-widgets/controls",
     "model_module_version": "1.5.0",
     "model_name": "DescriptionStyleModel",
     "state": {
      "_model_module": "@jupyter-widgets/controls",
      "_model_module_version": "1.5.0",
      "_model_name": "DescriptionStyleModel",
      "_view_count": null,
      "_view_module": "@jupyter-widgets/base",
      "_view_module_version": "1.2.0",
      "_view_name": "StyleView",
      "description_width": ""
     }
    },
    "16daf252a818476290ae72cf1dcc8ff9": {
     "model_module": "@jupyter-widgets/controls",
     "model_module_version": "1.5.0",
     "model_name": "HTMLModel",
     "state": {
      "_dom_classes": [],
      "_model_module": "@jupyter-widgets/controls",
      "_model_module_version": "1.5.0",
      "_model_name": "HTMLModel",
      "_view_count": null,
      "_view_module": "@jupyter-widgets/controls",
      "_view_module_version": "1.5.0",
      "_view_name": "HTMLView",
      "description": "",
      "description_tooltip": null,
      "layout": "IPY_MODEL_f1f41d395e164c908c0a8f5a34f49c3f",
      "placeholder": "​",
      "style": "IPY_MODEL_15d389096d844ad9b96a6ed9c10da296",
      "value": " 2.81M/2.81M [00:00&lt;00:00, 7.91MB/s]"
     }
    },
    "17920fb2a51742cc8df380d3fc3d56c3": {
     "model_module": "@jupyter-widgets/base",
     "model_module_version": "1.2.0",
     "model_name": "LayoutModel",
     "state": {
      "_model_module": "@jupyter-widgets/base",
      "_model_module_version": "1.2.0",
      "_model_name": "LayoutModel",
      "_view_count": null,
      "_view_module": "@jupyter-widgets/base",
      "_view_module_version": "1.2.0",
      "_view_name": "LayoutView",
      "align_content": null,
      "align_items": null,
      "align_self": null,
      "border": null,
      "bottom": null,
      "display": null,
      "flex": null,
      "flex_flow": null,
      "grid_area": null,
      "grid_auto_columns": null,
      "grid_auto_flow": null,
      "grid_auto_rows": null,
      "grid_column": null,
      "grid_gap": null,
      "grid_row": null,
      "grid_template_areas": null,
      "grid_template_columns": null,
      "grid_template_rows": null,
      "height": null,
      "justify_content": null,
      "justify_items": null,
      "left": null,
      "margin": null,
      "max_height": null,
      "max_width": null,
      "min_height": null,
      "min_width": null,
      "object_fit": null,
      "object_position": null,
      "order": null,
      "overflow": null,
      "overflow_x": null,
      "overflow_y": null,
      "padding": null,
      "right": null,
      "top": null,
      "visibility": null,
      "width": null
     }
    },
    "1bfae7584d6045fda9ceae228e23da3f": {
     "model_module": "@jupyter-widgets/base",
     "model_module_version": "1.2.0",
     "model_name": "LayoutModel",
     "state": {
      "_model_module": "@jupyter-widgets/base",
      "_model_module_version": "1.2.0",
      "_model_name": "LayoutModel",
      "_view_count": null,
      "_view_module": "@jupyter-widgets/base",
      "_view_module_version": "1.2.0",
      "_view_name": "LayoutView",
      "align_content": null,
      "align_items": null,
      "align_self": null,
      "border": null,
      "bottom": null,
      "display": null,
      "flex": null,
      "flex_flow": null,
      "grid_area": null,
      "grid_auto_columns": null,
      "grid_auto_flow": null,
      "grid_auto_rows": null,
      "grid_column": null,
      "grid_gap": null,
      "grid_row": null,
      "grid_template_areas": null,
      "grid_template_columns": null,
      "grid_template_rows": null,
      "height": null,
      "justify_content": null,
      "justify_items": null,
      "left": null,
      "margin": null,
      "max_height": null,
      "max_width": null,
      "min_height": null,
      "min_width": null,
      "object_fit": null,
      "object_position": null,
      "order": null,
      "overflow": null,
      "overflow_x": null,
      "overflow_y": null,
      "padding": null,
      "right": null,
      "top": null,
      "visibility": null,
      "width": null
     }
    },
    "1c6609c52a8e41e8abeba538585f9c02": {
     "model_module": "@jupyter-widgets/base",
     "model_module_version": "1.2.0",
     "model_name": "LayoutModel",
     "state": {
      "_model_module": "@jupyter-widgets/base",
      "_model_module_version": "1.2.0",
      "_model_name": "LayoutModel",
      "_view_count": null,
      "_view_module": "@jupyter-widgets/base",
      "_view_module_version": "1.2.0",
      "_view_name": "LayoutView",
      "align_content": null,
      "align_items": null,
      "align_self": null,
      "border": null,
      "bottom": null,
      "display": null,
      "flex": null,
      "flex_flow": null,
      "grid_area": null,
      "grid_auto_columns": null,
      "grid_auto_flow": null,
      "grid_auto_rows": null,
      "grid_column": null,
      "grid_gap": null,
      "grid_row": null,
      "grid_template_areas": null,
      "grid_template_columns": null,
      "grid_template_rows": null,
      "height": null,
      "justify_content": null,
      "justify_items": null,
      "left": null,
      "margin": null,
      "max_height": null,
      "max_width": null,
      "min_height": null,
      "min_width": null,
      "object_fit": null,
      "object_position": null,
      "order": null,
      "overflow": null,
      "overflow_x": null,
      "overflow_y": null,
      "padding": null,
      "right": null,
      "top": null,
      "visibility": null,
      "width": null
     }
    },
    "1cdcd389531746779065b8fed2d9e5d1": {
     "model_module": "@jupyter-widgets/base",
     "model_module_version": "1.2.0",
     "model_name": "LayoutModel",
     "state": {
      "_model_module": "@jupyter-widgets/base",
      "_model_module_version": "1.2.0",
      "_model_name": "LayoutModel",
      "_view_count": null,
      "_view_module": "@jupyter-widgets/base",
      "_view_module_version": "1.2.0",
      "_view_name": "LayoutView",
      "align_content": null,
      "align_items": null,
      "align_self": null,
      "border": null,
      "bottom": null,
      "display": null,
      "flex": null,
      "flex_flow": null,
      "grid_area": null,
      "grid_auto_columns": null,
      "grid_auto_flow": null,
      "grid_auto_rows": null,
      "grid_column": null,
      "grid_gap": null,
      "grid_row": null,
      "grid_template_areas": null,
      "grid_template_columns": null,
      "grid_template_rows": null,
      "height": null,
      "justify_content": null,
      "justify_items": null,
      "left": null,
      "margin": null,
      "max_height": null,
      "max_width": null,
      "min_height": null,
      "min_width": null,
      "object_fit": null,
      "object_position": null,
      "order": null,
      "overflow": null,
      "overflow_x": null,
      "overflow_y": null,
      "padding": null,
      "right": null,
      "top": null,
      "visibility": null,
      "width": null
     }
    },
    "1cff00d6380c413c8b02bba8aea3876b": {
     "model_module": "@jupyter-widgets/controls",
     "model_module_version": "1.5.0",
     "model_name": "ProgressStyleModel",
     "state": {
      "_model_module": "@jupyter-widgets/controls",
      "_model_module_version": "1.5.0",
      "_model_name": "ProgressStyleModel",
      "_view_count": null,
      "_view_module": "@jupyter-widgets/base",
      "_view_module_version": "1.2.0",
      "_view_name": "StyleView",
      "bar_color": null,
      "description_width": ""
     }
    },
    "1f8dcd51c7fd4146bb3518f65c12279c": {
     "model_module": "@jupyter-widgets/controls",
     "model_module_version": "1.5.0",
     "model_name": "HTMLModel",
     "state": {
      "_dom_classes": [],
      "_model_module": "@jupyter-widgets/controls",
      "_model_module_version": "1.5.0",
      "_model_name": "HTMLModel",
      "_view_count": null,
      "_view_module": "@jupyter-widgets/controls",
      "_view_module_version": "1.5.0",
      "_view_name": "HTMLView",
      "description": "",
      "description_tooltip": null,
      "layout": "IPY_MODEL_53e255e1eee944adbf6f219cc09dd986",
      "placeholder": "​",
      "style": "IPY_MODEL_a623ea489e764cdc9f28ab033e4dba95",
      "value": " 1.58M/1.58M [00:00&lt;00:00, 18.4MB/s]"
     }
    },
    "20b1862f6eb74132bccb89ebd9c2f0e8": {
     "model_module": "@jupyter-widgets/controls",
     "model_module_version": "1.5.0",
     "model_name": "HTMLModel",
     "state": {
      "_dom_classes": [],
      "_model_module": "@jupyter-widgets/controls",
      "_model_module_version": "1.5.0",
      "_model_name": "HTMLModel",
      "_view_count": null,
      "_view_module": "@jupyter-widgets/controls",
      "_view_module_version": "1.5.0",
      "_view_name": "HTMLView",
      "description": "",
      "description_tooltip": null,
      "layout": "IPY_MODEL_3a4f553becea49f7b269e0d4a996a77b",
      "placeholder": "​",
      "style": "IPY_MODEL_670b568d7dfb48c5b21653c585be7b66",
      "value": " 114/114 [00:00&lt;00:00, 2.42kB/s]"
     }
    },
    "2243fdc38de346fb96b0b1361df59360": {
     "model_module": "@jupyter-widgets/base",
     "model_module_version": "1.2.0",
     "model_name": "LayoutModel",
     "state": {
      "_model_module": "@jupyter-widgets/base",
      "_model_module_version": "1.2.0",
      "_model_name": "LayoutModel",
      "_view_count": null,
      "_view_module": "@jupyter-widgets/base",
      "_view_module_version": "1.2.0",
      "_view_name": "LayoutView",
      "align_content": null,
      "align_items": null,
      "align_self": null,
      "border": null,
      "bottom": null,
      "display": null,
      "flex": null,
      "flex_flow": null,
      "grid_area": null,
      "grid_auto_columns": null,
      "grid_auto_flow": null,
      "grid_auto_rows": null,
      "grid_column": null,
      "grid_gap": null,
      "grid_row": null,
      "grid_template_areas": null,
      "grid_template_columns": null,
      "grid_template_rows": null,
      "height": null,
      "justify_content": null,
      "justify_items": null,
      "left": null,
      "margin": null,
      "max_height": null,
      "max_width": null,
      "min_height": null,
      "min_width": null,
      "object_fit": null,
      "object_position": null,
      "order": null,
      "overflow": null,
      "overflow_x": null,
      "overflow_y": null,
      "padding": null,
      "right": null,
      "top": null,
      "visibility": null,
      "width": null
     }
    },
    "22fc0d77012b46278b8754da51701282": {
     "model_module": "@jupyter-widgets/base",
     "model_module_version": "1.2.0",
     "model_name": "LayoutModel",
     "state": {
      "_model_module": "@jupyter-widgets/base",
      "_model_module_version": "1.2.0",
      "_model_name": "LayoutModel",
      "_view_count": null,
      "_view_module": "@jupyter-widgets/base",
      "_view_module_version": "1.2.0",
      "_view_name": "LayoutView",
      "align_content": null,
      "align_items": null,
      "align_self": null,
      "border": null,
      "bottom": null,
      "display": null,
      "flex": null,
      "flex_flow": null,
      "grid_area": null,
      "grid_auto_columns": null,
      "grid_auto_flow": null,
      "grid_auto_rows": null,
      "grid_column": null,
      "grid_gap": null,
      "grid_row": null,
      "grid_template_areas": null,
      "grid_template_columns": null,
      "grid_template_rows": null,
      "height": null,
      "justify_content": null,
      "justify_items": null,
      "left": null,
      "margin": null,
      "max_height": null,
      "max_width": null,
      "min_height": null,
      "min_width": null,
      "object_fit": null,
      "object_position": null,
      "order": null,
      "overflow": null,
      "overflow_x": null,
      "overflow_y": null,
      "padding": null,
      "right": null,
      "top": null,
      "visibility": null,
      "width": null
     }
    },
    "2308bc937120424c8daae8c9612ab877": {
     "model_module": "@jupyter-widgets/base",
     "model_module_version": "1.2.0",
     "model_name": "LayoutModel",
     "state": {
      "_model_module": "@jupyter-widgets/base",
      "_model_module_version": "1.2.0",
      "_model_name": "LayoutModel",
      "_view_count": null,
      "_view_module": "@jupyter-widgets/base",
      "_view_module_version": "1.2.0",
      "_view_name": "LayoutView",
      "align_content": null,
      "align_items": null,
      "align_self": null,
      "border": null,
      "bottom": null,
      "display": null,
      "flex": null,
      "flex_flow": null,
      "grid_area": null,
      "grid_auto_columns": null,
      "grid_auto_flow": null,
      "grid_auto_rows": null,
      "grid_column": null,
      "grid_gap": null,
      "grid_row": null,
      "grid_template_areas": null,
      "grid_template_columns": null,
      "grid_template_rows": null,
      "height": null,
      "justify_content": null,
      "justify_items": null,
      "left": null,
      "margin": null,
      "max_height": null,
      "max_width": null,
      "min_height": null,
      "min_width": null,
      "object_fit": null,
      "object_position": null,
      "order": null,
      "overflow": null,
      "overflow_x": null,
      "overflow_y": null,
      "padding": null,
      "right": null,
      "top": null,
      "visibility": null,
      "width": null
     }
    },
    "24764b1921814573be6755e74aa9ca96": {
     "model_module": "@jupyter-widgets/controls",
     "model_module_version": "1.5.0",
     "model_name": "DescriptionStyleModel",
     "state": {
      "_model_module": "@jupyter-widgets/controls",
      "_model_module_version": "1.5.0",
      "_model_name": "DescriptionStyleModel",
      "_view_count": null,
      "_view_module": "@jupyter-widgets/base",
      "_view_module_version": "1.2.0",
      "_view_name": "StyleView",
      "description_width": ""
     }
    },
    "247c47e59890473da3caf2d4d39e4d0e": {
     "model_module": "@jupyter-widgets/controls",
     "model_module_version": "1.5.0",
     "model_name": "DescriptionStyleModel",
     "state": {
      "_model_module": "@jupyter-widgets/controls",
      "_model_module_version": "1.5.0",
      "_model_name": "DescriptionStyleModel",
      "_view_count": null,
      "_view_module": "@jupyter-widgets/base",
      "_view_module_version": "1.2.0",
      "_view_name": "StyleView",
      "description_width": ""
     }
    },
    "248d0b36d9b34ef6b390c2f7c8a8ef66": {
     "model_module": "@jupyter-widgets/base",
     "model_module_version": "1.2.0",
     "model_name": "LayoutModel",
     "state": {
      "_model_module": "@jupyter-widgets/base",
      "_model_module_version": "1.2.0",
      "_model_name": "LayoutModel",
      "_view_count": null,
      "_view_module": "@jupyter-widgets/base",
      "_view_module_version": "1.2.0",
      "_view_name": "LayoutView",
      "align_content": null,
      "align_items": null,
      "align_self": null,
      "border": null,
      "bottom": null,
      "display": null,
      "flex": null,
      "flex_flow": null,
      "grid_area": null,
      "grid_auto_columns": null,
      "grid_auto_flow": null,
      "grid_auto_rows": null,
      "grid_column": null,
      "grid_gap": null,
      "grid_row": null,
      "grid_template_areas": null,
      "grid_template_columns": null,
      "grid_template_rows": null,
      "height": null,
      "justify_content": null,
      "justify_items": null,
      "left": null,
      "margin": null,
      "max_height": null,
      "max_width": null,
      "min_height": null,
      "min_width": null,
      "object_fit": null,
      "object_position": null,
      "order": null,
      "overflow": null,
      "overflow_x": null,
      "overflow_y": null,
      "padding": null,
      "right": null,
      "top": null,
      "visibility": null,
      "width": null
     }
    },
    "24faf3e1b1f24b148e2ece4f453c45af": {
     "model_module": "@jupyter-widgets/controls",
     "model_module_version": "1.5.0",
     "model_name": "HTMLModel",
     "state": {
      "_dom_classes": [],
      "_model_module": "@jupyter-widgets/controls",
      "_model_module_version": "1.5.0",
      "_model_name": "HTMLModel",
      "_view_count": null,
      "_view_module": "@jupyter-widgets/controls",
      "_view_module_version": "1.5.0",
      "_view_name": "HTMLView",
      "description": "",
      "description_tooltip": null,
      "layout": "IPY_MODEL_49ce72d27464441d8871d1cb76878ef4",
      "placeholder": "​",
      "style": "IPY_MODEL_46cd8a854a7944c388d970de4bb94a68",
      "value": "Map: 100%"
     }
    },
    "254f7cefd83c46c0ae7712e2186dff54": {
     "model_module": "@jupyter-widgets/controls",
     "model_module_version": "1.5.0",
     "model_name": "CheckboxModel",
     "state": {
      "_dom_classes": [],
      "_model_module": "@jupyter-widgets/controls",
      "_model_module_version": "1.5.0",
      "_model_name": "CheckboxModel",
      "_view_count": null,
      "_view_module": "@jupyter-widgets/controls",
      "_view_module_version": "1.5.0",
      "_view_name": "CheckboxView",
      "description": "Add token as git credential?",
      "description_tooltip": null,
      "disabled": false,
      "indent": true,
      "layout": "IPY_MODEL_57d88b87baef432c941f9b2dab738eb6",
      "style": "IPY_MODEL_d4ac7e11cf6244bb90d7b47df0d971e4",
      "value": true
     }
    },
    "26da979890d24a7ea43677980f1e5269": {
     "model_module": "@jupyter-widgets/controls",
     "model_module_version": "1.5.0",
     "model_name": "DescriptionStyleModel",
     "state": {
      "_model_module": "@jupyter-widgets/controls",
      "_model_module_version": "1.5.0",
      "_model_name": "DescriptionStyleModel",
      "_view_count": null,
      "_view_module": "@jupyter-widgets/base",
      "_view_module_version": "1.2.0",
      "_view_name": "StyleView",
      "description_width": ""
     }
    },
    "26fc8f6cedfc4255b04f87caedd6900f": {
     "model_module": "@jupyter-widgets/base",
     "model_module_version": "1.2.0",
     "model_name": "LayoutModel",
     "state": {
      "_model_module": "@jupyter-widgets/base",
      "_model_module_version": "1.2.0",
      "_model_name": "LayoutModel",
      "_view_count": null,
      "_view_module": "@jupyter-widgets/base",
      "_view_module_version": "1.2.0",
      "_view_name": "LayoutView",
      "align_content": null,
      "align_items": null,
      "align_self": null,
      "border": null,
      "bottom": null,
      "display": null,
      "flex": null,
      "flex_flow": null,
      "grid_area": null,
      "grid_auto_columns": null,
      "grid_auto_flow": null,
      "grid_auto_rows": null,
      "grid_column": null,
      "grid_gap": null,
      "grid_row": null,
      "grid_template_areas": null,
      "grid_template_columns": null,
      "grid_template_rows": null,
      "height": null,
      "justify_content": null,
      "justify_items": null,
      "left": null,
      "margin": null,
      "max_height": null,
      "max_width": null,
      "min_height": null,
      "min_width": null,
      "object_fit": null,
      "object_position": null,
      "order": null,
      "overflow": null,
      "overflow_x": null,
      "overflow_y": null,
      "padding": null,
      "right": null,
      "top": null,
      "visibility": null,
      "width": null
     }
    },
    "273e14717cdf423f8eb8f93da8bbeec5": {
     "model_module": "@jupyter-widgets/base",
     "model_module_version": "1.2.0",
     "model_name": "LayoutModel",
     "state": {
      "_model_module": "@jupyter-widgets/base",
      "_model_module_version": "1.2.0",
      "_model_name": "LayoutModel",
      "_view_count": null,
      "_view_module": "@jupyter-widgets/base",
      "_view_module_version": "1.2.0",
      "_view_name": "LayoutView",
      "align_content": null,
      "align_items": null,
      "align_self": null,
      "border": null,
      "bottom": null,
      "display": null,
      "flex": null,
      "flex_flow": null,
      "grid_area": null,
      "grid_auto_columns": null,
      "grid_auto_flow": null,
      "grid_auto_rows": null,
      "grid_column": null,
      "grid_gap": null,
      "grid_row": null,
      "grid_template_areas": null,
      "grid_template_columns": null,
      "grid_template_rows": null,
      "height": null,
      "justify_content": null,
      "justify_items": null,
      "left": null,
      "margin": null,
      "max_height": null,
      "max_width": null,
      "min_height": null,
      "min_width": null,
      "object_fit": null,
      "object_position": null,
      "order": null,
      "overflow": null,
      "overflow_x": null,
      "overflow_y": null,
      "padding": null,
      "right": null,
      "top": null,
      "visibility": null,
      "width": null
     }
    },
    "27e3ab0eea72452db5ee2e9a20840007": {
     "model_module": "@jupyter-widgets/base",
     "model_module_version": "1.2.0",
     "model_name": "LayoutModel",
     "state": {
      "_model_module": "@jupyter-widgets/base",
      "_model_module_version": "1.2.0",
      "_model_name": "LayoutModel",
      "_view_count": null,
      "_view_module": "@jupyter-widgets/base",
      "_view_module_version": "1.2.0",
      "_view_name": "LayoutView",
      "align_content": null,
      "align_items": null,
      "align_self": null,
      "border": null,
      "bottom": null,
      "display": null,
      "flex": null,
      "flex_flow": null,
      "grid_area": null,
      "grid_auto_columns": null,
      "grid_auto_flow": null,
      "grid_auto_rows": null,
      "grid_column": null,
      "grid_gap": null,
      "grid_row": null,
      "grid_template_areas": null,
      "grid_template_columns": null,
      "grid_template_rows": null,
      "height": null,
      "justify_content": null,
      "justify_items": null,
      "left": null,
      "margin": null,
      "max_height": null,
      "max_width": null,
      "min_height": null,
      "min_width": null,
      "object_fit": null,
      "object_position": null,
      "order": null,
      "overflow": null,
      "overflow_x": null,
      "overflow_y": null,
      "padding": null,
      "right": null,
      "top": null,
      "visibility": null,
      "width": null
     }
    },
    "29380c44b0dd4a07956deee540ccc329": {
     "model_module": "@jupyter-widgets/controls",
     "model_module_version": "1.5.0",
     "model_name": "HTMLModel",
     "state": {
      "_dom_classes": [],
      "_model_module": "@jupyter-widgets/controls",
      "_model_module_version": "1.5.0",
      "_model_name": "HTMLModel",
      "_view_count": null,
      "_view_module": "@jupyter-widgets/controls",
      "_view_module_version": "1.5.0",
      "_view_name": "HTMLView",
      "description": "",
      "description_tooltip": null,
      "layout": "IPY_MODEL_57fbe87de0ec4e7d9872d69dbbc501d3",
      "placeholder": "​",
      "style": "IPY_MODEL_6bb59718a9544a7aacaef05d9e717350",
      "value": "special_tokens_map.json: 100%"
     }
    },
    "29e121fc596847c78391d15226dd62c3": {
     "model_module": "@jupyter-widgets/controls",
     "model_module_version": "1.5.0",
     "model_name": "HBoxModel",
     "state": {
      "_dom_classes": [],
      "_model_module": "@jupyter-widgets/controls",
      "_model_module_version": "1.5.0",
      "_model_name": "HBoxModel",
      "_view_count": null,
      "_view_module": "@jupyter-widgets/controls",
      "_view_module_version": "1.5.0",
      "_view_name": "HBoxView",
      "box_style": "",
      "children": [
       "IPY_MODEL_593e9733688844a9a2382c5fc5a3c2a4",
       "IPY_MODEL_a2432c8ba04e4a77a6188341c65c7496",
       "IPY_MODEL_6756a38a52d04a53bfbfd8615770e5d6"
      ],
      "layout": "IPY_MODEL_af3c2e8d04b04a09bace8449d5be6e11"
     }
    },
    "2af2133caf0948d7aba67485e0c2b19a": {
     "model_module": "@jupyter-widgets/controls",
     "model_module_version": "1.5.0",
     "model_name": "ProgressStyleModel",
     "state": {
      "_model_module": "@jupyter-widgets/controls",
      "_model_module_version": "1.5.0",
      "_model_name": "ProgressStyleModel",
      "_view_count": null,
      "_view_module": "@jupyter-widgets/base",
      "_view_module_version": "1.2.0",
      "_view_name": "StyleView",
      "bar_color": null,
      "description_width": ""
     }
    },
    "2b11834c4d8442119804c2541df3ee62": {
     "model_module": "@jupyter-widgets/base",
     "model_module_version": "1.2.0",
     "model_name": "LayoutModel",
     "state": {
      "_model_module": "@jupyter-widgets/base",
      "_model_module_version": "1.2.0",
      "_model_name": "LayoutModel",
      "_view_count": null,
      "_view_module": "@jupyter-widgets/base",
      "_view_module_version": "1.2.0",
      "_view_name": "LayoutView",
      "align_content": null,
      "align_items": null,
      "align_self": null,
      "border": null,
      "bottom": null,
      "display": null,
      "flex": null,
      "flex_flow": null,
      "grid_area": null,
      "grid_auto_columns": null,
      "grid_auto_flow": null,
      "grid_auto_rows": null,
      "grid_column": null,
      "grid_gap": null,
      "grid_row": null,
      "grid_template_areas": null,
      "grid_template_columns": null,
      "grid_template_rows": null,
      "height": null,
      "justify_content": null,
      "justify_items": null,
      "left": null,
      "margin": null,
      "max_height": null,
      "max_width": null,
      "min_height": null,
      "min_width": null,
      "object_fit": null,
      "object_position": null,
      "order": null,
      "overflow": null,
      "overflow_x": null,
      "overflow_y": null,
      "padding": null,
      "right": null,
      "top": null,
      "visibility": null,
      "width": "20px"
     }
    },
    "2c83f6a2e5d84185883153a58bbacc6a": {
     "model_module": "@jupyter-widgets/controls",
     "model_module_version": "1.5.0",
     "model_name": "ProgressStyleModel",
     "state": {
      "_model_module": "@jupyter-widgets/controls",
      "_model_module_version": "1.5.0",
      "_model_name": "ProgressStyleModel",
      "_view_count": null,
      "_view_module": "@jupyter-widgets/base",
      "_view_module_version": "1.2.0",
      "_view_name": "StyleView",
      "bar_color": null,
      "description_width": ""
     }
    },
    "2ca06f6f3a314650ab21954bc32d0cea": {
     "model_module": "@jupyter-widgets/base",
     "model_module_version": "1.2.0",
     "model_name": "LayoutModel",
     "state": {
      "_model_module": "@jupyter-widgets/base",
      "_model_module_version": "1.2.0",
      "_model_name": "LayoutModel",
      "_view_count": null,
      "_view_module": "@jupyter-widgets/base",
      "_view_module_version": "1.2.0",
      "_view_name": "LayoutView",
      "align_content": null,
      "align_items": null,
      "align_self": null,
      "border": null,
      "bottom": null,
      "display": null,
      "flex": null,
      "flex_flow": null,
      "grid_area": null,
      "grid_auto_columns": null,
      "grid_auto_flow": null,
      "grid_auto_rows": null,
      "grid_column": null,
      "grid_gap": null,
      "grid_row": null,
      "grid_template_areas": null,
      "grid_template_columns": null,
      "grid_template_rows": null,
      "height": null,
      "justify_content": null,
      "justify_items": null,
      "left": null,
      "margin": null,
      "max_height": null,
      "max_width": null,
      "min_height": null,
      "min_width": null,
      "object_fit": null,
      "object_position": null,
      "order": null,
      "overflow": null,
      "overflow_x": null,
      "overflow_y": null,
      "padding": null,
      "right": null,
      "top": null,
      "visibility": null,
      "width": null
     }
    },
    "2cd20ac9e97c42f09e819f72d725ba80": {
     "model_module": "@jupyter-widgets/controls",
     "model_module_version": "1.5.0",
     "model_name": "HBoxModel",
     "state": {
      "_dom_classes": [],
      "_model_module": "@jupyter-widgets/controls",
      "_model_module_version": "1.5.0",
      "_model_name": "HBoxModel",
      "_view_count": null,
      "_view_module": "@jupyter-widgets/controls",
      "_view_module_version": "1.5.0",
      "_view_name": "HBoxView",
      "box_style": "",
      "children": [
       "IPY_MODEL_bc7b42b118af48ff9e29bbd300f536d8",
       "IPY_MODEL_73126f088e5a46fca9e3c8a0f398c84b",
       "IPY_MODEL_bcd4260895504000bfa69e00fdb5626d"
      ],
      "layout": "IPY_MODEL_e396c86b88cb423abdefe259a0abfa12"
     }
    },
    "2e1e27129fcd44edb17aefa605eab1e2": {
     "model_module": "@jupyter-widgets/base",
     "model_module_version": "1.2.0",
     "model_name": "LayoutModel",
     "state": {
      "_model_module": "@jupyter-widgets/base",
      "_model_module_version": "1.2.0",
      "_model_name": "LayoutModel",
      "_view_count": null,
      "_view_module": "@jupyter-widgets/base",
      "_view_module_version": "1.2.0",
      "_view_name": "LayoutView",
      "align_content": null,
      "align_items": null,
      "align_self": null,
      "border": null,
      "bottom": null,
      "display": null,
      "flex": null,
      "flex_flow": null,
      "grid_area": null,
      "grid_auto_columns": null,
      "grid_auto_flow": null,
      "grid_auto_rows": null,
      "grid_column": null,
      "grid_gap": null,
      "grid_row": null,
      "grid_template_areas": null,
      "grid_template_columns": null,
      "grid_template_rows": null,
      "height": null,
      "justify_content": null,
      "justify_items": null,
      "left": null,
      "margin": null,
      "max_height": null,
      "max_width": null,
      "min_height": null,
      "min_width": null,
      "object_fit": null,
      "object_position": null,
      "order": null,
      "overflow": null,
      "overflow_x": null,
      "overflow_y": null,
      "padding": null,
      "right": null,
      "top": null,
      "visibility": null,
      "width": null
     }
    },
    "2e96da535f0c428eb47d6a68ddb8e8aa": {
     "model_module": "@jupyter-widgets/base",
     "model_module_version": "1.2.0",
     "model_name": "LayoutModel",
     "state": {
      "_model_module": "@jupyter-widgets/base",
      "_model_module_version": "1.2.0",
      "_model_name": "LayoutModel",
      "_view_count": null,
      "_view_module": "@jupyter-widgets/base",
      "_view_module_version": "1.2.0",
      "_view_name": "LayoutView",
      "align_content": null,
      "align_items": null,
      "align_self": null,
      "border": null,
      "bottom": null,
      "display": null,
      "flex": null,
      "flex_flow": null,
      "grid_area": null,
      "grid_auto_columns": null,
      "grid_auto_flow": null,
      "grid_auto_rows": null,
      "grid_column": null,
      "grid_gap": null,
      "grid_row": null,
      "grid_template_areas": null,
      "grid_template_columns": null,
      "grid_template_rows": null,
      "height": null,
      "justify_content": null,
      "justify_items": null,
      "left": null,
      "margin": null,
      "max_height": null,
      "max_width": null,
      "min_height": null,
      "min_width": null,
      "object_fit": null,
      "object_position": null,
      "order": null,
      "overflow": null,
      "overflow_x": null,
      "overflow_y": null,
      "padding": null,
      "right": null,
      "top": null,
      "visibility": null,
      "width": null
     }
    },
    "2edb7b363afe466e842c7f5e3d163e13": {
     "model_module": "@jupyter-widgets/base",
     "model_module_version": "1.2.0",
     "model_name": "LayoutModel",
     "state": {
      "_model_module": "@jupyter-widgets/base",
      "_model_module_version": "1.2.0",
      "_model_name": "LayoutModel",
      "_view_count": null,
      "_view_module": "@jupyter-widgets/base",
      "_view_module_version": "1.2.0",
      "_view_name": "LayoutView",
      "align_content": null,
      "align_items": null,
      "align_self": null,
      "border": null,
      "bottom": null,
      "display": null,
      "flex": null,
      "flex_flow": null,
      "grid_area": null,
      "grid_auto_columns": null,
      "grid_auto_flow": null,
      "grid_auto_rows": null,
      "grid_column": null,
      "grid_gap": null,
      "grid_row": null,
      "grid_template_areas": null,
      "grid_template_columns": null,
      "grid_template_rows": null,
      "height": null,
      "justify_content": null,
      "justify_items": null,
      "left": null,
      "margin": null,
      "max_height": null,
      "max_width": null,
      "min_height": null,
      "min_width": null,
      "object_fit": null,
      "object_position": null,
      "order": null,
      "overflow": null,
      "overflow_x": null,
      "overflow_y": null,
      "padding": null,
      "right": null,
      "top": null,
      "visibility": null,
      "width": null
     }
    },
    "3398c40436ff4e099b3bcb0593ad2bda": {
     "model_module": "@jupyter-widgets/base",
     "model_module_version": "1.2.0",
     "model_name": "LayoutModel",
     "state": {
      "_model_module": "@jupyter-widgets/base",
      "_model_module_version": "1.2.0",
      "_model_name": "LayoutModel",
      "_view_count": null,
      "_view_module": "@jupyter-widgets/base",
      "_view_module_version": "1.2.0",
      "_view_name": "LayoutView",
      "align_content": null,
      "align_items": null,
      "align_self": null,
      "border": null,
      "bottom": null,
      "display": null,
      "flex": null,
      "flex_flow": null,
      "grid_area": null,
      "grid_auto_columns": null,
      "grid_auto_flow": null,
      "grid_auto_rows": null,
      "grid_column": null,
      "grid_gap": null,
      "grid_row": null,
      "grid_template_areas": null,
      "grid_template_columns": null,
      "grid_template_rows": null,
      "height": null,
      "justify_content": null,
      "justify_items": null,
      "left": null,
      "margin": null,
      "max_height": null,
      "max_width": null,
      "min_height": null,
      "min_width": null,
      "object_fit": null,
      "object_position": null,
      "order": null,
      "overflow": null,
      "overflow_x": null,
      "overflow_y": null,
      "padding": null,
      "right": null,
      "top": null,
      "visibility": null,
      "width": null
     }
    },
    "34baeb8377ad4a308ee286792bfbcdec": {
     "model_module": "@jupyter-widgets/controls",
     "model_module_version": "1.5.0",
     "model_name": "DescriptionStyleModel",
     "state": {
      "_model_module": "@jupyter-widgets/controls",
      "_model_module_version": "1.5.0",
      "_model_name": "DescriptionStyleModel",
      "_view_count": null,
      "_view_module": "@jupyter-widgets/base",
      "_view_module_version": "1.2.0",
      "_view_name": "StyleView",
      "description_width": ""
     }
    },
    "34e69da9e2b14c599b172befdb2b8f38": {
     "model_module": "@jupyter-widgets/controls",
     "model_module_version": "1.5.0",
     "model_name": "DescriptionStyleModel",
     "state": {
      "_model_module": "@jupyter-widgets/controls",
      "_model_module_version": "1.5.0",
      "_model_name": "DescriptionStyleModel",
      "_view_count": null,
      "_view_module": "@jupyter-widgets/base",
      "_view_module_version": "1.2.0",
      "_view_name": "StyleView",
      "description_width": ""
     }
    },
    "360cce9e07b449fab1cd563cf9826b88": {
     "model_module": "@jupyter-widgets/controls",
     "model_module_version": "1.5.0",
     "model_name": "DescriptionStyleModel",
     "state": {
      "_model_module": "@jupyter-widgets/controls",
      "_model_module_version": "1.5.0",
      "_model_name": "DescriptionStyleModel",
      "_view_count": null,
      "_view_module": "@jupyter-widgets/base",
      "_view_module_version": "1.2.0",
      "_view_name": "StyleView",
      "description_width": ""
     }
    },
    "3681aa7adda24874804da7d0cbde76be": {
     "model_module": "@jupyter-widgets/controls",
     "model_module_version": "1.5.0",
     "model_name": "HTMLModel",
     "state": {
      "_dom_classes": [],
      "_model_module": "@jupyter-widgets/controls",
      "_model_module_version": "1.5.0",
      "_model_name": "HTMLModel",
      "_view_count": null,
      "_view_module": "@jupyter-widgets/controls",
      "_view_module_version": "1.5.0",
      "_view_name": "HTMLView",
      "description": "",
      "description_tooltip": null,
      "layout": "IPY_MODEL_26fc8f6cedfc4255b04f87caedd6900f",
      "placeholder": "​",
      "style": "IPY_MODEL_90a76d3cbbfd44f0b4dc889ee83e129e",
      "value": " 1.94G/1.94G [00:07&lt;00:00, 265MB/s]"
     }
    },
    "36ae9082cc7e414c81286704ef68980c": {
     "model_module": "@jupyter-widgets/controls",
     "model_module_version": "1.5.0",
     "model_name": "LabelModel",
     "state": {
      "_dom_classes": [],
      "_model_module": "@jupyter-widgets/controls",
      "_model_module_version": "1.5.0",
      "_model_name": "LabelModel",
      "_view_count": null,
      "_view_module": "@jupyter-widgets/controls",
      "_view_module_version": "1.5.0",
      "_view_name": "LabelView",
      "description": "",
      "description_tooltip": null,
      "layout": "IPY_MODEL_2edb7b363afe466e842c7f5e3d163e13",
      "placeholder": "​",
      "style": "IPY_MODEL_5c1276596c034f6f96a52d28f12ece70",
      "value": "Token is valid (permission: write)."
     }
    },
    "36beb023cf6a40e68eb015af7f8bd186": {
     "model_module": "@jupyter-widgets/base",
     "model_module_version": "1.2.0",
     "model_name": "LayoutModel",
     "state": {
      "_model_module": "@jupyter-widgets/base",
      "_model_module_version": "1.2.0",
      "_model_name": "LayoutModel",
      "_view_count": null,
      "_view_module": "@jupyter-widgets/base",
      "_view_module_version": "1.2.0",
      "_view_name": "LayoutView",
      "align_content": null,
      "align_items": null,
      "align_self": null,
      "border": null,
      "bottom": null,
      "display": null,
      "flex": null,
      "flex_flow": null,
      "grid_area": null,
      "grid_auto_columns": null,
      "grid_auto_flow": null,
      "grid_auto_rows": null,
      "grid_column": null,
      "grid_gap": null,
      "grid_row": null,
      "grid_template_areas": null,
      "grid_template_columns": null,
      "grid_template_rows": null,
      "height": null,
      "justify_content": null,
      "justify_items": null,
      "left": null,
      "margin": null,
      "max_height": null,
      "max_width": null,
      "min_height": null,
      "min_width": null,
      "object_fit": null,
      "object_position": null,
      "order": null,
      "overflow": null,
      "overflow_x": null,
      "overflow_y": null,
      "padding": null,
      "right": null,
      "top": null,
      "visibility": null,
      "width": null
     }
    },
    "37074a9a5bdb42baaa9e2d9218f72cfa": {
     "model_module": "@jupyter-widgets/controls",
     "model_module_version": "1.5.0",
     "model_name": "DescriptionStyleModel",
     "state": {
      "_model_module": "@jupyter-widgets/controls",
      "_model_module_version": "1.5.0",
      "_model_name": "DescriptionStyleModel",
      "_view_count": null,
      "_view_module": "@jupyter-widgets/base",
      "_view_module_version": "1.2.0",
      "_view_name": "StyleView",
      "description_width": ""
     }
    },
    "380c5d2fecfc4b7eb3a378bc37f7344c": {
     "model_module": "@jupyter-widgets/controls",
     "model_module_version": "1.5.0",
     "model_name": "HTMLModel",
     "state": {
      "_dom_classes": [],
      "_model_module": "@jupyter-widgets/controls",
      "_model_module_version": "1.5.0",
      "_model_name": "HTMLModel",
      "_view_count": null,
      "_view_module": "@jupyter-widgets/controls",
      "_view_module_version": "1.5.0",
      "_view_name": "HTMLView",
      "description": "",
      "description_tooltip": null,
      "layout": "IPY_MODEL_bf29b3ab1d96486897e8d4c12dd555e3",
      "placeholder": "​",
      "style": "IPY_MODEL_34baeb8377ad4a308ee286792bfbcdec",
      "value": " 4.92G/4.92G [00:19&lt;00:00, 194MB/s]"
     }
    },
    "38d22e1ac9164e3bb9aab69df1fc39c8": {
     "model_module": "@jupyter-widgets/base",
     "model_module_version": "1.2.0",
     "model_name": "LayoutModel",
     "state": {
      "_model_module": "@jupyter-widgets/base",
      "_model_module_version": "1.2.0",
      "_model_name": "LayoutModel",
      "_view_count": null,
      "_view_module": "@jupyter-widgets/base",
      "_view_module_version": "1.2.0",
      "_view_name": "LayoutView",
      "align_content": null,
      "align_items": null,
      "align_self": null,
      "border": null,
      "bottom": null,
      "display": null,
      "flex": null,
      "flex_flow": null,
      "grid_area": null,
      "grid_auto_columns": null,
      "grid_auto_flow": null,
      "grid_auto_rows": null,
      "grid_column": null,
      "grid_gap": null,
      "grid_row": null,
      "grid_template_areas": null,
      "grid_template_columns": null,
      "grid_template_rows": null,
      "height": null,
      "justify_content": null,
      "justify_items": null,
      "left": null,
      "margin": null,
      "max_height": null,
      "max_width": null,
      "min_height": null,
      "min_width": null,
      "object_fit": null,
      "object_position": null,
      "order": null,
      "overflow": null,
      "overflow_x": null,
      "overflow_y": null,
      "padding": null,
      "right": null,
      "top": null,
      "visibility": null,
      "width": null
     }
    },
    "38e3f2ff1e18479eb8f16415048f4e66": {
     "model_module": "@jupyter-widgets/base",
     "model_module_version": "1.2.0",
     "model_name": "LayoutModel",
     "state": {
      "_model_module": "@jupyter-widgets/base",
      "_model_module_version": "1.2.0",
      "_model_name": "LayoutModel",
      "_view_count": null,
      "_view_module": "@jupyter-widgets/base",
      "_view_module_version": "1.2.0",
      "_view_name": "LayoutView",
      "align_content": null,
      "align_items": null,
      "align_self": null,
      "border": null,
      "bottom": null,
      "display": null,
      "flex": null,
      "flex_flow": null,
      "grid_area": null,
      "grid_auto_columns": null,
      "grid_auto_flow": null,
      "grid_auto_rows": null,
      "grid_column": null,
      "grid_gap": null,
      "grid_row": null,
      "grid_template_areas": null,
      "grid_template_columns": null,
      "grid_template_rows": null,
      "height": null,
      "justify_content": null,
      "justify_items": null,
      "left": null,
      "margin": null,
      "max_height": null,
      "max_width": null,
      "min_height": null,
      "min_width": null,
      "object_fit": null,
      "object_position": null,
      "order": null,
      "overflow": null,
      "overflow_x": null,
      "overflow_y": null,
      "padding": null,
      "right": null,
      "top": null,
      "visibility": null,
      "width": null
     }
    },
    "3952ba625f324b11a5870440ccea95b3": {
     "model_module": "@jupyter-widgets/controls",
     "model_module_version": "1.5.0",
     "model_name": "HTMLModel",
     "state": {
      "_dom_classes": [],
      "_model_module": "@jupyter-widgets/controls",
      "_model_module_version": "1.5.0",
      "_model_name": "HTMLModel",
      "_view_count": null,
      "_view_module": "@jupyter-widgets/controls",
      "_view_module_version": "1.5.0",
      "_view_name": "HTMLView",
      "description": "",
      "description_tooltip": null,
      "layout": "IPY_MODEL_b9b2feabdd5e4bbb8adc5324b2406f96",
      "placeholder": "​",
      "style": "IPY_MODEL_360cce9e07b449fab1cd563cf9826b88",
      "value": "<center> <img\nsrc=https://huggingface.co/front/assets/huggingface_logo-noborder.svg\nalt='Hugging Face'> <br> Copy a token from <a\nhref=\"https://huggingface.co/settings/tokens\" target=\"_blank\">your Hugging Face\ntokens page</a> and paste it below. <br> Immediately click login after copying\nyour token or it might be stored in plain text in this notebook file. </center>"
     }
    },
    "3956667ef5094389a7afdc83f9d3d096": {
     "model_module": "@jupyter-widgets/base",
     "model_module_version": "1.2.0",
     "model_name": "LayoutModel",
     "state": {
      "_model_module": "@jupyter-widgets/base",
      "_model_module_version": "1.2.0",
      "_model_name": "LayoutModel",
      "_view_count": null,
      "_view_module": "@jupyter-widgets/base",
      "_view_module_version": "1.2.0",
      "_view_name": "LayoutView",
      "align_content": null,
      "align_items": null,
      "align_self": null,
      "border": null,
      "bottom": null,
      "display": null,
      "flex": null,
      "flex_flow": null,
      "grid_area": null,
      "grid_auto_columns": null,
      "grid_auto_flow": null,
      "grid_auto_rows": null,
      "grid_column": null,
      "grid_gap": null,
      "grid_row": null,
      "grid_template_areas": null,
      "grid_template_columns": null,
      "grid_template_rows": null,
      "height": null,
      "justify_content": null,
      "justify_items": null,
      "left": null,
      "margin": null,
      "max_height": null,
      "max_width": null,
      "min_height": null,
      "min_width": null,
      "object_fit": null,
      "object_position": null,
      "order": null,
      "overflow": null,
      "overflow_x": null,
      "overflow_y": null,
      "padding": null,
      "right": null,
      "top": null,
      "visibility": null,
      "width": null
     }
    },
    "3a128b25cff04791bd2ae0880dc2c1c7": {
     "model_module": "@jupyter-widgets/controls",
     "model_module_version": "1.5.0",
     "model_name": "DescriptionStyleModel",
     "state": {
      "_model_module": "@jupyter-widgets/controls",
      "_model_module_version": "1.5.0",
      "_model_name": "DescriptionStyleModel",
      "_view_count": null,
      "_view_module": "@jupyter-widgets/base",
      "_view_module_version": "1.2.0",
      "_view_name": "StyleView",
      "description_width": ""
     }
    },
    "3a4f553becea49f7b269e0d4a996a77b": {
     "model_module": "@jupyter-widgets/base",
     "model_module_version": "1.2.0",
     "model_name": "LayoutModel",
     "state": {
      "_model_module": "@jupyter-widgets/base",
      "_model_module_version": "1.2.0",
      "_model_name": "LayoutModel",
      "_view_count": null,
      "_view_module": "@jupyter-widgets/base",
      "_view_module_version": "1.2.0",
      "_view_name": "LayoutView",
      "align_content": null,
      "align_items": null,
      "align_self": null,
      "border": null,
      "bottom": null,
      "display": null,
      "flex": null,
      "flex_flow": null,
      "grid_area": null,
      "grid_auto_columns": null,
      "grid_auto_flow": null,
      "grid_auto_rows": null,
      "grid_column": null,
      "grid_gap": null,
      "grid_row": null,
      "grid_template_areas": null,
      "grid_template_columns": null,
      "grid_template_rows": null,
      "height": null,
      "justify_content": null,
      "justify_items": null,
      "left": null,
      "margin": null,
      "max_height": null,
      "max_width": null,
      "min_height": null,
      "min_width": null,
      "object_fit": null,
      "object_position": null,
      "order": null,
      "overflow": null,
      "overflow_x": null,
      "overflow_y": null,
      "padding": null,
      "right": null,
      "top": null,
      "visibility": null,
      "width": null
     }
    },
    "3a76096fc3ae4c0cb482d39f57220ce0": {
     "model_module": "@jupyter-widgets/controls",
     "model_module_version": "1.5.0",
     "model_name": "HBoxModel",
     "state": {
      "_dom_classes": [],
      "_model_module": "@jupyter-widgets/controls",
      "_model_module_version": "1.5.0",
      "_model_name": "HBoxModel",
      "_view_count": null,
      "_view_module": "@jupyter-widgets/controls",
      "_view_module_version": "1.5.0",
      "_view_name": "HBoxView",
      "box_style": "",
      "children": [
       "IPY_MODEL_459a1edbbd5f4bad9af130422339e918",
       "IPY_MODEL_936f51bc4dfe4f99a445826f2a60e064",
       "IPY_MODEL_16daf252a818476290ae72cf1dcc8ff9"
      ],
      "layout": "IPY_MODEL_c1b818dbe9114a1e85fe9e81befade1e"
     }
    },
    "3ba1d996d314415db919ce22e6fb8685": {
     "model_module": "@jupyter-widgets/controls",
     "model_module_version": "1.5.0",
     "model_name": "HBoxModel",
     "state": {
      "_dom_classes": [],
      "_model_module": "@jupyter-widgets/controls",
      "_model_module_version": "1.5.0",
      "_model_name": "HBoxModel",
      "_view_count": null,
      "_view_module": "@jupyter-widgets/controls",
      "_view_module_version": "1.5.0",
      "_view_name": "HBoxView",
      "box_style": "",
      "children": [
       "IPY_MODEL_8081884816b64f82b43e99ca10074895",
       "IPY_MODEL_9950cad8d12447ecaa69bf2c3ce3f910",
       "IPY_MODEL_ea6e3f3f14984528a59509a0a0195118"
      ],
      "layout": "IPY_MODEL_d1e36e25ed7c46fd84edca1f8741cb56"
     }
    },
    "3c3fc1b1142d4dadb4201680ef90d2d5": {
     "model_module": "@jupyter-widgets/controls",
     "model_module_version": "1.5.0",
     "model_name": "HBoxModel",
     "state": {
      "_dom_classes": [],
      "_model_module": "@jupyter-widgets/controls",
      "_model_module_version": "1.5.0",
      "_model_name": "HBoxModel",
      "_view_count": null,
      "_view_module": "@jupyter-widgets/controls",
      "_view_module_version": "1.5.0",
      "_view_name": "HBoxView",
      "box_style": "",
      "children": [
       "IPY_MODEL_94ce8fb52ef7472596f8daf81f87613e",
       "IPY_MODEL_cdf0112594f544b8b48718dd991cd195",
       "IPY_MODEL_c8b185b56cbf4fcc8e9cd06c591031ac"
      ],
      "layout": "IPY_MODEL_592d4c657e854bdb910d8496cf99ce75"
     }
    },
    "4291d204e7c24a1ca711a994bda197e4": {
     "model_module": "@jupyter-widgets/base",
     "model_module_version": "1.2.0",
     "model_name": "LayoutModel",
     "state": {
      "_model_module": "@jupyter-widgets/base",
      "_model_module_version": "1.2.0",
      "_model_name": "LayoutModel",
      "_view_count": null,
      "_view_module": "@jupyter-widgets/base",
      "_view_module_version": "1.2.0",
      "_view_name": "LayoutView",
      "align_content": null,
      "align_items": null,
      "align_self": null,
      "border": null,
      "bottom": null,
      "display": null,
      "flex": null,
      "flex_flow": null,
      "grid_area": null,
      "grid_auto_columns": null,
      "grid_auto_flow": null,
      "grid_auto_rows": null,
      "grid_column": null,
      "grid_gap": null,
      "grid_row": null,
      "grid_template_areas": null,
      "grid_template_columns": null,
      "grid_template_rows": null,
      "height": null,
      "justify_content": null,
      "justify_items": null,
      "left": null,
      "margin": null,
      "max_height": null,
      "max_width": null,
      "min_height": null,
      "min_width": null,
      "object_fit": null,
      "object_position": null,
      "order": null,
      "overflow": null,
      "overflow_x": null,
      "overflow_y": null,
      "padding": null,
      "right": null,
      "top": null,
      "visibility": null,
      "width": null
     }
    },
    "444fb751dda04e41851d78f52f5c4b93": {
     "model_module": "@jupyter-widgets/base",
     "model_module_version": "1.2.0",
     "model_name": "LayoutModel",
     "state": {
      "_model_module": "@jupyter-widgets/base",
      "_model_module_version": "1.2.0",
      "_model_name": "LayoutModel",
      "_view_count": null,
      "_view_module": "@jupyter-widgets/base",
      "_view_module_version": "1.2.0",
      "_view_name": "LayoutView",
      "align_content": null,
      "align_items": null,
      "align_self": null,
      "border": null,
      "bottom": null,
      "display": null,
      "flex": null,
      "flex_flow": null,
      "grid_area": null,
      "grid_auto_columns": null,
      "grid_auto_flow": null,
      "grid_auto_rows": null,
      "grid_column": null,
      "grid_gap": null,
      "grid_row": null,
      "grid_template_areas": null,
      "grid_template_columns": null,
      "grid_template_rows": null,
      "height": null,
      "justify_content": null,
      "justify_items": null,
      "left": null,
      "margin": null,
      "max_height": null,
      "max_width": null,
      "min_height": null,
      "min_width": null,
      "object_fit": null,
      "object_position": null,
      "order": null,
      "overflow": null,
      "overflow_x": null,
      "overflow_y": null,
      "padding": null,
      "right": null,
      "top": null,
      "visibility": null,
      "width": null
     }
    },
    "459a1edbbd5f4bad9af130422339e918": {
     "model_module": "@jupyter-widgets/controls",
     "model_module_version": "1.5.0",
     "model_name": "HTMLModel",
     "state": {
      "_dom_classes": [],
      "_model_module": "@jupyter-widgets/controls",
      "_model_module_version": "1.5.0",
      "_model_name": "HTMLModel",
      "_view_count": null,
      "_view_module": "@jupyter-widgets/controls",
      "_view_module_version": "1.5.0",
      "_view_name": "HTMLView",
      "description": "",
      "description_tooltip": null,
      "layout": "IPY_MODEL_e2c2df69ec9c461daad857970be3f0b1",
      "placeholder": "​",
      "style": "IPY_MODEL_34e69da9e2b14c599b172befdb2b8f38",
      "value": "tokenizer_config.json: 100%"
     }
    },
    "460c56667e9642b2b330230e11bf8ae9": {
     "model_module": "@jupyter-widgets/base",
     "model_module_version": "1.2.0",
     "model_name": "LayoutModel",
     "state": {
      "_model_module": "@jupyter-widgets/base",
      "_model_module_version": "1.2.0",
      "_model_name": "LayoutModel",
      "_view_count": null,
      "_view_module": "@jupyter-widgets/base",
      "_view_module_version": "1.2.0",
      "_view_name": "LayoutView",
      "align_content": null,
      "align_items": null,
      "align_self": null,
      "border": null,
      "bottom": null,
      "display": null,
      "flex": null,
      "flex_flow": null,
      "grid_area": null,
      "grid_auto_columns": null,
      "grid_auto_flow": null,
      "grid_auto_rows": null,
      "grid_column": null,
      "grid_gap": null,
      "grid_row": null,
      "grid_template_areas": null,
      "grid_template_columns": null,
      "grid_template_rows": null,
      "height": null,
      "justify_content": null,
      "justify_items": null,
      "left": null,
      "margin": null,
      "max_height": null,
      "max_width": null,
      "min_height": null,
      "min_width": null,
      "object_fit": null,
      "object_position": null,
      "order": null,
      "overflow": null,
      "overflow_x": null,
      "overflow_y": null,
      "padding": null,
      "right": null,
      "top": null,
      "visibility": null,
      "width": null
     }
    },
    "46cd8a854a7944c388d970de4bb94a68": {
     "model_module": "@jupyter-widgets/controls",
     "model_module_version": "1.5.0",
     "model_name": "DescriptionStyleModel",
     "state": {
      "_model_module": "@jupyter-widgets/controls",
      "_model_module_version": "1.5.0",
      "_model_name": "DescriptionStyleModel",
      "_view_count": null,
      "_view_module": "@jupyter-widgets/base",
      "_view_module_version": "1.2.0",
      "_view_name": "StyleView",
      "description_width": ""
     }
    },
    "499c68f8c07a4b11871e2d7d425c9de7": {
     "model_module": "@jupyter-widgets/controls",
     "model_module_version": "1.5.0",
     "model_name": "DescriptionStyleModel",
     "state": {
      "_model_module": "@jupyter-widgets/controls",
      "_model_module_version": "1.5.0",
      "_model_name": "DescriptionStyleModel",
      "_view_count": null,
      "_view_module": "@jupyter-widgets/base",
      "_view_module_version": "1.2.0",
      "_view_name": "StyleView",
      "description_width": ""
     }
    },
    "49c4d5467eac41f79f4a162238ff8d2f": {
     "model_module": "@jupyter-widgets/controls",
     "model_module_version": "1.5.0",
     "model_name": "DescriptionStyleModel",
     "state": {
      "_model_module": "@jupyter-widgets/controls",
      "_model_module_version": "1.5.0",
      "_model_name": "DescriptionStyleModel",
      "_view_count": null,
      "_view_module": "@jupyter-widgets/base",
      "_view_module_version": "1.2.0",
      "_view_name": "StyleView",
      "description_width": ""
     }
    },
    "49ce72d27464441d8871d1cb76878ef4": {
     "model_module": "@jupyter-widgets/base",
     "model_module_version": "1.2.0",
     "model_name": "LayoutModel",
     "state": {
      "_model_module": "@jupyter-widgets/base",
      "_model_module_version": "1.2.0",
      "_model_name": "LayoutModel",
      "_view_count": null,
      "_view_module": "@jupyter-widgets/base",
      "_view_module_version": "1.2.0",
      "_view_name": "LayoutView",
      "align_content": null,
      "align_items": null,
      "align_self": null,
      "border": null,
      "bottom": null,
      "display": null,
      "flex": null,
      "flex_flow": null,
      "grid_area": null,
      "grid_auto_columns": null,
      "grid_auto_flow": null,
      "grid_auto_rows": null,
      "grid_column": null,
      "grid_gap": null,
      "grid_row": null,
      "grid_template_areas": null,
      "grid_template_columns": null,
      "grid_template_rows": null,
      "height": null,
      "justify_content": null,
      "justify_items": null,
      "left": null,
      "margin": null,
      "max_height": null,
      "max_width": null,
      "min_height": null,
      "min_width": null,
      "object_fit": null,
      "object_position": null,
      "order": null,
      "overflow": null,
      "overflow_x": null,
      "overflow_y": null,
      "padding": null,
      "right": null,
      "top": null,
      "visibility": null,
      "width": null
     }
    },
    "4a9497e5e0404944b8c8c95c95854e49": {
     "model_module": "@jupyter-widgets/controls",
     "model_module_version": "1.5.0",
     "model_name": "DescriptionStyleModel",
     "state": {
      "_model_module": "@jupyter-widgets/controls",
      "_model_module_version": "1.5.0",
      "_model_name": "DescriptionStyleModel",
      "_view_count": null,
      "_view_module": "@jupyter-widgets/base",
      "_view_module_version": "1.2.0",
      "_view_name": "StyleView",
      "description_width": ""
     }
    },
    "4b0829cd92ee4be1922c4a5ddb62bbdd": {
     "model_module": "@jupyter-widgets/controls",
     "model_module_version": "1.5.0",
     "model_name": "LabelModel",
     "state": {
      "_dom_classes": [],
      "_model_module": "@jupyter-widgets/controls",
      "_model_module_version": "1.5.0",
      "_model_name": "LabelModel",
      "_view_count": null,
      "_view_module": "@jupyter-widgets/controls",
      "_view_module_version": "1.5.0",
      "_view_name": "LabelView",
      "description": "",
      "description_tooltip": null,
      "layout": "IPY_MODEL_5f1df3d49d6f471dbad25e6b0b66aa8d",
      "placeholder": "​",
      "style": "IPY_MODEL_a23c5186124d4b2cba049180d21143fe",
      "value": "Login successful"
     }
    },
    "4bbda802cf304345bc610aebfbe59547": {
     "model_module": "@jupyter-widgets/base",
     "model_module_version": "1.2.0",
     "model_name": "LayoutModel",
     "state": {
      "_model_module": "@jupyter-widgets/base",
      "_model_module_version": "1.2.0",
      "_model_name": "LayoutModel",
      "_view_count": null,
      "_view_module": "@jupyter-widgets/base",
      "_view_module_version": "1.2.0",
      "_view_name": "LayoutView",
      "align_content": null,
      "align_items": null,
      "align_self": null,
      "border": null,
      "bottom": null,
      "display": null,
      "flex": null,
      "flex_flow": null,
      "grid_area": null,
      "grid_auto_columns": null,
      "grid_auto_flow": null,
      "grid_auto_rows": null,
      "grid_column": null,
      "grid_gap": null,
      "grid_row": null,
      "grid_template_areas": null,
      "grid_template_columns": null,
      "grid_template_rows": null,
      "height": null,
      "justify_content": null,
      "justify_items": null,
      "left": null,
      "margin": null,
      "max_height": null,
      "max_width": null,
      "min_height": null,
      "min_width": null,
      "object_fit": null,
      "object_position": null,
      "order": null,
      "overflow": null,
      "overflow_x": null,
      "overflow_y": null,
      "padding": null,
      "right": null,
      "top": null,
      "visibility": null,
      "width": null
     }
    },
    "4cf59c92a6c948bbb6bd31424b0873b8": {
     "model_module": "@jupyter-widgets/base",
     "model_module_version": "1.2.0",
     "model_name": "LayoutModel",
     "state": {
      "_model_module": "@jupyter-widgets/base",
      "_model_module_version": "1.2.0",
      "_model_name": "LayoutModel",
      "_view_count": null,
      "_view_module": "@jupyter-widgets/base",
      "_view_module_version": "1.2.0",
      "_view_name": "LayoutView",
      "align_content": null,
      "align_items": null,
      "align_self": null,
      "border": null,
      "bottom": null,
      "display": null,
      "flex": null,
      "flex_flow": null,
      "grid_area": null,
      "grid_auto_columns": null,
      "grid_auto_flow": null,
      "grid_auto_rows": null,
      "grid_column": null,
      "grid_gap": null,
      "grid_row": null,
      "grid_template_areas": null,
      "grid_template_columns": null,
      "grid_template_rows": null,
      "height": null,
      "justify_content": null,
      "justify_items": null,
      "left": null,
      "margin": null,
      "max_height": null,
      "max_width": null,
      "min_height": null,
      "min_width": null,
      "object_fit": null,
      "object_position": null,
      "order": null,
      "overflow": null,
      "overflow_x": null,
      "overflow_y": null,
      "padding": null,
      "right": null,
      "top": null,
      "visibility": null,
      "width": null
     }
    },
    "4f38613f105c45e18bb2acaadb1f578d": {
     "model_module": "@jupyter-widgets/base",
     "model_module_version": "1.2.0",
     "model_name": "LayoutModel",
     "state": {
      "_model_module": "@jupyter-widgets/base",
      "_model_module_version": "1.2.0",
      "_model_name": "LayoutModel",
      "_view_count": null,
      "_view_module": "@jupyter-widgets/base",
      "_view_module_version": "1.2.0",
      "_view_name": "LayoutView",
      "align_content": null,
      "align_items": null,
      "align_self": null,
      "border": null,
      "bottom": null,
      "display": null,
      "flex": null,
      "flex_flow": null,
      "grid_area": null,
      "grid_auto_columns": null,
      "grid_auto_flow": null,
      "grid_auto_rows": null,
      "grid_column": null,
      "grid_gap": null,
      "grid_row": null,
      "grid_template_areas": null,
      "grid_template_columns": null,
      "grid_template_rows": null,
      "height": null,
      "justify_content": null,
      "justify_items": null,
      "left": null,
      "margin": null,
      "max_height": null,
      "max_width": null,
      "min_height": null,
      "min_width": null,
      "object_fit": null,
      "object_position": null,
      "order": null,
      "overflow": null,
      "overflow_x": null,
      "overflow_y": null,
      "padding": null,
      "right": null,
      "top": null,
      "visibility": null,
      "width": null
     }
    },
    "4f546429c0994c08ba27365edf11c87a": {
     "model_module": "@jupyter-widgets/controls",
     "model_module_version": "1.5.0",
     "model_name": "HBoxModel",
     "state": {
      "_dom_classes": [],
      "_model_module": "@jupyter-widgets/controls",
      "_model_module_version": "1.5.0",
      "_model_name": "HBoxModel",
      "_view_count": null,
      "_view_module": "@jupyter-widgets/controls",
      "_view_module_version": "1.5.0",
      "_view_name": "HBoxView",
      "box_style": "",
      "children": [
       "IPY_MODEL_a2d4cb227e9b455f803a25ac64d3dacd",
       "IPY_MODEL_f5cde8b9d51c492486cf6761472e7f5c",
       "IPY_MODEL_d752ff76d03942d2ad1931f186f57ad4"
      ],
      "layout": "IPY_MODEL_62f64eed00fe489f9f1eb2a0aa484ec5"
     }
    },
    "5039532a6f214ad4bd1ede49553bdb91": {
     "model_module": "@jupyter-widgets/controls",
     "model_module_version": "1.5.0",
     "model_name": "HBoxModel",
     "state": {
      "_dom_classes": [],
      "_model_module": "@jupyter-widgets/controls",
      "_model_module_version": "1.5.0",
      "_model_name": "HBoxModel",
      "_view_count": null,
      "_view_module": "@jupyter-widgets/controls",
      "_view_module_version": "1.5.0",
      "_view_name": "HBoxView",
      "box_style": "",
      "children": [
       "IPY_MODEL_bca785201d2c4cc0b3a6b876cd76da85",
       "IPY_MODEL_dc306acf7a50404ca7aba741ed5e8c84",
       "IPY_MODEL_8f83a29084a5461db2fc6050d318834d"
      ],
      "layout": "IPY_MODEL_bf99402469fa4aafacf18a54e9bf0bf7"
     }
    },
    "51759563c6ce4d44a11ab52ca2853c20": {
     "model_module": "@jupyter-widgets/controls",
     "model_module_version": "1.5.0",
     "model_name": "DescriptionStyleModel",
     "state": {
      "_model_module": "@jupyter-widgets/controls",
      "_model_module_version": "1.5.0",
      "_model_name": "DescriptionStyleModel",
      "_view_count": null,
      "_view_module": "@jupyter-widgets/base",
      "_view_module_version": "1.2.0",
      "_view_name": "StyleView",
      "description_width": ""
     }
    },
    "51b93cc12034422da97e70b0ed953ae7": {
     "model_module": "@jupyter-widgets/base",
     "model_module_version": "1.2.0",
     "model_name": "LayoutModel",
     "state": {
      "_model_module": "@jupyter-widgets/base",
      "_model_module_version": "1.2.0",
      "_model_name": "LayoutModel",
      "_view_count": null,
      "_view_module": "@jupyter-widgets/base",
      "_view_module_version": "1.2.0",
      "_view_name": "LayoutView",
      "align_content": null,
      "align_items": null,
      "align_self": null,
      "border": null,
      "bottom": null,
      "display": null,
      "flex": null,
      "flex_flow": null,
      "grid_area": null,
      "grid_auto_columns": null,
      "grid_auto_flow": null,
      "grid_auto_rows": null,
      "grid_column": null,
      "grid_gap": null,
      "grid_row": null,
      "grid_template_areas": null,
      "grid_template_columns": null,
      "grid_template_rows": null,
      "height": null,
      "justify_content": null,
      "justify_items": null,
      "left": null,
      "margin": null,
      "max_height": null,
      "max_width": null,
      "min_height": null,
      "min_width": null,
      "object_fit": null,
      "object_position": null,
      "order": null,
      "overflow": null,
      "overflow_x": null,
      "overflow_y": null,
      "padding": null,
      "right": null,
      "top": null,
      "visibility": null,
      "width": null
     }
    },
    "53e255e1eee944adbf6f219cc09dd986": {
     "model_module": "@jupyter-widgets/base",
     "model_module_version": "1.2.0",
     "model_name": "LayoutModel",
     "state": {
      "_model_module": "@jupyter-widgets/base",
      "_model_module_version": "1.2.0",
      "_model_name": "LayoutModel",
      "_view_count": null,
      "_view_module": "@jupyter-widgets/base",
      "_view_module_version": "1.2.0",
      "_view_name": "LayoutView",
      "align_content": null,
      "align_items": null,
      "align_self": null,
      "border": null,
      "bottom": null,
      "display": null,
      "flex": null,
      "flex_flow": null,
      "grid_area": null,
      "grid_auto_columns": null,
      "grid_auto_flow": null,
      "grid_auto_rows": null,
      "grid_column": null,
      "grid_gap": null,
      "grid_row": null,
      "grid_template_areas": null,
      "grid_template_columns": null,
      "grid_template_rows": null,
      "height": null,
      "justify_content": null,
      "justify_items": null,
      "left": null,
      "margin": null,
      "max_height": null,
      "max_width": null,
      "min_height": null,
      "min_width": null,
      "object_fit": null,
      "object_position": null,
      "order": null,
      "overflow": null,
      "overflow_x": null,
      "overflow_y": null,
      "padding": null,
      "right": null,
      "top": null,
      "visibility": null,
      "width": null
     }
    },
    "547c00cb6d8c4de5b7ca34e72a2cd57b": {
     "model_module": "@jupyter-widgets/controls",
     "model_module_version": "1.5.0",
     "model_name": "ProgressStyleModel",
     "state": {
      "_model_module": "@jupyter-widgets/controls",
      "_model_module_version": "1.5.0",
      "_model_name": "ProgressStyleModel",
      "_view_count": null,
      "_view_module": "@jupyter-widgets/base",
      "_view_module_version": "1.2.0",
      "_view_name": "StyleView",
      "bar_color": null,
      "description_width": ""
     }
    },
    "54c81bd375d14af78fed575eb3be35f9": {
     "model_module": "@jupyter-widgets/base",
     "model_module_version": "1.2.0",
     "model_name": "LayoutModel",
     "state": {
      "_model_module": "@jupyter-widgets/base",
      "_model_module_version": "1.2.0",
      "_model_name": "LayoutModel",
      "_view_count": null,
      "_view_module": "@jupyter-widgets/base",
      "_view_module_version": "1.2.0",
      "_view_name": "LayoutView",
      "align_content": null,
      "align_items": null,
      "align_self": null,
      "border": null,
      "bottom": null,
      "display": null,
      "flex": null,
      "flex_flow": null,
      "grid_area": null,
      "grid_auto_columns": null,
      "grid_auto_flow": null,
      "grid_auto_rows": null,
      "grid_column": null,
      "grid_gap": null,
      "grid_row": null,
      "grid_template_areas": null,
      "grid_template_columns": null,
      "grid_template_rows": null,
      "height": null,
      "justify_content": null,
      "justify_items": null,
      "left": null,
      "margin": null,
      "max_height": null,
      "max_width": null,
      "min_height": null,
      "min_width": null,
      "object_fit": null,
      "object_position": null,
      "order": null,
      "overflow": null,
      "overflow_x": null,
      "overflow_y": null,
      "padding": null,
      "right": null,
      "top": null,
      "visibility": null,
      "width": null
     }
    },
    "5502acdb18ab4ceba937e61faed74110": {
     "model_module": "@jupyter-widgets/controls",
     "model_module_version": "1.5.0",
     "model_name": "ProgressStyleModel",
     "state": {
      "_model_module": "@jupyter-widgets/controls",
      "_model_module_version": "1.5.0",
      "_model_name": "ProgressStyleModel",
      "_view_count": null,
      "_view_module": "@jupyter-widgets/base",
      "_view_module_version": "1.2.0",
      "_view_name": "StyleView",
      "bar_color": null,
      "description_width": ""
     }
    },
    "55de3b80708a468dba87332a8414c256": {
     "model_module": "@jupyter-widgets/controls",
     "model_module_version": "1.5.0",
     "model_name": "HTMLModel",
     "state": {
      "_dom_classes": [],
      "_model_module": "@jupyter-widgets/controls",
      "_model_module_version": "1.5.0",
      "_model_name": "HTMLModel",
      "_view_count": null,
      "_view_module": "@jupyter-widgets/controls",
      "_view_module_version": "1.5.0",
      "_view_name": "HTMLView",
      "description": "",
      "description_tooltip": null,
      "layout": "IPY_MODEL_c12c76f65fa847b39c605586d8e0554c",
      "placeholder": "​",
      "style": "IPY_MODEL_6227a2caf7f9419c8487b4214d8f1d3e",
      "value": " 7467/7467 [00:00&lt;00:00, 8870.68 examples/s]"
     }
    },
    "56e62574fbea457f861013735df1ca52": {
     "model_module": "@jupyter-widgets/controls",
     "model_module_version": "1.5.0",
     "model_name": "FloatProgressModel",
     "state": {
      "_dom_classes": [],
      "_model_module": "@jupyter-widgets/controls",
      "_model_module_version": "1.5.0",
      "_model_name": "FloatProgressModel",
      "_view_count": null,
      "_view_module": "@jupyter-widgets/controls",
      "_view_module_version": "1.5.0",
      "_view_name": "ProgressView",
      "bar_style": "success",
      "description": "",
      "description_tooltip": null,
      "layout": "IPY_MODEL_1cdcd389531746779065b8fed2d9e5d1",
      "max": 114,
      "min": 0,
      "orientation": "horizontal",
      "style": "IPY_MODEL_5502acdb18ab4ceba937e61faed74110",
      "value": 114
     }
    },
    "5703d75f4f464ac6a705b6d9553c5d9f": {
     "model_module": "@jupyter-widgets/base",
     "model_module_version": "1.2.0",
     "model_name": "LayoutModel",
     "state": {
      "_model_module": "@jupyter-widgets/base",
      "_model_module_version": "1.2.0",
      "_model_name": "LayoutModel",
      "_view_count": null,
      "_view_module": "@jupyter-widgets/base",
      "_view_module_version": "1.2.0",
      "_view_name": "LayoutView",
      "align_content": null,
      "align_items": null,
      "align_self": null,
      "border": null,
      "bottom": null,
      "display": null,
      "flex": null,
      "flex_flow": null,
      "grid_area": null,
      "grid_auto_columns": null,
      "grid_auto_flow": null,
      "grid_auto_rows": null,
      "grid_column": null,
      "grid_gap": null,
      "grid_row": null,
      "grid_template_areas": null,
      "grid_template_columns": null,
      "grid_template_rows": null,
      "height": null,
      "justify_content": null,
      "justify_items": null,
      "left": null,
      "margin": null,
      "max_height": null,
      "max_width": null,
      "min_height": null,
      "min_width": null,
      "object_fit": null,
      "object_position": null,
      "order": null,
      "overflow": null,
      "overflow_x": null,
      "overflow_y": null,
      "padding": null,
      "right": null,
      "top": null,
      "visibility": null,
      "width": null
     }
    },
    "57d88b87baef432c941f9b2dab738eb6": {
     "model_module": "@jupyter-widgets/base",
     "model_module_version": "1.2.0",
     "model_name": "LayoutModel",
     "state": {
      "_model_module": "@jupyter-widgets/base",
      "_model_module_version": "1.2.0",
      "_model_name": "LayoutModel",
      "_view_count": null,
      "_view_module": "@jupyter-widgets/base",
      "_view_module_version": "1.2.0",
      "_view_name": "LayoutView",
      "align_content": null,
      "align_items": null,
      "align_self": null,
      "border": null,
      "bottom": null,
      "display": null,
      "flex": null,
      "flex_flow": null,
      "grid_area": null,
      "grid_auto_columns": null,
      "grid_auto_flow": null,
      "grid_auto_rows": null,
      "grid_column": null,
      "grid_gap": null,
      "grid_row": null,
      "grid_template_areas": null,
      "grid_template_columns": null,
      "grid_template_rows": null,
      "height": null,
      "justify_content": null,
      "justify_items": null,
      "left": null,
      "margin": null,
      "max_height": null,
      "max_width": null,
      "min_height": null,
      "min_width": null,
      "object_fit": null,
      "object_position": null,
      "order": null,
      "overflow": null,
      "overflow_x": null,
      "overflow_y": null,
      "padding": null,
      "right": null,
      "top": null,
      "visibility": null,
      "width": null
     }
    },
    "57fbe87de0ec4e7d9872d69dbbc501d3": {
     "model_module": "@jupyter-widgets/base",
     "model_module_version": "1.2.0",
     "model_name": "LayoutModel",
     "state": {
      "_model_module": "@jupyter-widgets/base",
      "_model_module_version": "1.2.0",
      "_model_name": "LayoutModel",
      "_view_count": null,
      "_view_module": "@jupyter-widgets/base",
      "_view_module_version": "1.2.0",
      "_view_name": "LayoutView",
      "align_content": null,
      "align_items": null,
      "align_self": null,
      "border": null,
      "bottom": null,
      "display": null,
      "flex": null,
      "flex_flow": null,
      "grid_area": null,
      "grid_auto_columns": null,
      "grid_auto_flow": null,
      "grid_auto_rows": null,
      "grid_column": null,
      "grid_gap": null,
      "grid_row": null,
      "grid_template_areas": null,
      "grid_template_columns": null,
      "grid_template_rows": null,
      "height": null,
      "justify_content": null,
      "justify_items": null,
      "left": null,
      "margin": null,
      "max_height": null,
      "max_width": null,
      "min_height": null,
      "min_width": null,
      "object_fit": null,
      "object_position": null,
      "order": null,
      "overflow": null,
      "overflow_x": null,
      "overflow_y": null,
      "padding": null,
      "right": null,
      "top": null,
      "visibility": null,
      "width": null
     }
    },
    "592d4c657e854bdb910d8496cf99ce75": {
     "model_module": "@jupyter-widgets/base",
     "model_module_version": "1.2.0",
     "model_name": "LayoutModel",
     "state": {
      "_model_module": "@jupyter-widgets/base",
      "_model_module_version": "1.2.0",
      "_model_name": "LayoutModel",
      "_view_count": null,
      "_view_module": "@jupyter-widgets/base",
      "_view_module_version": "1.2.0",
      "_view_name": "LayoutView",
      "align_content": null,
      "align_items": null,
      "align_self": null,
      "border": null,
      "bottom": null,
      "display": null,
      "flex": null,
      "flex_flow": null,
      "grid_area": null,
      "grid_auto_columns": null,
      "grid_auto_flow": null,
      "grid_auto_rows": null,
      "grid_column": null,
      "grid_gap": null,
      "grid_row": null,
      "grid_template_areas": null,
      "grid_template_columns": null,
      "grid_template_rows": null,
      "height": null,
      "justify_content": null,
      "justify_items": null,
      "left": null,
      "margin": null,
      "max_height": null,
      "max_width": null,
      "min_height": null,
      "min_width": null,
      "object_fit": null,
      "object_position": null,
      "order": null,
      "overflow": null,
      "overflow_x": null,
      "overflow_y": null,
      "padding": null,
      "right": null,
      "top": null,
      "visibility": null,
      "width": null
     }
    },
    "593e9733688844a9a2382c5fc5a3c2a4": {
     "model_module": "@jupyter-widgets/controls",
     "model_module_version": "1.5.0",
     "model_name": "HTMLModel",
     "state": {
      "_dom_classes": [],
      "_model_module": "@jupyter-widgets/controls",
      "_model_module_version": "1.5.0",
      "_model_name": "HTMLModel",
      "_view_count": null,
      "_view_module": "@jupyter-widgets/controls",
      "_view_module_version": "1.5.0",
      "_view_name": "HTMLView",
      "description": "",
      "description_tooltip": null,
      "layout": "IPY_MODEL_803032ff61dc448898945f1ac0bffb03",
      "placeholder": "​",
      "style": "IPY_MODEL_24764b1921814573be6755e74aa9ca96",
      "value": "Loading checkpoint shards: 100%"
     }
    },
    "5ad9a2cd95f94bf4ac0e1d6d24887e9a": {
     "model_module": "@jupyter-widgets/controls",
     "model_module_version": "1.5.0",
     "model_name": "HTMLModel",
     "state": {
      "_dom_classes": [],
      "_model_module": "@jupyter-widgets/controls",
      "_model_module_version": "1.5.0",
      "_model_name": "HTMLModel",
      "_view_count": null,
      "_view_module": "@jupyter-widgets/controls",
      "_view_module_version": "1.5.0",
      "_view_name": "HTMLView",
      "description": "",
      "description_tooltip": null,
      "layout": "IPY_MODEL_1bfae7584d6045fda9ceae228e23da3f",
      "placeholder": "​",
      "style": "IPY_MODEL_712f82a7d45d4fb89cf4fb832214b8b2",
      "value": "tokenizer.json: 100%"
     }
    },
    "5b725dcf0d0b4f0289b826e977e5ffd2": {
     "model_module": "@jupyter-widgets/controls",
     "model_module_version": "1.5.0",
     "model_name": "LabelModel",
     "state": {
      "_dom_classes": [],
      "_model_module": "@jupyter-widgets/controls",
      "_model_module_version": "1.5.0",
      "_model_name": "LabelModel",
      "_view_count": null,
      "_view_module": "@jupyter-widgets/controls",
      "_view_module_version": "1.5.0",
      "_view_name": "LabelView",
      "description": "",
      "description_tooltip": null,
      "layout": "IPY_MODEL_38d22e1ac9164e3bb9aab69df1fc39c8",
      "placeholder": "​",
      "style": "IPY_MODEL_f0d7478d0a5b4744ba8529c4cf48f60f",
      "value": "Your token has been saved to /root/.cache/huggingface/token"
     }
    },
    "5c049eeeafe946e89f4795295cce97dd": {
     "model_module": "@jupyter-widgets/controls",
     "model_module_version": "1.5.0",
     "model_name": "HTMLModel",
     "state": {
      "_dom_classes": [],
      "_model_module": "@jupyter-widgets/controls",
      "_model_module_version": "1.5.0",
      "_model_name": "HTMLModel",
      "_view_count": null,
      "_view_module": "@jupyter-widgets/controls",
      "_view_module_version": "1.5.0",
      "_view_name": "HTMLView",
      "description": "",
      "description_tooltip": null,
      "layout": "IPY_MODEL_2e1e27129fcd44edb17aefa605eab1e2",
      "placeholder": "​",
      "style": "IPY_MODEL_cfc2da1def16479ab544425a32f4de3d",
      "value": " 1.96M/1.96M [00:01&lt;00:00, 1.08MB/s]"
     }
    },
    "5c1276596c034f6f96a52d28f12ece70": {
     "model_module": "@jupyter-widgets/controls",
     "model_module_version": "1.5.0",
     "model_name": "DescriptionStyleModel",
     "state": {
      "_model_module": "@jupyter-widgets/controls",
      "_model_module_version": "1.5.0",
      "_model_name": "DescriptionStyleModel",
      "_view_count": null,
      "_view_module": "@jupyter-widgets/base",
      "_view_module_version": "1.2.0",
      "_view_name": "StyleView",
      "description_width": ""
     }
    },
    "5e3a2b2d7683400c9cbf08bc71892c40": {
     "model_module": "@jupyter-widgets/controls",
     "model_module_version": "1.5.0",
     "model_name": "HTMLModel",
     "state": {
      "_dom_classes": [],
      "_model_module": "@jupyter-widgets/controls",
      "_model_module_version": "1.5.0",
      "_model_name": "HTMLModel",
      "_view_count": null,
      "_view_module": "@jupyter-widgets/controls",
      "_view_module_version": "1.5.0",
      "_view_name": "HTMLView",
      "description": "",
      "description_tooltip": null,
      "layout": "IPY_MODEL_c97411ec69bd4968879a0ec4ceb9568c",
      "placeholder": "​",
      "style": "IPY_MODEL_ed5fa673de3849cca4afbdd7e785d810",
      "value": "pytorch_model.bin: 100%"
     }
    },
    "5efb48386fc0444f98978651b4aa2c99": {
     "model_module": "@jupyter-widgets/controls",
     "model_module_version": "1.5.0",
     "model_name": "ProgressStyleModel",
     "state": {
      "_model_module": "@jupyter-widgets/controls",
      "_model_module_version": "1.5.0",
      "_model_name": "ProgressStyleModel",
      "_view_count": null,
      "_view_module": "@jupyter-widgets/base",
      "_view_module_version": "1.2.0",
      "_view_name": "StyleView",
      "bar_color": null,
      "description_width": ""
     }
    },
    "5f1df3d49d6f471dbad25e6b0b66aa8d": {
     "model_module": "@jupyter-widgets/base",
     "model_module_version": "1.2.0",
     "model_name": "LayoutModel",
     "state": {
      "_model_module": "@jupyter-widgets/base",
      "_model_module_version": "1.2.0",
      "_model_name": "LayoutModel",
      "_view_count": null,
      "_view_module": "@jupyter-widgets/base",
      "_view_module_version": "1.2.0",
      "_view_name": "LayoutView",
      "align_content": null,
      "align_items": null,
      "align_self": null,
      "border": null,
      "bottom": null,
      "display": null,
      "flex": null,
      "flex_flow": null,
      "grid_area": null,
      "grid_auto_columns": null,
      "grid_auto_flow": null,
      "grid_auto_rows": null,
      "grid_column": null,
      "grid_gap": null,
      "grid_row": null,
      "grid_template_areas": null,
      "grid_template_columns": null,
      "grid_template_rows": null,
      "height": null,
      "justify_content": null,
      "justify_items": null,
      "left": null,
      "margin": null,
      "max_height": null,
      "max_width": null,
      "min_height": null,
      "min_width": null,
      "object_fit": null,
      "object_position": null,
      "order": null,
      "overflow": null,
      "overflow_x": null,
      "overflow_y": null,
      "padding": null,
      "right": null,
      "top": null,
      "visibility": null,
      "width": null
     }
    },
    "607ec24c79164ac5b098481cd60b7441": {
     "model_module": "@jupyter-widgets/controls",
     "model_module_version": "1.5.0",
     "model_name": "HTMLModel",
     "state": {
      "_dom_classes": [],
      "_model_module": "@jupyter-widgets/controls",
      "_model_module_version": "1.5.0",
      "_model_name": "HTMLModel",
      "_view_count": null,
      "_view_module": "@jupyter-widgets/controls",
      "_view_module_version": "1.5.0",
      "_view_name": "HTMLView",
      "description": "",
      "description_tooltip": null,
      "layout": "IPY_MODEL_3956667ef5094389a7afdc83f9d3d096",
      "placeholder": "​",
      "style": "IPY_MODEL_9fd06488b35b419799cc5561a91fcdbf",
      "value": "Downloading shards: 100%"
     }
    },
    "60870a7c0f6a42508d6b42f6c0e55979": {
     "model_module": "@jupyter-widgets/controls",
     "model_module_version": "1.5.0",
     "model_name": "DescriptionStyleModel",
     "state": {
      "_model_module": "@jupyter-widgets/controls",
      "_model_module_version": "1.5.0",
      "_model_name": "DescriptionStyleModel",
      "_view_count": null,
      "_view_module": "@jupyter-widgets/base",
      "_view_module_version": "1.2.0",
      "_view_name": "StyleView",
      "description_width": ""
     }
    },
    "60b824031a374f05a54032044dab005a": {
     "model_module": "@jupyter-widgets/base",
     "model_module_version": "1.2.0",
     "model_name": "LayoutModel",
     "state": {
      "_model_module": "@jupyter-widgets/base",
      "_model_module_version": "1.2.0",
      "_model_name": "LayoutModel",
      "_view_count": null,
      "_view_module": "@jupyter-widgets/base",
      "_view_module_version": "1.2.0",
      "_view_name": "LayoutView",
      "align_content": null,
      "align_items": null,
      "align_self": null,
      "border": null,
      "bottom": null,
      "display": null,
      "flex": null,
      "flex_flow": null,
      "grid_area": null,
      "grid_auto_columns": null,
      "grid_auto_flow": null,
      "grid_auto_rows": null,
      "grid_column": null,
      "grid_gap": null,
      "grid_row": null,
      "grid_template_areas": null,
      "grid_template_columns": null,
      "grid_template_rows": null,
      "height": null,
      "justify_content": null,
      "justify_items": null,
      "left": null,
      "margin": null,
      "max_height": null,
      "max_width": null,
      "min_height": null,
      "min_width": null,
      "object_fit": null,
      "object_position": null,
      "order": null,
      "overflow": null,
      "overflow_x": null,
      "overflow_y": null,
      "padding": null,
      "right": null,
      "top": null,
      "visibility": null,
      "width": null
     }
    },
    "61cc37b0abd14509a502e62961db11fb": {
     "model_module": "@jupyter-widgets/controls",
     "model_module_version": "1.5.0",
     "model_name": "ProgressStyleModel",
     "state": {
      "_model_module": "@jupyter-widgets/controls",
      "_model_module_version": "1.5.0",
      "_model_name": "ProgressStyleModel",
      "_view_count": null,
      "_view_module": "@jupyter-widgets/base",
      "_view_module_version": "1.2.0",
      "_view_name": "StyleView",
      "bar_color": null,
      "description_width": ""
     }
    },
    "6227a2caf7f9419c8487b4214d8f1d3e": {
     "model_module": "@jupyter-widgets/controls",
     "model_module_version": "1.5.0",
     "model_name": "DescriptionStyleModel",
     "state": {
      "_model_module": "@jupyter-widgets/controls",
      "_model_module_version": "1.5.0",
      "_model_name": "DescriptionStyleModel",
      "_view_count": null,
      "_view_module": "@jupyter-widgets/base",
      "_view_module_version": "1.2.0",
      "_view_name": "StyleView",
      "description_width": ""
     }
    },
    "625da35e7fa2435aaffc07b6be032e36": {
     "model_module": "@jupyter-widgets/controls",
     "model_module_version": "1.5.0",
     "model_name": "HBoxModel",
     "state": {
      "_dom_classes": [],
      "_model_module": "@jupyter-widgets/controls",
      "_model_module_version": "1.5.0",
      "_model_name": "HBoxModel",
      "_view_count": null,
      "_view_module": "@jupyter-widgets/controls",
      "_view_module_version": "1.5.0",
      "_view_name": "HBoxView",
      "box_style": "",
      "children": [
       "IPY_MODEL_de05cc5c9fb34d0e85677e2ea36c9db9",
       "IPY_MODEL_9f61b1a572c0415f9afba7d3343959c8",
       "IPY_MODEL_bd34690748a14718ad8620c99b159a48"
      ],
      "layout": "IPY_MODEL_afc33c658893450f9b8098b5f47116b3"
     }
    },
    "626cc36d5a784bb8aab58dec2071da47": {
     "model_module": "@jupyter-widgets/controls",
     "model_module_version": "1.5.0",
     "model_name": "DescriptionStyleModel",
     "state": {
      "_model_module": "@jupyter-widgets/controls",
      "_model_module_version": "1.5.0",
      "_model_name": "DescriptionStyleModel",
      "_view_count": null,
      "_view_module": "@jupyter-widgets/base",
      "_view_module_version": "1.2.0",
      "_view_name": "StyleView",
      "description_width": ""
     }
    },
    "62f64eed00fe489f9f1eb2a0aa484ec5": {
     "model_module": "@jupyter-widgets/base",
     "model_module_version": "1.2.0",
     "model_name": "LayoutModel",
     "state": {
      "_model_module": "@jupyter-widgets/base",
      "_model_module_version": "1.2.0",
      "_model_name": "LayoutModel",
      "_view_count": null,
      "_view_module": "@jupyter-widgets/base",
      "_view_module_version": "1.2.0",
      "_view_name": "LayoutView",
      "align_content": null,
      "align_items": null,
      "align_self": null,
      "border": null,
      "bottom": null,
      "display": null,
      "flex": null,
      "flex_flow": null,
      "grid_area": null,
      "grid_auto_columns": null,
      "grid_auto_flow": null,
      "grid_auto_rows": null,
      "grid_column": null,
      "grid_gap": null,
      "grid_row": null,
      "grid_template_areas": null,
      "grid_template_columns": null,
      "grid_template_rows": null,
      "height": null,
      "justify_content": null,
      "justify_items": null,
      "left": null,
      "margin": null,
      "max_height": null,
      "max_width": null,
      "min_height": null,
      "min_width": null,
      "object_fit": null,
      "object_position": null,
      "order": null,
      "overflow": null,
      "overflow_x": null,
      "overflow_y": null,
      "padding": null,
      "right": null,
      "top": null,
      "visibility": null,
      "width": null
     }
    },
    "643b90e54e89488f889034691bf10a41": {
     "model_module": "@jupyter-widgets/base",
     "model_module_version": "1.2.0",
     "model_name": "LayoutModel",
     "state": {
      "_model_module": "@jupyter-widgets/base",
      "_model_module_version": "1.2.0",
      "_model_name": "LayoutModel",
      "_view_count": null,
      "_view_module": "@jupyter-widgets/base",
      "_view_module_version": "1.2.0",
      "_view_name": "LayoutView",
      "align_content": null,
      "align_items": null,
      "align_self": null,
      "border": null,
      "bottom": null,
      "display": null,
      "flex": null,
      "flex_flow": null,
      "grid_area": null,
      "grid_auto_columns": null,
      "grid_auto_flow": null,
      "grid_auto_rows": null,
      "grid_column": null,
      "grid_gap": null,
      "grid_row": null,
      "grid_template_areas": null,
      "grid_template_columns": null,
      "grid_template_rows": null,
      "height": null,
      "justify_content": null,
      "justify_items": null,
      "left": null,
      "margin": null,
      "max_height": null,
      "max_width": null,
      "min_height": null,
      "min_width": null,
      "object_fit": null,
      "object_position": null,
      "order": null,
      "overflow": null,
      "overflow_x": null,
      "overflow_y": null,
      "padding": null,
      "right": null,
      "top": null,
      "visibility": null,
      "width": null
     }
    },
    "64fc4d66d6614a89b400077c5bf353f4": {
     "model_module": "@jupyter-widgets/controls",
     "model_module_version": "1.5.0",
     "model_name": "DescriptionStyleModel",
     "state": {
      "_model_module": "@jupyter-widgets/controls",
      "_model_module_version": "1.5.0",
      "_model_name": "DescriptionStyleModel",
      "_view_count": null,
      "_view_module": "@jupyter-widgets/base",
      "_view_module_version": "1.2.0",
      "_view_name": "StyleView",
      "description_width": ""
     }
    },
    "654fabd62d9c4a7c82cb0b1dda9f5891": {
     "model_module": "@jupyter-widgets/controls",
     "model_module_version": "1.5.0",
     "model_name": "HTMLModel",
     "state": {
      "_dom_classes": [],
      "_model_module": "@jupyter-widgets/controls",
      "_model_module_version": "1.5.0",
      "_model_name": "HTMLModel",
      "_view_count": null,
      "_view_module": "@jupyter-widgets/controls",
      "_view_module_version": "1.5.0",
      "_view_name": "HTMLView",
      "description": "",
      "description_tooltip": null,
      "layout": "IPY_MODEL_54c81bd375d14af78fed575eb3be35f9",
      "placeholder": "​",
      "style": "IPY_MODEL_51759563c6ce4d44a11ab52ca2853c20",
      "value": " 53.0/53.0 [00:00&lt;00:00, 1.31kB/s]"
     }
    },
    "65b9084e8c394c3da7aebe8fd76a45e2": {
     "model_module": "@jupyter-widgets/base",
     "model_module_version": "1.2.0",
     "model_name": "LayoutModel",
     "state": {
      "_model_module": "@jupyter-widgets/base",
      "_model_module_version": "1.2.0",
      "_model_name": "LayoutModel",
      "_view_count": null,
      "_view_module": "@jupyter-widgets/base",
      "_view_module_version": "1.2.0",
      "_view_name": "LayoutView",
      "align_content": null,
      "align_items": null,
      "align_self": null,
      "border": null,
      "bottom": null,
      "display": null,
      "flex": null,
      "flex_flow": null,
      "grid_area": null,
      "grid_auto_columns": null,
      "grid_auto_flow": null,
      "grid_auto_rows": null,
      "grid_column": null,
      "grid_gap": null,
      "grid_row": null,
      "grid_template_areas": null,
      "grid_template_columns": null,
      "grid_template_rows": null,
      "height": null,
      "justify_content": null,
      "justify_items": null,
      "left": null,
      "margin": null,
      "max_height": null,
      "max_width": null,
      "min_height": null,
      "min_width": null,
      "object_fit": null,
      "object_position": null,
      "order": null,
      "overflow": null,
      "overflow_x": null,
      "overflow_y": null,
      "padding": null,
      "right": null,
      "top": null,
      "visibility": null,
      "width": null
     }
    },
    "670b568d7dfb48c5b21653c585be7b66": {
     "model_module": "@jupyter-widgets/controls",
     "model_module_version": "1.5.0",
     "model_name": "DescriptionStyleModel",
     "state": {
      "_model_module": "@jupyter-widgets/controls",
      "_model_module_version": "1.5.0",
      "_model_name": "DescriptionStyleModel",
      "_view_count": null,
      "_view_module": "@jupyter-widgets/base",
      "_view_module_version": "1.2.0",
      "_view_name": "StyleView",
      "description_width": ""
     }
    },
    "6756a38a52d04a53bfbfd8615770e5d6": {
     "model_module": "@jupyter-widgets/controls",
     "model_module_version": "1.5.0",
     "model_name": "HTMLModel",
     "state": {
      "_dom_classes": [],
      "_model_module": "@jupyter-widgets/controls",
      "_model_module_version": "1.5.0",
      "_model_name": "HTMLModel",
      "_view_count": null,
      "_view_module": "@jupyter-widgets/controls",
      "_view_module_version": "1.5.0",
      "_view_name": "HTMLView",
      "description": "",
      "description_tooltip": null,
      "layout": "IPY_MODEL_831921511e7e41558d12276a1d0c3e4b",
      "placeholder": "​",
      "style": "IPY_MODEL_499c68f8c07a4b11871e2d7d425c9de7",
      "value": " 5/5 [00:14&lt;00:00,  2.55s/it]"
     }
    },
    "680f79a2c7174de8b211eb8e6672f49c": {
     "model_module": "@jupyter-widgets/controls",
     "model_module_version": "1.5.0",
     "model_name": "HTMLModel",
     "state": {
      "_dom_classes": [],
      "_model_module": "@jupyter-widgets/controls",
      "_model_module_version": "1.5.0",
      "_model_name": "HTMLModel",
      "_view_count": null,
      "_view_module": "@jupyter-widgets/controls",
      "_view_module_version": "1.5.0",
      "_view_name": "HTMLView",
      "description": "",
      "description_tooltip": null,
      "layout": "IPY_MODEL_baf235bf303a4bb4849b676c3db1f910",
      "placeholder": "​",
      "style": "IPY_MODEL_6e6c86459c314520abebdb9652166c0b",
      "value": "special_tokens_map.json: 100%"
     }
    },
    "6842992eebb947839f14165a5440c7d0": {
     "model_module": "@jupyter-widgets/controls",
     "model_module_version": "1.5.0",
     "model_name": "HTMLModel",
     "state": {
      "_dom_classes": [],
      "_model_module": "@jupyter-widgets/controls",
      "_model_module_version": "1.5.0",
      "_model_name": "HTMLModel",
      "_view_count": null,
      "_view_module": "@jupyter-widgets/controls",
      "_view_module_version": "1.5.0",
      "_view_name": "HTMLView",
      "description": "",
      "description_tooltip": null,
      "layout": "IPY_MODEL_51b93cc12034422da97e70b0ed953ae7",
      "placeholder": "​",
      "style": "IPY_MODEL_e528bbe15b68431cb582cd27975d27ca",
      "value": "tokenizer.json: 100%"
     }
    },
    "6984f14c5f2f457eb4f847bb7a3c7633": {
     "model_module": "@jupyter-widgets/base",
     "model_module_version": "1.2.0",
     "model_name": "LayoutModel",
     "state": {
      "_model_module": "@jupyter-widgets/base",
      "_model_module_version": "1.2.0",
      "_model_name": "LayoutModel",
      "_view_count": null,
      "_view_module": "@jupyter-widgets/base",
      "_view_module_version": "1.2.0",
      "_view_name": "LayoutView",
      "align_content": null,
      "align_items": null,
      "align_self": null,
      "border": null,
      "bottom": null,
      "display": null,
      "flex": null,
      "flex_flow": null,
      "grid_area": null,
      "grid_auto_columns": null,
      "grid_auto_flow": null,
      "grid_auto_rows": null,
      "grid_column": null,
      "grid_gap": null,
      "grid_row": null,
      "grid_template_areas": null,
      "grid_template_columns": null,
      "grid_template_rows": null,
      "height": null,
      "justify_content": null,
      "justify_items": null,
      "left": null,
      "margin": null,
      "max_height": null,
      "max_width": null,
      "min_height": null,
      "min_width": null,
      "object_fit": null,
      "object_position": null,
      "order": null,
      "overflow": null,
      "overflow_x": null,
      "overflow_y": null,
      "padding": null,
      "right": null,
      "top": null,
      "visibility": null,
      "width": null
     }
    },
    "6a188d5731914a4fba16ac9b541f8b23": {
     "model_module": "@jupyter-widgets/controls",
     "model_module_version": "1.5.0",
     "model_name": "HBoxModel",
     "state": {
      "_dom_classes": [],
      "_model_module": "@jupyter-widgets/controls",
      "_model_module_version": "1.5.0",
      "_model_name": "HBoxModel",
      "_view_count": null,
      "_view_module": "@jupyter-widgets/controls",
      "_view_module_version": "1.5.0",
      "_view_name": "HBoxView",
      "box_style": "",
      "children": [
       "IPY_MODEL_680f79a2c7174de8b211eb8e6672f49c",
       "IPY_MODEL_80212ca2e2bb4a09950b0eb266dbfe59",
       "IPY_MODEL_810d081236ef4cb1b08e2bf807279968"
      ],
      "layout": "IPY_MODEL_5703d75f4f464ac6a705b6d9553c5d9f"
     }
    },
    "6b19baf8884644b898dd005caa37d732": {
     "model_module": "@jupyter-widgets/controls",
     "model_module_version": "1.5.0",
     "model_name": "HBoxModel",
     "state": {
      "_dom_classes": [],
      "_model_module": "@jupyter-widgets/controls",
      "_model_module_version": "1.5.0",
      "_model_name": "HBoxModel",
      "_view_count": null,
      "_view_module": "@jupyter-widgets/controls",
      "_view_module_version": "1.5.0",
      "_view_name": "HBoxView",
      "box_style": "",
      "children": [
       "IPY_MODEL_1135da866cd748f28507bf25c485f9c1",
       "IPY_MODEL_120467351573456f8e10a2d57a1adba8",
       "IPY_MODEL_e438c406eea54f1da912a1f1d2b1b5d0"
      ],
      "layout": "IPY_MODEL_858a8b7d981d44709724d46c6d31da96"
     }
    },
    "6bb59718a9544a7aacaef05d9e717350": {
     "model_module": "@jupyter-widgets/controls",
     "model_module_version": "1.5.0",
     "model_name": "DescriptionStyleModel",
     "state": {
      "_model_module": "@jupyter-widgets/controls",
      "_model_module_version": "1.5.0",
      "_model_name": "DescriptionStyleModel",
      "_view_count": null,
      "_view_module": "@jupyter-widgets/base",
      "_view_module_version": "1.2.0",
      "_view_name": "StyleView",
      "description_width": ""
     }
    },
    "6c0146f14ad04cc895114aae978c2833": {
     "model_module": "@jupyter-widgets/base",
     "model_module_version": "1.2.0",
     "model_name": "LayoutModel",
     "state": {
      "_model_module": "@jupyter-widgets/base",
      "_model_module_version": "1.2.0",
      "_model_name": "LayoutModel",
      "_view_count": null,
      "_view_module": "@jupyter-widgets/base",
      "_view_module_version": "1.2.0",
      "_view_name": "LayoutView",
      "align_content": null,
      "align_items": null,
      "align_self": null,
      "border": null,
      "bottom": null,
      "display": null,
      "flex": null,
      "flex_flow": null,
      "grid_area": null,
      "grid_auto_columns": null,
      "grid_auto_flow": null,
      "grid_auto_rows": null,
      "grid_column": null,
      "grid_gap": null,
      "grid_row": null,
      "grid_template_areas": null,
      "grid_template_columns": null,
      "grid_template_rows": null,
      "height": null,
      "justify_content": null,
      "justify_items": null,
      "left": null,
      "margin": null,
      "max_height": null,
      "max_width": null,
      "min_height": null,
      "min_width": null,
      "object_fit": null,
      "object_position": null,
      "order": null,
      "overflow": null,
      "overflow_x": null,
      "overflow_y": null,
      "padding": null,
      "right": null,
      "top": null,
      "visibility": null,
      "width": null
     }
    },
    "6cdd3b4d867843e5b41ae0224ab2c4b8": {
     "model_module": "@jupyter-widgets/controls",
     "model_module_version": "1.5.0",
     "model_name": "DescriptionStyleModel",
     "state": {
      "_model_module": "@jupyter-widgets/controls",
      "_model_module_version": "1.5.0",
      "_model_name": "DescriptionStyleModel",
      "_view_count": null,
      "_view_module": "@jupyter-widgets/base",
      "_view_module_version": "1.2.0",
      "_view_name": "StyleView",
      "description_width": ""
     }
    },
    "6d2cc867fa224454b18edaa3f8e0ec09": {
     "model_module": "@jupyter-widgets/controls",
     "model_module_version": "1.5.0",
     "model_name": "ProgressStyleModel",
     "state": {
      "_model_module": "@jupyter-widgets/controls",
      "_model_module_version": "1.5.0",
      "_model_name": "ProgressStyleModel",
      "_view_count": null,
      "_view_module": "@jupyter-widgets/base",
      "_view_module_version": "1.2.0",
      "_view_name": "StyleView",
      "bar_color": null,
      "description_width": ""
     }
    },
    "6dbbcf477d454e7098368cda1d9e961d": {
     "model_module": "@jupyter-widgets/base",
     "model_module_version": "1.2.0",
     "model_name": "LayoutModel",
     "state": {
      "_model_module": "@jupyter-widgets/base",
      "_model_module_version": "1.2.0",
      "_model_name": "LayoutModel",
      "_view_count": null,
      "_view_module": "@jupyter-widgets/base",
      "_view_module_version": "1.2.0",
      "_view_name": "LayoutView",
      "align_content": null,
      "align_items": null,
      "align_self": null,
      "border": null,
      "bottom": null,
      "display": null,
      "flex": null,
      "flex_flow": null,
      "grid_area": null,
      "grid_auto_columns": null,
      "grid_auto_flow": null,
      "grid_auto_rows": null,
      "grid_column": null,
      "grid_gap": null,
      "grid_row": null,
      "grid_template_areas": null,
      "grid_template_columns": null,
      "grid_template_rows": null,
      "height": null,
      "justify_content": null,
      "justify_items": null,
      "left": null,
      "margin": null,
      "max_height": null,
      "max_width": null,
      "min_height": null,
      "min_width": null,
      "object_fit": null,
      "object_position": null,
      "order": null,
      "overflow": null,
      "overflow_x": null,
      "overflow_y": null,
      "padding": null,
      "right": null,
      "top": null,
      "visibility": null,
      "width": null
     }
    },
    "6e202a235b77436c9000a03d0d31fda0": {
     "model_module": "@jupyter-widgets/controls",
     "model_module_version": "1.5.0",
     "model_name": "HTMLModel",
     "state": {
      "_dom_classes": [],
      "_model_module": "@jupyter-widgets/controls",
      "_model_module_version": "1.5.0",
      "_model_name": "HTMLModel",
      "_view_count": null,
      "_view_module": "@jupyter-widgets/controls",
      "_view_module_version": "1.5.0",
      "_view_name": "HTMLView",
      "description": "",
      "description_tooltip": null,
      "layout": "IPY_MODEL_8401914f728249c0b3242df80e58a8f5",
      "placeholder": "​",
      "style": "IPY_MODEL_c06b164309c349c7b4675134f3941bae",
      "value": " 35.8k/35.8k [00:00&lt;00:00, 3.18MB/s]"
     }
    },
    "6e5461c541d440e99573ae5e8ff66bc7": {
     "model_module": "@jupyter-widgets/base",
     "model_module_version": "1.2.0",
     "model_name": "LayoutModel",
     "state": {
      "_model_module": "@jupyter-widgets/base",
      "_model_module_version": "1.2.0",
      "_model_name": "LayoutModel",
      "_view_count": null,
      "_view_module": "@jupyter-widgets/base",
      "_view_module_version": "1.2.0",
      "_view_name": "LayoutView",
      "align_content": null,
      "align_items": null,
      "align_self": null,
      "border": null,
      "bottom": null,
      "display": null,
      "flex": null,
      "flex_flow": null,
      "grid_area": null,
      "grid_auto_columns": null,
      "grid_auto_flow": null,
      "grid_auto_rows": null,
      "grid_column": null,
      "grid_gap": null,
      "grid_row": null,
      "grid_template_areas": null,
      "grid_template_columns": null,
      "grid_template_rows": null,
      "height": null,
      "justify_content": null,
      "justify_items": null,
      "left": null,
      "margin": null,
      "max_height": null,
      "max_width": null,
      "min_height": null,
      "min_width": null,
      "object_fit": null,
      "object_position": null,
      "order": null,
      "overflow": null,
      "overflow_x": null,
      "overflow_y": null,
      "padding": null,
      "right": null,
      "top": null,
      "visibility": null,
      "width": null
     }
    },
    "6e6c86459c314520abebdb9652166c0b": {
     "model_module": "@jupyter-widgets/controls",
     "model_module_version": "1.5.0",
     "model_name": "DescriptionStyleModel",
     "state": {
      "_model_module": "@jupyter-widgets/controls",
      "_model_module_version": "1.5.0",
      "_model_name": "DescriptionStyleModel",
      "_view_count": null,
      "_view_module": "@jupyter-widgets/base",
      "_view_module_version": "1.2.0",
      "_view_name": "StyleView",
      "description_width": ""
     }
    },
    "6eeb982310804fb6869c990c7ce5a6cc": {
     "model_module": "@jupyter-widgets/controls",
     "model_module_version": "1.5.0",
     "model_name": "ProgressStyleModel",
     "state": {
      "_model_module": "@jupyter-widgets/controls",
      "_model_module_version": "1.5.0",
      "_model_name": "ProgressStyleModel",
      "_view_count": null,
      "_view_module": "@jupyter-widgets/base",
      "_view_module_version": "1.2.0",
      "_view_name": "StyleView",
      "bar_color": null,
      "description_width": ""
     }
    },
    "7015fb7f32a5415289c6beb018f61e6c": {
     "model_module": "@jupyter-widgets/controls",
     "model_module_version": "1.5.0",
     "model_name": "ProgressStyleModel",
     "state": {
      "_model_module": "@jupyter-widgets/controls",
      "_model_module_version": "1.5.0",
      "_model_name": "ProgressStyleModel",
      "_view_count": null,
      "_view_module": "@jupyter-widgets/base",
      "_view_module_version": "1.2.0",
      "_view_name": "StyleView",
      "bar_color": null,
      "description_width": ""
     }
    },
    "712f82a7d45d4fb89cf4fb832214b8b2": {
     "model_module": "@jupyter-widgets/controls",
     "model_module_version": "1.5.0",
     "model_name": "DescriptionStyleModel",
     "state": {
      "_model_module": "@jupyter-widgets/controls",
      "_model_module_version": "1.5.0",
      "_model_name": "DescriptionStyleModel",
      "_view_count": null,
      "_view_module": "@jupyter-widgets/base",
      "_view_module_version": "1.2.0",
      "_view_name": "StyleView",
      "description_width": ""
     }
    },
    "71d2b803181c45aca50e34b73275da7e": {
     "model_module": "@jupyter-widgets/controls",
     "model_module_version": "1.5.0",
     "model_name": "FloatProgressModel",
     "state": {
      "_dom_classes": [],
      "_model_module": "@jupyter-widgets/controls",
      "_model_module_version": "1.5.0",
      "_model_name": "FloatProgressModel",
      "_view_count": null,
      "_view_module": "@jupyter-widgets/controls",
      "_view_module_version": "1.5.0",
      "_view_name": "ProgressView",
      "bar_style": "success",
      "description": "",
      "description_tooltip": null,
      "layout": "IPY_MODEL_444fb751dda04e41851d78f52f5c4b93",
      "max": 557,
      "min": 0,
      "orientation": "horizontal",
      "style": "IPY_MODEL_cfaf2e64d6884bcf9ae46e4b2d04a0e0",
      "value": 557
     }
    },
    "7307ab1753724f1ea9785d4056919c4b": {
     "model_module": "@jupyter-widgets/controls",
     "model_module_version": "1.5.0",
     "model_name": "ProgressStyleModel",
     "state": {
      "_model_module": "@jupyter-widgets/controls",
      "_model_module_version": "1.5.0",
      "_model_name": "ProgressStyleModel",
      "_view_count": null,
      "_view_module": "@jupyter-widgets/base",
      "_view_module_version": "1.2.0",
      "_view_name": "StyleView",
      "bar_color": null,
      "description_width": ""
     }
    },
    "73126f088e5a46fca9e3c8a0f398c84b": {
     "model_module": "@jupyter-widgets/controls",
     "model_module_version": "1.5.0",
     "model_name": "FloatProgressModel",
     "state": {
      "_dom_classes": [],
      "_model_module": "@jupyter-widgets/controls",
      "_model_module_version": "1.5.0",
      "_model_name": "FloatProgressModel",
      "_view_count": null,
      "_view_module": "@jupyter-widgets/controls",
      "_view_module_version": "1.5.0",
      "_view_name": "ProgressView",
      "bar_style": "success",
      "description": "",
      "description_tooltip": null,
      "layout": "IPY_MODEL_b9c3827f09364c3e8702ef26b11dffb4",
      "max": 4915916176,
      "min": 0,
      "orientation": "horizontal",
      "style": "IPY_MODEL_547c00cb6d8c4de5b7ca34e72a2cd57b",
      "value": 4915916176
     }
    },
    "746fee9d4f674a57b80747dcbdb88002": {
     "model_module": "@jupyter-widgets/controls",
     "model_module_version": "1.5.0",
     "model_name": "HTMLModel",
     "state": {
      "_dom_classes": [],
      "_model_module": "@jupyter-widgets/controls",
      "_model_module_version": "1.5.0",
      "_model_name": "HTMLModel",
      "_view_count": null,
      "_view_module": "@jupyter-widgets/controls",
      "_view_module_version": "1.5.0",
      "_view_name": "HTMLView",
      "description": "",
      "description_tooltip": null,
      "layout": "IPY_MODEL_7bc06553a01a4c33a7f61777dc94880d",
      "placeholder": "​",
      "style": "IPY_MODEL_0649385ab0ab4b58a2162fe09dcef20a",
      "value": " 557/557 [00:00&lt;00:00, 48.0kB/s]"
     }
    },
    "7572b2fa7e4a41d299c7fdaa9ffa2676": {
     "model_module": "@jupyter-widgets/controls",
     "model_module_version": "1.5.0",
     "model_name": "FloatProgressModel",
     "state": {
      "_dom_classes": [],
      "_model_module": "@jupyter-widgets/controls",
      "_model_module_version": "1.5.0",
      "_model_name": "FloatProgressModel",
      "_view_count": null,
      "_view_module": "@jupyter-widgets/controls",
      "_view_module_version": "1.5.0",
      "_view_name": "ProgressView",
      "bar_style": "success",
      "description": "",
      "description_tooltip": null,
      "layout": "IPY_MODEL_054851b3ed794fa3aab9d82182fb0fa3",
      "max": 4915916184,
      "min": 0,
      "orientation": "horizontal",
      "style": "IPY_MODEL_fb1b2bfe7d8842e3b51be1268aa96b7e",
      "value": 4915916184
     }
    },
    "7572c8ca101342e39fd95f4ef8edf80c": {
     "model_module": "@jupyter-widgets/controls",
     "model_module_version": "1.5.0",
     "model_name": "HBoxModel",
     "state": {
      "_dom_classes": [],
      "_model_module": "@jupyter-widgets/controls",
      "_model_module_version": "1.5.0",
      "_model_name": "HBoxModel",
      "_view_count": null,
      "_view_module": "@jupyter-widgets/controls",
      "_view_module_version": "1.5.0",
      "_view_name": "HBoxView",
      "box_style": "",
      "children": [
       "IPY_MODEL_c2265e146c384aa88dfc2e551456782b",
       "IPY_MODEL_15e6e4e39279433e840335f021fce030",
       "IPY_MODEL_07ba50a540994f4b89807ea7227dbe40"
      ],
      "layout": "IPY_MODEL_cd017f2120dc4242a0bc0e876e2a7e78"
     }
    },
    "77af1b5189de4667a07703efde2925f4": {
     "model_module": "@jupyter-widgets/controls",
     "model_module_version": "1.5.0",
     "model_name": "PasswordModel",
     "state": {
      "_dom_classes": [],
      "_model_module": "@jupyter-widgets/controls",
      "_model_module_version": "1.5.0",
      "_model_name": "PasswordModel",
      "_view_count": null,
      "_view_module": "@jupyter-widgets/controls",
      "_view_module_version": "1.5.0",
      "_view_name": "PasswordView",
      "continuous_update": true,
      "description": "Token:",
      "description_tooltip": null,
      "disabled": false,
      "layout": "IPY_MODEL_ced3f79819af470f88fdd8dd13691594",
      "placeholder": "​",
      "style": "IPY_MODEL_e3557f13224242b8863e0f9a07f0486e",
      "value": ""
     }
    },
    "7913b94c1b32418087797e68c6d9ed54": {
     "model_module": "@jupyter-widgets/controls",
     "model_module_version": "1.5.0",
     "model_name": "DescriptionStyleModel",
     "state": {
      "_model_module": "@jupyter-widgets/controls",
      "_model_module_version": "1.5.0",
      "_model_name": "DescriptionStyleModel",
      "_view_count": null,
      "_view_module": "@jupyter-widgets/base",
      "_view_module_version": "1.2.0",
      "_view_name": "StyleView",
      "description_width": ""
     }
    },
    "7a0e3f6f488b4c66a31333f62a39d76c": {
     "model_module": "@jupyter-widgets/base",
     "model_module_version": "1.2.0",
     "model_name": "LayoutModel",
     "state": {
      "_model_module": "@jupyter-widgets/base",
      "_model_module_version": "1.2.0",
      "_model_name": "LayoutModel",
      "_view_count": null,
      "_view_module": "@jupyter-widgets/base",
      "_view_module_version": "1.2.0",
      "_view_name": "LayoutView",
      "align_content": null,
      "align_items": null,
      "align_self": null,
      "border": null,
      "bottom": null,
      "display": null,
      "flex": null,
      "flex_flow": null,
      "grid_area": null,
      "grid_auto_columns": null,
      "grid_auto_flow": null,
      "grid_auto_rows": null,
      "grid_column": null,
      "grid_gap": null,
      "grid_row": null,
      "grid_template_areas": null,
      "grid_template_columns": null,
      "grid_template_rows": null,
      "height": null,
      "justify_content": null,
      "justify_items": null,
      "left": null,
      "margin": null,
      "max_height": null,
      "max_width": null,
      "min_height": null,
      "min_width": null,
      "object_fit": null,
      "object_position": null,
      "order": null,
      "overflow": null,
      "overflow_x": null,
      "overflow_y": null,
      "padding": null,
      "right": null,
      "top": null,
      "visibility": null,
      "width": null
     }
    },
    "7af4b6cda8ae4be6bfc546f2def9f2cf": {
     "model_module": "@jupyter-widgets/base",
     "model_module_version": "1.2.0",
     "model_name": "LayoutModel",
     "state": {
      "_model_module": "@jupyter-widgets/base",
      "_model_module_version": "1.2.0",
      "_model_name": "LayoutModel",
      "_view_count": null,
      "_view_module": "@jupyter-widgets/base",
      "_view_module_version": "1.2.0",
      "_view_name": "LayoutView",
      "align_content": null,
      "align_items": null,
      "align_self": null,
      "border": null,
      "bottom": null,
      "display": null,
      "flex": null,
      "flex_flow": null,
      "grid_area": null,
      "grid_auto_columns": null,
      "grid_auto_flow": null,
      "grid_auto_rows": null,
      "grid_column": null,
      "grid_gap": null,
      "grid_row": null,
      "grid_template_areas": null,
      "grid_template_columns": null,
      "grid_template_rows": null,
      "height": null,
      "justify_content": null,
      "justify_items": null,
      "left": null,
      "margin": null,
      "max_height": null,
      "max_width": null,
      "min_height": null,
      "min_width": null,
      "object_fit": null,
      "object_position": null,
      "order": null,
      "overflow": null,
      "overflow_x": null,
      "overflow_y": null,
      "padding": null,
      "right": null,
      "top": null,
      "visibility": null,
      "width": null
     }
    },
    "7bc06553a01a4c33a7f61777dc94880d": {
     "model_module": "@jupyter-widgets/base",
     "model_module_version": "1.2.0",
     "model_name": "LayoutModel",
     "state": {
      "_model_module": "@jupyter-widgets/base",
      "_model_module_version": "1.2.0",
      "_model_name": "LayoutModel",
      "_view_count": null,
      "_view_module": "@jupyter-widgets/base",
      "_view_module_version": "1.2.0",
      "_view_name": "LayoutView",
      "align_content": null,
      "align_items": null,
      "align_self": null,
      "border": null,
      "bottom": null,
      "display": null,
      "flex": null,
      "flex_flow": null,
      "grid_area": null,
      "grid_auto_columns": null,
      "grid_auto_flow": null,
      "grid_auto_rows": null,
      "grid_column": null,
      "grid_gap": null,
      "grid_row": null,
      "grid_template_areas": null,
      "grid_template_columns": null,
      "grid_template_rows": null,
      "height": null,
      "justify_content": null,
      "justify_items": null,
      "left": null,
      "margin": null,
      "max_height": null,
      "max_width": null,
      "min_height": null,
      "min_width": null,
      "object_fit": null,
      "object_position": null,
      "order": null,
      "overflow": null,
      "overflow_x": null,
      "overflow_y": null,
      "padding": null,
      "right": null,
      "top": null,
      "visibility": null,
      "width": null
     }
    },
    "7cf6a84069d94ba7bef11b8bf5ba4fbb": {
     "model_module": "@jupyter-widgets/controls",
     "model_module_version": "1.5.0",
     "model_name": "HTMLModel",
     "state": {
      "_dom_classes": [],
      "_model_module": "@jupyter-widgets/controls",
      "_model_module_version": "1.5.0",
      "_model_name": "HTMLModel",
      "_view_count": null,
      "_view_module": "@jupyter-widgets/controls",
      "_view_module_version": "1.5.0",
      "_view_name": "HTMLView",
      "description": "",
      "description_tooltip": null,
      "layout": "IPY_MODEL_4cf59c92a6c948bbb6bd31424b0873b8",
      "placeholder": "​",
      "style": "IPY_MODEL_cc318daf0e1845f1b0b0a499c26ef3db",
      "value": " 4.77M/4.77M [00:00&lt;00:00, 18.7MB/s]"
     }
    },
    "7df4653f301e4be084e717c2fa73c136": {
     "model_module": "@jupyter-widgets/base",
     "model_module_version": "1.2.0",
     "model_name": "LayoutModel",
     "state": {
      "_model_module": "@jupyter-widgets/base",
      "_model_module_version": "1.2.0",
      "_model_name": "LayoutModel",
      "_view_count": null,
      "_view_module": "@jupyter-widgets/base",
      "_view_module_version": "1.2.0",
      "_view_name": "LayoutView",
      "align_content": null,
      "align_items": null,
      "align_self": null,
      "border": null,
      "bottom": null,
      "display": null,
      "flex": null,
      "flex_flow": null,
      "grid_area": null,
      "grid_auto_columns": null,
      "grid_auto_flow": null,
      "grid_auto_rows": null,
      "grid_column": null,
      "grid_gap": null,
      "grid_row": null,
      "grid_template_areas": null,
      "grid_template_columns": null,
      "grid_template_rows": null,
      "height": null,
      "justify_content": null,
      "justify_items": null,
      "left": null,
      "margin": null,
      "max_height": null,
      "max_width": null,
      "min_height": null,
      "min_width": null,
      "object_fit": null,
      "object_position": null,
      "order": null,
      "overflow": null,
      "overflow_x": null,
      "overflow_y": null,
      "padding": null,
      "right": null,
      "top": null,
      "visibility": null,
      "width": null
     }
    },
    "80212ca2e2bb4a09950b0eb266dbfe59": {
     "model_module": "@jupyter-widgets/controls",
     "model_module_version": "1.5.0",
     "model_name": "FloatProgressModel",
     "state": {
      "_dom_classes": [],
      "_model_module": "@jupyter-widgets/controls",
      "_model_module_version": "1.5.0",
      "_model_name": "FloatProgressModel",
      "_view_count": null,
      "_view_module": "@jupyter-widgets/controls",
      "_view_module_version": "1.5.0",
      "_view_name": "ProgressView",
      "bar_style": "success",
      "description": "",
      "description_tooltip": null,
      "layout": "IPY_MODEL_f13528fff6634930885dd6442fcdd4b8",
      "max": 112,
      "min": 0,
      "orientation": "horizontal",
      "style": "IPY_MODEL_875fd0e275ca470f8692679db1a4928d",
      "value": 112
     }
    },
    "803032ff61dc448898945f1ac0bffb03": {
     "model_module": "@jupyter-widgets/base",
     "model_module_version": "1.2.0",
     "model_name": "LayoutModel",
     "state": {
      "_model_module": "@jupyter-widgets/base",
      "_model_module_version": "1.2.0",
      "_model_name": "LayoutModel",
      "_view_count": null,
      "_view_module": "@jupyter-widgets/base",
      "_view_module_version": "1.2.0",
      "_view_name": "LayoutView",
      "align_content": null,
      "align_items": null,
      "align_self": null,
      "border": null,
      "bottom": null,
      "display": null,
      "flex": null,
      "flex_flow": null,
      "grid_area": null,
      "grid_auto_columns": null,
      "grid_auto_flow": null,
      "grid_auto_rows": null,
      "grid_column": null,
      "grid_gap": null,
      "grid_row": null,
      "grid_template_areas": null,
      "grid_template_columns": null,
      "grid_template_rows": null,
      "height": null,
      "justify_content": null,
      "justify_items": null,
      "left": null,
      "margin": null,
      "max_height": null,
      "max_width": null,
      "min_height": null,
      "min_width": null,
      "object_fit": null,
      "object_position": null,
      "order": null,
      "overflow": null,
      "overflow_x": null,
      "overflow_y": null,
      "padding": null,
      "right": null,
      "top": null,
      "visibility": null,
      "width": null
     }
    },
    "803b39abcc534d5193e0293bf3fd7843": {
     "model_module": "@jupyter-widgets/controls",
     "model_module_version": "1.5.0",
     "model_name": "DescriptionStyleModel",
     "state": {
      "_model_module": "@jupyter-widgets/controls",
      "_model_module_version": "1.5.0",
      "_model_name": "DescriptionStyleModel",
      "_view_count": null,
      "_view_module": "@jupyter-widgets/base",
      "_view_module_version": "1.2.0",
      "_view_name": "StyleView",
      "description_width": ""
     }
    },
    "8081884816b64f82b43e99ca10074895": {
     "model_module": "@jupyter-widgets/controls",
     "model_module_version": "1.5.0",
     "model_name": "HTMLModel",
     "state": {
      "_dom_classes": [],
      "_model_module": "@jupyter-widgets/controls",
      "_model_module_version": "1.5.0",
      "_model_name": "HTMLModel",
      "_view_count": null,
      "_view_module": "@jupyter-widgets/controls",
      "_view_module_version": "1.5.0",
      "_view_name": "HTMLView",
      "description": "",
      "description_tooltip": null,
      "layout": "IPY_MODEL_6c0146f14ad04cc895114aae978c2833",
      "placeholder": "​",
      "style": "IPY_MODEL_9d3770f94cec41629b0097aa405b1080",
      "value": "config.json: 100%"
     }
    },
    "80efda9ec9ed41259394ac1dbe872ef5": {
     "model_module": "@jupyter-widgets/base",
     "model_module_version": "1.2.0",
     "model_name": "LayoutModel",
     "state": {
      "_model_module": "@jupyter-widgets/base",
      "_model_module_version": "1.2.0",
      "_model_name": "LayoutModel",
      "_view_count": null,
      "_view_module": "@jupyter-widgets/base",
      "_view_module_version": "1.2.0",
      "_view_name": "LayoutView",
      "align_content": null,
      "align_items": null,
      "align_self": null,
      "border": null,
      "bottom": null,
      "display": null,
      "flex": null,
      "flex_flow": null,
      "grid_area": null,
      "grid_auto_columns": null,
      "grid_auto_flow": null,
      "grid_auto_rows": null,
      "grid_column": null,
      "grid_gap": null,
      "grid_row": null,
      "grid_template_areas": null,
      "grid_template_columns": null,
      "grid_template_rows": null,
      "height": null,
      "justify_content": null,
      "justify_items": null,
      "left": null,
      "margin": null,
      "max_height": null,
      "max_width": null,
      "min_height": null,
      "min_width": null,
      "object_fit": null,
      "object_position": null,
      "order": null,
      "overflow": null,
      "overflow_x": null,
      "overflow_y": null,
      "padding": null,
      "right": null,
      "top": null,
      "visibility": null,
      "width": null
     }
    },
    "810d081236ef4cb1b08e2bf807279968": {
     "model_module": "@jupyter-widgets/controls",
     "model_module_version": "1.5.0",
     "model_name": "HTMLModel",
     "state": {
      "_dom_classes": [],
      "_model_module": "@jupyter-widgets/controls",
      "_model_module_version": "1.5.0",
      "_model_name": "HTMLModel",
      "_view_count": null,
      "_view_module": "@jupyter-widgets/controls",
      "_view_module_version": "1.5.0",
      "_view_name": "HTMLView",
      "description": "",
      "description_tooltip": null,
      "layout": "IPY_MODEL_7af4b6cda8ae4be6bfc546f2def9f2cf",
      "placeholder": "​",
      "style": "IPY_MODEL_247c47e59890473da3caf2d4d39e4d0e",
      "value": " 112/112 [00:00&lt;00:00, 8.96kB/s]"
     }
    },
    "825bd0471c834638936d6a0ba2e93b73": {
     "model_module": "@jupyter-widgets/controls",
     "model_module_version": "1.5.0",
     "model_name": "FloatProgressModel",
     "state": {
      "_dom_classes": [],
      "_model_module": "@jupyter-widgets/controls",
      "_model_module_version": "1.5.0",
      "_model_name": "FloatProgressModel",
      "_view_count": null,
      "_view_module": "@jupyter-widgets/controls",
      "_view_module_version": "1.5.0",
      "_view_name": "ProgressView",
      "bar_style": "success",
      "description": "",
      "description_tooltip": null,
      "layout": "IPY_MODEL_89487c383f8b47d39ac6c3a4ece78abe",
      "max": 1575975,
      "min": 0,
      "orientation": "horizontal",
      "style": "IPY_MODEL_7015fb7f32a5415289c6beb018f61e6c",
      "value": 1575975
     }
    },
    "830ae4c480304cc3bba1721d5d5e315d": {
     "model_module": "@jupyter-widgets/controls",
     "model_module_version": "1.5.0",
     "model_name": "FloatProgressModel",
     "state": {
      "_dom_classes": [],
      "_model_module": "@jupyter-widgets/controls",
      "_model_module_version": "1.5.0",
      "_model_name": "FloatProgressModel",
      "_view_count": null,
      "_view_module": "@jupyter-widgets/controls",
      "_view_module_version": "1.5.0",
      "_view_name": "ProgressView",
      "bar_style": "success",
      "description": "",
      "description_tooltip": null,
      "layout": "IPY_MODEL_d7b318929220449096c7b7c24e5ebea9",
      "max": 341,
      "min": 0,
      "orientation": "horizontal",
      "style": "IPY_MODEL_61cc37b0abd14509a502e62961db11fb",
      "value": 341
     }
    },
    "831921511e7e41558d12276a1d0c3e4b": {
     "model_module": "@jupyter-widgets/base",
     "model_module_version": "1.2.0",
     "model_name": "LayoutModel",
     "state": {
      "_model_module": "@jupyter-widgets/base",
      "_model_module_version": "1.2.0",
      "_model_name": "LayoutModel",
      "_view_count": null,
      "_view_module": "@jupyter-widgets/base",
      "_view_module_version": "1.2.0",
      "_view_name": "LayoutView",
      "align_content": null,
      "align_items": null,
      "align_self": null,
      "border": null,
      "bottom": null,
      "display": null,
      "flex": null,
      "flex_flow": null,
      "grid_area": null,
      "grid_auto_columns": null,
      "grid_auto_flow": null,
      "grid_auto_rows": null,
      "grid_column": null,
      "grid_gap": null,
      "grid_row": null,
      "grid_template_areas": null,
      "grid_template_columns": null,
      "grid_template_rows": null,
      "height": null,
      "justify_content": null,
      "justify_items": null,
      "left": null,
      "margin": null,
      "max_height": null,
      "max_width": null,
      "min_height": null,
      "min_width": null,
      "object_fit": null,
      "object_position": null,
      "order": null,
      "overflow": null,
      "overflow_x": null,
      "overflow_y": null,
      "padding": null,
      "right": null,
      "top": null,
      "visibility": null,
      "width": null
     }
    },
    "83d293e18a52428c8b1ad143e41bf3d8": {
     "model_module": "@jupyter-widgets/controls",
     "model_module_version": "1.5.0",
     "model_name": "HTMLModel",
     "state": {
      "_dom_classes": [],
      "_model_module": "@jupyter-widgets/controls",
      "_model_module_version": "1.5.0",
      "_model_name": "HTMLModel",
      "_view_count": null,
      "_view_module": "@jupyter-widgets/controls",
      "_view_module_version": "1.5.0",
      "_view_name": "HTMLView",
      "description": "",
      "description_tooltip": null,
      "layout": "IPY_MODEL_4291d204e7c24a1ca711a994bda197e4",
      "placeholder": "​",
      "style": "IPY_MODEL_d8f9cc9f07324359b098340706d9f73d",
      "value": " 4.96G/4.96G [00:22&lt;00:00, 259MB/s]"
     }
    },
    "8401914f728249c0b3242df80e58a8f5": {
     "model_module": "@jupyter-widgets/base",
     "model_module_version": "1.2.0",
     "model_name": "LayoutModel",
     "state": {
      "_model_module": "@jupyter-widgets/base",
      "_model_module_version": "1.2.0",
      "_model_name": "LayoutModel",
      "_view_count": null,
      "_view_module": "@jupyter-widgets/base",
      "_view_module_version": "1.2.0",
      "_view_name": "LayoutView",
      "align_content": null,
      "align_items": null,
      "align_self": null,
      "border": null,
      "bottom": null,
      "display": null,
      "flex": null,
      "flex_flow": null,
      "grid_area": null,
      "grid_auto_columns": null,
      "grid_auto_flow": null,
      "grid_auto_rows": null,
      "grid_column": null,
      "grid_gap": null,
      "grid_row": null,
      "grid_template_areas": null,
      "grid_template_columns": null,
      "grid_template_rows": null,
      "height": null,
      "justify_content": null,
      "justify_items": null,
      "left": null,
      "margin": null,
      "max_height": null,
      "max_width": null,
      "min_height": null,
      "min_width": null,
      "object_fit": null,
      "object_position": null,
      "order": null,
      "overflow": null,
      "overflow_x": null,
      "overflow_y": null,
      "padding": null,
      "right": null,
      "top": null,
      "visibility": null,
      "width": null
     }
    },
    "858a8b7d981d44709724d46c6d31da96": {
     "model_module": "@jupyter-widgets/base",
     "model_module_version": "1.2.0",
     "model_name": "LayoutModel",
     "state": {
      "_model_module": "@jupyter-widgets/base",
      "_model_module_version": "1.2.0",
      "_model_name": "LayoutModel",
      "_view_count": null,
      "_view_module": "@jupyter-widgets/base",
      "_view_module_version": "1.2.0",
      "_view_name": "LayoutView",
      "align_content": null,
      "align_items": null,
      "align_self": null,
      "border": null,
      "bottom": null,
      "display": null,
      "flex": null,
      "flex_flow": null,
      "grid_area": null,
      "grid_auto_columns": null,
      "grid_auto_flow": null,
      "grid_auto_rows": null,
      "grid_column": null,
      "grid_gap": null,
      "grid_row": null,
      "grid_template_areas": null,
      "grid_template_columns": null,
      "grid_template_rows": null,
      "height": null,
      "justify_content": null,
      "justify_items": null,
      "left": null,
      "margin": null,
      "max_height": null,
      "max_width": null,
      "min_height": null,
      "min_width": null,
      "object_fit": null,
      "object_position": null,
      "order": null,
      "overflow": null,
      "overflow_x": null,
      "overflow_y": null,
      "padding": null,
      "right": null,
      "top": null,
      "visibility": null,
      "width": null
     }
    },
    "875fd0e275ca470f8692679db1a4928d": {
     "model_module": "@jupyter-widgets/controls",
     "model_module_version": "1.5.0",
     "model_name": "ProgressStyleModel",
     "state": {
      "_model_module": "@jupyter-widgets/controls",
      "_model_module_version": "1.5.0",
      "_model_name": "ProgressStyleModel",
      "_view_count": null,
      "_view_module": "@jupyter-widgets/base",
      "_view_module_version": "1.2.0",
      "_view_name": "StyleView",
      "bar_color": null,
      "description_width": ""
     }
    },
    "87c37e0df5c14857bae7c9bc37e96f07": {
     "model_module": "@jupyter-widgets/controls",
     "model_module_version": "1.5.0",
     "model_name": "FloatProgressModel",
     "state": {
      "_dom_classes": [],
      "_model_module": "@jupyter-widgets/controls",
      "_model_module_version": "1.5.0",
      "_model_name": "FloatProgressModel",
      "_view_count": null,
      "_view_module": "@jupyter-widgets/controls",
      "_view_module_version": "1.5.0",
      "_view_name": "ProgressView",
      "bar_style": "success",
      "description": "",
      "description_tooltip": null,
      "layout": "IPY_MODEL_94b7efceaacd45e09ca65e7a8f91ee40",
      "max": 4956793712,
      "min": 0,
      "orientation": "horizontal",
      "style": "IPY_MODEL_2c83f6a2e5d84185883153a58bbacc6a",
      "value": 4956793712
     }
    },
    "8878623c2620451ba72dbdb3ae27f24a": {
     "model_module": "@jupyter-widgets/base",
     "model_module_version": "1.2.0",
     "model_name": "LayoutModel",
     "state": {
      "_model_module": "@jupyter-widgets/base",
      "_model_module_version": "1.2.0",
      "_model_name": "LayoutModel",
      "_view_count": null,
      "_view_module": "@jupyter-widgets/base",
      "_view_module_version": "1.2.0",
      "_view_name": "LayoutView",
      "align_content": null,
      "align_items": null,
      "align_self": null,
      "border": null,
      "bottom": null,
      "display": null,
      "flex": null,
      "flex_flow": null,
      "grid_area": null,
      "grid_auto_columns": null,
      "grid_auto_flow": null,
      "grid_auto_rows": null,
      "grid_column": null,
      "grid_gap": null,
      "grid_row": null,
      "grid_template_areas": null,
      "grid_template_columns": null,
      "grid_template_rows": null,
      "height": null,
      "justify_content": null,
      "justify_items": null,
      "left": null,
      "margin": null,
      "max_height": null,
      "max_width": null,
      "min_height": null,
      "min_width": null,
      "object_fit": null,
      "object_position": null,
      "order": null,
      "overflow": null,
      "overflow_x": null,
      "overflow_y": null,
      "padding": null,
      "right": null,
      "top": null,
      "visibility": null,
      "width": null
     }
    },
    "89487c383f8b47d39ac6c3a4ece78abe": {
     "model_module": "@jupyter-widgets/base",
     "model_module_version": "1.2.0",
     "model_name": "LayoutModel",
     "state": {
      "_model_module": "@jupyter-widgets/base",
      "_model_module_version": "1.2.0",
      "_model_name": "LayoutModel",
      "_view_count": null,
      "_view_module": "@jupyter-widgets/base",
      "_view_module_version": "1.2.0",
      "_view_name": "LayoutView",
      "align_content": null,
      "align_items": null,
      "align_self": null,
      "border": null,
      "bottom": null,
      "display": null,
      "flex": null,
      "flex_flow": null,
      "grid_area": null,
      "grid_auto_columns": null,
      "grid_auto_flow": null,
      "grid_auto_rows": null,
      "grid_column": null,
      "grid_gap": null,
      "grid_row": null,
      "grid_template_areas": null,
      "grid_template_columns": null,
      "grid_template_rows": null,
      "height": null,
      "justify_content": null,
      "justify_items": null,
      "left": null,
      "margin": null,
      "max_height": null,
      "max_width": null,
      "min_height": null,
      "min_width": null,
      "object_fit": null,
      "object_position": null,
      "order": null,
      "overflow": null,
      "overflow_x": null,
      "overflow_y": null,
      "padding": null,
      "right": null,
      "top": null,
      "visibility": null,
      "width": null
     }
    },
    "8a1a662b7912417685e33ba2413597a1": {
     "model_module": "@jupyter-widgets/controls",
     "model_module_version": "1.5.0",
     "model_name": "HBoxModel",
     "state": {
      "_dom_classes": [],
      "_model_module": "@jupyter-widgets/controls",
      "_model_module_version": "1.5.0",
      "_model_name": "HBoxModel",
      "_view_count": null,
      "_view_module": "@jupyter-widgets/controls",
      "_view_module_version": "1.5.0",
      "_view_name": "HBoxView",
      "box_style": "",
      "children": [
       "IPY_MODEL_ac3f6ad4d7ca4f05a65ca81e430bec38",
       "IPY_MODEL_830ae4c480304cc3bba1721d5d5e315d",
       "IPY_MODEL_d7c48b99508b43c4b1efde19167cfdab"
      ],
      "layout": "IPY_MODEL_8b376e7d20ff466cb0a8bb314657985d"
     }
    },
    "8b1da1296f1d4d2895790a6b0951a31b": {
     "model_module": "@jupyter-widgets/controls",
     "model_module_version": "1.5.0",
     "model_name": "DescriptionStyleModel",
     "state": {
      "_model_module": "@jupyter-widgets/controls",
      "_model_module_version": "1.5.0",
      "_model_name": "DescriptionStyleModel",
      "_view_count": null,
      "_view_module": "@jupyter-widgets/base",
      "_view_module_version": "1.2.0",
      "_view_name": "StyleView",
      "description_width": ""
     }
    },
    "8b3579aaa4f5439b8d93d4510563360e": {
     "model_module": "@jupyter-widgets/controls",
     "model_module_version": "1.5.0",
     "model_name": "HTMLModel",
     "state": {
      "_dom_classes": [],
      "_model_module": "@jupyter-widgets/controls",
      "_model_module_version": "1.5.0",
      "_model_name": "HTMLModel",
      "_view_count": null,
      "_view_module": "@jupyter-widgets/controls",
      "_view_module_version": "1.5.0",
      "_view_name": "HTMLView",
      "description": "",
      "description_tooltip": null,
      "layout": "IPY_MODEL_2308bc937120424c8daae8c9612ab877",
      "placeholder": "​",
      "style": "IPY_MODEL_930e2dbca79441859f5bf3d8c6fc96a0",
      "value": " 122/122 [00:00&lt;00:00, 3.03kB/s]"
     }
    },
    "8b376e7d20ff466cb0a8bb314657985d": {
     "model_module": "@jupyter-widgets/base",
     "model_module_version": "1.2.0",
     "model_name": "LayoutModel",
     "state": {
      "_model_module": "@jupyter-widgets/base",
      "_model_module_version": "1.2.0",
      "_model_name": "LayoutModel",
      "_view_count": null,
      "_view_module": "@jupyter-widgets/base",
      "_view_module_version": "1.2.0",
      "_view_name": "LayoutView",
      "align_content": null,
      "align_items": null,
      "align_self": null,
      "border": null,
      "bottom": null,
      "display": null,
      "flex": null,
      "flex_flow": null,
      "grid_area": null,
      "grid_auto_columns": null,
      "grid_auto_flow": null,
      "grid_auto_rows": null,
      "grid_column": null,
      "grid_gap": null,
      "grid_row": null,
      "grid_template_areas": null,
      "grid_template_columns": null,
      "grid_template_rows": null,
      "height": null,
      "justify_content": null,
      "justify_items": null,
      "left": null,
      "margin": null,
      "max_height": null,
      "max_width": null,
      "min_height": null,
      "min_width": null,
      "object_fit": null,
      "object_position": null,
      "order": null,
      "overflow": null,
      "overflow_x": null,
      "overflow_y": null,
      "padding": null,
      "right": null,
      "top": null,
      "visibility": null,
      "width": null
     }
    },
    "8c37ea20236349c197170e00baf3ec9a": {
     "model_module": "@jupyter-widgets/base",
     "model_module_version": "1.2.0",
     "model_name": "LayoutModel",
     "state": {
      "_model_module": "@jupyter-widgets/base",
      "_model_module_version": "1.2.0",
      "_model_name": "LayoutModel",
      "_view_count": null,
      "_view_module": "@jupyter-widgets/base",
      "_view_module_version": "1.2.0",
      "_view_name": "LayoutView",
      "align_content": null,
      "align_items": null,
      "align_self": null,
      "border": null,
      "bottom": null,
      "display": null,
      "flex": null,
      "flex_flow": null,
      "grid_area": null,
      "grid_auto_columns": null,
      "grid_auto_flow": null,
      "grid_auto_rows": null,
      "grid_column": null,
      "grid_gap": null,
      "grid_row": null,
      "grid_template_areas": null,
      "grid_template_columns": null,
      "grid_template_rows": null,
      "height": null,
      "justify_content": null,
      "justify_items": null,
      "left": null,
      "margin": null,
      "max_height": null,
      "max_width": null,
      "min_height": null,
      "min_width": null,
      "object_fit": null,
      "object_position": null,
      "order": null,
      "overflow": null,
      "overflow_x": null,
      "overflow_y": null,
      "padding": null,
      "right": null,
      "top": null,
      "visibility": null,
      "width": null
     }
    },
    "8ca3aab5afcd4480acce9b620f77983d": {
     "model_module": "@jupyter-widgets/controls",
     "model_module_version": "1.5.0",
     "model_name": "FloatProgressModel",
     "state": {
      "_dom_classes": [],
      "_model_module": "@jupyter-widgets/controls",
      "_model_module_version": "1.5.0",
      "_model_name": "FloatProgressModel",
      "_view_count": null,
      "_view_module": "@jupyter-widgets/controls",
      "_view_module_version": "1.5.0",
      "_view_name": "ProgressView",
      "bar_style": "success",
      "description": "",
      "description_tooltip": null,
      "layout": "IPY_MODEL_2ca06f6f3a314650ab21954bc32d0cea",
      "max": 53,
      "min": 0,
      "orientation": "horizontal",
      "style": "IPY_MODEL_1cff00d6380c413c8b02bba8aea3876b",
      "value": 53
     }
    },
    "8e7a74ffe3cb43abaebb454a3a93c505": {
     "model_module": "@jupyter-widgets/base",
     "model_module_version": "1.2.0",
     "model_name": "LayoutModel",
     "state": {
      "_model_module": "@jupyter-widgets/base",
      "_model_module_version": "1.2.0",
      "_model_name": "LayoutModel",
      "_view_count": null,
      "_view_module": "@jupyter-widgets/base",
      "_view_module_version": "1.2.0",
      "_view_name": "LayoutView",
      "align_content": null,
      "align_items": null,
      "align_self": null,
      "border": null,
      "bottom": null,
      "display": null,
      "flex": null,
      "flex_flow": null,
      "grid_area": null,
      "grid_auto_columns": null,
      "grid_auto_flow": null,
      "grid_auto_rows": null,
      "grid_column": null,
      "grid_gap": null,
      "grid_row": null,
      "grid_template_areas": null,
      "grid_template_columns": null,
      "grid_template_rows": null,
      "height": null,
      "justify_content": null,
      "justify_items": null,
      "left": null,
      "margin": null,
      "max_height": null,
      "max_width": null,
      "min_height": null,
      "min_width": null,
      "object_fit": null,
      "object_position": null,
      "order": null,
      "overflow": null,
      "overflow_x": null,
      "overflow_y": null,
      "padding": null,
      "right": null,
      "top": null,
      "visibility": null,
      "width": null
     }
    },
    "8f83a29084a5461db2fc6050d318834d": {
     "model_module": "@jupyter-widgets/controls",
     "model_module_version": "1.5.0",
     "model_name": "HTMLModel",
     "state": {
      "_dom_classes": [],
      "_model_module": "@jupyter-widgets/controls",
      "_model_module_version": "1.5.0",
      "_model_name": "HTMLModel",
      "_view_count": null,
      "_view_module": "@jupyter-widgets/controls",
      "_view_module_version": "1.5.0",
      "_view_name": "HTMLView",
      "description": "",
      "description_tooltip": null,
      "layout": "IPY_MODEL_b0fbd3f4f67e4f769ae8c9ff07353ddc",
      "placeholder": "​",
      "style": "IPY_MODEL_0386799fc56c488d9d63f386105b037e",
      "value": " 190/190 [00:00&lt;00:00, 3.20kB/s]"
     }
    },
    "90a76d3cbbfd44f0b4dc889ee83e129e": {
     "model_module": "@jupyter-widgets/controls",
     "model_module_version": "1.5.0",
     "model_name": "DescriptionStyleModel",
     "state": {
      "_model_module": "@jupyter-widgets/controls",
      "_model_module_version": "1.5.0",
      "_model_name": "DescriptionStyleModel",
      "_view_count": null,
      "_view_module": "@jupyter-widgets/base",
      "_view_module_version": "1.2.0",
      "_view_name": "StyleView",
      "description_width": ""
     }
    },
    "9112c4cc5cba442992f7504014a5461c": {
     "model_module": "@jupyter-widgets/controls",
     "model_module_version": "1.5.0",
     "model_name": "ProgressStyleModel",
     "state": {
      "_model_module": "@jupyter-widgets/controls",
      "_model_module_version": "1.5.0",
      "_model_name": "ProgressStyleModel",
      "_view_count": null,
      "_view_module": "@jupyter-widgets/base",
      "_view_module_version": "1.2.0",
      "_view_name": "StyleView",
      "bar_color": null,
      "description_width": ""
     }
    },
    "91dda6473ced48929ecaef994e6bd20d": {
     "model_module": "@jupyter-widgets/base",
     "model_module_version": "1.2.0",
     "model_name": "LayoutModel",
     "state": {
      "_model_module": "@jupyter-widgets/base",
      "_model_module_version": "1.2.0",
      "_model_name": "LayoutModel",
      "_view_count": null,
      "_view_module": "@jupyter-widgets/base",
      "_view_module_version": "1.2.0",
      "_view_name": "LayoutView",
      "align_content": null,
      "align_items": null,
      "align_self": null,
      "border": null,
      "bottom": null,
      "display": null,
      "flex": null,
      "flex_flow": null,
      "grid_area": null,
      "grid_auto_columns": null,
      "grid_auto_flow": null,
      "grid_auto_rows": null,
      "grid_column": null,
      "grid_gap": null,
      "grid_row": null,
      "grid_template_areas": null,
      "grid_template_columns": null,
      "grid_template_rows": null,
      "height": null,
      "justify_content": null,
      "justify_items": null,
      "left": null,
      "margin": null,
      "max_height": null,
      "max_width": null,
      "min_height": null,
      "min_width": null,
      "object_fit": null,
      "object_position": null,
      "order": null,
      "overflow": null,
      "overflow_x": null,
      "overflow_y": null,
      "padding": null,
      "right": null,
      "top": null,
      "visibility": null,
      "width": null
     }
    },
    "930e2dbca79441859f5bf3d8c6fc96a0": {
     "model_module": "@jupyter-widgets/controls",
     "model_module_version": "1.5.0",
     "model_name": "DescriptionStyleModel",
     "state": {
      "_model_module": "@jupyter-widgets/controls",
      "_model_module_version": "1.5.0",
      "_model_name": "DescriptionStyleModel",
      "_view_count": null,
      "_view_module": "@jupyter-widgets/base",
      "_view_module_version": "1.2.0",
      "_view_name": "StyleView",
      "description_width": ""
     }
    },
    "936f51bc4dfe4f99a445826f2a60e064": {
     "model_module": "@jupyter-widgets/controls",
     "model_module_version": "1.5.0",
     "model_name": "FloatProgressModel",
     "state": {
      "_dom_classes": [],
      "_model_module": "@jupyter-widgets/controls",
      "_model_module_version": "1.5.0",
      "_model_name": "FloatProgressModel",
      "_view_count": null,
      "_view_module": "@jupyter-widgets/controls",
      "_view_module_version": "1.5.0",
      "_view_name": "ProgressView",
      "bar_style": "success",
      "description": "",
      "description_tooltip": null,
      "layout": "IPY_MODEL_02e2db23f6fb499aaf0810ce76500ab5",
      "max": 2813400,
      "min": 0,
      "orientation": "horizontal",
      "style": "IPY_MODEL_cfc22386809c440a99120d24765d566b",
      "value": 2813400
     }
    },
    "938a2ecb0f5d4fdc9c459c9be5fdfa37": {
     "model_module": "@jupyter-widgets/controls",
     "model_module_version": "1.5.0",
     "model_name": "HBoxModel",
     "state": {
      "_dom_classes": [],
      "_model_module": "@jupyter-widgets/controls",
      "_model_module_version": "1.5.0",
      "_model_name": "HBoxModel",
      "_view_count": null,
      "_view_module": "@jupyter-widgets/controls",
      "_view_module_version": "1.5.0",
      "_view_name": "HBoxView",
      "box_style": "",
      "children": [
       "IPY_MODEL_b18b2b1ca8ed47e6884669dc5ce51f99",
       "IPY_MODEL_f6516cdb63a34308a9a8812248cf5968",
       "IPY_MODEL_b371bb36a1bb4ac08699d493f3a4a1fc"
      ],
      "layout": "IPY_MODEL_c80aaa635df0431e877ec8f81df8ea9d"
     }
    },
    "93b1324da13047008f23b92572dbb532": {
     "model_module": "@jupyter-widgets/controls",
     "model_module_version": "1.5.0",
     "model_name": "ButtonModel",
     "state": {
      "_dom_classes": [],
      "_model_module": "@jupyter-widgets/controls",
      "_model_module_version": "1.5.0",
      "_model_name": "ButtonModel",
      "_view_count": null,
      "_view_module": "@jupyter-widgets/controls",
      "_view_module_version": "1.5.0",
      "_view_name": "ButtonView",
      "button_style": "",
      "description": "Login",
      "disabled": false,
      "icon": "",
      "layout": "IPY_MODEL_643b90e54e89488f889034691bf10a41",
      "style": "IPY_MODEL_09c3cac81abe42f7b4c64fcde9b15507",
      "tooltip": ""
     }
    },
    "93c30059d36e47b6839f0454b3a22332": {
     "model_module": "@jupyter-widgets/controls",
     "model_module_version": "1.5.0",
     "model_name": "FloatProgressModel",
     "state": {
      "_dom_classes": [],
      "_model_module": "@jupyter-widgets/controls",
      "_model_module_version": "1.5.0",
      "_model_name": "FloatProgressModel",
      "_view_count": null,
      "_view_module": "@jupyter-widgets/controls",
      "_view_module_version": "1.5.0",
      "_view_name": "ProgressView",
      "bar_style": "success",
      "description": "",
      "description_tooltip": null,
      "layout": "IPY_MODEL_8e7a74ffe3cb43abaebb454a3a93c505",
      "max": 7467,
      "min": 0,
      "orientation": "horizontal",
      "style": "IPY_MODEL_9c6d27dfe2084c238a27ac1834b190c5",
      "value": 7467
     }
    },
    "945e04bb20124db8a0a2aedcd767eeaa": {
     "model_module": "@jupyter-widgets/controls",
     "model_module_version": "1.5.0",
     "model_name": "DescriptionStyleModel",
     "state": {
      "_model_module": "@jupyter-widgets/controls",
      "_model_module_version": "1.5.0",
      "_model_name": "DescriptionStyleModel",
      "_view_count": null,
      "_view_module": "@jupyter-widgets/base",
      "_view_module_version": "1.2.0",
      "_view_name": "StyleView",
      "description_width": ""
     }
    },
    "9490290cdbe64404a9f5077a9048c54e": {
     "model_module": "@jupyter-widgets/base",
     "model_module_version": "1.2.0",
     "model_name": "LayoutModel",
     "state": {
      "_model_module": "@jupyter-widgets/base",
      "_model_module_version": "1.2.0",
      "_model_name": "LayoutModel",
      "_view_count": null,
      "_view_module": "@jupyter-widgets/base",
      "_view_module_version": "1.2.0",
      "_view_name": "LayoutView",
      "align_content": null,
      "align_items": null,
      "align_self": null,
      "border": null,
      "bottom": null,
      "display": null,
      "flex": null,
      "flex_flow": null,
      "grid_area": null,
      "grid_auto_columns": null,
      "grid_auto_flow": null,
      "grid_auto_rows": null,
      "grid_column": null,
      "grid_gap": null,
      "grid_row": null,
      "grid_template_areas": null,
      "grid_template_columns": null,
      "grid_template_rows": null,
      "height": null,
      "justify_content": null,
      "justify_items": null,
      "left": null,
      "margin": null,
      "max_height": null,
      "max_width": null,
      "min_height": null,
      "min_width": null,
      "object_fit": null,
      "object_position": null,
      "order": null,
      "overflow": null,
      "overflow_x": null,
      "overflow_y": null,
      "padding": null,
      "right": null,
      "top": null,
      "visibility": null,
      "width": null
     }
    },
    "94b7efceaacd45e09ca65e7a8f91ee40": {
     "model_module": "@jupyter-widgets/base",
     "model_module_version": "1.2.0",
     "model_name": "LayoutModel",
     "state": {
      "_model_module": "@jupyter-widgets/base",
      "_model_module_version": "1.2.0",
      "_model_name": "LayoutModel",
      "_view_count": null,
      "_view_module": "@jupyter-widgets/base",
      "_view_module_version": "1.2.0",
      "_view_name": "LayoutView",
      "align_content": null,
      "align_items": null,
      "align_self": null,
      "border": null,
      "bottom": null,
      "display": null,
      "flex": null,
      "flex_flow": null,
      "grid_area": null,
      "grid_auto_columns": null,
      "grid_auto_flow": null,
      "grid_auto_rows": null,
      "grid_column": null,
      "grid_gap": null,
      "grid_row": null,
      "grid_template_areas": null,
      "grid_template_columns": null,
      "grid_template_rows": null,
      "height": null,
      "justify_content": null,
      "justify_items": null,
      "left": null,
      "margin": null,
      "max_height": null,
      "max_width": null,
      "min_height": null,
      "min_width": null,
      "object_fit": null,
      "object_position": null,
      "order": null,
      "overflow": null,
      "overflow_x": null,
      "overflow_y": null,
      "padding": null,
      "right": null,
      "top": null,
      "visibility": null,
      "width": null
     }
    },
    "94ce8fb52ef7472596f8daf81f87613e": {
     "model_module": "@jupyter-widgets/controls",
     "model_module_version": "1.5.0",
     "model_name": "HTMLModel",
     "state": {
      "_dom_classes": [],
      "_model_module": "@jupyter-widgets/controls",
      "_model_module_version": "1.5.0",
      "_model_name": "HTMLModel",
      "_view_count": null,
      "_view_module": "@jupyter-widgets/controls",
      "_view_module_version": "1.5.0",
      "_view_name": "HTMLView",
      "description": "",
      "description_tooltip": null,
      "layout": "IPY_MODEL_6e5461c541d440e99573ae5e8ff66bc7",
      "placeholder": "​",
      "style": "IPY_MODEL_d6b9f3cfadaa4bea8581adf43cf8a740",
      "value": "config.json: 100%"
     }
    },
    "94ea140aebde485bb5d21c2151223363": {
     "model_module": "@jupyter-widgets/controls",
     "model_module_version": "1.5.0",
     "model_name": "DescriptionStyleModel",
     "state": {
      "_model_module": "@jupyter-widgets/controls",
      "_model_module_version": "1.5.0",
      "_model_name": "DescriptionStyleModel",
      "_view_count": null,
      "_view_module": "@jupyter-widgets/base",
      "_view_module_version": "1.2.0",
      "_view_name": "StyleView",
      "description_width": ""
     }
    },
    "94f4ec177b3347ed81bd723a1bf1bdef": {
     "model_module": "@jupyter-widgets/controls",
     "model_module_version": "1.5.0",
     "model_name": "ProgressStyleModel",
     "state": {
      "_model_module": "@jupyter-widgets/controls",
      "_model_module_version": "1.5.0",
      "_model_name": "ProgressStyleModel",
      "_view_count": null,
      "_view_module": "@jupyter-widgets/base",
      "_view_module_version": "1.2.0",
      "_view_name": "StyleView",
      "bar_color": null,
      "description_width": ""
     }
    },
    "954c86c66ba2465aaaff53902400288f": {
     "model_module": "@jupyter-widgets/controls",
     "model_module_version": "1.5.0",
     "model_name": "HTMLModel",
     "state": {
      "_dom_classes": [],
      "_model_module": "@jupyter-widgets/controls",
      "_model_module_version": "1.5.0",
      "_model_name": "HTMLModel",
      "_view_count": null,
      "_view_module": "@jupyter-widgets/controls",
      "_view_module_version": "1.5.0",
      "_view_name": "HTMLView",
      "description": "",
      "description_tooltip": null,
      "layout": "IPY_MODEL_65b9084e8c394c3da7aebe8fd76a45e2",
      "placeholder": "​",
      "style": "IPY_MODEL_a756263e6f8e46f39a31fd45546ca257",
      "value": "model-00001-of-00005.safetensors: 100%"
     }
    },
    "975360819f7a41199124eaa917fc93ad": {
     "model_module": "@jupyter-widgets/controls",
     "model_module_version": "1.5.0",
     "model_name": "HTMLModel",
     "state": {
      "_dom_classes": [],
      "_model_module": "@jupyter-widgets/controls",
      "_model_module_version": "1.5.0",
      "_model_name": "HTMLModel",
      "_view_count": null,
      "_view_module": "@jupyter-widgets/controls",
      "_view_module_version": "1.5.0",
      "_view_name": "HTMLView",
      "description": "",
      "description_tooltip": null,
      "layout": "IPY_MODEL_38e3f2ff1e18479eb8f16415048f4e66",
      "placeholder": "​",
      "style": "IPY_MODEL_167eae550202416ab461cb7ed79a4caf",
      "value": "model-00004-of-00005.safetensors: 100%"
     }
    },
    "987996a8493148c7a2c8ce2154028f42": {
     "model_module": "@jupyter-widgets/base",
     "model_module_version": "1.2.0",
     "model_name": "LayoutModel",
     "state": {
      "_model_module": "@jupyter-widgets/base",
      "_model_module_version": "1.2.0",
      "_model_name": "LayoutModel",
      "_view_count": null,
      "_view_module": "@jupyter-widgets/base",
      "_view_module_version": "1.2.0",
      "_view_name": "LayoutView",
      "align_content": null,
      "align_items": null,
      "align_self": null,
      "border": null,
      "bottom": null,
      "display": null,
      "flex": null,
      "flex_flow": null,
      "grid_area": null,
      "grid_auto_columns": null,
      "grid_auto_flow": null,
      "grid_auto_rows": null,
      "grid_column": null,
      "grid_gap": null,
      "grid_row": null,
      "grid_template_areas": null,
      "grid_template_columns": null,
      "grid_template_rows": null,
      "height": null,
      "justify_content": null,
      "justify_items": null,
      "left": null,
      "margin": null,
      "max_height": null,
      "max_width": null,
      "min_height": null,
      "min_width": null,
      "object_fit": null,
      "object_position": null,
      "order": null,
      "overflow": null,
      "overflow_x": null,
      "overflow_y": null,
      "padding": null,
      "right": null,
      "top": null,
      "visibility": null,
      "width": null
     }
    },
    "98d072f9a42d4dc085bab1e8b603d335": {
     "model_module": "@jupyter-widgets/controls",
     "model_module_version": "1.5.0",
     "model_name": "HBoxModel",
     "state": {
      "_dom_classes": [],
      "_model_module": "@jupyter-widgets/controls",
      "_model_module_version": "1.5.0",
      "_model_name": "HBoxModel",
      "_view_count": null,
      "_view_module": "@jupyter-widgets/controls",
      "_view_module_version": "1.5.0",
      "_view_name": "HBoxView",
      "box_style": "",
      "children": [
       "IPY_MODEL_ee4baebd3d704f7fa75fead6df1e0669",
       "IPY_MODEL_aea8f6814b87458ba9a0ea516e9f942c",
       "IPY_MODEL_3681aa7adda24874804da7d0cbde76be"
      ],
      "layout": "IPY_MODEL_b1c740fc915943fc931771fab59cb42a"
     }
    },
    "9950cad8d12447ecaa69bf2c3ce3f910": {
     "model_module": "@jupyter-widgets/controls",
     "model_module_version": "1.5.0",
     "model_name": "FloatProgressModel",
     "state": {
      "_dom_classes": [],
      "_model_module": "@jupyter-widgets/controls",
      "_model_module_version": "1.5.0",
      "_model_name": "FloatProgressModel",
      "_view_count": null,
      "_view_module": "@jupyter-widgets/controls",
      "_view_module_version": "1.5.0",
      "_view_name": "ProgressView",
      "bar_style": "success",
      "description": "",
      "description_tooltip": null,
      "layout": "IPY_MODEL_c64fe1b4b06b44da85a10b16bec3c170",
      "max": 662,
      "min": 0,
      "orientation": "horizontal",
      "style": "IPY_MODEL_a1f48f4bb6264aa48c12e688d5c29724",
      "value": 662
     }
    },
    "9c6d27dfe2084c238a27ac1834b190c5": {
     "model_module": "@jupyter-widgets/controls",
     "model_module_version": "1.5.0",
     "model_name": "ProgressStyleModel",
     "state": {
      "_model_module": "@jupyter-widgets/controls",
      "_model_module_version": "1.5.0",
      "_model_name": "ProgressStyleModel",
      "_view_count": null,
      "_view_module": "@jupyter-widgets/base",
      "_view_module_version": "1.2.0",
      "_view_name": "StyleView",
      "bar_color": null,
      "description_width": ""
     }
    },
    "9d3770f94cec41629b0097aa405b1080": {
     "model_module": "@jupyter-widgets/controls",
     "model_module_version": "1.5.0",
     "model_name": "DescriptionStyleModel",
     "state": {
      "_model_module": "@jupyter-widgets/controls",
      "_model_module_version": "1.5.0",
      "_model_name": "DescriptionStyleModel",
      "_view_count": null,
      "_view_module": "@jupyter-widgets/base",
      "_view_module_version": "1.2.0",
      "_view_name": "StyleView",
      "description_width": ""
     }
    },
    "9f61b1a572c0415f9afba7d3343959c8": {
     "model_module": "@jupyter-widgets/controls",
     "model_module_version": "1.5.0",
     "model_name": "FloatProgressModel",
     "state": {
      "_dom_classes": [],
      "_model_module": "@jupyter-widgets/controls",
      "_model_module_version": "1.5.0",
      "_model_name": "FloatProgressModel",
      "_view_count": null,
      "_view_module": "@jupyter-widgets/controls",
      "_view_module_version": "1.5.0",
      "_view_name": "ProgressView",
      "bar_style": "success",
      "description": "",
      "description_tooltip": null,
      "layout": "IPY_MODEL_f17399dd20e342498840160e943c77a9",
      "max": 452,
      "min": 0,
      "orientation": "horizontal",
      "style": "IPY_MODEL_9112c4cc5cba442992f7504014a5461c",
      "value": 452
     }
    },
    "9fd06488b35b419799cc5561a91fcdbf": {
     "model_module": "@jupyter-widgets/controls",
     "model_module_version": "1.5.0",
     "model_name": "DescriptionStyleModel",
     "state": {
      "_model_module": "@jupyter-widgets/controls",
      "_model_module_version": "1.5.0",
      "_model_name": "DescriptionStyleModel",
      "_view_count": null,
      "_view_module": "@jupyter-widgets/base",
      "_view_module_version": "1.2.0",
      "_view_name": "StyleView",
      "description_width": ""
     }
    },
    "a05cdfcb81ae491697f46e14667611d2": {
     "model_module": "@jupyter-widgets/controls",
     "model_module_version": "1.5.0",
     "model_name": "HBoxModel",
     "state": {
      "_dom_classes": [],
      "_model_module": "@jupyter-widgets/controls",
      "_model_module_version": "1.5.0",
      "_model_name": "HBoxModel",
      "_view_count": null,
      "_view_module": "@jupyter-widgets/controls",
      "_view_module_version": "1.5.0",
      "_view_name": "HBoxView",
      "box_style": "",
      "children": [
       "IPY_MODEL_5e3a2b2d7683400c9cbf08bc71892c40",
       "IPY_MODEL_825bd0471c834638936d6a0ba2e93b73",
       "IPY_MODEL_1f8dcd51c7fd4146bb3518f65c12279c"
      ],
      "layout": "IPY_MODEL_273e14717cdf423f8eb8f93da8bbeec5"
     }
    },
    "a1660565c7cb44c0a201d02a8acf29d1": {
     "model_module": "@jupyter-widgets/base",
     "model_module_version": "1.2.0",
     "model_name": "LayoutModel",
     "state": {
      "_model_module": "@jupyter-widgets/base",
      "_model_module_version": "1.2.0",
      "_model_name": "LayoutModel",
      "_view_count": null,
      "_view_module": "@jupyter-widgets/base",
      "_view_module_version": "1.2.0",
      "_view_name": "LayoutView",
      "align_content": null,
      "align_items": null,
      "align_self": null,
      "border": null,
      "bottom": null,
      "display": null,
      "flex": null,
      "flex_flow": null,
      "grid_area": null,
      "grid_auto_columns": null,
      "grid_auto_flow": null,
      "grid_auto_rows": null,
      "grid_column": null,
      "grid_gap": null,
      "grid_row": null,
      "grid_template_areas": null,
      "grid_template_columns": null,
      "grid_template_rows": null,
      "height": null,
      "justify_content": null,
      "justify_items": null,
      "left": null,
      "margin": null,
      "max_height": null,
      "max_width": null,
      "min_height": null,
      "min_width": null,
      "object_fit": null,
      "object_position": null,
      "order": null,
      "overflow": null,
      "overflow_x": null,
      "overflow_y": null,
      "padding": null,
      "right": null,
      "top": null,
      "visibility": null,
      "width": null
     }
    },
    "a1dfad50f1194b67a01d6b7c24714e64": {
     "model_module": "@jupyter-widgets/base",
     "model_module_version": "1.2.0",
     "model_name": "LayoutModel",
     "state": {
      "_model_module": "@jupyter-widgets/base",
      "_model_module_version": "1.2.0",
      "_model_name": "LayoutModel",
      "_view_count": null,
      "_view_module": "@jupyter-widgets/base",
      "_view_module_version": "1.2.0",
      "_view_name": "LayoutView",
      "align_content": null,
      "align_items": null,
      "align_self": null,
      "border": null,
      "bottom": null,
      "display": null,
      "flex": null,
      "flex_flow": null,
      "grid_area": null,
      "grid_auto_columns": null,
      "grid_auto_flow": null,
      "grid_auto_rows": null,
      "grid_column": null,
      "grid_gap": null,
      "grid_row": null,
      "grid_template_areas": null,
      "grid_template_columns": null,
      "grid_template_rows": null,
      "height": null,
      "justify_content": null,
      "justify_items": null,
      "left": null,
      "margin": null,
      "max_height": null,
      "max_width": null,
      "min_height": null,
      "min_width": null,
      "object_fit": null,
      "object_position": null,
      "order": null,
      "overflow": null,
      "overflow_x": null,
      "overflow_y": null,
      "padding": null,
      "right": null,
      "top": null,
      "visibility": null,
      "width": null
     }
    },
    "a1f48f4bb6264aa48c12e688d5c29724": {
     "model_module": "@jupyter-widgets/controls",
     "model_module_version": "1.5.0",
     "model_name": "ProgressStyleModel",
     "state": {
      "_model_module": "@jupyter-widgets/controls",
      "_model_module_version": "1.5.0",
      "_model_name": "ProgressStyleModel",
      "_view_count": null,
      "_view_module": "@jupyter-widgets/base",
      "_view_module_version": "1.2.0",
      "_view_name": "StyleView",
      "bar_color": null,
      "description_width": ""
     }
    },
    "a23c5186124d4b2cba049180d21143fe": {
     "model_module": "@jupyter-widgets/controls",
     "model_module_version": "1.5.0",
     "model_name": "DescriptionStyleModel",
     "state": {
      "_model_module": "@jupyter-widgets/controls",
      "_model_module_version": "1.5.0",
      "_model_name": "DescriptionStyleModel",
      "_view_count": null,
      "_view_module": "@jupyter-widgets/base",
      "_view_module_version": "1.2.0",
      "_view_name": "StyleView",
      "description_width": ""
     }
    },
    "a2432c8ba04e4a77a6188341c65c7496": {
     "model_module": "@jupyter-widgets/controls",
     "model_module_version": "1.5.0",
     "model_name": "FloatProgressModel",
     "state": {
      "_dom_classes": [],
      "_model_module": "@jupyter-widgets/controls",
      "_model_module_version": "1.5.0",
      "_model_name": "FloatProgressModel",
      "_view_count": null,
      "_view_module": "@jupyter-widgets/controls",
      "_view_module_version": "1.5.0",
      "_view_name": "ProgressView",
      "bar_style": "success",
      "description": "",
      "description_tooltip": null,
      "layout": "IPY_MODEL_2243fdc38de346fb96b0b1361df59360",
      "max": 5,
      "min": 0,
      "orientation": "horizontal",
      "style": "IPY_MODEL_08e4bf36fbbb42e083347341ee26cef2",
      "value": 5
     }
    },
    "a2bd3a539c7f4ff79523a455b75fdd1e": {
     "model_module": "@jupyter-widgets/base",
     "model_module_version": "1.2.0",
     "model_name": "LayoutModel",
     "state": {
      "_model_module": "@jupyter-widgets/base",
      "_model_module_version": "1.2.0",
      "_model_name": "LayoutModel",
      "_view_count": null,
      "_view_module": "@jupyter-widgets/base",
      "_view_module_version": "1.2.0",
      "_view_name": "LayoutView",
      "align_content": null,
      "align_items": null,
      "align_self": null,
      "border": null,
      "bottom": null,
      "display": null,
      "flex": null,
      "flex_flow": null,
      "grid_area": null,
      "grid_auto_columns": null,
      "grid_auto_flow": null,
      "grid_auto_rows": null,
      "grid_column": null,
      "grid_gap": null,
      "grid_row": null,
      "grid_template_areas": null,
      "grid_template_columns": null,
      "grid_template_rows": null,
      "height": null,
      "justify_content": null,
      "justify_items": null,
      "left": null,
      "margin": null,
      "max_height": null,
      "max_width": null,
      "min_height": null,
      "min_width": null,
      "object_fit": null,
      "object_position": null,
      "order": null,
      "overflow": null,
      "overflow_x": null,
      "overflow_y": null,
      "padding": null,
      "right": null,
      "top": null,
      "visibility": null,
      "width": null
     }
    },
    "a2d4cb227e9b455f803a25ac64d3dacd": {
     "model_module": "@jupyter-widgets/controls",
     "model_module_version": "1.5.0",
     "model_name": "HTMLModel",
     "state": {
      "_dom_classes": [],
      "_model_module": "@jupyter-widgets/controls",
      "_model_module_version": "1.5.0",
      "_model_name": "HTMLModel",
      "_view_count": null,
      "_view_module": "@jupyter-widgets/controls",
      "_view_module_version": "1.5.0",
      "_view_name": "HTMLView",
      "description": "",
      "description_tooltip": null,
      "layout": "IPY_MODEL_6dbbcf477d454e7098368cda1d9e961d",
      "placeholder": "​",
      "style": "IPY_MODEL_945e04bb20124db8a0a2aedcd767eeaa",
      "value": "README.md: 100%"
     }
    },
    "a4e604152d0b4c8ab889dc7df33cb8f8": {
     "model_module": "@jupyter-widgets/controls",
     "model_module_version": "1.5.0",
     "model_name": "HBoxModel",
     "state": {
      "_dom_classes": [],
      "_model_module": "@jupyter-widgets/controls",
      "_model_module_version": "1.5.0",
      "_model_name": "HBoxModel",
      "_view_count": null,
      "_view_module": "@jupyter-widgets/controls",
      "_view_module_version": "1.5.0",
      "_view_name": "HBoxView",
      "box_style": "",
      "children": [
       "IPY_MODEL_24faf3e1b1f24b148e2ece4f453c45af",
       "IPY_MODEL_93c30059d36e47b6839f0454b3a22332",
       "IPY_MODEL_55de3b80708a468dba87332a8414c256"
      ],
      "layout": "IPY_MODEL_8878623c2620451ba72dbdb3ae27f24a"
     }
    },
    "a623ea489e764cdc9f28ab033e4dba95": {
     "model_module": "@jupyter-widgets/controls",
     "model_module_version": "1.5.0",
     "model_name": "DescriptionStyleModel",
     "state": {
      "_model_module": "@jupyter-widgets/controls",
      "_model_module_version": "1.5.0",
      "_model_name": "DescriptionStyleModel",
      "_view_count": null,
      "_view_module": "@jupyter-widgets/base",
      "_view_module_version": "1.2.0",
      "_view_name": "StyleView",
      "description_width": ""
     }
    },
    "a756263e6f8e46f39a31fd45546ca257": {
     "model_module": "@jupyter-widgets/controls",
     "model_module_version": "1.5.0",
     "model_name": "DescriptionStyleModel",
     "state": {
      "_model_module": "@jupyter-widgets/controls",
      "_model_module_version": "1.5.0",
      "_model_name": "DescriptionStyleModel",
      "_view_count": null,
      "_view_module": "@jupyter-widgets/base",
      "_view_module_version": "1.2.0",
      "_view_name": "StyleView",
      "description_width": ""
     }
    },
    "a8339f7e3253434d8e01cb5efb560f3a": {
     "model_module": "@jupyter-widgets/controls",
     "model_module_version": "1.5.0",
     "model_name": "ProgressStyleModel",
     "state": {
      "_model_module": "@jupyter-widgets/controls",
      "_model_module_version": "1.5.0",
      "_model_name": "ProgressStyleModel",
      "_view_count": null,
      "_view_module": "@jupyter-widgets/base",
      "_view_module_version": "1.2.0",
      "_view_name": "StyleView",
      "bar_color": null,
      "description_width": ""
     }
    },
    "a93bc157ddec45039bdc13b6ac03bd6f": {
     "model_module": "@jupyter-widgets/controls",
     "model_module_version": "1.5.0",
     "model_name": "FloatProgressModel",
     "state": {
      "_dom_classes": [],
      "_model_module": "@jupyter-widgets/controls",
      "_model_module_version": "1.5.0",
      "_model_name": "FloatProgressModel",
      "_view_count": null,
      "_view_module": "@jupyter-widgets/controls",
      "_view_module_version": "1.5.0",
      "_view_name": "ProgressView",
      "bar_style": "success",
      "description": "",
      "description_tooltip": null,
      "layout": "IPY_MODEL_fb7cd08e1a924f909d6338acfe422836",
      "max": 122,
      "min": 0,
      "orientation": "horizontal",
      "style": "IPY_MODEL_5efb48386fc0444f98978651b4aa2c99",
      "value": 122
     }
    },
    "ac3f6ad4d7ca4f05a65ca81e430bec38": {
     "model_module": "@jupyter-widgets/controls",
     "model_module_version": "1.5.0",
     "model_name": "HTMLModel",
     "state": {
      "_dom_classes": [],
      "_model_module": "@jupyter-widgets/controls",
      "_model_module_version": "1.5.0",
      "_model_name": "HTMLModel",
      "_view_count": null,
      "_view_module": "@jupyter-widgets/controls",
      "_view_module_version": "1.5.0",
      "_view_name": "HTMLView",
      "description": "",
      "description_tooltip": null,
      "layout": "IPY_MODEL_145fa2d4486f4247b1fc47731cdb14c4",
      "placeholder": "​",
      "style": "IPY_MODEL_b3794d468928419ba34bc5bacbe3bad7",
      "value": "modules.json: 100%"
     }
    },
    "ad37a02e318e472387568ba3ef2e119a": {
     "model_module": "@jupyter-widgets/controls",
     "model_module_version": "1.5.0",
     "model_name": "ProgressStyleModel",
     "state": {
      "_model_module": "@jupyter-widgets/controls",
      "_model_module_version": "1.5.0",
      "_model_name": "ProgressStyleModel",
      "_view_count": null,
      "_view_module": "@jupyter-widgets/base",
      "_view_module_version": "1.2.0",
      "_view_name": "StyleView",
      "bar_color": null,
      "description_width": ""
     }
    },
    "aea8f6814b87458ba9a0ea516e9f942c": {
     "model_module": "@jupyter-widgets/controls",
     "model_module_version": "1.5.0",
     "model_name": "FloatProgressModel",
     "state": {
      "_dom_classes": [],
      "_model_module": "@jupyter-widgets/controls",
      "_model_module_version": "1.5.0",
      "_model_name": "FloatProgressModel",
      "_view_count": null,
      "_view_module": "@jupyter-widgets/controls",
      "_view_module_version": "1.5.0",
      "_view_name": "ProgressView",
      "bar_style": "success",
      "description": "",
      "description_tooltip": null,
      "layout": "IPY_MODEL_f2b5590b4c6341d5b89248700e441755",
      "max": 1936797416,
      "min": 0,
      "orientation": "horizontal",
      "style": "IPY_MODEL_ad37a02e318e472387568ba3ef2e119a",
      "value": 1936797416
     }
    },
    "aeb3a0074308419c9c539f5a0e4240ac": {
     "model_module": "@jupyter-widgets/base",
     "model_module_version": "1.2.0",
     "model_name": "LayoutModel",
     "state": {
      "_model_module": "@jupyter-widgets/base",
      "_model_module_version": "1.2.0",
      "_model_name": "LayoutModel",
      "_view_count": null,
      "_view_module": "@jupyter-widgets/base",
      "_view_module_version": "1.2.0",
      "_view_name": "LayoutView",
      "align_content": null,
      "align_items": null,
      "align_self": null,
      "border": null,
      "bottom": null,
      "display": null,
      "flex": null,
      "flex_flow": null,
      "grid_area": null,
      "grid_auto_columns": null,
      "grid_auto_flow": null,
      "grid_auto_rows": null,
      "grid_column": null,
      "grid_gap": null,
      "grid_row": null,
      "grid_template_areas": null,
      "grid_template_columns": null,
      "grid_template_rows": null,
      "height": null,
      "justify_content": null,
      "justify_items": null,
      "left": null,
      "margin": null,
      "max_height": null,
      "max_width": null,
      "min_height": null,
      "min_width": null,
      "object_fit": null,
      "object_position": null,
      "order": null,
      "overflow": null,
      "overflow_x": null,
      "overflow_y": null,
      "padding": null,
      "right": null,
      "top": null,
      "visibility": null,
      "width": null
     }
    },
    "af3c2e8d04b04a09bace8449d5be6e11": {
     "model_module": "@jupyter-widgets/base",
     "model_module_version": "1.2.0",
     "model_name": "LayoutModel",
     "state": {
      "_model_module": "@jupyter-widgets/base",
      "_model_module_version": "1.2.0",
      "_model_name": "LayoutModel",
      "_view_count": null,
      "_view_module": "@jupyter-widgets/base",
      "_view_module_version": "1.2.0",
      "_view_name": "LayoutView",
      "align_content": null,
      "align_items": null,
      "align_self": null,
      "border": null,
      "bottom": null,
      "display": null,
      "flex": null,
      "flex_flow": null,
      "grid_area": null,
      "grid_auto_columns": null,
      "grid_auto_flow": null,
      "grid_auto_rows": null,
      "grid_column": null,
      "grid_gap": null,
      "grid_row": null,
      "grid_template_areas": null,
      "grid_template_columns": null,
      "grid_template_rows": null,
      "height": null,
      "justify_content": null,
      "justify_items": null,
      "left": null,
      "margin": null,
      "max_height": null,
      "max_width": null,
      "min_height": null,
      "min_width": null,
      "object_fit": null,
      "object_position": null,
      "order": null,
      "overflow": null,
      "overflow_x": null,
      "overflow_y": null,
      "padding": null,
      "right": null,
      "top": null,
      "visibility": null,
      "width": null
     }
    },
    "afc33c658893450f9b8098b5f47116b3": {
     "model_module": "@jupyter-widgets/base",
     "model_module_version": "1.2.0",
     "model_name": "LayoutModel",
     "state": {
      "_model_module": "@jupyter-widgets/base",
      "_model_module_version": "1.2.0",
      "_model_name": "LayoutModel",
      "_view_count": null,
      "_view_module": "@jupyter-widgets/base",
      "_view_module_version": "1.2.0",
      "_view_name": "LayoutView",
      "align_content": null,
      "align_items": null,
      "align_self": null,
      "border": null,
      "bottom": null,
      "display": null,
      "flex": null,
      "flex_flow": null,
      "grid_area": null,
      "grid_auto_columns": null,
      "grid_auto_flow": null,
      "grid_auto_rows": null,
      "grid_column": null,
      "grid_gap": null,
      "grid_row": null,
      "grid_template_areas": null,
      "grid_template_columns": null,
      "grid_template_rows": null,
      "height": null,
      "justify_content": null,
      "justify_items": null,
      "left": null,
      "margin": null,
      "max_height": null,
      "max_width": null,
      "min_height": null,
      "min_width": null,
      "object_fit": null,
      "object_position": null,
      "order": null,
      "overflow": null,
      "overflow_x": null,
      "overflow_y": null,
      "padding": null,
      "right": null,
      "top": null,
      "visibility": null,
      "width": null
     }
    },
    "b0fbd3f4f67e4f769ae8c9ff07353ddc": {
     "model_module": "@jupyter-widgets/base",
     "model_module_version": "1.2.0",
     "model_name": "LayoutModel",
     "state": {
      "_model_module": "@jupyter-widgets/base",
      "_model_module_version": "1.2.0",
      "_model_name": "LayoutModel",
      "_view_count": null,
      "_view_module": "@jupyter-widgets/base",
      "_view_module_version": "1.2.0",
      "_view_name": "LayoutView",
      "align_content": null,
      "align_items": null,
      "align_self": null,
      "border": null,
      "bottom": null,
      "display": null,
      "flex": null,
      "flex_flow": null,
      "grid_area": null,
      "grid_auto_columns": null,
      "grid_auto_flow": null,
      "grid_auto_rows": null,
      "grid_column": null,
      "grid_gap": null,
      "grid_row": null,
      "grid_template_areas": null,
      "grid_template_columns": null,
      "grid_template_rows": null,
      "height": null,
      "justify_content": null,
      "justify_items": null,
      "left": null,
      "margin": null,
      "max_height": null,
      "max_width": null,
      "min_height": null,
      "min_width": null,
      "object_fit": null,
      "object_position": null,
      "order": null,
      "overflow": null,
      "overflow_x": null,
      "overflow_y": null,
      "padding": null,
      "right": null,
      "top": null,
      "visibility": null,
      "width": null
     }
    },
    "b18b2b1ca8ed47e6884669dc5ce51f99": {
     "model_module": "@jupyter-widgets/controls",
     "model_module_version": "1.5.0",
     "model_name": "HTMLModel",
     "state": {
      "_dom_classes": [],
      "_model_module": "@jupyter-widgets/controls",
      "_model_module_version": "1.5.0",
      "_model_name": "HTMLModel",
      "_view_count": null,
      "_view_module": "@jupyter-widgets/controls",
      "_view_module_version": "1.5.0",
      "_view_name": "HTMLView",
      "description": "",
      "description_tooltip": null,
      "layout": "IPY_MODEL_3398c40436ff4e099b3bcb0593ad2bda",
      "placeholder": "​",
      "style": "IPY_MODEL_f7bcb6cf78ae43669c26bc4d1cf10712",
      "value": "Generating train split: "
     }
    },
    "b1c740fc915943fc931771fab59cb42a": {
     "model_module": "@jupyter-widgets/base",
     "model_module_version": "1.2.0",
     "model_name": "LayoutModel",
     "state": {
      "_model_module": "@jupyter-widgets/base",
      "_model_module_version": "1.2.0",
      "_model_name": "LayoutModel",
      "_view_count": null,
      "_view_module": "@jupyter-widgets/base",
      "_view_module_version": "1.2.0",
      "_view_name": "LayoutView",
      "align_content": null,
      "align_items": null,
      "align_self": null,
      "border": null,
      "bottom": null,
      "display": null,
      "flex": null,
      "flex_flow": null,
      "grid_area": null,
      "grid_auto_columns": null,
      "grid_auto_flow": null,
      "grid_auto_rows": null,
      "grid_column": null,
      "grid_gap": null,
      "grid_row": null,
      "grid_template_areas": null,
      "grid_template_columns": null,
      "grid_template_rows": null,
      "height": null,
      "justify_content": null,
      "justify_items": null,
      "left": null,
      "margin": null,
      "max_height": null,
      "max_width": null,
      "min_height": null,
      "min_width": null,
      "object_fit": null,
      "object_position": null,
      "order": null,
      "overflow": null,
      "overflow_x": null,
      "overflow_y": null,
      "padding": null,
      "right": null,
      "top": null,
      "visibility": null,
      "width": null
     }
    },
    "b371bb36a1bb4ac08699d493f3a4a1fc": {
     "model_module": "@jupyter-widgets/controls",
     "model_module_version": "1.5.0",
     "model_name": "HTMLModel",
     "state": {
      "_dom_classes": [],
      "_model_module": "@jupyter-widgets/controls",
      "_model_module_version": "1.5.0",
      "_model_name": "HTMLModel",
      "_view_count": null,
      "_view_module": "@jupyter-widgets/controls",
      "_view_module_version": "1.5.0",
      "_view_name": "HTMLView",
      "description": "",
      "description_tooltip": null,
      "layout": "IPY_MODEL_0935ddf650ef42e18b310412bc514245",
      "placeholder": "​",
      "style": "IPY_MODEL_7913b94c1b32418087797e68c6d9ed54",
      "value": " 7467/0 [00:00&lt;00:00, 72497.38 examples/s]"
     }
    },
    "b3794d468928419ba34bc5bacbe3bad7": {
     "model_module": "@jupyter-widgets/controls",
     "model_module_version": "1.5.0",
     "model_name": "DescriptionStyleModel",
     "state": {
      "_model_module": "@jupyter-widgets/controls",
      "_model_module_version": "1.5.0",
      "_model_name": "DescriptionStyleModel",
      "_view_count": null,
      "_view_module": "@jupyter-widgets/base",
      "_view_module_version": "1.2.0",
      "_view_name": "StyleView",
      "description_width": ""
     }
    },
    "b4583f3eaf5747e28cae4e6d50033357": {
     "model_module": "@jupyter-widgets/controls",
     "model_module_version": "1.5.0",
     "model_name": "HTMLModel",
     "state": {
      "_dom_classes": [],
      "_model_module": "@jupyter-widgets/controls",
      "_model_module_version": "1.5.0",
      "_model_name": "HTMLModel",
      "_view_count": null,
      "_view_module": "@jupyter-widgets/controls",
      "_view_module_version": "1.5.0",
      "_view_name": "HTMLView",
      "description": "",
      "description_tooltip": null,
      "layout": "IPY_MODEL_beb001139eaa4ced9694fe94b4fda0c4",
      "placeholder": "​",
      "style": "IPY_MODEL_018b8d456bd84bf5b12afab28644c2f8",
      "value": "model-00003-of-00005.safetensors: 100%"
     }
    },
    "b5261aa225d64014bb4847a030a9e22f": {
     "model_module": "@jupyter-widgets/controls",
     "model_module_version": "1.5.0",
     "model_name": "HBoxModel",
     "state": {
      "_dom_classes": [],
      "_model_module": "@jupyter-widgets/controls",
      "_model_module_version": "1.5.0",
      "_model_name": "HBoxModel",
      "_view_count": null,
      "_view_module": "@jupyter-widgets/controls",
      "_view_module_version": "1.5.0",
      "_view_name": "HBoxView",
      "box_style": "",
      "children": [
       "IPY_MODEL_29380c44b0dd4a07956deee540ccc329",
       "IPY_MODEL_71d2b803181c45aca50e34b73275da7e",
       "IPY_MODEL_746fee9d4f674a57b80747dcbdb88002"
      ],
      "layout": "IPY_MODEL_91dda6473ced48929ecaef994e6bd20d"
     }
    },
    "b53520976a9f4f69af4dd1b55ca86c15": {
     "model_module": "@jupyter-widgets/controls",
     "model_module_version": "1.5.0",
     "model_name": "DescriptionStyleModel",
     "state": {
      "_model_module": "@jupyter-widgets/controls",
      "_model_module_version": "1.5.0",
      "_model_name": "DescriptionStyleModel",
      "_view_count": null,
      "_view_module": "@jupyter-widgets/base",
      "_view_module_version": "1.2.0",
      "_view_name": "StyleView",
      "description_width": ""
     }
    },
    "b6ebb153d62046a387dd01e2797b6d95": {
     "model_module": "@jupyter-widgets/controls",
     "model_module_version": "1.5.0",
     "model_name": "DescriptionStyleModel",
     "state": {
      "_model_module": "@jupyter-widgets/controls",
      "_model_module_version": "1.5.0",
      "_model_name": "DescriptionStyleModel",
      "_view_count": null,
      "_view_module": "@jupyter-widgets/base",
      "_view_module_version": "1.2.0",
      "_view_name": "StyleView",
      "description_width": ""
     }
    },
    "b6f64eb81ab041ecbe3c11f535566c99": {
     "model_module": "@jupyter-widgets/controls",
     "model_module_version": "1.5.0",
     "model_name": "DescriptionStyleModel",
     "state": {
      "_model_module": "@jupyter-widgets/controls",
      "_model_module_version": "1.5.0",
      "_model_name": "DescriptionStyleModel",
      "_view_count": null,
      "_view_module": "@jupyter-widgets/base",
      "_view_module_version": "1.2.0",
      "_view_name": "StyleView",
      "description_width": ""
     }
    },
    "b7915e97ef8a47ab8a583f128aed52ac": {
     "model_module": "@jupyter-widgets/controls",
     "model_module_version": "1.5.0",
     "model_name": "HTMLModel",
     "state": {
      "_dom_classes": [],
      "_model_module": "@jupyter-widgets/controls",
      "_model_module_version": "1.5.0",
      "_model_name": "HTMLModel",
      "_view_count": null,
      "_view_module": "@jupyter-widgets/controls",
      "_view_module_version": "1.5.0",
      "_view_name": "HTMLView",
      "description": "",
      "description_tooltip": null,
      "layout": "IPY_MODEL_2e96da535f0c428eb47d6a68ddb8e8aa",
      "placeholder": "​",
      "style": "IPY_MODEL_64fc4d66d6614a89b400077c5bf353f4",
      "value": " 5.00G/5.00G [00:23&lt;00:00, 285MB/s]"
     }
    },
    "b7c45718e11c4d10888038de927311d3": {
     "model_module": "@jupyter-widgets/controls",
     "model_module_version": "1.5.0",
     "model_name": "DescriptionStyleModel",
     "state": {
      "_model_module": "@jupyter-widgets/controls",
      "_model_module_version": "1.5.0",
      "_model_name": "DescriptionStyleModel",
      "_view_count": null,
      "_view_module": "@jupyter-widgets/base",
      "_view_module_version": "1.2.0",
      "_view_name": "StyleView",
      "description_width": ""
     }
    },
    "b8ec2ecbf1814ce395c7032e877f06ce": {
     "model_module": "@jupyter-widgets/controls",
     "model_module_version": "1.5.0",
     "model_name": "HBoxModel",
     "state": {
      "_dom_classes": [],
      "_model_module": "@jupyter-widgets/controls",
      "_model_module_version": "1.5.0",
      "_model_name": "HBoxModel",
      "_view_count": null,
      "_view_module": "@jupyter-widgets/controls",
      "_view_module_version": "1.5.0",
      "_view_name": "HBoxView",
      "box_style": "",
      "children": [
       "IPY_MODEL_b4583f3eaf5747e28cae4e6d50033357",
       "IPY_MODEL_fa7afc9a92444aa781c5d0d78c987411",
       "IPY_MODEL_b7915e97ef8a47ab8a583f128aed52ac"
      ],
      "layout": "IPY_MODEL_d88cac34c04147ba969c794850e0ffff"
     }
    },
    "b99d9496bced4cb78c9e83c0e19dc5fd": {
     "model_module": "@jupyter-widgets/controls",
     "model_module_version": "1.5.0",
     "model_name": "HBoxModel",
     "state": {
      "_dom_classes": [],
      "_model_module": "@jupyter-widgets/controls",
      "_model_module_version": "1.5.0",
      "_model_name": "HBoxModel",
      "_view_count": null,
      "_view_module": "@jupyter-widgets/controls",
      "_view_module_version": "1.5.0",
      "_view_name": "HBoxView",
      "box_style": "",
      "children": [
       "IPY_MODEL_5ad9a2cd95f94bf4ac0e1d6d24887e9a",
       "IPY_MODEL_e2d9e5d2790440d698ca9a11778d5587",
       "IPY_MODEL_5c049eeeafe946e89f4795295cce97dd"
      ],
      "layout": "IPY_MODEL_bad28cfef8fb46308604ca872641a2a8"
     }
    },
    "b9b2feabdd5e4bbb8adc5324b2406f96": {
     "model_module": "@jupyter-widgets/base",
     "model_module_version": "1.2.0",
     "model_name": "LayoutModel",
     "state": {
      "_model_module": "@jupyter-widgets/base",
      "_model_module_version": "1.2.0",
      "_model_name": "LayoutModel",
      "_view_count": null,
      "_view_module": "@jupyter-widgets/base",
      "_view_module_version": "1.2.0",
      "_view_name": "LayoutView",
      "align_content": null,
      "align_items": null,
      "align_self": null,
      "border": null,
      "bottom": null,
      "display": null,
      "flex": null,
      "flex_flow": null,
      "grid_area": null,
      "grid_auto_columns": null,
      "grid_auto_flow": null,
      "grid_auto_rows": null,
      "grid_column": null,
      "grid_gap": null,
      "grid_row": null,
      "grid_template_areas": null,
      "grid_template_columns": null,
      "grid_template_rows": null,
      "height": null,
      "justify_content": null,
      "justify_items": null,
      "left": null,
      "margin": null,
      "max_height": null,
      "max_width": null,
      "min_height": null,
      "min_width": null,
      "object_fit": null,
      "object_position": null,
      "order": null,
      "overflow": null,
      "overflow_x": null,
      "overflow_y": null,
      "padding": null,
      "right": null,
      "top": null,
      "visibility": null,
      "width": null
     }
    },
    "b9c3827f09364c3e8702ef26b11dffb4": {
     "model_module": "@jupyter-widgets/base",
     "model_module_version": "1.2.0",
     "model_name": "LayoutModel",
     "state": {
      "_model_module": "@jupyter-widgets/base",
      "_model_module_version": "1.2.0",
      "_model_name": "LayoutModel",
      "_view_count": null,
      "_view_module": "@jupyter-widgets/base",
      "_view_module_version": "1.2.0",
      "_view_name": "LayoutView",
      "align_content": null,
      "align_items": null,
      "align_self": null,
      "border": null,
      "bottom": null,
      "display": null,
      "flex": null,
      "flex_flow": null,
      "grid_area": null,
      "grid_auto_columns": null,
      "grid_auto_flow": null,
      "grid_auto_rows": null,
      "grid_column": null,
      "grid_gap": null,
      "grid_row": null,
      "grid_template_areas": null,
      "grid_template_columns": null,
      "grid_template_rows": null,
      "height": null,
      "justify_content": null,
      "justify_items": null,
      "left": null,
      "margin": null,
      "max_height": null,
      "max_width": null,
      "min_height": null,
      "min_width": null,
      "object_fit": null,
      "object_position": null,
      "order": null,
      "overflow": null,
      "overflow_x": null,
      "overflow_y": null,
      "padding": null,
      "right": null,
      "top": null,
      "visibility": null,
      "width": null
     }
    },
    "bad28cfef8fb46308604ca872641a2a8": {
     "model_module": "@jupyter-widgets/base",
     "model_module_version": "1.2.0",
     "model_name": "LayoutModel",
     "state": {
      "_model_module": "@jupyter-widgets/base",
      "_model_module_version": "1.2.0",
      "_model_name": "LayoutModel",
      "_view_count": null,
      "_view_module": "@jupyter-widgets/base",
      "_view_module_version": "1.2.0",
      "_view_name": "LayoutView",
      "align_content": null,
      "align_items": null,
      "align_self": null,
      "border": null,
      "bottom": null,
      "display": null,
      "flex": null,
      "flex_flow": null,
      "grid_area": null,
      "grid_auto_columns": null,
      "grid_auto_flow": null,
      "grid_auto_rows": null,
      "grid_column": null,
      "grid_gap": null,
      "grid_row": null,
      "grid_template_areas": null,
      "grid_template_columns": null,
      "grid_template_rows": null,
      "height": null,
      "justify_content": null,
      "justify_items": null,
      "left": null,
      "margin": null,
      "max_height": null,
      "max_width": null,
      "min_height": null,
      "min_width": null,
      "object_fit": null,
      "object_position": null,
      "order": null,
      "overflow": null,
      "overflow_x": null,
      "overflow_y": null,
      "padding": null,
      "right": null,
      "top": null,
      "visibility": null,
      "width": null
     }
    },
    "baf235bf303a4bb4849b676c3db1f910": {
     "model_module": "@jupyter-widgets/base",
     "model_module_version": "1.2.0",
     "model_name": "LayoutModel",
     "state": {
      "_model_module": "@jupyter-widgets/base",
      "_model_module_version": "1.2.0",
      "_model_name": "LayoutModel",
      "_view_count": null,
      "_view_module": "@jupyter-widgets/base",
      "_view_module_version": "1.2.0",
      "_view_name": "LayoutView",
      "align_content": null,
      "align_items": null,
      "align_self": null,
      "border": null,
      "bottom": null,
      "display": null,
      "flex": null,
      "flex_flow": null,
      "grid_area": null,
      "grid_auto_columns": null,
      "grid_auto_flow": null,
      "grid_auto_rows": null,
      "grid_column": null,
      "grid_gap": null,
      "grid_row": null,
      "grid_template_areas": null,
      "grid_template_columns": null,
      "grid_template_rows": null,
      "height": null,
      "justify_content": null,
      "justify_items": null,
      "left": null,
      "margin": null,
      "max_height": null,
      "max_width": null,
      "min_height": null,
      "min_width": null,
      "object_fit": null,
      "object_position": null,
      "order": null,
      "overflow": null,
      "overflow_x": null,
      "overflow_y": null,
      "padding": null,
      "right": null,
      "top": null,
      "visibility": null,
      "width": null
     }
    },
    "bc7b42b118af48ff9e29bbd300f536d8": {
     "model_module": "@jupyter-widgets/controls",
     "model_module_version": "1.5.0",
     "model_name": "HTMLModel",
     "state": {
      "_dom_classes": [],
      "_model_module": "@jupyter-widgets/controls",
      "_model_module_version": "1.5.0",
      "_model_name": "HTMLModel",
      "_view_count": null,
      "_view_module": "@jupyter-widgets/controls",
      "_view_module_version": "1.5.0",
      "_view_name": "HTMLView",
      "description": "",
      "description_tooltip": null,
      "layout": "IPY_MODEL_aeb3a0074308419c9c539f5a0e4240ac",
      "placeholder": "​",
      "style": "IPY_MODEL_3a128b25cff04791bd2ae0880dc2c1c7",
      "value": "model-00002-of-00005.safetensors: 100%"
     }
    },
    "bca785201d2c4cc0b3a6b876cd76da85": {
     "model_module": "@jupyter-widgets/controls",
     "model_module_version": "1.5.0",
     "model_name": "HTMLModel",
     "state": {
      "_dom_classes": [],
      "_model_module": "@jupyter-widgets/controls",
      "_model_module_version": "1.5.0",
      "_model_name": "HTMLModel",
      "_view_count": null,
      "_view_module": "@jupyter-widgets/controls",
      "_view_module_version": "1.5.0",
      "_view_name": "HTMLView",
      "description": "",
      "description_tooltip": null,
      "layout": "IPY_MODEL_c34f9696f49f4881b3c89f16b8539dc6",
      "placeholder": "​",
      "style": "IPY_MODEL_d1705305a0ec45dfb36d982589200644",
      "value": "1_Pooling/config.json: 100%"
     }
    },
    "bcd4260895504000bfa69e00fdb5626d": {
     "model_module": "@jupyter-widgets/controls",
     "model_module_version": "1.5.0",
     "model_name": "HTMLModel",
     "state": {
      "_dom_classes": [],
      "_model_module": "@jupyter-widgets/controls",
      "_model_module_version": "1.5.0",
      "_model_name": "HTMLModel",
      "_view_count": null,
      "_view_module": "@jupyter-widgets/controls",
      "_view_module_version": "1.5.0",
      "_view_name": "HTMLView",
      "description": "",
      "description_tooltip": null,
      "layout": "IPY_MODEL_a1660565c7cb44c0a201d02a8acf29d1",
      "placeholder": "​",
      "style": "IPY_MODEL_bd54561fdd784fd0a58633b5851ff296",
      "value": " 4.92G/4.92G [00:23&lt;00:00, 287MB/s]"
     }
    },
    "bd34690748a14718ad8620c99b159a48": {
     "model_module": "@jupyter-widgets/controls",
     "model_module_version": "1.5.0",
     "model_name": "HTMLModel",
     "state": {
      "_dom_classes": [],
      "_model_module": "@jupyter-widgets/controls",
      "_model_module_version": "1.5.0",
      "_model_name": "HTMLModel",
      "_view_count": null,
      "_view_module": "@jupyter-widgets/controls",
      "_view_module_version": "1.5.0",
      "_view_name": "HTMLView",
      "description": "",
      "description_tooltip": null,
      "layout": "IPY_MODEL_12a2b3a961f946839b04927723d81ee4",
      "placeholder": "​",
      "style": "IPY_MODEL_fe042932fb3c478fb8780b0116d876a8",
      "value": " 452/452 [00:00&lt;00:00, 12.4kB/s]"
     }
    },
    "bd54561fdd784fd0a58633b5851ff296": {
     "model_module": "@jupyter-widgets/controls",
     "model_module_version": "1.5.0",
     "model_name": "DescriptionStyleModel",
     "state": {
      "_model_module": "@jupyter-widgets/controls",
      "_model_module_version": "1.5.0",
      "_model_name": "DescriptionStyleModel",
      "_view_count": null,
      "_view_module": "@jupyter-widgets/base",
      "_view_module_version": "1.2.0",
      "_view_name": "StyleView",
      "description_width": ""
     }
    },
    "be31f9b656ee46bbbf915f2f573c2814": {
     "model_module": "@jupyter-widgets/base",
     "model_module_version": "1.2.0",
     "model_name": "LayoutModel",
     "state": {
      "_model_module": "@jupyter-widgets/base",
      "_model_module_version": "1.2.0",
      "_model_name": "LayoutModel",
      "_view_count": null,
      "_view_module": "@jupyter-widgets/base",
      "_view_module_version": "1.2.0",
      "_view_name": "LayoutView",
      "align_content": null,
      "align_items": null,
      "align_self": null,
      "border": null,
      "bottom": null,
      "display": null,
      "flex": null,
      "flex_flow": null,
      "grid_area": null,
      "grid_auto_columns": null,
      "grid_auto_flow": null,
      "grid_auto_rows": null,
      "grid_column": null,
      "grid_gap": null,
      "grid_row": null,
      "grid_template_areas": null,
      "grid_template_columns": null,
      "grid_template_rows": null,
      "height": null,
      "justify_content": null,
      "justify_items": null,
      "left": null,
      "margin": null,
      "max_height": null,
      "max_width": null,
      "min_height": null,
      "min_width": null,
      "object_fit": null,
      "object_position": null,
      "order": null,
      "overflow": null,
      "overflow_x": null,
      "overflow_y": null,
      "padding": null,
      "right": null,
      "top": null,
      "visibility": null,
      "width": null
     }
    },
    "beb001139eaa4ced9694fe94b4fda0c4": {
     "model_module": "@jupyter-widgets/base",
     "model_module_version": "1.2.0",
     "model_name": "LayoutModel",
     "state": {
      "_model_module": "@jupyter-widgets/base",
      "_model_module_version": "1.2.0",
      "_model_name": "LayoutModel",
      "_view_count": null,
      "_view_module": "@jupyter-widgets/base",
      "_view_module_version": "1.2.0",
      "_view_name": "LayoutView",
      "align_content": null,
      "align_items": null,
      "align_self": null,
      "border": null,
      "bottom": null,
      "display": null,
      "flex": null,
      "flex_flow": null,
      "grid_area": null,
      "grid_auto_columns": null,
      "grid_auto_flow": null,
      "grid_auto_rows": null,
      "grid_column": null,
      "grid_gap": null,
      "grid_row": null,
      "grid_template_areas": null,
      "grid_template_columns": null,
      "grid_template_rows": null,
      "height": null,
      "justify_content": null,
      "justify_items": null,
      "left": null,
      "margin": null,
      "max_height": null,
      "max_width": null,
      "min_height": null,
      "min_width": null,
      "object_fit": null,
      "object_position": null,
      "order": null,
      "overflow": null,
      "overflow_x": null,
      "overflow_y": null,
      "padding": null,
      "right": null,
      "top": null,
      "visibility": null,
      "width": null
     }
    },
    "bed912f35b8c4138ae70098ba353af41": {
     "model_module": "@jupyter-widgets/base",
     "model_module_version": "1.2.0",
     "model_name": "LayoutModel",
     "state": {
      "_model_module": "@jupyter-widgets/base",
      "_model_module_version": "1.2.0",
      "_model_name": "LayoutModel",
      "_view_count": null,
      "_view_module": "@jupyter-widgets/base",
      "_view_module_version": "1.2.0",
      "_view_name": "LayoutView",
      "align_content": null,
      "align_items": null,
      "align_self": null,
      "border": null,
      "bottom": null,
      "display": null,
      "flex": null,
      "flex_flow": null,
      "grid_area": null,
      "grid_auto_columns": null,
      "grid_auto_flow": null,
      "grid_auto_rows": null,
      "grid_column": null,
      "grid_gap": null,
      "grid_row": null,
      "grid_template_areas": null,
      "grid_template_columns": null,
      "grid_template_rows": null,
      "height": null,
      "justify_content": null,
      "justify_items": null,
      "left": null,
      "margin": null,
      "max_height": null,
      "max_width": null,
      "min_height": null,
      "min_width": null,
      "object_fit": null,
      "object_position": null,
      "order": null,
      "overflow": null,
      "overflow_x": null,
      "overflow_y": null,
      "padding": null,
      "right": null,
      "top": null,
      "visibility": null,
      "width": null
     }
    },
    "bf29b3ab1d96486897e8d4c12dd555e3": {
     "model_module": "@jupyter-widgets/base",
     "model_module_version": "1.2.0",
     "model_name": "LayoutModel",
     "state": {
      "_model_module": "@jupyter-widgets/base",
      "_model_module_version": "1.2.0",
      "_model_name": "LayoutModel",
      "_view_count": null,
      "_view_module": "@jupyter-widgets/base",
      "_view_module_version": "1.2.0",
      "_view_name": "LayoutView",
      "align_content": null,
      "align_items": null,
      "align_self": null,
      "border": null,
      "bottom": null,
      "display": null,
      "flex": null,
      "flex_flow": null,
      "grid_area": null,
      "grid_auto_columns": null,
      "grid_auto_flow": null,
      "grid_auto_rows": null,
      "grid_column": null,
      "grid_gap": null,
      "grid_row": null,
      "grid_template_areas": null,
      "grid_template_columns": null,
      "grid_template_rows": null,
      "height": null,
      "justify_content": null,
      "justify_items": null,
      "left": null,
      "margin": null,
      "max_height": null,
      "max_width": null,
      "min_height": null,
      "min_width": null,
      "object_fit": null,
      "object_position": null,
      "order": null,
      "overflow": null,
      "overflow_x": null,
      "overflow_y": null,
      "padding": null,
      "right": null,
      "top": null,
      "visibility": null,
      "width": null
     }
    },
    "bf99402469fa4aafacf18a54e9bf0bf7": {
     "model_module": "@jupyter-widgets/base",
     "model_module_version": "1.2.0",
     "model_name": "LayoutModel",
     "state": {
      "_model_module": "@jupyter-widgets/base",
      "_model_module_version": "1.2.0",
      "_model_name": "LayoutModel",
      "_view_count": null,
      "_view_module": "@jupyter-widgets/base",
      "_view_module_version": "1.2.0",
      "_view_name": "LayoutView",
      "align_content": null,
      "align_items": null,
      "align_self": null,
      "border": null,
      "bottom": null,
      "display": null,
      "flex": null,
      "flex_flow": null,
      "grid_area": null,
      "grid_auto_columns": null,
      "grid_auto_flow": null,
      "grid_auto_rows": null,
      "grid_column": null,
      "grid_gap": null,
      "grid_row": null,
      "grid_template_areas": null,
      "grid_template_columns": null,
      "grid_template_rows": null,
      "height": null,
      "justify_content": null,
      "justify_items": null,
      "left": null,
      "margin": null,
      "max_height": null,
      "max_width": null,
      "min_height": null,
      "min_width": null,
      "object_fit": null,
      "object_position": null,
      "order": null,
      "overflow": null,
      "overflow_x": null,
      "overflow_y": null,
      "padding": null,
      "right": null,
      "top": null,
      "visibility": null,
      "width": null
     }
    },
    "c06b164309c349c7b4675134f3941bae": {
     "model_module": "@jupyter-widgets/controls",
     "model_module_version": "1.5.0",
     "model_name": "DescriptionStyleModel",
     "state": {
      "_model_module": "@jupyter-widgets/controls",
      "_model_module_version": "1.5.0",
      "_model_name": "DescriptionStyleModel",
      "_view_count": null,
      "_view_module": "@jupyter-widgets/base",
      "_view_module_version": "1.2.0",
      "_view_name": "StyleView",
      "description_width": ""
     }
    },
    "c0a5a8b9de8449aa8dd2d87b85935ec1": {
     "model_module": "@jupyter-widgets/controls",
     "model_module_version": "1.5.0",
     "model_name": "HTMLModel",
     "state": {
      "_dom_classes": [],
      "_model_module": "@jupyter-widgets/controls",
      "_model_module_version": "1.5.0",
      "_model_name": "HTMLModel",
      "_view_count": null,
      "_view_module": "@jupyter-widgets/controls",
      "_view_module_version": "1.5.0",
      "_view_name": "HTMLView",
      "description": "",
      "description_tooltip": null,
      "layout": "IPY_MODEL_e606d373a91441ea822e5baa5ef072a7",
      "placeholder": "​",
      "style": "IPY_MODEL_6cdd3b4d867843e5b41ae0224ab2c4b8",
      "value": "\n<b>Pro Tip:</b> If you don't already have one, you can create a dedicated\n'notebooks' token with 'write' access, that you can then easily reuse for all\nnotebooks. </center>"
     }
    },
    "c0f43717f34b49eab57c87abeed54c4c": {
     "model_module": "@jupyter-widgets/base",
     "model_module_version": "1.2.0",
     "model_name": "LayoutModel",
     "state": {
      "_model_module": "@jupyter-widgets/base",
      "_model_module_version": "1.2.0",
      "_model_name": "LayoutModel",
      "_view_count": null,
      "_view_module": "@jupyter-widgets/base",
      "_view_module_version": "1.2.0",
      "_view_name": "LayoutView",
      "align_content": null,
      "align_items": null,
      "align_self": null,
      "border": null,
      "bottom": null,
      "display": null,
      "flex": null,
      "flex_flow": null,
      "grid_area": null,
      "grid_auto_columns": null,
      "grid_auto_flow": null,
      "grid_auto_rows": null,
      "grid_column": null,
      "grid_gap": null,
      "grid_row": null,
      "grid_template_areas": null,
      "grid_template_columns": null,
      "grid_template_rows": null,
      "height": null,
      "justify_content": null,
      "justify_items": null,
      "left": null,
      "margin": null,
      "max_height": null,
      "max_width": null,
      "min_height": null,
      "min_width": null,
      "object_fit": null,
      "object_position": null,
      "order": null,
      "overflow": null,
      "overflow_x": null,
      "overflow_y": null,
      "padding": null,
      "right": null,
      "top": null,
      "visibility": null,
      "width": null
     }
    },
    "c12c76f65fa847b39c605586d8e0554c": {
     "model_module": "@jupyter-widgets/base",
     "model_module_version": "1.2.0",
     "model_name": "LayoutModel",
     "state": {
      "_model_module": "@jupyter-widgets/base",
      "_model_module_version": "1.2.0",
      "_model_name": "LayoutModel",
      "_view_count": null,
      "_view_module": "@jupyter-widgets/base",
      "_view_module_version": "1.2.0",
      "_view_name": "LayoutView",
      "align_content": null,
      "align_items": null,
      "align_self": null,
      "border": null,
      "bottom": null,
      "display": null,
      "flex": null,
      "flex_flow": null,
      "grid_area": null,
      "grid_auto_columns": null,
      "grid_auto_flow": null,
      "grid_auto_rows": null,
      "grid_column": null,
      "grid_gap": null,
      "grid_row": null,
      "grid_template_areas": null,
      "grid_template_columns": null,
      "grid_template_rows": null,
      "height": null,
      "justify_content": null,
      "justify_items": null,
      "left": null,
      "margin": null,
      "max_height": null,
      "max_width": null,
      "min_height": null,
      "min_width": null,
      "object_fit": null,
      "object_position": null,
      "order": null,
      "overflow": null,
      "overflow_x": null,
      "overflow_y": null,
      "padding": null,
      "right": null,
      "top": null,
      "visibility": null,
      "width": null
     }
    },
    "c1b818dbe9114a1e85fe9e81befade1e": {
     "model_module": "@jupyter-widgets/base",
     "model_module_version": "1.2.0",
     "model_name": "LayoutModel",
     "state": {
      "_model_module": "@jupyter-widgets/base",
      "_model_module_version": "1.2.0",
      "_model_name": "LayoutModel",
      "_view_count": null,
      "_view_module": "@jupyter-widgets/base",
      "_view_module_version": "1.2.0",
      "_view_name": "LayoutView",
      "align_content": null,
      "align_items": null,
      "align_self": null,
      "border": null,
      "bottom": null,
      "display": null,
      "flex": null,
      "flex_flow": null,
      "grid_area": null,
      "grid_auto_columns": null,
      "grid_auto_flow": null,
      "grid_auto_rows": null,
      "grid_column": null,
      "grid_gap": null,
      "grid_row": null,
      "grid_template_areas": null,
      "grid_template_columns": null,
      "grid_template_rows": null,
      "height": null,
      "justify_content": null,
      "justify_items": null,
      "left": null,
      "margin": null,
      "max_height": null,
      "max_width": null,
      "min_height": null,
      "min_width": null,
      "object_fit": null,
      "object_position": null,
      "order": null,
      "overflow": null,
      "overflow_x": null,
      "overflow_y": null,
      "padding": null,
      "right": null,
      "top": null,
      "visibility": null,
      "width": null
     }
    },
    "c2265e146c384aa88dfc2e551456782b": {
     "model_module": "@jupyter-widgets/controls",
     "model_module_version": "1.5.0",
     "model_name": "HTMLModel",
     "state": {
      "_dom_classes": [],
      "_model_module": "@jupyter-widgets/controls",
      "_model_module_version": "1.5.0",
      "_model_name": "HTMLModel",
      "_view_count": null,
      "_view_module": "@jupyter-widgets/controls",
      "_view_module_version": "1.5.0",
      "_view_name": "HTMLView",
      "description": "",
      "description_tooltip": null,
      "layout": "IPY_MODEL_1c6609c52a8e41e8abeba538585f9c02",
      "placeholder": "​",
      "style": "IPY_MODEL_94ea140aebde485bb5d21c2151223363",
      "value": "generation_config.json: 100%"
     }
    },
    "c34f9696f49f4881b3c89f16b8539dc6": {
     "model_module": "@jupyter-widgets/base",
     "model_module_version": "1.2.0",
     "model_name": "LayoutModel",
     "state": {
      "_model_module": "@jupyter-widgets/base",
      "_model_module_version": "1.2.0",
      "_model_name": "LayoutModel",
      "_view_count": null,
      "_view_module": "@jupyter-widgets/base",
      "_view_module_version": "1.2.0",
      "_view_name": "LayoutView",
      "align_content": null,
      "align_items": null,
      "align_self": null,
      "border": null,
      "bottom": null,
      "display": null,
      "flex": null,
      "flex_flow": null,
      "grid_area": null,
      "grid_auto_columns": null,
      "grid_auto_flow": null,
      "grid_auto_rows": null,
      "grid_column": null,
      "grid_gap": null,
      "grid_row": null,
      "grid_template_areas": null,
      "grid_template_columns": null,
      "grid_template_rows": null,
      "height": null,
      "justify_content": null,
      "justify_items": null,
      "left": null,
      "margin": null,
      "max_height": null,
      "max_width": null,
      "min_height": null,
      "min_width": null,
      "object_fit": null,
      "object_position": null,
      "order": null,
      "overflow": null,
      "overflow_x": null,
      "overflow_y": null,
      "padding": null,
      "right": null,
      "top": null,
      "visibility": null,
      "width": null
     }
    },
    "c43563dfc70f48b6850238b3eff1fec8": {
     "model_module": "@jupyter-widgets/controls",
     "model_module_version": "1.5.0",
     "model_name": "ProgressStyleModel",
     "state": {
      "_model_module": "@jupyter-widgets/controls",
      "_model_module_version": "1.5.0",
      "_model_name": "ProgressStyleModel",
      "_view_count": null,
      "_view_module": "@jupyter-widgets/base",
      "_view_module_version": "1.2.0",
      "_view_name": "StyleView",
      "bar_color": null,
      "description_width": ""
     }
    },
    "c4e570d6cbd0471497b9a9f77c72b6e9": {
     "model_module": "@jupyter-widgets/controls",
     "model_module_version": "1.5.0",
     "model_name": "HTMLModel",
     "state": {
      "_dom_classes": [],
      "_model_module": "@jupyter-widgets/controls",
      "_model_module_version": "1.5.0",
      "_model_name": "HTMLModel",
      "_view_count": null,
      "_view_module": "@jupyter-widgets/controls",
      "_view_module_version": "1.5.0",
      "_view_name": "HTMLView",
      "description": "",
      "description_tooltip": null,
      "layout": "IPY_MODEL_6984f14c5f2f457eb4f847bb7a3c7633",
      "placeholder": "​",
      "style": "IPY_MODEL_4a9497e5e0404944b8c8c95c95854e49",
      "value": "2_Dense/config.json: 100%"
     }
    },
    "c64fe1b4b06b44da85a10b16bec3c170": {
     "model_module": "@jupyter-widgets/base",
     "model_module_version": "1.2.0",
     "model_name": "LayoutModel",
     "state": {
      "_model_module": "@jupyter-widgets/base",
      "_model_module_version": "1.2.0",
      "_model_name": "LayoutModel",
      "_view_count": null,
      "_view_module": "@jupyter-widgets/base",
      "_view_module_version": "1.2.0",
      "_view_name": "LayoutView",
      "align_content": null,
      "align_items": null,
      "align_self": null,
      "border": null,
      "bottom": null,
      "display": null,
      "flex": null,
      "flex_flow": null,
      "grid_area": null,
      "grid_auto_columns": null,
      "grid_auto_flow": null,
      "grid_auto_rows": null,
      "grid_column": null,
      "grid_gap": null,
      "grid_row": null,
      "grid_template_areas": null,
      "grid_template_columns": null,
      "grid_template_rows": null,
      "height": null,
      "justify_content": null,
      "justify_items": null,
      "left": null,
      "margin": null,
      "max_height": null,
      "max_width": null,
      "min_height": null,
      "min_width": null,
      "object_fit": null,
      "object_position": null,
      "order": null,
      "overflow": null,
      "overflow_x": null,
      "overflow_y": null,
      "padding": null,
      "right": null,
      "top": null,
      "visibility": null,
      "width": null
     }
    },
    "c80aaa635df0431e877ec8f81df8ea9d": {
     "model_module": "@jupyter-widgets/base",
     "model_module_version": "1.2.0",
     "model_name": "LayoutModel",
     "state": {
      "_model_module": "@jupyter-widgets/base",
      "_model_module_version": "1.2.0",
      "_model_name": "LayoutModel",
      "_view_count": null,
      "_view_module": "@jupyter-widgets/base",
      "_view_module_version": "1.2.0",
      "_view_name": "LayoutView",
      "align_content": null,
      "align_items": null,
      "align_self": null,
      "border": null,
      "bottom": null,
      "display": null,
      "flex": null,
      "flex_flow": null,
      "grid_area": null,
      "grid_auto_columns": null,
      "grid_auto_flow": null,
      "grid_auto_rows": null,
      "grid_column": null,
      "grid_gap": null,
      "grid_row": null,
      "grid_template_areas": null,
      "grid_template_columns": null,
      "grid_template_rows": null,
      "height": null,
      "justify_content": null,
      "justify_items": null,
      "left": null,
      "margin": null,
      "max_height": null,
      "max_width": null,
      "min_height": null,
      "min_width": null,
      "object_fit": null,
      "object_position": null,
      "order": null,
      "overflow": null,
      "overflow_x": null,
      "overflow_y": null,
      "padding": null,
      "right": null,
      "top": null,
      "visibility": null,
      "width": null
     }
    },
    "c8b185b56cbf4fcc8e9cd06c591031ac": {
     "model_module": "@jupyter-widgets/controls",
     "model_module_version": "1.5.0",
     "model_name": "HTMLModel",
     "state": {
      "_dom_classes": [],
      "_model_module": "@jupyter-widgets/controls",
      "_model_module_version": "1.5.0",
      "_model_name": "HTMLModel",
      "_view_count": null,
      "_view_module": "@jupyter-widgets/controls",
      "_view_module_version": "1.5.0",
      "_view_name": "HTMLView",
      "description": "",
      "description_tooltip": null,
      "layout": "IPY_MODEL_0756d297058b447d95f1ddfc8316c699",
      "placeholder": "​",
      "style": "IPY_MODEL_26da979890d24a7ea43677980f1e5269",
      "value": " 556/556 [00:00&lt;00:00, 19.3kB/s]"
     }
    },
    "c92e3ea41038462585bb33b54fb64d0d": {
     "model_module": "@jupyter-widgets/controls",
     "model_module_version": "1.5.0",
     "model_name": "LabelModel",
     "state": {
      "_dom_classes": [],
      "_model_module": "@jupyter-widgets/controls",
      "_model_module_version": "1.5.0",
      "_model_name": "LabelModel",
      "_view_count": null,
      "_view_module": "@jupyter-widgets/controls",
      "_view_module_version": "1.5.0",
      "_view_name": "LabelView",
      "description": "",
      "description_tooltip": null,
      "layout": "IPY_MODEL_80efda9ec9ed41259394ac1dbe872ef5",
      "placeholder": "​",
      "style": "IPY_MODEL_162684e705d5448ba6e83b353ed50160",
      "value": "Your token has been saved in your configured git credential helpers (store)."
     }
    },
    "c96e63f94e6646feaabec81ee16a130c": {
     "model_module": "@jupyter-widgets/controls",
     "model_module_version": "1.5.0",
     "model_name": "ProgressStyleModel",
     "state": {
      "_model_module": "@jupyter-widgets/controls",
      "_model_module_version": "1.5.0",
      "_model_name": "ProgressStyleModel",
      "_view_count": null,
      "_view_module": "@jupyter-widgets/base",
      "_view_module_version": "1.2.0",
      "_view_name": "StyleView",
      "bar_color": null,
      "description_width": ""
     }
    },
    "c97411ec69bd4968879a0ec4ceb9568c": {
     "model_module": "@jupyter-widgets/base",
     "model_module_version": "1.2.0",
     "model_name": "LayoutModel",
     "state": {
      "_model_module": "@jupyter-widgets/base",
      "_model_module_version": "1.2.0",
      "_model_name": "LayoutModel",
      "_view_count": null,
      "_view_module": "@jupyter-widgets/base",
      "_view_module_version": "1.2.0",
      "_view_name": "LayoutView",
      "align_content": null,
      "align_items": null,
      "align_self": null,
      "border": null,
      "bottom": null,
      "display": null,
      "flex": null,
      "flex_flow": null,
      "grid_area": null,
      "grid_auto_columns": null,
      "grid_auto_flow": null,
      "grid_auto_rows": null,
      "grid_column": null,
      "grid_gap": null,
      "grid_row": null,
      "grid_template_areas": null,
      "grid_template_columns": null,
      "grid_template_rows": null,
      "height": null,
      "justify_content": null,
      "justify_items": null,
      "left": null,
      "margin": null,
      "max_height": null,
      "max_width": null,
      "min_height": null,
      "min_width": null,
      "object_fit": null,
      "object_position": null,
      "order": null,
      "overflow": null,
      "overflow_x": null,
      "overflow_y": null,
      "padding": null,
      "right": null,
      "top": null,
      "visibility": null,
      "width": null
     }
    },
    "cac8a80e0b20485bbbea0e7d673f7716": {
     "model_module": "@jupyter-widgets/base",
     "model_module_version": "1.2.0",
     "model_name": "LayoutModel",
     "state": {
      "_model_module": "@jupyter-widgets/base",
      "_model_module_version": "1.2.0",
      "_model_name": "LayoutModel",
      "_view_count": null,
      "_view_module": "@jupyter-widgets/base",
      "_view_module_version": "1.2.0",
      "_view_name": "LayoutView",
      "align_content": null,
      "align_items": "center",
      "align_self": null,
      "border": null,
      "bottom": null,
      "display": "flex",
      "flex": null,
      "flex_flow": "column",
      "grid_area": null,
      "grid_auto_columns": null,
      "grid_auto_flow": null,
      "grid_auto_rows": null,
      "grid_column": null,
      "grid_gap": null,
      "grid_row": null,
      "grid_template_areas": null,
      "grid_template_columns": null,
      "grid_template_rows": null,
      "height": null,
      "justify_content": null,
      "justify_items": null,
      "left": null,
      "margin": null,
      "max_height": null,
      "max_width": null,
      "min_height": null,
      "min_width": null,
      "object_fit": null,
      "object_position": null,
      "order": null,
      "overflow": null,
      "overflow_x": null,
      "overflow_y": null,
      "padding": null,
      "right": null,
      "top": null,
      "visibility": null,
      "width": "50%"
     }
    },
    "cc318daf0e1845f1b0b0a499c26ef3db": {
     "model_module": "@jupyter-widgets/controls",
     "model_module_version": "1.5.0",
     "model_name": "DescriptionStyleModel",
     "state": {
      "_model_module": "@jupyter-widgets/controls",
      "_model_module_version": "1.5.0",
      "_model_name": "DescriptionStyleModel",
      "_view_count": null,
      "_view_module": "@jupyter-widgets/base",
      "_view_module_version": "1.2.0",
      "_view_name": "StyleView",
      "description_width": ""
     }
    },
    "cc4556d8373b48fba8e9a7d56697ae51": {
     "model_module": "@jupyter-widgets/controls",
     "model_module_version": "1.5.0",
     "model_name": "VBoxModel",
     "state": {
      "_dom_classes": [],
      "_model_module": "@jupyter-widgets/controls",
      "_model_module_version": "1.5.0",
      "_model_name": "VBoxModel",
      "_view_count": null,
      "_view_module": "@jupyter-widgets/controls",
      "_view_module_version": "1.5.0",
      "_view_name": "VBoxView",
      "box_style": "",
      "children": [
       "IPY_MODEL_36ae9082cc7e414c81286704ef68980c",
       "IPY_MODEL_c92e3ea41038462585bb33b54fb64d0d",
       "IPY_MODEL_5b725dcf0d0b4f0289b826e977e5ffd2",
       "IPY_MODEL_4b0829cd92ee4be1922c4a5ddb62bbdd"
      ],
      "layout": "IPY_MODEL_cac8a80e0b20485bbbea0e7d673f7716"
     }
    },
    "cd017f2120dc4242a0bc0e876e2a7e78": {
     "model_module": "@jupyter-widgets/base",
     "model_module_version": "1.2.0",
     "model_name": "LayoutModel",
     "state": {
      "_model_module": "@jupyter-widgets/base",
      "_model_module_version": "1.2.0",
      "_model_name": "LayoutModel",
      "_view_count": null,
      "_view_module": "@jupyter-widgets/base",
      "_view_module_version": "1.2.0",
      "_view_name": "LayoutView",
      "align_content": null,
      "align_items": null,
      "align_self": null,
      "border": null,
      "bottom": null,
      "display": null,
      "flex": null,
      "flex_flow": null,
      "grid_area": null,
      "grid_auto_columns": null,
      "grid_auto_flow": null,
      "grid_auto_rows": null,
      "grid_column": null,
      "grid_gap": null,
      "grid_row": null,
      "grid_template_areas": null,
      "grid_template_columns": null,
      "grid_template_rows": null,
      "height": null,
      "justify_content": null,
      "justify_items": null,
      "left": null,
      "margin": null,
      "max_height": null,
      "max_width": null,
      "min_height": null,
      "min_width": null,
      "object_fit": null,
      "object_position": null,
      "order": null,
      "overflow": null,
      "overflow_x": null,
      "overflow_y": null,
      "padding": null,
      "right": null,
      "top": null,
      "visibility": null,
      "width": null
     }
    },
    "cdf0112594f544b8b48718dd991cd195": {
     "model_module": "@jupyter-widgets/controls",
     "model_module_version": "1.5.0",
     "model_name": "FloatProgressModel",
     "state": {
      "_dom_classes": [],
      "_model_module": "@jupyter-widgets/controls",
      "_model_module_version": "1.5.0",
      "_model_name": "FloatProgressModel",
      "_view_count": null,
      "_view_module": "@jupyter-widgets/controls",
      "_view_module_version": "1.5.0",
      "_view_name": "ProgressView",
      "bar_style": "success",
      "description": "",
      "description_tooltip": null,
      "layout": "IPY_MODEL_248d0b36d9b34ef6b390c2f7c8a8ef66",
      "max": 556,
      "min": 0,
      "orientation": "horizontal",
      "style": "IPY_MODEL_7307ab1753724f1ea9785d4056919c4b",
      "value": 556
     }
    },
    "ced3f79819af470f88fdd8dd13691594": {
     "model_module": "@jupyter-widgets/base",
     "model_module_version": "1.2.0",
     "model_name": "LayoutModel",
     "state": {
      "_model_module": "@jupyter-widgets/base",
      "_model_module_version": "1.2.0",
      "_model_name": "LayoutModel",
      "_view_count": null,
      "_view_module": "@jupyter-widgets/base",
      "_view_module_version": "1.2.0",
      "_view_name": "LayoutView",
      "align_content": null,
      "align_items": null,
      "align_self": null,
      "border": null,
      "bottom": null,
      "display": null,
      "flex": null,
      "flex_flow": null,
      "grid_area": null,
      "grid_auto_columns": null,
      "grid_auto_flow": null,
      "grid_auto_rows": null,
      "grid_column": null,
      "grid_gap": null,
      "grid_row": null,
      "grid_template_areas": null,
      "grid_template_columns": null,
      "grid_template_rows": null,
      "height": null,
      "justify_content": null,
      "justify_items": null,
      "left": null,
      "margin": null,
      "max_height": null,
      "max_width": null,
      "min_height": null,
      "min_width": null,
      "object_fit": null,
      "object_position": null,
      "order": null,
      "overflow": null,
      "overflow_x": null,
      "overflow_y": null,
      "padding": null,
      "right": null,
      "top": null,
      "visibility": null,
      "width": null
     }
    },
    "cf562add8c1e492fa84e853b255cb600": {
     "model_module": "@jupyter-widgets/base",
     "model_module_version": "1.2.0",
     "model_name": "LayoutModel",
     "state": {
      "_model_module": "@jupyter-widgets/base",
      "_model_module_version": "1.2.0",
      "_model_name": "LayoutModel",
      "_view_count": null,
      "_view_module": "@jupyter-widgets/base",
      "_view_module_version": "1.2.0",
      "_view_name": "LayoutView",
      "align_content": null,
      "align_items": null,
      "align_self": null,
      "border": null,
      "bottom": null,
      "display": null,
      "flex": null,
      "flex_flow": null,
      "grid_area": null,
      "grid_auto_columns": null,
      "grid_auto_flow": null,
      "grid_auto_rows": null,
      "grid_column": null,
      "grid_gap": null,
      "grid_row": null,
      "grid_template_areas": null,
      "grid_template_columns": null,
      "grid_template_rows": null,
      "height": null,
      "justify_content": null,
      "justify_items": null,
      "left": null,
      "margin": null,
      "max_height": null,
      "max_width": null,
      "min_height": null,
      "min_width": null,
      "object_fit": null,
      "object_position": null,
      "order": null,
      "overflow": null,
      "overflow_x": null,
      "overflow_y": null,
      "padding": null,
      "right": null,
      "top": null,
      "visibility": null,
      "width": null
     }
    },
    "cfaf2e64d6884bcf9ae46e4b2d04a0e0": {
     "model_module": "@jupyter-widgets/controls",
     "model_module_version": "1.5.0",
     "model_name": "ProgressStyleModel",
     "state": {
      "_model_module": "@jupyter-widgets/controls",
      "_model_module_version": "1.5.0",
      "_model_name": "ProgressStyleModel",
      "_view_count": null,
      "_view_module": "@jupyter-widgets/base",
      "_view_module_version": "1.2.0",
      "_view_name": "StyleView",
      "bar_color": null,
      "description_width": ""
     }
    },
    "cfc22386809c440a99120d24765d566b": {
     "model_module": "@jupyter-widgets/controls",
     "model_module_version": "1.5.0",
     "model_name": "ProgressStyleModel",
     "state": {
      "_model_module": "@jupyter-widgets/controls",
      "_model_module_version": "1.5.0",
      "_model_name": "ProgressStyleModel",
      "_view_count": null,
      "_view_module": "@jupyter-widgets/base",
      "_view_module_version": "1.2.0",
      "_view_name": "StyleView",
      "bar_color": null,
      "description_width": ""
     }
    },
    "cfc2da1def16479ab544425a32f4de3d": {
     "model_module": "@jupyter-widgets/controls",
     "model_module_version": "1.5.0",
     "model_name": "DescriptionStyleModel",
     "state": {
      "_model_module": "@jupyter-widgets/controls",
      "_model_module_version": "1.5.0",
      "_model_name": "DescriptionStyleModel",
      "_view_count": null,
      "_view_module": "@jupyter-widgets/base",
      "_view_module_version": "1.2.0",
      "_view_name": "StyleView",
      "description_width": ""
     }
    },
    "d11fd70a33aa4f6daa98f579fdad7266": {
     "model_module": "@jupyter-widgets/controls",
     "model_module_version": "1.5.0",
     "model_name": "DescriptionStyleModel",
     "state": {
      "_model_module": "@jupyter-widgets/controls",
      "_model_module_version": "1.5.0",
      "_model_name": "DescriptionStyleModel",
      "_view_count": null,
      "_view_module": "@jupyter-widgets/base",
      "_view_module_version": "1.2.0",
      "_view_name": "StyleView",
      "description_width": ""
     }
    },
    "d1705305a0ec45dfb36d982589200644": {
     "model_module": "@jupyter-widgets/controls",
     "model_module_version": "1.5.0",
     "model_name": "DescriptionStyleModel",
     "state": {
      "_model_module": "@jupyter-widgets/controls",
      "_model_module_version": "1.5.0",
      "_model_name": "DescriptionStyleModel",
      "_view_count": null,
      "_view_module": "@jupyter-widgets/base",
      "_view_module_version": "1.2.0",
      "_view_name": "StyleView",
      "description_width": ""
     }
    },
    "d1e36e25ed7c46fd84edca1f8741cb56": {
     "model_module": "@jupyter-widgets/base",
     "model_module_version": "1.2.0",
     "model_name": "LayoutModel",
     "state": {
      "_model_module": "@jupyter-widgets/base",
      "_model_module_version": "1.2.0",
      "_model_name": "LayoutModel",
      "_view_count": null,
      "_view_module": "@jupyter-widgets/base",
      "_view_module_version": "1.2.0",
      "_view_name": "LayoutView",
      "align_content": null,
      "align_items": null,
      "align_self": null,
      "border": null,
      "bottom": null,
      "display": null,
      "flex": null,
      "flex_flow": null,
      "grid_area": null,
      "grid_auto_columns": null,
      "grid_auto_flow": null,
      "grid_auto_rows": null,
      "grid_column": null,
      "grid_gap": null,
      "grid_row": null,
      "grid_template_areas": null,
      "grid_template_columns": null,
      "grid_template_rows": null,
      "height": null,
      "justify_content": null,
      "justify_items": null,
      "left": null,
      "margin": null,
      "max_height": null,
      "max_width": null,
      "min_height": null,
      "min_width": null,
      "object_fit": null,
      "object_position": null,
      "order": null,
      "overflow": null,
      "overflow_x": null,
      "overflow_y": null,
      "padding": null,
      "right": null,
      "top": null,
      "visibility": null,
      "width": null
     }
    },
    "d1efdf1bf3ab4a548f628d8caee8dee3": {
     "model_module": "@jupyter-widgets/controls",
     "model_module_version": "1.5.0",
     "model_name": "FloatProgressModel",
     "state": {
      "_dom_classes": [],
      "_model_module": "@jupyter-widgets/controls",
      "_model_module_version": "1.5.0",
      "_model_name": "FloatProgressModel",
      "_view_count": null,
      "_view_module": "@jupyter-widgets/controls",
      "_view_module_version": "1.5.0",
      "_view_name": "ProgressView",
      "bar_style": "success",
      "description": "",
      "description_tooltip": null,
      "layout": "IPY_MODEL_17920fb2a51742cc8df380d3fc3d56c3",
      "max": 4767679,
      "min": 0,
      "orientation": "horizontal",
      "style": "IPY_MODEL_6eeb982310804fb6869c990c7ce5a6cc",
      "value": 4767679
     }
    },
    "d4495b0bd5364b2d88eccf650d363dc3": {
     "model_module": "@jupyter-widgets/controls",
     "model_module_version": "1.5.0",
     "model_name": "DescriptionStyleModel",
     "state": {
      "_model_module": "@jupyter-widgets/controls",
      "_model_module_version": "1.5.0",
      "_model_name": "DescriptionStyleModel",
      "_view_count": null,
      "_view_module": "@jupyter-widgets/base",
      "_view_module_version": "1.2.0",
      "_view_name": "StyleView",
      "description_width": ""
     }
    },
    "d4ac7e11cf6244bb90d7b47df0d971e4": {
     "model_module": "@jupyter-widgets/controls",
     "model_module_version": "1.5.0",
     "model_name": "DescriptionStyleModel",
     "state": {
      "_model_module": "@jupyter-widgets/controls",
      "_model_module_version": "1.5.0",
      "_model_name": "DescriptionStyleModel",
      "_view_count": null,
      "_view_module": "@jupyter-widgets/base",
      "_view_module_version": "1.2.0",
      "_view_name": "StyleView",
      "description_width": ""
     }
    },
    "d6166728bdc045c8b460431203a99786": {
     "model_module": "@jupyter-widgets/base",
     "model_module_version": "1.2.0",
     "model_name": "LayoutModel",
     "state": {
      "_model_module": "@jupyter-widgets/base",
      "_model_module_version": "1.2.0",
      "_model_name": "LayoutModel",
      "_view_count": null,
      "_view_module": "@jupyter-widgets/base",
      "_view_module_version": "1.2.0",
      "_view_name": "LayoutView",
      "align_content": null,
      "align_items": null,
      "align_self": null,
      "border": null,
      "bottom": null,
      "display": null,
      "flex": null,
      "flex_flow": null,
      "grid_area": null,
      "grid_auto_columns": null,
      "grid_auto_flow": null,
      "grid_auto_rows": null,
      "grid_column": null,
      "grid_gap": null,
      "grid_row": null,
      "grid_template_areas": null,
      "grid_template_columns": null,
      "grid_template_rows": null,
      "height": null,
      "justify_content": null,
      "justify_items": null,
      "left": null,
      "margin": null,
      "max_height": null,
      "max_width": null,
      "min_height": null,
      "min_width": null,
      "object_fit": null,
      "object_position": null,
      "order": null,
      "overflow": null,
      "overflow_x": null,
      "overflow_y": null,
      "padding": null,
      "right": null,
      "top": null,
      "visibility": null,
      "width": null
     }
    },
    "d6b9f3cfadaa4bea8581adf43cf8a740": {
     "model_module": "@jupyter-widgets/controls",
     "model_module_version": "1.5.0",
     "model_name": "DescriptionStyleModel",
     "state": {
      "_model_module": "@jupyter-widgets/controls",
      "_model_module_version": "1.5.0",
      "_model_name": "DescriptionStyleModel",
      "_view_count": null,
      "_view_module": "@jupyter-widgets/base",
      "_view_module_version": "1.2.0",
      "_view_name": "StyleView",
      "description_width": ""
     }
    },
    "d752ff76d03942d2ad1931f186f57ad4": {
     "model_module": "@jupyter-widgets/controls",
     "model_module_version": "1.5.0",
     "model_name": "HTMLModel",
     "state": {
      "_dom_classes": [],
      "_model_module": "@jupyter-widgets/controls",
      "_model_module_version": "1.5.0",
      "_model_name": "HTMLModel",
      "_view_count": null,
      "_view_module": "@jupyter-widgets/controls",
      "_view_module_version": "1.5.0",
      "_view_name": "HTMLView",
      "description": "",
      "description_tooltip": null,
      "layout": "IPY_MODEL_a1dfad50f1194b67a01d6b7c24714e64",
      "placeholder": "​",
      "style": "IPY_MODEL_e9b3a18bd978439f8f351a87c577f637",
      "value": " 2.47k/2.47k [00:00&lt;00:00, 49.7kB/s]"
     }
    },
    "d7b318929220449096c7b7c24e5ebea9": {
     "model_module": "@jupyter-widgets/base",
     "model_module_version": "1.2.0",
     "model_name": "LayoutModel",
     "state": {
      "_model_module": "@jupyter-widgets/base",
      "_model_module_version": "1.2.0",
      "_model_name": "LayoutModel",
      "_view_count": null,
      "_view_module": "@jupyter-widgets/base",
      "_view_module_version": "1.2.0",
      "_view_name": "LayoutView",
      "align_content": null,
      "align_items": null,
      "align_self": null,
      "border": null,
      "bottom": null,
      "display": null,
      "flex": null,
      "flex_flow": null,
      "grid_area": null,
      "grid_auto_columns": null,
      "grid_auto_flow": null,
      "grid_auto_rows": null,
      "grid_column": null,
      "grid_gap": null,
      "grid_row": null,
      "grid_template_areas": null,
      "grid_template_columns": null,
      "grid_template_rows": null,
      "height": null,
      "justify_content": null,
      "justify_items": null,
      "left": null,
      "margin": null,
      "max_height": null,
      "max_width": null,
      "min_height": null,
      "min_width": null,
      "object_fit": null,
      "object_position": null,
      "order": null,
      "overflow": null,
      "overflow_x": null,
      "overflow_y": null,
      "padding": null,
      "right": null,
      "top": null,
      "visibility": null,
      "width": null
     }
    },
    "d7c48b99508b43c4b1efde19167cfdab": {
     "model_module": "@jupyter-widgets/controls",
     "model_module_version": "1.5.0",
     "model_name": "HTMLModel",
     "state": {
      "_dom_classes": [],
      "_model_module": "@jupyter-widgets/controls",
      "_model_module_version": "1.5.0",
      "_model_name": "HTMLModel",
      "_view_count": null,
      "_view_module": "@jupyter-widgets/controls",
      "_view_module_version": "1.5.0",
      "_view_name": "HTMLView",
      "description": "",
      "description_tooltip": null,
      "layout": "IPY_MODEL_bed912f35b8c4138ae70098ba353af41",
      "placeholder": "​",
      "style": "IPY_MODEL_803b39abcc534d5193e0293bf3fd7843",
      "value": " 341/341 [00:00&lt;00:00, 7.86kB/s]"
     }
    },
    "d84f0ecd3a6e4e28800b1ac88f7b5752": {
     "model_module": "@jupyter-widgets/controls",
     "model_module_version": "1.5.0",
     "model_name": "HTMLModel",
     "state": {
      "_dom_classes": [],
      "_model_module": "@jupyter-widgets/controls",
      "_model_module_version": "1.5.0",
      "_model_name": "HTMLModel",
      "_view_count": null,
      "_view_module": "@jupyter-widgets/controls",
      "_view_module_version": "1.5.0",
      "_view_name": "HTMLView",
      "description": "",
      "description_tooltip": null,
      "layout": "IPY_MODEL_7a0e3f6f488b4c66a31333f62a39d76c",
      "placeholder": "​",
      "style": "IPY_MODEL_8b1da1296f1d4d2895790a6b0951a31b",
      "value": " 539M/539M [00:05&lt;00:00, 106MB/s]"
     }
    },
    "d88cac34c04147ba969c794850e0ffff": {
     "model_module": "@jupyter-widgets/base",
     "model_module_version": "1.2.0",
     "model_name": "LayoutModel",
     "state": {
      "_model_module": "@jupyter-widgets/base",
      "_model_module_version": "1.2.0",
      "_model_name": "LayoutModel",
      "_view_count": null,
      "_view_module": "@jupyter-widgets/base",
      "_view_module_version": "1.2.0",
      "_view_name": "LayoutView",
      "align_content": null,
      "align_items": null,
      "align_self": null,
      "border": null,
      "bottom": null,
      "display": null,
      "flex": null,
      "flex_flow": null,
      "grid_area": null,
      "grid_auto_columns": null,
      "grid_auto_flow": null,
      "grid_auto_rows": null,
      "grid_column": null,
      "grid_gap": null,
      "grid_row": null,
      "grid_template_areas": null,
      "grid_template_columns": null,
      "grid_template_rows": null,
      "height": null,
      "justify_content": null,
      "justify_items": null,
      "left": null,
      "margin": null,
      "max_height": null,
      "max_width": null,
      "min_height": null,
      "min_width": null,
      "object_fit": null,
      "object_position": null,
      "order": null,
      "overflow": null,
      "overflow_x": null,
      "overflow_y": null,
      "padding": null,
      "right": null,
      "top": null,
      "visibility": null,
      "width": null
     }
    },
    "d8f9cc9f07324359b098340706d9f73d": {
     "model_module": "@jupyter-widgets/controls",
     "model_module_version": "1.5.0",
     "model_name": "DescriptionStyleModel",
     "state": {
      "_model_module": "@jupyter-widgets/controls",
      "_model_module_version": "1.5.0",
      "_model_name": "DescriptionStyleModel",
      "_view_count": null,
      "_view_module": "@jupyter-widgets/base",
      "_view_module_version": "1.2.0",
      "_view_name": "StyleView",
      "description_width": ""
     }
    },
    "db7e5ff58891416fb320274fee72eed8": {
     "model_module": "@jupyter-widgets/base",
     "model_module_version": "1.2.0",
     "model_name": "LayoutModel",
     "state": {
      "_model_module": "@jupyter-widgets/base",
      "_model_module_version": "1.2.0",
      "_model_name": "LayoutModel",
      "_view_count": null,
      "_view_module": "@jupyter-widgets/base",
      "_view_module_version": "1.2.0",
      "_view_name": "LayoutView",
      "align_content": null,
      "align_items": null,
      "align_self": null,
      "border": null,
      "bottom": null,
      "display": null,
      "flex": null,
      "flex_flow": null,
      "grid_area": null,
      "grid_auto_columns": null,
      "grid_auto_flow": null,
      "grid_auto_rows": null,
      "grid_column": null,
      "grid_gap": null,
      "grid_row": null,
      "grid_template_areas": null,
      "grid_template_columns": null,
      "grid_template_rows": null,
      "height": null,
      "justify_content": null,
      "justify_items": null,
      "left": null,
      "margin": null,
      "max_height": null,
      "max_width": null,
      "min_height": null,
      "min_width": null,
      "object_fit": null,
      "object_position": null,
      "order": null,
      "overflow": null,
      "overflow_x": null,
      "overflow_y": null,
      "padding": null,
      "right": null,
      "top": null,
      "visibility": null,
      "width": null
     }
    },
    "dbdc711d088e44ec937a7aa570c028ac": {
     "model_module": "@jupyter-widgets/base",
     "model_module_version": "1.2.0",
     "model_name": "LayoutModel",
     "state": {
      "_model_module": "@jupyter-widgets/base",
      "_model_module_version": "1.2.0",
      "_model_name": "LayoutModel",
      "_view_count": null,
      "_view_module": "@jupyter-widgets/base",
      "_view_module_version": "1.2.0",
      "_view_name": "LayoutView",
      "align_content": null,
      "align_items": null,
      "align_self": null,
      "border": null,
      "bottom": null,
      "display": null,
      "flex": null,
      "flex_flow": null,
      "grid_area": null,
      "grid_auto_columns": null,
      "grid_auto_flow": null,
      "grid_auto_rows": null,
      "grid_column": null,
      "grid_gap": null,
      "grid_row": null,
      "grid_template_areas": null,
      "grid_template_columns": null,
      "grid_template_rows": null,
      "height": null,
      "justify_content": null,
      "justify_items": null,
      "left": null,
      "margin": null,
      "max_height": null,
      "max_width": null,
      "min_height": null,
      "min_width": null,
      "object_fit": null,
      "object_position": null,
      "order": null,
      "overflow": null,
      "overflow_x": null,
      "overflow_y": null,
      "padding": null,
      "right": null,
      "top": null,
      "visibility": null,
      "width": null
     }
    },
    "dc306acf7a50404ca7aba741ed5e8c84": {
     "model_module": "@jupyter-widgets/controls",
     "model_module_version": "1.5.0",
     "model_name": "FloatProgressModel",
     "state": {
      "_dom_classes": [],
      "_model_module": "@jupyter-widgets/controls",
      "_model_module_version": "1.5.0",
      "_model_name": "FloatProgressModel",
      "_view_count": null,
      "_view_module": "@jupyter-widgets/controls",
      "_view_module_version": "1.5.0",
      "_view_name": "ProgressView",
      "bar_style": "success",
      "description": "",
      "description_tooltip": null,
      "layout": "IPY_MODEL_36beb023cf6a40e68eb015af7f8bd186",
      "max": 190,
      "min": 0,
      "orientation": "horizontal",
      "style": "IPY_MODEL_fb1fe6c1f51c497c8a805461e97ecebc",
      "value": 190
     }
    },
    "dd5e16e50c2a4576adfbce3789a54f73": {
     "model_module": "@jupyter-widgets/base",
     "model_module_version": "1.2.0",
     "model_name": "LayoutModel",
     "state": {
      "_model_module": "@jupyter-widgets/base",
      "_model_module_version": "1.2.0",
      "_model_name": "LayoutModel",
      "_view_count": null,
      "_view_module": "@jupyter-widgets/base",
      "_view_module_version": "1.2.0",
      "_view_name": "LayoutView",
      "align_content": null,
      "align_items": null,
      "align_self": null,
      "border": null,
      "bottom": null,
      "display": null,
      "flex": null,
      "flex_flow": null,
      "grid_area": null,
      "grid_auto_columns": null,
      "grid_auto_flow": null,
      "grid_auto_rows": null,
      "grid_column": null,
      "grid_gap": null,
      "grid_row": null,
      "grid_template_areas": null,
      "grid_template_columns": null,
      "grid_template_rows": null,
      "height": null,
      "justify_content": null,
      "justify_items": null,
      "left": null,
      "margin": null,
      "max_height": null,
      "max_width": null,
      "min_height": null,
      "min_width": null,
      "object_fit": null,
      "object_position": null,
      "order": null,
      "overflow": null,
      "overflow_x": null,
      "overflow_y": null,
      "padding": null,
      "right": null,
      "top": null,
      "visibility": null,
      "width": null
     }
    },
    "de05cc5c9fb34d0e85677e2ea36c9db9": {
     "model_module": "@jupyter-widgets/controls",
     "model_module_version": "1.5.0",
     "model_name": "HTMLModel",
     "state": {
      "_dom_classes": [],
      "_model_module": "@jupyter-widgets/controls",
      "_model_module_version": "1.5.0",
      "_model_name": "HTMLModel",
      "_view_count": null,
      "_view_module": "@jupyter-widgets/controls",
      "_view_module_version": "1.5.0",
      "_view_name": "HTMLView",
      "description": "",
      "description_tooltip": null,
      "layout": "IPY_MODEL_0ef43f50ffaf464aba0ef54696f39865",
      "placeholder": "​",
      "style": "IPY_MODEL_e842b0447e1a4291bfefdacdda38e3cb",
      "value": "tokenizer_config.json: 100%"
     }
    },
    "df2b71e9348244899ae194a511daf4eb": {
     "model_module": "@jupyter-widgets/controls",
     "model_module_version": "1.5.0",
     "model_name": "HTMLModel",
     "state": {
      "_dom_classes": [],
      "_model_module": "@jupyter-widgets/controls",
      "_model_module_version": "1.5.0",
      "_model_name": "HTMLModel",
      "_view_count": null,
      "_view_module": "@jupyter-widgets/controls",
      "_view_module_version": "1.5.0",
      "_view_name": "HTMLView",
      "description": "",
      "description_tooltip": null,
      "layout": "IPY_MODEL_f9171dbec95e496e9c1fc7701e878c59",
      "placeholder": "​",
      "style": "IPY_MODEL_60870a7c0f6a42508d6b42f6c0e55979",
      "value": "config_sentence_transformers.json: 100%"
     }
    },
    "e0f19da6152b4aacbe2c8178d9c7c196": {
     "model_module": "@jupyter-widgets/controls",
     "model_module_version": "1.5.0",
     "model_name": "HBoxModel",
     "state": {
      "_dom_classes": [],
      "_model_module": "@jupyter-widgets/controls",
      "_model_module_version": "1.5.0",
      "_model_name": "HBoxModel",
      "_view_count": null,
      "_view_module": "@jupyter-widgets/controls",
      "_view_module_version": "1.5.0",
      "_view_name": "HBoxView",
      "box_style": "",
      "children": [
       "IPY_MODEL_c4e570d6cbd0471497b9a9f77c72b6e9",
       "IPY_MODEL_56e62574fbea457f861013735df1ca52",
       "IPY_MODEL_20b1862f6eb74132bccb89ebd9c2f0e8"
      ],
      "layout": "IPY_MODEL_8c37ea20236349c197170e00baf3ec9a"
     }
    },
    "e0f6c532ec614122ad786ec414f4a189": {
     "model_module": "@jupyter-widgets/controls",
     "model_module_version": "1.5.0",
     "model_name": "FloatProgressModel",
     "state": {
      "_dom_classes": [],
      "_model_module": "@jupyter-widgets/controls",
      "_model_module_version": "1.5.0",
      "_model_name": "FloatProgressModel",
      "_view_count": null,
      "_view_module": "@jupyter-widgets/controls",
      "_view_module_version": "1.5.0",
      "_view_name": "ProgressView",
      "bar_style": "success",
      "description": "",
      "description_tooltip": null,
      "layout": "IPY_MODEL_a2bd3a539c7f4ff79523a455b75fdd1e",
      "max": 35838,
      "min": 0,
      "orientation": "horizontal",
      "style": "IPY_MODEL_94f4ec177b3347ed81bd723a1bf1bdef",
      "value": 35838
     }
    },
    "e2c2df69ec9c461daad857970be3f0b1": {
     "model_module": "@jupyter-widgets/base",
     "model_module_version": "1.2.0",
     "model_name": "LayoutModel",
     "state": {
      "_model_module": "@jupyter-widgets/base",
      "_model_module_version": "1.2.0",
      "_model_name": "LayoutModel",
      "_view_count": null,
      "_view_module": "@jupyter-widgets/base",
      "_view_module_version": "1.2.0",
      "_view_name": "LayoutView",
      "align_content": null,
      "align_items": null,
      "align_self": null,
      "border": null,
      "bottom": null,
      "display": null,
      "flex": null,
      "flex_flow": null,
      "grid_area": null,
      "grid_auto_columns": null,
      "grid_auto_flow": null,
      "grid_auto_rows": null,
      "grid_column": null,
      "grid_gap": null,
      "grid_row": null,
      "grid_template_areas": null,
      "grid_template_columns": null,
      "grid_template_rows": null,
      "height": null,
      "justify_content": null,
      "justify_items": null,
      "left": null,
      "margin": null,
      "max_height": null,
      "max_width": null,
      "min_height": null,
      "min_width": null,
      "object_fit": null,
      "object_position": null,
      "order": null,
      "overflow": null,
      "overflow_x": null,
      "overflow_y": null,
      "padding": null,
      "right": null,
      "top": null,
      "visibility": null,
      "width": null
     }
    },
    "e2d9e5d2790440d698ca9a11778d5587": {
     "model_module": "@jupyter-widgets/controls",
     "model_module_version": "1.5.0",
     "model_name": "FloatProgressModel",
     "state": {
      "_dom_classes": [],
      "_model_module": "@jupyter-widgets/controls",
      "_model_module_version": "1.5.0",
      "_model_name": "FloatProgressModel",
      "_view_count": null,
      "_view_module": "@jupyter-widgets/controls",
      "_view_module_version": "1.5.0",
      "_view_name": "ProgressView",
      "bar_style": "success",
      "description": "",
      "description_tooltip": null,
      "layout": "IPY_MODEL_4f38613f105c45e18bb2acaadb1f578d",
      "max": 1961847,
      "min": 0,
      "orientation": "horizontal",
      "style": "IPY_MODEL_c43563dfc70f48b6850238b3eff1fec8",
      "value": 1961847
     }
    },
    "e3557f13224242b8863e0f9a07f0486e": {
     "model_module": "@jupyter-widgets/controls",
     "model_module_version": "1.5.0",
     "model_name": "DescriptionStyleModel",
     "state": {
      "_model_module": "@jupyter-widgets/controls",
      "_model_module_version": "1.5.0",
      "_model_name": "DescriptionStyleModel",
      "_view_count": null,
      "_view_module": "@jupyter-widgets/base",
      "_view_module_version": "1.2.0",
      "_view_name": "StyleView",
      "description_width": ""
     }
    },
    "e396c86b88cb423abdefe259a0abfa12": {
     "model_module": "@jupyter-widgets/base",
     "model_module_version": "1.2.0",
     "model_name": "LayoutModel",
     "state": {
      "_model_module": "@jupyter-widgets/base",
      "_model_module_version": "1.2.0",
      "_model_name": "LayoutModel",
      "_view_count": null,
      "_view_module": "@jupyter-widgets/base",
      "_view_module_version": "1.2.0",
      "_view_name": "LayoutView",
      "align_content": null,
      "align_items": null,
      "align_self": null,
      "border": null,
      "bottom": null,
      "display": null,
      "flex": null,
      "flex_flow": null,
      "grid_area": null,
      "grid_auto_columns": null,
      "grid_auto_flow": null,
      "grid_auto_rows": null,
      "grid_column": null,
      "grid_gap": null,
      "grid_row": null,
      "grid_template_areas": null,
      "grid_template_columns": null,
      "grid_template_rows": null,
      "height": null,
      "justify_content": null,
      "justify_items": null,
      "left": null,
      "margin": null,
      "max_height": null,
      "max_width": null,
      "min_height": null,
      "min_width": null,
      "object_fit": null,
      "object_position": null,
      "order": null,
      "overflow": null,
      "overflow_x": null,
      "overflow_y": null,
      "padding": null,
      "right": null,
      "top": null,
      "visibility": null,
      "width": null
     }
    },
    "e438c406eea54f1da912a1f1d2b1b5d0": {
     "model_module": "@jupyter-widgets/controls",
     "model_module_version": "1.5.0",
     "model_name": "HTMLModel",
     "state": {
      "_dom_classes": [],
      "_model_module": "@jupyter-widgets/controls",
      "_model_module_version": "1.5.0",
      "_model_name": "HTMLModel",
      "_view_count": null,
      "_view_module": "@jupyter-widgets/controls",
      "_view_module_version": "1.5.0",
      "_view_name": "HTMLView",
      "description": "",
      "description_tooltip": null,
      "layout": "IPY_MODEL_d6166728bdc045c8b460431203a99786",
      "placeholder": "​",
      "style": "IPY_MODEL_b53520976a9f4f69af4dd1b55ca86c15",
      "value": " 996k/996k [00:01&lt;00:00, 932kB/s]"
     }
    },
    "e44a1e7aa7434c85ac2992806f9ebcd5": {
     "model_module": "@jupyter-widgets/base",
     "model_module_version": "1.2.0",
     "model_name": "LayoutModel",
     "state": {
      "_model_module": "@jupyter-widgets/base",
      "_model_module_version": "1.2.0",
      "_model_name": "LayoutModel",
      "_view_count": null,
      "_view_module": "@jupyter-widgets/base",
      "_view_module_version": "1.2.0",
      "_view_name": "LayoutView",
      "align_content": null,
      "align_items": null,
      "align_self": null,
      "border": null,
      "bottom": null,
      "display": null,
      "flex": null,
      "flex_flow": null,
      "grid_area": null,
      "grid_auto_columns": null,
      "grid_auto_flow": null,
      "grid_auto_rows": null,
      "grid_column": null,
      "grid_gap": null,
      "grid_row": null,
      "grid_template_areas": null,
      "grid_template_columns": null,
      "grid_template_rows": null,
      "height": null,
      "justify_content": null,
      "justify_items": null,
      "left": null,
      "margin": null,
      "max_height": null,
      "max_width": null,
      "min_height": null,
      "min_width": null,
      "object_fit": null,
      "object_position": null,
      "order": null,
      "overflow": null,
      "overflow_x": null,
      "overflow_y": null,
      "padding": null,
      "right": null,
      "top": null,
      "visibility": null,
      "width": null
     }
    },
    "e47796a4cfa94c94bd1e5aee4c9a3d41": {
     "model_module": "@jupyter-widgets/controls",
     "model_module_version": "1.5.0",
     "model_name": "ProgressStyleModel",
     "state": {
      "_model_module": "@jupyter-widgets/controls",
      "_model_module_version": "1.5.0",
      "_model_name": "ProgressStyleModel",
      "_view_count": null,
      "_view_module": "@jupyter-widgets/base",
      "_view_module_version": "1.2.0",
      "_view_name": "StyleView",
      "bar_color": null,
      "description_width": ""
     }
    },
    "e528bbe15b68431cb582cd27975d27ca": {
     "model_module": "@jupyter-widgets/controls",
     "model_module_version": "1.5.0",
     "model_name": "DescriptionStyleModel",
     "state": {
      "_model_module": "@jupyter-widgets/controls",
      "_model_module_version": "1.5.0",
      "_model_name": "DescriptionStyleModel",
      "_view_count": null,
      "_view_module": "@jupyter-widgets/base",
      "_view_module_version": "1.2.0",
      "_view_name": "StyleView",
      "description_width": ""
     }
    },
    "e606d373a91441ea822e5baa5ef072a7": {
     "model_module": "@jupyter-widgets/base",
     "model_module_version": "1.2.0",
     "model_name": "LayoutModel",
     "state": {
      "_model_module": "@jupyter-widgets/base",
      "_model_module_version": "1.2.0",
      "_model_name": "LayoutModel",
      "_view_count": null,
      "_view_module": "@jupyter-widgets/base",
      "_view_module_version": "1.2.0",
      "_view_name": "LayoutView",
      "align_content": null,
      "align_items": null,
      "align_self": null,
      "border": null,
      "bottom": null,
      "display": null,
      "flex": null,
      "flex_flow": null,
      "grid_area": null,
      "grid_auto_columns": null,
      "grid_auto_flow": null,
      "grid_auto_rows": null,
      "grid_column": null,
      "grid_gap": null,
      "grid_row": null,
      "grid_template_areas": null,
      "grid_template_columns": null,
      "grid_template_rows": null,
      "height": null,
      "justify_content": null,
      "justify_items": null,
      "left": null,
      "margin": null,
      "max_height": null,
      "max_width": null,
      "min_height": null,
      "min_width": null,
      "object_fit": null,
      "object_position": null,
      "order": null,
      "overflow": null,
      "overflow_x": null,
      "overflow_y": null,
      "padding": null,
      "right": null,
      "top": null,
      "visibility": null,
      "width": null
     }
    },
    "e62e53e9cfec4a42801e3893fb12dd72": {
     "model_module": "@jupyter-widgets/base",
     "model_module_version": "1.2.0",
     "model_name": "LayoutModel",
     "state": {
      "_model_module": "@jupyter-widgets/base",
      "_model_module_version": "1.2.0",
      "_model_name": "LayoutModel",
      "_view_count": null,
      "_view_module": "@jupyter-widgets/base",
      "_view_module_version": "1.2.0",
      "_view_name": "LayoutView",
      "align_content": null,
      "align_items": null,
      "align_self": null,
      "border": null,
      "bottom": null,
      "display": null,
      "flex": null,
      "flex_flow": null,
      "grid_area": null,
      "grid_auto_columns": null,
      "grid_auto_flow": null,
      "grid_auto_rows": null,
      "grid_column": null,
      "grid_gap": null,
      "grid_row": null,
      "grid_template_areas": null,
      "grid_template_columns": null,
      "grid_template_rows": null,
      "height": null,
      "justify_content": null,
      "justify_items": null,
      "left": null,
      "margin": null,
      "max_height": null,
      "max_width": null,
      "min_height": null,
      "min_width": null,
      "object_fit": null,
      "object_position": null,
      "order": null,
      "overflow": null,
      "overflow_x": null,
      "overflow_y": null,
      "padding": null,
      "right": null,
      "top": null,
      "visibility": null,
      "width": null
     }
    },
    "e842b0447e1a4291bfefdacdda38e3cb": {
     "model_module": "@jupyter-widgets/controls",
     "model_module_version": "1.5.0",
     "model_name": "DescriptionStyleModel",
     "state": {
      "_model_module": "@jupyter-widgets/controls",
      "_model_module_version": "1.5.0",
      "_model_name": "DescriptionStyleModel",
      "_view_count": null,
      "_view_module": "@jupyter-widgets/base",
      "_view_module_version": "1.2.0",
      "_view_name": "StyleView",
      "description_width": ""
     }
    },
    "e8f2eb62313647e5b85285c023aab787": {
     "model_module": "@jupyter-widgets/base",
     "model_module_version": "1.2.0",
     "model_name": "LayoutModel",
     "state": {
      "_model_module": "@jupyter-widgets/base",
      "_model_module_version": "1.2.0",
      "_model_name": "LayoutModel",
      "_view_count": null,
      "_view_module": "@jupyter-widgets/base",
      "_view_module_version": "1.2.0",
      "_view_name": "LayoutView",
      "align_content": null,
      "align_items": null,
      "align_self": null,
      "border": null,
      "bottom": null,
      "display": null,
      "flex": null,
      "flex_flow": null,
      "grid_area": null,
      "grid_auto_columns": null,
      "grid_auto_flow": null,
      "grid_auto_rows": null,
      "grid_column": null,
      "grid_gap": null,
      "grid_row": null,
      "grid_template_areas": null,
      "grid_template_columns": null,
      "grid_template_rows": null,
      "height": null,
      "justify_content": null,
      "justify_items": null,
      "left": null,
      "margin": null,
      "max_height": null,
      "max_width": null,
      "min_height": null,
      "min_width": null,
      "object_fit": null,
      "object_position": null,
      "order": null,
      "overflow": null,
      "overflow_x": null,
      "overflow_y": null,
      "padding": null,
      "right": null,
      "top": null,
      "visibility": null,
      "width": null
     }
    },
    "e9ad4078521740dbbfe8aa4e00ac3775": {
     "model_module": "@jupyter-widgets/controls",
     "model_module_version": "1.5.0",
     "model_name": "HTMLModel",
     "state": {
      "_dom_classes": [],
      "_model_module": "@jupyter-widgets/controls",
      "_model_module_version": "1.5.0",
      "_model_name": "HTMLModel",
      "_view_count": null,
      "_view_module": "@jupyter-widgets/controls",
      "_view_module_version": "1.5.0",
      "_view_name": "HTMLView",
      "description": "",
      "description_tooltip": null,
      "layout": "IPY_MODEL_0654a379a6f941c3bbcfcf33a3e86837",
      "placeholder": "​",
      "style": "IPY_MODEL_d4495b0bd5364b2d88eccf650d363dc3",
      "value": " 5/5 [01:36&lt;00:00, 16.63s/it]"
     }
    },
    "e9b3a18bd978439f8f351a87c577f637": {
     "model_module": "@jupyter-widgets/controls",
     "model_module_version": "1.5.0",
     "model_name": "DescriptionStyleModel",
     "state": {
      "_model_module": "@jupyter-widgets/controls",
      "_model_module_version": "1.5.0",
      "_model_name": "DescriptionStyleModel",
      "_view_count": null,
      "_view_module": "@jupyter-widgets/base",
      "_view_module_version": "1.2.0",
      "_view_name": "StyleView",
      "description_width": ""
     }
    },
    "ea63254634964f1a83d8cc8139213d3a": {
     "model_module": "@jupyter-widgets/base",
     "model_module_version": "1.2.0",
     "model_name": "LayoutModel",
     "state": {
      "_model_module": "@jupyter-widgets/base",
      "_model_module_version": "1.2.0",
      "_model_name": "LayoutModel",
      "_view_count": null,
      "_view_module": "@jupyter-widgets/base",
      "_view_module_version": "1.2.0",
      "_view_name": "LayoutView",
      "align_content": null,
      "align_items": null,
      "align_self": null,
      "border": null,
      "bottom": null,
      "display": null,
      "flex": null,
      "flex_flow": null,
      "grid_area": null,
      "grid_auto_columns": null,
      "grid_auto_flow": null,
      "grid_auto_rows": null,
      "grid_column": null,
      "grid_gap": null,
      "grid_row": null,
      "grid_template_areas": null,
      "grid_template_columns": null,
      "grid_template_rows": null,
      "height": null,
      "justify_content": null,
      "justify_items": null,
      "left": null,
      "margin": null,
      "max_height": null,
      "max_width": null,
      "min_height": null,
      "min_width": null,
      "object_fit": null,
      "object_position": null,
      "order": null,
      "overflow": null,
      "overflow_x": null,
      "overflow_y": null,
      "padding": null,
      "right": null,
      "top": null,
      "visibility": null,
      "width": null
     }
    },
    "ea6e3f3f14984528a59509a0a0195118": {
     "model_module": "@jupyter-widgets/controls",
     "model_module_version": "1.5.0",
     "model_name": "HTMLModel",
     "state": {
      "_dom_classes": [],
      "_model_module": "@jupyter-widgets/controls",
      "_model_module_version": "1.5.0",
      "_model_name": "HTMLModel",
      "_view_count": null,
      "_view_module": "@jupyter-widgets/controls",
      "_view_module_version": "1.5.0",
      "_view_name": "HTMLView",
      "description": "",
      "description_tooltip": null,
      "layout": "IPY_MODEL_f369523a439b486fb8113b79f6d3b3eb",
      "placeholder": "​",
      "style": "IPY_MODEL_49c4d5467eac41f79f4a162238ff8d2f",
      "value": " 662/662 [00:00&lt;00:00, 55.5kB/s]"
     }
    },
    "ecc0906eaec349d4ae94e9f152611207": {
     "model_module": "@jupyter-widgets/controls",
     "model_module_version": "1.5.0",
     "model_name": "HTMLModel",
     "state": {
      "_dom_classes": [],
      "_model_module": "@jupyter-widgets/controls",
      "_model_module_version": "1.5.0",
      "_model_name": "HTMLModel",
      "_view_count": null,
      "_view_module": "@jupyter-widgets/controls",
      "_view_module_version": "1.5.0",
      "_view_name": "HTMLView",
      "description": "",
      "description_tooltip": null,
      "layout": "IPY_MODEL_e8f2eb62313647e5b85285c023aab787",
      "placeholder": "​",
      "style": "IPY_MODEL_b6f64eb81ab041ecbe3c11f535566c99",
      "value": "sentence_bert_config.json: 100%"
     }
    },
    "ed5fa673de3849cca4afbdd7e785d810": {
     "model_module": "@jupyter-widgets/controls",
     "model_module_version": "1.5.0",
     "model_name": "DescriptionStyleModel",
     "state": {
      "_model_module": "@jupyter-widgets/controls",
      "_model_module_version": "1.5.0",
      "_model_name": "DescriptionStyleModel",
      "_view_count": null,
      "_view_module": "@jupyter-widgets/base",
      "_view_module_version": "1.2.0",
      "_view_name": "StyleView",
      "description_width": ""
     }
    },
    "ede7b30d4f5f4d688fbf4ba5ba051117": {
     "model_module": "@jupyter-widgets/controls",
     "model_module_version": "1.5.0",
     "model_name": "FloatProgressModel",
     "state": {
      "_dom_classes": [],
      "_model_module": "@jupyter-widgets/controls",
      "_model_module_version": "1.5.0",
      "_model_name": "FloatProgressModel",
      "_view_count": null,
      "_view_module": "@jupyter-widgets/controls",
      "_view_module_version": "1.5.0",
      "_view_name": "ProgressView",
      "bar_style": "success",
      "description": "",
      "description_tooltip": null,
      "layout": "IPY_MODEL_460c56667e9642b2b330230e11bf8ae9",
      "max": 538971577,
      "min": 0,
      "orientation": "horizontal",
      "style": "IPY_MODEL_07959ec5bcae4be7995cdf2b0ca9c809",
      "value": 538971577
     }
    },
    "ee4baebd3d704f7fa75fead6df1e0669": {
     "model_module": "@jupyter-widgets/controls",
     "model_module_version": "1.5.0",
     "model_name": "HTMLModel",
     "state": {
      "_dom_classes": [],
      "_model_module": "@jupyter-widgets/controls",
      "_model_module_version": "1.5.0",
      "_model_name": "HTMLModel",
      "_view_count": null,
      "_view_module": "@jupyter-widgets/controls",
      "_view_module_version": "1.5.0",
      "_view_name": "HTMLView",
      "description": "",
      "description_tooltip": null,
      "layout": "IPY_MODEL_60b824031a374f05a54032044dab005a",
      "placeholder": "​",
      "style": "IPY_MODEL_fb09541b50954033ae27448a75bf16a9",
      "value": "model-00005-of-00005.safetensors: 100%"
     }
    },
    "eeb176b61ca14ea2aebba93a3a2b5c24": {
     "model_module": "@jupyter-widgets/controls",
     "model_module_version": "1.5.0",
     "model_name": "HBoxModel",
     "state": {
      "_dom_classes": [],
      "_model_module": "@jupyter-widgets/controls",
      "_model_module_version": "1.5.0",
      "_model_name": "HBoxModel",
      "_view_count": null,
      "_view_module": "@jupyter-widgets/controls",
      "_view_module_version": "1.5.0",
      "_view_name": "HBoxView",
      "box_style": "",
      "children": [
       "IPY_MODEL_607ec24c79164ac5b098481cd60b7441",
       "IPY_MODEL_157d6f3e76824e008b791574b43cb9b7",
       "IPY_MODEL_e9ad4078521740dbbfe8aa4e00ac3775"
      ],
      "layout": "IPY_MODEL_987996a8493148c7a2c8ce2154028f42"
     }
    },
    "f0d7478d0a5b4744ba8529c4cf48f60f": {
     "model_module": "@jupyter-widgets/controls",
     "model_module_version": "1.5.0",
     "model_name": "DescriptionStyleModel",
     "state": {
      "_model_module": "@jupyter-widgets/controls",
      "_model_module_version": "1.5.0",
      "_model_name": "DescriptionStyleModel",
      "_view_count": null,
      "_view_module": "@jupyter-widgets/base",
      "_view_module_version": "1.2.0",
      "_view_name": "StyleView",
      "description_width": ""
     }
    },
    "f13528fff6634930885dd6442fcdd4b8": {
     "model_module": "@jupyter-widgets/base",
     "model_module_version": "1.2.0",
     "model_name": "LayoutModel",
     "state": {
      "_model_module": "@jupyter-widgets/base",
      "_model_module_version": "1.2.0",
      "_model_name": "LayoutModel",
      "_view_count": null,
      "_view_module": "@jupyter-widgets/base",
      "_view_module_version": "1.2.0",
      "_view_name": "LayoutView",
      "align_content": null,
      "align_items": null,
      "align_self": null,
      "border": null,
      "bottom": null,
      "display": null,
      "flex": null,
      "flex_flow": null,
      "grid_area": null,
      "grid_auto_columns": null,
      "grid_auto_flow": null,
      "grid_auto_rows": null,
      "grid_column": null,
      "grid_gap": null,
      "grid_row": null,
      "grid_template_areas": null,
      "grid_template_columns": null,
      "grid_template_rows": null,
      "height": null,
      "justify_content": null,
      "justify_items": null,
      "left": null,
      "margin": null,
      "max_height": null,
      "max_width": null,
      "min_height": null,
      "min_width": null,
      "object_fit": null,
      "object_position": null,
      "order": null,
      "overflow": null,
      "overflow_x": null,
      "overflow_y": null,
      "padding": null,
      "right": null,
      "top": null,
      "visibility": null,
      "width": null
     }
    },
    "f17399dd20e342498840160e943c77a9": {
     "model_module": "@jupyter-widgets/base",
     "model_module_version": "1.2.0",
     "model_name": "LayoutModel",
     "state": {
      "_model_module": "@jupyter-widgets/base",
      "_model_module_version": "1.2.0",
      "_model_name": "LayoutModel",
      "_view_count": null,
      "_view_module": "@jupyter-widgets/base",
      "_view_module_version": "1.2.0",
      "_view_name": "LayoutView",
      "align_content": null,
      "align_items": null,
      "align_self": null,
      "border": null,
      "bottom": null,
      "display": null,
      "flex": null,
      "flex_flow": null,
      "grid_area": null,
      "grid_auto_columns": null,
      "grid_auto_flow": null,
      "grid_auto_rows": null,
      "grid_column": null,
      "grid_gap": null,
      "grid_row": null,
      "grid_template_areas": null,
      "grid_template_columns": null,
      "grid_template_rows": null,
      "height": null,
      "justify_content": null,
      "justify_items": null,
      "left": null,
      "margin": null,
      "max_height": null,
      "max_width": null,
      "min_height": null,
      "min_width": null,
      "object_fit": null,
      "object_position": null,
      "order": null,
      "overflow": null,
      "overflow_x": null,
      "overflow_y": null,
      "padding": null,
      "right": null,
      "top": null,
      "visibility": null,
      "width": null
     }
    },
    "f1f41d395e164c908c0a8f5a34f49c3f": {
     "model_module": "@jupyter-widgets/base",
     "model_module_version": "1.2.0",
     "model_name": "LayoutModel",
     "state": {
      "_model_module": "@jupyter-widgets/base",
      "_model_module_version": "1.2.0",
      "_model_name": "LayoutModel",
      "_view_count": null,
      "_view_module": "@jupyter-widgets/base",
      "_view_module_version": "1.2.0",
      "_view_name": "LayoutView",
      "align_content": null,
      "align_items": null,
      "align_self": null,
      "border": null,
      "bottom": null,
      "display": null,
      "flex": null,
      "flex_flow": null,
      "grid_area": null,
      "grid_auto_columns": null,
      "grid_auto_flow": null,
      "grid_auto_rows": null,
      "grid_column": null,
      "grid_gap": null,
      "grid_row": null,
      "grid_template_areas": null,
      "grid_template_columns": null,
      "grid_template_rows": null,
      "height": null,
      "justify_content": null,
      "justify_items": null,
      "left": null,
      "margin": null,
      "max_height": null,
      "max_width": null,
      "min_height": null,
      "min_width": null,
      "object_fit": null,
      "object_position": null,
      "order": null,
      "overflow": null,
      "overflow_x": null,
      "overflow_y": null,
      "padding": null,
      "right": null,
      "top": null,
      "visibility": null,
      "width": null
     }
    },
    "f2b5590b4c6341d5b89248700e441755": {
     "model_module": "@jupyter-widgets/base",
     "model_module_version": "1.2.0",
     "model_name": "LayoutModel",
     "state": {
      "_model_module": "@jupyter-widgets/base",
      "_model_module_version": "1.2.0",
      "_model_name": "LayoutModel",
      "_view_count": null,
      "_view_module": "@jupyter-widgets/base",
      "_view_module_version": "1.2.0",
      "_view_name": "LayoutView",
      "align_content": null,
      "align_items": null,
      "align_self": null,
      "border": null,
      "bottom": null,
      "display": null,
      "flex": null,
      "flex_flow": null,
      "grid_area": null,
      "grid_auto_columns": null,
      "grid_auto_flow": null,
      "grid_auto_rows": null,
      "grid_column": null,
      "grid_gap": null,
      "grid_row": null,
      "grid_template_areas": null,
      "grid_template_columns": null,
      "grid_template_rows": null,
      "height": null,
      "justify_content": null,
      "justify_items": null,
      "left": null,
      "margin": null,
      "max_height": null,
      "max_width": null,
      "min_height": null,
      "min_width": null,
      "object_fit": null,
      "object_position": null,
      "order": null,
      "overflow": null,
      "overflow_x": null,
      "overflow_y": null,
      "padding": null,
      "right": null,
      "top": null,
      "visibility": null,
      "width": null
     }
    },
    "f369523a439b486fb8113b79f6d3b3eb": {
     "model_module": "@jupyter-widgets/base",
     "model_module_version": "1.2.0",
     "model_name": "LayoutModel",
     "state": {
      "_model_module": "@jupyter-widgets/base",
      "_model_module_version": "1.2.0",
      "_model_name": "LayoutModel",
      "_view_count": null,
      "_view_module": "@jupyter-widgets/base",
      "_view_module_version": "1.2.0",
      "_view_name": "LayoutView",
      "align_content": null,
      "align_items": null,
      "align_self": null,
      "border": null,
      "bottom": null,
      "display": null,
      "flex": null,
      "flex_flow": null,
      "grid_area": null,
      "grid_auto_columns": null,
      "grid_auto_flow": null,
      "grid_auto_rows": null,
      "grid_column": null,
      "grid_gap": null,
      "grid_row": null,
      "grid_template_areas": null,
      "grid_template_columns": null,
      "grid_template_rows": null,
      "height": null,
      "justify_content": null,
      "justify_items": null,
      "left": null,
      "margin": null,
      "max_height": null,
      "max_width": null,
      "min_height": null,
      "min_width": null,
      "object_fit": null,
      "object_position": null,
      "order": null,
      "overflow": null,
      "overflow_x": null,
      "overflow_y": null,
      "padding": null,
      "right": null,
      "top": null,
      "visibility": null,
      "width": null
     }
    },
    "f40667c42da84eb9a6fa2b0b040d3fa2": {
     "model_module": "@jupyter-widgets/controls",
     "model_module_version": "1.5.0",
     "model_name": "HBoxModel",
     "state": {
      "_dom_classes": [],
      "_model_module": "@jupyter-widgets/controls",
      "_model_module_version": "1.5.0",
      "_model_name": "HBoxModel",
      "_view_count": null,
      "_view_module": "@jupyter-widgets/controls",
      "_view_module_version": "1.5.0",
      "_view_name": "HBoxView",
      "box_style": "",
      "children": [
       "IPY_MODEL_df2b71e9348244899ae194a511daf4eb",
       "IPY_MODEL_a93bc157ddec45039bdc13b6ac03bd6f",
       "IPY_MODEL_8b3579aaa4f5439b8d93d4510563360e"
      ],
      "layout": "IPY_MODEL_0413fc1bbc0d45f6b0b636128fc63ffc"
     }
    },
    "f58ebc81e1f349c8b1292a46e04ff133": {
     "model_module": "@jupyter-widgets/controls",
     "model_module_version": "1.5.0",
     "model_name": "ProgressStyleModel",
     "state": {
      "_model_module": "@jupyter-widgets/controls",
      "_model_module_version": "1.5.0",
      "_model_name": "ProgressStyleModel",
      "_view_count": null,
      "_view_module": "@jupyter-widgets/base",
      "_view_module_version": "1.2.0",
      "_view_name": "StyleView",
      "bar_color": null,
      "description_width": ""
     }
    },
    "f5cde8b9d51c492486cf6761472e7f5c": {
     "model_module": "@jupyter-widgets/controls",
     "model_module_version": "1.5.0",
     "model_name": "FloatProgressModel",
     "state": {
      "_dom_classes": [],
      "_model_module": "@jupyter-widgets/controls",
      "_model_module_version": "1.5.0",
      "_model_name": "FloatProgressModel",
      "_view_count": null,
      "_view_module": "@jupyter-widgets/controls",
      "_view_module_version": "1.5.0",
      "_view_name": "ProgressView",
      "bar_style": "success",
      "description": "",
      "description_tooltip": null,
      "layout": "IPY_MODEL_22fc0d77012b46278b8754da51701282",
      "max": 2466,
      "min": 0,
      "orientation": "horizontal",
      "style": "IPY_MODEL_e47796a4cfa94c94bd1e5aee4c9a3d41",
      "value": 2466
     }
    },
    "f6516cdb63a34308a9a8812248cf5968": {
     "model_module": "@jupyter-widgets/controls",
     "model_module_version": "1.5.0",
     "model_name": "FloatProgressModel",
     "state": {
      "_dom_classes": [],
      "_model_module": "@jupyter-widgets/controls",
      "_model_module_version": "1.5.0",
      "_model_name": "FloatProgressModel",
      "_view_count": null,
      "_view_module": "@jupyter-widgets/controls",
      "_view_module_version": "1.5.0",
      "_view_name": "ProgressView",
      "bar_style": "success",
      "description": "",
      "description_tooltip": null,
      "layout": "IPY_MODEL_2b11834c4d8442119804c2541df3ee62",
      "max": 1,
      "min": 0,
      "orientation": "horizontal",
      "style": "IPY_MODEL_f58ebc81e1f349c8b1292a46e04ff133",
      "value": 1
     }
    },
    "f7bcb6cf78ae43669c26bc4d1cf10712": {
     "model_module": "@jupyter-widgets/controls",
     "model_module_version": "1.5.0",
     "model_name": "DescriptionStyleModel",
     "state": {
      "_model_module": "@jupyter-widgets/controls",
      "_model_module_version": "1.5.0",
      "_model_name": "DescriptionStyleModel",
      "_view_count": null,
      "_view_module": "@jupyter-widgets/base",
      "_view_module_version": "1.2.0",
      "_view_name": "StyleView",
      "description_width": ""
     }
    },
    "f9171dbec95e496e9c1fc7701e878c59": {
     "model_module": "@jupyter-widgets/base",
     "model_module_version": "1.2.0",
     "model_name": "LayoutModel",
     "state": {
      "_model_module": "@jupyter-widgets/base",
      "_model_module_version": "1.2.0",
      "_model_name": "LayoutModel",
      "_view_count": null,
      "_view_module": "@jupyter-widgets/base",
      "_view_module_version": "1.2.0",
      "_view_name": "LayoutView",
      "align_content": null,
      "align_items": null,
      "align_self": null,
      "border": null,
      "bottom": null,
      "display": null,
      "flex": null,
      "flex_flow": null,
      "grid_area": null,
      "grid_auto_columns": null,
      "grid_auto_flow": null,
      "grid_auto_rows": null,
      "grid_column": null,
      "grid_gap": null,
      "grid_row": null,
      "grid_template_areas": null,
      "grid_template_columns": null,
      "grid_template_rows": null,
      "height": null,
      "justify_content": null,
      "justify_items": null,
      "left": null,
      "margin": null,
      "max_height": null,
      "max_width": null,
      "min_height": null,
      "min_width": null,
      "object_fit": null,
      "object_position": null,
      "order": null,
      "overflow": null,
      "overflow_x": null,
      "overflow_y": null,
      "padding": null,
      "right": null,
      "top": null,
      "visibility": null,
      "width": null
     }
    },
    "fa7afc9a92444aa781c5d0d78c987411": {
     "model_module": "@jupyter-widgets/controls",
     "model_module_version": "1.5.0",
     "model_name": "FloatProgressModel",
     "state": {
      "_dom_classes": [],
      "_model_module": "@jupyter-widgets/controls",
      "_model_module_version": "1.5.0",
      "_model_name": "FloatProgressModel",
      "_view_count": null,
      "_view_module": "@jupyter-widgets/controls",
      "_view_module_version": "1.5.0",
      "_view_name": "ProgressView",
      "bar_style": "success",
      "description": "",
      "description_tooltip": null,
      "layout": "IPY_MODEL_db7e5ff58891416fb320274fee72eed8",
      "max": 4999819336,
      "min": 0,
      "orientation": "horizontal",
      "style": "IPY_MODEL_c96e63f94e6646feaabec81ee16a130c",
      "value": 4999819336
     }
    },
    "fb09541b50954033ae27448a75bf16a9": {
     "model_module": "@jupyter-widgets/controls",
     "model_module_version": "1.5.0",
     "model_name": "DescriptionStyleModel",
     "state": {
      "_model_module": "@jupyter-widgets/controls",
      "_model_module_version": "1.5.0",
      "_model_name": "DescriptionStyleModel",
      "_view_count": null,
      "_view_module": "@jupyter-widgets/base",
      "_view_module_version": "1.2.0",
      "_view_name": "StyleView",
      "description_width": ""
     }
    },
    "fb1b2bfe7d8842e3b51be1268aa96b7e": {
     "model_module": "@jupyter-widgets/controls",
     "model_module_version": "1.5.0",
     "model_name": "ProgressStyleModel",
     "state": {
      "_model_module": "@jupyter-widgets/controls",
      "_model_module_version": "1.5.0",
      "_model_name": "ProgressStyleModel",
      "_view_count": null,
      "_view_module": "@jupyter-widgets/base",
      "_view_module_version": "1.2.0",
      "_view_name": "StyleView",
      "bar_color": null,
      "description_width": ""
     }
    },
    "fb1fe6c1f51c497c8a805461e97ecebc": {
     "model_module": "@jupyter-widgets/controls",
     "model_module_version": "1.5.0",
     "model_name": "ProgressStyleModel",
     "state": {
      "_model_module": "@jupyter-widgets/controls",
      "_model_module_version": "1.5.0",
      "_model_name": "ProgressStyleModel",
      "_view_count": null,
      "_view_module": "@jupyter-widgets/base",
      "_view_module_version": "1.2.0",
      "_view_name": "StyleView",
      "bar_color": null,
      "description_width": ""
     }
    },
    "fb7cd08e1a924f909d6338acfe422836": {
     "model_module": "@jupyter-widgets/base",
     "model_module_version": "1.2.0",
     "model_name": "LayoutModel",
     "state": {
      "_model_module": "@jupyter-widgets/base",
      "_model_module_version": "1.2.0",
      "_model_name": "LayoutModel",
      "_view_count": null,
      "_view_module": "@jupyter-widgets/base",
      "_view_module_version": "1.2.0",
      "_view_name": "LayoutView",
      "align_content": null,
      "align_items": null,
      "align_self": null,
      "border": null,
      "bottom": null,
      "display": null,
      "flex": null,
      "flex_flow": null,
      "grid_area": null,
      "grid_auto_columns": null,
      "grid_auto_flow": null,
      "grid_auto_rows": null,
      "grid_column": null,
      "grid_gap": null,
      "grid_row": null,
      "grid_template_areas": null,
      "grid_template_columns": null,
      "grid_template_rows": null,
      "height": null,
      "justify_content": null,
      "justify_items": null,
      "left": null,
      "margin": null,
      "max_height": null,
      "max_width": null,
      "min_height": null,
      "min_width": null,
      "object_fit": null,
      "object_position": null,
      "order": null,
      "overflow": null,
      "overflow_x": null,
      "overflow_y": null,
      "padding": null,
      "right": null,
      "top": null,
      "visibility": null,
      "width": null
     }
    },
    "fbfc8ba92e724d829f536b60ee8312d4": {
     "model_module": "@jupyter-widgets/base",
     "model_module_version": "1.2.0",
     "model_name": "LayoutModel",
     "state": {
      "_model_module": "@jupyter-widgets/base",
      "_model_module_version": "1.2.0",
      "_model_name": "LayoutModel",
      "_view_count": null,
      "_view_module": "@jupyter-widgets/base",
      "_view_module_version": "1.2.0",
      "_view_name": "LayoutView",
      "align_content": null,
      "align_items": null,
      "align_self": null,
      "border": null,
      "bottom": null,
      "display": null,
      "flex": null,
      "flex_flow": null,
      "grid_area": null,
      "grid_auto_columns": null,
      "grid_auto_flow": null,
      "grid_auto_rows": null,
      "grid_column": null,
      "grid_gap": null,
      "grid_row": null,
      "grid_template_areas": null,
      "grid_template_columns": null,
      "grid_template_rows": null,
      "height": null,
      "justify_content": null,
      "justify_items": null,
      "left": null,
      "margin": null,
      "max_height": null,
      "max_width": null,
      "min_height": null,
      "min_width": null,
      "object_fit": null,
      "object_position": null,
      "order": null,
      "overflow": null,
      "overflow_x": null,
      "overflow_y": null,
      "padding": null,
      "right": null,
      "top": null,
      "visibility": null,
      "width": null
     }
    },
    "fe042932fb3c478fb8780b0116d876a8": {
     "model_module": "@jupyter-widgets/controls",
     "model_module_version": "1.5.0",
     "model_name": "DescriptionStyleModel",
     "state": {
      "_model_module": "@jupyter-widgets/controls",
      "_model_module_version": "1.5.0",
      "_model_name": "DescriptionStyleModel",
      "_view_count": null,
      "_view_module": "@jupyter-widgets/base",
      "_view_module_version": "1.2.0",
      "_view_name": "StyleView",
      "description_width": ""
     }
    }
   }
  }
 },
 "nbformat": 4,
 "nbformat_minor": 5
}
