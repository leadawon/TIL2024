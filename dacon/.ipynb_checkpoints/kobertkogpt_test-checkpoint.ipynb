{
 "cells": [
  {
   "cell_type": "code",
   "execution_count": 1,
   "metadata": {},
   "outputs": [
    {
     "name": "stderr",
     "output_type": "stream",
     "text": [
      "The tokenizer class you load from this checkpoint is not the same type as the class this function is called from. It may result in unexpected tokenization. \n",
      "The tokenizer class you load from this checkpoint is 'BertTokenizer'. \n",
      "The class this function is called from is 'KoBertTokenizer'.\n"
     ]
    }
   ],
   "source": [
    "import os\n",
    "import pandas as pd\n",
    "os.environ['CUDA_VISIBLE_DEVICES'] = '2' # nvidia-smi로 비어있는 gpu 확인하고 여기서 선택할것!\n",
    "\n",
    "from transformers import (\n",
    "    PreTrainedTokenizerFast as BaseGPT2Tokenizer,\n",
    "    EncoderDecoderModel,\n",
    "    DataCollatorForSeq2Seq,\n",
    ")\n",
    "\n",
    "from asset.tokenization_kobert import KoBertTokenizer\n",
    "from asset import tokenization_kobert\n",
    "src_tokenizer = KoBertTokenizer.from_pretrained('monologg/kobert')"
   ]
  },
  {
   "cell_type": "code",
   "execution_count": 2,
   "metadata": {},
   "outputs": [],
   "source": [
    "class GPT2Tokenizer(BaseGPT2Tokenizer):\n",
    "    def build_inputs_with_special_tokens(self, token_ids, _):\n",
    "        return token_ids + [self.eos_token_id]\n",
    "trg_tokenizer = GPT2Tokenizer.from_pretrained(\"skt/kogpt2-base-v2\",\n",
    "  bos_token='</s>', eos_token='</s>', unk_token='<unk>',\n",
    "  pad_token='<pad>', mask_token='<mask>')"
   ]
  },
  {
   "cell_type": "code",
   "execution_count": 3,
   "metadata": {},
   "outputs": [],
   "source": [
    "model = EncoderDecoderModel.from_pretrained('checkpoints/dacon-v0/checkpoint-15500')\n",
    "model.eval()\n",
    "model.config.decoder_start_token_id = trg_tokenizer.bos_token_id"
   ]
  },
  {
   "cell_type": "code",
   "execution_count": 4,
   "metadata": {},
   "outputs": [],
   "source": [
    "def read_input(path):\n",
    "    test_question = []\n",
    "    test = pd.read_csv(path)\n",
    "    for ut in test['질문']:\n",
    "        test_question.append(ut)\n",
    "\n",
    "    return test_question"
   ]
  },
  {
   "cell_type": "code",
   "execution_count": 5,
   "metadata": {},
   "outputs": [],
   "source": [
    "test_q= read_input('./bigdata/test.csv')"
   ]
  },
  {
   "cell_type": "code",
   "execution_count": 6,
   "metadata": {},
   "outputs": [],
   "source": [
    "def translate(text):\n",
    "    embeddings = src_tokenizer(text, return_attention_mask=False, return_token_type_ids=False, return_tensors='pt')\n",
    "    embeddings = {k: v for k, v in embeddings.items()}\n",
    "    # generate 함수에 하이퍼파라미터 추가\n",
    "    output_sequences = model.generate(\n",
    "        **embeddings,\n",
    "        max_length=65,\n",
    "        temperature=0.9,\n",
    "        top_k=1,\n",
    "        top_p=0.9,\n",
    "        repetition_penalty=1.2,\n",
    "        do_sample=True,\n",
    "        num_return_sequences=1\n",
    "    )\n",
    "    \n",
    "    tmp = trg_tokenizer.decode(output_sequences[0, 1:-1].cpu())\n",
    "    return tmp"
   ]
  },
  {
   "cell_type": "code",
   "execution_count": null,
   "metadata": {},
   "outputs": [],
   "source": [
    "def translate_framework(text):\n",
    "    pred = \"\"\n",
    "    dividers = [\"또한,\",\"그리고\"]\n",
    "    for divider in dividers:\n",
    "        \n",
    "        if divider in text:\n",
    "            text1 = text.split(divider)[0].strip()\n",
    "            text2 = text.split(divider)[1].strip()\n",
    "            pred = translate(text1+text2)\n",
    "            return pred\n",
    "    else:\n",
    "        pred = translate(text)\n",
    "        return pred\n",
    "    "
   ]
  },
  {
   "cell_type": "code",
   "execution_count": 7,
   "metadata": {},
   "outputs": [
    {
     "name": "stdout",
     "output_type": "stream",
     "text": [
      "size of full :  130\n"
     ]
    }
   ],
   "source": [
    "print(\"size of full : \",len(test_q))"
   ]
  },
  {
   "cell_type": "code",
   "execution_count": 8,
   "metadata": {},
   "outputs": [
    {
     "name": "stderr",
     "output_type": "stream",
     "text": [
      "/home/leadawon5/gitfiles/venvs/myvenv/lib/python3.7/site-packages/transformers/generation/utils.py:1260: UserWarning: You have modified the pretrained model configuration to control generation. This is a deprecated strategy to control generation and will be removed soon, in a future version. Please use a generation configuration file (see https://huggingface.co/docs/transformers/main_classes/text_generation)\n",
      "  \"You have modified the pretrained model configuration to control generation. This is a\"\n"
     ]
    },
    {
     "name": "stdout",
     "output_type": "stream",
     "text": [
      "source_text :  방청 페인트의 종류에는 어떤 것들이 있는지 알고 계신가요? 또한, 원목사이딩을 사용하는 것에 어떤 단점이 있을까요?\n",
      "result :       방청 페인트의 단점은 주로 시공 과정에서의 문제와 유지보수 측면에서 발생합니다. 제대로된 시공이 이뤄지지 않을 경우 균열이 발생하거나 오염이 쉽게 생길 수 있으며, 유지보수에 대한 노력과 비용이 필요할 수 있습니다. 또한, 특히 철재나 목재와 같은 소재에 적용될 경우에는 추가적인 관리가 필요할 수 있습니다. 이러한 점들을 고려하여 전문가의 조언을 구하는 것이 좋습니다. 때때로 방청 페인트를 선택할 때는 시공과 유지보수에 대한 신중한 고려가 필요합니다. 올바른 선택을 통해 방청 효과를 낼 수 있으므로 이 점을 유의해야 합니다. 따라서 상황에 맞는 적절한 방법을 선택하여 사용하는 것이 중요합니다. 때로는 방청 페인트를 선택할 때에는 시공과 유지보수가 더 중요한 요소라고 할 수 있습니다. 따라서, 방청 페인트를 선택할 때에는 시공과 유지보수를 종합적으로 고려해야 합니다. 따라서 적합한 방청 페인트를 선택하는 것이 중요합니다. 이를 통해 방청 페인트를 효과적으로 제거하여 아름다운 마감재를 유지할 수 있을 것입니다. 추가적으로, 방청 페인트를 사용할 경우에도 추가적인 관리가 필요하며, 이는 비용과 시간을 더\n",
      "\n",
      "\n",
      "source_text :  도배지에 녹은 자국이 발생하는 주된 원인과 그 해결 방법은 무엇인가요?\n",
      "result :       도배지에 녹이 묻어나오는 것은 녹오염으로, 도배지 상에 녹색 또는 갈색의 녹이 발생하는 현상을 의미합니다. 이러한 현상이 발생하는 원인, 책임 소재 및 해결 방법은 다음과 같습니다.  1. 습도 문제 원인: 높은 습도로 인해 도배지 안쪽의 금속 물질이 산화되어 녹이 도배지에 발생할 수 있습니다. 책임 소재: 건물의 소유자나 거주자가 습기 관리의 책임이 있습니다. 해결 방법: 제습기를 가동하거나 실내의 적정 습도를 유지하기 위해 환기를 통해 습기를 제거하는 것이 중요합니다. 전문가의 도움을 받아 보수 작업을 권장합니다.  2. 누수 원인: 누수로 도배지가 젖어 있는 상태가 계속되면 곰팡이와 녹이 발생할 수 있습니다. 책임 소재: 누수 문제는 건물의 소유자나 거주자의 관리 책임이 있습니다. 해결 방법: 누수를 해결하고 곰팡이와 녹이 발생한 부분 및 전체 도배지를 교체하는 보수 작업이 필요합니다. 이러한 작업은 전문가의 도움을 받는 것이 좋습니다.  3. 화학물질에 의한 오염 원인: 도배지가 화학물질에 노출되면 오염이 발생할\n",
      "\n",
      "\n",
      "source_text :  큐블럭의 단점을 알려주세요. 또한, 압출법 단열판을 사용하는 것의 장점은 무엇인가요?\n",
      "result :       큐블럭의 단점은 주로 가격이 상대적으로 비싸다는 점, 그리고 균열이 일반 벽돌에 비해 더 쉽게 생길 수 있다는 것입니다. 또한 습기로 인해 하자가 발생할 가능성이 있는 것도 단점으로 꼽힙니다. 이러한 단점을 고려하여 적절한 유지보수와 관리가 필요합니다. 또한, 특히 습기에 더욱 민감하므로 제습기를 가동하고 환기를 통해 실내 적정 습도를 유지하는 것이 중요합니다. 추가로 설치 및 배출에 대한 환경적 영향에 대해서도 고려할 필요가 있습니다. 추가적으로 건축 시 추가적인 비용이 들 수 있으므로 이 점을 감안하여 적절한 관리를 하는 것이 중요합니다. 최종적으로는 올바른 디자인과 다양한 스타일의 건물을 비교하여 적합한 디자인을 선택하는 것이 중요합니다. 때때로 단점으로 여겨질 수 있으므로 해당 부분에 주의를 기울여야 합니다. 앰비언트 조명이나 단열재에 대한 고려가 필요할 수 있습니다. 만일 이러한 단점을 고려하여 전문가의 조언을 구하는 것이 좋습니다. 때때로단점으로 언급될 수 있으므로 해당 부분을 신중하게 검토하고, 적절한 조치를 취하여 문제를 해결할 필요가 있습니다. 따라서 이러한 사항들을 고려하여 적절한 조치를 취하는 것이 중요합니다. 추가로 건축주와 시공사는 클라이언트에게 직접 상담을\n",
      "\n",
      "\n"
     ]
    }
   ],
   "source": [
    "preds = []\n",
    "for i in range(len(test_q)):\n",
    "    sr_text = test_q[i] # dialect\n",
    "    tg_text = translate_framework(sr_text) # translate\n",
    "    preds.append(tg_text)\n",
    "    if i<3:\n",
    "        print(\"source_text : \",sr_text)\n",
    "        print(\"result :      \",tg_text)\n",
    "        print()\n",
    "        print()"
   ]
  },
  {
   "cell_type": "code",
   "execution_count": 9,
   "metadata": {},
   "outputs": [
    {
     "data": {
      "text/plain": [
       "(130, 512)"
      ]
     },
     "execution_count": 9,
     "metadata": {},
     "output_type": "execute_result"
    }
   ],
   "source": [
    "# Test 데이터셋의 모든 질의에 대한 답변으로부터 512 차원의 Embedding Vector 추출\n",
    "# 평가를 위한 Embedding Vector 추출에 활용하는 모델은 'distiluse-base-multilingual-cased-v1' 이므로 반드시 확인해주세요.\n",
    "from sentence_transformers import SentenceTransformer # SentenceTransformer Version 2.2.2\n",
    "\n",
    "# Embedding Vector 추출에 활용할 모델(distiluse-base-multilingual-cased-v1) 불러오기\n",
    "model = SentenceTransformer('distiluse-base-multilingual-cased-v1')\n",
    "\n",
    "# 생성한 모든 응답(답변)으로부터 Embedding Vector 추출\n",
    "pred_embeddings = model.encode(preds)\n",
    "pred_embeddings.shape"
   ]
  },
  {
   "cell_type": "code",
   "execution_count": 10,
   "metadata": {},
   "outputs": [
    {
     "data": {
      "text/html": [
       "<div>\n",
       "<style scoped>\n",
       "    .dataframe tbody tr th:only-of-type {\n",
       "        vertical-align: middle;\n",
       "    }\n",
       "\n",
       "    .dataframe tbody tr th {\n",
       "        vertical-align: top;\n",
       "    }\n",
       "\n",
       "    .dataframe thead th {\n",
       "        text-align: right;\n",
       "    }\n",
       "</style>\n",
       "<table border=\"1\" class=\"dataframe\">\n",
       "  <thead>\n",
       "    <tr style=\"text-align: right;\">\n",
       "      <th></th>\n",
       "      <th>id</th>\n",
       "      <th>vec_0</th>\n",
       "      <th>vec_1</th>\n",
       "      <th>vec_2</th>\n",
       "      <th>vec_3</th>\n",
       "      <th>vec_4</th>\n",
       "      <th>vec_5</th>\n",
       "      <th>vec_6</th>\n",
       "      <th>vec_7</th>\n",
       "      <th>vec_8</th>\n",
       "      <th>...</th>\n",
       "      <th>vec_502</th>\n",
       "      <th>vec_503</th>\n",
       "      <th>vec_504</th>\n",
       "      <th>vec_505</th>\n",
       "      <th>vec_506</th>\n",
       "      <th>vec_507</th>\n",
       "      <th>vec_508</th>\n",
       "      <th>vec_509</th>\n",
       "      <th>vec_510</th>\n",
       "      <th>vec_511</th>\n",
       "    </tr>\n",
       "  </thead>\n",
       "  <tbody>\n",
       "    <tr>\n",
       "      <th>0</th>\n",
       "      <td>TEST_000</td>\n",
       "      <td>0.040101</td>\n",
       "      <td>0.059373</td>\n",
       "      <td>0.033916</td>\n",
       "      <td>0.009845</td>\n",
       "      <td>0.106348</td>\n",
       "      <td>0.014607</td>\n",
       "      <td>-0.015728</td>\n",
       "      <td>0.035373</td>\n",
       "      <td>0.043515</td>\n",
       "      <td>...</td>\n",
       "      <td>-0.014639</td>\n",
       "      <td>-0.038339</td>\n",
       "      <td>0.040049</td>\n",
       "      <td>-0.046285</td>\n",
       "      <td>-0.002189</td>\n",
       "      <td>0.030802</td>\n",
       "      <td>0.053001</td>\n",
       "      <td>-0.018518</td>\n",
       "      <td>0.031258</td>\n",
       "      <td>0.040364</td>\n",
       "    </tr>\n",
       "    <tr>\n",
       "      <th>1</th>\n",
       "      <td>TEST_001</td>\n",
       "      <td>0.001558</td>\n",
       "      <td>-0.014091</td>\n",
       "      <td>0.006501</td>\n",
       "      <td>0.013326</td>\n",
       "      <td>0.069428</td>\n",
       "      <td>-0.013722</td>\n",
       "      <td>-0.008838</td>\n",
       "      <td>-0.023086</td>\n",
       "      <td>-0.008068</td>\n",
       "      <td>...</td>\n",
       "      <td>-0.025123</td>\n",
       "      <td>-0.016320</td>\n",
       "      <td>0.043627</td>\n",
       "      <td>-0.045907</td>\n",
       "      <td>-0.025323</td>\n",
       "      <td>0.035060</td>\n",
       "      <td>-0.005475</td>\n",
       "      <td>-0.009468</td>\n",
       "      <td>0.036679</td>\n",
       "      <td>-0.004167</td>\n",
       "    </tr>\n",
       "    <tr>\n",
       "      <th>2</th>\n",
       "      <td>TEST_002</td>\n",
       "      <td>-0.002250</td>\n",
       "      <td>-0.040708</td>\n",
       "      <td>-0.016109</td>\n",
       "      <td>-0.010886</td>\n",
       "      <td>0.129003</td>\n",
       "      <td>-0.028186</td>\n",
       "      <td>0.003166</td>\n",
       "      <td>-0.018291</td>\n",
       "      <td>0.057765</td>\n",
       "      <td>...</td>\n",
       "      <td>-0.021544</td>\n",
       "      <td>-0.011554</td>\n",
       "      <td>0.059608</td>\n",
       "      <td>-0.009383</td>\n",
       "      <td>-0.031508</td>\n",
       "      <td>0.026178</td>\n",
       "      <td>-0.006653</td>\n",
       "      <td>-0.010588</td>\n",
       "      <td>-0.041521</td>\n",
       "      <td>0.061371</td>\n",
       "    </tr>\n",
       "    <tr>\n",
       "      <th>3</th>\n",
       "      <td>TEST_003</td>\n",
       "      <td>-0.006823</td>\n",
       "      <td>0.006221</td>\n",
       "      <td>-0.009513</td>\n",
       "      <td>0.015678</td>\n",
       "      <td>0.078915</td>\n",
       "      <td>-0.022336</td>\n",
       "      <td>-0.086387</td>\n",
       "      <td>0.008958</td>\n",
       "      <td>0.006116</td>\n",
       "      <td>...</td>\n",
       "      <td>-0.022040</td>\n",
       "      <td>0.004866</td>\n",
       "      <td>0.057037</td>\n",
       "      <td>-0.056200</td>\n",
       "      <td>0.000833</td>\n",
       "      <td>0.024136</td>\n",
       "      <td>0.003767</td>\n",
       "      <td>0.000471</td>\n",
       "      <td>-0.044686</td>\n",
       "      <td>0.031351</td>\n",
       "    </tr>\n",
       "    <tr>\n",
       "      <th>4</th>\n",
       "      <td>TEST_004</td>\n",
       "      <td>0.013909</td>\n",
       "      <td>-0.035894</td>\n",
       "      <td>-0.029757</td>\n",
       "      <td>0.010789</td>\n",
       "      <td>0.094722</td>\n",
       "      <td>-0.004431</td>\n",
       "      <td>0.047455</td>\n",
       "      <td>0.065510</td>\n",
       "      <td>-0.010050</td>\n",
       "      <td>...</td>\n",
       "      <td>0.012277</td>\n",
       "      <td>-0.018939</td>\n",
       "      <td>0.028948</td>\n",
       "      <td>-0.021145</td>\n",
       "      <td>-0.041772</td>\n",
       "      <td>0.013285</td>\n",
       "      <td>-0.028780</td>\n",
       "      <td>-0.008531</td>\n",
       "      <td>0.001023</td>\n",
       "      <td>-0.005578</td>\n",
       "    </tr>\n",
       "  </tbody>\n",
       "</table>\n",
       "<p>5 rows × 513 columns</p>\n",
       "</div>"
      ],
      "text/plain": [
       "         id     vec_0     vec_1     vec_2     vec_3     vec_4     vec_5  \\\n",
       "0  TEST_000  0.040101  0.059373  0.033916  0.009845  0.106348  0.014607   \n",
       "1  TEST_001  0.001558 -0.014091  0.006501  0.013326  0.069428 -0.013722   \n",
       "2  TEST_002 -0.002250 -0.040708 -0.016109 -0.010886  0.129003 -0.028186   \n",
       "3  TEST_003 -0.006823  0.006221 -0.009513  0.015678  0.078915 -0.022336   \n",
       "4  TEST_004  0.013909 -0.035894 -0.029757  0.010789  0.094722 -0.004431   \n",
       "\n",
       "      vec_6     vec_7     vec_8  ...   vec_502   vec_503   vec_504   vec_505  \\\n",
       "0 -0.015728  0.035373  0.043515  ... -0.014639 -0.038339  0.040049 -0.046285   \n",
       "1 -0.008838 -0.023086 -0.008068  ... -0.025123 -0.016320  0.043627 -0.045907   \n",
       "2  0.003166 -0.018291  0.057765  ... -0.021544 -0.011554  0.059608 -0.009383   \n",
       "3 -0.086387  0.008958  0.006116  ... -0.022040  0.004866  0.057037 -0.056200   \n",
       "4  0.047455  0.065510 -0.010050  ...  0.012277 -0.018939  0.028948 -0.021145   \n",
       "\n",
       "    vec_506   vec_507   vec_508   vec_509   vec_510   vec_511  \n",
       "0 -0.002189  0.030802  0.053001 -0.018518  0.031258  0.040364  \n",
       "1 -0.025323  0.035060 -0.005475 -0.009468  0.036679 -0.004167  \n",
       "2 -0.031508  0.026178 -0.006653 -0.010588 -0.041521  0.061371  \n",
       "3  0.000833  0.024136  0.003767  0.000471 -0.044686  0.031351  \n",
       "4 -0.041772  0.013285 -0.028780 -0.008531  0.001023 -0.005578  \n",
       "\n",
       "[5 rows x 513 columns]"
      ]
     },
     "execution_count": 10,
     "metadata": {},
     "output_type": "execute_result"
    }
   ],
   "source": [
    "submit = pd.read_csv('./bigdata/sample_submission.csv')\n",
    "# 제출 양식 파일(sample_submission.csv)을 활용하여 Embedding Vector로 변환한 결과를 삽입\n",
    "submit.iloc[:,1:] = pred_embeddings\n",
    "submit.head()"
   ]
  },
  {
   "cell_type": "code",
   "execution_count": 11,
   "metadata": {},
   "outputs": [],
   "source": [
    "# 리더보드 제출을 위한 csv파일 생성\n",
    "submit.to_csv('./submit/dacon-v0_submit.csv', index=False)"
   ]
  },
  {
   "cell_type": "code",
   "execution_count": null,
   "metadata": {},
   "outputs": [],
   "source": []
  },
  {
   "cell_type": "code",
   "execution_count": 12,
   "metadata": {},
   "outputs": [
    {
     "name": "stdout",
     "output_type": "stream",
     "text": [
      "['큐블럭의 단점을 알려주세요. ', ' 압출법 단열판을 사용하는 것의 장점은 무엇인가요?']\n"
     ]
    }
   ],
   "source": [
    "sample=\"큐블럭의 단점을 알려주세요. 또한, 압출법 단열판을 사용하는 것의 장점은 무엇인가요?\"\n",
    "print(sample.split(\"또한,\"))"
   ]
  },
  {
   "cell_type": "code",
   "execution_count": null,
   "metadata": {},
   "outputs": [],
   "source": []
  }
 ],
 "metadata": {
  "kernelspec": {
   "display_name": "myvenv",
   "language": "python",
   "name": "myvenv"
  },
  "language_info": {
   "codemirror_mode": {
    "name": "ipython",
    "version": 3
   },
   "file_extension": ".py",
   "mimetype": "text/x-python",
   "name": "python",
   "nbconvert_exporter": "python",
   "pygments_lexer": "ipython3",
   "version": "3.7.6"
  }
 },
 "nbformat": 4,
 "nbformat_minor": 4
}
