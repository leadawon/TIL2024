{
 "cells": [
  {
   "cell_type": "code",
   "execution_count": 5,
   "metadata": {},
   "outputs": [
    {
     "name": "stdout",
     "output_type": "stream",
     "text": [
      "dict_keys(['num', 'session1_persona', 'session2_persona', 'current'])\n",
      "[\"Speaker 1: I've booked myself a week long vacation from work next month!\", 'Speaker 2: How nice!  Where are you going?', \"Speaker 1: Did not decided yet, I'd like to get an idea about traveling as you are big traveller. \", \"Speaker 2: I like relaxing places, like the beaches.  I love New Orleans, the entertainment is great there.  That is where I'm going on my next vacation.  What is your cousin going to do about the wiring in his house?\", 'Speaker 1: Thank you for the suggestions. I am going to take a look for all place which is available for now. Glad to ask about my cousin, seems like he is having bad times, because of the conditions, those house problem etc. Hope he can figure it out soon. If he has questions about those wiring things, can I give your contact to him?', 'Speaker 2: Yes I would be glad to help in any way I can.  Does he live close to you?', \"Speaker 1: You're so sweet thank you again. Unfortunately, we are not living close enough. If we are living close, I am for sure there things I can help to him\", \"Speaker 2: Well I'm sure I can help him get headed in the right direction with what to do.  He might have to send me photos of some of the problems.  Do you think it is really serious?\", 'Speaker 1: I guess that problems are serious, but I am not a professional one so I do not know about much. I am so glad to have you. You are experienced, professional, so there are nothing to worry about right?', \"Speaker 2: Yes, I've fixed lots of electrical problems.  I have some out of town work I'll be doing, maybe I can stop by his house if isn't too far.\", \"Speaker 1: Thank you as always. First I need you contact my cousin then I'll let you know. I do not want to bother you. I know you have tons of things to do\", 'Speaker 2: Ok that is fine.  Have fun on your vacation and be sure to let me know where you decide to go.']\n"
     ]
    }
   ],
   "source": [
    "import jsonlines\n",
    "with jsonlines.open(\"../bigdata/extracted_persona_session3.jsonl\",'r') as f:\n",
    "        for line in f:\n",
    "            print(line.keys())\n",
    "            print(line['current'])\n",
    "            break"
   ]
  },
  {
   "cell_type": "code",
   "execution_count": null,
   "metadata": {},
   "outputs": [],
   "source": []
  }
 ],
 "metadata": {
  "kernelspec": {
   "display_name": "chavenv",
   "language": "python",
   "name": "chavenv"
  },
  "language_info": {
   "codemirror_mode": {
    "name": "ipython",
    "version": 3
   },
   "file_extension": ".py",
   "mimetype": "text/x-python",
   "name": "python",
   "nbconvert_exporter": "python",
   "pygments_lexer": "ipython3",
   "version": "3.9.18"
  }
 },
 "nbformat": 4,
 "nbformat_minor": 4
}
