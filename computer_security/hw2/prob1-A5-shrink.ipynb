{
 "cells": [
  {
   "cell_type": "code",
   "execution_count": 12,
   "metadata": {},
   "outputs": [],
   "source": [
    "import random\n",
    "import time"
   ]
  },
  {
   "cell_type": "code",
   "execution_count": 13,
   "metadata": {},
   "outputs": [
    {
     "name": "stdout",
     "output_type": "stream",
     "text": [
      "416296\n",
      "AAGHID\n",
      "True\n"
     ]
    }
   ],
   "source": [
    "def transform_back_half_to_front(char):\n",
    "    \"\"\"알파벳의 뒤쪽 절반('N'-'Z')을 앞쪽 절반('A'-'M')으로 변환합니다.\"\"\"\n",
    "    if 'N' <= char <= 'Z':\n",
    "        # 'N'부터 'Z'까지의 문자를 'A'부터 'M'으로 매핑\n",
    "        return chr(ord(char) - 13)\n",
    "    return char\n",
    "\n",
    "words = []\n",
    "with open(\"words.txt\", \"r\") as file:\n",
    "    for line in file:\n",
    "        word = line.strip().upper()\n",
    "        if word.isalpha():  \n",
    "            transformed_word = ''.join(transform_back_half_to_front(char) for char in line.strip().upper())\n",
    "            words.append(transformed_word)\n",
    "\n",
    "print(len(words))\n",
    "words = random.sample(words, min(10000, len(words)))  \n",
    "words.sort()\n",
    "\n",
    "def binary_search(arr, target):\n",
    "    left, right = 0, len(arr) - 1\n",
    "    while left <= right:\n",
    "        mid = (left + right) // 2\n",
    "        if arr[mid] == target:\n",
    "            return True\n",
    "        elif arr[mid] < target:\n",
    "            left = mid + 1\n",
    "        else:\n",
    "            right = mid - 1\n",
    "    return False\n",
    "\n",
    "# 테스트\n",
    "print(words[100])\n",
    "target_string = words[100]  # 샘플링된 리스트의 101번째 단어를 목표 단어로 선택\n",
    "is_found = binary_search(words, target_string)\n",
    "print(is_found)  # True가 출력되어야 함, 해당 단어가 리스트에 존재한다는 것을 의미"
   ]
  },
  {
   "cell_type": "code",
   "execution_count": 14,
   "metadata": {},
   "outputs": [
    {
     "name": "stdout",
     "output_type": "stream",
     "text": [
      "False\n"
     ]
    }
   ],
   "source": [
    "\n",
    "target_string = words[100] + \"1234\"  \n",
    "is_found = binary_search(words, target_string)\n",
    "print(is_found)  "
   ]
  },
  {
   "cell_type": "code",
   "execution_count": 15,
   "metadata": {},
   "outputs": [],
   "source": [
    "def generate_random_sentence(word_list, num_words):\n",
    "    chosen_words = random.sample(word_list, num_words)\n",
    "    sentence = ''.join(chosen_words)\n",
    "    return sentence.upper()"
   ]
  },
  {
   "cell_type": "code",
   "execution_count": 16,
   "metadata": {},
   "outputs": [
    {
     "data": {
      "text/plain": [
       "'HACBAFLICGIAGCHEBLAFAHCALFFAAIGIMEFLBAGIILLECBFGEEBMEFIALMIFLIKE'"
      ]
     },
     "execution_count": 16,
     "metadata": {},
     "output_type": "execute_result"
    }
   ],
   "source": [
    "random_text = generate_random_sentence(words,7)\n",
    "random_text"
   ]
  },
  {
   "cell_type": "code",
   "execution_count": 17,
   "metadata": {},
   "outputs": [
    {
     "name": "stdout",
     "output_type": "stream",
     "text": [
      "Decrypted and Split Sentence: PREVIOUS\n",
      "Failed to decrypt and split the sentence.\n"
     ]
    }
   ],
   "source": [
    "def find_valid_splits(text, words, start=0, memo=None):\n",
    "    if memo is None:\n",
    "        memo = {}\n",
    "    if start in memo:  \n",
    "        return memo[start]\n",
    "    if start >= len(text): \n",
    "        return [[]]\n",
    "\n",
    "    valid_splits = []\n",
    "    for end in range(start + 1, len(text) + 1):\n",
    "        current_substr = text[start:end]\n",
    "        if binary_search(words, current_substr):\n",
    "            for split in find_valid_splits(text, words, end, memo):\n",
    "                valid_splits.append([current_substr] + split)\n",
    "\n",
    "    memo[start] = valid_splits  \n",
    "    return valid_splits\n",
    "\n",
    "def decrypt_and_split(ciphertext, words):\n",
    "    all_splits = find_valid_splits(ciphertext, words)\n",
    "\n",
    "    if all_splits:\n",
    "        valid_split = min(all_splits, key=len)  \n",
    "        return ' '.join(valid_split)\n",
    "    else:\n",
    "        return False\n",
    "\n",
    "# 예시 사용\n",
    "temp_words = [\"APPLE\", \"PRE\",\"PREVIOUS\", \"ZEBRA\"]  \n",
    "temp_words = sorted(temp_words)\n",
    "ciphertext = \"PREVIOUS\"\n",
    "\n",
    "# 해독 및 단어 분리 시도\n",
    "result = decrypt_and_split(ciphertext, temp_words)\n",
    "if result:\n",
    "    print(\"Decrypted and Split Sentence:\", result)\n",
    "else:\n",
    "    print(\"Failed to decrypt and split the sentence.\")\n",
    "    \n",
    "\n",
    "ciphertext = \"PREVIOUSAPPLES\"\n",
    "\n",
    "# 해독 및 단어 분리 시도\n",
    "result = decrypt_and_split(ciphertext, temp_words)\n",
    "if result:\n",
    "    print(\"Decrypted and Split Sentence:\", result)\n",
    "else:\n",
    "    print(\"Failed to decrypt and split the sentence.\")"
   ]
  },
  {
   "cell_type": "code",
   "execution_count": 18,
   "metadata": {},
   "outputs": [],
   "source": [
    "def caesar_cipher(text, shift):\n",
    "    encrypted_text = ''\n",
    "    for char in text:\n",
    "        if char.isalpha():  \n",
    "            encrypted_text += chr((ord(char) - 65 + shift) % 13 + 65)\n",
    "        else:\n",
    "            encrypted_text += char\n",
    "    return encrypted_text\n",
    "\n"
   ]
  },
  {
   "cell_type": "code",
   "execution_count": 19,
   "metadata": {},
   "outputs": [],
   "source": [
    "def random_shift_encrypt(text):\n",
    "    shift = random.randint(1, 12)\n",
    "    encrypted_text = caesar_cipher(text, shift)\n",
    "    return encrypted_text, shift"
   ]
  },
  {
   "cell_type": "code",
   "execution_count": 20,
   "metadata": {},
   "outputs": [],
   "source": [
    "def caesar_decrypt(encrypted_text,word_list):\n",
    "    for shift in range(1, 13):\n",
    "        shifted_text = caesar_cipher(encrypted_text, -shift)\n",
    "        result = decrypt_and_split(shifted_text, word_list)\n",
    "        if result:\n",
    "            print(\"Decrypted and Split Sentence:\", result)\n",
    "            break\n",
    "    else:\n",
    "        print(\"Failed to decrypt and split the sentence.\")"
   ]
  },
  {
   "cell_type": "code",
   "execution_count": 21,
   "metadata": {},
   "outputs": [],
   "source": [
    "def measure_decryption_time(word_list, trials=100):\n",
    "    start_time = time.time()\n",
    "    for _ in range(trials):\n",
    "        \n",
    "        sentence = generate_random_sentence(word_list, random.randint(7, 10))\n",
    "        \n",
    "        encrypted_text, shift = random_shift_encrypt(sentence)\n",
    "        caesar_decrypt(encrypted_text,word_list)\n",
    "    end_time = time.time()\n",
    "    return (end_time - start_time) / trials"
   ]
  },
  {
   "cell_type": "code",
   "execution_count": 22,
   "metadata": {},
   "outputs": [
    {
     "name": "stdout",
     "output_type": "stream",
     "text": [
      "Decrypted and Split Sentence: FIJILL FGLE ABAA FCBBL BAFGIAADBEF BAGEACHBGBKIA CBMCEADIAGE\n",
      "Decrypted and Split Sentence: FIMEEF ACGIABGEICHIHM MEFBMBECHIFM MAFHEE FAADEEFJBBD CEEBEEHF CIAK\n",
      "Decrypted and Split Sentence: FJIGHE CHEEGF BEEAEGGE FHBCJIFE EEFBEMAGIBAIFM JEAEIEDLL IAFEAFCIABHF\n",
      "Decrypted and Split Sentence: KIMEAEF DHKHMA FEEEBALHMIAHM CBAFBAAAGIFM EEBALLAFG LLMAAEAA GBAIMIHM CHIACHE CEAEAEFGIAE IFBKBAGAE\n",
      "Decrypted and Split Sentence: DHAMAFH JBCHAB LADLCALMF MIFGHIAKF GEEGHL GHEAGEEJIFE BEFGBJEE IAAEGICHLAGED\n",
      "Decrypted and Split Sentence: LABBHEEDAEFF CEEIAHEEIAG GHEBCHAAIC EEBHEIALF CEHDHBMME LBHAGIAGLL FEMIFICGIBAALLL\n",
      "Decrypted and Split Sentence: KAJ CBFGMLGACBCHLFIF IABFFICIAL HAJAEELL AAMEEIAI AAGIFECALBHF IMMHABFHCCEEFFAAGF\n",
      "Decrypted and Split Sentence: ECFGAGICF CEECACKF IACACABILIGL FEHDALIMABLE CEEIADEAIGIF BGLEEF IEBAMBAGEEIEF GIADALE\n",
      "Decrypted and Split Sentence: CLAAIFBLIBHF HAFIAICAL GEEGBLAGEEAL IAACGIIAGIAG JEEBIL AGGEMCGEEF EMHLFIFIED EACLBFEE GEAAFFBEMAGIIE ALGBMEGEE\n",
      "Decrypted and Split Sentence: FAABA GEIFCB FEEDEEIDHE FHAGBAG HLCEEELLICGIC BGHELLA GBLDBEAGIAG DEGEACGIIELL CEEMAILLEEE\n",
      "Decrypted and Split Sentence: AAGFGF ILLLEIHF KAGEMCL CLAFFICAL JELM ABACHEHLEAG CHBGBJBHEAALIFGF AECHBFLEIAK\n",
      "Decrypted and Split Sentence: CBHAGEEAGGACKEE EECEBACHLEFFAEFF AGALEAIDAE KEIKBEIAA BHGGEEHEAD MIFIALHAGIBA FEIMIAG FLBBKAA\n",
      "Decrypted and Split Sentence: DIAGEAEGIC DHCABLE IAIIABLE AEEDAG EKCLHFIIIFG CBEAEICK GFDH DIJBA CEBJBAIG\n",
      "Decrypted and Split Sentence: HEBEAIME MAGAEGBFGEICGIIELL HAEDHIAAGHLAE HADEEFBEGIFL LIBAGIBA FBEGEBJA AIIDAEFF HBLGBEF ABACAEAMEGEIC CEAGFHIC\n",
      "Decrypted and Split Sentence: AAAIFGBA JAMAICA HALEAF DEGEEGE BEFCEIBBLED FCHELD DEHBEAF IAGEELIAEAEL IAGEAFIFIEEF JABBEEABJL\n",
      "Decrypted and Split Sentence: GABBIE FMHG EACEIAIGE BEFCBGGIAG HICKEG GABBG AIHILIAAIFM\n",
      "Decrypted and Split Sentence: BELBA EHCICACEA IFBCLIAEF BEEEI HADEECBAGIAG BLACKHEADF GEIHAEF ABEJEGIAAF CEMBA FADIL\n",
      "Decrypted and Split Sentence: CEBALCBHBLIFM GIBIA GALLAGEF MAGAEGBBELL CHILICCBCBLIF IAGEGEIFBLIBHF ABACAEEILF HEBEGBML EHGA IAGEEFILGEAGE\n",
      "Decrypted and Split Sentence: DBDF FECGFHIC DICGAGBEL CFELLIFM CEEFHCCEFFFHL FACIABEBHF CBAFGABLEFHIC IEEGEE DIFCAFEF\n",
      "Decrypted and Split Sentence: BIEEELAGED AEEAJALF MEADBJLAEKF CBAGEAGEDAEFFEF GIDILL CBLBHEAGIBAALLL LEHCIGBHEDEBA\n",
      "Decrypted and Split Sentence: HEBAECHEBFIF JBEGF FHAAAL JEEMALAE KAAGBF EIFKIAG CAMBBDIAA ADEBIGEFG DAAD\n",
      "Decrypted and Split Sentence: GHAKHBLIAG ALJAMADB IMCALEEF IAHEBAAIGL EIILHEAEGED CBAGGEEGAGIBA IAAMBEAGBF HIAGG LEHKBBLAFGIC EEIADHCGF\n",
      "Decrypted and Split Sentence: BALM HIFGBEICBCHILBFBCHICA CAAGALBHC BIEEBBAED MACHLBCEEEBEAL BBJEEMAA CALGECH\n",
      "Decrypted and Split Sentence: CHAEGBDBAG AIEF EEIIFIBLE EFGHACLGE DECEIIABLE BHEIAIFG DIFBBDL AAADICLBFIF\n",
      "Decrypted and Split Sentence: IMCEEGABLE CBADIEAGHEEFF FEHILLEGBAIFGIC GEABHE GEEACH LEADBHG IFBCEBCAABL CEEFECGIBILIAA CEAFBEIBHFAEFF GAIAB\n",
      "Decrypted and Split Sentence: JAEEEGGFIILLE CAEAFFIAIMED HIAAIEF FGACHEE HAAAALIGE DIFCBEDBHF BBMBIAAGE LBLLLGAGGIAG BAFIFHGAL\n",
      "Decrypted and Split Sentence: GLHGAMIAAFE BACIF CAELBHE CHLBEIBDIDE CEBGECGIBAIFM HAFCIAGILLAGIAG IAGEBGEEFFAAG AAEDJBLF\n",
      "Decrypted and Split Sentence: EEMAFK FCEACIEF ILADI CAACHEBMAGIC BLEMAA HALEGHAEGIC CBAAGIBA GEACACEAE\n",
      "Decrypted and Split Sentence: MBBABMICAL CBAEGBE HLCFBGEACHIC CLIGELLHM JHAGLIEFG MECHMF EKHHMAGIBA AAGIGALACGIC\n",
      "Decrypted and Split Sentence: MAADAMHFE MIFCBAFGIGHGIBAAL ABAFCAGIALIGL FBEEGHIDAACE GBAGLIAG MEGALBCHBABHF CHICKJIG HABEHGALIFED\n",
      "Decrypted and Split Sentence: BEAHGEBHF DIFAMBIGHAGEF IEEFAGILIGL CEBFBCECGAFIA BLACKHEADF DECBLF MBBAEAKIAG\n",
      "Decrypted and Split Sentence: GBKBCHILL EEFEGGIAG JHBLEF JBEDF DHB FACIABEBHF EII ACIDHEIAF AEBLIDEF\n",
      "Decrypted and Split Sentence: MBAGGBLFIEEF BIEECAIAG CEEFIFGEEF DECBLF EECAAIAF EHCHEMIFM CBMCLICAGEDAEFF DIGLLCH FLEJED GEIEE\n",
      "Decrypted and Split Sentence: CHBBIFCHIAL FGEIGEF EECHALLEAGED KAGEMCL DAHBIAG IEEIGAGIIE FIEFGFHIC FKHLKIAG CIFHM MIFCBAFGIGHGIBAAL\n",
      "Decrypted and Split Sentence: HAEECEAGAAGLL IEEIGHBHF IALEAGIAIGE EHBBLL FCBILFMEA HAEEGEIEIIAGLL HABIGHALAEFF FLBFHILL EBACEFIALLEF ABFEE\n",
      "Decrypted and Split Sentence: ALHGGHALA CAGAJBA HADEEGEBHADAEFF EEFICIFCEACE EHE AAECBGIFE MAAHFACGHEABLE BEGEEEA\n",
      "Decrypted and Split Sentence: CEEIAFCEICGIBA BIEEDBCGEIAAIEE AEEIIALF GHEABIEE AAGHLLLIF FACEAMEAGAEIAAIFM BACKJAGEEED\n",
      "Decrypted and Split Sentence: LAJEEAFBA FGBMBDAEHDAEA FLEFHED ACHMED ABAIABCHLAGIBA DECHGE FHELLJBEK CAGLIA MAAKIA ABAADIEAGHEBHFAEFF\n",
      "Decrypted and Split Sentence: HEMIMEEHF BHGBEIDGED EKCHEFIBAAL GHMHLGHAGIBA DEHBBED GBEGBIFEF CEECBFGEEBHF\n",
      "Decrypted and Split Sentence: DEFECGIBA FHEEEAA GAEDAAC FCEEEAEE FEEEEGEE GEEEAMMB DECFIDEF CAAGHHGHI MAEEMA\n",
      "Decrypted and Split Sentence: MIGF GLBFFBFCBCL CAMCHLFIC CHLLLBGACGIC LHGED HEAIAG CLHMBEAA MBKIHI CBELCCHAEI HAIMCEEFFIIELL\n",
      "Decrypted and Split Sentence: MBMIFMF CEFGEE DAACEGGEE IEAGEEFF FGEEAKJIFE CAHGEEIME EEFBME CAACHEABMEAALIFM IFBIADIGBGIA MEAIFBA\n",
      "Decrypted and Split Sentence: AEHEBCHAEMACBLBGICAL DHAL JALLIFIILLE GIIEABLE DAIEAED FEIHLI FEAACL EACBMIHM\n",
      "Decrypted and Split Sentence: FGEHAGF ABDHLIMIAG CEEBCCEEFF AFCHLKIAL BAGHMAG FCBEG CLAIFGEE LLCBCBDE EHGGEDIMAGIBA\n",
      "Decrypted and Split Sentence: FCAGIAGE MBAKED BIIIHM BAADJIDGH DEBLL FHLCHAAGIMBAIC MBEIAGACEAE FEEIICEBEEEL\n",
      "Decrypted and Split Sentence: CAFABA JACBBIAF ELIKAGIBA KAAD HAFAGIFFIABLE MACHLBCEEEBEAL FHAAGIHF MICEBCBCIEF FAECBMAGA BHFHJA\n",
      "Decrypted and Split Sentence: HIFGIDIAE DEEIFIBAF IAGEAIBFIGL BEFFEMEEIMED GMEDAKAH ICHGHLBCHILE CBAAGIBA CLCLIMAGIBA CAGHBLIC\n",
      "Decrypted and Split Sentence: EKEGEGE BHGCEBMIFIAG HAEGMAA CAELELEE AIMLEFFAEFFEF AAMMH BBHLLEF HLCEEGLCE HAGHICK\n",
      "Decrypted and Split Sentence: LBAGGBA CLEHEBGBMA CHEBLBAA EAMGHAFHBCH IMCHGEEFCIBILIGL ELAFGICALLL ALHEGIGE GIIEE FEEFAE FGICCLED\n",
      "Decrypted and Split Sentence: BFGEBCAGHICALLL DBAAGBEF HLAAD IACLEMEAGLL HCJAED AAGIBBLAFG CAGKIAAGE FGABILIMEE\n",
      "Decrypted and Split Sentence: LHMBEEIAGLL CBHAGEEEEIBLHGIBAAEL IEEBEFIAA HACBMCAEED FCEEEAEE HAFCIAAIAG EBLAADIC HIEEAECHIFED\n",
      "Decrypted and Split Sentence: IAGEEMIAGLEDBM JBEEIMEAG AFEEFH EADEEMAGIC JHIFCEE FEMIIEEGEBEAL JEAGHEEBBHAD\n",
      "Decrypted and Split Sentence: JBFELLA FHBABGBCHBEDAL HBLBFEEICEBHF CBMCGEBLLEE DEKGEBHFLL DIFMEMBEAGE MEAFHEABLL\n",
      "Decrypted and Split Sentence: GHAIGEE LAMAIFM HACBAIEEFABLEAEFF FHAEIFIAA IACLAFCF FHBMEDIBCEE CEIIAGIBA LEFKBJIGM FACBAACEBHFAEFF IFFHAACE\n",
      "Decrypted and Split Sentence: AHKIA CLEAAEILL ABAFHCCHEAGIIE BIEEEKCIGED HBLGBEF IEAGEEF CEGEELF BIEELBEDF MBAGGBLFIEEF CHAMAECIFGHF\n",
      "Decrypted and Split Sentence: FAIGAAAG CEEFHBICHLHM IAAFFIMILAGIBA FEIAGILLIDAE FLAEEGICALLL CLALCAA CEEGHEBAGIBHF MEMBEAGE ABFEAG FBCBEIFBHFAEFF\n",
      "Decrypted and Split Sentence: HLDEBGEAAGE GEBDEFL FHBCAGEBAAL CEIMIAIF FHAIIGIEF CEEACHL FCIEIGFHLLL IABDBEBHF\n",
      "Decrypted and Split Sentence: CFEHDBLAGEEAL LEGIFGF HBLBMLAEIAA KELLBL IAMCIEIC ABAFIDELIGL EDHALIMEEF\n",
      "Decrypted and Split Sentence: CIAACBLIC HADIABEGIC DEAEGEEMAA CALAEBHLDEBGEACHL FHECAFFIAGLL DECAMC FACGIBAAL\n",
      "Decrypted and Split Sentence: FAAJAKF GLLCEEIMIAE IAGEEGIEIAG HMBEK CBEDAIGEF FEIFGL FADDLEBACK EEIBGEF FADABLE\n",
      "Decrypted and Split Sentence: MHGAEBGAGE DEEIIAGIIE CEBMHLGAGIBAF CBFMBAAHGICAL FGLCHAIC JGIDF CBCKGAILIAG DHALIGIED BEFCEIBBLED MAADEILL\n",
      "Decrypted and Split Sentence: CBAAHFABLE CBMCAEGMEAGIME CBHF AHMBEFG JALCIE ALECGBEBMAACL GHEAGEEJIFE FHBEGCLBGHEF CBFGHEGBMIFG CHAIDEA\n",
      "Decrypted and Split Sentence: CBLLBDHDHIA BIAEL GHEAEEACEAE HAGHICHLE GIGFMAA GAHIL MAEIBLAGEBHF\n",
      "Decrypted and Split Sentence: AHD GHHADEEFMIGIAG HADEEDECGH GEAAFCEADEAGAEFF CBFGIGAA GEEDECILLIBAGH DHALMLIFH FCHHFFIAG DIFFAGIFFACGIBAF CBALEE\n",
      "Decrypted and Split Sentence: EEFBME MIB MHFFABLE DEMHEE BHGBHFGLIAG ACAAGHHGHI BHGBAJLED\n",
      "Decrypted and Split Sentence: DBBMFGEE HBEFEFHBEF CBMCLICAGEDAEFF HBLBMBIC IELGE FCEEEF MIGMAGIGE EALIGHGEAEDLL LIAEE FEEIIGHDE\n",
      "Decrypted and Split Sentence: EIAFEF EECECGIIEAEFFEF CHADIGF EAFHIH DEFGIGHEAG BLAADIAG HADELHDE\n",
      "Decrypted and Split Sentence: CBFGIGAA IAGEAIIGALLL FGHCAF CEEEEGIFGEEED JILLEM AMIDEAMBAE CFBEIAFIFEF\n",
      "Decrypted and Split Sentence: IACBEBHFLL DEAGELHEE LAICIMED HAFCIEIGHALIGL IIIIFECGIAG BLCBKEG BAGEACHBID CLEILLIAAIFM\n",
      "Decrypted and Split Sentence: ABAGEAAFMIGGIBLE CHLBBAGAAAIA EEFGHDIEF ADBAICA IMCLBFIIE ADMIAIFGEEED BEFBHLIEE\n",
      "Decrypted and Split Sentence: LHMBEEIAGLL FBBGIAGF EHLAE EEMAKEF BEEBHGED CEAFGLL IEGEGAEIAAIFMF HAFBEEJAEAED AMBLLBCE\n",
      "Decrypted and Split Sentence: GABBAEFE GHEAEC GHAEBB DEMIFCHEEE EEGHLAGEEFF CHLLMAAIME IALEAGIAB\n",
      "Decrypted and Split Sentence: MLBFBGE GALBA BAFG IACHEABILIGL DIFFEAGMEAG GHILAABGGIAE MIFGIGEI FHGGACIGAKA LBCH\n",
      "Decrypted and Split Sentence: EEFIFGABLE BIEEEEMIFFAEFF EACLCLBCAEDIAA GHAAKEE FHAALAFEE FIGFHLAEFF MEADICAGIAG AAGIMAGEEIALIFM\n",
      "Decrypted and Split Sentence: MBABCLAFGIC IABFFICIALLL JHIGEFBHEG FHICCL AHDEA CAEBBHLDEBGEA HAHIFGBEL\n",
      "Decrypted and Split Sentence: EACID ECIBALCHIHM MEAGIC CEIMIAIF ABAEKCLICABLE IAFHFFICEAG HAEEFGL HAEIADIBLE\n",
      "Decrypted and Split Sentence: MAAICHEAAIFM FHBCELGAGED HBEGAGIBA CIGGIFH HABDBEIFEEBHFAEFF BCGBDECILLIBAGH EHBDIC\n",
      "Decrypted and Split Sentence: FGBLED HHMBECEBBF IAGEAIBFIGL ABAIAGEEEHCGEDAEFF LIMACIFBEM HAEMAGHEEMAL FAADAJE\n",
      "Decrypted and Split Sentence: GEBCHILID IACBMCEEHEADIAG IHLCICIDE GBEGEABLE HACBMCEGEAGLL EEABGICED GAGEFBLDF FEGJBEK JEGHEEHBG DEMIBCGAGBAAL\n",
      "Decrypted and Split Sentence: DEEMAGBMBBA HAADIIFEDAEFF MLBCLAFGIC EEIACLIAAGIBA GALEE CJC GAAIAEFF AGGADIC JHLL GELEBFGEBHF\n",
      "Decrypted and Split Sentence: FAICCILL CBJLEFIILLE EAGAGEMEAGF AFFECGEDLL FAIAAAA EEMACF HAMICEBBIAL AECAAIGE BBFGEGEICIAA\n",
      "Decrypted and Split Sentence: FLIDIAGAEFF GAGEAGGEEL AEHEBAIFM BEEAKAJAL FCLEEBBLAFGEMA ACEAGEIC HAGAAGED BIEEFGEIAG BEIBE\n",
      "Decrypted and Split Sentence: ABABBLIGAGBEL CHEILBCLAFGL BAALAAF FHFCECGIBILIGIEF BIBGICALLL ABDHCGIBAF CEEEBEBID CEEIBMEE FEIAGEE GBGM\n",
      "Decrypted and Split Sentence: FCLEEBFIF MILIHF JALLFLBJEE EIBLIE AAGBECI ABADECEEFFIAGLL IACAAG\n",
      "Decrypted and Split Sentence: EEGIAIGIF MAELLIADA GEADEEAEFF MLKADEABMA ABACBEEHCG JHBA GEEGADLAE IIBEAGILIGL FHABELG MAEJBEIE\n",
      "Decrypted and Split Sentence: LBAGIAGF CEHAELLIDAE BEDHEBHFAEFF GHAAAGE FCEEMAGIFEEBHF BEEAKAJAL DBJAHAHLF AMMBABLLMIAG CBLLCLACBCHBEBHF FJAFHEEF\n",
      "Decrypted and Split Sentence: HACLAFFABLE IAAEGICHLAGED MAAACLED EDHIFIGAAL IACBEEHCGIBLEAEFF CEIMIGIAE ELECGEBBIBFCBCL MBGHLFHIC HAJIIE IEEDHA\n",
      "Decrypted and Split Sentence: HBEFEJHICCED DIAFGEBCHL GEIDHEGEBHFLL FBEEFIGHGF BLIFFFHLLL IEECEE ILLHF CBLLACBHFGIC AHGBCBIFBABHF\n",
      "Decrypted and Split Sentence: ALFADHI FIGLEFF CHBEBIA DACGLLBLBGL CEIMCEEF EHFGICALAEFF GEIFFEAF LEAAED\n",
      "Decrypted and Split Sentence: HBEABEAM HAFBLICIGAGED FCEICGED LEAEAIAG AAAEEBBIBFIF FAEMEEF DEFEEF EBFELLE\n",
      "Decrypted and Split Sentence: CBHHAGE BACKAEEBJ HBEGAGIBA DIFGILLAGBEL GHICHEE CFLCHBDIAGABFGIC JBADEEBEEEIEF\n",
      "Decrypted and Split Sentence: EEFALIAGE GELFBAIC CEAIG BEBCHE AMALGHEIA FICHBEHIAAL AACF GIGHEAF GHAAKEE CHAGAIGAIEE\n",
      "Decrypted and Split Sentence: LGGH FAAGEEL AGEEIAA CEAGFHIC HEKBGEA DIFCEEAMEAGF CALGECH ACLH\n",
      "Decrypted and Split Sentence: HAADFLBJEE JEHAAGIE AHEBBEBMIDE FLHELEFF BIEEELEGAAGAEFF CLEILLIAAIFM GBBBGGAAF LABBHEEDAEFF EECEICGF\n",
      "Decrypted and Split Sentence: AAAIGB HEEGHEBFGBML EKGEAFIBLEAEFF GACABDEEAEE BFGEBCAGHICALLL AFCEADF AEHGEALIMAGIBAF\n",
      "Decrypted and Split Sentence: AAALKALIAIGL BBDIEEBA LAKAEFF CEAAA AGEHIF ADIEAGIGIBHFLL EHBDBFCIEILLHM GEAHEE\n",
      "Decrypted and Split Sentence: BGLEEF CBFHED HAEECEAGAAGLL HLCEEBEACHLFKELIC ACALECHF HEDHE FGAEGFL IAGEAFIFIEEF\n",
      "Decrypted and Split Sentence: HACEEFECGLL EECBAIEEGEACE ALBHMIAIMEGEE MIGFHKHEIAIDAE CEIAAGE EKCBMMEAGE ALCHAEA\n",
      "Decrypted and Split Sentence: HBLBEIA IEAEEEEEF FCAELEGL MAELBBEBHGH JHICFGBCK EKGEEA FJIMFHIG MEAFHEABLL\n",
      "Decrypted and Split Sentence: EEICHEEG EADIMAACHE CELBCAHGEEL BKLCAMCHBE FGEBMAL KALMAA EIGHGIFMF FLBBBEEL BAGLCHBAE EKCAEDIAAGIBA\n",
      "0.0038167858123779297\n"
     ]
    }
   ],
   "source": [
    "print(measure_decryption_time(words,100))"
   ]
  },
  {
   "cell_type": "code",
   "execution_count": null,
   "metadata": {},
   "outputs": [],
   "source": []
  },
  {
   "cell_type": "code",
   "execution_count": null,
   "metadata": {},
   "outputs": [],
   "source": []
  },
  {
   "cell_type": "code",
   "execution_count": null,
   "metadata": {},
   "outputs": [],
   "source": []
  }
 ],
 "metadata": {
  "kernelspec": {
   "display_name": "huggvenv",
   "language": "python",
   "name": "huggvenv"
  },
  "language_info": {
   "codemirror_mode": {
    "name": "ipython",
    "version": 3
   },
   "file_extension": ".py",
   "mimetype": "text/x-python",
   "name": "python",
   "nbconvert_exporter": "python",
   "pygments_lexer": "ipython3",
   "version": "3.7.6"
  }
 },
 "nbformat": 4,
 "nbformat_minor": 4
}
