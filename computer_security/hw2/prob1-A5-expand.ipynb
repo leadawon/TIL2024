{
 "cells": [
  {
   "cell_type": "code",
   "execution_count": 1,
   "metadata": {},
   "outputs": [],
   "source": [
    "import random\n",
    "import time"
   ]
  },
  {
   "cell_type": "code",
   "execution_count": 2,
   "metadata": {},
   "outputs": [
    {
     "name": "stdout",
     "output_type": "stream",
     "text": [
      "416296\n",
      "aDiApHoRoN\n",
      "True\n"
     ]
    }
   ],
   "source": [
    "\n",
    "words = []\n",
    "with open(\"words.txt\",\"r\") as file:\n",
    "    for line in file:\n",
    "        word =line.strip().upper()\n",
    "        if word.isalpha():  \n",
    "            newword = \"\"\n",
    "            for idx,letter in enumerate(word):\n",
    "                if idx % 2 ==0:\n",
    "                    newword+=letter.lower()\n",
    "                else:\n",
    "                    newword+=letter\n",
    "            words.append(newword)\n",
    "print(len(words))\n",
    "words = random.sample(words, min(10000, len(words)))\n",
    "\n",
    "words.sort()\n",
    "\n",
    "def binary_search(arr, target):\n",
    "    left, right =0, len(arr) - 1\n",
    "    while left <= right:\n",
    "        mid = (left + right) // 2\n",
    "        if arr[mid] == target:\n",
    "            return True\n",
    "        elif arr[mid] < target:\n",
    "            left =mid + 1\n",
    "        else:\n",
    "            right = mid - 1\n",
    "    return False\n",
    "\n",
    "# 테스트\n",
    "print( words[100] )\n",
    "target_string = words[100]  \n",
    "is_found =binary_search(words, target_string)\n",
    "print(is_found)  "
   ]
  },
  {
   "cell_type": "code",
   "execution_count": 3,
   "metadata": {},
   "outputs": [
    {
     "name": "stdout",
     "output_type": "stream",
     "text": [
      "False\n"
     ]
    }
   ],
   "source": [
    "\n",
    "target_string =words[100] + \"1234\"  \n",
    "is_found = binary_search(words, target_string)\n",
    "print(is_found)  "
   ]
  },
  {
   "cell_type": "code",
   "execution_count": 4,
   "metadata": {},
   "outputs": [],
   "source": [
    "def generate_random_sentence(word_list, num_words):\n",
    "    chosen_words = random.sample(word_list, num_words)\n",
    "    sentence =''.join(chosen_words)\n",
    "    return sentence"
   ]
  },
  {
   "cell_type": "code",
   "execution_count": 5,
   "metadata": {},
   "outputs": [
    {
     "data": {
      "text/plain": [
       "'fOoLiShEsTuNdOuChEdcArPeTmOnGeRgErArAnEpHrOsToMesChWeIzErKaSesAvIoUrS'"
      ]
     },
     "execution_count": 5,
     "metadata": {},
     "output_type": "execute_result"
    }
   ],
   "source": [
    "random_text =generate_random_sentence(words,7)\n",
    "random_text"
   ]
  },
  {
   "cell_type": "code",
   "execution_count": 6,
   "metadata": {},
   "outputs": [
    {
     "name": "stdout",
     "output_type": "stream",
     "text": [
      "Decrypted and Split Sentence: PREVIOUS\n",
      "Failed to decrypt and split the sentence.\n"
     ]
    }
   ],
   "source": [
    "def find_valid_splits(text, words, start=0, memo=None):\n",
    "    if memo is None:\n",
    "        memo = {}\n",
    "    if start in memo:  \n",
    "        return memo[start]\n",
    "    if start >= len(text): \n",
    "        return [[]]\n",
    "\n",
    "    valid_splits = []\n",
    "    for end in range(start + 1, len(text) + 1):\n",
    "        current_substr = text[start:end]\n",
    "        if binary_search(words, current_substr):\n",
    "            for split in find_valid_splits(text, words, end, memo):\n",
    "                valid_splits.append([current_substr] +split)\n",
    "\n",
    "    memo[start] = valid_splits  \n",
    "    return valid_splits\n",
    "\n",
    "def decrypt_and_split(ciphertext, words):\n",
    "    all_splits = find_valid_splits(ciphertext,words)\n",
    "\n",
    "    if all_splits:\n",
    "        valid_split = min(all_splits,key=len)  \n",
    "        return ' '.join(valid_split)\n",
    "    else:\n",
    "        return False\n",
    "\n",
    "# 예시 사용\n",
    "temp_words = [\"APPLE\", \"PRE\",\"PREVIOUS\",\"ZEBRA\"]  \n",
    "temp_words = sorted(temp_words)\n",
    "ciphertext = \"PREVIOUS\"\n",
    "\n",
    "# 해독 및 단어 분리 시도\n",
    "result = decrypt_and_split(ciphertext,temp_words)\n",
    "if result:\n",
    "    print(\"Decrypted and Split Sentence:\", result)\n",
    "else:\n",
    "    print(\"Failed to decrypt and split the sentence.\")\n",
    "    \n",
    "\n",
    "ciphertext = \"PREVIOUSAPPLES\"\n",
    "\n",
    "# 해독 및 단어 분리 시도\n",
    "result = decrypt_and_split(ciphertext,temp_words)\n",
    "if result:\n",
    "    print(\"Decrypted and Split Sentence:\",result)\n",
    "else:\n",
    "    print(\"Failed to decrypt and split the sentence.\")"
   ]
  },
  {
   "cell_type": "code",
   "execution_count": 7,
   "metadata": {},
   "outputs": [],
   "source": [
    "def caesar_cipher(text, shift):\n",
    "    encrypted_text = ''\n",
    "    for char in text:\n",
    "        if char.isupper():  # 대문자인 경우\n",
    "            offset = 65\n",
    "            encrypted_text +=chr((ord(char) - offset + shift) % 26 + offset)\n",
    "        elif char.islower():  # 소문자인 경우\n",
    "            offset = 97\n",
    "            encrypted_text +=chr((ord(char) - offset + shift) % 26 + offset)\n",
    "        else:\n",
    "            encrypted_text +=char  # 알파벳이 아닌 문자는 변경 없이 추가\n",
    "    return encrypted_text"
   ]
  },
  {
   "cell_type": "code",
   "execution_count": 8,
   "metadata": {},
   "outputs": [],
   "source": [
    "def random_shift_encrypt(text):\n",
    "    shift = random.randint(1,51)\n",
    "    encrypted_text = caesar_cipher(text, shift)\n",
    "    return encrypted_text, shift"
   ]
  },
  {
   "cell_type": "code",
   "execution_count": 9,
   "metadata": {},
   "outputs": [],
   "source": [
    "def caesar_decrypt(encrypted_text,word_list):\n",
    "    for shift in range(1, 52):\n",
    "        shifted_text = caesar_cipher(encrypted_text, -shift)\n",
    "        result = decrypt_and_split(shifted_text,word_list)\n",
    "        if result:\n",
    "            print(\"Decrypted and Split Sentence:\",result)\n",
    "            break\n",
    "    else:\n",
    "        print(\"Failed to decrypt and split the sentence.\")"
   ]
  },
  {
   "cell_type": "code",
   "execution_count": 10,
   "metadata": {},
   "outputs": [],
   "source": [
    "def measure_decryption_time(word_list, trials=100):\n",
    "    start_time = time.time()\n",
    "    for _ in range(trials):\n",
    "        \n",
    "        sentence = generate_random_sentence(word_list,random.randint(7, 10))\n",
    "        \n",
    "        encrypted_text, shift =random_shift_encrypt(sentence)\n",
    "        caesar_decrypt(encrypted_text,word_list)\n",
    "    end_time = time.time()\n",
    "    return (end_time - start_time) / trials"
   ]
  },
  {
   "cell_type": "code",
   "execution_count": 11,
   "metadata": {},
   "outputs": [
    {
     "name": "stdout",
     "output_type": "stream",
     "text": [
      "Decrypted and Split Sentence: sHeEp lEgIsLaTrEsS bRiTtLeWoOd pOmPoMs iNdOiN hYpErMiXoLyDiAn dOrNbIrN cEnTrIfUgInG sPrEaDsHeEtS\n",
      "Decrypted and Split Sentence: aStErIoN rEtReAtInGnEsS sUeDiNe sTh aRdMoRe iMpRoViSaToRy cOnVoCaTiOn uRsIgRaM eChOs dIsSoLvAtIvE\n",
      "Decrypted and Split Sentence: fAcKeLtAnZ fOrSeEk wEbBiNgS bRiDeBeD pUtZiNg dYsPhEmIzE dAnCeAbLe mAyFiShEs\n",
      "Decrypted and Split Sentence: uNwElDaBlE cOsHoCtOn oVeRrEfLeCtIvE nEuRoPsYcHiAtRiC hAmAtA aRaEoSyStYlE pReFiGuReS cOnDoLeS eNdAbLe\n",
      "Decrypted and Split Sentence: cOrNeTtI dIpLoGeNeTiC cArIbS fAsCiNaTiOn gLiTzY pErIsArCaL sUlFiDe fOgFrUiT aUdIeNcIeR\n",
      "Decrypted and Split Sentence: rEfOrMaBlEnEsS vDt mOuLdMaDe uNrAiSeAbLe bIpUpIlLaTe lIbElLiNg lEgRa vEnTrAlWaRd cOnSoLeR cRaNeS\n",
      "Decrypted and Split Sentence: kOmMeTjE fOuLmOuThEd pSeUdOeTyMoLoGiCaLlY dEnArIeS mOrEnCi fEaTuRaLlY sUbSiStS\n",
      "Decrypted and Split Sentence: rIoTrY pReClEaRaNcE sAnCtAnImItY pHoSpHoNaTe fReCh cOmMuNaLiTy fAlDeRoL rAdIcEl\n",
      "Decrypted and Split Sentence: cHoRdAtA oRtHoPhEnYlEnE pErCuSs pSoViE aDhErEnCe oUtSwEeTeN aTiNg kHaLkIdIkI\n",
      "Decrypted and Split Sentence: aYrEs mIsKeEpInG tAmBoUrA aCiErAtEs sKiLkEn oVeRiNvEnToRiEd pLeNiCoRn bEr fAtAlIsTiCaLlY\n",
      "Decrypted and Split Sentence: mOdEsTnEsS fUrLs sLoGgEr cOgItAtInGlY rAvEnInG oVeRdIvErSiFiEd pOlArAnS\n",
      "Decrypted and Split Sentence: pHaSiAnId tYuM eNtOpArAsItIc uNdEcEiVeD oPhThAlMoStAt pEpPiEr fLaUnTiEsT aGuEdA aEgIaLeUs cArBoMeThOxYl\n",
      "Decrypted and Split Sentence: cHoLeLiThOtOmY aNtHrOpOmOrPhOlOgIcAl cArIbS dEbOuChMeNt cRwD gAzAnGaBiN cHeMiAtRiC\n",
      "Decrypted and Split Sentence: uNeXhOrTeD pLaTyRrHiNiC wAtTeSt sHoWbIrD eLeCtRoPhOrI lUcKy vAnEd mOnTcAlM mImPeI jAuKeD\n",
      "Decrypted and Split Sentence: eNwHeElS sQuArRuLoSe rIpPiNgNeSs bUdDlEr gRuEs nOnOfFeNsIvEnEsS nOnDiGeStIbLy oOn\n",
      "Decrypted and Split Sentence: uNcOnTeStAbIlItY dIsGoRgE nOnPrEsS gOnIfFs pArAsItOiDs gReEnHoRnS aRcBoUtAnT\n",
      "Decrypted and Split Sentence: sHiMaZaKi mArLiNsUcKeR lUgGaGeLeSs aTtInGe uNmEnSuRaBlE aUtOdIaGrAmMaTiC pOlYaNdRiSm pYgMoId rAnUlAs\n",
      "Decrypted and Split Sentence: bAsTaRdIcE mEnThOlAtUm oVeRaBuNdAnTlY sEmItEeToTaL iNtErNeD pOlItEnEsSeS bEsPeCkLeD\n",
      "Decrypted and Split Sentence: rUsT oRnAtUrE hUcKlEbAcK cOlLuToRiEs rEwArDaBlE mAnDrAkEs cOcKmAtE tHaLaSsIc uNrEgArDeD\n",
      "Decrypted and Split Sentence: pLaIt hYdRoChElIdOn aUtOdIfFuSiOn nOnCuRaTiVeLy gAnGlIoMaS uNwAsHeN sApInDaCeOuS cOlUmBoId bEgAuD\n",
      "Decrypted and Split Sentence: cHeMiAtRiC sUlPhUrOu aBrIdGiNg cLoT oRaNg cArToOnS kReInEr sYnDaCtYlUs\n",
      "Decrypted and Split Sentence: pReSeNtInG mOnKs gHoUlIsHlY iLlUsTrAtIoN kInGs kInGlIkE pDeS sYmPhYtIc iNtErFrAmE\n",
      "Decrypted and Split Sentence: aUtOdIfFuSiOn gYpSyRy sTaNhOpE hAlIeUtIc pReLoGiC aIrBrUsHiNg pArOnOmAsIa cOnFeCtInG\n",
      "Decrypted and Split Sentence: fOrTiFiCaTiOnS cOcOvEnAnToR eLeCtRoPhOrI cHiNaMpA pAtRoLlInG nOnSyMpAtHiZiNgLy nOnSuPpOrTaBlE cInGuLaTeD sPiNgArN\n",
      "Decrypted and Split Sentence: cRoOkShOuLdErEd nOnReFuNdAbLe mAcUnGiE tHyMs jHaNsI wAlShViLlE oNiOnSkInS uNdEfInItIvElY pLuNkEr tHaUmOsCoPiC\n",
      "Decrypted and Split Sentence: tAbLiNuM rEpOuRs hOwArDiTe sOwCaR vIoLaTiOnAl mOhOcK tAgAl cLiFfHaNgErS mAzErS\n",
      "Decrypted and Split Sentence: bIcArBoNaTeS uRuSeS sErFiShLy dOgBaNe jUnKeT aRtIfIcErS sLaVe\n",
      "Decrypted and Split Sentence: fInSeN aRaGuAtO tExAs hEtAeRiSt aVaIlAbLy jErRi aMiDoXyL\n",
      "Decrypted and Split Sentence: mEgAlOpSiA rOsTrOcArInAtE nOnAbStRaCtEd eMuNcToRiEs mAuLdIn tIpSiFy sEmIfOrBiDdInG\n",
      "Decrypted and Split Sentence: yAcKiNg kRuM lOlLs lYnX aScLePiAdIc aUtOpSyInG cOlLaRe\n",
      "Decrypted and Split Sentence: aCiDiFeRoUs tAkAmAtSu sUpErSaTuRaTeD aDeLiNe rHyPaRoGrApHiSt eXpErTiSm bRoWnOuT\n",
      "Decrypted and Split Sentence: xAnThOpIcRiTe sAtElLeS ePhEbOs sYnErGiStS mIsLiKiNg nOnEfFeRvEsCeNt sLiDeWaYs oGgAnItIoN lOcUsTs mUdDiLy\n",
      "Decrypted and Split Sentence: uNmEdAlLeD aLpHaBeTiZeS sOpEr aNgLeBeRrY rOmElDaLe tWiStIlY pHaGoCyToBlAsT lUgOnEs nOnEnIgMaTiCaLlY\n",
      "Decrypted and Split Sentence: pRePiNk mOrPhOgRaPhIcAl pErCuTaNeOuSlY vArUnA uNmEwEd fAdInGnEsS rEcHaLlEnGe mAcAw\n",
      "Decrypted and Split Sentence: rAdIcAlItY pErRuQuE gAlRaVaGe sUdOrIpArOuS nOnSuBsTaNtIvAlLy fOxY nEwSvEnDoR iThAcA rIpArIaL\n",
      "Decrypted and Split Sentence: uRqUhArT hAbBuB aRaWaK uMiAcS cUpPiEr uLtRaMiCrOsCoPiC sQuAbBlInG bOeHiKe\n",
      "Decrypted and Split Sentence: ePeRuA pHoToDrAmAtUrGy hElIcOnIiNaE ePsIlOnS nAbObIcAl aBbAsSiDe uNiNtElLiGeNtSiA pEnTeLiCaN uNiVeRsEfUl\n",
      "Decrypted and Split Sentence: fIdEsSa sYnDaCtYlUs cHoNdRoSkElEtOn wIdErA bOnUsEs uNnEgLeCtFuL mUsKiEr uNeMpLoYmEnTs rAdA rEaL\n",
      "Decrypted and Split Sentence: dRaGsHoE mOrEnOsItE aStHeNoPe eStRaNgElO wAtChBiLl pNeUmA oMnIpReSeNt pAuGhTy hAzElInE fArFaLs\n",
      "Decrypted and Split Sentence: cAlAnDrA cOnNuBiAlIsM cHaLcIoPe sEmIsAcErDoTaL rEmOvAl cOnDyLe mApPiNg uNdErNoMe\n",
      "Decrypted and Split Sentence: sCoTiStIcAl fLuElLiN bLaTtI rIvErBoAt mAtErIaLiStIcAl nOnMaMmAlIaN gArAwAy dEnShIrE\n",
      "Decrypted and Split Sentence: wHeWeR sCuRfLiKe mAsOcHiStIc hYpOtHeSiS pAlAeObIoLoGiCaL pInO nAgYvArAd tOaDs\n",
      "Decrypted and Split Sentence: nOnJuRy aGlAuRoS bEr hErAcLeA gRiLlAdInG vApOrIsE yEnGeE pOuLeT\n",
      "Decrypted and Split Sentence: oUtWiLlInG aLoMaNcY mUsCuLaRlY wReStLeRlIkE hYpNoIdIzAtIoN pUmPkInIfY hExApOd uNpErDuRaBlE dIoScUrI\n",
      "Decrypted and Split Sentence: jEbB iLlAcHrYmAbLe dEmOnOlOgIsT lEnSeD rEcChOsEn sUlFiTeS cHlOrIoN pOiKiLiE cOnVeCtIvElY nOsH\n",
      "Decrypted and Split Sentence: oVeReMoTiOnAlNeSs fLoRiDiTiEs aElLa gAnNeS dEmAgOgIcAl hAlIdOmEs iNtUiT tHeOwMeN bSpHaRm tYpOcOsMy\n",
      "Decrypted and Split Sentence: pArGaSiTe pUeRpErOuS mCcOrMaC fEvErY cEsArE fErReE aScLePiAdIc cOnGrUeNtLy\n",
      "Decrypted and Split Sentence: rEgImEnTiNg hErBaRiAn nOnSeQuAcIoUs cArDiOlYsIs fReEsHeEt aNtIaNoPhElInE mOtIoNlEsSlY mYoMeTrItIs\n",
      "Decrypted and Split Sentence: rEnDeMeNt pOeTeSqUe iCtErIcS aMaStHeNiC bAaLiZeD pReSuBoRdInAtEd oBsEqUiUm nOnExPaNsIoN gAyWiNgS\n",
      "Decrypted and Split Sentence: aUgEnDs pOsErS aNtHrAtRiOl aFfEcTaBiLiTy bOwLs uNrEvOcAbLe sPiFlIcAtEd\n",
      "Decrypted and Split Sentence: pReMoNiToRy mCnEiLl hEmAgGlUtInAtInG nOtAlGiA uNcArPeTeD dRaBbLeD rAbAsSa gRiCaUlT pHaSmOiD\n",
      "Decrypted and Split Sentence: rEwAdE tRePaNnEd vItIoSiTiEs aRrHaL pSiTtAcEoUs tEtRaCtInElLiD fOrEsTuDy uNhAlSeD bRoOkSvIlLe\n",
      "Decrypted and Split Sentence: hOrNbLeNdE aScLePiN oLeAnDeRs cOfFeRwOrK hYdRaUlI eShElMaN bErGaMeE aPhIdOpHaGoUs mUdDiLy pAtInAtEd\n",
      "Decrypted and Split Sentence: pArInArIuM uNpIcK bRiDwElL lEdGeS sHaGrEeN uNsTaNcHeD cUrRiCuLuM mImZy\n",
      "Decrypted and Split Sentence: gRiCaUlT aDuLtErAtOr uNcOuPlE uNpReSuMpTiVeLy sWaYeD nOnReSpOnSiBiLiTiEs uNdErLi tAwIe dIaPhOnIa oUtLeArNeD\n",
      "Decrypted and Split Sentence: nOnAdJuStAbLy dImOrPh iNtRaFoLiAcEoUs qUaNtIc dElInT sTeChEr mAyThEs\n",
      "Decrypted and Split Sentence: nOnNuMeRaL ePpY fReIsTaTt mUm rEaL vIdA nOnExPrEsSiOnIsTiC cEsIuMs\n",
      "Decrypted and Split Sentence: sAcRaMeNtAlIs rEmOvAl cReAtInEpHoSpHoRiC dErEfErEnCiNg aLbRoNzE pLuMaTeLlA gEmMaTiVe pIlSnErS cOmPeTiToR iOrTn\n",
      "Decrypted and Split Sentence: bRaChYgNaThIa rAi rIvErHoOd mElLaH cOuThIlY eRuBeScItE tEmErItY sYlLoGiSm gLoChIs cOmPeTiToR\n",
      "Decrypted and Split Sentence: cOlYuMiSt uNuBiQuItOuSnEsS dEfAiLlAnCe gEaStEr eThBuN uNhAlSeD fUnChAl\n",
      "Decrypted and Split Sentence: sOgGeNdAlItE iNtRaCeRvIcAl gEtLiNg sUpErSeVeRiTy gReEnSlAdE pTeRoBrAnChIa aCqUaInTaNt\n",
      "Decrypted and Split Sentence: aBeDnEgO tUrNoUtS iNtAnGiBlE sEmIh kEnNeLeD rEcOpIeD cUnJeR mIsChIeVe\n",
      "Decrypted and Split Sentence: oVeRaPpReHeNsIvEnEsS gRaMmAtIcAl mUgIeNt oVeRrElIgIoUsLy bEdRiZzLe sUpErPrEpArAtIoN hArShIsH mAtRiLiNeArIsM sOlLyA\n",
      "Decrypted and Split Sentence: bLiGhTs sLiM eGaD tHiOpHeNe kAsSaPa dIsGaVeL pUnE\n",
      "Decrypted and Split Sentence: gOrGoNs yOlKiNeSs fIrEaBlE rEdUvIuS aBsInThEs rOmAnIsE pYrOmOrPhIsM uNeUlOgIsEd\n",
      "Decrypted and Split Sentence: gLyPtOgRaPhIc pArAgEnEsIa oVeRgRiEvOuS rUsSeNe pArAnOeA mGr wEeDaBlE aUdIeNcIeR hEaRtPeA lEmMy\n",
      "Decrypted and Split Sentence: bRoMoHyDrAtE dIaZoAlKaNe iOaNnIdEs iMpErSoNaTe pErQuIsItEs aUkS fOrMaL\n",
      "Decrypted and Split Sentence: pErEtZ eXsAnGuInAtE lYnX vIoLaTiOnAl cLyErS cOmInFoRmIsT cArEsS lYmPhOgEnOuS cAlYpTrImOrPhOuS sEmIoBsCuRiTy\n",
      "Decrypted and Split Sentence: pReObTrUdEd iSoChOlEsTeRiN uNcAnOnIsAtIoN jIfFiEs uNlUmInOuSlY iTeMiSe cYlInDrIcItY mArGoSa\n",
      "Decrypted and Split Sentence: uRoPaTaGiUm sUbGrAdE mOrInGuA vErMiCuLaTiOn tEtRaMeTeRs cAbEcUdO dEcOcT qUiTe\n",
      "Decrypted and Split Sentence: sCrOfUlOuSlY mIcRoHiStOcHeMiCaL tOcAlOtE cYrIlL sCuLlIoNiSh tArDiGrAdA eXcElLiNg rEcTiLiNeAr oVeRiNvEnToRiEd dIsPoSiTiOnS\n",
      "Decrypted and Split Sentence: oVeRfEe cOnCaTeRvAtE sUbStAnTiAlLyInG gRaMmAtIcAl sObEr aPhAnItIsM pAtRiCiAtE mAnTlErOcK cHaTtErToNiAn\n",
      "Decrypted and Split Sentence: fEvErEd rEmOvAl pLeXiMeTrY rEpRiNtEr sItCoMs cApAcItAtIoN oVeReMoTiOnAlNeSs eDaPhOlOgY iNfLeXeD\n",
      "Decrypted and Split Sentence: dAmAgEmEnT aNtJaR mArThAsViLlE pInNoThErIaN uRoStEgItE sPhYgMoMaNoMeTrY cLyTeMnEsTrA aLeXiTeRiC fEuIlLeToNiStIc fArFaLs\n",
      "Decrypted and Split Sentence: dIsCoMmOnInG cLeIsToCaRp sEcTaRiAl fAiNeAnT vEgEtArIaNiSm sTuDiOs cOnSoLeR\n",
      "Decrypted and Split Sentence: uNcUrRiCuLaRiZeD wOtToN nUtSy sHoReWeEd oAkViLlE lAdOn nOnNoTaTiOnAl\n",
      "Decrypted and Split Sentence: sAlOmOnE pIcToRiAlLy aItKeN eVeNgLoMe oUtGiVeS sEyS pUmIcAtEd dIsCoMoRuLa gErOcOmY vAmPs\n",
      "Decrypted and Split Sentence: tEeMfUl rEpAgInAtEd rEpP uNtEnSiBiLiTy dRiEs pOlIaTaS hOrOsCoPaL\n",
      "Decrypted and Split Sentence: pAiSaNo gRiFfAuN sPaCiOuSnEsSeS cHaInLeT hAgBoLt bArFs nEcEsSiSt eCkEhArT\n",
      "Decrypted and Split Sentence: iNvEsTiTuRe iNdIvIsIm dEnShIrE sQuInNiEd cLaDoSe oVeReMpHaTiC cIvEtLiKe lImItAnEaN wInTeRiZeD iNfLeXiVe\n",
      "Decrypted and Split Sentence: bIlLeTeD mAmPaLoN sTaRtLiShNeSs aRrAcKs cAnThUtHi hAmAuLs bElEaGuEr\n",
      "Decrypted and Split Sentence: mIlLiLiTeRs rEtArDs tArDiGrAdA pHaRmAcOgNoStIcS vInAtA bArReLfIsHeS eXcErEbRaTiOn eLlIpSoMeTrY iNfRaBuCcAl bUrNiSh\n",
      "Decrypted and Split Sentence: sEmItIcIzE aGgLoMeRaTe gEnTmAn tAnKmAkInG hYgEiStIc iNtElLiGeNcE wInDfLaWs bUfFlEhEaDeD aLlEgEs qUaKeRdOm\n",
      "Decrypted and Split Sentence: fOgGiEr sOrBiToL pReCePtOrS sUbEdItOrShIp nInEsCoRe mIsSaBlE sUpRaToNsIlLaR cYsTaTrOpHy tUmBlY\n",
      "Decrypted and Split Sentence: pHaGoCyToBlAsT rOsElIkE jAkIe mOnTeM lEvEeD oUtWoRe uNbEgOtTeN\n",
      "Decrypted and Split Sentence: sUbStAnTiAlLyInG nOnAbStRaCtEd uNsWaDdLe iNtErNaTiOnAlIzAtIoNs iSeAbAl sUbAuDiTuR rOsTeLlArIa\n",
      "Decrypted and Split Sentence: mEcHaNiZe gLaDiOlE uNbRaKeS gAj rEvEnDiCaTiOn vItReScIbLe bOuTiQuE\n",
      "Decrypted and Split Sentence: cOrNuTuS hAn tRaNsOrBiTaL mInUtIoSe vItRiNa tReAs bOcCe\n",
      "Decrypted and Split Sentence: uNvApOrIzEd eOsInOpHiLiA uNdIaLeD fEcUnDaTiOnS rOtAtOpLaNe sPaRgEfIcAtIoN sUnNyVaLe tRaChEoPhOnAe dEsPeRaTe sEmIfOrBiDdInG\n",
      "Decrypted and Split Sentence: dErAnGeD aDvIcE tHeReAcRoSs aBsOlVeRs tEaGlE fRaNgLaIs cArNaCiAn bAnKrOlLeR oUtFoX cHiRaGrA\n",
      "Decrypted and Split Sentence: aLcOhOlDoM gLiMiNg sQuAbBlInG dOuBtS sOgA lIlIaL eXeRgUeS dIeThYlEnEdIaMiNe\n",
      "Decrypted and Split Sentence: fA lArDiEr pReMoNt pLaSmOn gGp uNiNtErDiCtEd dArElLe\n",
      "Decrypted and Split Sentence: uNvErAcIoUs gIrL pAsHtO hEi rEcOrDe bEdArKeN cOmPaRaTiVe nOnSyMpAtHiZiNgLy\n",
      "Decrypted and Split Sentence: pIsIsTrAtIdAe fOuNdAtIoNaL rMaS hObOeS dEcAl wOrKhOrSeS bEgGaRhOoD\n",
      "Decrypted and Split Sentence: rAtIoNlEsS rEpUbLiCaNs hYeToMeTrOgRaPhIc iMpArAdIsEd sToNeSmIcH dEcReMeNt zEnDo bIpUpIlLaTe sEmIlOoSe\n",
      "Decrypted and Split Sentence: tOpOlOgIcAlLy aLlEgEs aNtImErIsTeM sErF nEpHrOsToMe uNsYnThEtIcNeSs gNaShInG fUrNaCe dIcIeSt aLkArGeN\n",
      "Decrypted and Split Sentence: wAgOnS sErEmEnT iNtErNaTiOnAlIsT bLoCkInG uNpIcK iNcReAsAbLeNeSs uNdErVaSsAl\n",
      "Decrypted and Split Sentence: bEgRoAn cOlOrInG aRtIcUlArE sOuMaInTrIn vEnTrAlWaRd mEtAlLuRgIc dElIuS\n",
      "Decrypted and Split Sentence: oVeReMpHaTiC cOpYdEsKs aClU oUtBlOoMs pRiSoNs iNtRaCeRvIcAl lSv sUbArOuSaL aLeY tAvOlA\n",
      "Decrypted and Split Sentence: eArThLiKe sHeRuRd tRaNsUtErInE wIdEmOuThEd dIpLoGeNeTiC iLlUsIoNs gOnOpOdIuM aLgIcIdAl dAmAgEmEnT sChMeRz\n",
      "0.004947025775909424\n"
     ]
    }
   ],
   "source": [
    "print(measure_decryption_time(words,100))"
   ]
  },
  {
   "cell_type": "code",
   "execution_count": 12,
   "metadata": {},
   "outputs": [],
   "source": [
    "#######"
   ]
  },
  {
   "cell_type": "code",
   "execution_count": null,
   "metadata": {},
   "outputs": [],
   "source": []
  },
  {
   "cell_type": "code",
   "execution_count": null,
   "metadata": {},
   "outputs": [],
   "source": []
  }
 ],
 "metadata": {
  "kernelspec": {
   "display_name": "huggvenv",
   "language": "python",
   "name": "huggvenv"
  },
  "language_info": {
   "codemirror_mode": {
    "name": "ipython",
    "version": 3
   },
   "file_extension": ".py",
   "mimetype": "text/x-python",
   "name": "python",
   "nbconvert_exporter": "python",
   "pygments_lexer": "ipython3",
   "version": "3.7.6"
  }
 },
 "nbformat": 4,
 "nbformat_minor": 4
}
