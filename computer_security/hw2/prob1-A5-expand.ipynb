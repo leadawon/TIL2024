{
 "cells": [
  {
   "cell_type": "code",
   "execution_count": 77,
   "metadata": {},
   "outputs": [],
   "source": [
    "import random\n",
    "import time"
   ]
  },
  {
   "cell_type": "code",
   "execution_count": 78,
   "metadata": {},
   "outputs": [
    {
     "name": "stdout",
     "output_type": "stream",
     "text": [
      "416296\n",
      "aDrEnAlLy\n",
      "True\n"
     ]
    }
   ],
   "source": [
    "\n",
    "words = []\n",
    "with open(\"words.txt\", \"r\") as file:\n",
    "    for line in file:\n",
    "        word = line.strip().upper()\n",
    "        if word.isalpha():  \n",
    "            newword = \"\"\n",
    "            for idx,letter in enumerate(word):\n",
    "                if idx % 2 ==0:\n",
    "                    newword+=letter.lower()\n",
    "                else:\n",
    "                    newword+=letter\n",
    "            words.append(newword)\n",
    "print(len(words))\n",
    "words = random.sample(words, min(10000, len(words)))\n",
    "\n",
    "words.sort()\n",
    "\n",
    "def binary_search(arr, target):\n",
    "    left, right = 0, len(arr) - 1\n",
    "    while left <= right:\n",
    "        mid = (left + right) // 2\n",
    "        if arr[mid] == target:\n",
    "            return True\n",
    "        elif arr[mid] < target:\n",
    "            left = mid + 1\n",
    "        else:\n",
    "            right = mid - 1\n",
    "    return False\n",
    "\n",
    "# 테스트\n",
    "print( words[100] )\n",
    "target_string = words[100]  \n",
    "is_found = binary_search(words, target_string)\n",
    "print(is_found)  "
   ]
  },
  {
   "cell_type": "code",
   "execution_count": 79,
   "metadata": {},
   "outputs": [
    {
     "name": "stdout",
     "output_type": "stream",
     "text": [
      "False\n"
     ]
    }
   ],
   "source": [
    "\n",
    "target_string = words[100] + \"1234\"  \n",
    "is_found = binary_search(words, target_string)\n",
    "print(is_found)  "
   ]
  },
  {
   "cell_type": "code",
   "execution_count": 80,
   "metadata": {},
   "outputs": [],
   "source": [
    "def generate_random_sentence(word_list, num_words):\n",
    "    chosen_words = random.sample(word_list, num_words)\n",
    "    sentence = ''.join(chosen_words)\n",
    "    return sentence"
   ]
  },
  {
   "cell_type": "code",
   "execution_count": 81,
   "metadata": {},
   "outputs": [
    {
     "data": {
      "text/plain": [
       "'nEoMoRpHsnEcRoPsIeDtReAsOnSoEsTrUaTiOnwHeRrEtcEmEnTiNgaLiFeRoUs'"
      ]
     },
     "execution_count": 81,
     "metadata": {},
     "output_type": "execute_result"
    }
   ],
   "source": [
    "random_text = generate_random_sentence(words,7)\n",
    "random_text"
   ]
  },
  {
   "cell_type": "code",
   "execution_count": 82,
   "metadata": {},
   "outputs": [
    {
     "name": "stdout",
     "output_type": "stream",
     "text": [
      "Decrypted and Split Sentence: PREVIOUS\n",
      "Failed to decrypt and split the sentence.\n"
     ]
    }
   ],
   "source": [
    "def find_valid_splits(text, words, start=0, memo=None):\n",
    "    if memo is None:\n",
    "        memo = {}\n",
    "    if start in memo:  \n",
    "        return memo[start]\n",
    "    if start >= len(text): \n",
    "        return [[]]\n",
    "\n",
    "    valid_splits = []\n",
    "    for end in range(start + 1, len(text) + 1):\n",
    "        current_substr = text[start:end]\n",
    "        if binary_search(words, current_substr):\n",
    "            for split in find_valid_splits(text, words, end, memo):\n",
    "                valid_splits.append([current_substr] + split)\n",
    "\n",
    "    memo[start] = valid_splits  \n",
    "    return valid_splits\n",
    "\n",
    "def decrypt_and_split(ciphertext, words):\n",
    "    all_splits = find_valid_splits(ciphertext, words)\n",
    "\n",
    "    if all_splits:\n",
    "        valid_split = min(all_splits, key=len)  \n",
    "        return ' '.join(valid_split)\n",
    "    else:\n",
    "        return False\n",
    "\n",
    "# 예시 사용\n",
    "temp_words = [\"APPLE\", \"PRE\",\"PREVIOUS\", \"ZEBRA\"]  \n",
    "temp_words = sorted(temp_words)\n",
    "ciphertext = \"PREVIOUS\"\n",
    "\n",
    "# 해독 및 단어 분리 시도\n",
    "result = decrypt_and_split(ciphertext, temp_words)\n",
    "if result:\n",
    "    print(\"Decrypted and Split Sentence:\", result)\n",
    "else:\n",
    "    print(\"Failed to decrypt and split the sentence.\")\n",
    "    \n",
    "\n",
    "ciphertext = \"PREVIOUSAPPLES\"\n",
    "\n",
    "# 해독 및 단어 분리 시도\n",
    "result = decrypt_and_split(ciphertext, temp_words)\n",
    "if result:\n",
    "    print(\"Decrypted and Split Sentence:\", result)\n",
    "else:\n",
    "    print(\"Failed to decrypt and split the sentence.\")"
   ]
  },
  {
   "cell_type": "code",
   "execution_count": 83,
   "metadata": {},
   "outputs": [],
   "source": [
    "def caesar_cipher(text, shift):\n",
    "    encrypted_text = ''\n",
    "    for char in text:\n",
    "        if char.isupper():  # 대문자인 경우\n",
    "            offset = 65\n",
    "            encrypted_text += chr((ord(char) - offset + shift) % 26 + offset)\n",
    "        elif char.islower():  # 소문자인 경우\n",
    "            offset = 97\n",
    "            encrypted_text += chr((ord(char) - offset + shift) % 26 + offset)\n",
    "        else:\n",
    "            encrypted_text += char  # 알파벳이 아닌 문자는 변경 없이 추가\n",
    "    return encrypted_text"
   ]
  },
  {
   "cell_type": "code",
   "execution_count": 84,
   "metadata": {},
   "outputs": [],
   "source": [
    "def random_shift_encrypt(text):\n",
    "    shift = random.randint(1, 51)\n",
    "    encrypted_text = caesar_cipher(text, shift)\n",
    "    return encrypted_text, shift"
   ]
  },
  {
   "cell_type": "code",
   "execution_count": 85,
   "metadata": {},
   "outputs": [],
   "source": [
    "def caesar_decrypt(encrypted_text,word_list):\n",
    "    for shift in range(1, 52):\n",
    "        shifted_text = caesar_cipher(encrypted_text, -shift)\n",
    "        result = decrypt_and_split(shifted_text, word_list)\n",
    "        if result:\n",
    "            print(\"Decrypted and Split Sentence:\", result)\n",
    "            break\n",
    "    else:\n",
    "        print(\"Failed to decrypt and split the sentence.\")"
   ]
  },
  {
   "cell_type": "code",
   "execution_count": 86,
   "metadata": {},
   "outputs": [],
   "source": [
    "def measure_decryption_time(word_list, trials=100):\n",
    "    start_time = time.time()\n",
    "    for _ in range(trials):\n",
    "        \n",
    "        sentence = generate_random_sentence(word_list, random.randint(7, 10))\n",
    "        \n",
    "        encrypted_text, shift = random_shift_encrypt(sentence)\n",
    "        caesar_decrypt(encrypted_text,word_list)\n",
    "    end_time = time.time()\n",
    "    return (end_time - start_time) / trials"
   ]
  },
  {
   "cell_type": "code",
   "execution_count": 89,
   "metadata": {},
   "outputs": [
    {
     "name": "stdout",
     "output_type": "stream",
     "text": [
      "Decrypted and Split Sentence: eIgHtEeN oUtVaUnTs eCtOtRoPiC pRaEcIpUuM cOmMeMoRaBlE pReSeMiNaL bUsSeY eUcHrOiTe oPhThAlMoPoD dIsCoMmOdItY\n",
      "Decrypted and Split Sentence: sIgNiFiEr rAdIoMaN bEeWoRt oXaLoDiAcEtIc sHrAvEy cAnAaN tUbIfOrM\n",
      "Decrypted and Split Sentence: tRuElOvEs eThElEnE wOrThInG hYpOgYnY sEmIdOlE lArDeRfUl sWaRtHnEsS oVeRdIgEsT sTyE fIbRoMyOmEcToMy\n",
      "Decrypted and Split Sentence: cOoKeRs mArTi iNtRoMiTtEd vOoRhIs cHoLeStEnE cApItAlIzAtIoN oUtPiPiNg tHo\n",
      "Decrypted and Split Sentence: dEbAuChEe cOnIrOsTeR eStRaDa fUgAl aRcAbUcErO pErIsTeRoMoRpHaE iNdWeLlEr mAvErIcK lAbIaTe\n",
      "Decrypted and Split Sentence: aPpReCiAtIvE iNnOcEnCy pErMiSsIoNeD dEfOrMiNg ePiThElIaL mEgAlOpTeRoUs kEbBoCkS eStAfEtTe\n",
      "Decrypted and Split Sentence: nOnGaSeOuSnEsS bItStOcKs iNtRoMiTtEd gUiLdRy lAcOnIsM iRrEfRaGaBlE wArRaN\n",
      "Decrypted and Split Sentence: rEdReSsMeNt uRoPyGi rEnNiN iNtRoGrEsSiVe cArNaGeS iRrEpRoAcHaBlEnEsS sEaLsKiNs lYmNaEiD\n",
      "Decrypted and Split Sentence: bIbIo eNjOyAbLeNeSs aPoNeUrOlOgY sCoRkLe mIzMaZe aScOrBiC bAlAnDrA cArInThIa\n",
      "Decrypted and Split Sentence: sUsAnNe pOkEfUl fAcAdEd uNrIvAlLeD dIaPhAnOtYpE nOnAsSiGnEd vElElLa cArTiLaGiNoId sQuIrR mAsTaX\n",
      "Decrypted and Split Sentence: dIsCiPlInG iNtErWhIlE sMaRtLeSs eAgErLy uNeNfRaNcHiSeD dEfAmAtOrY sEmIaTtAcHeD\n",
      "Decrypted and Split Sentence: pOkOrNy mOvIe wIrIeR mEtAtHeSiSe sUpErMoDeRn cOeLeNtErAtA sUbChAiRmAn uNtOwArD\n",
      "Decrypted and Split Sentence: dOuToUs fIdGeD tEtHeR kHaI iNaDvErTiSeMeNt tRaShLeSs uNcOnTiNgEnT gIgArTiNaLeS rEdIpPeD iNsEnSiBiLiTy\n",
      "Decrypted and Split Sentence: tHrEePeNnYwOrTh bOsKeTs uNnOrMaLiSeD cOnFaBuLaToRy sUlIdEs mAcRoBiUs sTiBeThYl vOlPlAnEs\n",
      "Decrypted and Split Sentence: aIrViLlE dEmIoFfIcIaL wIfElIkE uNiSeRiAl tHuRsE hAiRsTyLiStS rOcKwArDs sPiRiLlOtRoPiSm sWeEtBeLlS\n",
      "Decrypted and Split Sentence: lOaNsHaRkInG tRoUtDaLe tItLiKe cAnTiLlOn wOrSeNeSs gIgErIa pLoUgHsHoE eLlAcHiCk mElOdYiNg\n",
      "Decrypted and Split Sentence: mEtAbUs hAuTeUr wEaThErPrOoFnEsS lUmBaGo oEsTrOgEn uNrEgUlAtIvE sEmInOnCoNfOrMiSt kAtHlIn\n",
      "Decrypted and Split Sentence: tOmOsIs kHaNnA dUnNsViLlE iTeRaTiVe sTaNdPoInT dIvInIsAtIoN hYpErBaRiSm mIcKlEnEsS\n",
      "Decrypted and Split Sentence: fEsTiNg uNbLiNdFoLd aCtInIdIaCeAe bLaDyGrAsS pInNiEs fLaMmAbLe oNcOsTmAn uNsEdUcIbLe bIrDiEd\n",
      "Decrypted and Split Sentence: mOrTaRwArE hYlObAtIaN qUiLlFiSh iNdOgEnIdE lOoT hYpErMoTiLe eXpEnDiToR dIsQuAnTiTy\n",
      "Decrypted and Split Sentence: iNfLoW pRoAbOlItIoNiSt dOwEl dAvIdA mIgNoNnEsS dIkEs tHrAcEs\n",
      "Decrypted and Split Sentence: rEsUe cUl sAuK sUbLiNgUaTe uNbLeNcHiNgLy rUbBeE hErBlEt uNiNtErPoLaTiVe fLeEr\n",
      "Decrypted and Split Sentence: sEnTeNcInG fEnZeLiA iAnThInA aNcYlOsToMuM mOcHaS gOdWaRdS cHiPpEnDaLe\n",
      "Decrypted and Split Sentence: cAsCaBeLs pHiLoCuBiSt rEgUrGiTaTiOnS jUiCeR mAlEfIcEnT tOrTiCoLlIs hIpNeSs xXx sCiOtA\n",
      "Decrypted and Split Sentence: tUmBlEhOmE tRaNsCeNdEnTaLs fIbErFrAx nOnOcCiDeNtAl pAlEoZoOlOgIcAl bAcKsItE aNaToMiCoChIrUrGiCaL aFtErGuNs gIgAnToPiThEcUs oUtBrAvEd\n",
      "Decrypted and Split Sentence: rEtRoAcTiNg cArLyLeSe pReCoGnIzE iNtErMaXiLlAr mIsTrUsTfUlNeSs sHoWeRs qUeStIoNeRs nOnFeVeRoUsLy pRoFaCuLtY\n",
      "Decrypted and Split Sentence: qUaGgLe lAnCeLlE pReCiTiNg oUtScOlDiNg sTeRcUlIaCeOuS cRuIsErWeIgHt iNjUdIcIoUsNeSsEs aTtAcKmAn tOnGuEd\n",
      "Decrypted and Split Sentence: tOaDeR rEsIsTiNgLy cHeMiLuMiNeScEnCe mIlItArIsTiCaLlY aNtIcLiMaCtIcAl oUtClOmB pLeAdInGlY hExApLaRiAn jUnKiEr\n",
      "Decrypted and Split Sentence: pOeSy gAdOiDeA cIcAtRiSaNt aNtEpAgMeNtA hYdRoMyOmA cErEbRoN nOnTrEaTeD pReTeNdEdLy uNeXtRaNeOuS gIfFeR\n",
      "Decrypted and Split Sentence: wIlLmAn aWl hAiRsPrInG fIrEsIdE kInBoT pUsTuLe uNaMiAbLeNeSs bEaKlEsS\n",
      "Decrypted and Split Sentence: nOnPrOvInCiAl wAtTaGe pHiAlInG tRiPiNnAtIfId pOtWoRk lEfOr aNtHrOpOpAtHiTe oUtCoMeR\n",
      "Decrypted and Split Sentence: uNcInI eNtTe cArPeLlArY dEtAiNiNg bRiTtA wAtChBiLl eNgRaPhIc\n",
      "Decrypted and Split Sentence: gOrKy uNdErFiRe lOcOmOtEs pOoRtItH sWeEtLiKe hIlLtOp hOmInId rAdIeCtOmY wItHdAw\n",
      "Decrypted and Split Sentence: wAgOnAbLe rEcOnGeLaTiOn sTrAiGhTs aDeNoPhLeGmOn nOnTrEaTeD sKiTtIsH sHuTtLeCoCk sErIoSo\n",
      "Decrypted and Split Sentence: mAvErIcK oVeRgO dIsMiSsAl eQuIdIsTrIbUtIoN nO mAnIcOn hRzN\n",
      "Decrypted and Split Sentence: pArAgAsTrIc dIsPlOdE mArSuPiAn rEiNvAsIoN cArPoSpOrIc gIaNtLiKeNeSs cOmMeMoRaBlE\n",
      "Decrypted and Split Sentence: lAnDfOrMs mAsTeRaTe pOlSkA eMbRyOuS pUiIa oVeRmElOdIoUsLy oLiVeRsMiTh pRoSpErEr vAcUoLaR\n",
      "Decrypted and Split Sentence: fRaNsIs tIlTeR rIgElIaN bAnDoNiOn cIsSaMpElOs aRaM lUhE sIgHtY\n",
      "Decrypted and Split Sentence: eTtLeD pAxIlLi sLeEpLeSs tErGiTiC eNdAmOeBa mUsRoL rUtHiE mEnDhAm\n",
      "Decrypted and Split Sentence: tHiRdLiNg pOuNcEy sYnThRoNoI sAiNeD uNsEeThInG eMbIoToCoId bLaCkEnEd cAvOuR hYnEs\n",
      "Decrypted and Split Sentence: eXoCrInOlOgY bIsCuItInG tUbBeR bRiTtA dIsEnTrAcEd pHySiCoChEmIsT wAiKlY nEmOcErAn hOrArY\n",
      "Decrypted and Split Sentence: kOmPeNi uNsPrAyEd gAyNeSs rUbDoWn eMbOlIc cUlMiNaTe iDeIsT\n",
      "Decrypted and Split Sentence: jAwFeEt pOsTlAbIaLlY mEtHaNoLiC dIsEnTrAnCeD sTeAlThWiSe bAsIgEnOuS iLlOrIcAtA dIsViSaGe nOdAbAbUs\n",
      "Decrypted and Split Sentence: pOsSeSsEd hOlCuS pAlM sArKaRiA aDuNcAtEd cHaNcElEd qUaRtZy uRcEoLi sMuTtEd jApN\n",
      "Decrypted and Split Sentence: uNcOrRiGiBlY aNtIaRiStOcRaCy lOnDoNiSm uNeNfRaNcHiSeD oVeRtHeOrIzAtIoN pHoToMeTrIcAl pIcKeErInG\n",
      "Decrypted and Split Sentence: sUpPuRaTeD nOnBlEaCh pReClUdE uItP wHiPcOrDs pArAgAsTrIc rHoDyMeNiAcEoUs\n",
      "Decrypted and Split Sentence: cOaChEd mIdNoOnS bElLo dAcTyLiC tErRaL oBsTiNaNcE cOmMoDeRaTe\n",
      "Decrypted and Split Sentence: cOuNtErRoTaTiNg bIcOlOrOuS aRaNeInA sYmPaThIcOtRiPsY sAdIe tUuM aNgLiNgS pRoTeLyTrOpTeRa\n",
      "Decrypted and Split Sentence: xEnOpLaStIc sPiNdRiFt hAnDsMoOtH fOuLlY uNfAsTeNeR iNtElLeCtUaLiStIc yArK gIdDiLy oVeRhAtE\n",
      "Decrypted and Split Sentence: pRiZeMeN tEmPoRaLiTy cAlAnDrInAe uNeVoKeD aRtHrItIcInE cOwLiKe aRcHiCaNtOr oLaF pArEgAl\n",
      "Decrypted and Split Sentence: pEnNvIlLe bEvIlLeD tElEpHoTy uShErEd gEkKoNeS uNtOgGlEr pOlYpArEsIs bRoKe pElViGrApH cRyPtOpYiC\n",
      "Decrypted and Split Sentence: mIlItArYiSm oPiStHoRcHiS sTuCcOiNg nIgGaRdLiNeSs pLaGaTe eStAfEtTe sImUrGh\n",
      "Decrypted and Split Sentence: rOaStS wRiGhTsOn dReDgEr dYsChRoNoUs kEbBoCkS uNdErDrIvE wHeEzEs wHoReDoM\n",
      "Decrypted and Split Sentence: oBlOqUy eXtRoRsElY eNoRm cRyPtOpYiC dEpUtIsInG eVeNlIgHt pAnOrA cEoRl cOpErNiCaN\n",
      "Decrypted and Split Sentence: iNtRaViTaLlY jApAnOlOgY eQuIdIsTrIbUtIoN fOrEnAmE iNtErChAiN mAyOr cErAtItIc cEnTrOlInEaD fRaNkEnMuTh eMbRaNgLe\n",
      "Decrypted and Split Sentence: aPpReCiAtIvE pEnTaDeCoIc cLaDoSeLaChIdAe kIdDeRs mAiNeViLlE lIcEnSeLeSs nOnHeCtIcAlLy tElEmEtEoRoGrApHiC sTrApPaBlE uNpOrTaBlE\n",
      "Decrypted and Split Sentence: aRrIvEd fOuRpOsTeRs oBjUrE tRaNsCeNdEnTaLs kAdAr uGaRiTiC rEaDiNgS jEtTiSoNaBlE pOpUlI\n",
      "Decrypted and Split Sentence: uNrEtAiNaBlE oPhThAlMoPoD aPoDs cArNiVaLeR tHuJyL sPhEnIsCi bLoT dEmOlItIoNs dOuBlEdAy\n",
      "Decrypted and Split Sentence: sHaLwAr dIaLeRs pAuLiNe mAkInEn aDoPtIoNiSt sTeReOpLaSm pErSoLvE mIsUnDeRsTaNdAbLe uNcReEpInG\n",
      "Decrypted and Split Sentence: pRoTeOpExIs rEaDoPtInG fOuTe vIzArDlIkE fIlOpOdIuM cOuNtErPoInTs eNaTiOnS rEpReSsIoNaRy pAnNaG nOnElEeMoSyNaRy\n",
      "Decrypted and Split Sentence: sCaMpIsH cRaBlEt aDvIcEs uNtInCtUrEd sHiKsAs oUtDiStAnCiNg qUaDrAtUrEs cHoLoIdInIc hYpOdIaPeNtE\n",
      "Decrypted and Split Sentence: sPeRmOdErM pReEnLiGhTeNeR aBcEsS cElLeD aMpUlLaRiIdAe sEaLsKiNs rUsTiC rEiNcOrPoRaTiOn dHoBy\n",
      "Decrypted and Split Sentence: gUrLy cReEpInG fUnFkIrChEn rEtZiAn dYsPnOeAl uNmIgRaTiNg uNsQuEaMiShLy hAqUeToN\n",
      "Decrypted and Split Sentence: dAcHaS bUbAlInE hOoPoE nEuRoMaLaKiA aLeUrOnAt fEmInIsInG cOlLuToRy\n",
      "Decrypted and Split Sentence: tOwEd aLcOlU iNtRaFiSsUrAl oVaRiN rHyNcHoBdElLiDa lAnDsToRm bEaRwOoDs\n",
      "Decrypted and Split Sentence: nEwScAsTiNg mOwRa gRoVeS uNcOrRoBoRaTiVe sEnAtUs sAeCuLa hYpOcOrIsTiC\n",
      "Decrypted and Split Sentence: nAnGeR mGd hAfFiT mInIcOnJoU oBsTiNaNcE rEmOrSeFuLlY bReShKoVsKy sCaLaRiIdAe bLuNtIsH fOsSiLiSt\n",
      "Decrypted and Split Sentence: aDaMaNtLy oVeRsTePpInG uNaCcOuTeReD tOrTuLoUs aNgLiNgS vEeN bOlDeRiAn bUcHmAnItE tApIrUs pEaRlEr\n",
      "Decrypted and Split Sentence: eUcHrOiTe cAnOnIcAlIzEd hYpOpUs rEtRoGaStRiC aNtIeDuCaTiOnAl iCaLlY sEmIcHrOmE bAsIlIsCiNe fLeAbAgS\n",
      "Decrypted and Split Sentence: cAvOrTeR tJaElE eLiAtHaS cHeMoReCePtIoN tRiChRoNoUs uNsPlIcEd gArNiTuRe mOoRfLoWeR cHoLeStAnE\n",
      "Decrypted and Split Sentence: wIcKaTuNk sNaIlIsH bOnNyMaN aNaT tOyIsHnEsS wElShWoMaN sTrUcTuRiNg rEtZiAn sPaLlA uNnAmEaBlEnEsS\n",
      "Decrypted and Split Sentence: oRtHaL pIsToN bUtNeR aPpEnDiCoStOmY rEpReSsEr sExToS fAuStIaN iMbOsOm\n",
      "Decrypted and Split Sentence: bEnEcEpToR yAcAl dEnSiToMeTrY gOoDwAtEr fEmInIsEd dImInUtIvAl bAiLeYs pOoDeR oRtHiTiC\n",
      "Decrypted and Split Sentence: aLoPeCoId fOrEnAmE oChOzIaS uNfEiGnInG hAeMoRrHaGy tOrReLl mOiTiEr pLuMbInG uNlAdInG\n",
      "Decrypted and Split Sentence: hInAyAnIsT sAiLmAkInG oVeRsEtTlE zG rEcEpTaCuLiTiD sTePsIrE cHeMiOtRoPiSm dEcArBoNaToR gUmBoS\n",
      "Decrypted and Split Sentence: uNdErGrAdUaTeDoM bAsIdIoSpOrE rOaNnE bLoOmInGlY cHiLlA wElShWoMaN pArRiSh gLaDiUs wHeEzEs\n",
      "Decrypted and Split Sentence: lAnDsCaPeRs pOlIvY eUrYpRoSoPiC wArSlEr mArQuEt pRoDuCtIbLe mUsKiEs iNpOuRs\n",
      "Decrypted and Split Sentence: bUlLaTeD nIcKoLaS mAgBoTe vEnAtIoN mEtAcHrOmAtInIc tAsTiNgLy gAlLiCiSmS aNtIcYnIcAlLy aNtIdOtIsM\n",
      "Decrypted and Split Sentence: cRaBbInEsS eVaNiShInG aSgEiRsSoN pHaRyNgOsClErOmA bArNhArD cOuNtAbIlItY bAnTy tHrAwNnEsS sOmNaMbUlArY\n",
      "Decrypted and Split Sentence: bUrGeE sUpErMaRkEtS uNvAnQuIsHaBlE mOsAsAuRiA kEnAz cOvIbRaTiOn tYmPaNiTeS cOnSuMmAtElY\n",
      "Decrypted and Split Sentence: cOwBrUtE wAtTaGe rEeTaM bOwErStOn tRyInGlY nYoRo aLgOrItHmS pUnCe\n",
      "Decrypted and Split Sentence: bAsIdIoSpOrE cHaRnEcO oVeRfAtIgUe sPlInTeRiNg dOoStOeVsKy tRaCtOrIzAtIoN cOdEc dIsCiPlInG\n",
      "Decrypted and Split Sentence: bAnDoNiOn eUcHrOiTe aPpEtItEs gEnItIvE bIcOlOrOuS oRgAnOmEtAlLiC sAnItArIiUmS aLbErS bUtToNhOlD vAlEnTe\n",
      "Decrypted and Split Sentence: rAcKaPeE bAtHoRsE aNtIsTaLlInG rEtIrErS cHrOnOsCoPy lEpRy eNsCeNe\n",
      "Decrypted and Split Sentence: sEaTmAtEs aPoStAtIzInG uNsWeLtErEd sHaMeFuL uNiNtElLiGiBiLiTy bLaNkNeSs dEdOlAtIoN lOaMlEsS tErRiTuS mEtAzOaNs\n",
      "Decrypted and Split Sentence: cOlOvE aRtInA hUmAnE nBp sOdOmIzE dEbAtE fIfTiEtH\n",
      "Decrypted and Split Sentence: cOuNtErCoMpOnY cIrCuMfErEnToR uNdIvInElY hAlOgEnOuS bLaCkToPs hAlIdOmEs vArSoViAn\n",
      "Decrypted and Split Sentence: sYnD pOcOsIn lIpChItZ tHrUsToRs rEpLy cLiNaLlY aDdOrSeD\n",
      "Decrypted and Split Sentence: iNtRaNsGrEsSiBlE fLiGhThEaD oUtDaReD nOvElLy bRiTtLeR aLlIaRiA dItToGrApH pHeNyLaMiNe lOrIsEs lImNoRiA\n",
      "Decrypted and Split Sentence: bRiNiE gAlLiTzIn cAtLiKe dOuBlEhAnDeD pLaNuRy oUtBrAvEd dUpLaTiOn pEdUnCuLaR cArBuReToRs\n",
      "Decrypted and Split Sentence: aNtRiTiS dOoStOeVsKy pReStIgEfUl vArSoViAn iNtErDaTa pReMaRrIeD fOrEnOoNs\n",
      "Decrypted and Split Sentence: dOdEcAhEdRiC tOdDlEs uNrEcUmBeNt mYlAr cAsHiErEd dRaBbEd aPpLeJoHn pOcOsIn pLaTyCrAnIa oVoIdAl\n",
      "Decrypted and Split Sentence: bEnZaMiDe cHiTtAk oCtOsPoRe jAgHaTaI cElAtIoN cArPoSpOrIc sEmIaNnUaLlY\n",
      "Decrypted and Split Sentence: pErAmBuLaNt sTeLu dRaUgHtMaN nOnReDuCtIoNaL dIrTy sUdAdErO nOnEuPhOnIoUsNeSs nIvEaU cArNaGeS mEtAbOlIsInG\n",
      "Decrypted and Split Sentence: cAmIsIaS cOmMuNiStErIeS wEeSt pArAcOnIc pRoMoNtOrY sHuDdErInG lYsErGiC\n",
      "Decrypted and Split Sentence: pRoFeCtIoNaL oVeRdOmInAnCe uNsHiRtEd lOuDmOuThEd sHeEpKeEpEr mEgHaN nEcHe gYmNoGyNoUs ePeMbRyOnIc\n",
      "Decrypted and Split Sentence: uNtUtOrEdLy eVaLuAtIvE aNaKiM sTaNnArY gCs sHaLeMaN pOrTuNiDaE cArIjOnA cAtEcHoLaMiNe\n",
      "Decrypted and Split Sentence: cLiFf rIgElIaN hOwArD gEoLiNgUiStIcS dEsIrEdLy aCaNtHoCaRpOuS hAdEd tRiNgLe pAnHeLlEnIsT nOnCrEaTiVe\n",
      "Decrypted and Split Sentence: bArBoUr lEpRiD sAcKiNg uNsLy gEoPhAgIsT dIsKoPhIlE pReSuMpTiVeNeSs sBaIkIaN fOrWaRdNeSs\n",
      "Decrypted and Split Sentence: pHaLlOiD rItEs nIcKoLaS sLiDeFiLm sMeArS mOnOgOnEuTiC rEpUrPlE bEgGaRdOm uNeNrIcHiNg gOoSeBoNe\n",
      "0.004960179328918457\n"
     ]
    }
   ],
   "source": [
    "print(measure_decryption_time(words,100))"
   ]
  },
  {
   "cell_type": "code",
   "execution_count": 88,
   "metadata": {},
   "outputs": [],
   "source": [
    "#######"
   ]
  },
  {
   "cell_type": "code",
   "execution_count": null,
   "metadata": {},
   "outputs": [],
   "source": []
  },
  {
   "cell_type": "code",
   "execution_count": null,
   "metadata": {},
   "outputs": [],
   "source": []
  }
 ],
 "metadata": {
  "kernelspec": {
   "display_name": "huggvenv",
   "language": "python",
   "name": "huggvenv"
  },
  "language_info": {
   "codemirror_mode": {
    "name": "ipython",
    "version": 3
   },
   "file_extension": ".py",
   "mimetype": "text/x-python",
   "name": "python",
   "nbconvert_exporter": "python",
   "pygments_lexer": "ipython3",
   "version": "3.7.6"
  }
 },
 "nbformat": 4,
 "nbformat_minor": 4
}
