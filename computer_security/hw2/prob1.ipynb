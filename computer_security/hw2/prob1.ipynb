{
 "cells": [
  {
   "cell_type": "code",
   "execution_count": 1,
   "metadata": {},
   "outputs": [],
   "source": [
    "import random\n",
    "import time"
   ]
  },
  {
   "cell_type": "code",
   "execution_count": 2,
   "metadata": {},
   "outputs": [
    {
     "name": "stdout",
     "output_type": "stream",
     "text": [
      "416296\n",
      "ADJUSTABILITY\n",
      "True\n"
     ]
    }
   ],
   "source": [
    "\n",
    "words = []\n",
    "with open(\"words.txt\",\"r\") as file:\n",
    "    for line in file:\n",
    "        word = line.strip().upper()  \n",
    "        if word.isalpha():  \n",
    "            words.append(word)\n",
    "print(len(words))\n",
    "words = random.sample(words, min(10000, len(words)))\n",
    "\n",
    "words.sort()\n",
    "\n",
    "def binary_search(arr, target):\n",
    "    left, right = 0, len(arr) - 1\n",
    "    while left <= right:\n",
    "        mid =(left + right) // 2\n",
    "        if arr[mid] == target:\n",
    "            return True\n",
    "        elif arr[mid] < target:\n",
    "            left = mid + 1\n",
    "        else:\n",
    "            right = mid - 1\n",
    "    return False\n",
    "\n",
    "# 테스트\n",
    "print( words[100] )\n",
    "target_string =words[100]  \n",
    "is_found = binary_search(words, target_string)\n",
    "print(is_found)  "
   ]
  },
  {
   "cell_type": "code",
   "execution_count": 3,
   "metadata": {},
   "outputs": [
    {
     "name": "stdout",
     "output_type": "stream",
     "text": [
      "False\n"
     ]
    }
   ],
   "source": [
    "\n",
    "target_string =words[100] + \"1234\"  \n",
    "is_found = binary_search(words, target_string)\n",
    "print(is_found)  "
   ]
  },
  {
   "cell_type": "code",
   "execution_count": 4,
   "metadata": {},
   "outputs": [],
   "source": [
    "def generate_random_sentence(word_list, num_words):\n",
    "    chosen_words =random.sample(word_list, num_words)\n",
    "    sentence = ''.join(chosen_words)\n",
    "    return sentence.upper()"
   ]
  },
  {
   "cell_type": "code",
   "execution_count": 5,
   "metadata": {},
   "outputs": [
    {
     "data": {
      "text/plain": [
       "'MARGINATINGCRESCINTERIKSONDRAYINGHEMOLYZINGLAUGHEDCONSEQUENT'"
      ]
     },
     "execution_count": 5,
     "metadata": {},
     "output_type": "execute_result"
    }
   ],
   "source": [
    "random_text = generate_random_sentence(words,7)\n",
    "random_text"
   ]
  },
  {
   "cell_type": "code",
   "execution_count": 6,
   "metadata": {},
   "outputs": [
    {
     "name": "stdout",
     "output_type": "stream",
     "text": [
      "Decrypted and Split Sentence: PREVIOUS\n",
      "Failed to decrypt and split the sentence.\n"
     ]
    }
   ],
   "source": [
    "def find_valid_splits(text, words, start=0, memo=None):\n",
    "    if memo is None:\n",
    "        memo ={}\n",
    "    if start in memo:  \n",
    "        return memo[start]\n",
    "    if start >= len(text): \n",
    "        return [[]]\n",
    "\n",
    "    valid_splits = []\n",
    "    for end in range(start + 1, len(text) + 1):\n",
    "        current_substr = text[start:end]\n",
    "        if binary_search(words, current_substr):\n",
    "            for split in find_valid_splits(text, words, end, memo):\n",
    "                valid_splits.append([current_substr] + split)\n",
    "\n",
    "    memo[start] = valid_splits  \n",
    "    return valid_splits\n",
    "\n",
    "def decrypt_and_split(ciphertext, words):\n",
    "    all_splits = find_valid_splits(ciphertext, words)\n",
    "\n",
    "    if all_splits:\n",
    "        valid_split = min(all_splits, key=len)  \n",
    "        return ' '.join(valid_split)\n",
    "    else:\n",
    "        return False\n",
    "\n",
    "# 예시 사용\n",
    "temp_words = [\"APPLE\", \"PRE\",\"PREVIOUS\", \"ZEBRA\"]  \n",
    "temp_words = sorted(temp_words)\n",
    "ciphertext = \"PREVIOUS\"\n",
    "\n",
    "# 해독 및 단어 분리 시도\n",
    "result = decrypt_and_split(ciphertext, temp_words)\n",
    "if result:\n",
    "    print(\"Decrypted and Split Sentence:\", result)\n",
    "else:\n",
    "    print(\"Failed to decrypt and split the sentence.\")\n",
    "    \n",
    "\n",
    "ciphertext =\"PREVIOUSAPPLES\"\n",
    "\n",
    "# 해독 및 단어 분리 시도\n",
    "result = decrypt_and_split(ciphertext, temp_words)\n",
    "if result:\n",
    "    print(\"Decrypted and Split Sentence:\", result)\n",
    "else:\n",
    "    print(\"Failed to decrypt and split the sentence.\")"
   ]
  },
  {
   "cell_type": "code",
   "execution_count": 7,
   "metadata": {},
   "outputs": [],
   "source": [
    "def caesar_cipher(text, shift):\n",
    "    encrypted_text = ''\n",
    "    for char in text:\n",
    "        if char.isalpha():  \n",
    "            encrypted_text += chr((ord(char) - 65 + shift) % 26 + 65)\n",
    "        else:\n",
    "            encrypted_text +=char\n",
    "    return encrypted_text\n",
    "\n"
   ]
  },
  {
   "cell_type": "code",
   "execution_count": 8,
   "metadata": {},
   "outputs": [],
   "source": [
    "def random_shift_encrypt(text):\n",
    "    shift = random.randint(1, 25)\n",
    "    encrypted_text =caesar_cipher(text, shift)\n",
    "    return encrypted_text, shift"
   ]
  },
  {
   "cell_type": "code",
   "execution_count": 9,
   "metadata": {},
   "outputs": [],
   "source": [
    "def caesar_decrypt(encrypted_text,word_list):\n",
    "    for shift in range(1, 26):\n",
    "        shifted_text = caesar_cipher(encrypted_text, -shift)\n",
    "        result = decrypt_and_split(shifted_text, word_list)\n",
    "        if result:\n",
    "            print(\"Decrypted and Split Sentence:\", result)\n",
    "            break\n",
    "    else:\n",
    "        print(\"Failed to decrypt and split the sentence.\")"
   ]
  },
  {
   "cell_type": "code",
   "execution_count": 10,
   "metadata": {},
   "outputs": [],
   "source": [
    "def measure_decryption_time(word_list, trials=100):\n",
    "    start_time =time.time()\n",
    "    for _ in range(trials):\n",
    "        \n",
    "        sentence = generate_random_sentence(word_list, random.randint(7, 10))\n",
    "        \n",
    "        encrypted_text, shift = random_shift_encrypt(sentence)\n",
    "        caesar_decrypt(encrypted_text,word_list)\n",
    "    end_time = time.time()\n",
    "    return (end_time -start_time) / trials"
   ]
  },
  {
   "cell_type": "code",
   "execution_count": 11,
   "metadata": {},
   "outputs": [
    {
     "name": "stdout",
     "output_type": "stream",
     "text": [
      "Decrypted and Split Sentence: METASTOMA SUPERAQUAL GALOPADES LINGUOPAPILLITIS DRUXEY REITERATES PSEUDOVOLCANIC EPIGLOTTIDES MAHIMAHI OVERCRITICIZE\n",
      "Decrypted and Split Sentence: LIONELLO PRESCRIPTION TARTRAZINIC DUSEHRA EXUNDANCE OOSPOROUS PETITGRAIN SORDS\n",
      "Decrypted and Split Sentence: UNCONDUCTIVENESS METALLARY OVERLUSHLY VISCOMETRY GLORIOSO LYSENKOISM BUSHELBASKET TROCHOSPHAERIDA FLAMBOYER\n",
      "Decrypted and Split Sentence: COMPLIABLE COMPUTATIVELY DIAULOS MANITUS TETRACHORIC RENSSELAER TROOPS\n",
      "Decrypted and Split Sentence: CHESTERLITE LIATRIS ROUGHIE NAVASOTA KAPILA DISCIPLING CHROMATOPHILOUS\n",
      "Decrypted and Split Sentence: POLONIZATION BIRNEY CHALUTZIM OVERTHEORIZING FORWRAP UNDECEITFUL ONOMATOLOGIC UCC CLODBREAKER MESOPETALUM\n",
      "Decrypted and Split Sentence: HOMEOPATHY WABI CLYPEASTER MORONS SPLENOBLAST MONOCYSTIS FOOTCLOTH INCERATION SPINELIKE SUPERTANKERS\n",
      "Decrypted and Split Sentence: DELILAH BRILLANTE MICROPHYSIOGRAPHY URIIA MAHARASHTRI MANDALIC HAYATO\n",
      "Decrypted and Split Sentence: CRESOXY TENODESIS RAVEINELIKE CIMBRI THYMATE PICEOFERRUGINOUS ORDU FAROES MEDIATRIXES\n",
      "Decrypted and Split Sentence: SAGOIN CORBICULA HOLOGONIDIA INFIELDER POSTVESICAL BIRCK PSEUDOASSERTIVELY\n",
      "Decrypted and Split Sentence: PSEUDONYMOUS ACETYLACETONATES LAPSABILITY PREGHIERA UNDERCOOPER IMMUNIZING EXPERGEFACIENT\n",
      "Decrypted and Split Sentence: MANGANITE DREAMTIME SINTOIST COPPLE STOICISMS SHRANK SORCERY\n",
      "Decrypted and Split Sentence: CONCEALMENTS GROOVER BK EPIMERISM ROUGHIE CEMENTATION TEAMWORKS\n",
      "Decrypted and Split Sentence: MACHEER NONPOLITICALLY UNREMEMBERED PRISONOUS WEATHERSTRIPPING MAYPEARL GRIGSON PLACKET PSEUDOVOLCANIC\n",
      "Decrypted and Split Sentence: ABESSIVE SEXTUPLETS OVERCURIOUS RATIONALES REPROPORTION AERONAUTIC WHEELHOUSES UNOBSTINATELY PRETRY HYPOTHESI\n",
      "Decrypted and Split Sentence: MESCALISM URANA TEGURIA AWSHAR LITUITES WAISTERS UNDETRACTIVELY NONTEETOTALER\n",
      "Decrypted and Split Sentence: JUSTAUCORPS NICOTINIC PHARMACOLOGIST SLYPES PARROQUE GIRTING PHYLLOCYANIC UPSTREET SPAYED\n",
      "Decrypted and Split Sentence: EPITHETON APED PATHOMETABOLISM SALINES TRIUMPHWISE MONOTRICHIC MISFORTUNER MOLINI\n",
      "Decrypted and Split Sentence: MITANNIAN COLLUCTATION UNPERVASIVENESS DOUX PLATESFUL PAIWARI GOOSEWEED UROLOGIC BEADED\n",
      "Decrypted and Split Sentence: RETHANK GRUNITSKY CONSECRATION ESTOPPEL DESPIAU RETROGASTRIC RETESTIFIED GASTALDO DOBY\n",
      "Decrypted and Split Sentence: BEWPERS OVERLEAPED TUTTED MESOPETALUM NAHANT HILGER DAVENANT FEATHERWEIGHT\n",
      "Decrypted and Split Sentence: SWAM TAUTOCHRONOUS CARPIUM PAYNI CHURCHMANSHIP TERATOMAS SQUENCHER NARBERTH RHEOSTATS TIFTON\n",
      "Decrypted and Split Sentence: ACTUALIZING ARTINA JEWELING PSEUDOBRACHIAL METASTOMA INSEP JUVENILE MUCOSITIES MONOTRICHIC VAVASORS\n",
      "Decrypted and Split Sentence: IMPUNITIES DISABUSES MATURELY TURKIFY GAWCEY SEMIPHILOSOPHICAL PUSEYISTIC LUREFUL INCENSEMENT\n",
      "Decrypted and Split Sentence: RHEUMATICAL GOREN MYXOFIBROSARCOMA BEFAMILIED SULFANILIC SCHNECKE HOMICIDES\n",
      "Decrypted and Split Sentence: EQUICONTINUOUS SKYLINE GUARS STRAIGHTENER DEMAGOGUERIES WAFERLIKE SNEESH\n",
      "Decrypted and Split Sentence: OUTPLANNED MULTIROOTED PLATESFUL ANTHOSPERMUM GRIMMEST TIMESERVER HEARTENED\n",
      "Decrypted and Split Sentence: BURHINUS SENSATIONALIZING DENSHARE HUNDREDWEIGHTS UNSHACKLED WEKAS CENTINEL\n",
      "Decrypted and Split Sentence: GIANTLY ZASLOW HEMATOCYTOBLAST GNOSIOLOGY MYTHOGRAPHIES JESUITICAL UNTANGIBILITY DELPHIA BOOGIES\n",
      "Decrypted and Split Sentence: PORTEOUS INAPPRECIATIVELY METACHLAMYDEAE SPARGED LAKESHORE UNTRAGICAL GLOTTALIZATION\n",
      "Decrypted and Split Sentence: WARTED SERMONIC FURLANE TERRORSOME PROHIBITORY SUBENTIRE FORRIL DASYPODIDAE\n",
      "Decrypted and Split Sentence: VERJUICES SUBERIFORM MISFORTUNER AUREL HIDEYOSHI CORRECTIVENESS DECAFFEINATED NOTONECTA GRAVE SIEVELIKE\n",
      "Decrypted and Split Sentence: MARKETEERS EVOLUTIVE UROLOGIC ANSULATE SARCOCYTE PRODUCTION OVERATTENTIVELY\n",
      "Decrypted and Split Sentence: CITROMETER ANANTHOUS RETROMINGENTLY TRIPHENYLCARBINOL ARCHEXORCIST UNPROFANENESS SENSITIVE\n",
      "Decrypted and Split Sentence: WHEELHOUSES RUNKLE UNSTOPPLE LALLIES NONEXPECTANTLY THORNEN EXPERGEFACIENT BRONTEANA VOMICIN CYCLIZES\n",
      "Decrypted and Split Sentence: BUTINE RADICULE BAKERSVILLE UNFORTUNATES NAND WEATHERSTRIPPING COSTUMIERS\n",
      "Decrypted and Split Sentence: JOLOANO VOLTMETERS FURFURAN COMMITTEE RAQUELA EXACERBATE NONGRACEFUL\n",
      "Decrypted and Split Sentence: TWERP ANTISPLITTING TANDJUNGPRIOK ARCHAEOGEOLOGY MAWALI UNROMANTICIZED PROJECTRESS MARGINATING PLATESFUL NONPLIABILITY\n",
      "Decrypted and Split Sentence: UNLITERALIZED PLUTOCRATICAL SABBATON CHRYSOPHYLL RENAULT DKG CHESTERLITE TREVES ARROWROOTS ARETINA\n",
      "Decrypted and Split Sentence: UUCICO SYNSEPALOUS URANOSCOPIA PHOTOSENSITIZE COLLOCATION JOLOANO RINGGOLD DOBBIES LYMPHADENIA PARLIER\n",
      "Decrypted and Split Sentence: PAPILLECTOMY UNDIFFRACTIVENESS WINEHOUSE PRISSIES PERFUNCTORIZE FRONTATE SUBCONTINENTAL PERSCRUTATOR INCOMPARABLENESS\n",
      "Decrypted and Split Sentence: TONICOBALSAMIC EXOPODITIC SHUTTERBUGS OUTSATISFIED MISFORTUNER TRIUMPHWISE ACHORDATA SWAM DIFFRACTION\n",
      "Decrypted and Split Sentence: RACHE CHEMOTROPIC DERATIZING DIGRAPHS ERIKSON KINTAR CLIFFHANGERS ASCARIDAE PREACCUSTOMS\n",
      "Decrypted and Split Sentence: VIBRANCE DELEGATI SHIMONOSEKI PROTREPTIC PHANTASIASTIC LUCILLA DISAPPROVAL VULCANO CLUBIONID BEMUZZLING\n",
      "Decrypted and Split Sentence: PIANOLIST STONEMAN MESENTERIFORM AUTOGYRO NORTHERED PROCOELOUS APOCALYPSES PADRIAC\n",
      "Decrypted and Split Sentence: ARCHEXORCIST BEMIX OPENING SEATER UNEMIGRANT DRUMWOOD MULTIROOTED\n",
      "Decrypted and Split Sentence: SIMPLIFIEDLY WABI OSTEODERMIS FIGURIAL HENNERY HISTORICOPHYSICAL JEMBE MAURITIA\n",
      "Decrypted and Split Sentence: WALES LATISHA MELODIOUSLY ANTIBIOTIC AULOSTOMID SAPIAO STANGS\n",
      "Decrypted and Split Sentence: IMPRESSMENTS UNPROTECTED THYMICOLYMPHATIC CELLARESS GLENS LAUNCEIOT POULET\n",
      "Decrypted and Split Sentence: CHIMAERAS PATRICH PROAGRICULTURAL UNDETESTABLY INDISCIPLINED WASEGUA AGITATIONS UNDERSPREAD PLURIPAROUS\n",
      "Decrypted and Split Sentence: DECOMPENSATES ORNITHOLOGISTS CAPELINE PORTEOUS PETROLS COPYBOOKS MALCHUS\n",
      "Decrypted and Split Sentence: INTRUSTED FADS SCOPARIUM TOSTADO MASKINONGES CALISTHENICAL TOXICANTS GAMETANGIA\n",
      "Decrypted and Split Sentence: PARTICLED PREPARATEUR CAUDAD MALTREATMENTS SPEEDAWAY SURSISE STEELMAKER SCARVES\n",
      "Decrypted and Split Sentence: HIEROS PRESTRIKE GRILLEWORK GLOWBARD UNSTYLED OSTENSORY PROSTITUTED AUCHINLECK\n",
      "Decrypted and Split Sentence: BOLOGNESE NECROBACILLARY ZEOIDEI FILET QUADROONS METADIABASE SQUARK BLENCHING\n",
      "Decrypted and Split Sentence: ADAMANTS TOLLABLE CONSULATING HYDROLYZATE VEXES KNOCKDOWN DISTURBINGLY FILICAL CUNIT NICOMACHEAN\n",
      "Decrypted and Split Sentence: SYCITE LABAW INVISCATE INNOVATING EPIGLOTTIDES UNPRESSES QUAGGIEST RENFRED\n",
      "Decrypted and Split Sentence: BOLDNESSES ETHERS TRANSMIGRANT GAOLING PORTHOLE MACKINTOSHITE HAIRNETS CLAUSTROPHOBIAS CORROBORATE\n",
      "Decrypted and Split Sentence: UNBRAKED RUBIFY OCTODECIMO OVERPOTENTLY EMBLEMING CARICACEAE CORKIR\n",
      "Decrypted and Split Sentence: BEAUED OUTSHOVE SERMONIC COMMUNISTICAL SCALLION MEHELYA EJECTORS\n",
      "Decrypted and Split Sentence: HOSPITALLER MELOPHONE FROUSIEST NUMPS ORIFLAMME PIROUETTER MERCAPTOLE GROANERS OVERINVESTING KIEGER\n",
      "Decrypted and Split Sentence: GIPSIES DIKEPHOBIA DELIROUS REACHIEVING TUONELA COMPLIABLE RIZZI COMMUNALISTIC\n",
      "Decrypted and Split Sentence: REITERATES RESOURCEFULNESSES CATHIN PORTEOUS POPSHOP METAMERIZATION FREAKOUT SHUNPIKE\n",
      "Decrypted and Split Sentence: COFASTER MOSSBUNKER GARSTON CORNIFICATION POLYHIDROSIS MELOTRAGIC SYNCHRONIC OUTSHINER ROSTEL\n",
      "Decrypted and Split Sentence: EXUNDANCE NONGOVERNMENT INTERFRET SPEECE MORIGEROUSNESS DIVINISATION PLETHODONTID RETROINSULAR\n",
      "Decrypted and Split Sentence: SPARSEDLY ICELEAF BAREFIT DESMODONTIDAE DOSIMETER FIREARM BEDROWSE SIGNORE HEMICRANIC\n",
      "Decrypted and Split Sentence: PETTIAGUA EMPATHIC ENUNCIATES VILIFIED CARILLONNING RAW EVANGELIARIUM TOUZLES MELOPHONE PENCILLIKE\n",
      "Decrypted and Split Sentence: UNGLOBE CARILLONNING LEGATOS CERF OWADES VIRGER KUBRICK\n",
      "Decrypted and Split Sentence: DOCKIZE NONPHONETICALLY IMPARLANCE UNRECUPERATINESS AQUEUS CHALCOGRAPHIC STETHOPARALYSIS SQUARK METTON GIRONDE\n",
      "Decrypted and Split Sentence: QUICKENED TLA STUBBORNNESS BASEBRED UNSNAPS UNAPPRIZED UNACCLIMATISED BOARCITE HARASS DETONABILITY\n",
      "Decrypted and Split Sentence: TRANSIENCY CEPHALOPLEGIA TWERP KILTY TAXAMETER NONELIGIBLY VODKAS MOORBERRY\n",
      "Decrypted and Split Sentence: MIGHTILY LOCANDA RETINT EVOLVEMENTS POSTDIGITAL OSCILLARIACEAE CHARTOGRAPHICAL TURPIS FASHES\n",
      "Decrypted and Split Sentence: FLARELESS FAYTH HARNESS UNTEASED RETROSPLENIC PLASMOCYTE PHOTOMORPHOGENESIS COMATULA\n",
      "Decrypted and Split Sentence: MECOPTERAN PRENOMINATING ECCENTRICITIES INJURING BUNGALOWS DECIDUITIS MONOCYCLY\n",
      "Decrypted and Split Sentence: WELS SLEEP PHYLESISES RADIOECOLOGIST NIBBLED CORTISOL BOCCA SQUIRRELLY VARICOTOMY VEBLENITE\n",
      "Decrypted and Split Sentence: SENSATIONALIZING MOLINI RECHERCHE LISSENCEPHALOUS ANEROID REHABBER INDRAPE UNSTARTLED\n",
      "Decrypted and Split Sentence: UNAXED BANDELLO RECONSTRUCTED GABRIELS INEXISTENT FEDIFRAGOUS PERSCRUTATOR NONDIABOLICALNESS STRAWBERRYLIKE\n",
      "Decrypted and Split Sentence: VILELA TOFF MIDSHIPMITE DERMOIDAL NONTONAL FLAV NONQUALITATIVE\n",
      "Decrypted and Split Sentence: CNIDOSCOLUS MACLUREA XEROPHAGIA COEFFECTS SOLDER QUARRELSOMENESS GRUNITSKY PLANETABLE\n",
      "Decrypted and Split Sentence: SULFANILIC KARS DISNATURED AERONOMICAL GLOTTALIZATION TRISMUS FUDGING PHOTAESTHESIS QUINUCLIDINE SUBCORYMBOSELY\n",
      "Decrypted and Split Sentence: UNSITTING ANADROM CONSULATES YARDMEN PHILADELPHIANS PASSEMEZZO LEUCITOPHYRE\n",
      "Decrypted and Split Sentence: MUSKOGEE VEXES SPECTROUS SURSISE TYPIFICATION TROTHLESSNESS PREPARATEUR COLLATRESS SICCITY\n",
      "Decrypted and Split Sentence: NEOGA ILLUSIONISM ROUNDHEAD PREPOSE MORBIDNESSES DURABLE LEADERSHIP\n",
      "Decrypted and Split Sentence: PSEUDODEMOCRATICALLY EMINESCU WHIPSAWED IRESINE CHASTIMENT PAMPEANS MEHELYA\n",
      "Decrypted and Split Sentence: CLIMACUS RHABDOMONAS UROUS ASTROCHEMIST EXPONENTION THREATFULLY PHILTRES MEMBRETTE TEXTUIST\n",
      "Decrypted and Split Sentence: OVERLIVES WITNESSES VOLACIOUS DECENTRE TRANSFERENCE UNCIRCULATING GIRDLINGLY SEMIPOROUS STOMATALGIA PERONISTA\n",
      "Decrypted and Split Sentence: CACTIFORM GLYCAEMIA SKYLINE MOPEY SOVIETS GALLIZE SNUBBING DRAYING\n",
      "Decrypted and Split Sentence: COGNOSCENT WOODCHOPPERS THIRST SONGWRITING UNPRAISABLE THERMOPERIODICITY REGRADATE CLYTEMNESTRA TIMBRELLER CHEECHA\n",
      "Decrypted and Split Sentence: VINCENZ HIPPIEDOM PREINTIMATED PASSEMENT TEJANO UPSETTAL RHABDOID BEMIX CYCLOSES UNMOTIONABLE\n",
      "Decrypted and Split Sentence: ANITA ELIGENT KREIKER CAMAILS IZ CLEARCOLE HEMOPIEZOMETER MAIMONIDES\n",
      "Decrypted and Split Sentence: POLARISER ENTHRONES IXIAMA BOBBYSOCKS PALAEOBOTANY KREMERSITE GANGLIONEURE CREN\n",
      "Decrypted and Split Sentence: CHALUTZIM DARELLE LEADABLE THRIFTIEST SUBSCRIPT TUPAIIDAE PUNICIAL BAROSCOPE\n",
      "Decrypted and Split Sentence: MULTIMEGATON ORRSTOWN WRAND UNINCHOATIVE DEDICATIONAL PERIGRAPHIC ENTEROCENTESIS THICKHEADED\n",
      "Decrypted and Split Sentence: OVERSKIM PATINIZE STADTHOUSE BOMBARDING QUADPLEX CAREFULNESSES NEUROCITY GESNERACEAE UNPRESENTED GADMON\n",
      "Decrypted and Split Sentence: OSTENSORY OUTSHOVE SEXTUPLETS UNPERFORATE EXACERBATE POLYGALA SUBTRIFID WAILUKU MAIMONIDES FALSEHOODS\n",
      "Decrypted and Split Sentence: WIMPLER FREYCINETIA DISSENTIVE MONOSYLLOGISM VELIGEROUS TAWNIE TORTOISELIKE DISACCUSTOMEDNESS\n",
      "Decrypted and Split Sentence: OVERSTRETCHES DECLARERS TETRASPORANGIA VERJUICES PREPUBERAL ZINKIFY FLORIDEAE SUBSECURITY SACHIKO SEATONVILLE\n",
      "Decrypted and Split Sentence: MISMATCHED UNPITCHED JELM SAMOTHRAKE THEATINE EXPERGEFACIENT MONANDRIAN UNCONSECUTIVE BERINSE GRANDSONS\n",
      "Decrypted and Split Sentence: VALVELIKE SHINDY DOYLESTOWN PHORIDAE IMPLEDGING DISENCHARM LEADINGS TRINOL IPL\n",
      "Decrypted and Split Sentence: ALSIKE STARWISE BLETONISM SPITELESS HETEROTELISM MAGNIFICATIONS CLEANLY SECESSIONS TRAMETES\n",
      "0.00467710018157959\n"
     ]
    }
   ],
   "source": [
    "print(measure_decryption_time(words,100))"
   ]
  },
  {
   "cell_type": "code",
   "execution_count": null,
   "metadata": {},
   "outputs": [],
   "source": []
  },
  {
   "cell_type": "code",
   "execution_count": null,
   "metadata": {},
   "outputs": [],
   "source": []
  },
  {
   "cell_type": "code",
   "execution_count": null,
   "metadata": {},
   "outputs": [],
   "source": []
  }
 ],
 "metadata": {
  "kernelspec": {
   "display_name": "huggvenv",
   "language": "python",
   "name": "huggvenv"
  },
  "language_info": {
   "codemirror_mode": {
    "name": "ipython",
    "version": 3
   },
   "file_extension": ".py",
   "mimetype": "text/x-python",
   "name": "python",
   "nbconvert_exporter": "python",
   "pygments_lexer": "ipython3",
   "version": "3.7.6"
  }
 },
 "nbformat": 4,
 "nbformat_minor": 4
}
