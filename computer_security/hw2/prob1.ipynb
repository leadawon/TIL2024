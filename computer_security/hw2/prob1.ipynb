{
 "cells": [
  {
   "cell_type": "code",
   "execution_count": 165,
   "metadata": {},
   "outputs": [],
   "source": [
    "import random\n",
    "import time"
   ]
  },
  {
   "cell_type": "code",
   "execution_count": 166,
   "metadata": {},
   "outputs": [
    {
     "name": "stdout",
     "output_type": "stream",
     "text": [
      "416296\n",
      "ADIAPHORISM\n",
      "True\n"
     ]
    }
   ],
   "source": [
    "\n",
    "words = []\n",
    "with open(\"words.txt\", \"r\") as file:\n",
    "    for line in file:\n",
    "        word = line.strip().upper()  \n",
    "        if word.isalpha():  \n",
    "            words.append(word)\n",
    "print(len(words))\n",
    "words = random.sample(words, min(10000, len(words)))\n",
    "\n",
    "words.sort()\n",
    "\n",
    "def binary_search(arr, target):\n",
    "    left, right = 0, len(arr) - 1\n",
    "    while left <= right:\n",
    "        mid = (left + right) // 2\n",
    "        if arr[mid] == target:\n",
    "            return True\n",
    "        elif arr[mid] < target:\n",
    "            left = mid + 1\n",
    "        else:\n",
    "            right = mid - 1\n",
    "    return False\n",
    "\n",
    "# 테스트\n",
    "print( words[100] )\n",
    "target_string = words[100]  \n",
    "is_found = binary_search(words, target_string)\n",
    "print(is_found)  "
   ]
  },
  {
   "cell_type": "code",
   "execution_count": 167,
   "metadata": {},
   "outputs": [
    {
     "name": "stdout",
     "output_type": "stream",
     "text": [
      "False\n"
     ]
    }
   ],
   "source": [
    "\n",
    "target_string = words[100] + \"1234\"  \n",
    "is_found = binary_search(words, target_string)\n",
    "print(is_found)  "
   ]
  },
  {
   "cell_type": "code",
   "execution_count": 168,
   "metadata": {},
   "outputs": [],
   "source": [
    "def generate_random_sentence(word_list, num_words):\n",
    "    chosen_words = random.sample(word_list, num_words)\n",
    "    sentence = ''.join(chosen_words)\n",
    "    return sentence.upper()"
   ]
  },
  {
   "cell_type": "code",
   "execution_count": 169,
   "metadata": {},
   "outputs": [
    {
     "data": {
      "text/plain": [
       "'LINGAMSDIBAXENELASIAREANTAGONIZEDCOREDEEMENLIVENHOMOCHROMIC'"
      ]
     },
     "execution_count": 169,
     "metadata": {},
     "output_type": "execute_result"
    }
   ],
   "source": [
    "random_text = generate_random_sentence(words,7)\n",
    "random_text"
   ]
  },
  {
   "cell_type": "code",
   "execution_count": 170,
   "metadata": {},
   "outputs": [
    {
     "name": "stdout",
     "output_type": "stream",
     "text": [
      "Decrypted and Split Sentence: PREVIOUS\n",
      "Failed to decrypt and split the sentence.\n"
     ]
    }
   ],
   "source": [
    "def find_valid_splits(text, words, start=0, memo=None):\n",
    "    if memo is None:\n",
    "        memo = {}\n",
    "    if start in memo:  \n",
    "        return memo[start]\n",
    "    if start >= len(text): \n",
    "        return [[]]\n",
    "\n",
    "    valid_splits = []\n",
    "    for end in range(start + 1, len(text) + 1):\n",
    "        current_substr = text[start:end]\n",
    "        if binary_search(words, current_substr):\n",
    "            for split in find_valid_splits(text, words, end, memo):\n",
    "                valid_splits.append([current_substr] + split)\n",
    "\n",
    "    memo[start] = valid_splits  \n",
    "    return valid_splits\n",
    "\n",
    "def decrypt_and_split(ciphertext, words):\n",
    "    all_splits = find_valid_splits(ciphertext, words)\n",
    "\n",
    "    if all_splits:\n",
    "        valid_split = min(all_splits, key=len)  \n",
    "        return ' '.join(valid_split)\n",
    "    else:\n",
    "        return False\n",
    "\n",
    "# 예시 사용\n",
    "temp_words = [\"APPLE\", \"PRE\",\"PREVIOUS\", \"ZEBRA\"]  \n",
    "temp_words = sorted(temp_words)\n",
    "ciphertext = \"PREVIOUS\"\n",
    "\n",
    "# 해독 및 단어 분리 시도\n",
    "result = decrypt_and_split(ciphertext, temp_words)\n",
    "if result:\n",
    "    print(\"Decrypted and Split Sentence:\", result)\n",
    "else:\n",
    "    print(\"Failed to decrypt and split the sentence.\")\n",
    "    \n",
    "\n",
    "ciphertext = \"PREVIOUSAPPLES\"\n",
    "\n",
    "# 해독 및 단어 분리 시도\n",
    "result = decrypt_and_split(ciphertext, temp_words)\n",
    "if result:\n",
    "    print(\"Decrypted and Split Sentence:\", result)\n",
    "else:\n",
    "    print(\"Failed to decrypt and split the sentence.\")"
   ]
  },
  {
   "cell_type": "code",
   "execution_count": 171,
   "metadata": {},
   "outputs": [],
   "source": [
    "def caesar_cipher(text, shift):\n",
    "    encrypted_text = ''\n",
    "    for char in text:\n",
    "        if char.isalpha():  \n",
    "            encrypted_text += chr((ord(char) - 65 + shift) % 26 + 65)\n",
    "        else:\n",
    "            encrypted_text += char\n",
    "    return encrypted_text\n",
    "\n"
   ]
  },
  {
   "cell_type": "code",
   "execution_count": 172,
   "metadata": {},
   "outputs": [],
   "source": [
    "def random_shift_encrypt(text):\n",
    "    shift = random.randint(1, 25)\n",
    "    encrypted_text = caesar_cipher(text, shift)\n",
    "    return encrypted_text, shift"
   ]
  },
  {
   "cell_type": "code",
   "execution_count": 173,
   "metadata": {},
   "outputs": [],
   "source": [
    "def caesar_decrypt(encrypted_text,word_list):\n",
    "    for shift in range(1, 26):\n",
    "        shifted_text = caesar_cipher(encrypted_text, -shift)\n",
    "        result = decrypt_and_split(shifted_text, word_list)\n",
    "        if result:\n",
    "            print(\"Decrypted and Split Sentence:\", result)\n",
    "            break\n",
    "    else:\n",
    "        print(\"Failed to decrypt and split the sentence.\")"
   ]
  },
  {
   "cell_type": "code",
   "execution_count": 174,
   "metadata": {},
   "outputs": [],
   "source": [
    "def measure_decryption_time(word_list, trials=100):\n",
    "    start_time = time.time()\n",
    "    for _ in range(trials):\n",
    "        \n",
    "        sentence = generate_random_sentence(word_list, random.randint(7, 10))\n",
    "        \n",
    "        encrypted_text, shift = random_shift_encrypt(sentence)\n",
    "        caesar_decrypt(encrypted_text,word_list)\n",
    "    end_time = time.time()\n",
    "    return (end_time - start_time) / trials"
   ]
  },
  {
   "cell_type": "code",
   "execution_count": 175,
   "metadata": {},
   "outputs": [
    {
     "name": "stdout",
     "output_type": "stream",
     "text": [
      "Decrypted and Split Sentence: SUBINTEGUMENTAL NONEXTENSIBNESS BRAGGADOCIOS DAMASCENER SARTON OVERFRUITED BECAPS BABELIZATION\n",
      "Decrypted and Split Sentence: UNTRUCK SHULLSBURG NERDY TRAPPABILITIES PARAPLECTIC HYDROPLATINOCYANIC LARYNGOTOMY DELAWN\n",
      "Decrypted and Split Sentence: REFRIGERATE CHLOROPHYLLIDE LEVERED INDULGE SOOTINESS JOIADA RESCINDED ALLOTTERS BROCCIO\n",
      "Decrypted and Split Sentence: SHARKERS PERIEGESIS LAPAROSPLENOTOMY CHALICES BALAAM REMENACE GREENWAX VINOS UNRIVALABLE\n",
      "Decrypted and Split Sentence: PREQUALIFYING FIUME LECITHALBUMIN RESOWED DIAMIDES HOGMANES METAVAUXITE OVARIECTOMIZING COMPOUNDABLE METIUS\n",
      "Decrypted and Split Sentence: HOFUF MCLEAN PHILOFELIST UNSIMPLE TECHNISM REACTIVITIES UNLOFTY NONIMPRESSIONABNESS\n",
      "Decrypted and Split Sentence: CONNECTIBILITY ALROY MORDRED SECTARIANIZE JINKS HANKS BOYDEKYN NOACH GREASEWOOD\n",
      "Decrypted and Split Sentence: NONCONTERMINOUSLY RADICALNESS VETERANCY INTERPASS BEDTICKS UNLIABILITY DIVESTURE INFECT\n",
      "Decrypted and Split Sentence: BETAXED GUNDECK DEMULTIPLEXERS GILGAMES PRIMOGENIAL INAFFABILITY ARIEW UNCROOKED OLIVIERO METARULES\n",
      "Decrypted and Split Sentence: OFFENSELESS OSSIP BIHAR PLUTONIUMS RESENTIVE GERMLESS SWATTED DECIMETER\n",
      "Decrypted and Split Sentence: FUT DELFEENA PALEOLOGY SHIR MILLWORK ADI CAPPLE MOLLISIOSE NONGERMINATING\n",
      "Decrypted and Split Sentence: XANTHORRHIZA SEMBALL STOBS PHYLLODINEOUS SPELEOLOGICAL SLIPCOVER MEGARIANISM UNPORTRAITED PLUS\n",
      "Decrypted and Split Sentence: TRAMAL POCK REVANCHES LIEGEWOMAN STRONGYLATE AQUARIIST NONGRAPHITIC AMETHODICAL\n",
      "Decrypted and Split Sentence: ALMOUS HOOKED GOUTWEED ONWARDS MSL FROWSILY UNYOUNG ARMORICIAN ADOLESCENCY PITOMIE\n",
      "Decrypted and Split Sentence: SELADANG THYROEPIGLOTTIC HUZZARD GRANITIFICATION DEALABLE GODBEARE FANATICAL COMMANDO ADAIZE PHOTOENGRAVER\n",
      "Decrypted and Split Sentence: LAPSTONE KATHRYN MACHIN MANDA MOOSEBUSH TRIPURA SALADANGS\n",
      "Decrypted and Split Sentence: PLURICARPELLARY DETOXICATE SEXAGESIMAL TOGAWISE MYSIDAE COUNTERCHARM MOREOVER BCERE UNCORDED DECERNED\n",
      "Decrypted and Split Sentence: ERIS REVISES INTERPRETING VERTIGINOUSNESS RETROGRESSED POPELESS NONDISINTEGRATING DEATHTRAP APOSTOLICITY MISMATCHES\n",
      "Decrypted and Split Sentence: REPUGNANTLY GAURI UNMETRIFIED OOPLAST PREEMANCIPATION PRECCHOSEN ZYGOMORPHY REATTACHMENT TCB\n",
      "Decrypted and Split Sentence: JOWLIER RIFFI COATINGS VERACITY PARAGONITIC NYCTAGINACEOUS AVALE INTERJACENT\n",
      "Decrypted and Split Sentence: DYSMENORRHAGIA TAHLTAN SPIDERWEBBED FITFULNESS PRIVACITY PRIMOGENIAL QUILLAJAS BILLETERS GINGEROUS SHADELESS\n",
      "Decrypted and Split Sentence: MESOZOIC UMIACK PETRESCENT EXOTOXIC BALLAM EXPENSEFUL PRABHU SCIMITER\n",
      "Decrypted and Split Sentence: TETTERY DOWIEITE YAWPINGS EDBERT SLEB CYTHERA POSTER SOMNIPATHY\n",
      "Decrypted and Split Sentence: LIGHT MANITOBAN UNCOMBINING SYNTONOLYDIAN RICINELAIDINIC THALAMENCEPHALA RANDA\n",
      "Decrypted and Split Sentence: MISAPPREHENSIBLE BUCHBINDER MEMBRANE CEREBRALIZATION DALBO BLANKETRY COQUETRIES\n",
      "Decrypted and Split Sentence: PESEWA PALMULA REENDORSE SANDCLUB PASANG OKRO HYPOGEAL SCALADO ALTARIST\n",
      "Decrypted and Split Sentence: UPHEARTED NONSHATTER PSEUDOOFFICIAL KULDA LIGNONE NAZIMOVA DBV FONDANT CALCIFUGOUS\n",
      "Decrypted and Split Sentence: KAJAANI ANTHEROZOOID MARROWSKYER XANTHROCHROID NONEVANESCENT EARLOCK ZIBETUM SYRIOLOGIST\n",
      "Decrypted and Split Sentence: PHOTOSTATIC UPDRIED ATHERIOGAEA IMMATURENESS PHILIPSBURG STICHICALLY ROSINS KIDDED PREBRONZE REPARTEE\n",
      "Decrypted and Split Sentence: NANON TARYN ENNAGE ANTONCHICO DREWS PRECULTIVATION DISINHERITABLE MASKER UNCONSCIONABILITY FLAPJACKS\n",
      "Decrypted and Split Sentence: NONDANGEROUS NONCONJUNCTION FULK NUDISH UNFEMINIST REREGISTRATION MHOS\n",
      "Decrypted and Split Sentence: GOLDBEATER UNDERPRODUCTIVE CORALLIFORM FAVIEN SERICTERIES CARDIOPYLORIC CATHETOMETRIC OBECHE FRUMA\n",
      "Decrypted and Split Sentence: THIMBLERIG EMOTIONALISED PARAPSYCHOLOGISTS SOUNDTRACK ICTERICS DEIXIS ENGRAVERS\n",
      "Decrypted and Split Sentence: KIBBUTZIM SPHENOTRIPSY IMMATURENESS SHULLSBURG SUPERASTONISHMENT MONA BOUGUER LIKELIER BESORT WRETCHLESSLY\n",
      "Decrypted and Split Sentence: PLAYTIME ALLOTMENT BESCRIBBLE PHENMETRAZINE UNCONTUMACIOUS PSEUDOCOTYLEDONARY IDALINE BOWELS\n",
      "Decrypted and Split Sentence: EVENLIGHT GLASGO DIACOELOSIS UPLEAPT WINDBREAK TICKLEBRAIN BIRLINN WOODBINES\n",
      "Decrypted and Split Sentence: SKIFFLED CREWE MADE PLEDGE ETHYLMORPHINE WEEWOW SPRATT ATHELINGS LIPARIDIDAE\n",
      "Decrypted and Split Sentence: CHRISMALE THEET AERIFACTION PRAEPUBIS PYROSULPHITE PLUCKY KALLE UNGILLED\n",
      "Decrypted and Split Sentence: PROPINQUOUS ALLOMERIZATION OVERREPRESENTATION COULD ACCESSIBILITY VALLO CRINK SKYBOLT UNADMITTABLY PANZERFAUST\n",
      "Decrypted and Split Sentence: FLUNKIES LYTTA SUBCISION LEWISON PREACUTELY UNATHIRST TRYGONIDAE STRUCTURER HAEMATOSEPSIS\n",
      "Decrypted and Split Sentence: INTERVAL DEMOS NORMALISING APOSTHIA BARM SHLEPP DITMORE TASU\n",
      "Decrypted and Split Sentence: TAENIOGLOSSA GALZIEKTE INITIATION TARTRATOFERRIC ALDM HUSBANDSHIP RIENZO PROCREATIVE VICONTIEL FEMINISATION\n",
      "Decrypted and Split Sentence: RESCIND DEMYELINATE COGNISING SUPEROBSTINATE UNIWEAR INVESTITIVE ORTHOPHORIC BOHLIN HELIOCENTRICITY SEMIVERTEBRAL\n",
      "Decrypted and Split Sentence: BACKSLIDED NUTATES HANDLOOMED IMPROSPEROUS VIRULENTNESS DESMECTASIA UNFULGENTLY OUTKILL CLOPPING\n",
      "Decrypted and Split Sentence: SKUTARI WHINNOCK RESULFURIZE CONASAUGA PETIOLUS OPINIONEDNESS CLAIRVOYANTS EPILOGISTIC\n",
      "Decrypted and Split Sentence: MESOPETALUM SEVERIAN ONYCHOPATHOLOGY KENILWORTH TAXI RUMBLEGUMPTION PERIPHRASIS\n",
      "Decrypted and Split Sentence: BRUNING SPHENOPHYLLALES FARNESOL HUGO DULLING PERITROPAL UNIMPARTIBLE\n",
      "Decrypted and Split Sentence: RUBBLIER NANCHANG NASARD DEADLOCKING DYNASTS UROMERIC BRACH BARRULET\n",
      "Decrypted and Split Sentence: XENIAL PLUCKY TENONTOTOMY GRIMIEST HEALSOMENESS WATERISH NONHEROICALLY JUICIEST\n",
      "Decrypted and Split Sentence: LIPARIDIDAE ABYSMALLY TAMALS UNDERTITLE TRITICOID GODBEARE TRACKING\n",
      "Decrypted and Split Sentence: HETERICALLY AKOULALION MOROLOGIST PIMAN ARBITRATED RENEGADING WINDLING IMPERFORATION GARGANEY\n",
      "Decrypted and Split Sentence: FOSSAGE MARAUDING SKIFFLED MISDATEFUL PHYLLOSOMA SECQUE METIUS MILLEFLEURS\n",
      "Decrypted and Split Sentence: COUNTERCHECK HYOLITHID CHOLELITHIC NONDECADENT CABALISM NORMALCIES PATROLMEN\n",
      "Decrypted and Split Sentence: VERTEBRAE PHYCOXANTHIN SOLIPSIST BESPY MITOGEN STYLOMETER MONOSTICHIC YURT GODEFFROY\n",
      "Decrypted and Split Sentence: TOLONO DOYEN PARLATORY VLF HEMOGLOBINOPATHY PIASTRE RECISIONS NEUROPSYCHOLOGIST\n",
      "Decrypted and Split Sentence: UROPORPHYRIN NOSINESSES ROBALOS MICROSOMA OVERLANDS UNCHANGEFUL MACROPUS UNIWEAR PREVENTIVENESS VULCANITE\n",
      "Decrypted and Split Sentence: KLASKINO HONORABILITY ECHELONMENT TERYL THIGMOPOSITIVE ISOPERIMETRY SOFTWARES NULLISOME HYPERSENTIMENTALLY CASHIERER\n",
      "Decrypted and Split Sentence: MIT GOALIES KTS POLYISOBUTENE ROUST UNMUSICALITY NICOLAIS TACHYMETRIC UPCURLING CHLOROPHYLLIDE\n",
      "Decrypted and Split Sentence: CAIMITO INTERPILASTERING ANTIENZYMIC FAVIEN INCOHERENTIFIC UNDIMMED GASTRONOMY DETRACTIVENESS ESTERASES ENTERPRISELESS\n",
      "Decrypted and Split Sentence: LEWISON SPUNCH CROTOPHAGA CONVOYS NONDISINTEGRATING ACHARIACEAE TACKETED\n",
      "Decrypted and Split Sentence: KERSANTITE SNARLIER SECTARIANIZE BAKE VAINGLORIOUS LANDAUS UNBOOT SUFFER DYNASTICAL\n",
      "Decrypted and Split Sentence: CCSA SYNDICAL RETLING GASMEN HEAVENLESS UNSPEWED INVARIANTIVE TRIPHOSPHATE EXPATRIATISM\n",
      "Decrypted and Split Sentence: RELIANT GRAPHOLOGISTS RESTERILIZATION SML VERRAZANO BOHAIRIC NONRAYED BIPUNCTUAL PARMELE ONSTED\n",
      "Decrypted and Split Sentence: ARACANGA NEOLOGICAL CONTRACTS UNGLIB AMEER ADMAXILLARY ROWDIES MOLLESCENT SUPERASTONISHMENT IDLEFUL\n",
      "Decrypted and Split Sentence: UNSUICIDALLY ISCHIA NYCTITROPISM SEMIPNEUMATICALLY NONORTHOGONALITY REFRIGERATE BOGUING\n",
      "Decrypted and Split Sentence: CRUSTADE ROCKETED EUPHUISTS GUELPHISH DUONG STANZAS UNMOODY CONTRABASSOONIST SUBSONIC MATRIC\n",
      "Decrypted and Split Sentence: JAMBO ZORGITE SOPRANOS PRECULTIVATION ABIRRITATING CREOLISM NEBULISES SCRIVENS RECRUSH ISOLEUCINE\n",
      "Decrypted and Split Sentence: PROPUNISHMENT IMPENITENCE HENGFENG ASYNCHRONOUSLY CHLORIN COUNTERMAID RIMOUS ALGORIST PROPOUND\n",
      "Decrypted and Split Sentence: OVERPROTECTED OMOSTERNAL WATUSIS SETENANT KILLCROP ARAPAHOS POINCIANA NUZZLERS GREENWAX BARBECUED\n",
      "Decrypted and Split Sentence: UNROADWORTHY PARENNIR LETTRURE SCRAGGIER PTARMIC DRIVEPIPE GIDDYBERRY CILIOTOMY GARY OBMUTESCENCE\n",
      "Decrypted and Split Sentence: PRECARIOUS TALONID INGENIOUS LIKOURA BRUNING SOVIETS ARTHRITICS VINICULTURAL ELABORATENESS\n",
      "Decrypted and Split Sentence: SPOFFLE VESPERAL MELIACEOUS SERLES CAPA ANTILIBERALLY FRUTICOUS\n",
      "Decrypted and Split Sentence: FUNNELFORM UNIMPERIALLY SANGUINOPOIETIC UNDRUNKEN ECUMENIST STAGGERY DACHSHUNDE\n",
      "Decrypted and Split Sentence: BOOKMOBILE CHIVAREING WINIER MANKILLING SEPTICEMIA SICKIE READJUSTED OVERWORKS FRIGHTSOME EURYCEROTIDAE\n",
      "Decrypted and Split Sentence: COLLOGEN NARROWHEARTED CHIARETTO OVEREXTENSIVE TACITEAN GAV RINGHALSES\n",
      "Decrypted and Split Sentence: CELSITUDE GALLICIZER LECITHALBUMIN UNADHERENTLY PROGNOSTICATOR MEUM QUADRIGATI INSTANT\n",
      "Decrypted and Split Sentence: APPENDENCY ATTACHABLENESS TABOPARETIC STEARATE INTERSTERILITY DALEMAN SAHO DESYNAPSIS\n",
      "Decrypted and Split Sentence: UNBALING TESTIMONIALIZING SANITISING FOEDERIS YURT CYCLOPAEDIAS INTERRETICULATION\n",
      "Decrypted and Split Sentence: XIPHOIDIAN PASHING INPORT STALWORTH REEDY FRIZZING BARTERED MICRODENSITOMETRIC\n",
      "Decrypted and Split Sentence: SOVERTY SCLEROPHTHALMIA IMPETRATIVE MICROSOREX MABLETON HIPPARCH PARON AGCA\n",
      "Decrypted and Split Sentence: LITYERSES LUKEY DISORGANISER SUNCUP INITIALISM SPRATT TECTIFORM OVERIMPRESSING FUT\n",
      "Decrypted and Split Sentence: KERAPHYLLOUS SAPANWOOD PLUTEUS TEPHROSIS SUBCLASSIFICATION PLUCKS ROHRERSVILLE MONEYCHANGER OVERNORMALIZE\n",
      "Decrypted and Split Sentence: UNSUBMITTED RATIONALISM LIPACIDEMIA SHAMMAR AVOWE SUSUIDAE SEROTHERAPY\n",
      "Decrypted and Split Sentence: UNBENIGNITY BEFLAG MUFTIS GRAVISPHERE STAFFETE FIXINGS AUGUSTEST INTERFERTILITY TELEMECHANISM\n",
      "Decrypted and Split Sentence: AVAILABLENESS UNSHADINESS TEAER OUTSTUDYING ODONTAGRA IMPERIALINE LUNETTE UNTATTERED CHAINBEARER\n",
      "Decrypted and Split Sentence: TASIMETER MITOGEN MENDICATION GNOSTICIZER CANTUS SHARMAN KNEEHOLES\n",
      "Decrypted and Split Sentence: EXOTOXIC SLINGS CEBIDAE HACKNEYING AGROLOGIES REUTILIZES BODENBENDERITE ORAE CATAGMATIC WEIGHTER\n",
      "Decrypted and Split Sentence: CASSIDY ARALAC MANA CONDECENT PRAGMARIZE THERMOGRAPH ATATURK EDEMAS TOXIHEMIA SEMIPATHOLOGIC\n",
      "Decrypted and Split Sentence: CHIVAREING HELMAND GIRLLIKE CLUBBABILITY LATERITIC UNADMINISTRATIVE ESSENTIALLY\n",
      "Decrypted and Split Sentence: MELLISONANT GUTT GANGLIOMAS UNCAPTAINED ENDOLABYRINTHITIS ARLANA INEQUITIES HOOSICK NONIMPRESSIONABNESS\n",
      "Decrypted and Split Sentence: PETECHIATE BIRDCAGES NONENUNCIATIVE FIROOC COUNTERCHECK ESTADAL HAPLOPHASE UNBIDABLE NASARD\n",
      "Decrypted and Split Sentence: HYDRONAUT PREOBSERVED KENWARD FLOWERBED UNSACRAMENT WINDLE SIMULANTS\n",
      "Decrypted and Split Sentence: WHEAM WEEDPROOF HUGOTON EVOCATE ISCHIA EBRIOSE RETOUR TRITICOID\n",
      "Decrypted and Split Sentence: PHILONOME ALTARIST REMONSTRATION STOMODEUMS INSIDES DEBILITATING SUBESCHEATOR\n",
      "Decrypted and Split Sentence: PHILONOME JOLES ROMANIZATION PREENCLOSURE WOODBINES LAGOMORPHIC WENDEN\n",
      "Decrypted and Split Sentence: CAPERCAILYE CHROMOPLAST RESETTLING BEATLES NARROWED MARTINSBURG SLOBBERY\n",
      "Decrypted and Split Sentence: HALOMANCY PROSURRENDER REMENACE BRINCE MISAPPLIES POKELOKEN GALGAL UNTHRIVEN SUSUIDAE\n",
      "Decrypted and Split Sentence: WRISTIKIN ODOMETRY HUSHCLOTH DERIVATIVE PIANIC MYRIOPHYLLUM GUNNY FESTOONING BISACCATE EPIGENIST\n",
      "Decrypted and Split Sentence: TREHALAS MONOPHYLETICISM GALLERIA ACCE SWEETBRIAR THANATOLOGIST PTERASPID BEECHWOOD\n",
      "Decrypted and Split Sentence: OUTBLAZES CUNABULA PROTOHYMENOPTERON VOLTAELECTROMETRIC INTERACADEMIC ERIOCAULACEAE STRAINLESS DOCHMIAC\n",
      "0.0047577953338623045\n"
     ]
    }
   ],
   "source": [
    "print(measure_decryption_time(words,100))"
   ]
  },
  {
   "cell_type": "code",
   "execution_count": null,
   "metadata": {},
   "outputs": [],
   "source": []
  },
  {
   "cell_type": "code",
   "execution_count": null,
   "metadata": {},
   "outputs": [],
   "source": []
  },
  {
   "cell_type": "code",
   "execution_count": null,
   "metadata": {},
   "outputs": [],
   "source": []
  }
 ],
 "metadata": {
  "kernelspec": {
   "display_name": "huggvenv",
   "language": "python",
   "name": "huggvenv"
  },
  "language_info": {
   "codemirror_mode": {
    "name": "ipython",
    "version": 3
   },
   "file_extension": ".py",
   "mimetype": "text/x-python",
   "name": "python",
   "nbconvert_exporter": "python",
   "pygments_lexer": "ipython3",
   "version": "3.7.6"
  }
 },
 "nbformat": 4,
 "nbformat_minor": 4
}
