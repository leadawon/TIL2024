{
 "cells": [
  {
   "cell_type": "code",
   "execution_count": 1,
   "metadata": {},
   "outputs": [],
   "source": [
    "import random\n",
    "import time\n",
    "import itertools"
   ]
  },
  {
   "cell_type": "code",
   "execution_count": 2,
   "metadata": {},
   "outputs": [
    {
     "name": "stdout",
     "output_type": "stream",
     "text": [
      "416296\n",
      "ADITS\n",
      "True\n"
     ]
    }
   ],
   "source": [
    "\n",
    "words = []\n",
    "with open(\"words.txt\",\"r\") as file:\n",
    "    for line in file:\n",
    "        word = line.strip().upper()  \n",
    "        if word.isalpha():  \n",
    "            words.append(word)\n",
    "print(len(words))\n",
    "words =random.sample(words,min(10000,len(words)))\n",
    "\n",
    "words.sort()\n",
    "\n",
    "def binary_search(arr,target):\n",
    "    left, right = 0,len(arr) -1\n",
    "    while left <= right:\n",
    "        mid = (left +right) //2\n",
    "        if arr[mid] ==target:\n",
    "            return True\n",
    "        elif arr[mid] < target:\n",
    "            left =mid + 1\n",
    "        else:\n",
    "            right =mid - 1\n",
    "    return False\n",
    "\n",
    "# 테스트\n",
    "print( words[100] )\n",
    "target_string =words[100]  \n",
    "is_found =binary_search(words, target_string)\n",
    "print(is_found)  "
   ]
  },
  {
   "cell_type": "code",
   "execution_count": 3,
   "metadata": {},
   "outputs": [
    {
     "name": "stdout",
     "output_type": "stream",
     "text": [
      "False\n"
     ]
    }
   ],
   "source": [
    "\n",
    "target_string =words[100] +\"1234\"  \n",
    "is_found =binary_search(words, target_string)\n",
    "print(is_found)  "
   ]
  },
  {
   "cell_type": "code",
   "execution_count": 4,
   "metadata": {},
   "outputs": [],
   "source": [
    "def generate_random_sentence(word_list,num_words):\n",
    "    chosen_words =random.sample(word_list, num_words)\n",
    "    sentence =''.join(chosen_words)\n",
    "    return sentence.upper()"
   ]
  },
  {
   "cell_type": "code",
   "execution_count": 5,
   "metadata": {},
   "outputs": [
    {
     "data": {
      "text/plain": [
       "'MARMOTJACITARAEUSTHENOPTERONKRAPFENAMYELOTROPHYUNDESCRIBABLEBLOODDROPS'"
      ]
     },
     "execution_count": 5,
     "metadata": {},
     "output_type": "execute_result"
    }
   ],
   "source": [
    "random_text =generate_random_sentence(words,7)\n",
    "random_text"
   ]
  },
  {
   "cell_type": "code",
   "execution_count": 6,
   "metadata": {},
   "outputs": [
    {
     "name": "stdout",
     "output_type": "stream",
     "text": [
      "Decrypted and Split Sentence: PREVIOUS\n",
      "Failed to decrypt and split the sentence.\n"
     ]
    }
   ],
   "source": [
    "def find_valid_splits(text, words, start=0, memo=None):\n",
    "    if memo is None:\n",
    "        memo = {}\n",
    "    if start in memo:  \n",
    "        return memo[start]\n",
    "    if start >=len(text): \n",
    "        return [[]]\n",
    "\n",
    "    valid_splits = []\n",
    "    for end in range(start + 1, len(text) + 1):\n",
    "        current_substr = text[start:end]\n",
    "        if binary_search(words,current_substr):\n",
    "            for split in find_valid_splits(text,words, end,memo):\n",
    "                valid_splits.append([current_substr] + split)\n",
    "\n",
    "    memo[start] = valid_splits  \n",
    "    return valid_splits\n",
    "\n",
    "def decrypt_and_split(ciphertext,words):\n",
    "    \n",
    "    all_splits = find_valid_splits(ciphertext.rstrip('Z'),words)\n",
    "\n",
    "    if all_splits:\n",
    "        valid_split = min(all_splits, key=len)  \n",
    "        return ' '.join(valid_split)\n",
    "    else:\n",
    "        return False\n",
    "\n",
    "\n",
    "temp_words = [\"APPLE\", \"PRE\",\"PREVIOUS\",\"ZEBRA\"]  \n",
    "temp_words = sorted(temp_words)\n",
    "ciphertext = \"PREVIOUS\"\n",
    "\n",
    "\n",
    "result = decrypt_and_split(ciphertext,temp_words)\n",
    "if result:\n",
    "    print(\"Decrypted and Split Sentence:\",result)\n",
    "else:\n",
    "    print(\"Failed to decrypt and split the sentence.\")\n",
    "    \n",
    "\n",
    "ciphertext = \"PREVIOUSAPPLES\"\n",
    "\n",
    "\n",
    "result = decrypt_and_split(ciphertext,temp_words)\n",
    "if result:\n",
    "    print(\"Decrypted and Split Sentence:\",result)\n",
    "else:\n",
    "    print(\"Failed to decrypt and split the sentence.\")"
   ]
  },
  {
   "cell_type": "code",
   "execution_count": 7,
   "metadata": {},
   "outputs": [
    {
     "name": "stdout",
     "output_type": "stream",
     "text": [
      "Encrypted Text: ELHLORATNSOSPITONICIHEPRZ\n"
     ]
    }
   ],
   "source": [
    "def pad_text(text, block_size):\n",
    "   \n",
    "    padding_size = block_size - (len(text) % block_size)\n",
    "    if padding_size < block_size:\n",
    "        text += 'Z' * padding_size\n",
    "    return text\n",
    "\n",
    "def transposition_encrypt(text, block_size, key):\n",
    "\n",
    "    text = pad_text(text, block_size)\n",
    "    encrypted_text = ''\n",
    "    \n",
    "\n",
    "    for block_start in range(0, len(text), block_size):\n",
    "        block = text[block_start:block_start + block_size]\n",
    "\n",
    "        for k in key:\n",
    "            encrypted_text += block[k-1]  \n",
    "    \n",
    "    return encrypted_text\n",
    "\n",
    "\n",
    "block_size = 5\n",
    "key = [2, 3, 1, 4, 5]\n",
    "plaintext = \"HELLOTRANSPOSITIONCIPHER\"\n",
    "encrypted_text = transposition_encrypt(plaintext, block_size, key)\n",
    "print(\"Encrypted Text:\", encrypted_text)"
   ]
  },
  {
   "cell_type": "code",
   "execution_count": 8,
   "metadata": {},
   "outputs": [
    {
     "name": "stdout",
     "output_type": "stream",
     "text": [
      "Decrypted Text: LHELOATRNSSPOITNIOCIEPHR\n"
     ]
    }
   ],
   "source": [
    "def transposition_decrypt(encrypted_text, block_size, key):\n",
    "\n",
    "    decrypted_text = ''\n",
    "    inverse_key = sorted(range(len(key)), key=lambda k: key[k])\n",
    "    \n",
    "    for block_start in range(0, len(encrypted_text), block_size):\n",
    "        block = encrypted_text[block_start:block_start + block_size]\n",
    "        temp_block = [''] * block_size\n",
    "        for i, k in enumerate(inverse_key):\n",
    "            temp_block[k] = block[i]\n",
    "        decrypted_text += ''.join(temp_block)\n",
    "    \n",
    "    return decrypted_text.rstrip('Z')  \n",
    "\n",
    "# 예제 사용\n",
    "decrypted_text = transposition_decrypt(encrypted_text, block_size, key)\n",
    "print(\"Decrypted Text:\", decrypted_text)"
   ]
  },
  {
   "cell_type": "code",
   "execution_count": 9,
   "metadata": {},
   "outputs": [],
   "source": [
    "def generate_transposition_keys(block_size):\n",
    "\n",
    "    return list(itertools.permutations(range(block_size)))\n",
    "\n",
    "def transposition_encrypt_with_random_key(text,block_size):\n",
    "\n",
    "    keys = generate_transposition_keys(block_size)\n",
    "    random_key = random.choice(keys)\n",
    "    encrypted_text = transposition_encrypt(text, block_size,random_key)\n",
    "    return encrypted_text, random_key\n",
    "\n",
    "def transposition_decrypt_with_all_keys(encrypted_text,block_size,word_list):\n",
    " \n",
    "    keys =generate_transposition_keys(block_size)\n",
    "    for key in keys:\n",
    "        decrypted_text=transposition_decrypt(encrypted_text,block_size, key)\n",
    "        if decrypt_and_split(decrypted_text,word_list):  \n",
    "            print(\"Decrypted and Split Sentence with key {}: {}\".format(key, decrypted_text))\n",
    "            return \n",
    "    else:\n",
    "        print(\"Failed to decrypt and split the sentence.\")"
   ]
  },
  {
   "cell_type": "code",
   "execution_count": 10,
   "metadata": {},
   "outputs": [],
   "source": [
    "def measure_decryption_time(word_list,trials=100):\n",
    "    start_time =time.time()\n",
    "    for _ in range(trials):\n",
    "        \n",
    "        sentence =generate_random_sentence(word_list,random.randint(7, 10))\n",
    "        \n",
    "        encrypted_text, shift = transposition_encrypt_with_random_key(sentence, block_size)\n",
    "        transposition_decrypt_with_all_keys(encrypted_text,block_size,word_list)\n",
    "    end_time =time.time()\n",
    "    return (end_time - start_time) /trials"
   ]
  },
  {
   "cell_type": "code",
   "execution_count": 11,
   "metadata": {},
   "outputs": [
    {
     "name": "stdout",
     "output_type": "stream",
     "text": [
      "Decrypted and Split Sentence with key (1, 3, 2, 0, 4): SHEROOTRAIOIDHYPERSTHENEPREEMBARRASSGYROPHORICVOCALISTSUNSCRATCHINGLY\n",
      "Decrypted and Split Sentence with key (2, 1, 4, 0, 3): POSTSACRALREPROACHERWEIGHTINGDIABOLIFICATIONFIREBOYINSEPARATEVASHEGYITEUNTIDIEST\n",
      "Decrypted and Split Sentence with key (4, 3, 2, 1, 0): HOLIDAYMAKERGUIDANCESTANNLAVEDCREMATORSRESEARCHISTEDMUNDUPWORKZADAR\n",
      "Decrypted and Split Sentence with key (0, 4, 1, 3, 2): UNREMINISCENTLYHETEROMETABOLEBEMARRECAPISOMERSPALLIATIVEDEEDHOLDERGENNAROEXPRESSWAYS\n",
      "Decrypted and Split Sentence with key (1, 0, 2, 4, 3): ORGANONOMYTAPINGINTERMISENETBIOSMINDFULSOREHEARTEDUNSMARTLYECCLESIOLOGYLIFELET\n",
      "Decrypted and Split Sentence with key (4, 0, 2, 3, 1): SIMPULUMLAANEMOTISHANDSOMDOCTORALUMBILICUSUNMARVELOUSNESSPREEXPEDITIONARYRATFORHYPERFOCAL\n",
      "Decrypted and Split Sentence with key (1, 3, 4, 2, 0): HOMOTAXIALCARLYNQUINOXALYLREFRACTIVITIESCOMBYSEMIOVATEUNCONNIVEDENANTHEMKETCHIKAN\n",
      "Decrypted and Split Sentence with key (0, 3, 4, 2, 1): COALESCESTOGETHERSENTORTILLUNMARVELINGERMINIAPOLYPHLOISBOIOISMANTISENSITIZINGSEPIANSILKWORKS\n",
      "Decrypted and Split Sentence with key (4, 2, 1, 0, 3): MATEOINTRANARIALJESSORENOVOCAINMAULSTICKFOSTELLWITTINGITE\n",
      "Decrypted and Split Sentence with key (4, 1, 2, 3, 0): FLETCHAMNIOALLANTOICCATHARTIDESPOETESSRELIEFLESSERAGROSTISMUSKEGONFLEECEFLOWER\n",
      "Decrypted and Split Sentence with key (3, 2, 4, 0, 1): SANDBURMULTIPLICABLEKEBLEMULTITESTERRADICOLOUSDRAYEDTROS\n",
      "Decrypted and Split Sentence with key (3, 4, 2, 1, 0): VERBASCUMBOXMAKEROVERHARVESTEDSUFUIMPLATEPROCERITYEMBREAD\n",
      "Decrypted and Split Sentence with key (4, 2, 1, 3, 0): ISOCYANINECUBISTCHRYSOCHLORIDAEMACARTNEYWHORINGGRUBBIERRIPGUTNONVIOLENCE\n",
      "Decrypted and Split Sentence with key (4, 3, 2, 1, 0): STETHOGRAPHICIRRITATIVENESSMINESWEEPERSDODDERERCALFDOZERSTIPULATEDOVERENVIOUSLYHETEROTRANSPLANTATIONBATISTAACADEMISING\n",
      "Decrypted and Split Sentence with key (4, 3, 2, 0, 1): COCOTVERNACULARITYALEGARSSCARCELINSWANDEREDUNQUARANTINEDBLUEBONNETINDULGENTNESS\n",
      "Decrypted and Split Sentence with key (2, 4, 0, 1, 3): NEPHRECTOMYUNCANONIZATIONUNBEWITCHEDPINACOCYTEGLASERIANCHEMOTROPICALLYUNEFFICACIOUSCRAIE\n",
      "Decrypted and Split Sentence with key (0, 1, 3, 4, 2): SERENADEISOCHRONSCELLVIBRIOEXACTSPOSITIONINGINDITEDAPLUSTRADUPLICITIESPODOSTEMONACEAE\n",
      "Decrypted and Split Sentence with key (4, 1, 2, 3, 0): MAYWEEDTRILINGUALISMAWONDERLIGEANCEFRIENDLIERPERTURBANCYHAPLOIDIESSHOREWEEDSTIMULATINGLY\n",
      "Decrypted and Split Sentence with key (3, 4, 1, 2, 0): IRRESOLUTELYCREWETSCRAPBOOKCHAUSSEEMEILEPISTOLPROOFANTHROPOIDOUTBIRTHUNREGARDEDLYORYCTOGNOSTICMINITARI\n",
      "Decrypted and Split Sentence with key (2, 4, 1, 0, 3): UNTRESPASSEDREDIFFERENTIATEDHORNILYWITSPIEBALDASHVILLEGRUFFIESTMONOCHLORANTHRACENEDENUCLEARIZES\n",
      "Decrypted and Split Sentence with key (0, 2, 4, 1, 3): OPERATRICESJOLINEOBJECTIVATINGABSORBMISPRONOUNCESDENTAGRAPLASMIN\n",
      "Decrypted and Split Sentence with key (2, 0, 4, 1, 3): UNACCOMPANABLEFATHOMABLEINSPIRANTOSSIFORMHYPOCHONDRIAKICKPLATEAPREYNTEETHNICITIES\n",
      "Decrypted and Split Sentence with key (0, 4, 2, 1, 3): FONSBATISTESASSINGSULPHURTASTEDFORUMIZECYLINDERINGARCHWAGMICROGRAPHISTJABBINGLY\n",
      "Decrypted and Split Sentence with key (1, 0, 2, 4, 3): IMPUTRESCENCEPODETIUMALLOTYPICALHOWITZERFOWLPOXUNFACEABLEOOCYTESHEAUTOPHANYREMORSELESS\n",
      "Decrypted and Split Sentence with key (4, 2, 1, 3, 0): ATTRIBUTEDETHOLOGIESENDOTHELIOLYSINAPPRECIATINGLYMAZHABIRECLUSERYPALATOGLOSSUSSCIROCCOSEXAMPLELESSEDGARDO\n",
      "Decrypted and Split Sentence with key (1, 3, 4, 2, 0): OPOBALSAMNONSUPPORTABLENESSUNCONNIVINGMOMZERROWLEYANDONDIACERULEITERUDDSBERYTIDAESARSEN\n",
      "Decrypted and Split Sentence with key (0, 1, 3, 4, 2): UNFEMINISINGUNCOVETINGALLOTRIOPHAGYCOPPLINGENAGESACCORHIZABOSTON\n",
      "Decrypted and Split Sentence with key (3, 2, 4, 1, 0): UNAMORTIZEDUNEXCEPTIONABILITYGRUBBIERADDEBTEDNORDHOFFZYGOSPHENALRESTIONACEOUSBUISTCHUBBYIMPURELY\n",
      "Decrypted and Split Sentence with key (1, 0, 4, 3, 2): AGAMEDEUNWILFULLYMANGABEVDEDUCTNONCOMMUNISTICALLYQUIPXYLYLCALFDOZER\n",
      "Decrypted and Split Sentence with key (2, 1, 0, 4, 3): UNPERFIDIOUSLYBEMARARDITIFRIEDCAKEMOUSIERCESYAFENCELETFLAGELLANTS\n",
      "Decrypted and Split Sentence with key (1, 0, 3, 4, 2): BOTRYOMYCOSISREMANNEDPREDACEANCRUSIECRACKAJACKHOUSEBREAKINGATTERRETRODIRECTIVE\n",
      "Decrypted and Split Sentence with key (0, 3, 2, 4, 1): METAMORPHIZEESTADOEXTEROCEPTISTOUTPLACEGERANIACEAETURGIDNESSCOAGGREGATECUBICULARDISMAYINGNESSRAMILIES\n",
      "Decrypted and Split Sentence with key (4, 3, 1, 0, 2): MENTHENESERMANARICUNCONTACTEDQUARRIONSTICKPINSHAMOTZICHEMORECEPTION\n",
      "Decrypted and Split Sentence with key (4, 3, 2, 1, 0): BIRTHYARDEIDAECLIVCHUCKCHISPHYTOCLIMATOLOGYBORNANQUEBRACHITOL\n",
      "Decrypted and Split Sentence with key (2, 0, 4, 1, 3): FIGURETRISHABESTIALISEMETINDROUGHERMENUTILISINGACCOMPLISHUNTHINKSOPSYDEPAS\n",
      "Decrypted and Split Sentence with key (3, 0, 4, 2, 1): BISAXILLARYKIBITZERSDEEDHOLDERTRICENTENNIALCHUDENORTHMANPANTHEOLOGYPOLYGONALLY\n",
      "Decrypted and Split Sentence with key (2, 1, 3, 4, 0): UNDISTINGUISHINGLYEPIGONISMCLEARSTARCHDEPOSITAMASTERSTROKERETASTESWITHERINGLYMICRODONTICLYMPHANGIECTATIC\n",
      "Decrypted and Split Sentence with key (2, 1, 0, 4, 3): PHOTOMACROGRAPHKARYOPLASMSTRUCTEDGRAPEFLOWERUNRIOTINGCAVALIERNESSCAMPER\n",
      "Decrypted and Split Sentence with key (3, 2, 4, 0, 1): GERASENEDECEMFLOROUSTOUGHENERSPACHYSTIMABABURDCONFORMITYSPORTYCOPULATIVES\n",
      "Decrypted and Split Sentence with key (2, 4, 1, 3, 0): FRENCHMENPHILOSOPHISINGEMILIOSPIRITSOSSIFORMPATHOLOGICOPSYCHOLOGICALDERMATOGRAPHY\n",
      "Decrypted and Split Sentence with key (1, 4, 0, 3, 2): IDEALITYBUSHNELLWILSONIANREPULLULATEMISFIELDEDBIFLOROUSINANIMATENESSESFATUOUSRITTERSINITIATES\n",
      "Decrypted and Split Sentence with key (3, 1, 4, 2, 0): KATZENJAMMERUNMUFFLECORYZASPSYCHICHTHYSPRIVATERWITTMANNREINVOLVEDFORANE\n",
      "Decrypted and Split Sentence with key (0, 1, 3, 2, 4): AMIABLENESSOUTPOUREDDUKYFLUORESCINGDUENNASOSKARHEATHBERRYDCLUFREDERIKSTED\n",
      "Decrypted and Split Sentence with key (3, 4, 1, 0, 2): FLATWASHESHISTOGRAMSSUBAXIALFIGUREHEADEUGENESISHOLOCENTRIDELECTROBIOSCOPYSKILLETANISADO\n",
      "Decrypted and Split Sentence with key (1, 0, 3, 2, 4): MUCRONIFEROUSYIELDERMETHYLGLYOXALVAUSERAHULIBATRACHIATEEDROY\n",
      "Decrypted and Split Sentence with key (4, 1, 2, 0, 3): ILLUSIONISTSFEHSSLIPOUTSBISTREPHILOSOPHISTERCHARANGOSABEGGECERUSITEDIGONEUTIC\n",
      "Decrypted and Split Sentence with key (0, 4, 1, 2, 3): DISSYLLABISINGFUNNELFORMWRONGHEADEDCLEISTHENESGRANDMONTINESTANISLASUNRIOTINGNONADAPTER\n",
      "Decrypted and Split Sentence with key (2, 3, 1, 0, 4): RETROUSSWONDERMENTUNBASHFULLYSYMPTOMATICALLYORTHONORMALTHALLOGENNONFIDUCIARYGLOPPY\n",
      "Decrypted and Split Sentence with key (1, 3, 4, 2, 0): PREOPERCULUMDASHPLATEUNTAPEDNIECESHIPCOLIBACILLOSISPRESSPACKLECHATELIERITEWRONGHEADEDCYMAPHYTISMSICKBAYS\n",
      "Decrypted and Split Sentence with key (1, 3, 4, 0, 2): TOSSPOTEARTHLINGSLOUVERINGGAMMADIAPLEROCERCOIDRIPGUTVESICATEDCROCETINMATURERHODIUMS\n",
      "Decrypted and Split Sentence with key (4, 1, 0, 2, 3): IDOCRASEGIOVANNAREWINDMATCHERSOVERNEGLIGENTCRANCHNEVADADEMONIFUGEABEGGE\n",
      "Decrypted and Split Sentence with key (4, 1, 2, 0, 3): INFARESENSAMPLESPROOFSSILKINGLEXICOGRAPHERNUMBERSOMESEXAGENARIANBEATA\n",
      "Decrypted and Split Sentence with key (2, 0, 3, 4, 1): ASTROCYTICUNGELATINIZEDFILIALITYNICENESSESVITAMINESGELATINSRUBROSPINALBIVERBAL\n",
      "Decrypted and Split Sentence with key (2, 4, 1, 0, 3): INCRETORYHYGIENISTSNERVERTYPEFACEOSKALOOSAPUKEKADACRYONDUFAYDRAYED\n",
      "Decrypted and Split Sentence with key (3, 0, 1, 4, 2): SERFAGESMINATORIALLYBRCPROEXAMINATIONNONNULLIFICATIONVENERATIVEIMPERMANENCY\n",
      "Decrypted and Split Sentence with key (4, 1, 0, 3, 2): ASSISTORSCOAXESUNDERCLOTHEDAMPEROMETERCYRTOPIADEARTRIJUNCTIONMARTINNITROMETRIC\n",
      "Decrypted and Split Sentence with key (1, 2, 0, 3, 4): NEPHROLYTICREATTESTBABELDOMJAUNTIESEEKINGMUDIRIAWIZENS\n",
      "Decrypted and Split Sentence with key (3, 0, 1, 4, 2): EASTERINGCOABSUMEACCOUNTANTSPHILTERPROOFTURBLEGSFCHOARDERBATTLEDORED\n",
      "Decrypted and Split Sentence with key (1, 3, 2, 0, 4): VIVLFRAMELESSGEGENSCHEINSWISHERSGELATINSTYZINECRUMENADEPASARIMINUMDOSSEL\n",
      "Decrypted and Split Sentence with key (4, 2, 1, 3, 0): PRAELECTORSHIPREMANNEDAMENDEDDEFQUODLIBETZREMORSELESSOTTRELIFENONVERITABLY\n",
      "Decrypted and Split Sentence with key (1, 2, 4, 0, 3): UNCONFIRMPANTAGRUELIANUNEMANATIVEBULLPATESMONOTROPICALLYMIDTERMSCHORDEILES\n",
      "Decrypted and Split Sentence with key (1, 4, 0, 2, 3): LIONISERCBERESENTENCESALIOFARHARDBEAMNONPERCEPTIBLENESSSHAWLINGCOALPORTBECASSERANDOMIZED\n",
      "Decrypted and Split Sentence with key (2, 3, 0, 4, 1): JIMBANGPENTHOUSESDAMAGINGLYVARIABLYSNOWMOBILERSTREPHEAUTOPHANYHONTOUSENFEOFFED\n",
      "Decrypted and Split Sentence with key (4, 1, 0, 3, 2): SEXILYCIRCUMVENTINGDODONABUPRESTIDAESALVAGEECOMNENIANDIALLAGOIDRETROPULSIVE\n",
      "Decrypted and Split Sentence with key (1, 4, 3, 2, 0): COLONICOARINGNONSAWINGENDARTERIALUNCOMMENCEDGALETTEFOSTELLINCLINABLE\n",
      "Decrypted and Split Sentence with key (3, 1, 4, 2, 0): GLINTINGSKETIOTAITAPERNESSGRAECIZESVENERIANMABENLONACONINGDROUGHERMENSUPERFEMALE\n",
      "Decrypted and Split Sentence with key (0, 2, 4, 3, 1): INDITCHKRAALEDREITBUCKCRUENTATIONWINCKELMANNPROVERBIALISMOWSERMAXWELLS\n",
      "Decrypted and Split Sentence with key (2, 3, 0, 4, 1): UNINSTINCTIVENESSUNSOILEDARBALESTSBALASESVOIDNESSESUNSIMILARBAKE\n",
      "Decrypted and Split Sentence with key (2, 4, 1, 0, 3): VITALCHRISTIANISEDLOLITARECLUSERYFIBROMATOUSUNSTEADINESSHOKEYPOKEYROMYKO\n",
      "Decrypted and Split Sentence with key (1, 0, 2, 3, 4): PENANCESTRATOFREIGHTERADDICTBELOWARABINOSEPRESHAPESUNELIGIBILITYCARRIERE\n",
      "Decrypted and Split Sentence with key (0, 2, 3, 1, 4): MANGANBRUCITEFOURIERITECAMPAIGNSPDESSOUAGGAFILIALITYPLANETISTMELOGRAPHICNIECESHIPCOLLETARIUM\n",
      "Decrypted and Split Sentence with key (3, 0, 2, 1, 4): CLONORCHIASISBUXOMNESSPRIAPULIDAELECANOSCOPYPUNCTILIOSITYSYNERGIDSFORBBORE\n",
      "Decrypted and Split Sentence with key (3, 0, 1, 2, 4): ROUGHENSHALLOWSCODDMISENGRAVEMOLARIMETERCRANKLYLINDBERGH\n",
      "Decrypted and Split Sentence with key (0, 2, 4, 3, 1): SPARPIECEDISPURSEARNALDOERASTATUSSIGNALIZEMETHODIZEDREINVOLVED\n",
      "Decrypted and Split Sentence with key (4, 1, 2, 3, 0): IMAGINARYPREADVERTISERPROSPECTUSPROTODONATEPANMANMECHADNENTRANCED\n",
      "Decrypted and Split Sentence with key (0, 1, 3, 4, 2): IMPRISONINGMELVILCANAILLEKURTOXAMIDSKATOXYLCARLYNHISTORICOCRITICAL\n",
      "Decrypted and Split Sentence with key (2, 0, 4, 1, 3): HOOVERVILLEBEATRIXREDECIDEJANIFERETTINGERWEREWOLFISMARRASUNTEASEDHANDSOMSAPREMIA\n",
      "Decrypted and Split Sentence with key (1, 0, 2, 4, 3): PHONETICIANSMINORITIESUNPRETERNATURALLYARCHINESTABERNACULARSEMIELLIPSISINDECLINABLENESSMASTFULSALLOWHOMOSEXUALLY\n",
      "Decrypted and Split Sentence with key (1, 0, 2, 4, 3): ADITSINFRANGIBLENESSCONVULSIVEALUMINIZESCRUCIFERAEAPPENDERSMINESWEEPERSCHINDICOLUMNARIAN\n",
      "Decrypted and Split Sentence with key (1, 0, 2, 3, 4): COSMOTHEISMPROTOPROTESTANTENDAMAGINGPSYCHOTROPICALLOTHIGENOUSTREACLEBERRIESSOLATIONAFFUSEONCOGENEINTROSUSCEPT\n",
      "Decrypted and Split Sentence with key (0, 2, 1, 4, 3): KORDULAPRESAKINETOSCOPENONRIGIDITYTALPINESKIEPPEMYOPLASTICTITTUPPLEIOTROPICUNHAZINESS\n",
      "Decrypted and Split Sentence with key (4, 2, 1, 3, 0): SCLEROSTENOSISOOSPERMSIMMINGLESFLASHFORWARDGENIZAHANTAMETINDRAGROPESPIGFISHES\n",
      "Decrypted and Split Sentence with key (3, 1, 2, 4, 0): CURIBOCAAMENTATRACTATEANNEMULOUSPLASMINDEESISKIDDOES\n",
      "Decrypted and Split Sentence with key (4, 1, 3, 0, 2): GILLHAMSOLDERERSINTERALARUNBORINGUNDRIVABLEMISTAKENNESSSYNERGIDSBLUEYDEPASTURATION\n",
      "Decrypted and Split Sentence with key (2, 4, 0, 1, 3): DULCELYSCIATICALLYUNMORALISINGPOETASTRESSMIXABILITYMUGIENCEPENSIONERSJACITARA\n",
      "Decrypted and Split Sentence with key (2, 1, 0, 4, 3): CHAPAPOTEPUREBREDSRECITNIGHTRIDERSUNDERJUDGEDDISPAPALIZEALABASTOS\n",
      "Decrypted and Split Sentence with key (2, 4, 1, 0, 3): HOMOGRAPHSUNABSORBINGLYNONFLAGRANCEJAGELLOSSCURRILESETTLEMARIANOLATRISTGYNECOLOGICAL\n",
      "Decrypted and Split Sentence with key (3, 4, 0, 1, 2): QUADRIBASICOUTPOPULATINGANTEPOSTHUMOUSELECTROMOTOGRAPHALKALOIDSPERPETUATIONUNNORMALLYHEZRONLAZYBONE\n",
      "Decrypted and Split Sentence with key (0, 3, 2, 4, 1): BRACHYGNATHISMHORIZONWARDNECROPHILIAMUTINOUSNESSBIBENZYLGOODWINCYANOPIAWAISTCLOTHSTEPUPJADING\n",
      "Decrypted and Split Sentence with key (1, 3, 4, 2, 0): FLAILSPUTTYLIKEDIDDLINGANTHROPOPHAGUSINCRETORYSYZYGETICALLYUNTIRING\n",
      "Decrypted and Split Sentence with key (1, 0, 4, 3, 2): WITHOUTCONVICTFISHDIANNNESOUAMULANBAPOLYPHONIESPLASMINDISSOCIANT\n",
      "Decrypted and Split Sentence with key (2, 0, 3, 1, 4): ANTIPRELATISTCURTESTPROTRUSIBLEOLENELLIDIANSEPULCHERSWYTOPITLOCKCONCLUDIBLETILLOTSON\n",
      "Decrypted and Split Sentence with key (2, 3, 1, 4, 0): UNALIVEWATCHDOGUNFEUDALLYDUSTCOATLYCOPUSSTRIPPAGEDIDUCENOVANGLICAN\n",
      "Decrypted and Split Sentence with key (3, 1, 2, 4, 0): PREINSTALLATIONGOLIMOTHERERNONCOHABITATIONLOUVERINGMARSHLANDERGIORNATATEGEBANGAQUIDNUNCSPAMPHYSICISM\n",
      "Decrypted and Split Sentence with key (4, 0, 2, 1, 3): FOLLICULINAPINNATODENTATEINTERCHARGEPHYTOCLIMATOLOGYHYPERBARICALLYFRUITFULNESSPROCREANTPERSPICUOUSLYINTERIORSREENDORSEMENT\n",
      "Decrypted and Split Sentence with key (3, 1, 0, 4, 2): VERTHANDIROWLEYANAPARTUNKINLIKEDETERIORATEDTABASHEERKORTBRIOSCOGITATIONSVERTIGINOUSNESS\n",
      "Decrypted and Split Sentence with key (2, 0, 4, 3, 1): RAPIERSEOPALAEOZOICSTAYEDFILTEREDUNPREDACEOUSLYAPOPLECTICMACRAUCHENIIDAEEXAMPLELESSSHAPIROUNDIVIDEDNESS\n",
      "Decrypted and Split Sentence with key (1, 0, 4, 2, 3): RICCIALESSALITEDFREQUENTEDCOINCIDENTALLYCOROUTINESBLEAKNESSNARRAWOOD\n",
      "Decrypted and Split Sentence with key (0, 4, 2, 3, 1): INHABITRESSSCAWTHICKHEADINDENESMEETINGSMAXWELLSEUTECTOID\n",
      "Decrypted and Split Sentence with key (1, 2, 4, 0, 3): SCRIVEDCROCETINULULUUNTEASEDFABULOSITYJULIANNACOLLOQUESEMASIOLOGISTDIRECTIONALIZEHIPPOCURIUS\n",
      "0.01838831901550293\n"
     ]
    }
   ],
   "source": [
    "print(measure_decryption_time(words,100))"
   ]
  },
  {
   "cell_type": "code",
   "execution_count": null,
   "metadata": {},
   "outputs": [],
   "source": []
  },
  {
   "cell_type": "code",
   "execution_count": null,
   "metadata": {},
   "outputs": [],
   "source": []
  },
  {
   "cell_type": "code",
   "execution_count": null,
   "metadata": {},
   "outputs": [],
   "source": []
  }
 ],
 "metadata": {
  "kernelspec": {
   "display_name": "huggvenv",
   "language": "python",
   "name": "huggvenv"
  },
  "language_info": {
   "codemirror_mode": {
    "name": "ipython",
    "version": 3
   },
   "file_extension": ".py",
   "mimetype": "text/x-python",
   "name": "python",
   "nbconvert_exporter": "python",
   "pygments_lexer": "ipython3",
   "version": "3.7.6"
  }
 },
 "nbformat": 4,
 "nbformat_minor": 4
}
