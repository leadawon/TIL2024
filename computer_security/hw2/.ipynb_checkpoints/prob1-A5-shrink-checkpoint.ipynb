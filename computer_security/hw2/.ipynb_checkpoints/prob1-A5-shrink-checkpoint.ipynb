{
 "cells": [
  {
   "cell_type": "code",
   "execution_count": 1,
   "metadata": {},
   "outputs": [],
   "source": [
    "import random\n",
    "import time"
   ]
  },
  {
   "cell_type": "code",
   "execution_count": 2,
   "metadata": {},
   "outputs": [
    {
     "name": "stdout",
     "output_type": "stream",
     "text": [
      "416296\n",
      "AAGICBAFHMEE\n",
      "True\n"
     ]
    }
   ],
   "source": [
    "def transform_back_half_to_front(char):\n",
    "    \"\"\"알파벳의 뒤쪽 절반('N'-'Z')을 앞쪽 절반('A'-'M')으로 변환합니다.\"\"\"\n",
    "    if 'N' <= char<= 'Z':\n",
    "        # 'N'부터 'Z'까지의 문자를 'A'부터 'M'으로 매핑\n",
    "        return chr(ord(char) - 13)\n",
    "    return char\n",
    "\n",
    "words = []\n",
    "with open(\"words.txt\", \"r\") as file:\n",
    "    for line in file:\n",
    "        word = line.strip().upper()\n",
    "        if word.isalpha():  \n",
    "            transformed_word =''.join(transform_back_half_to_front(char) for char in line.strip().upper())\n",
    "            words.append(transformed_word)\n",
    "\n",
    "print(len(words))\n",
    "words =random.sample(words, min(10000, len(words)))  \n",
    "words.sort()\n",
    "\n",
    "def binary_search(arr, target):\n",
    "    left, right = 0, len(arr) - 1\n",
    "    while left <= right:\n",
    "        mid = (left + right) // 2\n",
    "        if arr[mid] == target:\n",
    "            return True\n",
    "        elif arr[mid] < target:\n",
    "            left =mid + 1\n",
    "        else:\n",
    "            right =mid - 1\n",
    "    return False\n",
    "\n",
    "# 테스트\n",
    "print(words[100])\n",
    "target_string = words[100]  # 샘플링된 리스트의 101번째 단어를 목표 단어로 선택\n",
    "is_found = binary_search(words, target_string)\n",
    "print(is_found)  # True가 출력되어야 함, 해당 단어가 리스트에 존재한다는 것을 의미"
   ]
  },
  {
   "cell_type": "code",
   "execution_count": 3,
   "metadata": {},
   "outputs": [
    {
     "name": "stdout",
     "output_type": "stream",
     "text": [
      "False\n"
     ]
    }
   ],
   "source": [
    "\n",
    "target_string = words[100] + \"1234\"  \n",
    "is_found = binary_search(words, target_string)\n",
    "print(is_found)  "
   ]
  },
  {
   "cell_type": "code",
   "execution_count": 4,
   "metadata": {},
   "outputs": [],
   "source": [
    "def generate_random_sentence(word_list, num_words):\n",
    "    chosen_words =random.sample(word_list, num_words)\n",
    "    sentence =''.join(chosen_words)\n",
    "    return sentence.upper()"
   ]
  },
  {
   "cell_type": "code",
   "execution_count": 5,
   "metadata": {},
   "outputs": [
    {
     "data": {
      "text/plain": [
       "'GBBFEAECKEDDHIADHECAEGIGIBAAADEBGEAGHHAHAFHCCBEABLEBFGMAEKFHAJALJAED'"
      ]
     },
     "execution_count": 5,
     "metadata": {},
     "output_type": "execute_result"
    }
   ],
   "source": [
    "random_text =generate_random_sentence(words,7)\n",
    "random_text"
   ]
  },
  {
   "cell_type": "code",
   "execution_count": 6,
   "metadata": {},
   "outputs": [
    {
     "name": "stdout",
     "output_type": "stream",
     "text": [
      "Decrypted and Split Sentence: PREVIOUS\n",
      "Failed to decrypt and split the sentence.\n"
     ]
    }
   ],
   "source": [
    "def find_valid_splits(text, words, start=0, memo=None):\n",
    "    if memo is None:\n",
    "        memo = {}\n",
    "    if start in memo:  \n",
    "        return memo[start]\n",
    "    if start >= len(text): \n",
    "        return [[]]\n",
    "\n",
    "    valid_splits = []\n",
    "    for end in range(start + 1, len(text) + 1):\n",
    "        current_substr = text[start:end]\n",
    "        if binary_search(words, current_substr):\n",
    "            for split in find_valid_splits(text, words, end, memo):\n",
    "                valid_splits.append([current_substr] + split)\n",
    "\n",
    "    memo[start] = valid_splits  \n",
    "    return valid_splits\n",
    "\n",
    "def decrypt_and_split(ciphertext, words):\n",
    "    all_splits =find_valid_splits(ciphertext, words)\n",
    "\n",
    "    if all_splits:\n",
    "        valid_split = min(all_splits, key=len)  \n",
    "        return ' '.join(valid_split)\n",
    "    else:\n",
    "        return False\n",
    "\n",
    "# 예시 사용\n",
    "temp_words = [\"APPLE\", \"PRE\",\"PREVIOUS\", \"ZEBRA\"]  \n",
    "temp_words = sorted(temp_words)\n",
    "ciphertext = \"PREVIOUS\"\n",
    "\n",
    "# 해독 및 단어 분리 시도\n",
    "result =decrypt_and_split(ciphertext, temp_words)\n",
    "if result:\n",
    "    print(\"Decrypted and Split Sentence:\", result)\n",
    "else:\n",
    "    print(\"Failed to decrypt and split the sentence.\")\n",
    "    \n",
    "\n",
    "ciphertext = \"PREVIOUSAPPLES\"\n",
    "\n",
    "# 해독 및 단어 분리 시도\n",
    "result =decrypt_and_split(ciphertext, temp_words)\n",
    "if result:\n",
    "    print(\"Decrypted and Split Sentence:\", result)\n",
    "else:\n",
    "    print(\"Failed to decrypt and split the sentence.\")"
   ]
  },
  {
   "cell_type": "code",
   "execution_count": 7,
   "metadata": {},
   "outputs": [],
   "source": [
    "def caesar_cipher(text, shift):\n",
    "    encrypted_text =''\n",
    "    for char in text:\n",
    "        if char.isalpha():  \n",
    "            encrypted_text += chr((ord(char) - 65 + shift) % 13 + 65)\n",
    "        else:\n",
    "            encrypted_text += char\n",
    "    return encrypted_text\n",
    "\n"
   ]
  },
  {
   "cell_type": "code",
   "execution_count": 8,
   "metadata": {},
   "outputs": [],
   "source": [
    "def random_shift_encrypt(text):\n",
    "    shift = random.randint(1, 12)\n",
    "    encrypted_text = caesar_cipher(text, shift)\n",
    "    return encrypted_text, shift"
   ]
  },
  {
   "cell_type": "code",
   "execution_count": 9,
   "metadata": {},
   "outputs": [],
   "source": [
    "def caesar_decrypt(encrypted_text,word_list):\n",
    "    for shift in range(1, 13):\n",
    "        shifted_text =caesar_cipher(encrypted_text, -shift)\n",
    "        result = decrypt_and_split(shifted_text, word_list)\n",
    "        if result:\n",
    "            print(\"Decrypted and Split Sentence:\", result)\n",
    "            break\n",
    "    else:\n",
    "        print(\"Failed to decrypt and split the sentence.\")"
   ]
  },
  {
   "cell_type": "code",
   "execution_count": 10,
   "metadata": {},
   "outputs": [],
   "source": [
    "def measure_decryption_time(word_list, trials=100):\n",
    "    start_time = time.time()\n",
    "    for _ in range(trials):\n",
    "        \n",
    "        sentence =generate_random_sentence(word_list, random.randint(7, 10))\n",
    "        \n",
    "        encrypted_text, shift = random_shift_encrypt(sentence)\n",
    "        caesar_decrypt(encrypted_text,word_list)\n",
    "    end_time = time.time()\n",
    "    return (end_time - start_time) / trials"
   ]
  },
  {
   "cell_type": "code",
   "execution_count": 11,
   "metadata": {},
   "outputs": [
    {
     "name": "stdout",
     "output_type": "stream",
     "text": [
      "Decrypted and Split Sentence: EKAHGHBEIMEEKC LAGGIA HAFBLICIGED GAGGEA GAAGALIFAGIBA CIEEI CEBCEEIGL MIKIAHF\n",
      "Decrypted and Split Sentence: AGALEE AAGIEEAGEE DEEMAA LAKIMA HAEEMIGGEACL FED FGLGIAA AEHEIC\n",
      "Decrypted and Split Sentence: DHEEE BHGCHEEEFF BIBMEGEICIAA BKLGBAEFIF FBLFEGEF CEECEEGIFIED MEFBMBECHIC\n",
      "Decrypted and Split Sentence: MAHAEAAEEF IAGEBFCECGBE IAGEECECGIBA CBHAGEECBLEF CHLGBCHAGA CIBAEIBHF HADIK IAALIEAABILIGIEF\n",
      "Decrypted and Split Sentence: JALHAJK CELLHLIFEEBHF CEBMCGBA CEAGEAIEE GBLDEAFEAL CEAAIAGEF MELIBEAGIAG FALGIAEF MHFFHLMAAIC CIEEGE\n",
      "Decrypted and Split Sentence: KAMI HAECLICFED FHBFGAAGIAGIIE HADEEEHLEE GALABIEH FHCEEELEIAGED CALMLEEAIAA CAEIDA\n",
      "Decrypted and Split Sentence: IMCLBDED MEDIBCEAL MAGCHEF DIFCEEFEE ABACBEBHF DEAEEIAGIBA DIFEEGAED\n",
      "Decrypted and Split Sentence: DHAKEEFHIC LECEEDBM CBAFEAGIIELL CHAEMACEHGICALF CAEBBAIFAGIBA HAMEDDLIAG IACAFG CEBGALIFM GEAIELLABLE GAAMIAE\n",
      "Decrypted and Split Sentence: CHEEMIG HAACGIGHDE HADEEFHBEED DHADEHCLICAGE CEEIICBMHFCHLAE EADIBGHALLIHM EKBAIC CBFGCAABAICAL\n",
      "Decrypted and Split Sentence: ADIAAA FGEEABEEGIA HEEEDBFLCHILIF MIELAM BBGEAEBEAGE AAGICIGL AGHBDLDF AFFAMAE\n",
      "Decrypted and Split Sentence: CLEBMBECHL HADEEBKIDIMIAG FCHBBAEEF BBEHFFIAA AECHBLBGIFG FLLCHBA CAGEGBEIFG DEHCBFE CLEBFCBCL\n",
      "Decrypted and Split Sentence: GELCGIC HBGGEG BAFHAJIFM FCEALCEBBF CHAGAIGAIEE HELIBGACGIC BEMIKIAG CEEICHAEGIAL BHGJAEDF\n",
      "Decrypted and Split Sentence: FDHIFH MBLIABF JAHEA BEHGALLL CHIMAEIKAA FIFHBBLG MACHAIEBDHF CAEIBHF\n",
      "Decrypted and Split Sentence: HAMIFGAKABLEAEFF CHHLJA CJG JHAEC CHBADEHLE FHCEEFGEBAG GJIGGIAGLL BHGGL FCHEAEEF\n",
      "Decrypted and Split Sentence: FEMIFEAGEE CAILLEF CBAGIAEIEF HACBAGAIAABLEAEFF ABAFACEEDBGAL CBEL IAEEAFABLE\n",
      "Decrypted and Split Sentence: EAGHEAFM CEEFIDEAGEFF CAMAEADE HAFFBCKF FDHIACHEF ABAMBAAECHICAL IABCCBEGHAEAEFF\n",
      "Decrypted and Split Sentence: CEEDEFEAG JAAL IAIAEIAAGIIE CBMCFILHEA FBLLICHLE FBBCHBAG FCECGICF BHGFEAFGED CHEABMEABAA\n",
      "Decrypted and Split Sentence: AFFEMBLL CADEIAC CEEGBAIC FIABHE FCIEBCHEGBGIC ADJHIAAGF ACEBLBGIFM CEEDELAL\n",
      "Decrypted and Split Sentence: FHEECBIGEE EECBJEEIAG CALGECH HAMEDIGAGED DEAIAAGEJAL CEIMBGEABHF IAGEEACBCHLFAL BEBHLDEBGEACHIC CBAFHLGAAGFHIC ALGAMEL\n",
      "Decrypted and Split Sentence: AGIKBKAAIA GHHCLDIDEAA GECGIFBEM CEBFECHGIBAF IICEEEGALLL GALILEE CAEBBKLLIC FBLECIMED CAEAGEACHIFM\n",
      "Decrypted and Split Sentence: CEBCGBCGBFIF FCAIAK BKALIAG CEGEBLIMIAG BGBCAGHL HABEAIGAAEFF CAEAEBFAAILIAE\n",
      "Decrypted and Split Sentence: FLADLAFMIAA HACHEFHIAG FLHMMAGE ABAAAGHEAL LIBD HAADLBLBJ GIGEEFFLIKE\n",
      "Decrypted and Split Sentence: FHCEEFEIEADLL CHGIDHEE CBALEFCEACE MBLBGBI IHLAEEAGE FALFA DBGCAEG\n",
      "Decrypted and Split Sentence: HLALIAEF BLACKEAEE FHLFBALLHEEA HAJBLGED BALIAE AFGAGIAEF ABACBIFBABHF GAJIFH\n",
      "Decrypted and Split Sentence: EEIAIAG FIFFICEF HACAGHBLICIME IFBIADBLE CEEBEGEBGHAL HADECLIAABLEAEFF IALACIAG IKEBAAA FHCEEEKCIGAGIBA\n",
      "Decrypted and Split Sentence: LIGGEEMAGE BBF MAAF CBECELAIAIMAGIBA AECHEAGBAIA GEBLLBCL CHEEMIDAE\n",
      "Decrypted and Split Sentence: JAEBLEG FMIEKEEF HAADMIEABLL EEDDLEMEA BHGJEIGGLED FKIELF DIFACCEBIIAG\n",
      "Decrypted and Split Sentence: HAHAIHMF FEMIFLBAGIAG LADEBAIFM CEEIIBHFAEFF CLBDDL GEEEAHEJ HIAFHELJBBD\n",
      "Decrypted and Split Sentence: MELAAIME MBAHMEAGALIMAGIBA HLCBCGEEAL MAHIIAE BALAMBF AAGIHIFGAMIAEF DIKAMALLI EELEAGHEE\n",
      "Decrypted and Split Sentence: ALLBCABLE CEIIAGIMED CEIBCEEAGIGE IKEBAAAF CHIFAEF MAEIAA FHCEEAEGLIGEAG\n",
      "Decrypted and Split Sentence: HHMIDIFICAGIBAF CLCLBCBELBHF HILBEEG CAACHALAGHA CEECEECAEAGIBA BEIGAAF CBEEECGIIEF MIFCBACEIG LDL GEADEFMAAFHIC\n",
      "Decrypted and Split Sentence: JACAEAADAF BHFIAG CEEDELAL EAGAFIA AFGEEAAL JAFGEMAA FEMIDEL CIECLEIILLE MIFJBIADEE\n",
      "Decrypted and Split Sentence: FEIEFIFH CBEBAALLL CAFFALGL DECLEAIFH HALIAKED ACCEAGHABLE KEEEF BICAEGIGE JHACGHEEF MBAKGBA\n",
      "Decrypted and Split Sentence: MADAAG MALACBCGEELGIAA FAAGBHE IAIGIB EEFGAGIBA GEBMCEF CHEACIEF\n",
      "Decrypted and Split Sentence: CBDA BEAJAMIA BBFEEIAAGLL BHFKEG DAEDIFGAA MHM HADEEDHAGED\n",
      "Decrypted and Split Sentence: AGGLHGIAIA AFGEEFGBEM MHFKEGF HAIEEIGAGED IFFHAACEF BEMHFEDLL DEMAEKIAG\n",
      "Decrypted and Split Sentence: ELEIAGIAG GHBAGMAA BHCEEBF FAAG IFBGBCIC FEBAFGIAA EBADEBF DHFL JIGHE GEIAMMBAIHM\n",
      "Decrypted and Split Sentence: FLELEE FCAELAGIAA MIAAEGEAG FIFFIAG LBIEEF EEAEGAGE CELLBA FAHCBAAIEE\n",
      "Decrypted and Split Sentence: CAEFLBAG EKCLAAAGBEL GLHGAEIC CBAIEEGABLE HABAEGAIAED AAEEADEA MEGEEBLBGICAL CABLEMAA GBLLLJBBBLEE\n",
      "Decrypted and Split Sentence: GJAAKL MBAAGHBDEMIC DHIEG GHBEACICBLHMBAE ECBBLE FBEJAEDEEF DHAKIA DEBELL CBHEAAG K\n",
      "Decrypted and Split Sentence: HIMEEHF AFIB HAFEIGIDAEFF AFLAHAG LAMEAGABLEAEFF BCKEEF BIEEGAKAGIBA FHBGLBFFIGIF EMCHMBEEIAG\n",
      "Decrypted and Split Sentence: CEBI HAEEEIEF EACACEHF CHLLLADE EJEEEE LBBELIA HADEEGAKABLE HACEECBFGEEBHFAEFF\n",
      "Decrypted and Split Sentence: CEBGEFGIIE HABBHAGIFHLLL CBAABGED JLEACH CLECGEBA DIIEEGEACL HAAFFIBILAGED CHBAAAGE AAGIFBCIALIFG\n",
      "Decrypted and Split Sentence: DBGBAAEF CALIGEACHL MEGHBDIFGF FCBMBEBID CHBGBCHBBIA ABIDEF CBLLCABEIC\n",
      "Decrypted and Split Sentence: CALMILLB IBCAL CAEAGHLMIC EECALCHLAGE FJAAFLBJEE CEFAE CBFGCAABAICAL ALIMAEIA\n",
      "Decrypted and Split Sentence: DIFAFFILIAGIBAF CBIAGEF BAEL JIABHEAE ABAACGBE CAFGELLI CHIMBLL\n",
      "Decrypted and Split Sentence: FHLCHAGBACEGIC IAFGEHCGEEFF CEBAIC FJIADLEF CELFGIC DBBEMAG FCEAICHED\n",
      "Decrypted and Split Sentence: CBHBL KAEBL MBADE JACAEAADAF BIEECBEEHCGLL MAACHHEIAA ALLBCHEBBHF BCHIGEF DEMBAIFM\n",
      "Decrypted and Split Sentence: CEEDIFCHGIAG FALLBJF GAEAEGLIKE CEAFIBAABLE GEAEFIACAL IAGEEEHCGIAG HAHAFCED\n",
      "Decrypted and Split Sentence: HAEECBEGEDAEFF CEEGIBEAGIAG CEAGEAIEE EKCEDIGEF MIFGIIIAG DHAFIFH FALFA LAGBHEHADI\n",
      "Decrypted and Split Sentence: BABMAFGICBA IADEFAGIGABLL CICKEEELF GBEEHGIC LAHHALA AMBLEBCAECHF CAEGICHLAEIME FECGAEIAAIMED HAADBAAK HAAAIMAGED\n",
      "Decrypted and Split Sentence: CEHACH IAGEEIEAAAG EECLACEABLE AKBABFG MLBFALCIAGIGIF DBEFALF KLAE CEECELEBEAGIBAF\n",
      "Decrypted and Split Sentence: ECGBDEEMBFIF FM CBCBCAGECEGL HBHFECEAFG CEEEKHIBIG JAFMIAELIKE IEEGICALIGL JALHAJK\n",
      "Decrypted and Split Sentence: JHEELHBEFE GAGGEA MACEBFGBMAGBHF CGEELGBMALAE CEEAHDIEACE CECHALHEMAGBMA FIAF FLLJIACH MEGHBDIMEE AEHEECGBME\n",
      "Decrypted and Split Sentence: AAILEBD IIBE MADAAG IAEKCEEFFIBLE BEEAGHED CAEDIBFCHLGMBGEAM IGEA BIEEFBAE\n",
      "Decrypted and Split Sentence: CAEFLBAG GLBBIBCECHALHF LBGHLL FGAAFILL CAAGELEBLBGIFM DIFCBIEEABLL CAEIBBEEF\n",
      "Decrypted and Split Sentence: EAIAGIGHG ABELLLA HALHFH CBHAGEEFGIMHLHF DHIAAEIEF FCEBGGL ABAFLAC FAAMAA FAAFAEBAADE CIAEMAGBGEACHEE\n",
      "Decrypted and Split Sentence: BEAEDBM CEBFCBLEK BEAILLIFG BIICHLHM CEBMBECHBLBGIFG FAEMAGIC DEBELLAGIBA CECGBEA AADEEE\n",
      "Decrypted and Split Sentence: HACHBLIFHABLL DEFCHMAGIBA BELABBEED HADECEIGFHLLL FHBLIAE BECKIILLE BEIFE JIDGEBA JEACBEDIME\n",
      "Decrypted and Split Sentence: LEIIEAGIC CFEHDBBEGHBEHBMBIC HBAGMIAEF BBJFGEIAGIAG HAGEACGAEIAA AEEBIC EBAGGEAG BIEEAECHED IIBEACHLAE BEAADEIGH\n",
      "Decrypted and Split Sentence: CIAEMAGBGEACHIC BLACKEAEE HEMBMAABMEGEE HADIFMEMBEEED HADEEGAKED FAECBDICGLHM FEDIGIBHF GBAGIFHLL BLHEBBAAEG\n",
      "Decrypted and Split Sentence: BEAACHLIKE BEBBMJEED FGLLBHLAL CAEAFFIAIAG GAGFBL AAGICBEG CIGCIG FBADBHK FHCEECEECIFE FJIAGLIAG\n",
      "Decrypted and Split Sentence: ALBDIALIGL CAEGICICAGIIELL JALFGBA MAHBAEL CHBGBGACHBMEGEIC FLBEIA JAEGHMAA DHHMIIEAL\n",
      "Decrypted and Split Sentence: CEEFGIIEJ EEALLIAACE LAMBEAG LEJIFFBAF GEEMAGBID DEIALHAGEF CFLCHBCHBBIA CELICAAF GHAMEL\n",
      "Decrypted and Split Sentence: IMMHGABLEAEFF MAGEEAIGIEF BBEDEEIAG BHGIAHAG GALLBEIME AGLLCBAE MACHAA HACKEEIEF GAEDAADB\n",
      "Decrypted and Split Sentence: FIMAEF CHIEBGHEEIHM JBADJAKEA GBMME DBAAEL CLAGHL CEEDIFGIAGHIFH DEHGEEAGIBA HHGIBEEG CHMELB\n",
      "Decrypted and Split Sentence: MBABGHELEGIC ALAEIA GAEFGBA EELGHBEBAGE CBJFLACF KAILA CBBBEEF EELIADHIFHIAG CAEAABID EEIAGEEIEAGIBA\n",
      "Decrypted and Split Sentence: CBDF CAEHMBHLDEBGHBEAK IAIEEEBEAGE HADEEFIGHG BAFDHIAE FHMIEE GACEFGEE\n",
      "Decrypted and Split Sentence: HAACCHFIAG BHAIACHAEA CECHALBMEGEL HADEGEEIBEAGIAG HBMBCLAFFL CHLAMLDBFAHEHF DIFCEAFAGIAG CLFGBFGBMIEF\n",
      "Decrypted and Split Sentence: EAFEMBLE CAACHALAGHA BHGCHEE HAFALLIBLEAEFF FEEDLEG HEIMEE KEALL HAAJAL GLEAHAM JIGGIEE\n",
      "Decrypted and Split Sentence: BALHCHIF DAEEDEIILIFM CEECBFMICALLL BLHEBBAAEG BHLBILLA FCEJIAG MBAKGBA CBDIE GACKEGF BIEEBAADL\n",
      "Decrypted and Split Sentence: ELDEED CBLIGICKIAG ELECGEEGF GLHCBFEAAGHLIA CALGECH LAIEEA JAAL CGEAIDIA\n",
      "Decrypted and Split Sentence: ABAIFEE CBMEIEFG FEBADIGEEBHF AADIAEE AGAHHALCA GALIAABLBGL KEGBHEKBFE FCLEEBBLAFGEMIC\n",
      "Decrypted and Split Sentence: CIAEEIEF CAECHEFI DHBBEELL GIBBF CHAMECECHALL FLICKCACEE MAADHEE FHBICHLAE\n",
      "Decrypted and Split Sentence: CBEACBCKLE FGABILIMAGBE AEBLIA MILLELAD HALDBA GJAAGLE FBMIAE GIGIIAGIAG\n",
      "Decrypted and Split Sentence: JILDIFHAEFF KELG ELFMEEE AEEBJHEADF MCELEBL CAAGHI GLIGGEEIAGLL EEDIFGILLED BAGHIB CHACGHAGE\n",
      "Decrypted and Split Sentence: CBHBL CFLCHBFEKHAL CEEMIAIFGEE IADHCGBMEGEE FCHLLDHGGEEL GAMC DIFGHIFEDAEFF\n",
      "Decrypted and Split Sentence: FHIMBEEG FCBEBCHLDIHM FBHGHF DHIEIAG ELECGEEGF FAELEF EGAMIAF GBLIA BEAIDIFG\n",
      "Decrypted and Split Sentence: CEBGEFGIIE MAJKIA CAHFALIGL DHADEHCLL ACKEEMAAIILLE ABFBGEACHIC HLEICHIGE FIAGLEF\n",
      "Decrypted and Split Sentence: BIGGEEBLBBM MAKAG IBIDAEFF HLDEBCBHMAEIC BBFGBAEFE GLHCBFIDIC GLGHIAG AFGEEABFE EHELL CEEEEGIFGEEIAG\n",
      "Decrypted and Split Sentence: EAGEAIAF CEEFEAGIIE HAFACGIGIBHF GIHEE MAAAGEEIALLL BEACHMEA CEEIEEFED CBLLMLGHIC GEAIAIEFG\n",
      "Decrypted and Split Sentence: JHLFILA CEBGBHLMEABCGEEBA FGIMCEEG EAAAGIBFEF IAHLEF FJIM ABEEIF HADEECEIEE FHBEAGIAEEE\n",
      "Decrypted and Split Sentence: BEIAKGBJA HLCABGHEEACL CEEAGBGLBFFAL EAGGIEF AFFIGAABLL GHMLA GALIAABLBGL GHEBMBBCLAFGIC BBBEEE DEADLIAEFFEF\n",
      "Decrypted and Split Sentence: CHEIFGBCEE HLCEECLEEKIA BELLIAG GEBEGICF ACCBMCLICIGL LAADMEA HACEEIALEAG IGEEAACL\n",
      "Decrypted and Split Sentence: GHLF FDHABBLED LBGIFGIC FLEEIELEFFAEFF ABAEELAGIIIFGICALLL GEIAAEEF GLCFIAE CAEAFIGIMED\n",
      "Decrypted and Split Sentence: CAEBBAIGE MAIABHE CEAGMIA FHCEEMBEBFE AAGIALIEA JIAIFEED HAFHFFHFIIE EEIGEEAGIIE\n",
      "Decrypted and Split Sentence: CAEEFHLLEE GEEEIGBEIALIMAGIBA HAHAHLED EEAFBAIAGLL CHILDJBLD IIBEIBA ABAEEFHELLIAG BEADAEE\n",
      "Decrypted and Split Sentence: CEEDEMBAFGEAGIIE KHHFH CEBGAABCE BEDEIIELLED DICEBGIFM MILBEE HLCEEEKGEAFIBA BBDLFHEFIAG HACLEAALIAEFF\n",
      "Decrypted and Split Sentence: EECGIFEEIAL FLEDGIAG GAILLEFF LIFMAA HAFIGGIAGAEFF IADHLGEABLE GBEEEBA HEAIBCHE HHBAEEIGE\n",
      "Decrypted and Split Sentence: AEEBIC CEAEG CEBGALIFM CBCIAAC DBMEFGICAGIBAF EADBGEABHFLL BEALIAG\n",
      "Decrypted and Split Sentence: MHMBEBGA HAIAIALIDAGED ALCEFGEIAE FGBAGEE FHEIEKF JELLLDBM CLEBCBMEAIC EGFM LHACHEBAEGGEF\n",
      "Decrypted and Split Sentence: BBGEAEBEAGE GEACFIDAE DIFBIAD EEDEBBC DECBLBHEIFAGIBA ECIMBICIDE FAFGHBHFLL CBIGAED FEEGHEE BBEDEEIAG\n",
      "Decrypted and Split Sentence: AFFAFBEGIDA FHBADJACEAGLL CELFGALLIME LECIDBFIEEABID LAIEEA FAEBEIAF BBFGACLEF GAHLFH IAGEEF FEIEEAACEF\n",
      "Decrypted and Split Sentence: AADBEBBA DELCBIAGF HIFGBEICBCHLGHEAL EEEFF CAFAFIA AABCFIAF GHIACLAD FAMBGBA\n",
      "Decrypted and Split Sentence: HACACAIEEBHF ECBCGIFG HAEBFGEAGED ABAEMBELLIFHIAG BHAIBA BABBLEEF GEEMBCHBBIA BBBBEE JAGCHIAGLL EADBAF\n",
      "Decrypted and Split Sentence: FAFGHBHFLL HEKAMEEBHF MALEFICALLL EECBMCHGIAG GLABFCBEE BHGEIG BAJAEDAEFF HILIFEEBHF\n",
      "Decrypted and Split Sentence: FLICKCACEE JLCK CLECGBCGEE JEAKL ABFBGEACHIC ABADIFCHEFIIE MHFGAFIAA HADEEFIGHG HLGB\n",
      "Decrypted and Split Sentence: LEAGHEEJIAG FHBGALLAGE LLCHABFCBCE CEBLACFED ALMAGEFG MBAHMEAGALIMAGIBA DIFGAL\n",
      "Decrypted and Split Sentence: HEA CALAEBHLDEBGEACHL CEHFHEF CAEBGBIDF IFAHKEFIF FLAAAELLL CEEIAFIAHAGIAGLL BFKAE GHEEILIGEF HLDEBCHBBIAF\n",
      "Decrypted and Split Sentence: CHEEILLAA CACHLCECHALL EADAFEH AAGIFCALE JHBEGF KAEBLLA CEEBCEEAGIIE\n",
      "0.003284275531768799\n"
     ]
    }
   ],
   "source": [
    "print(measure_decryption_time(words,100))"
   ]
  },
  {
   "cell_type": "code",
   "execution_count": null,
   "metadata": {},
   "outputs": [],
   "source": []
  },
  {
   "cell_type": "code",
   "execution_count": null,
   "metadata": {},
   "outputs": [],
   "source": []
  },
  {
   "cell_type": "code",
   "execution_count": null,
   "metadata": {},
   "outputs": [],
   "source": []
  }
 ],
 "metadata": {
  "kernelspec": {
   "display_name": "huggvenv",
   "language": "python",
   "name": "huggvenv"
  },
  "language_info": {
   "codemirror_mode": {
    "name": "ipython",
    "version": 3
   },
   "file_extension": ".py",
   "mimetype": "text/x-python",
   "name": "python",
   "nbconvert_exporter": "python",
   "pygments_lexer": "ipython3",
   "version": "3.7.6"
  }
 },
 "nbformat": 4,
 "nbformat_minor": 4
}
