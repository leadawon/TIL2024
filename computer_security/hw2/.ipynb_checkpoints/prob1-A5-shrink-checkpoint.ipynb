{
 "cells": [
  {
   "cell_type": "code",
   "execution_count": 143,
   "metadata": {},
   "outputs": [],
   "source": [
    "import random\n",
    "import time"
   ]
  },
  {
   "cell_type": "code",
   "execution_count": 144,
   "metadata": {},
   "outputs": [
    {
     "name": "stdout",
     "output_type": "stream",
     "text": [
      "416296\n",
      "ABENCERRAGES\n",
      "True\n"
     ]
    }
   ],
   "source": [
    "\n",
    "words = []\n",
    "with open(\"words.txt\", \"r\") as file:\n",
    "    for line in file:\n",
    "        word = line.strip().upper()  \n",
    "        if word.isalpha():  \n",
    "            words.append(word)\n",
    "print(len(words))\n",
    "words = random.sample(words, min(100000, len(words)))\n",
    "\n",
    "words.sort()\n",
    "\n",
    "def binary_search(arr, target):\n",
    "    left, right = 0, len(arr) - 1\n",
    "    while left <= right:\n",
    "        mid = (left + right) // 2\n",
    "        if arr[mid] == target:\n",
    "            return True\n",
    "        elif arr[mid] < target:\n",
    "            left = mid + 1\n",
    "        else:\n",
    "            right = mid - 1\n",
    "    return False\n",
    "\n",
    "# 테스트\n",
    "print( words[100] )\n",
    "target_string = words[100]  \n",
    "is_found = binary_search(words, target_string)\n",
    "print(is_found)  "
   ]
  },
  {
   "cell_type": "code",
   "execution_count": 145,
   "metadata": {},
   "outputs": [
    {
     "name": "stdout",
     "output_type": "stream",
     "text": [
      "False\n"
     ]
    }
   ],
   "source": [
    "\n",
    "target_string = words[100] + \"1234\"  \n",
    "is_found = binary_search(words, target_string)\n",
    "print(is_found)  "
   ]
  },
  {
   "cell_type": "code",
   "execution_count": 146,
   "metadata": {},
   "outputs": [],
   "source": [
    "def generate_random_sentence(word_list, num_words):\n",
    "    chosen_words = random.sample(word_list, num_words)\n",
    "    sentence = ''.join(chosen_words)\n",
    "    return sentence.upper()"
   ]
  },
  {
   "cell_type": "code",
   "execution_count": 147,
   "metadata": {},
   "outputs": [
    {
     "data": {
      "text/plain": [
       "'DISPEOPLEDIFFRACTORTHOXAZINECINNAMYLIDENEBACCHANALFUMARASESNUDGES'"
      ]
     },
     "execution_count": 147,
     "metadata": {},
     "output_type": "execute_result"
    }
   ],
   "source": [
    "random_text = generate_random_sentence(words,7)\n",
    "random_text"
   ]
  },
  {
   "cell_type": "code",
   "execution_count": 148,
   "metadata": {},
   "outputs": [
    {
     "name": "stdout",
     "output_type": "stream",
     "text": [
      "Decrypted and Split Sentence: PREVIOUS\n",
      "Failed to decrypt and split the sentence.\n"
     ]
    }
   ],
   "source": [
    "def find_valid_splits(text, words, start=0, memo=None):\n",
    "    if memo is None:\n",
    "        memo = {}\n",
    "    if start in memo:  \n",
    "        return memo[start]\n",
    "    if start >= len(text): \n",
    "        return [[]]\n",
    "\n",
    "    valid_splits = []\n",
    "    for end in range(start + 1, len(text) + 1):\n",
    "        current_substr = text[start:end]\n",
    "        if binary_search(words, current_substr):\n",
    "            for split in find_valid_splits(text, words, end, memo):\n",
    "                valid_splits.append([current_substr] + split)\n",
    "\n",
    "    memo[start] = valid_splits  \n",
    "    return valid_splits\n",
    "\n",
    "def decrypt_and_split(ciphertext, words):\n",
    "    all_splits = find_valid_splits(ciphertext, words)\n",
    "\n",
    "    if all_splits:\n",
    "        valid_split = min(all_splits, key=len)  \n",
    "        return ' '.join(valid_split)\n",
    "    else:\n",
    "        return False\n",
    "\n",
    "# 예시 사용\n",
    "temp_words = [\"APPLE\", \"PRE\",\"PREVIOUS\", \"ZEBRA\"]  \n",
    "temp_words = sorted(temp_words)\n",
    "ciphertext = \"PREVIOUS\"\n",
    "\n",
    "# 해독 및 단어 분리 시도\n",
    "result = decrypt_and_split(ciphertext, temp_words)\n",
    "if result:\n",
    "    print(\"Decrypted and Split Sentence:\", result)\n",
    "else:\n",
    "    print(\"Failed to decrypt and split the sentence.\")\n",
    "    \n",
    "\n",
    "ciphertext = \"PREVIOUSAPPLES\"\n",
    "\n",
    "# 해독 및 단어 분리 시도\n",
    "result = decrypt_and_split(ciphertext, temp_words)\n",
    "if result:\n",
    "    print(\"Decrypted and Split Sentence:\", result)\n",
    "else:\n",
    "    print(\"Failed to decrypt and split the sentence.\")"
   ]
  },
  {
   "cell_type": "code",
   "execution_count": 149,
   "metadata": {},
   "outputs": [],
   "source": [
    "def caesar_cipher(text, shift):\n",
    "    encrypted_text = ''\n",
    "    for char in text:\n",
    "        if char.isalpha():  \n",
    "            encrypted_text += chr((ord(char) - 65 + shift) % 26 + 65)\n",
    "        else:\n",
    "            encrypted_text += char\n",
    "    return encrypted_text\n",
    "\n"
   ]
  },
  {
   "cell_type": "code",
   "execution_count": 150,
   "metadata": {},
   "outputs": [],
   "source": [
    "def random_shift_encrypt(text):\n",
    "    shift = random.randint(1, 25)\n",
    "    encrypted_text = caesar_cipher(text, shift)\n",
    "    return encrypted_text, shift"
   ]
  },
  {
   "cell_type": "code",
   "execution_count": 151,
   "metadata": {},
   "outputs": [],
   "source": [
    "def caesar_decrypt(encrypted_text,word_list):\n",
    "    for shift in range(1, 26):\n",
    "        shifted_text = caesar_cipher(encrypted_text, -shift)\n",
    "        result = decrypt_and_split(shifted_text, word_list)\n",
    "        if result:\n",
    "            print(\"Decrypted and Split Sentence:\", result)\n",
    "            break\n",
    "    else:\n",
    "        print(\"Failed to decrypt and split the sentence.\")"
   ]
  },
  {
   "cell_type": "code",
   "execution_count": 152,
   "metadata": {},
   "outputs": [],
   "source": [
    "def measure_decryption_time(word_list, trials=100):\n",
    "    start_time = time.time()\n",
    "    for _ in range(trials):\n",
    "        \n",
    "        sentence = generate_random_sentence(word_list, random.randint(7, 10))\n",
    "        \n",
    "        encrypted_text, shift = random_shift_encrypt(sentence)\n",
    "        caesar_decrypt(encrypted_text,word_list)\n",
    "    end_time = time.time()\n",
    "    return (end_time - start_time) / trials"
   ]
  },
  {
   "cell_type": "code",
   "execution_count": 153,
   "metadata": {},
   "outputs": [
    {
     "name": "stdout",
     "output_type": "stream",
     "text": [
      "Decrypted and Split Sentence: ROMANIZE LOFTSMEN YFACKS NACO REFUTED DECRIERS BECRUSH TUTORY NOOP\n",
      "Decrypted and Split Sentence: UNHEALABLY RECIRCLED BIFORKING VITRUVIAN INHAULS THEOPHILIST PALAEOGENE ALLOQUY SYNRHABDOSOME\n",
      "Decrypted and Split Sentence: WITHAM OXAMIDE PICCIOTTO TATAMI CORNAMUTE CHANCITO HORWITZ DEPOLARISING SITSANG\n",
      "Decrypted and Split Sentence: MIAULING PREGAIN DENTALITY LIVIDITIES DIDYMAEA HOAXED INCONNECTED REGUARD\n",
      "Decrypted and Split Sentence: MONSTERS PHILANTHROPIST ANAPHRODISIA ANDROMORPHOUS EMBROCADO FEARLESS CLOPTON ANTIPHONARIES UNDEREYED\n",
      "Decrypted and Split Sentence: AEROGENOUS TAPINOSIS ENAMELLESS SYLLABISING EXTRAVAGANCIES PUPILLESS BROADLY OVERSWEETLY RIPENING\n",
      "Decrypted and Split Sentence: STAROSTI BRACKY SENOPIAS PYLAS POODLES BAHIAITE TRIODONTOID MURDERESS PROMISCUITY\n",
      "Decrypted and Split Sentence: TIRL NAFUD NAOLOGY GERMANOMANIAC HABITATAL COUNTERVOTE GLASSLIKENESS LANGDON\n",
      "Decrypted and Split Sentence: LOTA TRIBOPHOSPHORESCENT TTS UNABORTIVE COMMUNALISTIC ROSARIES SAVIOR\n",
      "Decrypted and Split Sentence: LOZENGY ADJUDICATORY TOWARD PROCOPIUS HALMA COPERNICANISM COMMENTATING\n",
      "Decrypted and Split Sentence: MOHICAN MISSPEED MAZATEC RADIOBROADCASTED ASHLA ETHEROL DETOURED\n",
      "Decrypted and Split Sentence: WALLFUL LITTON SUPERDIFFICULT AMATHI SALLIER PASTURAL TEEWHAAP ROMANIAN\n",
      "Decrypted and Split Sentence: UNSNOUTED TETRAPNEUMONES CONDISTILLATION REGLORIFYING SAGEWOOD HARMONIACAL RISKED DIFFERINGLY SECURE\n",
      "Decrypted and Split Sentence: INCONTROVERTIBLENESS PALETTE AEROSE DISAGREEABILITY PROCUREUR IRRENOWNED THROATING KAWCHODINNE\n",
      "Decrypted and Split Sentence: REGULATORSHIP ROUPIT SCHOOLMISS USHAK CEPHALOBRANCHIATA EXENTERATION OVERWRITTEN\n",
      "Decrypted and Split Sentence: STALINOGROD ERICSON LANGOOTY BUNGLES DEPLANING APLOME ESBON CIZAR HYPOTENUSES UNPRETENDINGLY\n",
      "Decrypted and Split Sentence: QUOTIETIES DULZURA GREASEPAINT NONUNDERSTANDABLE RESTITUTORY TELECTROSCOPE PLEVEN\n",
      "Decrypted and Split Sentence: UNSOLVABLE UNPASSIONED TETCHY TECHNICALISM DJELFA DEBONE UNBREATHING\n",
      "Decrypted and Split Sentence: LEBOWA REPEALIST DEEDBOX FREELANCING NONPHILOSOPHICALLY DRAMSELLER ACETYLENEDIUREIN ARCHABOMINATION\n",
      "Decrypted and Split Sentence: INSTINCTIVITY UPSWEEP SUPEREXTREME INTERSALUTED MARMENNILL PYTHONESS ESKY\n",
      "Decrypted and Split Sentence: INDISCOVERY REABSTRACTS GEOCENTRIC TICKLESOME PILLOWLESS NOMINALIZE UNHEROICALLY DREYFUSIST ACHLORHYDRIC\n",
      "Decrypted and Split Sentence: MONOMACHIST CHIMNEY CERITES PERSONAL RELAPSED DIGLADIATOR ANAEROBE LATTIE\n",
      "Decrypted and Split Sentence: UNDERBURNED MESEPITHELIAL NONPROTEID ICHTHYODORYLITE LINEARISING RECONFIGURED ACUBENS HYPERPLATYRRHINE SANABILITY\n",
      "Decrypted and Split Sentence: ALTHIONIC NOMOGRAPHY XANTHAMIDE DEUTEROSTOMA ELEC CASSINO BRIONIES SEIYUKAI\n",
      "Decrypted and Split Sentence: FLAITHSHIP TIMENOGUY FLUS AMPHIGONIA UNWAITED OBSERVATIN SUPRAMORTAL\n",
      "Decrypted and Split Sentence: MANIFESTATIVE MIKKEL ADAPTION DISRUPTED DRAWGEAR ONCHOCERCA ARROGATING VORTICIAL\n",
      "Decrypted and Split Sentence: PAROOPHORON PANTAGRUELION DECIUS HOMOCYCLE BEWHISKER OVERFREQUENCY DEPANCREATIZE MILLINORMALITY SCORIFY SALTINESSES\n",
      "Decrypted and Split Sentence: FRIENDSWOOD NITROSUREA ENTREAT TENES NONAPOLOGETICAL NONREFLECTION NERVUS HUBEY CUARTINO\n",
      "Decrypted and Split Sentence: SHMEAR PREINDEPENDENTLY OVERBASENESS OUTSHOWED UNILINGUAL PNEUMATOCHEMISTRY CHARISMAS GRIMHILD\n",
      "Decrypted and Split Sentence: SHAY LORGNETTE UNLAWLEARNED JELLO HAVERGRASS UNDERBOARD ABROAD ENCLOSURE\n",
      "Decrypted and Split Sentence: FISHINESS INBREEDS PROINDUSTRY SPECIATED VIRGATES ENDOSARCS SEPTUPLET CLOACAL LUMPKIN LUNATICAL\n",
      "Decrypted and Split Sentence: GREYBULL SOMEBODIES SEMISEXTILE TATSMAN KVETCHING DEOXYGENIZE FLIPPED PINACOCERATIDAE WINEBERRIES\n",
      "Decrypted and Split Sentence: BOVIDS PLATYCELOUS OSSWALD REVERIFIED AFFODILL AMOEBOBACTER CREASE WATERFOWL ITOUS VELOCIOUSLY\n",
      "Decrypted and Split Sentence: STUCK LONGITUDIANL FOURSQUARENESS DIPTYCH FURANOSE BOHLIN INTEXTINE IMMEDIATELY\n",
      "Decrypted and Split Sentence: PENNVILLE ANTIMONARCHIC CRUSILE VANNA CHRYSOLOGY ASSORTED ALLWHERE REFEEDS UNDERBRACE\n",
      "Decrypted and Split Sentence: QUERIMONIES RESPONSIVITY MUTUALNESS REPRESENTATIVITY UNPURIFYING EARTHRISE FLAMBEAUS PERISARCS CLANSMANSHIP\n",
      "Decrypted and Split Sentence: NONGIPSY ASTRUT DEVANAGARI DRCH PEJORIST REFLECTEDLY REALLOTTING\n",
      "Decrypted and Split Sentence: RESULTS VERSERS ANTIRATTLER SHAPEUPS NEBULOSITY MONARCHISTIC AGUISTIN\n",
      "Decrypted and Split Sentence: CHASIDIC ROISTERS SUNDRIES BRIDEMAID MELMON PENTAHEDRON IMBALMS\n",
      "Decrypted and Split Sentence: SUPERPORT TORRENTIAL NONHEREDITABLY MISTRADITION PSYCHAGOGUE GONYS BEGALLED EUPHEMIE BENEFICING LINGAMS\n",
      "Decrypted and Split Sentence: GAMESMAN EPIPOLISM BLOODLESSNESS REPLACERS AMBOINAS AGOROT FINEMAN\n",
      "Decrypted and Split Sentence: BABASU UNPRETENDINGLY PROGRAMING PREVARIATION EMBAYED ALKAPTONURIA ELECTROPLATING EMIM\n",
      "Decrypted and Split Sentence: MISPAINTED CHEECHAKOS LIQUORISHLY OVEREMOTIONALIZED LUCRATIVELY PAROTIDECTOMY EAU\n",
      "Decrypted and Split Sentence: FRIGHTS LOWERABLE MUSCARDINIDAE MIMODRAMA TRAGASOL UNLOBBYING LOKI ROWDIER\n",
      "Decrypted and Split Sentence: RAPPELLING QUAKINGLY COLORLESS ZYGOTICALLY PREFORGIVEN ADENIZATION SANTA\n",
      "Decrypted and Split Sentence: ZINCIZE DERMATOPHAGUS VINIFICATION DETD URUK DECESSOR WIP\n",
      "Decrypted and Split Sentence: LINGEL COORIED TRUES KAZDAG HAEMOLYSIN OUTJUMP SHAZAR UNIMULTIPLEX\n",
      "Decrypted and Split Sentence: PAROEMIOGRAPHY UNEXORBITANT WEASON CONTINENTALISM ADAMINA NONNOTABLE BOLEN\n",
      "Decrypted and Split Sentence: SUPERFECTA TIGHTNESSES FRISETTES NONOPERATING POMERANIANS CONSPIRATRESS UVULOTOME\n",
      "Decrypted and Split Sentence: PORNOGRAPH RETROGRADISM BOOTTOP URITE NONADDICTIVE MORISCOES SLOUCHILY UNSOOTHING\n",
      "Decrypted and Split Sentence: BEAUXITE OVERANALYZE FETALIZATION GUARINITE GATEWOOD EXEMPTING OUTTALKS\n",
      "Decrypted and Split Sentence: GHYLL WIGWAMS TENTERS MELOLONTHIDES OGREISHLY UNDERWEARS FOREDECREE BUGLERS HATS\n",
      "Decrypted and Split Sentence: DEROSA LARDLIKE DEDICATURE GHOSTILY MEKHITARIST DIAPASM SULPHOCARBONIC BONCARBO HISPIDULOUS\n",
      "Decrypted and Split Sentence: UNRESISTIVE CHULLPA ASSERTUM FLEECING WHIRKEN CANCRI FATTILY PUNKWOOD VAPORINGLY\n",
      "Decrypted and Split Sentence: STREETWAY HISTED KNICKKNACKERY OVERGOADING ORTHOFORMIC CONNOCHAETES NGBAKA\n",
      "Decrypted and Split Sentence: AERODONETIC HYDROBROMIC ALLSOPP ECF MISGRAFTS SPARROWY BOWWORT\n",
      "Decrypted and Split Sentence: GEDDER CALIMERIS HANAN DUALIZING GUNA SUPERBRAVENESS KHEDA ACCRETIVE HERACLIUS CONCHFISHES\n",
      "Decrypted and Split Sentence: GIRDERLESS PHYSIOLOGER TSATTINE NONRURAL TAXIDERMISTS PHOSPHOROGENIC SEKIU\n",
      "Decrypted and Split Sentence: ROSTER NOSOGENIC SUDAN SCOPS LOCHS DAHNA WERING TAMANDUS PLEUROTUS UNSKIMMED\n",
      "Decrypted and Split Sentence: NOUN HEMATOZZOA ARCTAN SALVOES GRILL ENGRAVEN UNTHROWN MUSICALIZATION GRAYFLY PANADAS\n",
      "Decrypted and Split Sentence: UNMORIBUND PROXEMICS SASSANID RAFAELOF REINHABITATION ARBOTA BHEESTIES SPECCING\n",
      "Decrypted and Split Sentence: CONJURING AEROHYDROPLANE PROMOTION CHANCEWISE SANGUISUGE UNODOROUS EPITAXIC KINDLINESS PABULAR ANATOLIO\n",
      "Decrypted and Split Sentence: BARDINESS WETTERS REPETITIONAL PLACE SORTED BLANDISHES GROYNES CONIROSTRAL\n",
      "Decrypted and Split Sentence: ROCCELLINE DAISEE MORICHE BIOG UNSACRAMENTARIAN MANIAC DAYDREAMY\n",
      "Decrypted and Split Sentence: LECHAYIM SECONDARY ORTHODOXLY POSTARMISTICE SUPRASPHANOIDAL TITULAR BLURTING CLEAM LAZARE\n",
      "Decrypted and Split Sentence: GALENUS GUAIARETIC CESAROLITE BROHARD VESICOCELE RAMESSE CUSPIDATED HAO DISMORTGAGED\n",
      "Decrypted and Split Sentence: PELVIGRAPHY ROPESMITH SASTRA ANTHROPOGENIST SHIREMEN STOD ASTRIONICS\n",
      "Decrypted and Split Sentence: IRREALIZABLE ALMAIN STEREOISOMER JABBERWOCKIES CRYPTICALLY HULVER DEBITUMENIZE VASTIER CRS\n",
      "Decrypted and Split Sentence: VITRAILIST PAPAGO SEMISPECULATION MISTRANSCRIBING DOSIMETRY MUFFLES SUPERSENSITIZATION CHEFDOMS CYPRINA AVOCET\n",
      "Decrypted and Split Sentence: FURYL ASARACEAE QUINQUEDENTATED UNMETRICALNESS TUBICINATION VAGINITIS POSTPYCNOTIC\n",
      "Decrypted and Split Sentence: DIPROPARGYL AFFRAYED LINKIER ELOIGNERS EFFIGIATING CONVENTED LETUPS MURPHYING MYELIN\n",
      "Decrypted and Split Sentence: STAGG OCCIPITONUCHAL PIURICAPSULAR HYPERSPIRITUALIZING ERIOCAULACEAE IRRATIONALIZE TEIRTZA GAME\n",
      "Decrypted and Split Sentence: TESSERAE DEMONSTRATEDLY ASYMMETROCARPOUS EMPHRENSY OSELLE HEMIPODII JUANA\n",
      "Decrypted and Split Sentence: PISTONLIKE SANCTIONING RUMORMONGER LUNKA AEROSINUSITIS UNTOLERATED IONIZABLE\n",
      "Decrypted and Split Sentence: SCURLOCK WEASELSNOUT UNCORRUPTNESS SMUTCHY INSPIRINGLY REAGITATING CHEVERET\n",
      "Decrypted and Split Sentence: INCOGNOSCENT OPAQUE KIETA BEDGOWN UNDERBEAR GUILING CLUBHAND PIRRMAW MILLWRIGHTS MANOMET\n",
      "Decrypted and Split Sentence: PROPHECIES ALOUT SUPERACCRUING BREVES UNELOPING SYNRHABDOSOME TRICKER PRATIQUES INTERTANGLEMENT BELLARTHUR\n",
      "Decrypted and Split Sentence: BROTOCRYSTAL SHACKLETON GREGATIM THERETOWARD POSTEROMESIAL DUMBWAITER MESONS CORNICHES\n",
      "Decrypted and Split Sentence: CLOUTY ASBJORNSEN DISENTRAMMEL TROCHODENDRACEAE HEDONIST GLACEING OPHIONINE SNA TENGDIN\n",
      "Decrypted and Split Sentence: PERAMBULATING UNSCALING CHANDALA HOWLAN ELLERIAN BOOTHS STAFFMAN MERGANSERS\n",
      "Decrypted and Split Sentence: AROYNTING UNMOOR JOCKER PEISISTRATUS DELETORY INGRATEFULLY FORTUNOUS\n",
      "Decrypted and Split Sentence: BOGBERRIES PALINOPIC PEDIOCOCCUS CNEORACEAE MISWERN LINGERER URBANER SORBIC\n",
      "Decrypted and Split Sentence: JOYOUSNESS POSSIBLEST STRIKEBOUND MINGWORT LTC VANTAGE OVERINVEST FLESHER LAGGINGLY MONGRELDOM\n",
      "Decrypted and Split Sentence: SOOTHEST AFICIONADA MISCOMMUNICATIONS GLONOINE HYPERTONIA GYNANDER VESICOINTESTINAL\n",
      "Decrypted and Split Sentence: ANTHRACIC GONOPORES PRICEY STUCKING AMINOPURINE UNCONSONANT PYLORITIS FAXING CYSTAMINE\n",
      "Decrypted and Split Sentence: OBDIPLOSTEMONY UNESSAYED BK FLASHTUBE UNVIOLATE ENTOMOLOGIST JIZYA\n",
      "Decrypted and Split Sentence: RHIZOMATOUS VINOACETOUS SPOKEN LITHIASTIC INCONDITIONAL WYOCENA RESINIFLUOUS BRIONY ODONTOGLOSSAE TERRARIA\n",
      "Decrypted and Split Sentence: OVERBETTED MESENTERITIC PREBUCCAL COUNTERMUTINY TUTORSHIP JUGGER MYELINATION RESTHOUSE FRONTIERSMEN\n",
      "Decrypted and Split Sentence: NONSIGNATORY RAMEKIN PROTISTIC BASITTING UNNAMABLENESS UNDOWNY MERCHANDIZE OVERTENACIOUSLY STADIAL\n",
      "Decrypted and Split Sentence: PHANTASMIC TIPPROOF JAUP BIHYDRAZINE MANIZALES CODSWALLOP LITHOGRAPHERS MAGNETIFEROUS OPINIONATIVELY\n",
      "Decrypted and Split Sentence: THRIFTILY REEVALUATED DEGRINGOLADE SUPEROVULATION MARGENTED JAZZIEST OPSY LEGALIZE PORCELLANITE\n",
      "Decrypted and Split Sentence: LUCENTLY EYELID CATHETOMETRIC NEPHRITIC ISMAN SQUIRT DEMARCATURE DOWNWARDNESS UNASTHMATIC ASSISTANTSHIPS\n",
      "Decrypted and Split Sentence: SKYROCKETS INTENSELY DULLEST SPINIFEXES ASSYROID CAVATINAS SYNOSTOTICALLY INFLUENCEABILITIES\n",
      "Decrypted and Split Sentence: CALQUE STERNUMS OPHICEPHALUS BEDOT AGGREGATION SKATOLS DAGGERPROOF TINKLIER\n",
      "Decrypted and Split Sentence: OLOROSOS HEGEMONE HANDSPIKE SOMDIEL ORDINALS CARRION LEZZY TITMEN\n",
      "Decrypted and Split Sentence: SAMPAGUITA BARDIE UNSANITARY CANTONALISM UNRECEPTIVELY ETESIAN PLUMLESS SHAMABLE\n",
      "Decrypted and Split Sentence: MACUPA ARITON AEROSINUSITIS UNAFFLICTION NONCLAIMABLE TUBIFEXES NEIGHBORLESS OVERDYING INSPIRABLE\n",
      "Decrypted and Split Sentence: DOJO QUIVERS SYNOPTIC UNCORDIALITY CORCHAT SKEDGE TASSE OBSCURATION STOMAPODA\n",
      "Decrypted and Split Sentence: UNCLASSIFY MINXISH PHOTURIA UNEXCAVATED CABIRITIC SEMIEXTERNALLY BIBLICAL HYPEREUTECTOID LIQUIDATOR\n",
      "Decrypted and Split Sentence: MINED OVEREXAGGERATION SUDIC DITHEISTS TONGANOXIE HYPERKINETIC ARTHRODIAE\n",
      "0.010634994506835938\n"
     ]
    }
   ],
   "source": [
    "print(measure_decryption_time(words,100))"
   ]
  },
  {
   "cell_type": "code",
   "execution_count": null,
   "metadata": {},
   "outputs": [],
   "source": []
  },
  {
   "cell_type": "code",
   "execution_count": null,
   "metadata": {},
   "outputs": [],
   "source": []
  },
  {
   "cell_type": "code",
   "execution_count": null,
   "metadata": {},
   "outputs": [],
   "source": []
  }
 ],
 "metadata": {
  "kernelspec": {
   "display_name": "huggvenv",
   "language": "python",
   "name": "huggvenv"
  },
  "language_info": {
   "codemirror_mode": {
    "name": "ipython",
    "version": 3
   },
   "file_extension": ".py",
   "mimetype": "text/x-python",
   "name": "python",
   "nbconvert_exporter": "python",
   "pygments_lexer": "ipython3",
   "version": "3.7.6"
  }
 },
 "nbformat": 4,
 "nbformat_minor": 4
}
