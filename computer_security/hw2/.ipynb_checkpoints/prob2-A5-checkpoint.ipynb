{
 "cells": [
  {
   "cell_type": "code",
   "execution_count": 1,
   "metadata": {},
   "outputs": [],
   "source": [
    "import random\n",
    "import time\n",
    "import itertools"
   ]
  },
  {
   "cell_type": "code",
   "execution_count": 2,
   "metadata": {},
   "outputs": [
    {
     "name": "stdout",
     "output_type": "stream",
     "text": [
      "416296\n",
      "ADIAPNEUSTIA\n",
      "True\n"
     ]
    }
   ],
   "source": [
    "\n",
    "words = []\n",
    "with open(\"words.txt\", \"r\") as file:\n",
    "    for line in file:\n",
    "        word = line.strip().upper()  \n",
    "        if word.isalpha():  \n",
    "            words.append(word)\n",
    "print(len(words))\n",
    "words = random.sample(words, min(10000, len(words)))\n",
    "\n",
    "words.sort()\n",
    "\n",
    "def binary_search(arr,target):\n",
    "    left, right = 0, len(arr) - 1\n",
    "    while left <= right:\n",
    "        mid = (left + right) // 2\n",
    "        if arr[mid] == target:\n",
    "            return True\n",
    "        elif arr[mid] < target:\n",
    "            left = mid + 1\n",
    "        else:\n",
    "            right = mid - 1\n",
    "    return False\n",
    "\n",
    "# 테스트\n",
    "print( words[100] )\n",
    "target_string = words[100]  \n",
    "is_found = binary_search(words, target_string)\n",
    "print(is_found)  "
   ]
  },
  {
   "cell_type": "code",
   "execution_count": 3,
   "metadata": {},
   "outputs": [
    {
     "name": "stdout",
     "output_type": "stream",
     "text": [
      "False\n"
     ]
    }
   ],
   "source": [
    "\n",
    "target_string =words[100] + \"1234\"  \n",
    "is_found = binary_search(words, target_string)\n",
    "print(is_found)  "
   ]
  },
  {
   "cell_type": "code",
   "execution_count": 4,
   "metadata": {},
   "outputs": [],
   "source": [
    "def generate_random_sentence(word_list, num_words):\n",
    "    chosen_words = random.sample(word_list, num_words)\n",
    "    sentence = ''.join(chosen_words)\n",
    "    return sentence.upper(),chosen_words[0].upper()"
   ]
  },
  {
   "cell_type": "code",
   "execution_count": 5,
   "metadata": {},
   "outputs": [
    {
     "data": {
      "text/plain": [
       "('OVERFLOWERLACKADAISICHYPABYSSALLYDETONATESREASHLARBLUNTIEHETERATOMIC',\n",
       " 'OVERFLOWER')"
      ]
     },
     "execution_count": 5,
     "metadata": {},
     "output_type": "execute_result"
    }
   ],
   "source": [
    "random_text =generate_random_sentence(words,7)\n",
    "random_text"
   ]
  },
  {
   "cell_type": "code",
   "execution_count": 6,
   "metadata": {},
   "outputs": [
    {
     "name": "stdout",
     "output_type": "stream",
     "text": [
      "Decrypted and Split Sentence: PREVIOUS\n",
      "Failed to decrypt and split the sentence.\n"
     ]
    }
   ],
   "source": [
    "def find_valid_splits(text, words, start=0, memo=None):\n",
    "    if memo is None:\n",
    "        memo = {}\n",
    "    if start in memo:  \n",
    "        return memo[start]\n",
    "    if start >= len(text): \n",
    "        return [[]]\n",
    "\n",
    "    valid_splits = []\n",
    "    for end in range(start + 1,len(text) + 1):\n",
    "        current_substr = text[start:end]\n",
    "        if binary_search(words, current_substr):\n",
    "            for split in find_valid_splits(text, words, end, memo):\n",
    "                valid_splits.append([current_substr] + split)\n",
    "\n",
    "    memo[start] = valid_splits  \n",
    "    return valid_splits\n",
    "\n",
    "def decrypt_and_split(ciphertext, words):\n",
    "    \n",
    "    all_splits =find_valid_splits(ciphertext.rstrip('Z'), words)\n",
    "\n",
    "    if all_splits:\n",
    "        valid_split = min(all_splits, key=len)  \n",
    "        return ' '.join(valid_split)\n",
    "    else:\n",
    "        return False\n",
    "\n",
    "\n",
    "temp_words = [\"APPLE\", \"PRE\",\"PREVIOUS\", \"ZEBRA\"]  \n",
    "temp_words = sorted(temp_words)\n",
    "ciphertext = \"PREVIOUS\"\n",
    "\n",
    "\n",
    "result =decrypt_and_split(ciphertext, temp_words)\n",
    "if result:\n",
    "    print(\"Decrypted and Split Sentence:\", result)\n",
    "else:\n",
    "    print(\"Failed to decrypt and split the sentence.\")\n",
    "    \n",
    "\n",
    "ciphertext = \"PREVIOUSAPPLES\"\n",
    "\n",
    "\n",
    "result = decrypt_and_split(ciphertext, temp_words)\n",
    "if result:\n",
    "    print(\"Decrypted and Split Sentence:\", result)\n",
    "else:\n",
    "    print(\"Failed to decrypt and split the sentence.\")"
   ]
  },
  {
   "cell_type": "code",
   "execution_count": 7,
   "metadata": {},
   "outputs": [
    {
     "name": "stdout",
     "output_type": "stream",
     "text": [
      "Encrypted Text: ELHLORATNSOSPITONICIHEPRZ\n"
     ]
    }
   ],
   "source": [
    "def pad_text(text, block_size):\n",
    " \n",
    "    padding_size =block_size - (len(text) % block_size)\n",
    "    if padding_size < block_size:\n",
    "        text += 'Z' *padding_size\n",
    "    return text\n",
    "\n",
    "def transposition_encrypt(text, block_size, key):\n",
    "\n",
    "    text =pad_text(text, block_size)\n",
    "    encrypted_text = ''\n",
    "    \n",
    "\n",
    "    for block_start in range(0, len(text), block_size):\n",
    "        block = text[block_start:block_start + block_size]\n",
    "\n",
    "        for k in key:\n",
    "            encrypted_text +=block[k-1] \n",
    "    \n",
    "    return encrypted_text\n",
    "\n",
    "# 예제 사용\n",
    "block_size = 5\n",
    "key = [2, 3, 1, 4, 5] \n",
    "plaintext = \"HELLOTRANSPOSITIONCIPHER\"\n",
    "encrypted_text = transposition_encrypt(plaintext, block_size, key)\n",
    "print(\"Encrypted Text:\", encrypted_text)"
   ]
  },
  {
   "cell_type": "code",
   "execution_count": 8,
   "metadata": {},
   "outputs": [
    {
     "name": "stdout",
     "output_type": "stream",
     "text": [
      "Decrypted Text: LHELOATRNSSPOITNIOCIEPHR\n"
     ]
    }
   ],
   "source": [
    "def transposition_decrypt(encrypted_text, block_size, key):\n",
    "\n",
    "    decrypted_text = ''\n",
    "    inverse_key =sorted(range(len(key)), key=lambda k: key[k])\n",
    "    \n",
    "    for block_start in range(0, len(encrypted_text), block_size):\n",
    "        block = encrypted_text[block_start:block_start + block_size]\n",
    "\n",
    "        temp_block =[''] * block_size\n",
    "        for i, k in enumerate(inverse_key):\n",
    "            temp_block[k] = block[i]\n",
    "        decrypted_text +=''.join(temp_block)\n",
    "    \n",
    "    return decrypted_text.rstrip('Z') \n",
    "\n",
    "# 예제 사용\n",
    "decrypted_text = transposition_decrypt(encrypted_text, block_size, key)\n",
    "print(\"Decrypted Text:\", decrypted_text)"
   ]
  },
  {
   "cell_type": "code",
   "execution_count": 9,
   "metadata": {},
   "outputs": [],
   "source": [
    "def generate_transposition_keys(block_size):\n",
    "    return list(itertools.permutations(range(block_size)))\n",
    "\n",
    "def transposition_encrypt_with_random_key(text, block_size):\n",
    "    keys =generate_transposition_keys(block_size)\n",
    "    random_key = random.choice(keys)\n",
    "    encrypted_text =transposition_encrypt(text, block_size, random_key)\n",
    "    return encrypted_text, random_key\n",
    "\n",
    "def transposition_decrypt_with_all_keys(encrypted_text, block_size, word_list,hint):\n",
    "    \n",
    "    keys =generate_transposition_keys(block_size)\n",
    "    for key in keys:\n",
    "        decrypted_text =transposition_decrypt(encrypted_text, block_size, key)\n",
    "        \n",
    "        if decrypted_text.startswith(hint) and decrypt_and_split(decrypted_text, word_list):  # 유효한 평문인지 확인\n",
    "            print(\"Decrypted and Split Sentence with key {}: {}\".format(key, decrypted_text))\n",
    "            return  \n",
    "    else:\n",
    "        print(\"Failed to decrypt and split the sentence.\")"
   ]
  },
  {
   "cell_type": "code",
   "execution_count": 10,
   "metadata": {},
   "outputs": [],
   "source": [
    "def measure_decryption_time(word_list, trials=100):\n",
    "    start_time = time.time()\n",
    "    for _ in range(trials):\n",
    "        \n",
    "        sentence,hint =generate_random_sentence(word_list, random.randint(7, 10))\n",
    "        \n",
    "        encrypted_text, shift =transposition_encrypt_with_random_key(sentence, block_size)\n",
    "        transposition_decrypt_with_all_keys(encrypted_text,block_size,word_list,hint)\n",
    "    end_time = time.time()\n",
    "    return (end_time - start_time) / trials"
   ]
  },
  {
   "cell_type": "code",
   "execution_count": 11,
   "metadata": {},
   "outputs": [
    {
     "name": "stdout",
     "output_type": "stream",
     "text": [
      "Decrypted and Split Sentence with key (1, 4, 0, 2, 3): SCABINUSCARIBBEEBONSPIELKRAUSSDETRITIONPYOTHERAPYLIONPROOFREMIRRORASBESTUDOLPHOISH\n",
      "Decrypted and Split Sentence with key (3, 1, 2, 4, 0): AVARSCOCOMPOSERMATHESONSWIREBAGREBENZOINWINGOHANDFASTINGCPC\n",
      "Decrypted and Split Sentence with key (2, 0, 1, 3, 4): CONOLOPHUSPENSESTROWFERINGHEEINEXECRABLEDISEMBURDENIPSILATERALLY\n",
      "Decrypted and Split Sentence with key (2, 0, 3, 4, 1): UNCOMPLIMENTINGBLUEWEEDSMARABOUTCOOKSTOVEARPENSOFFENSELESSNETHINIMTANGLESTRIPHENYLMETHANE\n",
      "Decrypted and Split Sentence with key (3, 2, 1, 0, 4): STARLESSNESSLEEWARDPREFRIENDLYENTODERMICEARTHTONGUESUPERVICTORIOUSNESSSTEREOSCOPISMBORACHIOTELEGRAM\n",
      "Decrypted and Split Sentence with key (3, 0, 4, 2, 1): OUTBLOOMEDRAFFINGINVENTABLEEMULSIBLEFLINCHEDGOLDBRICKSBUMPINGLYWENNEBERGITEANNOYERSDEPICTS\n",
      "Decrypted and Split Sentence with key (4, 2, 3, 0, 1): SNODLYGONOCHEMEKITWEOWENISTGANOIDSVOCTHALIDOMIDEOPHTHALMOTONOMETRYWINSTERCHAITRA\n",
      "Decrypted and Split Sentence with key (1, 3, 2, 0, 4): TREMOLOSOOBRAZILSWASTICAHYPERCOAGULABILITYRUBRICATIONANASTASIMOSGRAPHIDIACEAEBARLAFUMBLE\n",
      "Decrypted and Split Sentence with key (2, 1, 3, 0, 4): BASCIOCOALIFYHARDSTANDSPOLYPINNATETAHUYASCYTHIADIAGRAPHICS\n",
      "Decrypted and Split Sentence with key (3, 0, 4, 1, 2): SALTIMBANCODEVOLVEMENTSSPICELANDILLECTBARDOLPHROCCELLACEAEIMPLEMENTIFEROUSOVERACTINGTIRINGLY\n",
      "Decrypted and Split Sentence with key (4, 1, 0, 2, 3): UNEDIBLYSAHAPTINIMBORDERCROSSLEYOUTFOOLNONASBESTINEUNNECESSITATINGCORNBALLS\n",
      "Decrypted and Split Sentence with key (3, 1, 4, 0, 2): ROSELAWNFORMULANEWSMONGERYWIREDDEMIBRIGADEAGRALFEYESTMETRICIZEDOELINGSCATTY\n",
      "Decrypted and Split Sentence with key (0, 2, 3, 4, 1): HETERATOMICISMATICALINDULGENCIESBEFOULSNORICCORRINNEMOTHERKIN\n",
      "Decrypted and Split Sentence with key (1, 3, 2, 4, 0): SEPTOTOMYMINYANSGOLDBRICKSBEDAWNLYNNEAMATERNOLOGYOBJURGATIVELY\n",
      "Decrypted and Split Sentence with key (4, 0, 2, 3, 1): CYLINDROMATOUSDISTINGUEKEFFELINTERCOSTALLYACETAFORAMENMYSTACINOUS\n",
      "Decrypted and Split Sentence with key (4, 0, 3, 1, 2): VGFMAFFAPOLITICIANSPYRAMIDICALRESILIENCESALPETRAGIUSUNFEUEDALEN\n",
      "Decrypted and Split Sentence with key (2, 0, 4, 1, 3): CHIFFONNIERENGOUMENTHAWFINCHEUPLOIDSUPBURNAFTERSCHOOLWEREWOLFSEMITONAL\n",
      "Decrypted and Split Sentence with key (2, 1, 3, 4, 0): ESOPHAGALGIANELSONNIHILITYMUSSULMANPREFACERSPORTTHIOARSENITETRALATITION\n",
      "Decrypted and Split Sentence with key (4, 3, 1, 2, 0): GAVOTTINGSUFFIXIONMOLTENLYALTERINGHERNSHAWSTRIPFILMUNNECESSITATING\n",
      "Decrypted and Split Sentence with key (0, 3, 4, 2, 1): BODYMAKINGDENATURATIONALIMPASSIBLYOUTBOOKADAGIETTOSGALANYABLEGATESNIGUAINFIELDERSGWELY\n",
      "Decrypted and Split Sentence with key (4, 3, 2, 0, 1): IMPORTUNATEORCHELMOPOKESLEPERDOMVESICALCONSUMERSHIPROENTGENISMOVERCONSUME\n",
      "Decrypted and Split Sentence with key (3, 4, 0, 2, 1): FORGINGIDEALIZEPROCTECTOMYLAMELLIROSTRESIOLITEVISNEYACUATINGCOLLATERALIZEDMATURENESSCRANNOCK\n",
      "Decrypted and Split Sentence with key (1, 0, 2, 3, 4): MYCORRHIZAESINISTROGYRATEEMEEJACKINGBOOTPRINTADAGIETTOSBRAGGADOCIOSHORATIUS\n",
      "Decrypted and Split Sentence with key (4, 1, 0, 2, 3): REBLOWNSNODLYCICERONIANISMSSUBMAXILLARYOPACITEBLIGHTERDOBBIEWALSH\n",
      "Decrypted and Split Sentence with key (0, 1, 4, 2, 3): DAGGNAEMPIRISTICCUPRUMSATTITUDISTBITMAPSHUFFLINGLYANDROCLEAMOTIVATIONUNOVERCOMESAHAPTIN\n",
      "Decrypted and Split Sentence with key (0, 1, 4, 3, 2): LARDWORMHAEMOIDSTREPSIPTERANUNSHYSOCIORELIGIOUSLHIAMBADIVERSEANALYSIS\n",
      "Decrypted and Split Sentence with key (2, 3, 4, 0, 1): BENISONSENDOTHERMALOTTILIEGALLERYVIOLENTNESSDIPLEURULEPERITOMOUSHYDROPROPULSIONNASALISESCURVEDNESS\n",
      "Decrypted and Split Sentence with key (1, 4, 0, 3, 2): AUSTERELYSKETCHIESTONOPORDONPRETRANSMISSIONUNHANDSELEDOLFEKALEVA\n",
      "Decrypted and Split Sentence with key (3, 4, 0, 2, 1): CUDSATORPINNATOPECTINATEELECTRICALIZEGOOSERIESJOWARUNNECESSITATINGCOLLOMIAPROREVISIONULTIMATED\n",
      "Decrypted and Split Sentence with key (2, 1, 0, 4, 3): UNPERFORABLECLYFAKERREINQUIREDBUSINGFOURBLECOVENTRIZEWILLOWERLABRETIMBELLIC\n",
      "Decrypted and Split Sentence with key (4, 1, 2, 3, 0): SEEDGALLEXHALABLEOVERHURRIEDRUSTICUMBREWERYUNCHEEREDEQUIBIRADIATEVOLATILITY\n",
      "Decrypted and Split Sentence with key (2, 4, 0, 1, 3): STOLONATECCAFSROVINGENDOSTITISOXYGENIZINGSPREEDUNREVELINGARDISENGOUMENT\n",
      "Decrypted and Split Sentence with key (1, 0, 3, 2, 4): VAGRANTNESSOLMSTEDVILLEVIRUSEMICSTICKERSUNSALEABLETRAGALBANONBASTERESOPHAGOSTENOSISNOVATE\n",
      "Decrypted and Split Sentence with key (3, 2, 4, 0, 1): PEEVEDSHAMATEURLIGULARHEMATOPERICARDIUMSTEARIFORMSWIVEEXTRANATIONALGIBBETS\n",
      "Decrypted and Split Sentence with key (4, 1, 0, 3, 2): MENTALISTCANVASERPYRRHICHIUSMICROBICIDERETRANSPLANTSMISJOINUTRICULIFEROUSUNSHIFTS\n",
      "Decrypted and Split Sentence with key (3, 4, 0, 1, 2): OATHFULTALENTFREENESSESMIMETISMCLATTERINGMYXOTHECASHOOINGPSEUDOLICHENROSELLESSEVERIES\n",
      "Decrypted and Split Sentence with key (0, 4, 2, 1, 3): SECULARISTICPOPEISMORNITHINEHYPERALGETICOVERINDUSTRIALISMWITHSTANDINGNESSEUPLOIDS\n",
      "Decrypted and Split Sentence with key (4, 3, 2, 1, 0): MEDIOCREVERNOLENINSKQUERECHOJOPAEULOGISEDCASTEAUCASTLELIKEDEKABRIST\n",
      "Decrypted and Split Sentence with key (4, 3, 1, 2, 0): CLUBMENSPANISHHEATEDNESSEPIGNATHOUSTREPANNINGLYSNOWSHOECOLI\n",
      "Decrypted and Split Sentence with key (1, 4, 3, 0, 2): PREDEVISINGASHINESUBINTELLECTIONROBUSTFULNESSTRAMMELLINGORTHOPHYRETALLITHESWHOPPINGPLAYBOY\n",
      "Decrypted and Split Sentence with key (3, 2, 0, 4, 1): ROMEONBALDWINMISORGANIZECAMPBALLPHYTOZOARIAOPTIONEEUNDERROWERUNSEALSPUMPKNOT\n",
      "Decrypted and Split Sentence with key (3, 4, 2, 1, 0): UNLANCEDCONTREDANSESBOWYANGACCRUERTRICENTRALSACCHARIZEDPIGGIES\n",
      "Decrypted and Split Sentence with key (2, 3, 4, 0, 1): SENEGASAGACIATESPOSHYRUSHENCRETINIZEDCLOACINALPEDLARMEDUSAN\n",
      "Decrypted and Split Sentence with key (1, 0, 4, 2, 3): SUBNOTATIONDEPOSITLIBERTYLESSUNEFFETENESSSIKARSOULSRADIOSENSIBILITYERICIUSSHISH\n",
      "Decrypted and Split Sentence with key (2, 4, 0, 3, 1): MINGLESLICHENISTHARLEQUINISMPINGUESCENTUNATTEMPEREDPARIETUNCOMMISERATED\n",
      "Decrypted and Split Sentence with key (3, 2, 4, 1, 0): REWEAVEDPREAPPOINTINGSUBNOTATIONUNADDITIONEDASYNCHRONOUSNEGROISEBOUNTITHFROWZILY\n",
      "Decrypted and Split Sentence with key (1, 4, 0, 2, 3): ABRAHAMICSESPERALLOCALLEDCHEAPSEXPENDIBLEEUCOPEPODAHELLELTZAPPERS\n",
      "Decrypted and Split Sentence with key (2, 0, 3, 4, 1): CULMINATATIONSPRUDDIPLOPERISTOMICNONERECTIONRASANTBURGRAVESLATIFOLIA\n",
      "Decrypted and Split Sentence with key (0, 1, 3, 4, 2): HOMOEOMEROUSATMOSPHERECCAFSNONETHNOLOGICPREERUPTIVEMICROMETEOROLOGISTTRAMMELLINGTAMMANYPOTATESYLVANRY\n",
      "Decrypted and Split Sentence with key (1, 0, 2, 4, 3): UNDEPRECATINGBECOOMPROLIAAPPOINTIVEPREPENSELYGUARANTORSNONENTRIES\n",
      "Decrypted and Split Sentence with key (1, 2, 4, 0, 3): NONAMENABLENESSBORINGLYFUZZINGRECTANGLECHOPSTOCKHORNTURFIEST\n",
      "Decrypted and Split Sentence with key (4, 0, 3, 1, 2): ONOMATOUSBARRICADOTROTSKYISMSNAWEDDAMAGEMENTPUCKERBUSHINTERCHASE\n",
      "Decrypted and Split Sentence with key (0, 2, 3, 4, 1): DETRENCHJACENTUNBREAKFASTEDFAMIGLIETTIBENABPELLETEDPECULIARLYCOSMONAUTICSUPERFLUOUSLY\n",
      "Decrypted and Split Sentence with key (3, 4, 1, 0, 2): SUSIANUNPERPETUATINGBEEWEEDNORTHERNIZENONRECTANGULARITYNONSHEDDINGAMALAITALIGATIONUNPENDENT\n",
      "Decrypted and Split Sentence with key (3, 4, 1, 2, 0): OPPOSITIPOLAREFFOLIATETANGENTALLYCHUCKLEHEADEDADEPHAGIASEMICONTINENTDISTRIBUTETOELIKESEISMICALJAMBEE\n",
      "Decrypted and Split Sentence with key (1, 0, 4, 2, 3): UNLIBIDINOUSBADACSONYIUNSTINTEDLABIOVELARISEDDISTRACTIBLECHIPPABLENONSUBSTANTIALLYFISHINGSORCHESTIC\n",
      "Decrypted and Split Sentence with key (4, 0, 3, 2, 1): APOCALYPSTHEDGINGLYPROCEDURALSPSEUDOISOMETRICAMIABLYUNDEPENDABLECASEMAKINGBANALLYCHERICEWINDOWLESS\n",
      "Decrypted and Split Sentence with key (1, 3, 0, 2, 4): REVACATINGREMITTORNONCENSORIOUSLYSMELLERREJOICESPIPERINESCHAITRASUBURBIAS\n",
      "Decrypted and Split Sentence with key (3, 2, 0, 4, 1): PROAGULEHYBRIDALHEARTSOREPICOLINESGUNGEZLATOUSTELASTICIZINGJAPETUSTRUEINGFLUOROGEN\n",
      "Decrypted and Split Sentence with key (2, 3, 4, 1, 0): FRAISINGWYKERERUNSCHINUADEPRIORIZEHECHSHERIMANTITHERMINHSSDSMASTERDOMJACOBBA\n",
      "Decrypted and Split Sentence with key (3, 0, 1, 2, 4): LUMINARIESVEGETALCULESQUALINONREBELLIOUSNESSFOXTONGUEINTERNEEBOOZILY\n",
      "Decrypted and Split Sentence with key (0, 3, 4, 2, 1): ORCHESTICUNCONTESTABLENESSASININETERRORISERBENELUXUNITIZINGGASTROPATHY\n",
      "Decrypted and Split Sentence with key (1, 0, 4, 2, 3): RAPIDITYORCHIODYNIAGOWKCACKEDCIRROSTRATIVEINDEXATIONMYSTACINOUS\n",
      "Decrypted and Split Sentence with key (4, 0, 1, 2, 3): MORFOUNDMAMLUKSCHAPELWARDBEEWEEDPLEONASMPLAYSUNSOUNDINGSUFFUSEQUINISEXTSYLVA\n",
      "Decrypted and Split Sentence with key (1, 2, 3, 0, 4): CARLILEMANTLETVAUDISMNONTUTORIALPOLYOPIAUNFOLLOWABLEDISTRAUGHT\n",
      "Decrypted and Split Sentence with key (1, 0, 3, 2, 4): TYPYMONSTERHOODDEYSOWDONESREACHIEVEMENTADENODIASTASISCOMEUPPANCESLABIOLINGUAL\n",
      "Decrypted and Split Sentence with key (4, 0, 2, 3, 1): DERAILERCHUKKERSDEPARTSUNREVERENCEDWARDCORSSTYLLIMERCHANTSHIPUNCHARTEREDMERTH\n",
      "Decrypted and Split Sentence with key (0, 4, 1, 3, 2): HIEROLOGICSEPARABLENESSLOGICISEDLONGSHUCKSTRANQUILIZINGLYRESPLENDENTLYCONOLOPHUSGEOLOGISE\n",
      "Decrypted and Split Sentence with key (4, 0, 3, 2, 1): MISAPPREHENSIVENESSSUSPIRESUNREVERENTNEUTRALISEPREPENDFRAGMENTATIONSIRONMONGERYBOCALFINNBEARAUNLIBIDINOUS\n",
      "Decrypted and Split Sentence with key (0, 1, 2, 4, 3): SKERRICKSOLONETSESUNSINUATELYSESQUICENTENNIALPSEUDOPLASMAFORMICINACOPIAGUE\n",
      "Decrypted and Split Sentence with key (0, 4, 2, 1, 3): BUTTERYFINGEREDMALORGANIZEDPHILANTHROPYFASTIGIATEDEMPTYUNPOSSESSABLEPERFUMESDELEINGINTRAMEDULLARY\n",
      "Decrypted and Split Sentence with key (1, 0, 2, 4, 3): ASWAILCICERUNIPOLARITYGIRZFELDENEXPANSIVITYDORNECKSORACULATEBERKELIUM\n",
      "Decrypted and Split Sentence with key (1, 3, 2, 0, 4): EMBRYOLOGICALLYNONSALEABLYTHAUMASINDARTCRUMBABLESACCOMYIDAESHOTEANASCHISTICPLEONASM\n",
      "Decrypted and Split Sentence with key (1, 0, 2, 4, 3): SNUFFERSSCROTUMSFLIRTATIOUSLYCUDSPOLOIBURGACYPHOMANDRAHOUSEMISTRESS\n",
      "Decrypted and Split Sentence with key (3, 1, 4, 2, 0): HOMEOPATHICIANLASCIVIOUSNESSIMMUNOELECTROPHORETICALLYFANECHKABICORPOREALVISARDASSIGNEDEPPEXHAUSTIVITYDIACRITICALLY\n",
      "Decrypted and Split Sentence with key (0, 1, 3, 4, 2): COINSPIREWHITHERANOMALOUSLYVOLUPERFIELDYAGREMENTSCACIQUESMAES\n",
      "Decrypted and Split Sentence with key (1, 0, 4, 3, 2): MIDTERMSTAMATAVEDISRATINGWIMPTRISECTSOUTTALKINGELECTROCARDIOGRAPHSCANDIOTE\n",
      "Decrypted and Split Sentence with key (1, 2, 0, 4, 3): COLONITISPUBISDOMABLEDEACTIVATIONSCANDIOTEUNEATABLELUKEWARMREAGREEUPHOIST\n",
      "Decrypted and Split Sentence with key (3, 0, 4, 1, 2): NGUNICYPRIDINIDAEOVERCONQUERSUBSIDIARIESLEVANIASWITCHLIKEUNWARLIKENESS\n",
      "Decrypted and Split Sentence with key (0, 3, 1, 2, 4): JACCHUSOVERTWISTPHLEBOLOGYOSCINHAFIZPERSIANIZECHARCOTOPPEDDUPLICIOUSTETRABASIC\n",
      "Decrypted and Split Sentence with key (2, 4, 1, 3, 0): OVERSOONANISIDINETOLLBOOTHKLEFFENSMALODOROUSLYQUINQUAGENARIANPWGTBISISICOLARESCRENOTHRIX\n",
      "Decrypted and Split Sentence with key (2, 3, 0, 1, 4): CHYMISTSDECOMPENSATESZINCICHAGIOLOGIESDEALLOCATESBURLEYCUEPOSTSCUTELLATRUDGEDANISIDINEPILI\n",
      "Decrypted and Split Sentence with key (4, 0, 2, 1, 3): TRANSLUCENCESSUBMENTAOUTWEIGHNAISKOSBLESSINGLYMYTHOLOGIZEDFOOTSTONE\n",
      "Decrypted and Split Sentence with key (4, 0, 2, 3, 1): REDDYSUPERFUSEPREGRACILEBOMBARDSOWLERYCONCHOMETRYURBSTASKSETTER\n",
      "Decrypted and Split Sentence with key (4, 2, 3, 0, 1): GONGMANSUBNOTATIONCORYDALISQSSBAPTISTRIESDIXABORTIONSUPERFANLICKERISHVIOLENTNESS\n",
      "Decrypted and Split Sentence with key (4, 2, 0, 1, 3): DOMINIONISMWADMEALAJANGLEMODIFIESEXOSTRAEWEREWOLFCONSARNPHALANGIIDTIERNEYSUBDUE\n",
      "Decrypted and Split Sentence with key (2, 1, 4, 3, 0): MARMORATEDKELLERTONFLORENCITAOVERPREOCCUPYSIEURSRAINPROOFWARNISONTENTWORKBARDOLPH\n",
      "Decrypted and Split Sentence with key (3, 0, 2, 1, 4): CONCURSOUNPRETENTIOUSNESSGAMBETTADEPITSHADOWGRAPHICMAGNETIFEROUSFIDEOS\n",
      "Decrypted and Split Sentence with key (3, 4, 1, 0, 2): INTROJECTTODDLESMAMMITIDESINAPPLICABLENESSUNPOLITENESSNONDETERMINATIVENESSDEZHNEVLOAVES\n",
      "Decrypted and Split Sentence with key (0, 3, 2, 1, 4): HIGHLANDMANWONDERMONGERUIUCSATISFACTIONARVICOLAINTOXICATEDLYSTEPFATHERHOODWESTLINS\n",
      "Decrypted and Split Sentence with key (4, 0, 1, 2, 3): KNITBACKUNSTINTEDPOLITELOSABLEALTERITYPSYCHOTHERAPIESSYMPATHETICALLYIRRATIONALIZEPLAIT\n",
      "Decrypted and Split Sentence with key (1, 2, 3, 0, 4): CRUPPERUNEQUALLYCOLLEAGUINGDISALLOWABLENESSENDIMANCHEJEJUNODUODENALOUTTINKLEDDEMAGOGSUNBRAVE\n",
      "Decrypted and Split Sentence with key (4, 3, 1, 0, 2): COGNOMENSEMULSIBLESACERDOTIUMPROMOVABLEOCHROGASTERMEGACITYENGRANDIZECLINKINGNONSOPHISTICASHTRAYS\n",
      "Decrypted and Split Sentence with key (3, 1, 0, 2, 4): RHABDOCOELIDANVIGUERIEDIEHLSCIROCCOSTROTTOIREDMICROCHIROPTERASCABRITIESNONAGRARIANERTH\n",
      "Decrypted and Split Sentence with key (3, 1, 2, 4, 0): CELESTIFYEMANATIVELYCACIQUESHISTOMORPHOLOGICALMESTESOESBURNOVERPATHOPHORESISHYLIDAE\n",
      "Decrypted and Split Sentence with key (1, 4, 3, 0, 2): ALTAIRZINCICLAVISHLYRETEARSCOUTHINESSSHOVELSFULSARSENSASHTRAYSCASSADYVALUABLY\n",
      "Decrypted and Split Sentence with key (2, 4, 1, 0, 3): OCELLATIONACCOMPLISHINGTABULEAMUCHCOWAREROOMKELOWNAPLISSES\n",
      "Decrypted and Split Sentence with key (2, 3, 4, 1, 0): PREDEMOCRACYAIGIALOSAURUSMALURINAEWILLOWERMONARCHIESCHRYSOGENDISINCARNATEWHITEWASHER\n",
      "Decrypted and Split Sentence with key (2, 3, 4, 1, 0): COLLOPOVIGENESISDENNEDPERISCOPALTREVORRPHYTOSAURIATUZZLEMAMBOSINTERTHRONGINGCHAUNT\n",
      "Decrypted and Split Sentence with key (3, 0, 1, 4, 2): PERIPHRACTICIDIOMATICALFONTICULUSRINGHALSESTRANSPORTIVEROISTERINGLYMINIATURIZATION\n",
      "0.002493860721588135\n"
     ]
    }
   ],
   "source": [
    "print(measure_decryption_time(words,100))"
   ]
  },
  {
   "cell_type": "code",
   "execution_count": null,
   "metadata": {},
   "outputs": [],
   "source": []
  },
  {
   "cell_type": "code",
   "execution_count": null,
   "metadata": {},
   "outputs": [],
   "source": []
  },
  {
   "cell_type": "code",
   "execution_count": null,
   "metadata": {},
   "outputs": [],
   "source": []
  }
 ],
 "metadata": {
  "kernelspec": {
   "display_name": "huggvenv",
   "language": "python",
   "name": "huggvenv"
  },
  "language_info": {
   "codemirror_mode": {
    "name": "ipython",
    "version": 3
   },
   "file_extension": ".py",
   "mimetype": "text/x-python",
   "name": "python",
   "nbconvert_exporter": "python",
   "pygments_lexer": "ipython3",
   "version": "3.7.6"
  }
 },
 "nbformat": 4,
 "nbformat_minor": 4
}
