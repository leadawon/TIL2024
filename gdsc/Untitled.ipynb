{
 "cells": [
  {
   "cell_type": "code",
   "execution_count": 1,
   "metadata": {},
   "outputs": [
    {
     "name": "stderr",
     "output_type": "stream",
     "text": [
      "/home/leadawon5/gitfiles/venvs/huggvenv/lib/python3.7/site-packages/tqdm/auto.py:21: TqdmWarning: IProgress not found. Please update jupyter and ipywidgets. See https://ipywidgets.readthedocs.io/en/stable/user_install.html\n",
      "  from .autonotebook import tqdm as notebook_tqdm\n",
      "Downloading config.json: 100%|█████████████████████████████████████████████████████████| 965/965 [00:00<00:00, 85.6kB/s]\n",
      "Downloading pytorch_model.bin: 100%|█████████████████████████████████████████████████| 499M/499M [00:24<00:00, 20.2MB/s]\n",
      "Downloading tokenizer_config.json: 100%|████████████████████████████████████████████████| 376/376 [00:00<00:00, 167kB/s]\n",
      "Downloading vocab.json: 100%|████████████████████████████████████████████████████████| 798k/798k [00:00<00:00, 1.03MB/s]\n",
      "Downloading merges.txt: 100%|████████████████████████████████████████████████████████| 456k/456k [00:00<00:00, 1.17MB/s]\n",
      "Downloading tokenizer.json: 100%|██████████████████████████████████████████████████| 2.11M/2.11M [00:00<00:00, 2.14MB/s]\n",
      "Downloading (…)cial_tokens_map.json: 100%|██████████████████████████████████████████████| 239/239 [00:00<00:00, 114kB/s]\n",
      "Xformers is not installed correctly. If you want to use memory_efficient_attention to accelerate training use the following command to install Xformers\n",
      "pip install xformers.\n"
     ]
    },
    {
     "data": {
      "text/plain": [
       "[{'label': 'not depression', 'score': 0.6145934462547302}]"
      ]
     },
     "execution_count": 1,
     "metadata": {},
     "output_type": "execute_result"
    }
   ],
   "source": [
    "from transformers import pipeline\n",
    "classifier = pipeline(\"text-classification\", model=\"paulagarciaserrano/roberta-depression-detection\")\n",
    "your_text = \"I am very sad.\"\n",
    "classifier (your_text)"
   ]
  },
  {
   "cell_type": "code",
   "execution_count": 2,
   "metadata": {},
   "outputs": [
    {
     "data": {
      "text/plain": [
       "[{'label': 'not depression', 'score': 0.988646388053894}]"
      ]
     },
     "execution_count": 2,
     "metadata": {},
     "output_type": "execute_result"
    }
   ],
   "source": [
    "classifier (\"Lately, it feels like I've lost interest in life.\")"
   ]
  },
  {
   "cell_type": "code",
   "execution_count": null,
   "metadata": {},
   "outputs": [],
   "source": []
  }
 ],
 "metadata": {
  "kernelspec": {
   "display_name": "huggvenv",
   "language": "python",
   "name": "huggvenv"
  },
  "language_info": {
   "codemirror_mode": {
    "name": "ipython",
    "version": 3
   },
   "file_extension": ".py",
   "mimetype": "text/x-python",
   "name": "python",
   "nbconvert_exporter": "python",
   "pygments_lexer": "ipython3",
   "version": "3.7.6"
  }
 },
 "nbformat": 4,
 "nbformat_minor": 4
}
